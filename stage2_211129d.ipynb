{
 "cells": [
  {
   "cell_type": "markdown",
   "id": "2a82508e",
   "metadata": {},
   "source": [
    "# Stage2 機械学習Report \n",
    "##### (線形回帰モデル/非線形回帰モデル/ロジスティック回帰モデル/主成分分析/アルゴリズム/サポートベクターマシーン)\n",
    "\n",
    "## 回帰問題\n",
    "### 入力（離散または連続値）から出力を予測する問題\n",
    "#### 　線形で予測　------> 　線形回帰モデル\n",
    "#### 非線形で予測　------> 非線形回帰モデル\n",
    "#### \n",
    "#### 回帰で扱うデータ\n",
    "##### 入力(説明変数または特徴量）  \n",
    "#### &emsp;&emsp; $ x= (x_1 , x_2 , \\cdots ,x_m )^ \\mathrm{T} \\in  \\mathbb{R}^m  $  \n",
    "#### 出力(目的変数）  \n",
    "#### &emsp;&emsp; $ y \\in \\mathbb{R}^1  $  \n",
    "## 1.線形回帰モデル  \n",
    "#### 教師あり学習\n",
    "#### 入力とm次元パラメータの線形結合を出力するモデル  \n",
    "##### パラメータ　$ \\boldsymbol{w} = (w_1,w_2, \\cdots , w_m )^ \\mathrm{T} )\\in  \\mathbb{R}^m $  \n",
    "##### 線形結合　$ \\hat{y} = w^ \\mathrm{T} x + w_0 =\\sum _{j=1} ^{m} {w_jx_j} + w_0 $  \n",
    "#####  (モデルの出力値ベクトル)=(学習データの説明変数行列)×(回帰係数ベクトル)+(切片ベクトル)  \n",
    "#### パラメータの更新方法：最小二乗法によって算出。"
   ]
  },
  {
   "cell_type": "markdown",
   "id": "8ba8ff74",
   "metadata": {},
   "source": [
    "\n",
    "#### 線形結合とは、入力とパラメータの内積である。\n",
    "###### $w $ パラメータ--->　重み(weight ), 切片(バイアス)を加えたもの。\n",
    "###### 重みは正の値をつけると、特徴量を増加させる。負の値をつけると現象させる。\n",
    "###### 大きい値だと影響力を増すことになる。\n",
    "###### 入力ベクトルが多次元でも出力は一次元（スカラ）になる。"
   ]
  },
  {
   "cell_type": "markdown",
   "id": "3a0ef88e",
   "metadata": {},
   "source": [
    "## 線形回帰モデル　ハンズオン"
   ]
  },
  {
   "cell_type": "code",
   "execution_count": 3,
   "id": "5885a1c6",
   "metadata": {},
   "outputs": [
    {
     "name": "stdout",
     "output_type": "stream",
     "text": [
      "{'data': array([[6.3200e-03, 1.8000e+01, 2.3100e+00, ..., 1.5300e+01, 3.9690e+02,\n",
      "        4.9800e+00],\n",
      "       [2.7310e-02, 0.0000e+00, 7.0700e+00, ..., 1.7800e+01, 3.9690e+02,\n",
      "        9.1400e+00],\n",
      "       [2.7290e-02, 0.0000e+00, 7.0700e+00, ..., 1.7800e+01, 3.9283e+02,\n",
      "        4.0300e+00],\n",
      "       ...,\n",
      "       [6.0760e-02, 0.0000e+00, 1.1930e+01, ..., 2.1000e+01, 3.9690e+02,\n",
      "        5.6400e+00],\n",
      "       [1.0959e-01, 0.0000e+00, 1.1930e+01, ..., 2.1000e+01, 3.9345e+02,\n",
      "        6.4800e+00],\n",
      "       [4.7410e-02, 0.0000e+00, 1.1930e+01, ..., 2.1000e+01, 3.9690e+02,\n",
      "        7.8800e+00]]), 'target': array([24. , 21.6, 34.7, 33.4, 36.2, 28.7, 22.9, 27.1, 16.5, 18.9, 15. ,\n",
      "       18.9, 21.7, 20.4, 18.2, 19.9, 23.1, 17.5, 20.2, 18.2, 13.6, 19.6,\n",
      "       15.2, 14.5, 15.6, 13.9, 16.6, 14.8, 18.4, 21. , 12.7, 14.5, 13.2,\n",
      "       13.1, 13.5, 18.9, 20. , 21. , 24.7, 30.8, 34.9, 26.6, 25.3, 24.7,\n",
      "       21.2, 19.3, 20. , 16.6, 14.4, 19.4, 19.7, 20.5, 25. , 23.4, 18.9,\n",
      "       35.4, 24.7, 31.6, 23.3, 19.6, 18.7, 16. , 22.2, 25. , 33. , 23.5,\n",
      "       19.4, 22. , 17.4, 20.9, 24.2, 21.7, 22.8, 23.4, 24.1, 21.4, 20. ,\n",
      "       20.8, 21.2, 20.3, 28. , 23.9, 24.8, 22.9, 23.9, 26.6, 22.5, 22.2,\n",
      "       23.6, 28.7, 22.6, 22. , 22.9, 25. , 20.6, 28.4, 21.4, 38.7, 43.8,\n",
      "       33.2, 27.5, 26.5, 18.6, 19.3, 20.1, 19.5, 19.5, 20.4, 19.8, 19.4,\n",
      "       21.7, 22.8, 18.8, 18.7, 18.5, 18.3, 21.2, 19.2, 20.4, 19.3, 22. ,\n",
      "       20.3, 20.5, 17.3, 18.8, 21.4, 15.7, 16.2, 18. , 14.3, 19.2, 19.6,\n",
      "       23. , 18.4, 15.6, 18.1, 17.4, 17.1, 13.3, 17.8, 14. , 14.4, 13.4,\n",
      "       15.6, 11.8, 13.8, 15.6, 14.6, 17.8, 15.4, 21.5, 19.6, 15.3, 19.4,\n",
      "       17. , 15.6, 13.1, 41.3, 24.3, 23.3, 27. , 50. , 50. , 50. , 22.7,\n",
      "       25. , 50. , 23.8, 23.8, 22.3, 17.4, 19.1, 23.1, 23.6, 22.6, 29.4,\n",
      "       23.2, 24.6, 29.9, 37.2, 39.8, 36.2, 37.9, 32.5, 26.4, 29.6, 50. ,\n",
      "       32. , 29.8, 34.9, 37. , 30.5, 36.4, 31.1, 29.1, 50. , 33.3, 30.3,\n",
      "       34.6, 34.9, 32.9, 24.1, 42.3, 48.5, 50. , 22.6, 24.4, 22.5, 24.4,\n",
      "       20. , 21.7, 19.3, 22.4, 28.1, 23.7, 25. , 23.3, 28.7, 21.5, 23. ,\n",
      "       26.7, 21.7, 27.5, 30.1, 44.8, 50. , 37.6, 31.6, 46.7, 31.5, 24.3,\n",
      "       31.7, 41.7, 48.3, 29. , 24. , 25.1, 31.5, 23.7, 23.3, 22. , 20.1,\n",
      "       22.2, 23.7, 17.6, 18.5, 24.3, 20.5, 24.5, 26.2, 24.4, 24.8, 29.6,\n",
      "       42.8, 21.9, 20.9, 44. , 50. , 36. , 30.1, 33.8, 43.1, 48.8, 31. ,\n",
      "       36.5, 22.8, 30.7, 50. , 43.5, 20.7, 21.1, 25.2, 24.4, 35.2, 32.4,\n",
      "       32. , 33.2, 33.1, 29.1, 35.1, 45.4, 35.4, 46. , 50. , 32.2, 22. ,\n",
      "       20.1, 23.2, 22.3, 24.8, 28.5, 37.3, 27.9, 23.9, 21.7, 28.6, 27.1,\n",
      "       20.3, 22.5, 29. , 24.8, 22. , 26.4, 33.1, 36.1, 28.4, 33.4, 28.2,\n",
      "       22.8, 20.3, 16.1, 22.1, 19.4, 21.6, 23.8, 16.2, 17.8, 19.8, 23.1,\n",
      "       21. , 23.8, 23.1, 20.4, 18.5, 25. , 24.6, 23. , 22.2, 19.3, 22.6,\n",
      "       19.8, 17.1, 19.4, 22.2, 20.7, 21.1, 19.5, 18.5, 20.6, 19. , 18.7,\n",
      "       32.7, 16.5, 23.9, 31.2, 17.5, 17.2, 23.1, 24.5, 26.6, 22.9, 24.1,\n",
      "       18.6, 30.1, 18.2, 20.6, 17.8, 21.7, 22.7, 22.6, 25. , 19.9, 20.8,\n",
      "       16.8, 21.9, 27.5, 21.9, 23.1, 50. , 50. , 50. , 50. , 50. , 13.8,\n",
      "       13.8, 15. , 13.9, 13.3, 13.1, 10.2, 10.4, 10.9, 11.3, 12.3,  8.8,\n",
      "        7.2, 10.5,  7.4, 10.2, 11.5, 15.1, 23.2,  9.7, 13.8, 12.7, 13.1,\n",
      "       12.5,  8.5,  5. ,  6.3,  5.6,  7.2, 12.1,  8.3,  8.5,  5. , 11.9,\n",
      "       27.9, 17.2, 27.5, 15. , 17.2, 17.9, 16.3,  7. ,  7.2,  7.5, 10.4,\n",
      "        8.8,  8.4, 16.7, 14.2, 20.8, 13.4, 11.7,  8.3, 10.2, 10.9, 11. ,\n",
      "        9.5, 14.5, 14.1, 16.1, 14.3, 11.7, 13.4,  9.6,  8.7,  8.4, 12.8,\n",
      "       10.5, 17.1, 18.4, 15.4, 10.8, 11.8, 14.9, 12.6, 14.1, 13. , 13.4,\n",
      "       15.2, 16.1, 17.8, 14.9, 14.1, 12.7, 13.5, 14.9, 20. , 16.4, 17.7,\n",
      "       19.5, 20.2, 21.4, 19.9, 19. , 19.1, 19.1, 20.1, 19.9, 19.6, 23.2,\n",
      "       29.8, 13.8, 13.3, 16.7, 12. , 14.6, 21.4, 23. , 23.7, 25. , 21.8,\n",
      "       20.6, 21.2, 19.1, 20.6, 15.2,  7. ,  8.1, 13.6, 20.1, 21.8, 24.5,\n",
      "       23.1, 19.7, 18.3, 21.2, 17.5, 16.8, 22.4, 20.6, 23.9, 22. , 11.9]), 'feature_names': array(['CRIM', 'ZN', 'INDUS', 'CHAS', 'NOX', 'RM', 'AGE', 'DIS', 'RAD',\n",
      "       'TAX', 'PTRATIO', 'B', 'LSTAT'], dtype='<U7'), 'DESCR': \".. _boston_dataset:\\n\\nBoston house prices dataset\\n---------------------------\\n\\n**Data Set Characteristics:**  \\n\\n    :Number of Instances: 506 \\n\\n    :Number of Attributes: 13 numeric/categorical predictive. Median Value (attribute 14) is usually the target.\\n\\n    :Attribute Information (in order):\\n        - CRIM     per capita crime rate by town\\n        - ZN       proportion of residential land zoned for lots over 25,000 sq.ft.\\n        - INDUS    proportion of non-retail business acres per town\\n        - CHAS     Charles River dummy variable (= 1 if tract bounds river; 0 otherwise)\\n        - NOX      nitric oxides concentration (parts per 10 million)\\n        - RM       average number of rooms per dwelling\\n        - AGE      proportion of owner-occupied units built prior to 1940\\n        - DIS      weighted distances to five Boston employment centres\\n        - RAD      index of accessibility to radial highways\\n        - TAX      full-value property-tax rate per $10,000\\n        - PTRATIO  pupil-teacher ratio by town\\n        - B        1000(Bk - 0.63)^2 where Bk is the proportion of blacks by town\\n        - LSTAT    % lower status of the population\\n        - MEDV     Median value of owner-occupied homes in $1000's\\n\\n    :Missing Attribute Values: None\\n\\n    :Creator: Harrison, D. and Rubinfeld, D.L.\\n\\nThis is a copy of UCI ML housing dataset.\\nhttps://archive.ics.uci.edu/ml/machine-learning-databases/housing/\\n\\n\\nThis dataset was taken from the StatLib library which is maintained at Carnegie Mellon University.\\n\\nThe Boston house-price data of Harrison, D. and Rubinfeld, D.L. 'Hedonic\\nprices and the demand for clean air', J. Environ. Economics & Management,\\nvol.5, 81-102, 1978.   Used in Belsley, Kuh & Welsch, 'Regression diagnostics\\n...', Wiley, 1980.   N.B. Various transformations are used in the table on\\npages 244-261 of the latter.\\n\\nThe Boston house-price data has been used in many machine learning papers that address regression\\nproblems.   \\n     \\n.. topic:: References\\n\\n   - Belsley, Kuh & Welsch, 'Regression diagnostics: Identifying Influential Data and Sources of Collinearity', Wiley, 1980. 244-261.\\n   - Quinlan,R. (1993). Combining Instance-Based and Model-Based Learning. In Proceedings on the Tenth International Conference of Machine Learning, 236-243, University of Massachusetts, Amherst. Morgan Kaufmann.\\n\", 'filename': 'D:\\\\anaconda\\\\lib\\\\site-packages\\\\sklearn\\\\datasets\\\\data\\\\boston_house_prices.csv'}\n"
     ]
    }
   ],
   "source": [
    "#from モジュール名 import クラス名（もしくは関数名や変数名）\n",
    "from sklearn.datasets import load_boston\n",
    "from pandas import DataFrame\n",
    "import numpy as np\n",
    "# ボストンデータを\"boston\"というインスタンスにインポート\n",
    "boston = load_boston()\n",
    "#インポートしたデータを確認(data / target / feature_names / DESCR)\n",
    "print(boston)"
   ]
  },
  {
   "cell_type": "code",
   "execution_count": 4,
   "id": "879571ab",
   "metadata": {},
   "outputs": [
    {
     "name": "stdout",
     "output_type": "stream",
     "text": [
      ".. _boston_dataset:\n",
      "\n",
      "Boston house prices dataset\n",
      "---------------------------\n",
      "\n",
      "**Data Set Characteristics:**  \n",
      "\n",
      "    :Number of Instances: 506 \n",
      "\n",
      "    :Number of Attributes: 13 numeric/categorical predictive. Median Value (attribute 14) is usually the target.\n",
      "\n",
      "    :Attribute Information (in order):\n",
      "        - CRIM     per capita crime rate by town\n",
      "        - ZN       proportion of residential land zoned for lots over 25,000 sq.ft.\n",
      "        - INDUS    proportion of non-retail business acres per town\n",
      "        - CHAS     Charles River dummy variable (= 1 if tract bounds river; 0 otherwise)\n",
      "        - NOX      nitric oxides concentration (parts per 10 million)\n",
      "        - RM       average number of rooms per dwelling\n",
      "        - AGE      proportion of owner-occupied units built prior to 1940\n",
      "        - DIS      weighted distances to five Boston employment centres\n",
      "        - RAD      index of accessibility to radial highways\n",
      "        - TAX      full-value property-tax rate per $10,000\n",
      "        - PTRATIO  pupil-teacher ratio by town\n",
      "        - B        1000(Bk - 0.63)^2 where Bk is the proportion of blacks by town\n",
      "        - LSTAT    % lower status of the population\n",
      "        - MEDV     Median value of owner-occupied homes in $1000's\n",
      "\n",
      "    :Missing Attribute Values: None\n",
      "\n",
      "    :Creator: Harrison, D. and Rubinfeld, D.L.\n",
      "\n",
      "This is a copy of UCI ML housing dataset.\n",
      "https://archive.ics.uci.edu/ml/machine-learning-databases/housing/\n",
      "\n",
      "\n",
      "This dataset was taken from the StatLib library which is maintained at Carnegie Mellon University.\n",
      "\n",
      "The Boston house-price data of Harrison, D. and Rubinfeld, D.L. 'Hedonic\n",
      "prices and the demand for clean air', J. Environ. Economics & Management,\n",
      "vol.5, 81-102, 1978.   Used in Belsley, Kuh & Welsch, 'Regression diagnostics\n",
      "...', Wiley, 1980.   N.B. Various transformations are used in the table on\n",
      "pages 244-261 of the latter.\n",
      "\n",
      "The Boston house-price data has been used in many machine learning papers that address regression\n",
      "problems.   \n",
      "     \n",
      ".. topic:: References\n",
      "\n",
      "   - Belsley, Kuh & Welsch, 'Regression diagnostics: Identifying Influential Data and Sources of Collinearity', Wiley, 1980. 244-261.\n",
      "   - Quinlan,R. (1993). Combining Instance-Based and Model-Based Learning. In Proceedings on the Tenth International Conference of Machine Learning, 236-243, University of Massachusetts, Amherst. Morgan Kaufmann.\n",
      "\n"
     ]
    }
   ],
   "source": [
    "#DESCR変数の中身を確認\n",
    "\n",
    "print(boston['DESCR'])"
   ]
  },
  {
   "cell_type": "code",
   "execution_count": 5,
   "id": "e37625df",
   "metadata": {},
   "outputs": [
    {
     "name": "stdout",
     "output_type": "stream",
     "text": [
      "['CRIM' 'ZN' 'INDUS' 'CHAS' 'NOX' 'RM' 'AGE' 'DIS' 'RAD' 'TAX' 'PTRATIO'\n",
      " 'B' 'LSTAT']\n"
     ]
    }
   ],
   "source": [
    "###### 補足\n",
    "# CRIM    : 町別の一人当たりの犯罪率 \n",
    "# ZN      : 25,000平方フィートを超える区画にゾーニングされた住宅用地の割合。 \n",
    "# INDUS   : 町ごとの非小売業のエーカーの割合 \n",
    "# CHAS    : チャールズ川ダミー変数 (= 1 路が川に接する場合 ; 0 それ以外)\n",
    "# NOX     : 一酸化窒素濃度 (ppm)\n",
    "# RM      : 住居あたりの平均部屋数\n",
    "# AGE     : 1940年より前に建てられた持ち家の割合\n",
    "# DIS     : 5つのボストン雇用センターまでの加重距離 \n",
    "# RAD     : 放射状高速道路へのアクセシビリティの指標 \n",
    "# TAX     : 10,000ドルあたりの全額固定資産税率 \n",
    "# PTRATIO : 町別の生徒と教師の比率 \n",
    "# B       : 1000（Bk-0.63）^ 2ここで、Bkは町ごとの黒人の割合です \n",
    "# LSTAT   : 人口の％低いステータス \n",
    "# MEDV    : 1000ドルの持ち家の中央値 \n",
    "\n",
    "#feature_names変数の中身を確認\n",
    "#カラム名\n",
    "print(boston['feature_names'])"
   ]
  },
  {
   "cell_type": "code",
   "execution_count": 6,
   "id": "dda9c9b2",
   "metadata": {},
   "outputs": [
    {
     "name": "stdout",
     "output_type": "stream",
     "text": [
      "[[6.3200e-03 1.8000e+01 2.3100e+00 ... 1.5300e+01 3.9690e+02 4.9800e+00]\n",
      " [2.7310e-02 0.0000e+00 7.0700e+00 ... 1.7800e+01 3.9690e+02 9.1400e+00]\n",
      " [2.7290e-02 0.0000e+00 7.0700e+00 ... 1.7800e+01 3.9283e+02 4.0300e+00]\n",
      " ...\n",
      " [6.0760e-02 0.0000e+00 1.1930e+01 ... 2.1000e+01 3.9690e+02 5.6400e+00]\n",
      " [1.0959e-01 0.0000e+00 1.1930e+01 ... 2.1000e+01 3.9345e+02 6.4800e+00]\n",
      " [4.7410e-02 0.0000e+00 1.1930e+01 ... 2.1000e+01 3.9690e+02 7.8800e+00]]\n"
     ]
    }
   ],
   "source": [
    "#data変数(説明変数)の中身を確認\n",
    "print(boston['data'])"
   ]
  },
  {
   "cell_type": "code",
   "execution_count": 9,
   "id": "0f4345f2",
   "metadata": {},
   "outputs": [
    {
     "name": "stdout",
     "output_type": "stream",
     "text": [
      "[24.  21.6 34.7 33.4 36.2 28.7 22.9 27.1 16.5 18.9 15.  18.9 21.7 20.4\n",
      " 18.2 19.9 23.1 17.5 20.2 18.2 13.6 19.6 15.2 14.5 15.6 13.9 16.6 14.8\n",
      " 18.4 21.  12.7 14.5 13.2 13.1 13.5 18.9 20.  21.  24.7 30.8 34.9 26.6\n",
      " 25.3 24.7 21.2 19.3 20.  16.6 14.4 19.4 19.7 20.5 25.  23.4 18.9 35.4\n",
      " 24.7 31.6 23.3 19.6 18.7 16.  22.2 25.  33.  23.5 19.4 22.  17.4 20.9\n",
      " 24.2 21.7 22.8 23.4 24.1 21.4 20.  20.8 21.2 20.3 28.  23.9 24.8 22.9\n",
      " 23.9 26.6 22.5 22.2 23.6 28.7 22.6 22.  22.9 25.  20.6 28.4 21.4 38.7\n",
      " 43.8 33.2 27.5 26.5 18.6 19.3 20.1 19.5 19.5 20.4 19.8 19.4 21.7 22.8\n",
      " 18.8 18.7 18.5 18.3 21.2 19.2 20.4 19.3 22.  20.3 20.5 17.3 18.8 21.4\n",
      " 15.7 16.2 18.  14.3 19.2 19.6 23.  18.4 15.6 18.1 17.4 17.1 13.3 17.8\n",
      " 14.  14.4 13.4 15.6 11.8 13.8 15.6 14.6 17.8 15.4 21.5 19.6 15.3 19.4\n",
      " 17.  15.6 13.1 41.3 24.3 23.3 27.  50.  50.  50.  22.7 25.  50.  23.8\n",
      " 23.8 22.3 17.4 19.1 23.1 23.6 22.6 29.4 23.2 24.6 29.9 37.2 39.8 36.2\n",
      " 37.9 32.5 26.4 29.6 50.  32.  29.8 34.9 37.  30.5 36.4 31.1 29.1 50.\n",
      " 33.3 30.3 34.6 34.9 32.9 24.1 42.3 48.5 50.  22.6 24.4 22.5 24.4 20.\n",
      " 21.7 19.3 22.4 28.1 23.7 25.  23.3 28.7 21.5 23.  26.7 21.7 27.5 30.1\n",
      " 44.8 50.  37.6 31.6 46.7 31.5 24.3 31.7 41.7 48.3 29.  24.  25.1 31.5\n",
      " 23.7 23.3 22.  20.1 22.2 23.7 17.6 18.5 24.3 20.5 24.5 26.2 24.4 24.8\n",
      " 29.6 42.8 21.9 20.9 44.  50.  36.  30.1 33.8 43.1 48.8 31.  36.5 22.8\n",
      " 30.7 50.  43.5 20.7 21.1 25.2 24.4 35.2 32.4 32.  33.2 33.1 29.1 35.1\n",
      " 45.4 35.4 46.  50.  32.2 22.  20.1 23.2 22.3 24.8 28.5 37.3 27.9 23.9\n",
      " 21.7 28.6 27.1 20.3 22.5 29.  24.8 22.  26.4 33.1 36.1 28.4 33.4 28.2\n",
      " 22.8 20.3 16.1 22.1 19.4 21.6 23.8 16.2 17.8 19.8 23.1 21.  23.8 23.1\n",
      " 20.4 18.5 25.  24.6 23.  22.2 19.3 22.6 19.8 17.1 19.4 22.2 20.7 21.1\n",
      " 19.5 18.5 20.6 19.  18.7 32.7 16.5 23.9 31.2 17.5 17.2 23.1 24.5 26.6\n",
      " 22.9 24.1 18.6 30.1 18.2 20.6 17.8 21.7 22.7 22.6 25.  19.9 20.8 16.8\n",
      " 21.9 27.5 21.9 23.1 50.  50.  50.  50.  50.  13.8 13.8 15.  13.9 13.3\n",
      " 13.1 10.2 10.4 10.9 11.3 12.3  8.8  7.2 10.5  7.4 10.2 11.5 15.1 23.2\n",
      "  9.7 13.8 12.7 13.1 12.5  8.5  5.   6.3  5.6  7.2 12.1  8.3  8.5  5.\n",
      " 11.9 27.9 17.2 27.5 15.  17.2 17.9 16.3  7.   7.2  7.5 10.4  8.8  8.4\n",
      " 16.7 14.2 20.8 13.4 11.7  8.3 10.2 10.9 11.   9.5 14.5 14.1 16.1 14.3\n",
      " 11.7 13.4  9.6  8.7  8.4 12.8 10.5 17.1 18.4 15.4 10.8 11.8 14.9 12.6\n",
      " 14.1 13.  13.4 15.2 16.1 17.8 14.9 14.1 12.7 13.5 14.9 20.  16.4 17.7\n",
      " 19.5 20.2 21.4 19.9 19.  19.1 19.1 20.1 19.9 19.6 23.2 29.8 13.8 13.3\n",
      " 16.7 12.  14.6 21.4 23.  23.7 25.  21.8 20.6 21.2 19.1 20.6 15.2  7.\n",
      "  8.1 13.6 20.1 21.8 24.5 23.1 19.7 18.3 21.2 17.5 16.8 22.4 20.6 23.9\n",
      " 22.  11.9]\n"
     ]
    }
   ],
   "source": [
    "#target変数(目的変数)の中身を確認\n",
    "print(boston['target'])"
   ]
  },
  {
   "cell_type": "markdown",
   "id": "20283d51",
   "metadata": {},
   "source": [
    "### 2. データフレームの作成"
   ]
  },
  {
   "cell_type": "code",
   "execution_count": 23,
   "id": "c60cbcd1",
   "metadata": {},
   "outputs": [
    {
     "data": {
      "text/html": [
       "<div>\n",
       "<style scoped>\n",
       "    .dataframe tbody tr th:only-of-type {\n",
       "        vertical-align: middle;\n",
       "    }\n",
       "\n",
       "    .dataframe tbody tr th {\n",
       "        vertical-align: top;\n",
       "    }\n",
       "\n",
       "    .dataframe thead th {\n",
       "        text-align: right;\n",
       "    }\n",
       "</style>\n",
       "<table border=\"1\" class=\"dataframe\">\n",
       "  <thead>\n",
       "    <tr style=\"text-align: right;\">\n",
       "      <th></th>\n",
       "      <th>CRIM</th>\n",
       "      <th>ZN</th>\n",
       "      <th>INDUS</th>\n",
       "      <th>CHAS</th>\n",
       "      <th>NOX</th>\n",
       "      <th>RM</th>\n",
       "      <th>AGE</th>\n",
       "      <th>DIS</th>\n",
       "      <th>RAD</th>\n",
       "      <th>TAX</th>\n",
       "      <th>PTRATIO</th>\n",
       "      <th>B</th>\n",
       "      <th>LSTAT</th>\n",
       "      <th>PRICE</th>\n",
       "    </tr>\n",
       "  </thead>\n",
       "  <tbody>\n",
       "    <tr>\n",
       "      <th>0</th>\n",
       "      <td>0.00632</td>\n",
       "      <td>18.0</td>\n",
       "      <td>2.31</td>\n",
       "      <td>0.0</td>\n",
       "      <td>0.538</td>\n",
       "      <td>6.575</td>\n",
       "      <td>65.2</td>\n",
       "      <td>4.0900</td>\n",
       "      <td>1.0</td>\n",
       "      <td>296.0</td>\n",
       "      <td>15.3</td>\n",
       "      <td>396.90</td>\n",
       "      <td>4.98</td>\n",
       "      <td>24.0</td>\n",
       "    </tr>\n",
       "    <tr>\n",
       "      <th>1</th>\n",
       "      <td>0.02731</td>\n",
       "      <td>0.0</td>\n",
       "      <td>7.07</td>\n",
       "      <td>0.0</td>\n",
       "      <td>0.469</td>\n",
       "      <td>6.421</td>\n",
       "      <td>78.9</td>\n",
       "      <td>4.9671</td>\n",
       "      <td>2.0</td>\n",
       "      <td>242.0</td>\n",
       "      <td>17.8</td>\n",
       "      <td>396.90</td>\n",
       "      <td>9.14</td>\n",
       "      <td>21.6</td>\n",
       "    </tr>\n",
       "    <tr>\n",
       "      <th>2</th>\n",
       "      <td>0.02729</td>\n",
       "      <td>0.0</td>\n",
       "      <td>7.07</td>\n",
       "      <td>0.0</td>\n",
       "      <td>0.469</td>\n",
       "      <td>7.185</td>\n",
       "      <td>61.1</td>\n",
       "      <td>4.9671</td>\n",
       "      <td>2.0</td>\n",
       "      <td>242.0</td>\n",
       "      <td>17.8</td>\n",
       "      <td>392.83</td>\n",
       "      <td>4.03</td>\n",
       "      <td>34.7</td>\n",
       "    </tr>\n",
       "    <tr>\n",
       "      <th>3</th>\n",
       "      <td>0.03237</td>\n",
       "      <td>0.0</td>\n",
       "      <td>2.18</td>\n",
       "      <td>0.0</td>\n",
       "      <td>0.458</td>\n",
       "      <td>6.998</td>\n",
       "      <td>45.8</td>\n",
       "      <td>6.0622</td>\n",
       "      <td>3.0</td>\n",
       "      <td>222.0</td>\n",
       "      <td>18.7</td>\n",
       "      <td>394.63</td>\n",
       "      <td>2.94</td>\n",
       "      <td>33.4</td>\n",
       "    </tr>\n",
       "    <tr>\n",
       "      <th>4</th>\n",
       "      <td>0.06905</td>\n",
       "      <td>0.0</td>\n",
       "      <td>2.18</td>\n",
       "      <td>0.0</td>\n",
       "      <td>0.458</td>\n",
       "      <td>7.147</td>\n",
       "      <td>54.2</td>\n",
       "      <td>6.0622</td>\n",
       "      <td>3.0</td>\n",
       "      <td>222.0</td>\n",
       "      <td>18.7</td>\n",
       "      <td>396.90</td>\n",
       "      <td>5.33</td>\n",
       "      <td>36.2</td>\n",
       "    </tr>\n",
       "  </tbody>\n",
       "</table>\n",
       "</div>"
      ],
      "text/plain": [
       "      CRIM    ZN  INDUS  CHAS    NOX     RM   AGE     DIS  RAD    TAX  \\\n",
       "0  0.00632  18.0   2.31   0.0  0.538  6.575  65.2  4.0900  1.0  296.0   \n",
       "1  0.02731   0.0   7.07   0.0  0.469  6.421  78.9  4.9671  2.0  242.0   \n",
       "2  0.02729   0.0   7.07   0.0  0.469  7.185  61.1  4.9671  2.0  242.0   \n",
       "3  0.03237   0.0   2.18   0.0  0.458  6.998  45.8  6.0622  3.0  222.0   \n",
       "4  0.06905   0.0   2.18   0.0  0.458  7.147  54.2  6.0622  3.0  222.0   \n",
       "\n",
       "   PTRATIO       B  LSTAT  PRICE  \n",
       "0     15.3  396.90   4.98   24.0  \n",
       "1     17.8  396.90   9.14   21.6  \n",
       "2     17.8  392.83   4.03   34.7  \n",
       "3     18.7  394.63   2.94   33.4  \n",
       "4     18.7  396.90   5.33   36.2  "
      ]
     },
     "execution_count": 23,
     "metadata": {},
     "output_type": "execute_result"
    }
   ],
   "source": [
    "#　説明変数らをDataFrameへ変換\n",
    "df = DataFrame(data=boston.data, columns = boston.feature_names)\n",
    "# 目的変数をDataFrameへ追加\n",
    "df['PRICE'] = np.array(boston.target)\n",
    "# 最初の5行を表示\n",
    "df.head(5)"
   ]
  },
  {
   "cell_type": "markdown",
   "id": "da39c2ba",
   "metadata": {},
   "source": [
    "### 線形単回帰分析"
   ]
  },
  {
   "cell_type": "code",
   "execution_count": 24,
   "id": "1313244d",
   "metadata": {},
   "outputs": [
    {
     "data": {
      "text/plain": [
       "array([[6.575],\n",
       "       [6.421],\n",
       "       [7.185],\n",
       "       [6.998],\n",
       "       [7.147]])"
      ]
     },
     "execution_count": 24,
     "metadata": {},
     "output_type": "execute_result"
    }
   ],
   "source": [
    "#カラムを指定してデータを表示\n",
    "df[['RM']].head()\n",
    "# 説明変数\n",
    "data = df.loc[:, ['RM']].values\n",
    "#dataリストの表示(1-5)\n",
    "data[0:5]"
   ]
  },
  {
   "cell_type": "code",
   "execution_count": 25,
   "id": "1f3fc4bf",
   "metadata": {},
   "outputs": [
    {
     "data": {
      "text/plain": [
       "array([24. , 21.6, 34.7, 33.4, 36.2])"
      ]
     },
     "execution_count": 25,
     "metadata": {},
     "output_type": "execute_result"
    }
   ],
   "source": [
    "# 目的変数\n",
    "target = df.loc[:, 'PRICE'].values\n",
    "target[0:5]"
   ]
  },
  {
   "cell_type": "code",
   "execution_count": 26,
   "id": "f9c8dbcd",
   "metadata": {},
   "outputs": [
    {
     "data": {
      "text/plain": [
       "LinearRegression()"
      ]
     },
     "execution_count": 26,
     "metadata": {},
     "output_type": "execute_result"
    }
   ],
   "source": [
    "## sklearnモジュールからLinearRegressionをインポート\n",
    "from sklearn.linear_model import LinearRegression\n",
    "# オブジェクト生成\n",
    "model = LinearRegression()\n",
    "#model.get_params()\n",
    "#model = LinearRegression(fit_intercept = True, normalize = False, copy_X = True,  n_jobs = 1)\n",
    "# fit関数でパラメータ推定\n",
    "model.fit(data, target)"
   ]
  },
  {
   "cell_type": "code",
   "execution_count": 27,
   "id": "9868110b",
   "metadata": {},
   "outputs": [
    {
     "data": {
      "text/plain": [
       "array([-25.5685118])"
      ]
     },
     "execution_count": 27,
     "metadata": {},
     "output_type": "execute_result"
    }
   ],
   "source": [
    "#予測\n",
    "model.predict([[1]])"
   ]
  },
  {
   "cell_type": "markdown",
   "id": "10ba7728",
   "metadata": {},
   "source": [
    "### 重回帰分析(2変数)"
   ]
  },
  {
   "cell_type": "code",
   "execution_count": 28,
   "id": "ca5f14c7",
   "metadata": {},
   "outputs": [
    {
     "data": {
      "text/html": [
       "<div>\n",
       "<style scoped>\n",
       "    .dataframe tbody tr th:only-of-type {\n",
       "        vertical-align: middle;\n",
       "    }\n",
       "\n",
       "    .dataframe tbody tr th {\n",
       "        vertical-align: top;\n",
       "    }\n",
       "\n",
       "    .dataframe thead th {\n",
       "        text-align: right;\n",
       "    }\n",
       "</style>\n",
       "<table border=\"1\" class=\"dataframe\">\n",
       "  <thead>\n",
       "    <tr style=\"text-align: right;\">\n",
       "      <th></th>\n",
       "      <th>CRIM</th>\n",
       "      <th>RM</th>\n",
       "    </tr>\n",
       "  </thead>\n",
       "  <tbody>\n",
       "    <tr>\n",
       "      <th>0</th>\n",
       "      <td>0.00632</td>\n",
       "      <td>6.575</td>\n",
       "    </tr>\n",
       "    <tr>\n",
       "      <th>1</th>\n",
       "      <td>0.02731</td>\n",
       "      <td>6.421</td>\n",
       "    </tr>\n",
       "    <tr>\n",
       "      <th>2</th>\n",
       "      <td>0.02729</td>\n",
       "      <td>7.185</td>\n",
       "    </tr>\n",
       "    <tr>\n",
       "      <th>3</th>\n",
       "      <td>0.03237</td>\n",
       "      <td>6.998</td>\n",
       "    </tr>\n",
       "    <tr>\n",
       "      <th>4</th>\n",
       "      <td>0.06905</td>\n",
       "      <td>7.147</td>\n",
       "    </tr>\n",
       "  </tbody>\n",
       "</table>\n",
       "</div>"
      ],
      "text/plain": [
       "      CRIM     RM\n",
       "0  0.00632  6.575\n",
       "1  0.02731  6.421\n",
       "2  0.02729  7.185\n",
       "3  0.03237  6.998\n",
       "4  0.06905  7.147"
      ]
     },
     "execution_count": 28,
     "metadata": {},
     "output_type": "execute_result"
    }
   ],
   "source": [
    "#カラムを指定してデータを表示\n",
    "df[['CRIM', 'RM']].head()"
   ]
  },
  {
   "cell_type": "code",
   "execution_count": 29,
   "id": "8c5ba2c8",
   "metadata": {},
   "outputs": [
    {
     "data": {
      "text/plain": [
       "array([29.43977562])"
      ]
     },
     "execution_count": 29,
     "metadata": {},
     "output_type": "execute_result"
    }
   ],
   "source": [
    "# 説明変数\n",
    "data2 = df.loc[:, ['CRIM', 'RM']].values\n",
    "# 目的変数\n",
    "target2 = df.loc[:, 'PRICE'].values\n",
    "#オブジェクト生成\n",
    "model2 = LinearRegression()\n",
    "# fit関数でパラメータ推定\n",
    "model2.fit(data2, target2)\n",
    "model2.predict([[0.2, 7]])"
   ]
  },
  {
   "cell_type": "markdown",
   "id": "2471f4b0",
   "metadata": {},
   "source": [
    "### 回帰係数と切片の値を確認"
   ]
  },
  {
   "cell_type": "code",
   "execution_count": 30,
   "id": "5d543bdc",
   "metadata": {},
   "outputs": [
    {
     "name": "stdout",
     "output_type": "stream",
     "text": [
      "推定された回帰係数: 9.102, 推定された切片 : -34.671\n"
     ]
    }
   ],
   "source": [
    "# 単回帰の回帰係数と切片を出力\n",
    "print('推定された回帰係数: %.3f, 推定された切片 : %.3f' % (model.coef_, model.intercept_))"
   ]
  },
  {
   "cell_type": "code",
   "execution_count": 31,
   "id": "14507130",
   "metadata": {},
   "outputs": [
    {
     "name": "stdout",
     "output_type": "stream",
     "text": [
      "[9.10210898]\n",
      "-34.67062077643857\n"
     ]
    }
   ],
   "source": [
    "# 重回帰の回帰係数と切片を出力\n",
    "print(model.coef_)\n",
    "print(model.intercept_)"
   ]
  },
  {
   "cell_type": "markdown",
   "id": "dbcf1c03",
   "metadata": {},
   "source": [
    "### モデルの検証\n",
    "#### 1. 決定係数"
   ]
  },
  {
   "cell_type": "code",
   "execution_count": 32,
   "id": "8551efab",
   "metadata": {},
   "outputs": [
    {
     "name": "stdout",
     "output_type": "stream",
     "text": [
      "単回帰決定係数: 0.484, 重回帰決定係数 : 0.542\n"
     ]
    }
   ],
   "source": [
    "#### 決定係数\n",
    "print('単回帰決定係数: %.3f, 重回帰決定係数 : %.3f' % (model.score(data,target), model2.score(data2,target2)))"
   ]
  },
  {
   "cell_type": "code",
   "execution_count": 33,
   "id": "b5ddc083",
   "metadata": {},
   "outputs": [],
   "source": [
    "# train_test_splitをインポート\n",
    "from sklearn.model_selection import train_test_split"
   ]
  },
  {
   "cell_type": "code",
   "execution_count": 34,
   "id": "f49d1197",
   "metadata": {},
   "outputs": [],
   "source": [
    "# 70%を学習用、30%を検証用データにするよう分割\n",
    "X_train, X_test, y_train, y_test = train_test_split(data, target, \n",
    "test_size = 0.3, random_state = 666)\n",
    "# 学習用データでパラメータ推定\n",
    "model.fit(X_train, y_train)\n",
    "# 作成したモデルから予測（学習用、検証用モデル使用）\n",
    "y_train_pred = model.predict(X_train)\n",
    "y_test_pred = model.predict(X_test)"
   ]
  },
  {
   "cell_type": "code",
   "execution_count": 46,
   "id": "5f92c997",
   "metadata": {
    "scrolled": true
   },
   "outputs": [
    {
     "data": {
      "image/png": "[encoded data removed]",
      "text/plain": [
       "<Figure size 432x288 with 1 Axes>"
      ]
     },
     "metadata": {
      "needs_background": "light"
     },
     "output_type": "display_data"
    }
   ],
   "source": [
    "# matplotlibをインポート\n",
    "import matplotlib.pyplot as plt\n",
    "# Jupyterを利用していたら、以下のおまじないを書くとnotebook上に図が表示\n",
    "%matplotlib inline\n",
    "# 学習用、検証用それぞれで残差をプロット\n",
    "plt.scatter(y_train_pred, y_train_pred - y_train, c = 'blue', marker = 'o', label = 'Train Data')\n",
    "plt.scatter(y_test_pred, y_test_pred - y_test, c = 'lightgreen', marker = 's', label = 'Test Data')\n",
    "plt.xlabel('Predicted Values')\n",
    "plt.ylabel('Residuals')\n",
    "# 凡例を左上に表示\n",
    "plt.legend(loc = 'upper left')\n",
    "# y = 0に直線を引く\n",
    "plt.hlines(y = 0, xmin = -10, xmax = 50, lw = 2, color = 'red')\n",
    "plt.xlim([10, 50])\n",
    "plt.show()"
   ]
  },
  {
   "cell_type": "markdown",
   "id": "08bd5fef",
   "metadata": {},
   "source": [
    "## 2,非線形回帰モデル"
   ]
  },
  {
   "cell_type": "markdown",
   "id": "e8407ac9",
   "metadata": {},
   "source": [
    "##### 　2.1 線形回帰モデルと非線形回帰モデルの違い。  \n",
    "##### &emsp;&emsp;　　　線形回帰モデル：回帰係数。  \n",
    "##### &emsp;&emsp;　　　非線形回帰モデル：回帰関数。 \n",
    "##### &emsp;&emsp;&emsp;&emsp;　回帰関数は、概ね  、多項式関数やガウス型基底関数を使用される。  \n",
    "#####  &emsp;&emsp;&emsp;   基底展開法。  \n",
    "#####  &emsp;&emsp;&emsp;&emsp;　回帰関数して、基底関数と呼ばれる既知の非線形関数とパラメータベクトルの線形結合を使用  \n",
    "#####  &emsp;&emsp; 　未知パラメータは最小２乗法や最尤法により推定  "
   ]
  },
  {
   "cell_type": "markdown",
   "id": "85d4fd85",
   "metadata": {},
   "source": [
    "#####   &emsp;&emsp;&emsp;　$ y_i$ = f( $x_i$ ) + $\\varepsilon_i  $ &emsp;&emsp;&emsp;    $    y_i$ = $\\omega_0 + - \\sum _{j=1} ^{m} \\omega_j \\phi_j(x_i) + \\varepsilon_i $ "
   ]
  },
  {
   "cell_type": "markdown",
   "id": "23341537",
   "metadata": {},
   "source": [
    "##### 　2.2 未学習と過学習  \n",
    "##### &emsp;&emsp;学習データに対して十分小さな誤差が得られないモデル　&rarr;  &emsp;未学習  \n",
    "##### &emsp;&emsp;&emsp;&emsp; (対策) モデルの表現力が低いため、表現力の高いモデルを利用する。  \n",
    "##### &emsp;&emsp;小さな誤差は得られたけど、テスト集合誤差との差が大きいモデル &rarr;  &emsp;過学習(過剰適合)\n",
    "#####  &emsp;&emsp;&emsp;&emsp; (対策) 学習データの数を増やす。  \n",
    "#####  &emsp;&emsp;&emsp;&emsp; (対策) 不要な規定関数(変数）を削除して表現を抑止  \n",
    "#####  &emsp;&emsp;&emsp;&emsp; (対策) 正則化法を利用して表現力を抑止  \n",
    "#####    2.3 正則化  \n",
    "#####  &emsp;&emsp; L1ノルム Lasso推定量 ：幾つかのパラメータを正確に0に推定(スパース化）\n",
    "#####  &emsp;&emsp; L2ノルム Rdign推定量 ：パラメータを0に近づけるように推定\n",
    "#####    2.4 汎化性能\n",
    "#####  &emsp;&emsp; 汎化性能：学習に使用した入力(学習データ）だけではなく、それ以外のデータでどれだけ適合できるか。\n",
    "#####  &emsp;&emsp;訓練誤差\n",
    "#####  &emsp;&emsp; $MSE_{train} $ =  $ \\frac{1}{n_{train}} \\sum _{i=1} ^{n_train} ( \\hat y_i^{(train)} - y_i^{(train)} )^2 $   \n",
    "#####  &emsp;&emsp;テスト誤差\n",
    "#####  &emsp;&emsp; $MSE_{test} $ =  $ \\frac{1}{n_{test}} \\sum _{i=1} ^{n_test} ( \\hat y_i^{(test)} - y_i^{(test)} )^2 $ \n",
    "##### 2.5 データ分割\n",
    "##### &emsp;&emsp; 誤差を評価するため、学習用データと検証用データを分割することが必要。\n",
    "##### &emsp;&emsp;&emsp; ホールドアウト法　：\n",
    "##### &emsp;&emsp;&emsp; クロスバリデーション(交差検証）\n",
    "##### &emsp;&emsp;&emsp; データをn分割し、(n-1)/nを学習用データ、1/nを検証用データに使用し学習用と検証データを変更して、モデルの性能検証を行う。精度の平均値をCV値と呼ぶ。"
   ]
  },
  {
   "cell_type": "markdown",
   "id": "404e5a31",
   "metadata": {},
   "source": [
    "### 非線形回帰モデル　ハンズオン"
   ]
  },
  {
   "cell_type": "code",
   "execution_count": 4,
   "id": "2c1edb10",
   "metadata": {},
   "outputs": [
    {
     "name": "stderr",
     "output_type": "stream",
     "text": [
      "No handles with labels found to put in legend.\n"
     ]
    },
    {
     "data": {
      "text/plain": [
       "<matplotlib.legend.Legend at 0x64045e6490>"
      ]
     },
     "execution_count": 4,
     "metadata": {},
     "output_type": "execute_result"
    },
    {
     "data": {
      "image/png": "[encoded data removed]",
      "text/plain": [
       "<Figure size 432x288 with 1 Axes>"
      ]
     },
     "metadata": {
      "needs_background": "light"
     },
     "output_type": "display_data"
    }
   ],
   "source": [
    "import numpy as np\n",
    "import matplotlib.pyplot as plt\n",
    "import seaborn as sns\n",
    "\n",
    "%matplotlib inline\n",
    "n=100\n",
    "\n",
    "def true_func(x):\n",
    "    z = 1-48*x+218*x**2-315*x**3+145*x**4\n",
    "    return z \n",
    "\n",
    "def linear_func(x):\n",
    "    z = x\n",
    "    return z \n",
    "# 真の関数からノイズを伴うデータを生成\n",
    "\n",
    "# 真の関数からデータ生成\n",
    "data = np.random.rand(n).astype(np.float32)\n",
    "data = np.sort(data)\n",
    "target = true_func(data)\n",
    "\n",
    "# 　ノイズを加える\n",
    "noise = 0.5 * np.random.randn(n) \n",
    "target = target  + noise\n",
    "\n",
    "# ノイズ付きデータを描画\n",
    "\n",
    "plt.scatter(data, target)\n",
    "\n",
    "plt.title('NonLinear Regression')\n",
    "plt.legend(loc=2)"
   ]
  },
  {
   "cell_type": "code",
   "execution_count": 5,
   "id": "c6d8cdea",
   "metadata": {},
   "outputs": [
    {
     "name": "stdout",
     "output_type": "stream",
     "text": [
      "0.37913539681680397\n"
     ]
    },
    {
     "data": {
      "image/png": "[encoded data removed]",
      "text/plain": [
       "<Figure size 432x288 with 1 Axes>"
      ]
     },
     "metadata": {
      "needs_background": "light"
     },
     "output_type": "display_data"
    }
   ],
   "source": [
    "##### 補足（線形回帰モデル）\n",
    "##### 補足 scikit-learnモデル\n",
    "##### https://scikit-learn.org/stable/modules/classes.html#module-sklearn.linear_model\n",
    "\n",
    "\n",
    "from sklearn.linear_model import LinearRegression\n",
    "\n",
    "clf = LinearRegression()\n",
    "data = data.reshape(-1,1)\n",
    "target = target.reshape(-1,1)\n",
    "clf.fit(data, target)\n",
    "\n",
    "p_lin = clf.predict(data)\n",
    "\n",
    "plt.scatter(data, target, label='data')\n",
    "plt.plot(data, p_lin, color='darkorange', marker='', linestyle='-', linewidth=1, markersize=6, label='linear regression')\n",
    "plt.legend()\n",
    "print(clf.score(data, target))"
   ]
  },
  {
   "cell_type": "code",
   "execution_count": 6,
   "id": "976d2d51",
   "metadata": {
    "scrolled": true
   },
   "outputs": [
    {
     "data": {
      "text/plain": [
       "<matplotlib.legend.Legend at 0x6405b84f70>"
      ]
     },
     "execution_count": 6,
     "metadata": {},
     "output_type": "execute_result"
    },
    {
     "data": {
      "image/png": "[encoded data removed]",
      "text/plain": [
       "<Figure size 432x288 with 1 Axes>"
      ]
     },
     "metadata": {
      "needs_background": "light"
     },
     "output_type": "display_data"
    }
   ],
   "source": [
    "##### 補足(非線形回帰モデル)\n",
    "####   https://scikit-learn.org/stable/modules/generated/sklearn.kernel_ridge.KernelRidge.html\n",
    "\n",
    "from sklearn.kernel_ridge import KernelRidge\n",
    "\n",
    "clf = KernelRidge(alpha=0.0002, kernel='rbf')\n",
    "clf.fit(data, target)\n",
    "\n",
    "p_kridge = clf.predict(data)\n",
    "\n",
    "plt.scatter(data, target, color='blue', label='data')\n",
    "\n",
    "plt.plot(data, p_kridge, color='orange', linestyle='-', linewidth=3, markersize=6, label='kernel ridge')\n",
    "plt.legend()\n",
    "#plt.plot(data, p, color='orange', marker='o', linestyle='-', linewidth=1, markersize=6)"
   ]
  },
  {
   "cell_type": "code",
   "execution_count": 7,
   "id": "3d66cd08",
   "metadata": {},
   "outputs": [
    {
     "name": "stdout",
     "output_type": "stream",
     "text": [
      "0.8382846663864303\n"
     ]
    },
    {
     "data": {
      "image/png": "[encoded data removed]",
      "text/plain": [
       "<Figure size 432x288 with 1 Axes>"
      ]
     },
     "metadata": {
      "needs_background": "light"
     },
     "output_type": "display_data"
    }
   ],
   "source": [
    "#Ridge\n",
    "\n",
    "\n",
    "from sklearn.metrics.pairwise import rbf_kernel\n",
    "from sklearn.linear_model import Ridge\n",
    "\n",
    "kx = rbf_kernel(X=data, Y=data, gamma=50)\n",
    "#KX = rbf_kernel(X, x)\n",
    "\n",
    "#clf = LinearRegression()\n",
    "clf = Ridge(alpha=30)\n",
    "clf.fit(kx, target)\n",
    "\n",
    "p_ridge = clf.predict(kx)\n",
    "\n",
    "plt.scatter(data, target,label='data')\n",
    "for i in range(len(kx)):\n",
    "    plt.plot(data, kx[i], color='black', linestyle='-', linewidth=1, markersize=3, label='rbf', alpha=0.2)\n",
    "\n",
    "#plt.plot(data, p, color='green', marker='o', linestyle='-', linewidth=0.1, markersize=3)\n",
    "plt.plot(data, p_ridge, color='green', linestyle='-', linewidth=1, markersize=3,label='ridge regression')\n",
    "#plt.legend()\n",
    "\n",
    "print(clf.score(kx, target))"
   ]
  },
  {
   "cell_type": "code",
   "execution_count": 8,
   "id": "71974db8",
   "metadata": {},
   "outputs": [
    {
     "data": {
      "image/png": "[encoded data removed]",
      "text/plain": [
       "<Figure size 432x288 with 1 Axes>"
      ]
     },
     "metadata": {
      "needs_background": "light"
     },
     "output_type": "display_data"
    }
   ],
   "source": [
    "from sklearn.preprocessing import PolynomialFeatures\n",
    "from sklearn.pipeline import Pipeline#PolynomialFeatures(degree=1)\n",
    "\n",
    "deg = [1,2,3,4,5,6,7,8,9,10]\n",
    "for d in deg:\n",
    "    regr = Pipeline([\n",
    "        ('poly', PolynomialFeatures(degree=d)),\n",
    "        ('linear', LinearRegression())\n",
    "    ])\n",
    "    regr.fit(data, target)\n",
    "    # make predictions\n",
    "    p_poly = regr.predict(data)\n",
    "    # plot regression result\n",
    "    plt.scatter(data, target, label='data')\n",
    "    plt.plot(data, p_poly, label='polynomial of degree %d' % (d))"
   ]
  },
  {
   "cell_type": "code",
   "execution_count": 9,
   "id": "4cd6af63",
   "metadata": {},
   "outputs": [
    {
     "name": "stdout",
     "output_type": "stream",
     "text": [
      "-2.220446049250313e-16\n"
     ]
    },
    {
     "data": {
      "image/png": "[encoded data removed]",
      "text/plain": [
       "<Figure size 432x288 with 1 Axes>"
      ]
     },
     "metadata": {
      "needs_background": "light"
     },
     "output_type": "display_data"
    }
   ],
   "source": [
    "#Lasso\n",
    "##### 補足説明　L1正則化\n",
    "\n",
    "from sklearn.metrics.pairwise import rbf_kernel\n",
    "from sklearn.linear_model import Lasso\n",
    "\n",
    "kx = rbf_kernel(X=data, Y=data, gamma=5)\n",
    "#KX = rbf_kernel(X, x)\n",
    "\n",
    "#lasso_clf = LinearRegression()\n",
    "lasso_clf = Lasso(alpha=10000, max_iter=1000)\n",
    "lasso_clf.fit(kx, target)\n",
    "\n",
    "p_lasso = lasso_clf.predict(kx)\n",
    "\n",
    "plt.scatter(data, target)\n",
    "\n",
    "#plt.plot(data, p, color='green', marker='o', linestyle='-', linewidth=0.1, markersize=3)\n",
    "plt.plot(data, p_lasso, color='green', linestyle='-', linewidth=3, markersize=3)\n",
    "\n",
    "print(lasso_clf.score(kx, target))"
   ]
  },
  {
   "cell_type": "code",
   "execution_count": 10,
   "id": "51d9a2fa",
   "metadata": {
    "scrolled": true
   },
   "outputs": [
    {
     "name": "stderr",
     "output_type": "stream",
     "text": [
      "D:\\anaconda\\lib\\site-packages\\sklearn\\utils\\validation.py:63: DataConversionWarning: A column-vector y was passed when a 1d array was expected. Please change the shape of y to (n_samples, ), for example using ravel().\n",
      "  return f(*args, **kwargs)\n",
      "D:\\anaconda\\lib\\site-packages\\sklearn\\utils\\validation.py:63: DataConversionWarning: A column-vector y was passed when a 1d array was expected. Please change the shape of y to (n_samples, ), for example using ravel().\n",
      "  return f(*args, **kwargs)\n"
     ]
    },
    {
     "data": {
      "image/png": "[encoded data removed]",
      "text/plain": [
       "<Figure size 432x288 with 1 Axes>"
      ]
     },
     "metadata": {
      "needs_background": "light"
     },
     "output_type": "display_data"
    }
   ],
   "source": [
    "from sklearn import model_selection, preprocessing, linear_model, svm\n",
    "\n",
    "# SVR-rbf\n",
    "clf_svr = svm.SVR(kernel='rbf', C=1e3, gamma=0.1, epsilon=0.1)\n",
    "clf_svr.fit(data, target)\n",
    "y_rbf = clf_svr.fit(data, target).predict(data)\n",
    " \n",
    "# plot\n",
    "\n",
    "plt.scatter(data, target, color='darkorange', label='data')\n",
    "plt.plot(data, y_rbf, color='red', label='Support Vector Regression (RBF)')\n",
    "plt.legend()\n",
    "plt.show()"
   ]
  },
  {
   "cell_type": "code",
   "execution_count": 11,
   "id": "c3ea0529",
   "metadata": {},
   "outputs": [
    {
     "name": "stdout",
     "output_type": "stream",
     "text": [
      "Requirement already satisfied: tensorflow in d:\\anaconda\\lib\\site-packages (2.6.0)\n",
      "Requirement already satisfied: tensorboard~=2.6 in d:\\anaconda\\lib\\site-packages (from tensorflow) (2.7.0)\n",
      "Requirement already satisfied: termcolor~=1.1.0 in d:\\anaconda\\lib\\site-packages (from tensorflow) (1.1.0)\n",
      "Requirement already satisfied: absl-py~=0.10 in d:\\anaconda\\lib\\site-packages (from tensorflow) (0.15.0)\n",
      "Requirement already satisfied: keras~=2.6 in d:\\anaconda\\lib\\site-packages (from tensorflow) (2.6.0)\n",
      "Requirement already satisfied: typing-extensions~=3.7.4 in d:\\anaconda\\lib\\site-packages (from tensorflow) (3.7.4.3)\n",
      "Requirement already satisfied: wrapt~=1.12.1 in d:\\anaconda\\lib\\site-packages (from tensorflow) (1.12.1)\n",
      "Requirement already satisfied: grpcio<2.0,>=1.37.0 in d:\\anaconda\\lib\\site-packages (from tensorflow) (1.41.0)\n",
      "Requirement already satisfied: google-pasta~=0.2 in d:\\anaconda\\lib\\site-packages (from tensorflow) (0.2.0)\n",
      "Requirement already satisfied: wheel~=0.35 in d:\\anaconda\\lib\\site-packages (from tensorflow) (0.36.2)\n",
      "Requirement already satisfied: h5py~=3.1.0 in d:\\anaconda\\lib\\site-packages (from tensorflow) (3.1.0)\n",
      "Requirement already satisfied: opt-einsum~=3.3.0 in d:\\anaconda\\lib\\site-packages (from tensorflow) (3.3.0)\n",
      "Requirement already satisfied: gast==0.4.0 in d:\\anaconda\\lib\\site-packages (from tensorflow) (0.4.0)\n",
      "Requirement already satisfied: keras-preprocessing~=1.1.2 in d:\\anaconda\\lib\\site-packages (from tensorflow) (1.1.2)\n",
      "Requirement already satisfied: clang~=5.0 in d:\\anaconda\\lib\\site-packages (from tensorflow) (5.0)\n",
      "Requirement already satisfied: protobuf>=3.9.2 in d:\\anaconda\\lib\\site-packages (from tensorflow) (3.19.0)\n",
      "Requirement already satisfied: tensorflow-estimator~=2.6 in d:\\anaconda\\lib\\site-packages (from tensorflow) (2.6.0)\n",
      "Requirement already satisfied: astunparse~=1.6.3 in d:\\anaconda\\lib\\site-packages (from tensorflow) (1.6.3)\n",
      "Requirement already satisfied: flatbuffers~=1.12.0 in d:\\anaconda\\lib\\site-packages (from tensorflow) (1.12)\n",
      "Requirement already satisfied: six~=1.15.0 in d:\\anaconda\\lib\\site-packages (from tensorflow) (1.15.0)\n",
      "Requirement already satisfied: numpy~=1.19.2 in d:\\anaconda\\lib\\site-packages (from tensorflow) (1.19.5)\n",
      "Requirement already satisfied: google-auth<3,>=1.6.3 in d:\\anaconda\\lib\\site-packages (from tensorboard~=2.6->tensorflow) (2.3.0)\n",
      "Requirement already satisfied: tensorboard-data-server<0.7.0,>=0.6.0 in d:\\anaconda\\lib\\site-packages (from tensorboard~=2.6->tensorflow) (0.6.1)\n",
      "Requirement already satisfied: markdown>=2.6.8 in d:\\anaconda\\lib\\site-packages (from tensorboard~=2.6->tensorflow) (3.3.4)\n",
      "Requirement already satisfied: setuptools>=41.0.0 in d:\\anaconda\\lib\\site-packages (from tensorboard~=2.6->tensorflow) (52.0.0.post20210125)\n",
      "Requirement already satisfied: requests<3,>=2.21.0 in d:\\anaconda\\lib\\site-packages (from tensorboard~=2.6->tensorflow) (2.25.1)\n",
      "Requirement already satisfied: tensorboard-plugin-wit>=1.6.0 in d:\\anaconda\\lib\\site-packages (from tensorboard~=2.6->tensorflow) (1.8.0)\n",
      "Requirement already satisfied: google-auth-oauthlib<0.5,>=0.4.1 in d:\\anaconda\\lib\\site-packages (from tensorboard~=2.6->tensorflow) (0.4.6)\n",
      "Requirement already satisfied: werkzeug>=0.11.15 in d:\\anaconda\\lib\\site-packages (from tensorboard~=2.6->tensorflow) (1.0.1)\n",
      "Requirement already satisfied: pyasn1-modules>=0.2.1 in d:\\anaconda\\lib\\site-packages (from google-auth<3,>=1.6.3->tensorboard~=2.6->tensorflow) (0.2.8)\n",
      "Requirement already satisfied: cachetools<5.0,>=2.0.0 in d:\\anaconda\\lib\\site-packages (from google-auth<3,>=1.6.3->tensorboard~=2.6->tensorflow) (4.2.4)\n",
      "Requirement already satisfied: rsa<5,>=3.1.4 in d:\\anaconda\\lib\\site-packages (from google-auth<3,>=1.6.3->tensorboard~=2.6->tensorflow) (4.7.2)\n",
      "Requirement already satisfied: requests-oauthlib>=0.7.0 in d:\\anaconda\\lib\\site-packages (from google-auth-oauthlib<0.5,>=0.4.1->tensorboard~=2.6->tensorflow) (1.3.0)\n",
      "Requirement already satisfied: pyasn1<0.5.0,>=0.4.6 in d:\\anaconda\\lib\\site-packages (from pyasn1-modules>=0.2.1->google-auth<3,>=1.6.3->tensorboard~=2.6->tensorflow) (0.4.8)\n",
      "Requirement already satisfied: chardet<5,>=3.0.2 in d:\\anaconda\\lib\\site-packages (from requests<3,>=2.21.0->tensorboard~=2.6->tensorflow) (4.0.0)\n",
      "Requirement already satisfied: idna<3,>=2.5 in d:\\anaconda\\lib\\site-packages (from requests<3,>=2.21.0->tensorboard~=2.6->tensorflow) (2.10)\n",
      "Requirement already satisfied: certifi>=2017.4.17 in d:\\anaconda\\lib\\site-packages (from requests<3,>=2.21.0->tensorboard~=2.6->tensorflow) (2020.12.5)\n",
      "Requirement already satisfied: urllib3<1.27,>=1.21.1 in d:\\anaconda\\lib\\site-packages (from requests<3,>=2.21.0->tensorboard~=2.6->tensorflow) (1.26.4)\n",
      "Requirement already satisfied: oauthlib>=3.0.0 in d:\\anaconda\\lib\\site-packages (from requests-oauthlib>=0.7.0->google-auth-oauthlib<0.5,>=0.4.1->tensorboard~=2.6->tensorflow) (3.1.1)\n",
      "Requirement already satisfied: keras in d:\\anaconda\\lib\\site-packages (2.6.0)\n"
     ]
    }
   ],
   "source": [
    "from sklearn.model_selection import train_test_split\n",
    "x_train, x_test, y_train, y_test = train_test_split(data, target, test_size=0.1, random_state=0)\n",
    "!pip3 install tensorflow\n",
    "!pip3 install keras\n",
    "import keras\n",
    "from keras.callbacks import EarlyStopping, TensorBoard, ModelCheckpoint\n",
    "#### 補足　Dドライブ配下にdataを格納(オリジナルからPath変更)\n",
    "cb_cp = ModelCheckpoint('D:\\stage2_data\\study_ai_ml_google\\skl_ml\\out\\checkpoints\\weights.{epoch:02d}-{val_loss:.2f}.hdf5', verbose=1, save_weights_only=True)\n",
    "cb_tf  = TensorBoard(log_dir='D:\\stage2_data\\study_ai_ml_google\\skl_ml\\out\\TensorBoard', histogram_freq=0)"
   ]
  },
  {
   "cell_type": "code",
   "execution_count": 12,
   "id": "61ecc4a1",
   "metadata": {
    "scrolled": true
   },
   "outputs": [
    {
     "name": "stdout",
     "output_type": "stream",
     "text": [
      "Epoch 1/100\n",
      "18/18 [==============================] - 4s 119ms/step - loss: 1.6375 - val_loss: 0.9396\n",
      "\n",
      "Epoch 00001: saving model to D:\\stage2_data\\study_ai_ml_google\\skl_ml\\out\\checkpoints\\weights.01-0.94.hdf5\n",
      "Epoch 2/100\n",
      "18/18 [==============================] - 1s 41ms/step - loss: 1.1743 - val_loss: 0.7098\n",
      "\n",
      "Epoch 00002: saving model to D:\\stage2_data\\study_ai_ml_google\\skl_ml\\out\\checkpoints\\weights.02-0.71.hdf5\n",
      "Epoch 3/100\n",
      "18/18 [==============================] - 1s 37ms/step - loss: 0.9075 - val_loss: 0.7408\n",
      "\n",
      "Epoch 00003: saving model to D:\\stage2_data\\study_ai_ml_google\\skl_ml\\out\\checkpoints\\weights.03-0.74.hdf5\n",
      "Epoch 4/100\n",
      "18/18 [==============================] - 1s 36ms/step - loss: 0.8607 - val_loss: 0.5137\n",
      "\n",
      "Epoch 00004: saving model to D:\\stage2_data\\study_ai_ml_google\\skl_ml\\out\\checkpoints\\weights.04-0.51.hdf5\n",
      "Epoch 5/100\n",
      "18/18 [==============================] - 1s 38ms/step - loss: 0.5673 - val_loss: 0.4172\n",
      "\n",
      "Epoch 00005: saving model to D:\\stage2_data\\study_ai_ml_google\\skl_ml\\out\\checkpoints\\weights.05-0.42.hdf5\n",
      "Epoch 6/100\n",
      "18/18 [==============================] - 1s 40ms/step - loss: 0.8546 - val_loss: 0.5554\n",
      "\n",
      "Epoch 00006: saving model to D:\\stage2_data\\study_ai_ml_google\\skl_ml\\out\\checkpoints\\weights.06-0.56.hdf5\n",
      "Epoch 7/100\n",
      "18/18 [==============================] - 1s 46ms/step - loss: 0.7103 - val_loss: 0.8263\n",
      "\n",
      "Epoch 00007: saving model to D:\\stage2_data\\study_ai_ml_google\\skl_ml\\out\\checkpoints\\weights.07-0.83.hdf5\n",
      "Epoch 8/100\n",
      "18/18 [==============================] - 1s 35ms/step - loss: 0.6185 - val_loss: 0.5222\n",
      "\n",
      "Epoch 00008: saving model to D:\\stage2_data\\study_ai_ml_google\\skl_ml\\out\\checkpoints\\weights.08-0.52.hdf5\n",
      "Epoch 9/100\n",
      "18/18 [==============================] - 1s 39ms/step - loss: 0.4607 - val_loss: 0.4342\n",
      "\n",
      "Epoch 00009: saving model to D:\\stage2_data\\study_ai_ml_google\\skl_ml\\out\\checkpoints\\weights.09-0.43.hdf5\n",
      "Epoch 10/100\n",
      "18/18 [==============================] - 1s 35ms/step - loss: 0.5158 - val_loss: 0.4272\n",
      "\n",
      "Epoch 00010: saving model to D:\\stage2_data\\study_ai_ml_google\\skl_ml\\out\\checkpoints\\weights.10-0.43.hdf5\n",
      "Epoch 11/100\n",
      "18/18 [==============================] - 1s 38ms/step - loss: 0.4951 - val_loss: 0.3989\n",
      "\n",
      "Epoch 00011: saving model to D:\\stage2_data\\study_ai_ml_google\\skl_ml\\out\\checkpoints\\weights.11-0.40.hdf5\n",
      "Epoch 12/100\n",
      "18/18 [==============================] - 1s 45ms/step - loss: 0.4813 - val_loss: 0.4033\n",
      "\n",
      "Epoch 00012: saving model to D:\\stage2_data\\study_ai_ml_google\\skl_ml\\out\\checkpoints\\weights.12-0.40.hdf5\n",
      "Epoch 13/100\n",
      "18/18 [==============================] - 1s 35ms/step - loss: 0.4094 - val_loss: 0.4798\n",
      "\n",
      "Epoch 00013: saving model to D:\\stage2_data\\study_ai_ml_google\\skl_ml\\out\\checkpoints\\weights.13-0.48.hdf5\n",
      "Epoch 14/100\n",
      "18/18 [==============================] - 1s 39ms/step - loss: 0.4188 - val_loss: 0.4283\n",
      "\n",
      "Epoch 00014: saving model to D:\\stage2_data\\study_ai_ml_google\\skl_ml\\out\\checkpoints\\weights.14-0.43.hdf5\n",
      "Epoch 15/100\n",
      "18/18 [==============================] - 1s 35ms/step - loss: 0.5304 - val_loss: 0.8632\n",
      "\n",
      "Epoch 00015: saving model to D:\\stage2_data\\study_ai_ml_google\\skl_ml\\out\\checkpoints\\weights.15-0.86.hdf5\n",
      "Epoch 16/100\n",
      "18/18 [==============================] - 1s 39ms/step - loss: 0.5410 - val_loss: 0.5525\n",
      "\n",
      "Epoch 00016: saving model to D:\\stage2_data\\study_ai_ml_google\\skl_ml\\out\\checkpoints\\weights.16-0.55.hdf5\n",
      "Epoch 17/100\n",
      "18/18 [==============================] - 1s 54ms/step - loss: 0.3891 - val_loss: 0.4410\n",
      "\n",
      "Epoch 00017: saving model to D:\\stage2_data\\study_ai_ml_google\\skl_ml\\out\\checkpoints\\weights.17-0.44.hdf5\n",
      "Epoch 18/100\n",
      "18/18 [==============================] - 1s 36ms/step - loss: 0.5273 - val_loss: 0.5502\n",
      "\n",
      "Epoch 00018: saving model to D:\\stage2_data\\study_ai_ml_google\\skl_ml\\out\\checkpoints\\weights.18-0.55.hdf5\n",
      "Epoch 19/100\n",
      "18/18 [==============================] - 1s 37ms/step - loss: 0.4173 - val_loss: 0.3493\n",
      "\n",
      "Epoch 00019: saving model to D:\\stage2_data\\study_ai_ml_google\\skl_ml\\out\\checkpoints\\weights.19-0.35.hdf5\n",
      "Epoch 20/100\n",
      "18/18 [==============================] - 1s 50ms/step - loss: 0.3961 - val_loss: 0.4305\n",
      "\n",
      "Epoch 00020: saving model to D:\\stage2_data\\study_ai_ml_google\\skl_ml\\out\\checkpoints\\weights.20-0.43.hdf5\n",
      "Epoch 21/100\n",
      "18/18 [==============================] - 1s 43ms/step - loss: 0.3996 - val_loss: 0.3128\n",
      "\n",
      "Epoch 00021: saving model to D:\\stage2_data\\study_ai_ml_google\\skl_ml\\out\\checkpoints\\weights.21-0.31.hdf5\n",
      "Epoch 22/100\n",
      "18/18 [==============================] - 1s 39ms/step - loss: 0.3701 - val_loss: 0.3737\n",
      "\n",
      "Epoch 00022: saving model to D:\\stage2_data\\study_ai_ml_google\\skl_ml\\out\\checkpoints\\weights.22-0.37.hdf5\n",
      "Epoch 23/100\n",
      "18/18 [==============================] - 1s 42ms/step - loss: 0.3154 - val_loss: 0.3161\n",
      "\n",
      "Epoch 00023: saving model to D:\\stage2_data\\study_ai_ml_google\\skl_ml\\out\\checkpoints\\weights.23-0.32.hdf5\n",
      "Epoch 24/100\n",
      "18/18 [==============================] - 1s 53ms/step - loss: 0.3353 - val_loss: 0.4787\n",
      "\n",
      "Epoch 00024: saving model to D:\\stage2_data\\study_ai_ml_google\\skl_ml\\out\\checkpoints\\weights.24-0.48.hdf5\n",
      "Epoch 25/100\n",
      "18/18 [==============================] - 1s 35ms/step - loss: 0.3159 - val_loss: 0.3158\n",
      "\n",
      "Epoch 00025: saving model to D:\\stage2_data\\study_ai_ml_google\\skl_ml\\out\\checkpoints\\weights.25-0.32.hdf5\n",
      "Epoch 26/100\n",
      "18/18 [==============================] - 1s 51ms/step - loss: 0.2825 - val_loss: 0.4621\n",
      "\n",
      "Epoch 00026: saving model to D:\\stage2_data\\study_ai_ml_google\\skl_ml\\out\\checkpoints\\weights.26-0.46.hdf5\n",
      "Epoch 27/100\n",
      "18/18 [==============================] - 1s 42ms/step - loss: 0.2997 - val_loss: 0.3206\n",
      "\n",
      "Epoch 00027: saving model to D:\\stage2_data\\study_ai_ml_google\\skl_ml\\out\\checkpoints\\weights.27-0.32.hdf5\n",
      "Epoch 28/100\n",
      "18/18 [==============================] - 1s 34ms/step - loss: 0.4381 - val_loss: 0.4181\n",
      "\n",
      "Epoch 00028: saving model to D:\\stage2_data\\study_ai_ml_google\\skl_ml\\out\\checkpoints\\weights.28-0.42.hdf5\n",
      "Epoch 29/100\n",
      "18/18 [==============================] - 1s 51ms/step - loss: 0.4930 - val_loss: 0.5661\n",
      "\n",
      "Epoch 00029: saving model to D:\\stage2_data\\study_ai_ml_google\\skl_ml\\out\\checkpoints\\weights.29-0.57.hdf5\n",
      "Epoch 30/100\n",
      "18/18 [==============================] - 1s 37ms/step - loss: 0.4187 - val_loss: 0.3558\n",
      "\n",
      "Epoch 00030: saving model to D:\\stage2_data\\study_ai_ml_google\\skl_ml\\out\\checkpoints\\weights.30-0.36.hdf5\n",
      "Epoch 31/100\n",
      "18/18 [==============================] - 1s 36ms/step - loss: 0.3395 - val_loss: 0.5816\n",
      "\n",
      "Epoch 00031: saving model to D:\\stage2_data\\study_ai_ml_google\\skl_ml\\out\\checkpoints\\weights.31-0.58.hdf5\n",
      "Epoch 32/100\n",
      "18/18 [==============================] - 1s 44ms/step - loss: 0.3767 - val_loss: 0.4057\n",
      "\n",
      "Epoch 00032: saving model to D:\\stage2_data\\study_ai_ml_google\\skl_ml\\out\\checkpoints\\weights.32-0.41.hdf5\n",
      "Epoch 33/100\n",
      "18/18 [==============================] - 1s 38ms/step - loss: 0.4375 - val_loss: 0.5698\n",
      "\n",
      "Epoch 00033: saving model to D:\\stage2_data\\study_ai_ml_google\\skl_ml\\out\\checkpoints\\weights.33-0.57.hdf5\n",
      "Epoch 34/100\n",
      "18/18 [==============================] - 1s 41ms/step - loss: 0.4806 - val_loss: 0.6025\n",
      "\n",
      "Epoch 00034: saving model to D:\\stage2_data\\study_ai_ml_google\\skl_ml\\out\\checkpoints\\weights.34-0.60.hdf5\n",
      "Epoch 35/100\n",
      "18/18 [==============================] - 1s 41ms/step - loss: 0.7317 - val_loss: 0.5923\n",
      "\n",
      "Epoch 00035: saving model to D:\\stage2_data\\study_ai_ml_google\\skl_ml\\out\\checkpoints\\weights.35-0.59.hdf5\n",
      "Epoch 36/100\n",
      "18/18 [==============================] - 1s 44ms/step - loss: 0.4519 - val_loss: 0.5811\n",
      "\n",
      "Epoch 00036: saving model to D:\\stage2_data\\study_ai_ml_google\\skl_ml\\out\\checkpoints\\weights.36-0.58.hdf5\n",
      "Epoch 37/100\n",
      "18/18 [==============================] - 1s 39ms/step - loss: 0.4666 - val_loss: 0.6182\n",
      "\n",
      "Epoch 00037: saving model to D:\\stage2_data\\study_ai_ml_google\\skl_ml\\out\\checkpoints\\weights.37-0.62.hdf5\n",
      "Epoch 38/100\n",
      "18/18 [==============================] - 1s 38ms/step - loss: 0.4223 - val_loss: 0.5726\n",
      "\n",
      "Epoch 00038: saving model to D:\\stage2_data\\study_ai_ml_google\\skl_ml\\out\\checkpoints\\weights.38-0.57.hdf5\n",
      "Epoch 39/100\n",
      "18/18 [==============================] - 1s 37ms/step - loss: 0.4306 - val_loss: 0.6597\n",
      "\n",
      "Epoch 00039: saving model to D:\\stage2_data\\study_ai_ml_google\\skl_ml\\out\\checkpoints\\weights.39-0.66.hdf5\n",
      "Epoch 40/100\n",
      "18/18 [==============================] - 1s 42ms/step - loss: 0.5245 - val_loss: 0.8692\n",
      "\n",
      "Epoch 00040: saving model to D:\\stage2_data\\study_ai_ml_google\\skl_ml\\out\\checkpoints\\weights.40-0.87.hdf5\n",
      "Epoch 41/100\n",
      "18/18 [==============================] - 1s 42ms/step - loss: 0.4347 - val_loss: 0.5526\n",
      "\n",
      "Epoch 00041: saving model to D:\\stage2_data\\study_ai_ml_google\\skl_ml\\out\\checkpoints\\weights.41-0.55.hdf5\n",
      "Epoch 42/100\n",
      "18/18 [==============================] - 1s 44ms/step - loss: 0.5805 - val_loss: 0.4718\n",
      "\n",
      "Epoch 00042: saving model to D:\\stage2_data\\study_ai_ml_google\\skl_ml\\out\\checkpoints\\weights.42-0.47.hdf5\n",
      "Epoch 43/100\n",
      "18/18 [==============================] - 1s 38ms/step - loss: 0.5972 - val_loss: 0.6741\n",
      "\n",
      "Epoch 00043: saving model to D:\\stage2_data\\study_ai_ml_google\\skl_ml\\out\\checkpoints\\weights.43-0.67.hdf5\n",
      "Epoch 44/100\n",
      "18/18 [==============================] - 1s 56ms/step - loss: 0.3635 - val_loss: 0.2689\n",
      "\n",
      "Epoch 00044: saving model to D:\\stage2_data\\study_ai_ml_google\\skl_ml\\out\\checkpoints\\weights.44-0.27.hdf5\n",
      "Epoch 45/100\n",
      "18/18 [==============================] - 1s 46ms/step - loss: 0.3952 - val_loss: 0.5486\n",
      "\n",
      "Epoch 00045: saving model to D:\\stage2_data\\study_ai_ml_google\\skl_ml\\out\\checkpoints\\weights.45-0.55.hdf5\n",
      "Epoch 46/100\n",
      "18/18 [==============================] - 1s 40ms/step - loss: 0.3744 - val_loss: 0.3296\n",
      "\n",
      "Epoch 00046: saving model to D:\\stage2_data\\study_ai_ml_google\\skl_ml\\out\\checkpoints\\weights.46-0.33.hdf5\n",
      "Epoch 47/100\n",
      "18/18 [==============================] - 1s 38ms/step - loss: 0.3668 - val_loss: 0.3113\n",
      "\n",
      "Epoch 00047: saving model to D:\\stage2_data\\study_ai_ml_google\\skl_ml\\out\\checkpoints\\weights.47-0.31.hdf5\n",
      "Epoch 48/100\n",
      "18/18 [==============================] - 1s 67ms/step - loss: 0.3641 - val_loss: 0.3987\n",
      "\n",
      "Epoch 00048: saving model to D:\\stage2_data\\study_ai_ml_google\\skl_ml\\out\\checkpoints\\weights.48-0.40.hdf5\n",
      "Epoch 49/100\n",
      "18/18 [==============================] - 1s 43ms/step - loss: 0.4529 - val_loss: 0.5741\n",
      "\n",
      "Epoch 00049: saving model to D:\\stage2_data\\study_ai_ml_google\\skl_ml\\out\\checkpoints\\weights.49-0.57.hdf5\n",
      "Epoch 50/100\n",
      "18/18 [==============================] - 1s 41ms/step - loss: 0.3871 - val_loss: 0.5541\n",
      "\n",
      "Epoch 00050: saving model to D:\\stage2_data\\study_ai_ml_google\\skl_ml\\out\\checkpoints\\weights.50-0.55.hdf5\n",
      "Epoch 51/100\n",
      "18/18 [==============================] - 1s 42ms/step - loss: 0.3369 - val_loss: 0.6224\n",
      "\n",
      "Epoch 00051: saving model to D:\\stage2_data\\study_ai_ml_google\\skl_ml\\out\\checkpoints\\weights.51-0.62.hdf5\n",
      "Epoch 52/100\n",
      "18/18 [==============================] - 1s 38ms/step - loss: 0.3577 - val_loss: 0.5178\n",
      "\n",
      "Epoch 00052: saving model to D:\\stage2_data\\study_ai_ml_google\\skl_ml\\out\\checkpoints\\weights.52-0.52.hdf5\n",
      "Epoch 53/100\n",
      "18/18 [==============================] - 1s 40ms/step - loss: 0.3472 - val_loss: 0.3573\n",
      "\n",
      "Epoch 00053: saving model to D:\\stage2_data\\study_ai_ml_google\\skl_ml\\out\\checkpoints\\weights.53-0.36.hdf5\n",
      "Epoch 54/100\n",
      "18/18 [==============================] - 1s 44ms/step - loss: 0.2863 - val_loss: 0.3559\n",
      "\n",
      "Epoch 00054: saving model to D:\\stage2_data\\study_ai_ml_google\\skl_ml\\out\\checkpoints\\weights.54-0.36.hdf5\n",
      "Epoch 55/100\n",
      "18/18 [==============================] - 1s 48ms/step - loss: 0.2793 - val_loss: 0.4159\n",
      "\n",
      "Epoch 00055: saving model to D:\\stage2_data\\study_ai_ml_google\\skl_ml\\out\\checkpoints\\weights.55-0.42.hdf5\n",
      "Epoch 56/100\n",
      "18/18 [==============================] - 1s 54ms/step - loss: 0.3223 - val_loss: 0.4730\n",
      "\n",
      "Epoch 00056: saving model to D:\\stage2_data\\study_ai_ml_google\\skl_ml\\out\\checkpoints\\weights.56-0.47.hdf5\n",
      "Epoch 57/100\n",
      "18/18 [==============================] - 1s 41ms/step - loss: 0.3468 - val_loss: 0.4714\n",
      "\n",
      "Epoch 00057: saving model to D:\\stage2_data\\study_ai_ml_google\\skl_ml\\out\\checkpoints\\weights.57-0.47.hdf5\n",
      "Epoch 58/100\n",
      "18/18 [==============================] - 1s 39ms/step - loss: 0.4312 - val_loss: 0.2750\n",
      "\n",
      "Epoch 00058: saving model to D:\\stage2_data\\study_ai_ml_google\\skl_ml\\out\\checkpoints\\weights.58-0.27.hdf5\n",
      "Epoch 59/100\n",
      "18/18 [==============================] - 1s 47ms/step - loss: 0.3991 - val_loss: 0.5061\n",
      "\n",
      "Epoch 00059: saving model to D:\\stage2_data\\study_ai_ml_google\\skl_ml\\out\\checkpoints\\weights.59-0.51.hdf5\n",
      "Epoch 60/100\n",
      "18/18 [==============================] - 1s 41ms/step - loss: 0.3778 - val_loss: 0.6160\n",
      "\n",
      "Epoch 00060: saving model to D:\\stage2_data\\study_ai_ml_google\\skl_ml\\out\\checkpoints\\weights.60-0.62.hdf5\n",
      "Epoch 61/100\n",
      "18/18 [==============================] - 1s 38ms/step - loss: 0.3859 - val_loss: 0.7537\n",
      "\n",
      "Epoch 00061: saving model to D:\\stage2_data\\study_ai_ml_google\\skl_ml\\out\\checkpoints\\weights.61-0.75.hdf5\n",
      "Epoch 62/100\n",
      "18/18 [==============================] - 1s 49ms/step - loss: 0.4864 - val_loss: 0.5124\n",
      "\n",
      "Epoch 00062: saving model to D:\\stage2_data\\study_ai_ml_google\\skl_ml\\out\\checkpoints\\weights.62-0.51.hdf5\n",
      "Epoch 63/100\n",
      "18/18 [==============================] - 1s 42ms/step - loss: 0.4606 - val_loss: 0.4436\n",
      "\n",
      "Epoch 00063: saving model to D:\\stage2_data\\study_ai_ml_google\\skl_ml\\out\\checkpoints\\weights.63-0.44.hdf5\n",
      "Epoch 64/100\n",
      "18/18 [==============================] - 1s 40ms/step - loss: 0.2815 - val_loss: 0.3824\n",
      "\n",
      "Epoch 00064: saving model to D:\\stage2_data\\study_ai_ml_google\\skl_ml\\out\\checkpoints\\weights.64-0.38.hdf5\n",
      "Epoch 65/100\n",
      "18/18 [==============================] - 1s 38ms/step - loss: 0.3633 - val_loss: 0.4044\n",
      "\n",
      "Epoch 00065: saving model to D:\\stage2_data\\study_ai_ml_google\\skl_ml\\out\\checkpoints\\weights.65-0.40.hdf5\n",
      "Epoch 66/100\n",
      "18/18 [==============================] - 1s 37ms/step - loss: 0.4043 - val_loss: 0.4855\n",
      "\n",
      "Epoch 00066: saving model to D:\\stage2_data\\study_ai_ml_google\\skl_ml\\out\\checkpoints\\weights.66-0.49.hdf5\n",
      "Epoch 67/100\n",
      "18/18 [==============================] - 1s 39ms/step - loss: 0.3842 - val_loss: 0.3749\n",
      "\n",
      "Epoch 00067: saving model to D:\\stage2_data\\study_ai_ml_google\\skl_ml\\out\\checkpoints\\weights.67-0.37.hdf5\n",
      "Epoch 68/100\n",
      "18/18 [==============================] - 1s 42ms/step - loss: 0.3895 - val_loss: 0.4009\n",
      "\n",
      "Epoch 00068: saving model to D:\\stage2_data\\study_ai_ml_google\\skl_ml\\out\\checkpoints\\weights.68-0.40.hdf5\n",
      "Epoch 69/100\n",
      "18/18 [==============================] - 1s 40ms/step - loss: 0.3368 - val_loss: 0.3093\n",
      "\n",
      "Epoch 00069: saving model to D:\\stage2_data\\study_ai_ml_google\\skl_ml\\out\\checkpoints\\weights.69-0.31.hdf5\n",
      "Epoch 70/100\n",
      "18/18 [==============================] - 1s 57ms/step - loss: 0.2681 - val_loss: 0.2798\n",
      "\n",
      "Epoch 00070: saving model to D:\\stage2_data\\study_ai_ml_google\\skl_ml\\out\\checkpoints\\weights.70-0.28.hdf5\n",
      "Epoch 71/100\n",
      "18/18 [==============================] - 1s 45ms/step - loss: 0.3132 - val_loss: 0.3590\n",
      "\n",
      "Epoch 00071: saving model to D:\\stage2_data\\study_ai_ml_google\\skl_ml\\out\\checkpoints\\weights.71-0.36.hdf5\n",
      "Epoch 72/100\n",
      "18/18 [==============================] - 1s 38ms/step - loss: 0.2725 - val_loss: 0.3194\n",
      "\n",
      "Epoch 00072: saving model to D:\\stage2_data\\study_ai_ml_google\\skl_ml\\out\\checkpoints\\weights.72-0.32.hdf5\n",
      "Epoch 73/100\n",
      "18/18 [==============================] - 1s 38ms/step - loss: 0.2920 - val_loss: 0.2677\n",
      "\n",
      "Epoch 00073: saving model to D:\\stage2_data\\study_ai_ml_google\\skl_ml\\out\\checkpoints\\weights.73-0.27.hdf5\n",
      "Epoch 74/100\n",
      "18/18 [==============================] - 1s 37ms/step - loss: 0.2410 - val_loss: 0.3176\n",
      "\n",
      "Epoch 00074: saving model to D:\\stage2_data\\study_ai_ml_google\\skl_ml\\out\\checkpoints\\weights.74-0.32.hdf5\n",
      "Epoch 75/100\n",
      "18/18 [==============================] - 1s 41ms/step - loss: 0.2705 - val_loss: 0.3399\n",
      "\n",
      "Epoch 00075: saving model to D:\\stage2_data\\study_ai_ml_google\\skl_ml\\out\\checkpoints\\weights.75-0.34.hdf5\n",
      "Epoch 76/100\n",
      "18/18 [==============================] - 1s 63ms/step - loss: 0.3211 - val_loss: 0.3955\n",
      "\n",
      "Epoch 00076: saving model to D:\\stage2_data\\study_ai_ml_google\\skl_ml\\out\\checkpoints\\weights.76-0.40.hdf5\n",
      "Epoch 77/100\n",
      "18/18 [==============================] - 1s 41ms/step - loss: 0.2936 - val_loss: 0.3535\n",
      "\n",
      "Epoch 00077: saving model to D:\\stage2_data\\study_ai_ml_google\\skl_ml\\out\\checkpoints\\weights.77-0.35.hdf5\n",
      "Epoch 78/100\n",
      "18/18 [==============================] - 1s 37ms/step - loss: 0.3209 - val_loss: 0.4084\n",
      "\n",
      "Epoch 00078: saving model to D:\\stage2_data\\study_ai_ml_google\\skl_ml\\out\\checkpoints\\weights.78-0.41.hdf5\n",
      "Epoch 79/100\n",
      "18/18 [==============================] - 1s 37ms/step - loss: 0.3418 - val_loss: 0.3219\n",
      "\n",
      "Epoch 00079: saving model to D:\\stage2_data\\study_ai_ml_google\\skl_ml\\out\\checkpoints\\weights.79-0.32.hdf5\n",
      "Epoch 80/100\n",
      "18/18 [==============================] - 1s 37ms/step - loss: 0.2416 - val_loss: 0.2845\n",
      "\n",
      "Epoch 00080: saving model to D:\\stage2_data\\study_ai_ml_google\\skl_ml\\out\\checkpoints\\weights.80-0.28.hdf5\n",
      "Epoch 81/100\n",
      "18/18 [==============================] - 1s 37ms/step - loss: 0.2407 - val_loss: 0.3346\n",
      "\n",
      "Epoch 00081: saving model to D:\\stage2_data\\study_ai_ml_google\\skl_ml\\out\\checkpoints\\weights.81-0.33.hdf5\n",
      "Epoch 82/100\n",
      "18/18 [==============================] - 1s 42ms/step - loss: 0.2266 - val_loss: 0.3218\n",
      "\n",
      "Epoch 00082: saving model to D:\\stage2_data\\study_ai_ml_google\\skl_ml\\out\\checkpoints\\weights.82-0.32.hdf5\n",
      "Epoch 83/100\n",
      "18/18 [==============================] - 1s 41ms/step - loss: 0.2258 - val_loss: 0.2965\n",
      "\n",
      "Epoch 00083: saving model to D:\\stage2_data\\study_ai_ml_google\\skl_ml\\out\\checkpoints\\weights.83-0.30.hdf5\n",
      "Epoch 84/100\n",
      "18/18 [==============================] - 1s 41ms/step - loss: 0.2552 - val_loss: 0.3129\n",
      "\n",
      "Epoch 00084: saving model to D:\\stage2_data\\study_ai_ml_google\\skl_ml\\out\\checkpoints\\weights.84-0.31.hdf5\n",
      "Epoch 85/100\n",
      "18/18 [==============================] - 1s 61ms/step - loss: 0.2398 - val_loss: 0.3933\n",
      "\n",
      "Epoch 00085: saving model to D:\\stage2_data\\study_ai_ml_google\\skl_ml\\out\\checkpoints\\weights.85-0.39.hdf5\n",
      "Epoch 86/100\n",
      "18/18 [==============================] - 1s 43ms/step - loss: 0.2670 - val_loss: 0.3512\n",
      "\n",
      "Epoch 00086: saving model to D:\\stage2_data\\study_ai_ml_google\\skl_ml\\out\\checkpoints\\weights.86-0.35.hdf5\n",
      "Epoch 87/100\n",
      "18/18 [==============================] - 1s 40ms/step - loss: 0.3341 - val_loss: 0.2987\n",
      "\n",
      "Epoch 00087: saving model to D:\\stage2_data\\study_ai_ml_google\\skl_ml\\out\\checkpoints\\weights.87-0.30.hdf5\n",
      "Epoch 88/100\n",
      "18/18 [==============================] - 1s 41ms/step - loss: 0.2625 - val_loss: 0.3622\n",
      "\n",
      "Epoch 00088: saving model to D:\\stage2_data\\study_ai_ml_google\\skl_ml\\out\\checkpoints\\weights.88-0.36.hdf5\n",
      "Epoch 89/100\n",
      "18/18 [==============================] - 1s 40ms/step - loss: 0.2638 - val_loss: 0.3623\n",
      "\n",
      "Epoch 00089: saving model to D:\\stage2_data\\study_ai_ml_google\\skl_ml\\out\\checkpoints\\weights.89-0.36.hdf5\n",
      "Epoch 90/100\n",
      "18/18 [==============================] - 1s 39ms/step - loss: 0.2595 - val_loss: 0.4736\n",
      "\n",
      "Epoch 00090: saving model to D:\\stage2_data\\study_ai_ml_google\\skl_ml\\out\\checkpoints\\weights.90-0.47.hdf5\n",
      "Epoch 91/100\n",
      "18/18 [==============================] - 1s 39ms/step - loss: 0.3889 - val_loss: 0.5554\n",
      "\n",
      "Epoch 00091: saving model to D:\\stage2_data\\study_ai_ml_google\\skl_ml\\out\\checkpoints\\weights.91-0.56.hdf5\n",
      "Epoch 92/100\n",
      "18/18 [==============================] - 1s 38ms/step - loss: 0.3012 - val_loss: 0.4222\n",
      "\n",
      "Epoch 00092: saving model to D:\\stage2_data\\study_ai_ml_google\\skl_ml\\out\\checkpoints\\weights.92-0.42.hdf5\n",
      "Epoch 93/100\n",
      "18/18 [==============================] - 1s 37ms/step - loss: 0.3365 - val_loss: 0.3704\n",
      "\n",
      "Epoch 00093: saving model to D:\\stage2_data\\study_ai_ml_google\\skl_ml\\out\\checkpoints\\weights.93-0.37.hdf5\n",
      "Epoch 94/100\n",
      "18/18 [==============================] - 1s 57ms/step - loss: 0.2632 - val_loss: 0.3312\n",
      "\n",
      "Epoch 00094: saving model to D:\\stage2_data\\study_ai_ml_google\\skl_ml\\out\\checkpoints\\weights.94-0.33.hdf5\n",
      "Epoch 95/100\n",
      "18/18 [==============================] - 1s 37ms/step - loss: 0.3241 - val_loss: 0.3586\n",
      "\n",
      "Epoch 00095: saving model to D:\\stage2_data\\study_ai_ml_google\\skl_ml\\out\\checkpoints\\weights.95-0.36.hdf5\n",
      "Epoch 96/100\n",
      "18/18 [==============================] - 1s 39ms/step - loss: 0.2301 - val_loss: 0.3460\n",
      "\n",
      "Epoch 00096: saving model to D:\\stage2_data\\study_ai_ml_google\\skl_ml\\out\\checkpoints\\weights.96-0.35.hdf5\n",
      "Epoch 97/100\n",
      "18/18 [==============================] - 1s 38ms/step - loss: 0.2967 - val_loss: 0.5523\n",
      "\n",
      "Epoch 00097: saving model to D:\\stage2_data\\study_ai_ml_google\\skl_ml\\out\\checkpoints\\weights.97-0.55.hdf5\n",
      "Epoch 98/100\n",
      "18/18 [==============================] - 1s 39ms/step - loss: 0.4582 - val_loss: 0.4339\n",
      "\n",
      "Epoch 00098: saving model to D:\\stage2_data\\study_ai_ml_google\\skl_ml\\out\\checkpoints\\weights.98-0.43.hdf5\n",
      "Epoch 99/100\n",
      "18/18 [==============================] - 1s 40ms/step - loss: 0.2868 - val_loss: 0.2977\n",
      "\n",
      "Epoch 00099: saving model to D:\\stage2_data\\study_ai_ml_google\\skl_ml\\out\\checkpoints\\weights.99-0.30.hdf5\n",
      "Epoch 100/100\n",
      "18/18 [==============================] - 1s 44ms/step - loss: 0.2754 - val_loss: 0.3053\n",
      "\n",
      "Epoch 00100: saving model to D:\\stage2_data\\study_ai_ml_google\\skl_ml\\out\\checkpoints\\weights.100-0.31.hdf5\n",
      "18/18 [==============================] - 0s 4ms/step\n"
     ]
    }
   ],
   "source": [
    "def relu_reg_model():\n",
    "    model = Sequential()\n",
    "    model.add(Dense(10, input_dim=1, activation='relu'))\n",
    "    model.add(Dense(1000, activation='relu'))\n",
    "    model.add(Dense(1000, activation='relu'))\n",
    "    model.add(Dense(1000, activation='relu'))\n",
    "    model.add(Dense(1000, activation='relu'))\n",
    "    model.add(Dense(1000, activation='relu'))\n",
    "    model.add(Dense(1000, activation='relu'))\n",
    "    model.add(Dense(1000, activation='relu'))\n",
    "    model.add(Dense(1000, activation='linear'))\n",
    "#     model.add(Dense(100, activation='relu'))\n",
    "#     model.add(Dense(100, activation='relu'))\n",
    "#     model.add(Dense(100, activation='relu'))\n",
    "#     model.add(Dense(100, activation='relu'))\n",
    "    model.add(Dense(1))\n",
    "\n",
    "    model.compile(loss='mean_squared_error', optimizer='adam')\n",
    "    return model\n",
    "from keras.models import Sequential\n",
    "from keras.layers import Input, Dense, Dropout, BatchNormalization\n",
    "from keras.wrappers.scikit_learn import KerasRegressor\n",
    "\n",
    "# use data split and fit to run the model\n",
    "estimator = KerasRegressor(build_fn=relu_reg_model, epochs=100, batch_size=5, verbose=1)\n",
    "history = estimator.fit(x_train, y_train, callbacks=[cb_cp, cb_tf], validation_data=(x_test, y_test))\n",
    "y_pred = estimator.predict(x_train)"
   ]
  },
  {
   "cell_type": "code",
   "execution_count": 13,
   "id": "94255cce",
   "metadata": {},
   "outputs": [
    {
     "name": "stdout",
     "output_type": "stream",
     "text": [
      "Epoch 1/100\n",
      "18/18 [==============================] - 2s 77ms/step - loss: 1.5962 - val_loss: 1.1246\n",
      "\n",
      "Epoch 00001: saving model to D:\\stage2_data\\study_ai_ml_google\\skl_ml\\out\\checkpoints\\weights.01-1.12.hdf5\n",
      "Epoch 2/100\n",
      "18/18 [==============================] - 1s 37ms/step - loss: 1.3109 - val_loss: 1.1898\n",
      "\n",
      "Epoch 00002: saving model to D:\\stage2_data\\study_ai_ml_google\\skl_ml\\out\\checkpoints\\weights.02-1.19.hdf5\n",
      "Epoch 3/100\n",
      "18/18 [==============================] - 1s 37ms/step - loss: 1.3034 - val_loss: 1.1117\n",
      "\n",
      "Epoch 00003: saving model to D:\\stage2_data\\study_ai_ml_google\\skl_ml\\out\\checkpoints\\weights.03-1.11.hdf5\n",
      "Epoch 4/100\n",
      "18/18 [==============================] - 1s 36ms/step - loss: 0.9503 - val_loss: 0.7907\n",
      "\n",
      "Epoch 00004: saving model to D:\\stage2_data\\study_ai_ml_google\\skl_ml\\out\\checkpoints\\weights.04-0.79.hdf5\n",
      "Epoch 5/100\n",
      "18/18 [==============================] - 1s 36ms/step - loss: 0.7618 - val_loss: 0.6952\n",
      "\n",
      "Epoch 00005: saving model to D:\\stage2_data\\study_ai_ml_google\\skl_ml\\out\\checkpoints\\weights.05-0.70.hdf5\n",
      "Epoch 6/100\n",
      "18/18 [==============================] - 1s 35ms/step - loss: 0.6432 - val_loss: 0.8319\n",
      "\n",
      "Epoch 00006: saving model to D:\\stage2_data\\study_ai_ml_google\\skl_ml\\out\\checkpoints\\weights.06-0.83.hdf5\n",
      "Epoch 7/100\n",
      "18/18 [==============================] - 1s 39ms/step - loss: 0.5965 - val_loss: 0.7552\n",
      "\n",
      "Epoch 00007: saving model to D:\\stage2_data\\study_ai_ml_google\\skl_ml\\out\\checkpoints\\weights.07-0.76.hdf5\n",
      "Epoch 8/100\n",
      "18/18 [==============================] - 1s 41ms/step - loss: 0.6287 - val_loss: 0.7119\n",
      "\n",
      "Epoch 00008: saving model to D:\\stage2_data\\study_ai_ml_google\\skl_ml\\out\\checkpoints\\weights.08-0.71.hdf5\n",
      "Epoch 9/100\n",
      "18/18 [==============================] - 1s 36ms/step - loss: 0.7471 - val_loss: 0.8650\n",
      "\n",
      "Epoch 00009: saving model to D:\\stage2_data\\study_ai_ml_google\\skl_ml\\out\\checkpoints\\weights.09-0.87.hdf5\n",
      "Epoch 10/100\n",
      "18/18 [==============================] - 1s 44ms/step - loss: 0.9133 - val_loss: 0.7108\n",
      "\n",
      "Epoch 00010: saving model to D:\\stage2_data\\study_ai_ml_google\\skl_ml\\out\\checkpoints\\weights.10-0.71.hdf5\n",
      "Epoch 11/100\n",
      "18/18 [==============================] - 1s 36ms/step - loss: 0.6046 - val_loss: 0.7798\n",
      "\n",
      "Epoch 00011: saving model to D:\\stage2_data\\study_ai_ml_google\\skl_ml\\out\\checkpoints\\weights.11-0.78.hdf5\n",
      "Epoch 12/100\n",
      "18/18 [==============================] - 1s 69ms/step - loss: 0.8437 - val_loss: 0.7379\n",
      "\n",
      "Epoch 00012: saving model to D:\\stage2_data\\study_ai_ml_google\\skl_ml\\out\\checkpoints\\weights.12-0.74.hdf5\n",
      "Epoch 13/100\n",
      "18/18 [==============================] - 1s 37ms/step - loss: 0.7517 - val_loss: 0.7633\n",
      "\n",
      "Epoch 00013: saving model to D:\\stage2_data\\study_ai_ml_google\\skl_ml\\out\\checkpoints\\weights.13-0.76.hdf5\n",
      "Epoch 14/100\n",
      "18/18 [==============================] - 1s 37ms/step - loss: 0.7072 - val_loss: 0.6396\n",
      "\n",
      "Epoch 00014: saving model to D:\\stage2_data\\study_ai_ml_google\\skl_ml\\out\\checkpoints\\weights.14-0.64.hdf5\n",
      "Epoch 15/100\n",
      "18/18 [==============================] - 1s 41ms/step - loss: 0.7081 - val_loss: 0.7794\n",
      "\n",
      "Epoch 00015: saving model to D:\\stage2_data\\study_ai_ml_google\\skl_ml\\out\\checkpoints\\weights.15-0.78.hdf5\n",
      "Epoch 16/100\n",
      "18/18 [==============================] - 1s 36ms/step - loss: 0.5393 - val_loss: 0.6847\n",
      "\n",
      "Epoch 00016: saving model to D:\\stage2_data\\study_ai_ml_google\\skl_ml\\out\\checkpoints\\weights.16-0.68.hdf5\n",
      "Epoch 17/100\n",
      "18/18 [==============================] - 1s 43ms/step - loss: 0.6225 - val_loss: 0.7395\n",
      "\n",
      "Epoch 00017: saving model to D:\\stage2_data\\study_ai_ml_google\\skl_ml\\out\\checkpoints\\weights.17-0.74.hdf5\n",
      "Epoch 18/100\n",
      "18/18 [==============================] - 1s 39ms/step - loss: 0.5393 - val_loss: 0.7096\n",
      "\n",
      "Epoch 00018: saving model to D:\\stage2_data\\study_ai_ml_google\\skl_ml\\out\\checkpoints\\weights.18-0.71.hdf5\n",
      "Epoch 19/100\n",
      "18/18 [==============================] - 1s 36ms/step - loss: 0.5473 - val_loss: 0.6257\n",
      "\n",
      "Epoch 00019: saving model to D:\\stage2_data\\study_ai_ml_google\\skl_ml\\out\\checkpoints\\weights.19-0.63.hdf5\n",
      "Epoch 20/100\n",
      "18/18 [==============================] - 1s 54ms/step - loss: 0.4745 - val_loss: 0.8311\n",
      "\n",
      "Epoch 00020: saving model to D:\\stage2_data\\study_ai_ml_google\\skl_ml\\out\\checkpoints\\weights.20-0.83.hdf5\n",
      "Epoch 21/100\n",
      "18/18 [==============================] - 1s 50ms/step - loss: 0.5164 - val_loss: 1.1553\n",
      "\n",
      "Epoch 00021: saving model to D:\\stage2_data\\study_ai_ml_google\\skl_ml\\out\\checkpoints\\weights.21-1.16.hdf5\n",
      "Epoch 22/100\n",
      "18/18 [==============================] - 1s 44ms/step - loss: 0.9665 - val_loss: 0.7670\n",
      "\n",
      "Epoch 00022: saving model to D:\\stage2_data\\study_ai_ml_google\\skl_ml\\out\\checkpoints\\weights.22-0.77.hdf5\n",
      "Epoch 23/100\n",
      "18/18 [==============================] - 1s 36ms/step - loss: 0.7395 - val_loss: 0.6490\n",
      "\n",
      "Epoch 00023: saving model to D:\\stage2_data\\study_ai_ml_google\\skl_ml\\out\\checkpoints\\weights.23-0.65.hdf5\n",
      "Epoch 24/100\n",
      "18/18 [==============================] - 1s 44ms/step - loss: 0.6341 - val_loss: 0.7713\n",
      "\n",
      "Epoch 00024: saving model to D:\\stage2_data\\study_ai_ml_google\\skl_ml\\out\\checkpoints\\weights.24-0.77.hdf5\n",
      "Epoch 25/100\n",
      "18/18 [==============================] - 1s 40ms/step - loss: 0.7835 - val_loss: 0.7770\n",
      "\n",
      "Epoch 00025: saving model to D:\\stage2_data\\study_ai_ml_google\\skl_ml\\out\\checkpoints\\weights.25-0.78.hdf5\n",
      "Epoch 26/100\n",
      "18/18 [==============================] - 1s 39ms/step - loss: 0.6914 - val_loss: 0.6989\n",
      "\n",
      "Epoch 00026: saving model to D:\\stage2_data\\study_ai_ml_google\\skl_ml\\out\\checkpoints\\weights.26-0.70.hdf5\n",
      "Epoch 27/100\n",
      "18/18 [==============================] - 1s 40ms/step - loss: 0.5703 - val_loss: 0.6876\n",
      "\n",
      "Epoch 00027: saving model to D:\\stage2_data\\study_ai_ml_google\\skl_ml\\out\\checkpoints\\weights.27-0.69.hdf5\n",
      "Epoch 28/100\n",
      "18/18 [==============================] - 1s 46ms/step - loss: 0.9020 - val_loss: 0.8810\n",
      "\n",
      "Epoch 00028: saving model to D:\\stage2_data\\study_ai_ml_google\\skl_ml\\out\\checkpoints\\weights.28-0.88.hdf5\n",
      "Epoch 29/100\n",
      "18/18 [==============================] - 1s 37ms/step - loss: 0.9417 - val_loss: 0.7191\n",
      "\n",
      "Epoch 00029: saving model to D:\\stage2_data\\study_ai_ml_google\\skl_ml\\out\\checkpoints\\weights.29-0.72.hdf5\n",
      "Epoch 30/100\n",
      "18/18 [==============================] - 1s 53ms/step - loss: 1.0142 - val_loss: 1.1866\n",
      "\n",
      "Epoch 00030: saving model to D:\\stage2_data\\study_ai_ml_google\\skl_ml\\out\\checkpoints\\weights.30-1.19.hdf5\n",
      "Epoch 31/100\n",
      "18/18 [==============================] - 1s 44ms/step - loss: 1.4146 - val_loss: 0.9576\n",
      "\n",
      "Epoch 00031: saving model to D:\\stage2_data\\study_ai_ml_google\\skl_ml\\out\\checkpoints\\weights.31-0.96.hdf5\n",
      "Epoch 32/100\n",
      "18/18 [==============================] - 1s 37ms/step - loss: 0.7510 - val_loss: 0.7531\n",
      "\n",
      "Epoch 00032: saving model to D:\\stage2_data\\study_ai_ml_google\\skl_ml\\out\\checkpoints\\weights.32-0.75.hdf5\n",
      "Epoch 33/100\n",
      "18/18 [==============================] - 1s 41ms/step - loss: 0.8944 - val_loss: 0.7444\n",
      "\n",
      "Epoch 00033: saving model to D:\\stage2_data\\study_ai_ml_google\\skl_ml\\out\\checkpoints\\weights.33-0.74.hdf5\n",
      "Epoch 34/100\n",
      "18/18 [==============================] - 1s 46ms/step - loss: 0.6986 - val_loss: 0.5566\n",
      "\n",
      "Epoch 00034: saving model to D:\\stage2_data\\study_ai_ml_google\\skl_ml\\out\\checkpoints\\weights.34-0.56.hdf5\n",
      "Epoch 35/100\n",
      "18/18 [==============================] - 1s 38ms/step - loss: 0.8392 - val_loss: 0.7270\n",
      "\n",
      "Epoch 00035: saving model to D:\\stage2_data\\study_ai_ml_google\\skl_ml\\out\\checkpoints\\weights.35-0.73.hdf5\n",
      "Epoch 36/100\n",
      "18/18 [==============================] - 1s 43ms/step - loss: 0.6449 - val_loss: 0.5736\n",
      "\n",
      "Epoch 00036: saving model to D:\\stage2_data\\study_ai_ml_google\\skl_ml\\out\\checkpoints\\weights.36-0.57.hdf5\n",
      "Epoch 37/100\n",
      "18/18 [==============================] - 1s 37ms/step - loss: 0.5356 - val_loss: 0.6208\n",
      "\n",
      "Epoch 00037: saving model to D:\\stage2_data\\study_ai_ml_google\\skl_ml\\out\\checkpoints\\weights.37-0.62.hdf5\n",
      "Epoch 38/100\n",
      "18/18 [==============================] - 1s 35ms/step - loss: 0.5665 - val_loss: 0.6182\n",
      "\n",
      "Epoch 00038: saving model to D:\\stage2_data\\study_ai_ml_google\\skl_ml\\out\\checkpoints\\weights.38-0.62.hdf5\n",
      "Epoch 39/100\n",
      "18/18 [==============================] - 1s 53ms/step - loss: 0.6323 - val_loss: 0.8202\n",
      "\n",
      "Epoch 00039: saving model to D:\\stage2_data\\study_ai_ml_google\\skl_ml\\out\\checkpoints\\weights.39-0.82.hdf5\n",
      "Epoch 40/100\n",
      "18/18 [==============================] - 1s 48ms/step - loss: 0.5359 - val_loss: 0.5761\n",
      "\n",
      "Epoch 00040: saving model to D:\\stage2_data\\study_ai_ml_google\\skl_ml\\out\\checkpoints\\weights.40-0.58.hdf5\n",
      "Epoch 41/100\n",
      "18/18 [==============================] - 1s 40ms/step - loss: 0.4885 - val_loss: 0.6031\n",
      "\n",
      "Epoch 00041: saving model to D:\\stage2_data\\study_ai_ml_google\\skl_ml\\out\\checkpoints\\weights.41-0.60.hdf5\n",
      "Epoch 42/100\n",
      "18/18 [==============================] - 1s 45ms/step - loss: 0.4557 - val_loss: 0.5871\n",
      "\n",
      "Epoch 00042: saving model to D:\\stage2_data\\study_ai_ml_google\\skl_ml\\out\\checkpoints\\weights.42-0.59.hdf5\n",
      "Epoch 43/100\n",
      "18/18 [==============================] - 1s 35ms/step - loss: 0.4134 - val_loss: 0.7134\n",
      "\n",
      "Epoch 00043: saving model to D:\\stage2_data\\study_ai_ml_google\\skl_ml\\out\\checkpoints\\weights.43-0.71.hdf5\n",
      "Epoch 44/100\n",
      "18/18 [==============================] - 1s 39ms/step - loss: 0.4943 - val_loss: 0.5979\n",
      "\n",
      "Epoch 00044: saving model to D:\\stage2_data\\study_ai_ml_google\\skl_ml\\out\\checkpoints\\weights.44-0.60.hdf5\n",
      "Epoch 45/100\n",
      "18/18 [==============================] - 1s 52ms/step - loss: 0.4188 - val_loss: 0.6158\n",
      "\n",
      "Epoch 00045: saving model to D:\\stage2_data\\study_ai_ml_google\\skl_ml\\out\\checkpoints\\weights.45-0.62.hdf5\n",
      "Epoch 46/100\n",
      "18/18 [==============================] - 1s 34ms/step - loss: 0.4014 - val_loss: 0.6077\n",
      "\n",
      "Epoch 00046: saving model to D:\\stage2_data\\study_ai_ml_google\\skl_ml\\out\\checkpoints\\weights.46-0.61.hdf5\n",
      "Epoch 47/100\n",
      "18/18 [==============================] - 1s 35ms/step - loss: 0.3988 - val_loss: 0.6340\n",
      "\n",
      "Epoch 00047: saving model to D:\\stage2_data\\study_ai_ml_google\\skl_ml\\out\\checkpoints\\weights.47-0.63.hdf5\n",
      "Epoch 48/100\n",
      "18/18 [==============================] - 1s 34ms/step - loss: 0.3992 - val_loss: 0.6847\n",
      "\n",
      "Epoch 00048: saving model to D:\\stage2_data\\study_ai_ml_google\\skl_ml\\out\\checkpoints\\weights.48-0.68.hdf5\n",
      "Epoch 49/100\n",
      "18/18 [==============================] - 1s 35ms/step - loss: 0.4375 - val_loss: 0.7005\n",
      "\n",
      "Epoch 00049: saving model to D:\\stage2_data\\study_ai_ml_google\\skl_ml\\out\\checkpoints\\weights.49-0.70.hdf5\n",
      "Epoch 50/100\n",
      "18/18 [==============================] - 1s 58ms/step - loss: 0.4138 - val_loss: 0.5917\n",
      "\n",
      "Epoch 00050: saving model to D:\\stage2_data\\study_ai_ml_google\\skl_ml\\out\\checkpoints\\weights.50-0.59.hdf5\n",
      "Epoch 51/100\n",
      "18/18 [==============================] - 1s 40ms/step - loss: 0.5805 - val_loss: 0.6950\n",
      "\n",
      "Epoch 00051: saving model to D:\\stage2_data\\study_ai_ml_google\\skl_ml\\out\\checkpoints\\weights.51-0.70.hdf5\n",
      "Epoch 52/100\n",
      "18/18 [==============================] - 1s 43ms/step - loss: 0.6324 - val_loss: 0.8054\n",
      "\n",
      "Epoch 00052: saving model to D:\\stage2_data\\study_ai_ml_google\\skl_ml\\out\\checkpoints\\weights.52-0.81.hdf5\n",
      "Epoch 53/100\n",
      "18/18 [==============================] - 1s 38ms/step - loss: 0.6001 - val_loss: 0.6348\n",
      "\n",
      "Epoch 00053: saving model to D:\\stage2_data\\study_ai_ml_google\\skl_ml\\out\\checkpoints\\weights.53-0.63.hdf5\n",
      "Epoch 54/100\n",
      "18/18 [==============================] - 1s 38ms/step - loss: 0.5615 - val_loss: 0.5802\n",
      "\n",
      "Epoch 00054: saving model to D:\\stage2_data\\study_ai_ml_google\\skl_ml\\out\\checkpoints\\weights.54-0.58.hdf5\n",
      "Epoch 55/100\n",
      "18/18 [==============================] - 1s 37ms/step - loss: 0.5868 - val_loss: 0.5783\n",
      "\n",
      "Epoch 00055: saving model to D:\\stage2_data\\study_ai_ml_google\\skl_ml\\out\\checkpoints\\weights.55-0.58.hdf5\n",
      "Epoch 56/100\n",
      "18/18 [==============================] - 1s 74ms/step - loss: 1.1013 - val_loss: 0.6591\n",
      "\n",
      "Epoch 00056: saving model to D:\\stage2_data\\study_ai_ml_google\\skl_ml\\out\\checkpoints\\weights.56-0.66.hdf5\n",
      "Epoch 57/100\n",
      "18/18 [==============================] - 1s 37ms/step - loss: 0.5441 - val_loss: 0.6194\n",
      "\n",
      "Epoch 00057: saving model to D:\\stage2_data\\study_ai_ml_google\\skl_ml\\out\\checkpoints\\weights.57-0.62.hdf5\n",
      "Epoch 58/100\n",
      "18/18 [==============================] - 1s 35ms/step - loss: 0.5707 - val_loss: 0.6448\n",
      "\n",
      "Epoch 00058: saving model to D:\\stage2_data\\study_ai_ml_google\\skl_ml\\out\\checkpoints\\weights.58-0.64.hdf5\n",
      "Epoch 59/100\n",
      "18/18 [==============================] - 1s 36ms/step - loss: 0.7601 - val_loss: 0.7517\n",
      "\n",
      "Epoch 00059: saving model to D:\\stage2_data\\study_ai_ml_google\\skl_ml\\out\\checkpoints\\weights.59-0.75.hdf5\n",
      "Epoch 60/100\n",
      "18/18 [==============================] - 1s 40ms/step - loss: 0.5553 - val_loss: 0.5131\n",
      "\n",
      "Epoch 00060: saving model to D:\\stage2_data\\study_ai_ml_google\\skl_ml\\out\\checkpoints\\weights.60-0.51.hdf5\n",
      "Epoch 61/100\n",
      "18/18 [==============================] - 1s 39ms/step - loss: 0.5124 - val_loss: 0.5111\n",
      "\n",
      "Epoch 00061: saving model to D:\\stage2_data\\study_ai_ml_google\\skl_ml\\out\\checkpoints\\weights.61-0.51.hdf5\n",
      "Epoch 62/100\n",
      "18/18 [==============================] - 1s 48ms/step - loss: 0.5062 - val_loss: 0.5044\n",
      "\n",
      "Epoch 00062: saving model to D:\\stage2_data\\study_ai_ml_google\\skl_ml\\out\\checkpoints\\weights.62-0.50.hdf5\n",
      "Epoch 63/100\n",
      "18/18 [==============================] - 1s 36ms/step - loss: 0.4590 - val_loss: 0.6638\n",
      "\n",
      "Epoch 00063: saving model to D:\\stage2_data\\study_ai_ml_google\\skl_ml\\out\\checkpoints\\weights.63-0.66.hdf5\n",
      "Epoch 64/100\n",
      "18/18 [==============================] - 1s 35ms/step - loss: 0.5357 - val_loss: 0.5634\n",
      "\n",
      "Epoch 00064: saving model to D:\\stage2_data\\study_ai_ml_google\\skl_ml\\out\\checkpoints\\weights.64-0.56.hdf5\n",
      "Epoch 65/100\n",
      "18/18 [==============================] - 1s 36ms/step - loss: 0.5050 - val_loss: 0.5288\n",
      "\n",
      "Epoch 00065: saving model to D:\\stage2_data\\study_ai_ml_google\\skl_ml\\out\\checkpoints\\weights.65-0.53.hdf5\n",
      "Epoch 66/100\n",
      "18/18 [==============================] - 1s 45ms/step - loss: 0.4081 - val_loss: 0.6354\n",
      "\n",
      "Epoch 00066: saving model to D:\\stage2_data\\study_ai_ml_google\\skl_ml\\out\\checkpoints\\weights.66-0.64.hdf5\n",
      "Epoch 67/100\n",
      "18/18 [==============================] - 1s 36ms/step - loss: 0.4233 - val_loss: 0.5967\n",
      "\n",
      "Epoch 00067: saving model to D:\\stage2_data\\study_ai_ml_google\\skl_ml\\out\\checkpoints\\weights.67-0.60.hdf5\n",
      "Epoch 68/100\n",
      "18/18 [==============================] - 1s 37ms/step - loss: 0.4550 - val_loss: 0.5159\n",
      "\n",
      "Epoch 00068: saving model to D:\\stage2_data\\study_ai_ml_google\\skl_ml\\out\\checkpoints\\weights.68-0.52.hdf5\n",
      "Epoch 69/100\n",
      "18/18 [==============================] - 1s 41ms/step - loss: 0.4681 - val_loss: 0.5357\n",
      "\n",
      "Epoch 00069: saving model to D:\\stage2_data\\study_ai_ml_google\\skl_ml\\out\\checkpoints\\weights.69-0.54.hdf5\n",
      "Epoch 70/100\n",
      "18/18 [==============================] - 1s 38ms/step - loss: 0.4537 - val_loss: 0.6160\n",
      "\n",
      "Epoch 00070: saving model to D:\\stage2_data\\study_ai_ml_google\\skl_ml\\out\\checkpoints\\weights.70-0.62.hdf5\n",
      "Epoch 71/100\n",
      "18/18 [==============================] - 1s 37ms/step - loss: 0.4384 - val_loss: 0.6657\n",
      "\n",
      "Epoch 00071: saving model to D:\\stage2_data\\study_ai_ml_google\\skl_ml\\out\\checkpoints\\weights.71-0.67.hdf5\n",
      "Epoch 72/100\n",
      "18/18 [==============================] - 1s 52ms/step - loss: 0.4304 - val_loss: 0.7115\n",
      "\n",
      "Epoch 00072: saving model to D:\\stage2_data\\study_ai_ml_google\\skl_ml\\out\\checkpoints\\weights.72-0.71.hdf5\n",
      "Epoch 73/100\n",
      "18/18 [==============================] - 1s 36ms/step - loss: 0.4260 - val_loss: 0.5480\n",
      "\n",
      "Epoch 00073: saving model to D:\\stage2_data\\study_ai_ml_google\\skl_ml\\out\\checkpoints\\weights.73-0.55.hdf5\n",
      "Epoch 74/100\n",
      "18/18 [==============================] - 1s 38ms/step - loss: 0.4051 - val_loss: 0.5731\n",
      "\n",
      "Epoch 00074: saving model to D:\\stage2_data\\study_ai_ml_google\\skl_ml\\out\\checkpoints\\weights.74-0.57.hdf5\n",
      "Epoch 75/100\n",
      "18/18 [==============================] - 1s 37ms/step - loss: 0.4395 - val_loss: 0.6404\n",
      "\n",
      "Epoch 00075: saving model to D:\\stage2_data\\study_ai_ml_google\\skl_ml\\out\\checkpoints\\weights.75-0.64.hdf5\n",
      "Epoch 76/100\n",
      "18/18 [==============================] - 1s 38ms/step - loss: 0.4147 - val_loss: 0.5361\n",
      "\n",
      "Epoch 00076: saving model to D:\\stage2_data\\study_ai_ml_google\\skl_ml\\out\\checkpoints\\weights.76-0.54.hdf5\n",
      "Epoch 77/100\n",
      "18/18 [==============================] - 1s 38ms/step - loss: 0.4119 - val_loss: 0.6082\n",
      "\n",
      "Epoch 00077: saving model to D:\\stage2_data\\study_ai_ml_google\\skl_ml\\out\\checkpoints\\weights.77-0.61.hdf5\n",
      "Epoch 78/100\n",
      "18/18 [==============================] - 1s 39ms/step - loss: 0.4190 - val_loss: 0.5816\n",
      "\n",
      "Epoch 00078: saving model to D:\\stage2_data\\study_ai_ml_google\\skl_ml\\out\\checkpoints\\weights.78-0.58.hdf5\n",
      "Epoch 79/100\n",
      "18/18 [==============================] - 1s 37ms/step - loss: 0.3967 - val_loss: 0.5116\n",
      "\n",
      "Epoch 00079: saving model to D:\\stage2_data\\study_ai_ml_google\\skl_ml\\out\\checkpoints\\weights.79-0.51.hdf5\n",
      "Epoch 80/100\n",
      "18/18 [==============================] - 1s 43ms/step - loss: 0.3966 - val_loss: 0.6584\n",
      "\n",
      "Epoch 00080: saving model to D:\\stage2_data\\study_ai_ml_google\\skl_ml\\out\\checkpoints\\weights.80-0.66.hdf5\n",
      "Epoch 81/100\n",
      "18/18 [==============================] - 1s 40ms/step - loss: 0.4041 - val_loss: 0.5614\n",
      "\n",
      "Epoch 00081: saving model to D:\\stage2_data\\study_ai_ml_google\\skl_ml\\out\\checkpoints\\weights.81-0.56.hdf5\n",
      "Epoch 82/100\n",
      "18/18 [==============================] - 1s 36ms/step - loss: 0.4061 - val_loss: 0.6370\n",
      "\n",
      "Epoch 00082: saving model to D:\\stage2_data\\study_ai_ml_google\\skl_ml\\out\\checkpoints\\weights.82-0.64.hdf5\n",
      "Epoch 83/100\n",
      "18/18 [==============================] - 1s 50ms/step - loss: 0.3960 - val_loss: 0.6606\n",
      "\n",
      "Epoch 00083: saving model to D:\\stage2_data\\study_ai_ml_google\\skl_ml\\out\\checkpoints\\weights.83-0.66.hdf5\n",
      "Epoch 84/100\n",
      "18/18 [==============================] - 1s 37ms/step - loss: 0.4095 - val_loss: 0.6571\n",
      "\n",
      "Epoch 00084: saving model to D:\\stage2_data\\study_ai_ml_google\\skl_ml\\out\\checkpoints\\weights.84-0.66.hdf5\n",
      "Epoch 85/100\n",
      "18/18 [==============================] - 1s 37ms/step - loss: 0.4301 - val_loss: 0.5139\n",
      "\n",
      "Epoch 00085: saving model to D:\\stage2_data\\study_ai_ml_google\\skl_ml\\out\\checkpoints\\weights.85-0.51.hdf5\n",
      "Epoch 86/100\n",
      "18/18 [==============================] - 1s 48ms/step - loss: 0.4158 - val_loss: 0.5350\n",
      "\n",
      "Epoch 00086: saving model to D:\\stage2_data\\study_ai_ml_google\\skl_ml\\out\\checkpoints\\weights.86-0.53.hdf5\n",
      "Epoch 87/100\n",
      "18/18 [==============================] - 1s 38ms/step - loss: 0.3738 - val_loss: 0.5786\n",
      "\n",
      "Epoch 00087: saving model to D:\\stage2_data\\study_ai_ml_google\\skl_ml\\out\\checkpoints\\weights.87-0.58.hdf5\n",
      "Epoch 88/100\n",
      "18/18 [==============================] - 1s 37ms/step - loss: 0.3895 - val_loss: 0.6221\n",
      "\n",
      "Epoch 00088: saving model to D:\\stage2_data\\study_ai_ml_google\\skl_ml\\out\\checkpoints\\weights.88-0.62.hdf5\n",
      "Epoch 89/100\n",
      "18/18 [==============================] - 1s 37ms/step - loss: 0.4492 - val_loss: 0.4872\n",
      "\n",
      "Epoch 00089: saving model to D:\\stage2_data\\study_ai_ml_google\\skl_ml\\out\\checkpoints\\weights.89-0.49.hdf5\n",
      "Epoch 90/100\n",
      "18/18 [==============================] - 1s 36ms/step - loss: 0.4299 - val_loss: 0.5900\n",
      "\n",
      "Epoch 00090: saving model to D:\\stage2_data\\study_ai_ml_google\\skl_ml\\out\\checkpoints\\weights.90-0.59.hdf5\n",
      "Epoch 91/100\n",
      "18/18 [==============================] - 1s 62ms/step - loss: 0.4833 - val_loss: 0.5105\n",
      "\n",
      "Epoch 00091: saving model to D:\\stage2_data\\study_ai_ml_google\\skl_ml\\out\\checkpoints\\weights.91-0.51.hdf5\n",
      "Epoch 92/100\n",
      "18/18 [==============================] - 1s 37ms/step - loss: 0.4088 - val_loss: 0.6222\n",
      "\n",
      "Epoch 00092: saving model to D:\\stage2_data\\study_ai_ml_google\\skl_ml\\out\\checkpoints\\weights.92-0.62.hdf5\n",
      "Epoch 93/100\n",
      "18/18 [==============================] - 1s 37ms/step - loss: 0.3858 - val_loss: 0.6352\n",
      "\n",
      "Epoch 00093: saving model to D:\\stage2_data\\study_ai_ml_google\\skl_ml\\out\\checkpoints\\weights.93-0.64.hdf5\n",
      "Epoch 94/100\n",
      "18/18 [==============================] - 1s 36ms/step - loss: 0.5500 - val_loss: 0.6537\n",
      "\n",
      "Epoch 00094: saving model to D:\\stage2_data\\study_ai_ml_google\\skl_ml\\out\\checkpoints\\weights.94-0.65.hdf5\n",
      "Epoch 95/100\n",
      "18/18 [==============================] - 1s 36ms/step - loss: 0.4349 - val_loss: 0.5543\n",
      "\n",
      "Epoch 00095: saving model to D:\\stage2_data\\study_ai_ml_google\\skl_ml\\out\\checkpoints\\weights.95-0.55.hdf5\n",
      "Epoch 96/100\n",
      "18/18 [==============================] - 1s 37ms/step - loss: 0.4165 - val_loss: 0.4924\n",
      "\n",
      "Epoch 00096: saving model to D:\\stage2_data\\study_ai_ml_google\\skl_ml\\out\\checkpoints\\weights.96-0.49.hdf5\n",
      "Epoch 97/100\n",
      "18/18 [==============================] - 1s 39ms/step - loss: 0.3873 - val_loss: 0.6857\n",
      "\n",
      "Epoch 00097: saving model to D:\\stage2_data\\study_ai_ml_google\\skl_ml\\out\\checkpoints\\weights.97-0.69.hdf5\n",
      "Epoch 98/100\n",
      "18/18 [==============================] - 1s 35ms/step - loss: 0.4499 - val_loss: 0.5576\n",
      "\n",
      "Epoch 00098: saving model to D:\\stage2_data\\study_ai_ml_google\\skl_ml\\out\\checkpoints\\weights.98-0.56.hdf5\n",
      "Epoch 99/100\n",
      "18/18 [==============================] - 1s 61ms/step - loss: 0.5784 - val_loss: 0.5993\n",
      "\n",
      "Epoch 00099: saving model to D:\\stage2_data\\study_ai_ml_google\\skl_ml\\out\\checkpoints\\weights.99-0.60.hdf5\n",
      "Epoch 100/100\n",
      "18/18 [==============================] - 1s 37ms/step - loss: 0.5741 - val_loss: 0.6761\n",
      "\n",
      "Epoch 00100: saving model to D:\\stage2_data\\study_ai_ml_google\\skl_ml\\out\\checkpoints\\weights.100-0.68.hdf5\n",
      "18/18 [==============================] - 0s 4ms/step\n"
     ]
    }
   ],
   "source": [
    "from keras.models import Sequential\n",
    "from keras.layers import Input, Dense, Dropout, BatchNormalization\n",
    "from keras.wrappers.scikit_learn import KerasRegressor\n",
    "\n",
    "# use data split and fit to run the model\n",
    "estimator = KerasRegressor(build_fn=relu_reg_model, epochs=100, batch_size=5, verbose=1)\n",
    "history = estimator.fit(x_train, y_train, callbacks=[cb_cp, cb_tf], validation_data=(x_test, y_test))\n",
    "y_pred = estimator.predict(x_train)"
   ]
  },
  {
   "cell_type": "code",
   "execution_count": 14,
   "id": "2065a4c5",
   "metadata": {},
   "outputs": [
    {
     "data": {
      "text/plain": [
       "[<matplotlib.lines.Line2D at 0x6407a7f2b0>]"
      ]
     },
     "execution_count": 14,
     "metadata": {},
     "output_type": "execute_result"
    },
    {
     "data": {
      "image/png": "[encoded data removed]",
      "text/plain": [
       "<Figure size 432x288 with 1 Axes>"
      ]
     },
     "metadata": {
      "needs_background": "light"
     },
     "output_type": "display_data"
    }
   ],
   "source": [
    "plt.title('NonLiner Regressions via DL by ReLU')\n",
    "plt.plot(data, target, 'o')\n",
    "plt.plot(data, true_func(data), '.')\n",
    "plt.plot(x_train, y_pred, \"o\", label='predicted: deep learning')\n",
    "#plt.legend(loc=2)"
   ]
  },
  {
   "cell_type": "code",
   "execution_count": 15,
   "id": "1b6ea196",
   "metadata": {},
   "outputs": [
    {
     "name": "stdout",
     "output_type": "stream",
     "text": [
      "[-0. -0. -0. -0. -0. -0. -0. -0. -0. -0. -0. -0. -0. -0. -0. -0. -0. -0.\n",
      " -0. -0. -0. -0. -0. -0. -0. -0. -0. -0. -0. -0. -0. -0. -0. -0. -0. -0.\n",
      " -0. -0. -0. -0.  0.  0.  0.  0.  0.  0.  0.  0.  0.  0.  0.  0.  0.  0.\n",
      "  0.  0.  0.  0.  0.  0.  0.  0.  0.  0.  0.  0.  0.  0.  0.  0.  0.  0.\n",
      "  0.  0.  0.  0.  0.  0.  0.  0.  0.  0.  0.  0.  0.  0.  0.  0.  0.  0.\n",
      "  0.  0.  0.  0.  0.  0.  0.  0.  0.  0.]\n"
     ]
    }
   ],
   "source": [
    "print(lasso_clf.coef_)"
   ]
  },
  {
   "cell_type": "markdown",
   "id": "a2906b5d",
   "metadata": {},
   "source": [
    "## 3.ロジスティック回帰モデル\n"
   ]
  },
  {
   "cell_type": "markdown",
   "id": "b2a25dc8",
   "metadata": {},
   "source": [
    "#### &emsp;3.1ロジスティック回帰モデル　\n",
    "#####  &emsp;　教師あり学習のひとつで分類問題(クラス分類）を扱うときに使用する。\n",
    "####  &emsp; 分類で扱うデータ\n",
    "##### 　入力（説明変数または特徴量）：m次元のベクトル\n",
    "##### 　出力（目的変数）　　　　　　：　0 or 1の値\n",
    "##### &emsp;&emsp; パラメータ：　$w$ = $(w_1,w_2 , \\cdots , w_m )^T \\in \\mathbb{R}^m$ \n",
    "##### &emsp;&emsp;線形結合　 ：　$\\hat y$ = $w^T x + w_0 $ = $  \\sum _{j=1} ^{m} w_j x_j +w_0$ \n",
    "##### &emsp;&emsp;&emsp;&emsp;&emsp;&emsp;出力yは０～１の値。Yの値算出のため活性化関数を使用する。\n",
    "#### 3.1.2 シグモイド関数\n",
    "####  &emsp;&emsp; &emsp;&emsp; $ \\sigma(x) $ = $\\frac{1}{1+\\exp(-ax)}$ パラメータが変わるとシグモイド関数の形が変わる\n",
    "#####   &emsp;&emsp; &emsp;&emsp; シグモイド関数の性質\n",
    "#####   &emsp;シグモイド関数の微分は、シグモイド関数自身で表現することが可能\n",
    "####    &emsp;&emsp; &emsp;&emsp; $ \\frac{\\partial \\sigma(x) }{\\partial x} $ = $ \\frac{\\partial}{\\partial x}$  ($ \\frac{1}{1+\\exp(-ax)}$ )\n",
    "####  &emsp;&emsp;&emsp;&emsp;   = $ a \\sigma(x) (1 - \\sigma(x)) $\n",
    "####  &emsp; シグモイド関数の出力をY=1になる確率\n",
    "#### &emsp;&emsp;&emsp;&emsp;  $ P(Y = 1  \\mid x ) $ = $ \\sigma(w_0 + w_1 x_1 + \\cdots + w_m x_m ) $"
   ]
  },
  {
   "cell_type": "code",
   "execution_count": 9,
   "id": "bf79f260",
   "metadata": {},
   "outputs": [
    {
     "data": {
      "image/png": "[encoded data removed]",
      "text/plain": [
       "<Figure size 432x288 with 1 Axes>"
      ]
     },
     "metadata": {
      "needs_background": "light"
     },
     "output_type": "display_data"
    }
   ],
   "source": [
    "#####　シグモイド関数 (a=1.0)\n",
    "import numpy as np\n",
    "import matplotlib.pylab as plt\n",
    "\n",
    "def step_function(x):\n",
    "    return np.array(x > 0,dtype=np.int)\n",
    "\n",
    "def sigmoid(x):\n",
    "    return 1/(1+np.exp(-x))\n",
    "\n",
    "#x= np.arrary([-1.0,1.0,2.0])\n",
    "#print(x)\n",
    "#print(sigmoid(x))\n",
    "\n",
    "\n",
    "x=np.arange(-5.0 ,5.0,0.1)\n",
    "# y=step_function(x)\n",
    "y =sigmoid(x)\n",
    "\n",
    "plt.plot(x,y)\n",
    "plt.ylim(-0.1,1.1) # y-axis\n",
    "plt.show()"
   ]
  },
  {
   "cell_type": "code",
   "execution_count": 10,
   "id": "106067c5",
   "metadata": {},
   "outputs": [
    {
     "data": {
      "image/png": "[encoded data removed]",
      "text/plain": [
       "<Figure size 432x288 with 1 Axes>"
      ]
     },
     "metadata": {
      "needs_background": "light"
     },
     "output_type": "display_data"
    }
   ],
   "source": [
    "#####　シグモイド関数 (a=10)\n",
    "import numpy as np\n",
    "import matplotlib.pylab as plt\n",
    "\n",
    "def step_function(x):\n",
    "    return np.array(x > 0,dtype=np.int)\n",
    "\n",
    "def sigmoid(x):\n",
    "    return 1/(1+np.exp(-10 *x))\n",
    "\n",
    "#x= np.arrary([-1.0,1.0,2.0])\n",
    "#print(x)\n",
    "#print(sigmoid(x))\n",
    "\n",
    "\n",
    "x=np.arange(-5.0 ,5.0,0.1)\n",
    "# y=step_function(x)\n",
    "y =sigmoid(x)\n",
    "\n",
    "plt.plot(x,y)\n",
    "plt.ylim(-0.1,1.1) # y-axis\n",
    "plt.show()"
   ]
  },
  {
   "cell_type": "markdown",
   "id": "6e6876d6",
   "metadata": {},
   "source": [
    "#### 3.1.3 最尤推定\n",
    "##### &emsp;&emsp;&emsp; 確率分布 (正規分布、t分布、ガンマ分布、一様分布、ディリクレ分布)\n",
    "##### &emsp;&emsp;&emsp; &emsp; 　ロジスティック回帰モデルではベルヌーイ分布を利用\n",
    "#### 3.1.3.1 ベルヌーイ分布\n",
    "#####   離散確率分布(例：コインを投げ)\n",
    "##### &emsp;&emsp; 数学において、確率pで1、確率1 − p で0をとる、離散確率分布\n",
    "###### &emsp;&emsp;&emsp;&emsp;$P(x \\mid \\mu ）= \\mu^x (1- \\mu) ^{1-x} $\n",
    "###### 同時確率 :あるデータが得られた時、それが同時に得られる確率\n",
    "###### 尤度関数: データは固定し、パラメータを変化させる\n",
    "###### 尤度関数を最大化するようなパラメータを選ぶ推定方法 -> 最尤推定\n",
    "###### 尤度関数を最大とするパラメータを探す(推定)\n",
    "###### $ E(w_0,W_1,\\cdots,w_m) $ = $ - \\sum _{i=1} ^{n} {y_i \\log p_i+(1-y_i)\\log(1-p_i)} $\n",
    "#### 3.1.4 確率的勾配降下法(SGD)\n",
    "###### データを一つずつランダムに(「確率的」に)選んでパラメータを更新\n",
    "###### （全てのデータを使って計算すると計算量が膨大になるため。）\n",
    "###### &emsp;&emsp;&emsp; $ \\omega ( k+1 ) $ $ \\omega _k + n ( y_i -p_i ) x_i $\n",
    "#### 3.1.5 評価方法(混同行列)\n",
    "###### TP: 真陽性(True Positive)   　正しくpositiveと判別した個数\n",
    "###### FP :偽陰性(False Positive) 　間違えてpositiveと判別した個数\n",
    "###### TN :真陰性(True Negative) 　正しくNegativeと判別した個数\n",
    "###### FN : 偽陽性(False Negative)  間違えてNegativeと判別した個数\n",
    "\n",
    "#####  正解率：正解した数/ 予測対象となった全データ数 \n",
    "#####  &emsp;&emsp;&emsp;  $\\frac {TP+TN}{TP+FN+FP+TN} $\n",
    "#####  再現率(Recall)：「本当にPositiveなもの」の中からPositiveと予測できる割合\n",
    "#####  &emsp;&emsp;&emsp;  $\\frac  {TP}{TP+FN} $\n",
    "#####  →　失敗が許されない現場で使用\n",
    "\n",
    "#####  適合率(Precision)：　モデルが「Positiveと予測」したものの中で本当にPositiveである割合\n",
    "#####  &emsp;&emsp;&emsp;  $\\frac  {TP}{TP+FP} $\n",
    "#####  Ｆ値(F value)　：適合率と再現率の中庸を取る\n",
    "#####  &emsp;&emsp;&emsp; $ \\frac {2}{(\\frac{1}{Precision} + \\frac{1}{Recall}) } $"
   ]
  },
  {
   "cell_type": "code",
   "execution_count": null,
   "id": "58128c9d",
   "metadata": {},
   "outputs": [],
   "source": []
  },
  {
   "cell_type": "markdown",
   "id": "77b85b67",
   "metadata": {},
   "source": [
    "### 3.2 ロジスティック回帰モデル　ハンズオン\n",
    "####  設定：タイタニックの乗客データを利用しロジスティック回帰モデルを作成\n",
    "####  &emsp;&emsp;&emsp;  特徴量抽出をしてみる。\n",
    "###  &emsp;&emsp;&emsp;課題：年齢が30歳で男性の乗客は生き残れるか？\n",
    "####  &emsp;&emsp;&emsp;&emsp;&emsp;  ->　生存率 20%程度よって、死亡(0)と予測。"
   ]
  },
  {
   "cell_type": "code",
   "execution_count": null,
   "id": "e36169f9",
   "metadata": {},
   "outputs": [],
   "source": [
    "## 補足 (説明変数の説明)\n",
    "## PassengerID  乗客 ID\n",
    "## Survived     生存フラグ(0=死亡, 1=生存)\n",
    "## Pclass       チケットクラス(1=上層, 2=中層, 3=下層)\n",
    "## Name         氏名\n",
    "## Sex          性別(male=男性, female=女性)\n",
    "## Age          年齢\n",
    "## SibSp        同乗している兄弟や配偶者の数 (0, 1, 2, 3, 4, 5, 8)\n",
    "## Parch        同乗している両親や子供の数   (0, 1, 2, 3, 4, 5, 6, 9)\n",
    "## Ticket       チケット番号\n",
    "## Fare         料金\n",
    "## Cabin        客室番号\n",
    "## Embarked     タイタニックへ乗った港(C=Cherbourg, Q=Queenstown, S=Southampton)\n",
    "\n",
    "### https://qiita.com/shibata0523/items/894f7e97cf4e648ed56e\n",
    "\n",
    "## 0. データ表示"
   ]
  },
  {
   "cell_type": "code",
   "execution_count": 63,
   "id": "8e25404f",
   "metadata": {},
   "outputs": [],
   "source": [
    "#from モジュール名 import クラス名（もしくは関数名や変数名）\n",
    "import pandas as pd\n",
    "from pandas import DataFrame\n",
    "import numpy as np\n",
    "import matplotlib.pyplot as plt\n",
    "import seaborn as sns\n",
    "\n",
    "#matplotlibをinlineで表示するためのおまじない (plt.show()しなくていい)\n",
    "%matplotlib inline"
   ]
  },
  {
   "cell_type": "code",
   "execution_count": 64,
   "id": "bdc8ccec",
   "metadata": {},
   "outputs": [],
   "source": [
    "#### 補足　Dドライブ配下にdataを格納(オリジナルからPath変更)\n",
    "\n",
    "# titanic data csvファイルの読み込み\n",
    "titanic_df = pd.read_csv('D:\\stage2_data\\study_ai_ml_google\\data/titanic_train.csv')"
   ]
  },
  {
   "cell_type": "code",
   "execution_count": 65,
   "id": "bc2d935a",
   "metadata": {},
   "outputs": [
    {
     "data": {
      "text/html": [
       "<div>\n",
       "<style scoped>\n",
       "    .dataframe tbody tr th:only-of-type {\n",
       "        vertical-align: middle;\n",
       "    }\n",
       "\n",
       "    .dataframe tbody tr th {\n",
       "        vertical-align: top;\n",
       "    }\n",
       "\n",
       "    .dataframe thead th {\n",
       "        text-align: right;\n",
       "    }\n",
       "</style>\n",
       "<table border=\"1\" class=\"dataframe\">\n",
       "  <thead>\n",
       "    <tr style=\"text-align: right;\">\n",
       "      <th></th>\n",
       "      <th>PassengerId</th>\n",
       "      <th>Survived</th>\n",
       "      <th>Pclass</th>\n",
       "      <th>Name</th>\n",
       "      <th>Sex</th>\n",
       "      <th>Age</th>\n",
       "      <th>SibSp</th>\n",
       "      <th>Parch</th>\n",
       "      <th>Ticket</th>\n",
       "      <th>Fare</th>\n",
       "      <th>Cabin</th>\n",
       "      <th>Embarked</th>\n",
       "    </tr>\n",
       "  </thead>\n",
       "  <tbody>\n",
       "    <tr>\n",
       "      <th>0</th>\n",
       "      <td>1</td>\n",
       "      <td>0</td>\n",
       "      <td>3</td>\n",
       "      <td>Braund, Mr. Owen Harris</td>\n",
       "      <td>male</td>\n",
       "      <td>22.0</td>\n",
       "      <td>1</td>\n",
       "      <td>0</td>\n",
       "      <td>A/5 21171</td>\n",
       "      <td>7.2500</td>\n",
       "      <td>NaN</td>\n",
       "      <td>S</td>\n",
       "    </tr>\n",
       "    <tr>\n",
       "      <th>1</th>\n",
       "      <td>2</td>\n",
       "      <td>1</td>\n",
       "      <td>1</td>\n",
       "      <td>Cumings, Mrs. John Bradley (Florence Briggs Th...</td>\n",
       "      <td>female</td>\n",
       "      <td>38.0</td>\n",
       "      <td>1</td>\n",
       "      <td>0</td>\n",
       "      <td>PC 17599</td>\n",
       "      <td>71.2833</td>\n",
       "      <td>C85</td>\n",
       "      <td>C</td>\n",
       "    </tr>\n",
       "    <tr>\n",
       "      <th>2</th>\n",
       "      <td>3</td>\n",
       "      <td>1</td>\n",
       "      <td>3</td>\n",
       "      <td>Heikkinen, Miss. Laina</td>\n",
       "      <td>female</td>\n",
       "      <td>26.0</td>\n",
       "      <td>0</td>\n",
       "      <td>0</td>\n",
       "      <td>STON/O2. 3101282</td>\n",
       "      <td>7.9250</td>\n",
       "      <td>NaN</td>\n",
       "      <td>S</td>\n",
       "    </tr>\n",
       "    <tr>\n",
       "      <th>3</th>\n",
       "      <td>4</td>\n",
       "      <td>1</td>\n",
       "      <td>1</td>\n",
       "      <td>Futrelle, Mrs. Jacques Heath (Lily May Peel)</td>\n",
       "      <td>female</td>\n",
       "      <td>35.0</td>\n",
       "      <td>1</td>\n",
       "      <td>0</td>\n",
       "      <td>113803</td>\n",
       "      <td>53.1000</td>\n",
       "      <td>C123</td>\n",
       "      <td>S</td>\n",
       "    </tr>\n",
       "    <tr>\n",
       "      <th>4</th>\n",
       "      <td>5</td>\n",
       "      <td>0</td>\n",
       "      <td>3</td>\n",
       "      <td>Allen, Mr. William Henry</td>\n",
       "      <td>male</td>\n",
       "      <td>35.0</td>\n",
       "      <td>0</td>\n",
       "      <td>0</td>\n",
       "      <td>373450</td>\n",
       "      <td>8.0500</td>\n",
       "      <td>NaN</td>\n",
       "      <td>S</td>\n",
       "    </tr>\n",
       "  </tbody>\n",
       "</table>\n",
       "</div>"
      ],
      "text/plain": [
       "   PassengerId  Survived  Pclass  \\\n",
       "0            1         0       3   \n",
       "1            2         1       1   \n",
       "2            3         1       3   \n",
       "3            4         1       1   \n",
       "4            5         0       3   \n",
       "\n",
       "                                                Name     Sex   Age  SibSp  \\\n",
       "0                            Braund, Mr. Owen Harris    male  22.0      1   \n",
       "1  Cumings, Mrs. John Bradley (Florence Briggs Th...  female  38.0      1   \n",
       "2                             Heikkinen, Miss. Laina  female  26.0      0   \n",
       "3       Futrelle, Mrs. Jacques Heath (Lily May Peel)  female  35.0      1   \n",
       "4                           Allen, Mr. William Henry    male  35.0      0   \n",
       "\n",
       "   Parch            Ticket     Fare Cabin Embarked  \n",
       "0      0         A/5 21171   7.2500   NaN        S  \n",
       "1      0          PC 17599  71.2833   C85        C  \n",
       "2      0  STON/O2. 3101282   7.9250   NaN        S  \n",
       "3      0            113803  53.1000  C123        S  \n",
       "4      0            373450   8.0500   NaN        S  "
      ]
     },
     "execution_count": 65,
     "metadata": {},
     "output_type": "execute_result"
    }
   ],
   "source": [
    "# ファイルの先頭部を表示し、データセットを確認する\n",
    "titanic_df.head(5)"
   ]
  },
  {
   "cell_type": "code",
   "execution_count": 66,
   "id": "8cc9efb7",
   "metadata": {},
   "outputs": [],
   "source": [
    "## 1. ロジスティック回帰\n",
    "## 不要なデータの削除・欠損値の補完"
   ]
  },
  {
   "cell_type": "code",
   "execution_count": 67,
   "id": "c298a6ae",
   "metadata": {},
   "outputs": [
    {
     "data": {
      "text/html": [
       "<div>\n",
       "<style scoped>\n",
       "    .dataframe tbody tr th:only-of-type {\n",
       "        vertical-align: middle;\n",
       "    }\n",
       "\n",
       "    .dataframe tbody tr th {\n",
       "        vertical-align: top;\n",
       "    }\n",
       "\n",
       "    .dataframe thead th {\n",
       "        text-align: right;\n",
       "    }\n",
       "</style>\n",
       "<table border=\"1\" class=\"dataframe\">\n",
       "  <thead>\n",
       "    <tr style=\"text-align: right;\">\n",
       "      <th></th>\n",
       "      <th>Survived</th>\n",
       "      <th>Pclass</th>\n",
       "      <th>Sex</th>\n",
       "      <th>Age</th>\n",
       "      <th>SibSp</th>\n",
       "      <th>Parch</th>\n",
       "      <th>Fare</th>\n",
       "      <th>Embarked</th>\n",
       "    </tr>\n",
       "  </thead>\n",
       "  <tbody>\n",
       "    <tr>\n",
       "      <th>0</th>\n",
       "      <td>0</td>\n",
       "      <td>3</td>\n",
       "      <td>male</td>\n",
       "      <td>22.0</td>\n",
       "      <td>1</td>\n",
       "      <td>0</td>\n",
       "      <td>7.2500</td>\n",
       "      <td>S</td>\n",
       "    </tr>\n",
       "    <tr>\n",
       "      <th>1</th>\n",
       "      <td>1</td>\n",
       "      <td>1</td>\n",
       "      <td>female</td>\n",
       "      <td>38.0</td>\n",
       "      <td>1</td>\n",
       "      <td>0</td>\n",
       "      <td>71.2833</td>\n",
       "      <td>C</td>\n",
       "    </tr>\n",
       "    <tr>\n",
       "      <th>2</th>\n",
       "      <td>1</td>\n",
       "      <td>3</td>\n",
       "      <td>female</td>\n",
       "      <td>26.0</td>\n",
       "      <td>0</td>\n",
       "      <td>0</td>\n",
       "      <td>7.9250</td>\n",
       "      <td>S</td>\n",
       "    </tr>\n",
       "    <tr>\n",
       "      <th>3</th>\n",
       "      <td>1</td>\n",
       "      <td>1</td>\n",
       "      <td>female</td>\n",
       "      <td>35.0</td>\n",
       "      <td>1</td>\n",
       "      <td>0</td>\n",
       "      <td>53.1000</td>\n",
       "      <td>S</td>\n",
       "    </tr>\n",
       "    <tr>\n",
       "      <th>4</th>\n",
       "      <td>0</td>\n",
       "      <td>3</td>\n",
       "      <td>male</td>\n",
       "      <td>35.0</td>\n",
       "      <td>0</td>\n",
       "      <td>0</td>\n",
       "      <td>8.0500</td>\n",
       "      <td>S</td>\n",
       "    </tr>\n",
       "  </tbody>\n",
       "</table>\n",
       "</div>"
      ],
      "text/plain": [
       "   Survived  Pclass     Sex   Age  SibSp  Parch     Fare Embarked\n",
       "0         0       3    male  22.0      1      0   7.2500        S\n",
       "1         1       1  female  38.0      1      0  71.2833        C\n",
       "2         1       3  female  26.0      0      0   7.9250        S\n",
       "3         1       1  female  35.0      1      0  53.1000        S\n",
       "4         0       3    male  35.0      0      0   8.0500        S"
      ]
     },
     "execution_count": 67,
     "metadata": {},
     "output_type": "execute_result"
    }
   ],
   "source": [
    "#予測に不要と考えるからうをドロップ (本当はここの情報もしっかり使うべきだと思っています)\n",
    "titanic_df.drop(['PassengerId', 'Name', 'Ticket', 'Cabin'], axis=1, inplace=True)\n",
    "\n",
    "#一部カラムをドロップしたデータを表示\n",
    "titanic_df.head()"
   ]
  },
  {
   "cell_type": "code",
   "execution_count": 68,
   "id": "1f768c2f",
   "metadata": {},
   "outputs": [
    {
     "data": {
      "text/html": [
       "<div>\n",
       "<style scoped>\n",
       "    .dataframe tbody tr th:only-of-type {\n",
       "        vertical-align: middle;\n",
       "    }\n",
       "\n",
       "    .dataframe tbody tr th {\n",
       "        vertical-align: top;\n",
       "    }\n",
       "\n",
       "    .dataframe thead th {\n",
       "        text-align: right;\n",
       "    }\n",
       "</style>\n",
       "<table border=\"1\" class=\"dataframe\">\n",
       "  <thead>\n",
       "    <tr style=\"text-align: right;\">\n",
       "      <th></th>\n",
       "      <th>Survived</th>\n",
       "      <th>Pclass</th>\n",
       "      <th>Sex</th>\n",
       "      <th>Age</th>\n",
       "      <th>SibSp</th>\n",
       "      <th>Parch</th>\n",
       "      <th>Fare</th>\n",
       "      <th>Embarked</th>\n",
       "    </tr>\n",
       "  </thead>\n",
       "  <tbody>\n",
       "    <tr>\n",
       "      <th>5</th>\n",
       "      <td>0</td>\n",
       "      <td>3</td>\n",
       "      <td>male</td>\n",
       "      <td>NaN</td>\n",
       "      <td>0</td>\n",
       "      <td>0</td>\n",
       "      <td>8.4583</td>\n",
       "      <td>Q</td>\n",
       "    </tr>\n",
       "    <tr>\n",
       "      <th>17</th>\n",
       "      <td>1</td>\n",
       "      <td>2</td>\n",
       "      <td>male</td>\n",
       "      <td>NaN</td>\n",
       "      <td>0</td>\n",
       "      <td>0</td>\n",
       "      <td>13.0000</td>\n",
       "      <td>S</td>\n",
       "    </tr>\n",
       "    <tr>\n",
       "      <th>19</th>\n",
       "      <td>1</td>\n",
       "      <td>3</td>\n",
       "      <td>female</td>\n",
       "      <td>NaN</td>\n",
       "      <td>0</td>\n",
       "      <td>0</td>\n",
       "      <td>7.2250</td>\n",
       "      <td>C</td>\n",
       "    </tr>\n",
       "    <tr>\n",
       "      <th>26</th>\n",
       "      <td>0</td>\n",
       "      <td>3</td>\n",
       "      <td>male</td>\n",
       "      <td>NaN</td>\n",
       "      <td>0</td>\n",
       "      <td>0</td>\n",
       "      <td>7.2250</td>\n",
       "      <td>C</td>\n",
       "    </tr>\n",
       "    <tr>\n",
       "      <th>28</th>\n",
       "      <td>1</td>\n",
       "      <td>3</td>\n",
       "      <td>female</td>\n",
       "      <td>NaN</td>\n",
       "      <td>0</td>\n",
       "      <td>0</td>\n",
       "      <td>7.8792</td>\n",
       "      <td>Q</td>\n",
       "    </tr>\n",
       "    <tr>\n",
       "      <th>29</th>\n",
       "      <td>0</td>\n",
       "      <td>3</td>\n",
       "      <td>male</td>\n",
       "      <td>NaN</td>\n",
       "      <td>0</td>\n",
       "      <td>0</td>\n",
       "      <td>7.8958</td>\n",
       "      <td>S</td>\n",
       "    </tr>\n",
       "    <tr>\n",
       "      <th>31</th>\n",
       "      <td>1</td>\n",
       "      <td>1</td>\n",
       "      <td>female</td>\n",
       "      <td>NaN</td>\n",
       "      <td>1</td>\n",
       "      <td>0</td>\n",
       "      <td>146.5208</td>\n",
       "      <td>C</td>\n",
       "    </tr>\n",
       "    <tr>\n",
       "      <th>32</th>\n",
       "      <td>1</td>\n",
       "      <td>3</td>\n",
       "      <td>female</td>\n",
       "      <td>NaN</td>\n",
       "      <td>0</td>\n",
       "      <td>0</td>\n",
       "      <td>7.7500</td>\n",
       "      <td>Q</td>\n",
       "    </tr>\n",
       "    <tr>\n",
       "      <th>36</th>\n",
       "      <td>1</td>\n",
       "      <td>3</td>\n",
       "      <td>male</td>\n",
       "      <td>NaN</td>\n",
       "      <td>0</td>\n",
       "      <td>0</td>\n",
       "      <td>7.2292</td>\n",
       "      <td>C</td>\n",
       "    </tr>\n",
       "    <tr>\n",
       "      <th>42</th>\n",
       "      <td>0</td>\n",
       "      <td>3</td>\n",
       "      <td>male</td>\n",
       "      <td>NaN</td>\n",
       "      <td>0</td>\n",
       "      <td>0</td>\n",
       "      <td>7.8958</td>\n",
       "      <td>C</td>\n",
       "    </tr>\n",
       "  </tbody>\n",
       "</table>\n",
       "</div>"
      ],
      "text/plain": [
       "    Survived  Pclass     Sex  Age  SibSp  Parch      Fare Embarked\n",
       "5          0       3    male  NaN      0      0    8.4583        Q\n",
       "17         1       2    male  NaN      0      0   13.0000        S\n",
       "19         1       3  female  NaN      0      0    7.2250        C\n",
       "26         0       3    male  NaN      0      0    7.2250        C\n",
       "28         1       3  female  NaN      0      0    7.8792        Q\n",
       "29         0       3    male  NaN      0      0    7.8958        S\n",
       "31         1       1  female  NaN      1      0  146.5208        C\n",
       "32         1       3  female  NaN      0      0    7.7500        Q\n",
       "36         1       3    male  NaN      0      0    7.2292        C\n",
       "42         0       3    male  NaN      0      0    7.8958        C"
      ]
     },
     "execution_count": 68,
     "metadata": {},
     "output_type": "execute_result"
    }
   ],
   "source": [
    "#nullを含んでいる行を表示\n",
    "titanic_df[titanic_df.isnull().any(1)].head(10)"
   ]
  },
  {
   "cell_type": "code",
   "execution_count": 69,
   "id": "dd991ebe",
   "metadata": {},
   "outputs": [
    {
     "data": {
      "text/html": [
       "<div>\n",
       "<style scoped>\n",
       "    .dataframe tbody tr th:only-of-type {\n",
       "        vertical-align: middle;\n",
       "    }\n",
       "\n",
       "    .dataframe tbody tr th {\n",
       "        vertical-align: top;\n",
       "    }\n",
       "\n",
       "    .dataframe thead th {\n",
       "        text-align: right;\n",
       "    }\n",
       "</style>\n",
       "<table border=\"1\" class=\"dataframe\">\n",
       "  <thead>\n",
       "    <tr style=\"text-align: right;\">\n",
       "      <th></th>\n",
       "      <th>Survived</th>\n",
       "      <th>Pclass</th>\n",
       "      <th>Sex</th>\n",
       "      <th>Age</th>\n",
       "      <th>SibSp</th>\n",
       "      <th>Parch</th>\n",
       "      <th>Fare</th>\n",
       "      <th>Embarked</th>\n",
       "      <th>AgeFill</th>\n",
       "    </tr>\n",
       "  </thead>\n",
       "  <tbody>\n",
       "    <tr>\n",
       "      <th>5</th>\n",
       "      <td>0</td>\n",
       "      <td>3</td>\n",
       "      <td>male</td>\n",
       "      <td>NaN</td>\n",
       "      <td>0</td>\n",
       "      <td>0</td>\n",
       "      <td>8.4583</td>\n",
       "      <td>Q</td>\n",
       "      <td>29.699118</td>\n",
       "    </tr>\n",
       "    <tr>\n",
       "      <th>17</th>\n",
       "      <td>1</td>\n",
       "      <td>2</td>\n",
       "      <td>male</td>\n",
       "      <td>NaN</td>\n",
       "      <td>0</td>\n",
       "      <td>0</td>\n",
       "      <td>13.0000</td>\n",
       "      <td>S</td>\n",
       "      <td>29.699118</td>\n",
       "    </tr>\n",
       "    <tr>\n",
       "      <th>19</th>\n",
       "      <td>1</td>\n",
       "      <td>3</td>\n",
       "      <td>female</td>\n",
       "      <td>NaN</td>\n",
       "      <td>0</td>\n",
       "      <td>0</td>\n",
       "      <td>7.2250</td>\n",
       "      <td>C</td>\n",
       "      <td>29.699118</td>\n",
       "    </tr>\n",
       "    <tr>\n",
       "      <th>26</th>\n",
       "      <td>0</td>\n",
       "      <td>3</td>\n",
       "      <td>male</td>\n",
       "      <td>NaN</td>\n",
       "      <td>0</td>\n",
       "      <td>0</td>\n",
       "      <td>7.2250</td>\n",
       "      <td>C</td>\n",
       "      <td>29.699118</td>\n",
       "    </tr>\n",
       "    <tr>\n",
       "      <th>28</th>\n",
       "      <td>1</td>\n",
       "      <td>3</td>\n",
       "      <td>female</td>\n",
       "      <td>NaN</td>\n",
       "      <td>0</td>\n",
       "      <td>0</td>\n",
       "      <td>7.8792</td>\n",
       "      <td>Q</td>\n",
       "      <td>29.699118</td>\n",
       "    </tr>\n",
       "    <tr>\n",
       "      <th>...</th>\n",
       "      <td>...</td>\n",
       "      <td>...</td>\n",
       "      <td>...</td>\n",
       "      <td>...</td>\n",
       "      <td>...</td>\n",
       "      <td>...</td>\n",
       "      <td>...</td>\n",
       "      <td>...</td>\n",
       "      <td>...</td>\n",
       "    </tr>\n",
       "    <tr>\n",
       "      <th>859</th>\n",
       "      <td>0</td>\n",
       "      <td>3</td>\n",
       "      <td>male</td>\n",
       "      <td>NaN</td>\n",
       "      <td>0</td>\n",
       "      <td>0</td>\n",
       "      <td>7.2292</td>\n",
       "      <td>C</td>\n",
       "      <td>29.699118</td>\n",
       "    </tr>\n",
       "    <tr>\n",
       "      <th>863</th>\n",
       "      <td>0</td>\n",
       "      <td>3</td>\n",
       "      <td>female</td>\n",
       "      <td>NaN</td>\n",
       "      <td>8</td>\n",
       "      <td>2</td>\n",
       "      <td>69.5500</td>\n",
       "      <td>S</td>\n",
       "      <td>29.699118</td>\n",
       "    </tr>\n",
       "    <tr>\n",
       "      <th>868</th>\n",
       "      <td>0</td>\n",
       "      <td>3</td>\n",
       "      <td>male</td>\n",
       "      <td>NaN</td>\n",
       "      <td>0</td>\n",
       "      <td>0</td>\n",
       "      <td>9.5000</td>\n",
       "      <td>S</td>\n",
       "      <td>29.699118</td>\n",
       "    </tr>\n",
       "    <tr>\n",
       "      <th>878</th>\n",
       "      <td>0</td>\n",
       "      <td>3</td>\n",
       "      <td>male</td>\n",
       "      <td>NaN</td>\n",
       "      <td>0</td>\n",
       "      <td>0</td>\n",
       "      <td>7.8958</td>\n",
       "      <td>S</td>\n",
       "      <td>29.699118</td>\n",
       "    </tr>\n",
       "    <tr>\n",
       "      <th>888</th>\n",
       "      <td>0</td>\n",
       "      <td>3</td>\n",
       "      <td>female</td>\n",
       "      <td>NaN</td>\n",
       "      <td>1</td>\n",
       "      <td>2</td>\n",
       "      <td>23.4500</td>\n",
       "      <td>S</td>\n",
       "      <td>29.699118</td>\n",
       "    </tr>\n",
       "  </tbody>\n",
       "</table>\n",
       "<p>179 rows × 9 columns</p>\n",
       "</div>"
      ],
      "text/plain": [
       "     Survived  Pclass     Sex  Age  SibSp  Parch     Fare Embarked    AgeFill\n",
       "5           0       3    male  NaN      0      0   8.4583        Q  29.699118\n",
       "17          1       2    male  NaN      0      0  13.0000        S  29.699118\n",
       "19          1       3  female  NaN      0      0   7.2250        C  29.699118\n",
       "26          0       3    male  NaN      0      0   7.2250        C  29.699118\n",
       "28          1       3  female  NaN      0      0   7.8792        Q  29.699118\n",
       "..        ...     ...     ...  ...    ...    ...      ...      ...        ...\n",
       "859         0       3    male  NaN      0      0   7.2292        C  29.699118\n",
       "863         0       3  female  NaN      8      2  69.5500        S  29.699118\n",
       "868         0       3    male  NaN      0      0   9.5000        S  29.699118\n",
       "878         0       3    male  NaN      0      0   7.8958        S  29.699118\n",
       "888         0       3  female  NaN      1      2  23.4500        S  29.699118\n",
       "\n",
       "[179 rows x 9 columns]"
      ]
     },
     "execution_count": 69,
     "metadata": {},
     "output_type": "execute_result"
    }
   ],
   "source": [
    "#Ageカラムのnullを中央値で補完\n",
    "\n",
    "titanic_df['AgeFill'] = titanic_df['Age'].fillna(titanic_df['Age'].mean())\n",
    "\n",
    "#再度nullを含んでいる行を表示 (Ageのnullは補完されている)\n",
    "titanic_df[titanic_df.isnull().any(1)]\n",
    "\n",
    "#titanic_df.dtypes"
   ]
  },
  {
   "cell_type": "code",
   "execution_count": 70,
   "id": "526a96f8",
   "metadata": {},
   "outputs": [],
   "source": [
    "## 1. ロジスティック回帰\n",
    "## 実装(チケット価格から生死を判別)\n",
    "#運賃だけのリストを作成\n",
    "data1 = titanic_df.loc[:, [\"Fare\"]].values\n",
    "#生死フラグのみのリストを作成\n",
    "label1 =  titanic_df.loc[:,[\"Survived\"]].values"
   ]
  },
  {
   "cell_type": "code",
   "execution_count": 71,
   "id": "0abb1297",
   "metadata": {},
   "outputs": [
    {
     "name": "stderr",
     "output_type": "stream",
     "text": [
      "D:\\anaconda\\lib\\site-packages\\sklearn\\utils\\validation.py:63: DataConversionWarning: A column-vector y was passed when a 1d array was expected. Please change the shape of y to (n_samples, ), for example using ravel().\n",
      "  return f(*args, **kwargs)\n"
     ]
    },
    {
     "data": {
      "text/plain": [
       "LogisticRegression()"
      ]
     },
     "execution_count": 71,
     "metadata": {},
     "output_type": "execute_result"
    }
   ],
   "source": [
    "from sklearn.linear_model import LogisticRegression\n",
    "model=LogisticRegression()\n",
    "model.fit(data1, label1)"
   ]
  },
  {
   "cell_type": "code",
   "execution_count": 72,
   "id": "b4114787",
   "metadata": {},
   "outputs": [
    {
     "data": {
      "text/plain": [
       "array([0], dtype=int64)"
      ]
     },
     "execution_count": 72,
     "metadata": {},
     "output_type": "execute_result"
    }
   ],
   "source": [
    "model.predict([[61]])"
   ]
  },
  {
   "cell_type": "code",
   "execution_count": 73,
   "id": "efceefa9",
   "metadata": {},
   "outputs": [
    {
     "data": {
      "text/plain": [
       "array([[0.49978123, 0.50021877]])"
      ]
     },
     "execution_count": 73,
     "metadata": {},
     "output_type": "execute_result"
    }
   ],
   "source": [
    "model.predict_proba([[62]])"
   ]
  },
  {
   "cell_type": "code",
   "execution_count": 74,
   "id": "47c7f6e7",
   "metadata": {},
   "outputs": [],
   "source": [
    "X_test_value = model.decision_function(data1) "
   ]
  },
  {
   "cell_type": "code",
   "execution_count": 75,
   "id": "d1591edb",
   "metadata": {},
   "outputs": [
    {
     "name": "stdout",
     "output_type": "stream",
     "text": [
      "[-0.94131796]\n",
      "[[0.01519666]]\n"
     ]
    }
   ],
   "source": [
    "# # 決定関数値（絶対値が大きいほど識別境界から離れている）\n",
    "# X_test_value = model.decision_function(X_test) \n",
    "# # 決定関数値をシグモイド関数で確率に変換\n",
    "# X_test_prob = normal_sigmoid(X_test_value) \n",
    "print (model.intercept_)\n",
    "print (model.coef_)"
   ]
  },
  {
   "cell_type": "code",
   "execution_count": 76,
   "id": "c123c3a7",
   "metadata": {},
   "outputs": [
    {
     "name": "stderr",
     "output_type": "stream",
     "text": [
      "No handles with labels found to put in legend.\n"
     ]
    },
    {
     "data": {
      "text/plain": [
       "[<matplotlib.lines.Line2D at 0x640d848460>]"
      ]
     },
     "execution_count": 76,
     "metadata": {},
     "output_type": "execute_result"
    },
    {
     "data": {
      "image/png": "[encoded data removed]",
      "text/plain": [
       "<Figure size 648x360 with 1 Axes>"
      ]
     },
     "metadata": {
      "needs_background": "light"
     },
     "output_type": "display_data"
    }
   ],
   "source": [
    "w_0 = model.intercept_[0]\n",
    "w_1 = model.coef_[0,0]\n",
    "\n",
    "# def normal_sigmoid(x):\n",
    "#     return 1 / (1+np.exp(-x))\n",
    "\n",
    "def sigmoid(x):\n",
    "    return 1 / (1+np.exp(-(w_1*x+w_0)))\n",
    "\n",
    "x_range = np.linspace(-1, 500, 3000)\n",
    "\n",
    "plt.figure(figsize=(9,5))\n",
    "#plt.xkcd()\n",
    "plt.legend(loc=2)\n",
    "\n",
    "\n",
    "# plt.ylim(-0.1, 1.1)\n",
    "# plt.xlim(-10, 10)\n",
    "\n",
    "# plt.plot([-10,10],[0,0], \"k\", lw=1)\n",
    "# plt.plot([0,0],[-1,1.5], \"k\", lw=1)\n",
    "plt.plot(data1,np.zeros(len(data1)), 'o')\n",
    "plt.plot(data1, model.predict_proba(data1), 'o')\n",
    "plt.plot(x_range, sigmoid(x_range), '-')\n",
    "#plt.plot(x_range, normal_sigmoid(x_range), '-')\n",
    "#\n",
    "\n",
    "\n"
   ]
  },
  {
   "cell_type": "code",
   "execution_count": 77,
   "id": "305b7fd8",
   "metadata": {},
   "outputs": [
    {
     "data": {
      "text/html": [
       "<div>\n",
       "<style scoped>\n",
       "    .dataframe tbody tr th:only-of-type {\n",
       "        vertical-align: middle;\n",
       "    }\n",
       "\n",
       "    .dataframe tbody tr th {\n",
       "        vertical-align: top;\n",
       "    }\n",
       "\n",
       "    .dataframe thead th {\n",
       "        text-align: right;\n",
       "    }\n",
       "</style>\n",
       "<table border=\"1\" class=\"dataframe\">\n",
       "  <thead>\n",
       "    <tr style=\"text-align: right;\">\n",
       "      <th></th>\n",
       "      <th>Survived</th>\n",
       "      <th>Pclass</th>\n",
       "      <th>Sex</th>\n",
       "      <th>Age</th>\n",
       "      <th>SibSp</th>\n",
       "      <th>Parch</th>\n",
       "      <th>Fare</th>\n",
       "      <th>Embarked</th>\n",
       "      <th>AgeFill</th>\n",
       "      <th>Gender</th>\n",
       "    </tr>\n",
       "  </thead>\n",
       "  <tbody>\n",
       "    <tr>\n",
       "      <th>0</th>\n",
       "      <td>0</td>\n",
       "      <td>3</td>\n",
       "      <td>male</td>\n",
       "      <td>22.0</td>\n",
       "      <td>1</td>\n",
       "      <td>0</td>\n",
       "      <td>7.2500</td>\n",
       "      <td>S</td>\n",
       "      <td>22.0</td>\n",
       "      <td>1</td>\n",
       "    </tr>\n",
       "    <tr>\n",
       "      <th>1</th>\n",
       "      <td>1</td>\n",
       "      <td>1</td>\n",
       "      <td>female</td>\n",
       "      <td>38.0</td>\n",
       "      <td>1</td>\n",
       "      <td>0</td>\n",
       "      <td>71.2833</td>\n",
       "      <td>C</td>\n",
       "      <td>38.0</td>\n",
       "      <td>0</td>\n",
       "    </tr>\n",
       "    <tr>\n",
       "      <th>2</th>\n",
       "      <td>1</td>\n",
       "      <td>3</td>\n",
       "      <td>female</td>\n",
       "      <td>26.0</td>\n",
       "      <td>0</td>\n",
       "      <td>0</td>\n",
       "      <td>7.9250</td>\n",
       "      <td>S</td>\n",
       "      <td>26.0</td>\n",
       "      <td>0</td>\n",
       "    </tr>\n",
       "  </tbody>\n",
       "</table>\n",
       "</div>"
      ],
      "text/plain": [
       "   Survived  Pclass     Sex   Age  SibSp  Parch     Fare Embarked  AgeFill  \\\n",
       "0         0       3    male  22.0      1      0   7.2500        S     22.0   \n",
       "1         1       1  female  38.0      1      0  71.2833        C     38.0   \n",
       "2         1       3  female  26.0      0      0   7.9250        S     26.0   \n",
       "\n",
       "   Gender  \n",
       "0       1  \n",
       "1       0  \n",
       "2       0  "
      ]
     },
     "execution_count": 77,
     "metadata": {},
     "output_type": "execute_result"
    }
   ],
   "source": [
    "## 1. ロジスティック回帰\n",
    "## 実装(2変数から生死を判別)\n",
    "#AgeFillの欠損値を埋めたので\n",
    "#titanic_df = titanic_df.drop(['Age'], axis=1)\n",
    "titanic_df['Gender'] = titanic_df['Sex'].map({'female': 0, 'male': 1}).astype(int)\n",
    "titanic_df.head(3)"
   ]
  },
  {
   "cell_type": "code",
   "execution_count": 78,
   "id": "7f6dd11f",
   "metadata": {},
   "outputs": [
    {
     "data": {
      "text/html": [
       "<div>\n",
       "<style scoped>\n",
       "    .dataframe tbody tr th:only-of-type {\n",
       "        vertical-align: middle;\n",
       "    }\n",
       "\n",
       "    .dataframe tbody tr th {\n",
       "        vertical-align: top;\n",
       "    }\n",
       "\n",
       "    .dataframe thead th {\n",
       "        text-align: right;\n",
       "    }\n",
       "</style>\n",
       "<table border=\"1\" class=\"dataframe\">\n",
       "  <thead>\n",
       "    <tr style=\"text-align: right;\">\n",
       "      <th></th>\n",
       "      <th>Survived</th>\n",
       "      <th>Pclass</th>\n",
       "      <th>Sex</th>\n",
       "      <th>Age</th>\n",
       "      <th>SibSp</th>\n",
       "      <th>Parch</th>\n",
       "      <th>Fare</th>\n",
       "      <th>Embarked</th>\n",
       "      <th>AgeFill</th>\n",
       "      <th>Gender</th>\n",
       "      <th>Pclass_Gender</th>\n",
       "    </tr>\n",
       "  </thead>\n",
       "  <tbody>\n",
       "    <tr>\n",
       "      <th>0</th>\n",
       "      <td>0</td>\n",
       "      <td>3</td>\n",
       "      <td>male</td>\n",
       "      <td>22.0</td>\n",
       "      <td>1</td>\n",
       "      <td>0</td>\n",
       "      <td>7.2500</td>\n",
       "      <td>S</td>\n",
       "      <td>22.0</td>\n",
       "      <td>1</td>\n",
       "      <td>4</td>\n",
       "    </tr>\n",
       "    <tr>\n",
       "      <th>1</th>\n",
       "      <td>1</td>\n",
       "      <td>1</td>\n",
       "      <td>female</td>\n",
       "      <td>38.0</td>\n",
       "      <td>1</td>\n",
       "      <td>0</td>\n",
       "      <td>71.2833</td>\n",
       "      <td>C</td>\n",
       "      <td>38.0</td>\n",
       "      <td>0</td>\n",
       "      <td>1</td>\n",
       "    </tr>\n",
       "    <tr>\n",
       "      <th>2</th>\n",
       "      <td>1</td>\n",
       "      <td>3</td>\n",
       "      <td>female</td>\n",
       "      <td>26.0</td>\n",
       "      <td>0</td>\n",
       "      <td>0</td>\n",
       "      <td>7.9250</td>\n",
       "      <td>S</td>\n",
       "      <td>26.0</td>\n",
       "      <td>0</td>\n",
       "      <td>3</td>\n",
       "    </tr>\n",
       "    <tr>\n",
       "      <th>3</th>\n",
       "      <td>1</td>\n",
       "      <td>1</td>\n",
       "      <td>female</td>\n",
       "      <td>35.0</td>\n",
       "      <td>1</td>\n",
       "      <td>0</td>\n",
       "      <td>53.1000</td>\n",
       "      <td>S</td>\n",
       "      <td>35.0</td>\n",
       "      <td>0</td>\n",
       "      <td>1</td>\n",
       "    </tr>\n",
       "    <tr>\n",
       "      <th>4</th>\n",
       "      <td>0</td>\n",
       "      <td>3</td>\n",
       "      <td>male</td>\n",
       "      <td>35.0</td>\n",
       "      <td>0</td>\n",
       "      <td>0</td>\n",
       "      <td>8.0500</td>\n",
       "      <td>S</td>\n",
       "      <td>35.0</td>\n",
       "      <td>1</td>\n",
       "      <td>4</td>\n",
       "    </tr>\n",
       "  </tbody>\n",
       "</table>\n",
       "</div>"
      ],
      "text/plain": [
       "   Survived  Pclass     Sex   Age  SibSp  Parch     Fare Embarked  AgeFill  \\\n",
       "0         0       3    male  22.0      1      0   7.2500        S     22.0   \n",
       "1         1       1  female  38.0      1      0  71.2833        C     38.0   \n",
       "2         1       3  female  26.0      0      0   7.9250        S     26.0   \n",
       "3         1       1  female  35.0      1      0  53.1000        S     35.0   \n",
       "4         0       3    male  35.0      0      0   8.0500        S     35.0   \n",
       "\n",
       "   Gender  Pclass_Gender  \n",
       "0       1              4  \n",
       "1       0              1  \n",
       "2       0              3  \n",
       "3       0              1  \n",
       "4       1              4  "
      ]
     },
     "execution_count": 78,
     "metadata": {},
     "output_type": "execute_result"
    }
   ],
   "source": [
    "titanic_df['Pclass_Gender'] = titanic_df['Pclass'] + titanic_df['Gender']\n",
    "titanic_df.head()"
   ]
  },
  {
   "cell_type": "code",
   "execution_count": 79,
   "id": "ff4102fd",
   "metadata": {},
   "outputs": [
    {
     "data": {
      "text/html": [
       "<div>\n",
       "<style scoped>\n",
       "    .dataframe tbody tr th:only-of-type {\n",
       "        vertical-align: middle;\n",
       "    }\n",
       "\n",
       "    .dataframe tbody tr th {\n",
       "        vertical-align: top;\n",
       "    }\n",
       "\n",
       "    .dataframe thead th {\n",
       "        text-align: right;\n",
       "    }\n",
       "</style>\n",
       "<table border=\"1\" class=\"dataframe\">\n",
       "  <thead>\n",
       "    <tr style=\"text-align: right;\">\n",
       "      <th></th>\n",
       "      <th>Survived</th>\n",
       "      <th>SibSp</th>\n",
       "      <th>Parch</th>\n",
       "      <th>Fare</th>\n",
       "      <th>Embarked</th>\n",
       "      <th>AgeFill</th>\n",
       "      <th>Pclass_Gender</th>\n",
       "    </tr>\n",
       "  </thead>\n",
       "  <tbody>\n",
       "    <tr>\n",
       "      <th>0</th>\n",
       "      <td>0</td>\n",
       "      <td>1</td>\n",
       "      <td>0</td>\n",
       "      <td>7.2500</td>\n",
       "      <td>S</td>\n",
       "      <td>22.0</td>\n",
       "      <td>4</td>\n",
       "    </tr>\n",
       "    <tr>\n",
       "      <th>1</th>\n",
       "      <td>1</td>\n",
       "      <td>1</td>\n",
       "      <td>0</td>\n",
       "      <td>71.2833</td>\n",
       "      <td>C</td>\n",
       "      <td>38.0</td>\n",
       "      <td>1</td>\n",
       "    </tr>\n",
       "    <tr>\n",
       "      <th>2</th>\n",
       "      <td>1</td>\n",
       "      <td>0</td>\n",
       "      <td>0</td>\n",
       "      <td>7.9250</td>\n",
       "      <td>S</td>\n",
       "      <td>26.0</td>\n",
       "      <td>3</td>\n",
       "    </tr>\n",
       "    <tr>\n",
       "      <th>3</th>\n",
       "      <td>1</td>\n",
       "      <td>1</td>\n",
       "      <td>0</td>\n",
       "      <td>53.1000</td>\n",
       "      <td>S</td>\n",
       "      <td>35.0</td>\n",
       "      <td>1</td>\n",
       "    </tr>\n",
       "    <tr>\n",
       "      <th>4</th>\n",
       "      <td>0</td>\n",
       "      <td>0</td>\n",
       "      <td>0</td>\n",
       "      <td>8.0500</td>\n",
       "      <td>S</td>\n",
       "      <td>35.0</td>\n",
       "      <td>4</td>\n",
       "    </tr>\n",
       "  </tbody>\n",
       "</table>\n",
       "</div>"
      ],
      "text/plain": [
       "   Survived  SibSp  Parch     Fare Embarked  AgeFill  Pclass_Gender\n",
       "0         0      1      0   7.2500        S     22.0              4\n",
       "1         1      1      0  71.2833        C     38.0              1\n",
       "2         1      0      0   7.9250        S     26.0              3\n",
       "3         1      1      0  53.1000        S     35.0              1\n",
       "4         0      0      0   8.0500        S     35.0              4"
      ]
     },
     "execution_count": 79,
     "metadata": {},
     "output_type": "execute_result"
    }
   ],
   "source": [
    "titanic_df = titanic_df.drop(['Pclass', 'Sex', 'Gender','Age'],axis=1)\n",
    "titanic_df.head()"
   ]
  },
  {
   "cell_type": "code",
   "execution_count": 80,
   "id": "c67e1189",
   "metadata": {},
   "outputs": [
    {
     "data": {
      "text/html": [
       "<div>\n",
       "<style scoped>\n",
       "    .dataframe tbody tr th:only-of-type {\n",
       "        vertical-align: middle;\n",
       "    }\n",
       "\n",
       "    .dataframe tbody tr th {\n",
       "        vertical-align: top;\n",
       "    }\n",
       "\n",
       "    .dataframe thead th {\n",
       "        text-align: right;\n",
       "    }\n",
       "</style>\n",
       "<table border=\"1\" class=\"dataframe\">\n",
       "  <thead>\n",
       "    <tr style=\"text-align: right;\">\n",
       "      <th></th>\n",
       "      <th>Survived</th>\n",
       "      <th>SibSp</th>\n",
       "      <th>Parch</th>\n",
       "      <th>Fare</th>\n",
       "      <th>Embarked</th>\n",
       "      <th>AgeFill</th>\n",
       "      <th>Pclass_Gender</th>\n",
       "    </tr>\n",
       "  </thead>\n",
       "  <tbody>\n",
       "    <tr>\n",
       "      <th>0</th>\n",
       "      <td>0</td>\n",
       "      <td>1</td>\n",
       "      <td>0</td>\n",
       "      <td>7.2500</td>\n",
       "      <td>S</td>\n",
       "      <td>22.0</td>\n",
       "      <td>4</td>\n",
       "    </tr>\n",
       "    <tr>\n",
       "      <th>1</th>\n",
       "      <td>1</td>\n",
       "      <td>1</td>\n",
       "      <td>0</td>\n",
       "      <td>71.2833</td>\n",
       "      <td>C</td>\n",
       "      <td>38.0</td>\n",
       "      <td>1</td>\n",
       "    </tr>\n",
       "    <tr>\n",
       "      <th>2</th>\n",
       "      <td>1</td>\n",
       "      <td>0</td>\n",
       "      <td>0</td>\n",
       "      <td>7.9250</td>\n",
       "      <td>S</td>\n",
       "      <td>26.0</td>\n",
       "      <td>3</td>\n",
       "    </tr>\n",
       "    <tr>\n",
       "      <th>3</th>\n",
       "      <td>1</td>\n",
       "      <td>1</td>\n",
       "      <td>0</td>\n",
       "      <td>53.1000</td>\n",
       "      <td>S</td>\n",
       "      <td>35.0</td>\n",
       "      <td>1</td>\n",
       "    </tr>\n",
       "    <tr>\n",
       "      <th>4</th>\n",
       "      <td>0</td>\n",
       "      <td>0</td>\n",
       "      <td>0</td>\n",
       "      <td>8.0500</td>\n",
       "      <td>S</td>\n",
       "      <td>35.0</td>\n",
       "      <td>4</td>\n",
       "    </tr>\n",
       "  </tbody>\n",
       "</table>\n",
       "</div>"
      ],
      "text/plain": [
       "   Survived  SibSp  Parch     Fare Embarked  AgeFill  Pclass_Gender\n",
       "0         0      1      0   7.2500        S     22.0              4\n",
       "1         1      1      0  71.2833        C     38.0              1\n",
       "2         1      0      0   7.9250        S     26.0              3\n",
       "3         1      1      0  53.1000        S     35.0              1\n",
       "4         0      0      0   8.0500        S     35.0              4"
      ]
     },
     "execution_count": 80,
     "metadata": {},
     "output_type": "execute_result"
    }
   ],
   "source": [
    "titanic_df.head()"
   ]
  },
  {
   "cell_type": "code",
   "execution_count": 81,
   "id": "c5a24ee0",
   "metadata": {},
   "outputs": [],
   "source": [
    "# 重要だよ！！！\n",
    "# 境界線の式\n",
    "#   w_1・x + w_2・y + w_0 = 0\n",
    "#   ⇒ y = (-w_1・x - w_0) / w_2\n",
    " \n",
    "# # 境界線 プロット\n",
    "# plt.plot([-2,2], map(lambda x: (-w_1 * x - w_0)/w_2, [-2,2]))\n",
    " \n",
    "# # データを重ねる\n",
    "# plt.scatter(X_train_std[y_train==0, 0], X_train_std[y_train==0, 1], c='red', marker='x', label='train 0')\n",
    "# plt.scatter(X_train_std[y_train==1, 0], X_train_std[y_train==1, 1], c='blue', marker='x', label='train 1')\n",
    "# plt.scatter(X_test_std[y_test==0, 0], X_test_std[y_test==0, 1], c='red', marker='o', s=60, label='test 0')\n",
    "# plt.scatter(X_test_std[y_test==1, 0], X_test_std[y_test==1, 1], c='blue', marker='o', s=60, label='test 1')"
   ]
  },
  {
   "cell_type": "code",
   "execution_count": 82,
   "id": "c8c5b284",
   "metadata": {},
   "outputs": [
    {
     "data": {
      "text/plain": [
       "<matplotlib.legend.Legend at 0x64080cb700>"
      ]
     },
     "execution_count": 82,
     "metadata": {},
     "output_type": "execute_result"
    },
    {
     "data": {
      "image/png": "[encoded data removed]",
      "text/plain": [
       "<Figure size 432x288 with 1 Axes>"
      ]
     },
     "metadata": {
      "needs_background": "light"
     },
     "output_type": "display_data"
    }
   ],
   "source": [
    "np.random.seed = 0\n",
    "\n",
    "xmin, xmax = -5, 85\n",
    "ymin, ymax = 0.5, 4.5\n",
    "\n",
    "index_survived = titanic_df[titanic_df[\"Survived\"]==0].index\n",
    "index_notsurvived = titanic_df[titanic_df[\"Survived\"]==1].index\n",
    "\n",
    "from matplotlib.colors import ListedColormap\n",
    "fig, ax = plt.subplots()\n",
    "cm = plt.cm.RdBu\n",
    "cm_bright = ListedColormap(['#FF0000', '#0000FF'])\n",
    "sc = ax.scatter(titanic_df.loc[index_survived, 'AgeFill'],\n",
    "                titanic_df.loc[index_survived, 'Pclass_Gender']+(np.random.rand(len(index_survived))-0.5)*0.1,\n",
    "                color='r', label='Not Survived', alpha=0.3)\n",
    "sc = ax.scatter(titanic_df.loc[index_notsurvived, 'AgeFill'],\n",
    "                titanic_df.loc[index_notsurvived, 'Pclass_Gender']+(np.random.rand(len(index_notsurvived))-0.5)*0.1,\n",
    "                color='b', label='Survived', alpha=0.3)\n",
    "ax.set_xlabel('AgeFill')\n",
    "ax.set_ylabel('Pclass_Gender')\n",
    "ax.set_xlim(xmin, xmax)\n",
    "ax.set_ylim(ymin, ymax)\n",
    "ax.legend(bbox_to_anchor=(1.4, 1.03))"
   ]
  },
  {
   "cell_type": "code",
   "execution_count": 83,
   "id": "59ee3641",
   "metadata": {},
   "outputs": [
    {
     "data": {
      "text/plain": [
       "array([[22.        ,  4.        ],\n",
       "       [38.        ,  1.        ],\n",
       "       [26.        ,  3.        ],\n",
       "       ...,\n",
       "       [29.69911765,  3.        ],\n",
       "       [26.        ,  2.        ],\n",
       "       [32.        ,  4.        ]])"
      ]
     },
     "execution_count": 83,
     "metadata": {},
     "output_type": "execute_result"
    }
   ],
   "source": [
    "#運賃だけのリストを作成\n",
    "data2 = titanic_df.loc[:, [\"AgeFill\", \"Pclass_Gender\"]].values\n",
    "data2"
   ]
  },
  {
   "cell_type": "code",
   "execution_count": 84,
   "id": "41ec10b5",
   "metadata": {},
   "outputs": [
    {
     "name": "stderr",
     "output_type": "stream",
     "text": [
      "D:\\anaconda\\lib\\site-packages\\sklearn\\utils\\validation.py:63: DataConversionWarning: A column-vector y was passed when a 1d array was expected. Please change the shape of y to (n_samples, ), for example using ravel().\n",
      "  return f(*args, **kwargs)\n"
     ]
    },
    {
     "data": {
      "text/plain": [
       "LogisticRegression()"
      ]
     },
     "execution_count": 84,
     "metadata": {},
     "output_type": "execute_result"
    }
   ],
   "source": [
    "#生死フラグのみのリストを作成\n",
    "label2 =  titanic_df.loc[:,[\"Survived\"]].values\n",
    "model2 = LogisticRegression()\n",
    "model2.fit(data2, label2)"
   ]
  },
  {
   "cell_type": "code",
   "execution_count": 85,
   "id": "c58ea622",
   "metadata": {},
   "outputs": [
    {
     "data": {
      "text/plain": [
       "array([1], dtype=int64)"
      ]
     },
     "execution_count": 85,
     "metadata": {},
     "output_type": "execute_result"
    }
   ],
   "source": [
    "model2.predict([[10,1]])"
   ]
  },
  {
   "cell_type": "code",
   "execution_count": 86,
   "id": "1fc038d2",
   "metadata": {},
   "outputs": [
    {
     "data": {
      "text/plain": [
       "array([[0.03754749, 0.96245251]])"
      ]
     },
     "execution_count": 86,
     "metadata": {},
     "output_type": "execute_result"
    }
   ],
   "source": [
    "model2.predict_proba([[10,1]])"
   ]
  },
  {
   "cell_type": "code",
   "execution_count": 87,
   "id": "ebb0572d",
   "metadata": {},
   "outputs": [
    {
     "data": {
      "text/html": [
       "<div>\n",
       "<style scoped>\n",
       "    .dataframe tbody tr th:only-of-type {\n",
       "        vertical-align: middle;\n",
       "    }\n",
       "\n",
       "    .dataframe tbody tr th {\n",
       "        vertical-align: top;\n",
       "    }\n",
       "\n",
       "    .dataframe thead th {\n",
       "        text-align: right;\n",
       "    }\n",
       "</style>\n",
       "<table border=\"1\" class=\"dataframe\">\n",
       "  <thead>\n",
       "    <tr style=\"text-align: right;\">\n",
       "      <th></th>\n",
       "      <th>Survived</th>\n",
       "      <th>SibSp</th>\n",
       "      <th>Parch</th>\n",
       "      <th>Fare</th>\n",
       "      <th>Embarked</th>\n",
       "      <th>AgeFill</th>\n",
       "      <th>Pclass_Gender</th>\n",
       "    </tr>\n",
       "  </thead>\n",
       "  <tbody>\n",
       "    <tr>\n",
       "      <th>0</th>\n",
       "      <td>0</td>\n",
       "      <td>1</td>\n",
       "      <td>0</td>\n",
       "      <td>7.2500</td>\n",
       "      <td>S</td>\n",
       "      <td>22.0</td>\n",
       "      <td>4</td>\n",
       "    </tr>\n",
       "    <tr>\n",
       "      <th>1</th>\n",
       "      <td>1</td>\n",
       "      <td>1</td>\n",
       "      <td>0</td>\n",
       "      <td>71.2833</td>\n",
       "      <td>C</td>\n",
       "      <td>38.0</td>\n",
       "      <td>1</td>\n",
       "    </tr>\n",
       "    <tr>\n",
       "      <th>2</th>\n",
       "      <td>1</td>\n",
       "      <td>0</td>\n",
       "      <td>0</td>\n",
       "      <td>7.9250</td>\n",
       "      <td>S</td>\n",
       "      <td>26.0</td>\n",
       "      <td>3</td>\n",
       "    </tr>\n",
       "  </tbody>\n",
       "</table>\n",
       "</div>"
      ],
      "text/plain": [
       "   Survived  SibSp  Parch     Fare Embarked  AgeFill  Pclass_Gender\n",
       "0         0      1      0   7.2500        S     22.0              4\n",
       "1         1      1      0  71.2833        C     38.0              1\n",
       "2         1      0      0   7.9250        S     26.0              3"
      ]
     },
     "execution_count": 87,
     "metadata": {},
     "output_type": "execute_result"
    }
   ],
   "source": [
    "titanic_df.head(3)"
   ]
  },
  {
   "cell_type": "code",
   "execution_count": 88,
   "id": "754a8016",
   "metadata": {},
   "outputs": [
    {
     "data": {
      "text/plain": [
       "[<matplotlib.lines.Line2D at 0x640d8af640>]"
      ]
     },
     "execution_count": 88,
     "metadata": {},
     "output_type": "execute_result"
    },
    {
     "data": {
      "image/png": "[encoded data removed]",
      "text/plain": [
       "<Figure size 432x288 with 1 Axes>"
      ]
     },
     "metadata": {
      "needs_background": "light"
     },
     "output_type": "display_data"
    }
   ],
   "source": [
    "h = 0.02\n",
    "xmin, xmax = -5, 85\n",
    "ymin, ymax = 0.5, 4.5\n",
    "xx, yy = np.meshgrid(np.arange(xmin, xmax, h), np.arange(ymin, ymax, h))\n",
    "Z = model2.predict_proba(np.c_[xx.ravel(), yy.ravel()])[:, 1]\n",
    "Z = Z.reshape(xx.shape)\n",
    "\n",
    "fig, ax = plt.subplots()\n",
    "levels = np.linspace(0, 1.0)\n",
    "cm = plt.cm.RdBu\n",
    "cm_bright = ListedColormap(['#FF0000', '#0000FF'])\n",
    "#contour = ax.contourf(xx, yy, Z, cmap=cm, levels=levels, alpha=0.5)\n",
    "\n",
    "sc = ax.scatter(titanic_df.loc[index_survived, 'AgeFill'],\n",
    "                titanic_df.loc[index_survived, 'Pclass_Gender']+(np.random.rand(len(index_survived))-0.5)*0.1,\n",
    "                color='r', label='Not Survived', alpha=0.3)\n",
    "sc = ax.scatter(titanic_df.loc[index_notsurvived, 'AgeFill'],\n",
    "                titanic_df.loc[index_notsurvived, 'Pclass_Gender']+(np.random.rand(len(index_notsurvived))-0.5)*0.1,\n",
    "                color='b', label='Survived', alpha=0.3)\n",
    "\n",
    "ax.set_xlabel('AgeFill')\n",
    "ax.set_ylabel('Pclass_Gender')\n",
    "ax.set_xlim(xmin, xmax)\n",
    "ax.set_ylim(ymin, ymax)\n",
    "#fig.colorbar(contour)\n",
    "\n",
    "x1 = xmin\n",
    "x2 = xmax\n",
    "y1 = -1*(model2.intercept_[0]+model2.coef_[0][0]*xmin)/model2.coef_[0][1]\n",
    "y2 = -1*(model2.intercept_[0]+model2.coef_[0][0]*xmax)/model2.coef_[0][1]\n",
    "ax.plot([x1, x2] ,[y1, y2], 'k--')"
   ]
  },
  {
   "cell_type": "code",
   "execution_count": 89,
   "id": "78d1dd41",
   "metadata": {},
   "outputs": [],
   "source": [
    "## 2. モデル評価\n",
    "## 混同行列とクロスバリデーション"
   ]
  },
  {
   "cell_type": "code",
   "execution_count": 90,
   "id": "e19dda5d",
   "metadata": {},
   "outputs": [],
   "source": [
    "from sklearn.model_selection import train_test_split"
   ]
  },
  {
   "cell_type": "code",
   "execution_count": 91,
   "id": "100dde67",
   "metadata": {},
   "outputs": [
    {
     "data": {
      "text/plain": [
       "(712, 1)"
      ]
     },
     "execution_count": 91,
     "metadata": {},
     "output_type": "execute_result"
    }
   ],
   "source": [
    "traindata1, testdata1, trainlabel1, testlabel1 = train_test_split(data1, label1, test_size=0.2)\n",
    "traindata1.shape\n",
    "trainlabel1.shape"
   ]
  },
  {
   "cell_type": "code",
   "execution_count": 92,
   "id": "1764890f",
   "metadata": {},
   "outputs": [
    {
     "data": {
      "text/plain": [
       "(712, 1)"
      ]
     },
     "execution_count": 92,
     "metadata": {},
     "output_type": "execute_result"
    }
   ],
   "source": [
    "traindata2, testdata2, trainlabel2, testlabel2 = train_test_split(data2, label2, test_size=0.2)\n",
    "traindata2.shape\n",
    "trainlabel2.shape\n",
    "#本来は同じデータセットを分割しなければいけない。(簡易的に別々に分割している。)"
   ]
  },
  {
   "cell_type": "code",
   "execution_count": 93,
   "id": "2a2662cc",
   "metadata": {},
   "outputs": [
    {
     "data": {
      "text/plain": [
       "(712, 1)"
      ]
     },
     "execution_count": 93,
     "metadata": {},
     "output_type": "execute_result"
    }
   ],
   "source": [
    "data = titanic_df.loc[:, ].values\n",
    "label =  titanic_df.loc[:,[\"Survived\"]].values\n",
    "traindata, testdata, trainlabel, testlabel = train_test_split(data, label, test_size=0.2)\n",
    "traindata.shape\n",
    "trainlabel.shape"
   ]
  },
  {
   "cell_type": "code",
   "execution_count": 94,
   "id": "ed42fa49",
   "metadata": {},
   "outputs": [
    {
     "name": "stderr",
     "output_type": "stream",
     "text": [
      "D:\\anaconda\\lib\\site-packages\\sklearn\\utils\\validation.py:63: DataConversionWarning: A column-vector y was passed when a 1d array was expected. Please change the shape of y to (n_samples, ), for example using ravel().\n",
      "  return f(*args, **kwargs)\n",
      "D:\\anaconda\\lib\\site-packages\\sklearn\\utils\\validation.py:63: DataConversionWarning: A column-vector y was passed when a 1d array was expected. Please change the shape of y to (n_samples, ), for example using ravel().\n",
      "  return f(*args, **kwargs)\n"
     ]
    }
   ],
   "source": [
    "eval_model1=LogisticRegression()\n",
    "eval_model2=LogisticRegression()\n",
    "#eval_model=LogisticRegression()\n",
    "predictor_eval1=eval_model1.fit(traindata1, trainlabel1).predict(testdata1)\n",
    "predictor_eval2=eval_model2.fit(traindata2, trainlabel2).predict(testdata2)\n",
    "#predictor_eval=eval_model.fit(traindata, trainlabel).predict(testdata)"
   ]
  },
  {
   "cell_type": "code",
   "execution_count": 95,
   "id": "bdc5a3e3",
   "metadata": {},
   "outputs": [
    {
     "data": {
      "text/plain": [
       "0.6643258426966292"
      ]
     },
     "execution_count": 95,
     "metadata": {},
     "output_type": "execute_result"
    }
   ],
   "source": [
    "eval_model1.score(traindata1, trainlabel1)"
   ]
  },
  {
   "cell_type": "code",
   "execution_count": 96,
   "id": "f3d557af",
   "metadata": {},
   "outputs": [
    {
     "data": {
      "text/plain": [
       "0.6759776536312849"
      ]
     },
     "execution_count": 96,
     "metadata": {},
     "output_type": "execute_result"
    }
   ],
   "source": [
    "eval_model1.score(testdata1,testlabel1)"
   ]
  },
  {
   "cell_type": "code",
   "execution_count": 97,
   "id": "a9661289",
   "metadata": {},
   "outputs": [
    {
     "data": {
      "text/plain": [
       "0.7752808988764045"
      ]
     },
     "execution_count": 97,
     "metadata": {},
     "output_type": "execute_result"
    }
   ],
   "source": [
    "eval_model2.score(traindata2, trainlabel2)"
   ]
  },
  {
   "cell_type": "code",
   "execution_count": 98,
   "id": "12c0d2d8",
   "metadata": {},
   "outputs": [
    {
     "data": {
      "text/plain": [
       "0.7821229050279329"
      ]
     },
     "execution_count": 98,
     "metadata": {},
     "output_type": "execute_result"
    }
   ],
   "source": [
    "eval_model2.score(testdata2,testlabel2)"
   ]
  },
  {
   "cell_type": "code",
   "execution_count": 99,
   "id": "150e21fa",
   "metadata": {},
   "outputs": [
    {
     "name": "stdout",
     "output_type": "stream",
     "text": [
      "              precision    recall  f1-score   support\n",
      "\n",
      "           0       0.68      0.94      0.79       116\n",
      "           1       0.63      0.19      0.29        63\n",
      "\n",
      "    accuracy                           0.68       179\n",
      "   macro avg       0.66      0.57      0.54       179\n",
      "weighted avg       0.66      0.68      0.61       179\n",
      "\n",
      "              precision    recall  f1-score   support\n",
      "\n",
      "           0       0.80      0.88      0.84       113\n",
      "           1       0.75      0.62      0.68        66\n",
      "\n",
      "    accuracy                           0.78       179\n",
      "   macro avg       0.77      0.75      0.76       179\n",
      "weighted avg       0.78      0.78      0.78       179\n",
      "\n"
     ]
    }
   ],
   "source": [
    "from sklearn import metrics\n",
    "print(metrics.classification_report(testlabel1, predictor_eval1))\n",
    "print(metrics.classification_report(testlabel2, predictor_eval2))"
   ]
  },
  {
   "cell_type": "code",
   "execution_count": 100,
   "id": "a5e1780c",
   "metadata": {},
   "outputs": [
    {
     "data": {
      "text/plain": [
       "array([[109,   7],\n",
       "       [ 51,  12]], dtype=int64)"
      ]
     },
     "execution_count": 100,
     "metadata": {},
     "output_type": "execute_result"
    }
   ],
   "source": [
    "from sklearn.metrics import confusion_matrix\n",
    "confusion_matrix1=confusion_matrix(testlabel1, predictor_eval1)\n",
    "confusion_matrix2=confusion_matrix(testlabel2, predictor_eval2)\n",
    "confusion_matrix1"
   ]
  },
  {
   "cell_type": "code",
   "execution_count": 101,
   "id": "975fc856",
   "metadata": {},
   "outputs": [
    {
     "data": {
      "text/plain": [
       "array([[99, 14],\n",
       "       [25, 41]], dtype=int64)"
      ]
     },
     "execution_count": 101,
     "metadata": {},
     "output_type": "execute_result"
    }
   ],
   "source": [
    "confusion_matrix2"
   ]
  },
  {
   "cell_type": "code",
   "execution_count": 102,
   "id": "dc4d78b2",
   "metadata": {},
   "outputs": [
    {
     "data": {
      "text/plain": [
       "<AxesSubplot:>"
      ]
     },
     "execution_count": 102,
     "metadata": {},
     "output_type": "execute_result"
    },
    {
     "data": {
      "image/png": "[encoded data removed]",
      "text/plain": [
       "<Figure size 504x504 with 2 Axes>"
      ]
     },
     "metadata": {
      "needs_background": "light"
     },
     "output_type": "display_data"
    }
   ],
   "source": [
    "fig = plt.figure(figsize = (7,7))\n",
    "#plt.title(title)\n",
    "sns.heatmap(\n",
    "    confusion_matrix1,\n",
    "    vmin=None,\n",
    "    vmax=None,\n",
    "    cmap=\"Blues\",\n",
    "    center=None,\n",
    "    robust=False,\n",
    "    annot=True, fmt='.2g',\n",
    "    annot_kws=None,\n",
    "    linewidths=0,\n",
    "    linecolor='white',\n",
    "    cbar=True,\n",
    "    cbar_kws=None,\n",
    "    cbar_ax=None,\n",
    "    square=True, ax=None, \n",
    "    #xticklabels=columns,\n",
    "    #yticklabels=columns,\n",
    "    mask=None)"
   ]
  },
  {
   "cell_type": "code",
   "execution_count": 103,
   "id": "83f32d34",
   "metadata": {},
   "outputs": [
    {
     "data": {
      "text/plain": [
       "<AxesSubplot:>"
      ]
     },
     "execution_count": 103,
     "metadata": {},
     "output_type": "execute_result"
    },
    {
     "data": {
      "image/png": "[encoded data removed]",
      "text/plain": [
       "<Figure size 504x504 with 2 Axes>"
      ]
     },
     "metadata": {
      "needs_background": "light"
     },
     "output_type": "display_data"
    }
   ],
   "source": [
    "fig = plt.figure(figsize = (7,7))\n",
    "#plt.title(title)\n",
    "sns.heatmap(\n",
    "    confusion_matrix2,\n",
    "    vmin=None,\n",
    "    vmax=None,\n",
    "    cmap=\"Blues\",\n",
    "    center=None,\n",
    "    robust=False,\n",
    "    annot=True, fmt='.2g',\n",
    "    annot_kws=None,\n",
    "    linewidths=0,\n",
    "    linecolor='white',\n",
    "    cbar=True,\n",
    "    cbar_kws=None,\n",
    "    cbar_ax=None,\n",
    "    square=True, ax=None, \n",
    "    #xticklabels=columns,\n",
    "    #yticklabels=columns,\n",
    "    mask=None)"
   ]
  },
  {
   "cell_type": "code",
   "execution_count": 104,
   "id": "6e5effb6",
   "metadata": {},
   "outputs": [
    {
     "name": "stderr",
     "output_type": "stream",
     "text": [
      "D:\\anaconda\\lib\\site-packages\\seaborn\\axisgrid.py:1152: UserWarning: The `size` parameter has been renamed to `height`; please update your code.\n",
      "  warnings.warn(UserWarning(msg))\n"
     ]
    },
    {
     "data": {
      "image/png": "[encoded data removed]",
      "text/plain": [
       "<Figure size 720x360 with 4 Axes>"
      ]
     },
     "metadata": {},
     "output_type": "display_data"
    }
   ],
   "source": [
    "#Paired categorical plots\n",
    "\n",
    "import seaborn as sns\n",
    "sns.set(style=\"whitegrid\")\n",
    "\n",
    "# Load the example Titanic dataset\n",
    "titanic = sns.load_dataset(\"titanic\")\n",
    "\n",
    "# Set up a grid to plot survival probability against several variables\n",
    "g = sns.PairGrid(titanic, y_vars=\"survived\",\n",
    "                 x_vars=[\"class\", \"sex\", \"who\", \"alone\"],\n",
    "                 size=5, aspect=.5)\n",
    "\n",
    "# Draw a seaborn pointplot onto each Axes\n",
    "g.map(sns.pointplot, color=sns.xkcd_rgb[\"plum\"])\n",
    "g.set(ylim=(0, 1))\n",
    "sns.despine(fig=g.fig, left=True)\n",
    "\n",
    "plt.show()"
   ]
  },
  {
   "cell_type": "code",
   "execution_count": 105,
   "id": "a6cc5767",
   "metadata": {
    "scrolled": true
   },
   "outputs": [
    {
     "data": {
      "image/png": "[encoded data removed]",
      "text/plain": [
       "<Figure size 720x360 with 2 Axes>"
      ]
     },
     "metadata": {},
     "output_type": "display_data"
    }
   ],
   "source": [
    "#Faceted logistic regression\n",
    "\n",
    "import seaborn as sns\n",
    "sns.set(style=\"darkgrid\")\n",
    "\n",
    "# Load the example titanic dataset\n",
    "df = sns.load_dataset(\"titanic\")\n",
    "\n",
    "# Make a custom palette with gendered colors\n",
    "pal = dict(male=\"#6495ED\", female=\"#F08080\")\n",
    "\n",
    "# Show the survival proability as a function of age and sex\n",
    "g = sns.lmplot(x=\"age\", y=\"survived\", col=\"sex\", hue=\"sex\", data=df,\n",
    "               palette=pal, y_jitter=.02, logistic=True)\n",
    "g.set(xlim=(0, 80), ylim=(-.05, 1.05))\n",
    "plt.show()"
   ]
  },
  {
   "cell_type": "markdown",
   "id": "be3a2b02",
   "metadata": {},
   "source": [
    "## 4.主成分分析"
   ]
  },
  {
   "cell_type": "markdown",
   "id": "d4551715",
   "metadata": {},
   "source": [
    "###  4.1 主成分分析 Report \n",
    "### &emsp;&emsp;&emsp; 4.1.1 主成分分析とは？\n",
    "#### 多変量データの持つ構造をより少数個の指標に圧縮。\n",
    "##### 　簡単にいうと、\n",
    "#####      多次元のデータだと人間で分析（可視化）出来ないので次元を減らしく分析しやすくすること。\n",
    "##### &emsp;&emsp;　主成分分析は共分散行列の固有値問題を解くことにより、データの主成分を見つける。\n",
    "##### &emsp;&emsp;  主成分とは、分散が最大になる方向へ射影するベクトル\n",
    "#####  &emsp;&emsp; カンタンにいうと、\n",
    "#####  &emsp;&emsp;&emsp; データの塊(集合)に、直線上へplotした場合、直線上にデータが乗っている長さ（分散）が長い傾き(ベクトル）\n",
    "##### &emsp;&emsp;  4.1.2 線形変換後のベクトル：$ s_j $ = $ (s1_j,\\cdots , sn_j)^T $ = $\\bar{X} a_j $ &emsp;&emsp;  &emsp;&emsp;  $ a_j \\in  \\mathbb{R}^m $\n",
    "#####  &emsp;&emsp; 線形変換後の分散\n",
    "###  &emsp;&emsp;&emsp; $Var(s_j) $ = $\\frac {1}{n}s_{j} ^{T} s_j $ = $ \\frac{1}{n}a_{j}^{T} \\bar{X}^T \\bar{X} a_j = a_{j}^{T} Var( \\bar{X} ) a_j $\n",
    "#####   テキストが間違っているので注意！！(ビデオ中で訂正あり）\n",
    "###### &emsp;&emsp; 4.1.3 目的関数：arg max    a_{j}^{T} Var( \\bar{X} ) a_j \n",
    "######  &emsp;&emsp;&emsp;&emsp;&emsp;&emsp;&emsp;&emsp; $ a_j \\in  \\mathbb{R}^m $ <--　一つの上の行のmaxにかかってます。\n",
    "###### &emsp;&emsp; &emsp;制約条件  $ a_{j}^{T} = 1 $  <---- 制約がついている理由は、制約つけないと、無制限に固定ベクトルが存在するから。\n",
    "###### &emsp;&emsp; 4.1.4 ラグランジュ関数を微分して最適解を求める：\n",
    "###### &emsp;&emsp; &emsp;&emsp;  ：　$ Var ( \\bar {X} ) a_j = \\lambda a_j $\n",
    "###### &emsp;&emsp;4.1.5 寄与率：\n",
    "###### &emsp;&emsp;&emsp;&emsp; 圧縮して可視化出来ても、データの損失量が多いと使えない（実態）ので、どの程度データとして表現できているか。\n",
    "######  &emsp;&emsp;&emsp;&emsp; 寄与率：第k主成分の分散の全分散に対する割合(第k主成分が持つ情報量の割合\n",
    "######  &emsp;&emsp;&emsp;&emsp; 累積寄与率：第1-k主成分まで圧縮した際の情報損失量の割合\n",
    "######  &emsp;&emsp;&emsp;&emsp; 累積寄与率が有るのは、n次元単独の損失を見るわけではなく、すべて(1～n次元)の主成分として見るため。\n",
    "\n",
    "##### \n",
    "### 4.2 主成分分析　ハンズオン\n",
    "#### 設定：乳がん検査データを利用しロジスティック回帰モデルを作成\n",
    "#### &emsp;&emsp;&emsp; 主成分を利用し２次元空間上に次元圧縮\n",
    "#### &emsp;&emsp;&emsp; 課題: 32次元のデータを２次元上に次元圧縮した最、うまく判別できるかを確認\n",
    "##### ハンズオンのポイント：\n",
    "#####  &emsp;&emsp;&emsp; PythonでPCAを行うにはscikit-learnを使用します。\n",
    "#####   &emsp;&emsp;&emsp; n_componentsはcomponentの数です。（何も設定しないとデータの次元数になる。）\n",
    "#####   &emsp;&emsp;&emsp; fitに引き渡せば次元削減になる。\n",
    "#####   &emsp;&emsp; https://scikit-learn.org/stable/modules/generated/sklearn.decomposition.PCA.html#sklearn.decomposition.PCA.fit_transform"
   ]
  },
  {
   "cell_type": "code",
   "execution_count": 1,
   "id": "c61a5e71",
   "metadata": {},
   "outputs": [],
   "source": [
    "import pandas as pd\n",
    "from sklearn.model_selection import train_test_split\n",
    "from sklearn.preprocessing import StandardScaler\n",
    "from sklearn.linear_model import LogisticRegressionCV\n",
    "from sklearn.metrics import confusion_matrix\n",
    "from sklearn.decomposition import PCA\n",
    "import matplotlib.pyplot as plt\n",
    "%matplotlib inline"
   ]
  },
  {
   "cell_type": "code",
   "execution_count": 2,
   "id": "510b4a78",
   "metadata": {},
   "outputs": [],
   "source": [
    "#### 補足　Dドライブ配下にdataを格納(オリジナルからPath変更)\n",
    "cancer_df = pd.read_csv('D:\\stage2_data\\study_ai_ml_google\\data\\cancer.csv')"
   ]
  },
  {
   "cell_type": "code",
   "execution_count": 3,
   "id": "1ed0e640",
   "metadata": {},
   "outputs": [
    {
     "name": "stdout",
     "output_type": "stream",
     "text": [
      "cancer df shape: (569, 33)\n"
     ]
    }
   ],
   "source": [
    "print('cancer df shape: {}'.format(cancer_df.shape))"
   ]
  },
  {
   "cell_type": "code",
   "execution_count": 4,
   "id": "27137b81",
   "metadata": {},
   "outputs": [
    {
     "data": {
      "text/html": [
       "<div>\n",
       "<style scoped>\n",
       "    .dataframe tbody tr th:only-of-type {\n",
       "        vertical-align: middle;\n",
       "    }\n",
       "\n",
       "    .dataframe tbody tr th {\n",
       "        vertical-align: top;\n",
       "    }\n",
       "\n",
       "    .dataframe thead th {\n",
       "        text-align: right;\n",
       "    }\n",
       "</style>\n",
       "<table border=\"1\" class=\"dataframe\">\n",
       "  <thead>\n",
       "    <tr style=\"text-align: right;\">\n",
       "      <th></th>\n",
       "      <th>id</th>\n",
       "      <th>diagnosis</th>\n",
       "      <th>radius_mean</th>\n",
       "      <th>texture_mean</th>\n",
       "      <th>perimeter_mean</th>\n",
       "      <th>area_mean</th>\n",
       "      <th>smoothness_mean</th>\n",
       "      <th>compactness_mean</th>\n",
       "      <th>concavity_mean</th>\n",
       "      <th>concave points_mean</th>\n",
       "      <th>...</th>\n",
       "      <th>texture_worst</th>\n",
       "      <th>perimeter_worst</th>\n",
       "      <th>area_worst</th>\n",
       "      <th>smoothness_worst</th>\n",
       "      <th>compactness_worst</th>\n",
       "      <th>concavity_worst</th>\n",
       "      <th>concave points_worst</th>\n",
       "      <th>symmetry_worst</th>\n",
       "      <th>fractal_dimension_worst</th>\n",
       "      <th>Unnamed: 32</th>\n",
       "    </tr>\n",
       "  </thead>\n",
       "  <tbody>\n",
       "    <tr>\n",
       "      <th>0</th>\n",
       "      <td>842302</td>\n",
       "      <td>M</td>\n",
       "      <td>17.99</td>\n",
       "      <td>10.38</td>\n",
       "      <td>122.80</td>\n",
       "      <td>1001.0</td>\n",
       "      <td>0.11840</td>\n",
       "      <td>0.27760</td>\n",
       "      <td>0.30010</td>\n",
       "      <td>0.14710</td>\n",
       "      <td>...</td>\n",
       "      <td>17.33</td>\n",
       "      <td>184.60</td>\n",
       "      <td>2019.0</td>\n",
       "      <td>0.16220</td>\n",
       "      <td>0.66560</td>\n",
       "      <td>0.7119</td>\n",
       "      <td>0.2654</td>\n",
       "      <td>0.4601</td>\n",
       "      <td>0.11890</td>\n",
       "      <td>NaN</td>\n",
       "    </tr>\n",
       "    <tr>\n",
       "      <th>1</th>\n",
       "      <td>842517</td>\n",
       "      <td>M</td>\n",
       "      <td>20.57</td>\n",
       "      <td>17.77</td>\n",
       "      <td>132.90</td>\n",
       "      <td>1326.0</td>\n",
       "      <td>0.08474</td>\n",
       "      <td>0.07864</td>\n",
       "      <td>0.08690</td>\n",
       "      <td>0.07017</td>\n",
       "      <td>...</td>\n",
       "      <td>23.41</td>\n",
       "      <td>158.80</td>\n",
       "      <td>1956.0</td>\n",
       "      <td>0.12380</td>\n",
       "      <td>0.18660</td>\n",
       "      <td>0.2416</td>\n",
       "      <td>0.1860</td>\n",
       "      <td>0.2750</td>\n",
       "      <td>0.08902</td>\n",
       "      <td>NaN</td>\n",
       "    </tr>\n",
       "    <tr>\n",
       "      <th>2</th>\n",
       "      <td>84300903</td>\n",
       "      <td>M</td>\n",
       "      <td>19.69</td>\n",
       "      <td>21.25</td>\n",
       "      <td>130.00</td>\n",
       "      <td>1203.0</td>\n",
       "      <td>0.10960</td>\n",
       "      <td>0.15990</td>\n",
       "      <td>0.19740</td>\n",
       "      <td>0.12790</td>\n",
       "      <td>...</td>\n",
       "      <td>25.53</td>\n",
       "      <td>152.50</td>\n",
       "      <td>1709.0</td>\n",
       "      <td>0.14440</td>\n",
       "      <td>0.42450</td>\n",
       "      <td>0.4504</td>\n",
       "      <td>0.2430</td>\n",
       "      <td>0.3613</td>\n",
       "      <td>0.08758</td>\n",
       "      <td>NaN</td>\n",
       "    </tr>\n",
       "    <tr>\n",
       "      <th>3</th>\n",
       "      <td>84348301</td>\n",
       "      <td>M</td>\n",
       "      <td>11.42</td>\n",
       "      <td>20.38</td>\n",
       "      <td>77.58</td>\n",
       "      <td>386.1</td>\n",
       "      <td>0.14250</td>\n",
       "      <td>0.28390</td>\n",
       "      <td>0.24140</td>\n",
       "      <td>0.10520</td>\n",
       "      <td>...</td>\n",
       "      <td>26.50</td>\n",
       "      <td>98.87</td>\n",
       "      <td>567.7</td>\n",
       "      <td>0.20980</td>\n",
       "      <td>0.86630</td>\n",
       "      <td>0.6869</td>\n",
       "      <td>0.2575</td>\n",
       "      <td>0.6638</td>\n",
       "      <td>0.17300</td>\n",
       "      <td>NaN</td>\n",
       "    </tr>\n",
       "    <tr>\n",
       "      <th>4</th>\n",
       "      <td>84358402</td>\n",
       "      <td>M</td>\n",
       "      <td>20.29</td>\n",
       "      <td>14.34</td>\n",
       "      <td>135.10</td>\n",
       "      <td>1297.0</td>\n",
       "      <td>0.10030</td>\n",
       "      <td>0.13280</td>\n",
       "      <td>0.19800</td>\n",
       "      <td>0.10430</td>\n",
       "      <td>...</td>\n",
       "      <td>16.67</td>\n",
       "      <td>152.20</td>\n",
       "      <td>1575.0</td>\n",
       "      <td>0.13740</td>\n",
       "      <td>0.20500</td>\n",
       "      <td>0.4000</td>\n",
       "      <td>0.1625</td>\n",
       "      <td>0.2364</td>\n",
       "      <td>0.07678</td>\n",
       "      <td>NaN</td>\n",
       "    </tr>\n",
       "    <tr>\n",
       "      <th>...</th>\n",
       "      <td>...</td>\n",
       "      <td>...</td>\n",
       "      <td>...</td>\n",
       "      <td>...</td>\n",
       "      <td>...</td>\n",
       "      <td>...</td>\n",
       "      <td>...</td>\n",
       "      <td>...</td>\n",
       "      <td>...</td>\n",
       "      <td>...</td>\n",
       "      <td>...</td>\n",
       "      <td>...</td>\n",
       "      <td>...</td>\n",
       "      <td>...</td>\n",
       "      <td>...</td>\n",
       "      <td>...</td>\n",
       "      <td>...</td>\n",
       "      <td>...</td>\n",
       "      <td>...</td>\n",
       "      <td>...</td>\n",
       "      <td>...</td>\n",
       "    </tr>\n",
       "    <tr>\n",
       "      <th>564</th>\n",
       "      <td>926424</td>\n",
       "      <td>M</td>\n",
       "      <td>21.56</td>\n",
       "      <td>22.39</td>\n",
       "      <td>142.00</td>\n",
       "      <td>1479.0</td>\n",
       "      <td>0.11100</td>\n",
       "      <td>0.11590</td>\n",
       "      <td>0.24390</td>\n",
       "      <td>0.13890</td>\n",
       "      <td>...</td>\n",
       "      <td>26.40</td>\n",
       "      <td>166.10</td>\n",
       "      <td>2027.0</td>\n",
       "      <td>0.14100</td>\n",
       "      <td>0.21130</td>\n",
       "      <td>0.4107</td>\n",
       "      <td>0.2216</td>\n",
       "      <td>0.2060</td>\n",
       "      <td>0.07115</td>\n",
       "      <td>NaN</td>\n",
       "    </tr>\n",
       "    <tr>\n",
       "      <th>565</th>\n",
       "      <td>926682</td>\n",
       "      <td>M</td>\n",
       "      <td>20.13</td>\n",
       "      <td>28.25</td>\n",
       "      <td>131.20</td>\n",
       "      <td>1261.0</td>\n",
       "      <td>0.09780</td>\n",
       "      <td>0.10340</td>\n",
       "      <td>0.14400</td>\n",
       "      <td>0.09791</td>\n",
       "      <td>...</td>\n",
       "      <td>38.25</td>\n",
       "      <td>155.00</td>\n",
       "      <td>1731.0</td>\n",
       "      <td>0.11660</td>\n",
       "      <td>0.19220</td>\n",
       "      <td>0.3215</td>\n",
       "      <td>0.1628</td>\n",
       "      <td>0.2572</td>\n",
       "      <td>0.06637</td>\n",
       "      <td>NaN</td>\n",
       "    </tr>\n",
       "    <tr>\n",
       "      <th>566</th>\n",
       "      <td>926954</td>\n",
       "      <td>M</td>\n",
       "      <td>16.60</td>\n",
       "      <td>28.08</td>\n",
       "      <td>108.30</td>\n",
       "      <td>858.1</td>\n",
       "      <td>0.08455</td>\n",
       "      <td>0.10230</td>\n",
       "      <td>0.09251</td>\n",
       "      <td>0.05302</td>\n",
       "      <td>...</td>\n",
       "      <td>34.12</td>\n",
       "      <td>126.70</td>\n",
       "      <td>1124.0</td>\n",
       "      <td>0.11390</td>\n",
       "      <td>0.30940</td>\n",
       "      <td>0.3403</td>\n",
       "      <td>0.1418</td>\n",
       "      <td>0.2218</td>\n",
       "      <td>0.07820</td>\n",
       "      <td>NaN</td>\n",
       "    </tr>\n",
       "    <tr>\n",
       "      <th>567</th>\n",
       "      <td>927241</td>\n",
       "      <td>M</td>\n",
       "      <td>20.60</td>\n",
       "      <td>29.33</td>\n",
       "      <td>140.10</td>\n",
       "      <td>1265.0</td>\n",
       "      <td>0.11780</td>\n",
       "      <td>0.27700</td>\n",
       "      <td>0.35140</td>\n",
       "      <td>0.15200</td>\n",
       "      <td>...</td>\n",
       "      <td>39.42</td>\n",
       "      <td>184.60</td>\n",
       "      <td>1821.0</td>\n",
       "      <td>0.16500</td>\n",
       "      <td>0.86810</td>\n",
       "      <td>0.9387</td>\n",
       "      <td>0.2650</td>\n",
       "      <td>0.4087</td>\n",
       "      <td>0.12400</td>\n",
       "      <td>NaN</td>\n",
       "    </tr>\n",
       "    <tr>\n",
       "      <th>568</th>\n",
       "      <td>92751</td>\n",
       "      <td>B</td>\n",
       "      <td>7.76</td>\n",
       "      <td>24.54</td>\n",
       "      <td>47.92</td>\n",
       "      <td>181.0</td>\n",
       "      <td>0.05263</td>\n",
       "      <td>0.04362</td>\n",
       "      <td>0.00000</td>\n",
       "      <td>0.00000</td>\n",
       "      <td>...</td>\n",
       "      <td>30.37</td>\n",
       "      <td>59.16</td>\n",
       "      <td>268.6</td>\n",
       "      <td>0.08996</td>\n",
       "      <td>0.06444</td>\n",
       "      <td>0.0000</td>\n",
       "      <td>0.0000</td>\n",
       "      <td>0.2871</td>\n",
       "      <td>0.07039</td>\n",
       "      <td>NaN</td>\n",
       "    </tr>\n",
       "  </tbody>\n",
       "</table>\n",
       "<p>569 rows × 33 columns</p>\n",
       "</div>"
      ],
      "text/plain": [
       "           id diagnosis  radius_mean  texture_mean  perimeter_mean  area_mean  \\\n",
       "0      842302         M        17.99         10.38          122.80     1001.0   \n",
       "1      842517         M        20.57         17.77          132.90     1326.0   \n",
       "2    84300903         M        19.69         21.25          130.00     1203.0   \n",
       "3    84348301         M        11.42         20.38           77.58      386.1   \n",
       "4    84358402         M        20.29         14.34          135.10     1297.0   \n",
       "..        ...       ...          ...           ...             ...        ...   \n",
       "564    926424         M        21.56         22.39          142.00     1479.0   \n",
       "565    926682         M        20.13         28.25          131.20     1261.0   \n",
       "566    926954         M        16.60         28.08          108.30      858.1   \n",
       "567    927241         M        20.60         29.33          140.10     1265.0   \n",
       "568     92751         B         7.76         24.54           47.92      181.0   \n",
       "\n",
       "     smoothness_mean  compactness_mean  concavity_mean  concave points_mean  \\\n",
       "0            0.11840           0.27760         0.30010              0.14710   \n",
       "1            0.08474           0.07864         0.08690              0.07017   \n",
       "2            0.10960           0.15990         0.19740              0.12790   \n",
       "3            0.14250           0.28390         0.24140              0.10520   \n",
       "4            0.10030           0.13280         0.19800              0.10430   \n",
       "..               ...               ...             ...                  ...   \n",
       "564          0.11100           0.11590         0.24390              0.13890   \n",
       "565          0.09780           0.10340         0.14400              0.09791   \n",
       "566          0.08455           0.10230         0.09251              0.05302   \n",
       "567          0.11780           0.27700         0.35140              0.15200   \n",
       "568          0.05263           0.04362         0.00000              0.00000   \n",
       "\n",
       "     ...  texture_worst  perimeter_worst  area_worst  smoothness_worst  \\\n",
       "0    ...          17.33           184.60      2019.0           0.16220   \n",
       "1    ...          23.41           158.80      1956.0           0.12380   \n",
       "2    ...          25.53           152.50      1709.0           0.14440   \n",
       "3    ...          26.50            98.87       567.7           0.20980   \n",
       "4    ...          16.67           152.20      1575.0           0.13740   \n",
       "..   ...            ...              ...         ...               ...   \n",
       "564  ...          26.40           166.10      2027.0           0.14100   \n",
       "565  ...          38.25           155.00      1731.0           0.11660   \n",
       "566  ...          34.12           126.70      1124.0           0.11390   \n",
       "567  ...          39.42           184.60      1821.0           0.16500   \n",
       "568  ...          30.37            59.16       268.6           0.08996   \n",
       "\n",
       "     compactness_worst  concavity_worst  concave points_worst  symmetry_worst  \\\n",
       "0              0.66560           0.7119                0.2654          0.4601   \n",
       "1              0.18660           0.2416                0.1860          0.2750   \n",
       "2              0.42450           0.4504                0.2430          0.3613   \n",
       "3              0.86630           0.6869                0.2575          0.6638   \n",
       "4              0.20500           0.4000                0.1625          0.2364   \n",
       "..                 ...              ...                   ...             ...   \n",
       "564            0.21130           0.4107                0.2216          0.2060   \n",
       "565            0.19220           0.3215                0.1628          0.2572   \n",
       "566            0.30940           0.3403                0.1418          0.2218   \n",
       "567            0.86810           0.9387                0.2650          0.4087   \n",
       "568            0.06444           0.0000                0.0000          0.2871   \n",
       "\n",
       "     fractal_dimension_worst  Unnamed: 32  \n",
       "0                    0.11890          NaN  \n",
       "1                    0.08902          NaN  \n",
       "2                    0.08758          NaN  \n",
       "3                    0.17300          NaN  \n",
       "4                    0.07678          NaN  \n",
       "..                       ...          ...  \n",
       "564                  0.07115          NaN  \n",
       "565                  0.06637          NaN  \n",
       "566                  0.07820          NaN  \n",
       "567                  0.12400          NaN  \n",
       "568                  0.07039          NaN  \n",
       "\n",
       "[569 rows x 33 columns]"
      ]
     },
     "execution_count": 4,
     "metadata": {},
     "output_type": "execute_result"
    }
   ],
   "source": [
    "cancer_df"
   ]
  },
  {
   "cell_type": "code",
   "execution_count": 5,
   "id": "c2bf5226",
   "metadata": {},
   "outputs": [
    {
     "data": {
      "text/html": [
       "<div>\n",
       "<style scoped>\n",
       "    .dataframe tbody tr th:only-of-type {\n",
       "        vertical-align: middle;\n",
       "    }\n",
       "\n",
       "    .dataframe tbody tr th {\n",
       "        vertical-align: top;\n",
       "    }\n",
       "\n",
       "    .dataframe thead th {\n",
       "        text-align: right;\n",
       "    }\n",
       "</style>\n",
       "<table border=\"1\" class=\"dataframe\">\n",
       "  <thead>\n",
       "    <tr style=\"text-align: right;\">\n",
       "      <th></th>\n",
       "      <th>id</th>\n",
       "      <th>diagnosis</th>\n",
       "      <th>radius_mean</th>\n",
       "      <th>texture_mean</th>\n",
       "      <th>perimeter_mean</th>\n",
       "      <th>area_mean</th>\n",
       "      <th>smoothness_mean</th>\n",
       "      <th>compactness_mean</th>\n",
       "      <th>concavity_mean</th>\n",
       "      <th>concave points_mean</th>\n",
       "      <th>...</th>\n",
       "      <th>radius_worst</th>\n",
       "      <th>texture_worst</th>\n",
       "      <th>perimeter_worst</th>\n",
       "      <th>area_worst</th>\n",
       "      <th>smoothness_worst</th>\n",
       "      <th>compactness_worst</th>\n",
       "      <th>concavity_worst</th>\n",
       "      <th>concave points_worst</th>\n",
       "      <th>symmetry_worst</th>\n",
       "      <th>fractal_dimension_worst</th>\n",
       "    </tr>\n",
       "  </thead>\n",
       "  <tbody>\n",
       "    <tr>\n",
       "      <th>0</th>\n",
       "      <td>842302</td>\n",
       "      <td>M</td>\n",
       "      <td>17.99</td>\n",
       "      <td>10.38</td>\n",
       "      <td>122.80</td>\n",
       "      <td>1001.0</td>\n",
       "      <td>0.11840</td>\n",
       "      <td>0.27760</td>\n",
       "      <td>0.30010</td>\n",
       "      <td>0.14710</td>\n",
       "      <td>...</td>\n",
       "      <td>25.380</td>\n",
       "      <td>17.33</td>\n",
       "      <td>184.60</td>\n",
       "      <td>2019.0</td>\n",
       "      <td>0.16220</td>\n",
       "      <td>0.66560</td>\n",
       "      <td>0.7119</td>\n",
       "      <td>0.2654</td>\n",
       "      <td>0.4601</td>\n",
       "      <td>0.11890</td>\n",
       "    </tr>\n",
       "    <tr>\n",
       "      <th>1</th>\n",
       "      <td>842517</td>\n",
       "      <td>M</td>\n",
       "      <td>20.57</td>\n",
       "      <td>17.77</td>\n",
       "      <td>132.90</td>\n",
       "      <td>1326.0</td>\n",
       "      <td>0.08474</td>\n",
       "      <td>0.07864</td>\n",
       "      <td>0.08690</td>\n",
       "      <td>0.07017</td>\n",
       "      <td>...</td>\n",
       "      <td>24.990</td>\n",
       "      <td>23.41</td>\n",
       "      <td>158.80</td>\n",
       "      <td>1956.0</td>\n",
       "      <td>0.12380</td>\n",
       "      <td>0.18660</td>\n",
       "      <td>0.2416</td>\n",
       "      <td>0.1860</td>\n",
       "      <td>0.2750</td>\n",
       "      <td>0.08902</td>\n",
       "    </tr>\n",
       "    <tr>\n",
       "      <th>2</th>\n",
       "      <td>84300903</td>\n",
       "      <td>M</td>\n",
       "      <td>19.69</td>\n",
       "      <td>21.25</td>\n",
       "      <td>130.00</td>\n",
       "      <td>1203.0</td>\n",
       "      <td>0.10960</td>\n",
       "      <td>0.15990</td>\n",
       "      <td>0.19740</td>\n",
       "      <td>0.12790</td>\n",
       "      <td>...</td>\n",
       "      <td>23.570</td>\n",
       "      <td>25.53</td>\n",
       "      <td>152.50</td>\n",
       "      <td>1709.0</td>\n",
       "      <td>0.14440</td>\n",
       "      <td>0.42450</td>\n",
       "      <td>0.4504</td>\n",
       "      <td>0.2430</td>\n",
       "      <td>0.3613</td>\n",
       "      <td>0.08758</td>\n",
       "    </tr>\n",
       "    <tr>\n",
       "      <th>3</th>\n",
       "      <td>84348301</td>\n",
       "      <td>M</td>\n",
       "      <td>11.42</td>\n",
       "      <td>20.38</td>\n",
       "      <td>77.58</td>\n",
       "      <td>386.1</td>\n",
       "      <td>0.14250</td>\n",
       "      <td>0.28390</td>\n",
       "      <td>0.24140</td>\n",
       "      <td>0.10520</td>\n",
       "      <td>...</td>\n",
       "      <td>14.910</td>\n",
       "      <td>26.50</td>\n",
       "      <td>98.87</td>\n",
       "      <td>567.7</td>\n",
       "      <td>0.20980</td>\n",
       "      <td>0.86630</td>\n",
       "      <td>0.6869</td>\n",
       "      <td>0.2575</td>\n",
       "      <td>0.6638</td>\n",
       "      <td>0.17300</td>\n",
       "    </tr>\n",
       "    <tr>\n",
       "      <th>4</th>\n",
       "      <td>84358402</td>\n",
       "      <td>M</td>\n",
       "      <td>20.29</td>\n",
       "      <td>14.34</td>\n",
       "      <td>135.10</td>\n",
       "      <td>1297.0</td>\n",
       "      <td>0.10030</td>\n",
       "      <td>0.13280</td>\n",
       "      <td>0.19800</td>\n",
       "      <td>0.10430</td>\n",
       "      <td>...</td>\n",
       "      <td>22.540</td>\n",
       "      <td>16.67</td>\n",
       "      <td>152.20</td>\n",
       "      <td>1575.0</td>\n",
       "      <td>0.13740</td>\n",
       "      <td>0.20500</td>\n",
       "      <td>0.4000</td>\n",
       "      <td>0.1625</td>\n",
       "      <td>0.2364</td>\n",
       "      <td>0.07678</td>\n",
       "    </tr>\n",
       "    <tr>\n",
       "      <th>...</th>\n",
       "      <td>...</td>\n",
       "      <td>...</td>\n",
       "      <td>...</td>\n",
       "      <td>...</td>\n",
       "      <td>...</td>\n",
       "      <td>...</td>\n",
       "      <td>...</td>\n",
       "      <td>...</td>\n",
       "      <td>...</td>\n",
       "      <td>...</td>\n",
       "      <td>...</td>\n",
       "      <td>...</td>\n",
       "      <td>...</td>\n",
       "      <td>...</td>\n",
       "      <td>...</td>\n",
       "      <td>...</td>\n",
       "      <td>...</td>\n",
       "      <td>...</td>\n",
       "      <td>...</td>\n",
       "      <td>...</td>\n",
       "      <td>...</td>\n",
       "    </tr>\n",
       "    <tr>\n",
       "      <th>564</th>\n",
       "      <td>926424</td>\n",
       "      <td>M</td>\n",
       "      <td>21.56</td>\n",
       "      <td>22.39</td>\n",
       "      <td>142.00</td>\n",
       "      <td>1479.0</td>\n",
       "      <td>0.11100</td>\n",
       "      <td>0.11590</td>\n",
       "      <td>0.24390</td>\n",
       "      <td>0.13890</td>\n",
       "      <td>...</td>\n",
       "      <td>25.450</td>\n",
       "      <td>26.40</td>\n",
       "      <td>166.10</td>\n",
       "      <td>2027.0</td>\n",
       "      <td>0.14100</td>\n",
       "      <td>0.21130</td>\n",
       "      <td>0.4107</td>\n",
       "      <td>0.2216</td>\n",
       "      <td>0.2060</td>\n",
       "      <td>0.07115</td>\n",
       "    </tr>\n",
       "    <tr>\n",
       "      <th>565</th>\n",
       "      <td>926682</td>\n",
       "      <td>M</td>\n",
       "      <td>20.13</td>\n",
       "      <td>28.25</td>\n",
       "      <td>131.20</td>\n",
       "      <td>1261.0</td>\n",
       "      <td>0.09780</td>\n",
       "      <td>0.10340</td>\n",
       "      <td>0.14400</td>\n",
       "      <td>0.09791</td>\n",
       "      <td>...</td>\n",
       "      <td>23.690</td>\n",
       "      <td>38.25</td>\n",
       "      <td>155.00</td>\n",
       "      <td>1731.0</td>\n",
       "      <td>0.11660</td>\n",
       "      <td>0.19220</td>\n",
       "      <td>0.3215</td>\n",
       "      <td>0.1628</td>\n",
       "      <td>0.2572</td>\n",
       "      <td>0.06637</td>\n",
       "    </tr>\n",
       "    <tr>\n",
       "      <th>566</th>\n",
       "      <td>926954</td>\n",
       "      <td>M</td>\n",
       "      <td>16.60</td>\n",
       "      <td>28.08</td>\n",
       "      <td>108.30</td>\n",
       "      <td>858.1</td>\n",
       "      <td>0.08455</td>\n",
       "      <td>0.10230</td>\n",
       "      <td>0.09251</td>\n",
       "      <td>0.05302</td>\n",
       "      <td>...</td>\n",
       "      <td>18.980</td>\n",
       "      <td>34.12</td>\n",
       "      <td>126.70</td>\n",
       "      <td>1124.0</td>\n",
       "      <td>0.11390</td>\n",
       "      <td>0.30940</td>\n",
       "      <td>0.3403</td>\n",
       "      <td>0.1418</td>\n",
       "      <td>0.2218</td>\n",
       "      <td>0.07820</td>\n",
       "    </tr>\n",
       "    <tr>\n",
       "      <th>567</th>\n",
       "      <td>927241</td>\n",
       "      <td>M</td>\n",
       "      <td>20.60</td>\n",
       "      <td>29.33</td>\n",
       "      <td>140.10</td>\n",
       "      <td>1265.0</td>\n",
       "      <td>0.11780</td>\n",
       "      <td>0.27700</td>\n",
       "      <td>0.35140</td>\n",
       "      <td>0.15200</td>\n",
       "      <td>...</td>\n",
       "      <td>25.740</td>\n",
       "      <td>39.42</td>\n",
       "      <td>184.60</td>\n",
       "      <td>1821.0</td>\n",
       "      <td>0.16500</td>\n",
       "      <td>0.86810</td>\n",
       "      <td>0.9387</td>\n",
       "      <td>0.2650</td>\n",
       "      <td>0.4087</td>\n",
       "      <td>0.12400</td>\n",
       "    </tr>\n",
       "    <tr>\n",
       "      <th>568</th>\n",
       "      <td>92751</td>\n",
       "      <td>B</td>\n",
       "      <td>7.76</td>\n",
       "      <td>24.54</td>\n",
       "      <td>47.92</td>\n",
       "      <td>181.0</td>\n",
       "      <td>0.05263</td>\n",
       "      <td>0.04362</td>\n",
       "      <td>0.00000</td>\n",
       "      <td>0.00000</td>\n",
       "      <td>...</td>\n",
       "      <td>9.456</td>\n",
       "      <td>30.37</td>\n",
       "      <td>59.16</td>\n",
       "      <td>268.6</td>\n",
       "      <td>0.08996</td>\n",
       "      <td>0.06444</td>\n",
       "      <td>0.0000</td>\n",
       "      <td>0.0000</td>\n",
       "      <td>0.2871</td>\n",
       "      <td>0.07039</td>\n",
       "    </tr>\n",
       "  </tbody>\n",
       "</table>\n",
       "<p>569 rows × 32 columns</p>\n",
       "</div>"
      ],
      "text/plain": [
       "           id diagnosis  radius_mean  texture_mean  perimeter_mean  area_mean  \\\n",
       "0      842302         M        17.99         10.38          122.80     1001.0   \n",
       "1      842517         M        20.57         17.77          132.90     1326.0   \n",
       "2    84300903         M        19.69         21.25          130.00     1203.0   \n",
       "3    84348301         M        11.42         20.38           77.58      386.1   \n",
       "4    84358402         M        20.29         14.34          135.10     1297.0   \n",
       "..        ...       ...          ...           ...             ...        ...   \n",
       "564    926424         M        21.56         22.39          142.00     1479.0   \n",
       "565    926682         M        20.13         28.25          131.20     1261.0   \n",
       "566    926954         M        16.60         28.08          108.30      858.1   \n",
       "567    927241         M        20.60         29.33          140.10     1265.0   \n",
       "568     92751         B         7.76         24.54           47.92      181.0   \n",
       "\n",
       "     smoothness_mean  compactness_mean  concavity_mean  concave points_mean  \\\n",
       "0            0.11840           0.27760         0.30010              0.14710   \n",
       "1            0.08474           0.07864         0.08690              0.07017   \n",
       "2            0.10960           0.15990         0.19740              0.12790   \n",
       "3            0.14250           0.28390         0.24140              0.10520   \n",
       "4            0.10030           0.13280         0.19800              0.10430   \n",
       "..               ...               ...             ...                  ...   \n",
       "564          0.11100           0.11590         0.24390              0.13890   \n",
       "565          0.09780           0.10340         0.14400              0.09791   \n",
       "566          0.08455           0.10230         0.09251              0.05302   \n",
       "567          0.11780           0.27700         0.35140              0.15200   \n",
       "568          0.05263           0.04362         0.00000              0.00000   \n",
       "\n",
       "     ...  radius_worst  texture_worst  perimeter_worst  area_worst  \\\n",
       "0    ...        25.380          17.33           184.60      2019.0   \n",
       "1    ...        24.990          23.41           158.80      1956.0   \n",
       "2    ...        23.570          25.53           152.50      1709.0   \n",
       "3    ...        14.910          26.50            98.87       567.7   \n",
       "4    ...        22.540          16.67           152.20      1575.0   \n",
       "..   ...           ...            ...              ...         ...   \n",
       "564  ...        25.450          26.40           166.10      2027.0   \n",
       "565  ...        23.690          38.25           155.00      1731.0   \n",
       "566  ...        18.980          34.12           126.70      1124.0   \n",
       "567  ...        25.740          39.42           184.60      1821.0   \n",
       "568  ...         9.456          30.37            59.16       268.6   \n",
       "\n",
       "     smoothness_worst  compactness_worst  concavity_worst  \\\n",
       "0             0.16220            0.66560           0.7119   \n",
       "1             0.12380            0.18660           0.2416   \n",
       "2             0.14440            0.42450           0.4504   \n",
       "3             0.20980            0.86630           0.6869   \n",
       "4             0.13740            0.20500           0.4000   \n",
       "..                ...                ...              ...   \n",
       "564           0.14100            0.21130           0.4107   \n",
       "565           0.11660            0.19220           0.3215   \n",
       "566           0.11390            0.30940           0.3403   \n",
       "567           0.16500            0.86810           0.9387   \n",
       "568           0.08996            0.06444           0.0000   \n",
       "\n",
       "     concave points_worst  symmetry_worst  fractal_dimension_worst  \n",
       "0                  0.2654          0.4601                  0.11890  \n",
       "1                  0.1860          0.2750                  0.08902  \n",
       "2                  0.2430          0.3613                  0.08758  \n",
       "3                  0.2575          0.6638                  0.17300  \n",
       "4                  0.1625          0.2364                  0.07678  \n",
       "..                    ...             ...                      ...  \n",
       "564                0.2216          0.2060                  0.07115  \n",
       "565                0.1628          0.2572                  0.06637  \n",
       "566                0.1418          0.2218                  0.07820  \n",
       "567                0.2650          0.4087                  0.12400  \n",
       "568                0.0000          0.2871                  0.07039  \n",
       "\n",
       "[569 rows x 32 columns]"
      ]
     },
     "execution_count": 5,
     "metadata": {},
     "output_type": "execute_result"
    }
   ],
   "source": [
    "cancer_df.drop('Unnamed: 32', axis=1, inplace=True)\n",
    "cancer_df"
   ]
  },
  {
   "cell_type": "code",
   "execution_count": 6,
   "id": "bdf38b9b",
   "metadata": {},
   "outputs": [],
   "source": [
    "## ・diagnosis: 診断結果 (良性がB / 悪性がM) ・説明変数は3列以降、目的変数を2列目としロジスティック回帰で分類"
   ]
  },
  {
   "cell_type": "code",
   "execution_count": 7,
   "id": "ad8ae50d",
   "metadata": {
    "scrolled": true
   },
   "outputs": [
    {
     "name": "stderr",
     "output_type": "stream",
     "text": [
      "D:\\anaconda\\lib\\site-packages\\sklearn\\linear_model\\_logistic.py:763: ConvergenceWarning: lbfgs failed to converge (status=1):\n",
      "STOP: TOTAL NO. of ITERATIONS REACHED LIMIT.\n",
      "\n",
      "Increase the number of iterations (max_iter) or scale the data as shown in:\n",
      "    https://scikit-learn.org/stable/modules/preprocessing.html\n",
      "Please also refer to the documentation for alternative solver options:\n",
      "    https://scikit-learn.org/stable/modules/linear_model.html#logistic-regression\n",
      "  n_iter_i = _check_optimize_result(\n",
      "D:\\anaconda\\lib\\site-packages\\sklearn\\linear_model\\_logistic.py:763: ConvergenceWarning: lbfgs failed to converge (status=1):\n",
      "STOP: TOTAL NO. of ITERATIONS REACHED LIMIT.\n",
      "\n",
      "Increase the number of iterations (max_iter) or scale the data as shown in:\n",
      "    https://scikit-learn.org/stable/modules/preprocessing.html\n",
      "Please also refer to the documentation for alternative solver options:\n",
      "    https://scikit-learn.org/stable/modules/linear_model.html#logistic-regression\n",
      "  n_iter_i = _check_optimize_result(\n",
      "D:\\anaconda\\lib\\site-packages\\sklearn\\linear_model\\_logistic.py:763: ConvergenceWarning: lbfgs failed to converge (status=1):\n",
      "STOP: TOTAL NO. of ITERATIONS REACHED LIMIT.\n",
      "\n",
      "Increase the number of iterations (max_iter) or scale the data as shown in:\n",
      "    https://scikit-learn.org/stable/modules/preprocessing.html\n",
      "Please also refer to the documentation for alternative solver options:\n",
      "    https://scikit-learn.org/stable/modules/linear_model.html#logistic-regression\n",
      "  n_iter_i = _check_optimize_result(\n",
      "D:\\anaconda\\lib\\site-packages\\sklearn\\linear_model\\_logistic.py:763: ConvergenceWarning: lbfgs failed to converge (status=1):\n",
      "STOP: TOTAL NO. of ITERATIONS REACHED LIMIT.\n",
      "\n",
      "Increase the number of iterations (max_iter) or scale the data as shown in:\n",
      "    https://scikit-learn.org/stable/modules/preprocessing.html\n",
      "Please also refer to the documentation for alternative solver options:\n",
      "    https://scikit-learn.org/stable/modules/linear_model.html#logistic-regression\n",
      "  n_iter_i = _check_optimize_result(\n",
      "D:\\anaconda\\lib\\site-packages\\sklearn\\linear_model\\_logistic.py:763: ConvergenceWarning: lbfgs failed to converge (status=1):\n",
      "STOP: TOTAL NO. of ITERATIONS REACHED LIMIT.\n",
      "\n",
      "Increase the number of iterations (max_iter) or scale the data as shown in:\n",
      "    https://scikit-learn.org/stable/modules/preprocessing.html\n",
      "Please also refer to the documentation for alternative solver options:\n",
      "    https://scikit-learn.org/stable/modules/linear_model.html#logistic-regression\n",
      "  n_iter_i = _check_optimize_result(\n",
      "D:\\anaconda\\lib\\site-packages\\sklearn\\linear_model\\_logistic.py:763: ConvergenceWarning: lbfgs failed to converge (status=1):\n",
      "STOP: TOTAL NO. of ITERATIONS REACHED LIMIT.\n",
      "\n",
      "Increase the number of iterations (max_iter) or scale the data as shown in:\n",
      "    https://scikit-learn.org/stable/modules/preprocessing.html\n",
      "Please also refer to the documentation for alternative solver options:\n",
      "    https://scikit-learn.org/stable/modules/linear_model.html#logistic-regression\n",
      "  n_iter_i = _check_optimize_result(\n",
      "D:\\anaconda\\lib\\site-packages\\sklearn\\linear_model\\_logistic.py:763: ConvergenceWarning: lbfgs failed to converge (status=1):\n",
      "STOP: TOTAL NO. of ITERATIONS REACHED LIMIT.\n",
      "\n",
      "Increase the number of iterations (max_iter) or scale the data as shown in:\n",
      "    https://scikit-learn.org/stable/modules/preprocessing.html\n",
      "Please also refer to the documentation for alternative solver options:\n",
      "    https://scikit-learn.org/stable/modules/linear_model.html#logistic-regression\n",
      "  n_iter_i = _check_optimize_result(\n",
      "D:\\anaconda\\lib\\site-packages\\sklearn\\linear_model\\_logistic.py:763: ConvergenceWarning: lbfgs failed to converge (status=1):\n",
      "STOP: TOTAL NO. of ITERATIONS REACHED LIMIT.\n",
      "\n",
      "Increase the number of iterations (max_iter) or scale the data as shown in:\n",
      "    https://scikit-learn.org/stable/modules/preprocessing.html\n",
      "Please also refer to the documentation for alternative solver options:\n",
      "    https://scikit-learn.org/stable/modules/linear_model.html#logistic-regression\n",
      "  n_iter_i = _check_optimize_result(\n",
      "D:\\anaconda\\lib\\site-packages\\sklearn\\linear_model\\_logistic.py:763: ConvergenceWarning: lbfgs failed to converge (status=1):\n",
      "STOP: TOTAL NO. of ITERATIONS REACHED LIMIT.\n",
      "\n",
      "Increase the number of iterations (max_iter) or scale the data as shown in:\n",
      "    https://scikit-learn.org/stable/modules/preprocessing.html\n",
      "Please also refer to the documentation for alternative solver options:\n",
      "    https://scikit-learn.org/stable/modules/linear_model.html#logistic-regression\n",
      "  n_iter_i = _check_optimize_result(\n",
      "D:\\anaconda\\lib\\site-packages\\sklearn\\linear_model\\_logistic.py:763: ConvergenceWarning: lbfgs failed to converge (status=1):\n",
      "STOP: TOTAL NO. of ITERATIONS REACHED LIMIT.\n",
      "\n",
      "Increase the number of iterations (max_iter) or scale the data as shown in:\n",
      "    https://scikit-learn.org/stable/modules/preprocessing.html\n",
      "Please also refer to the documentation for alternative solver options:\n",
      "    https://scikit-learn.org/stable/modules/linear_model.html#logistic-regression\n",
      "  n_iter_i = _check_optimize_result(\n",
      "D:\\anaconda\\lib\\site-packages\\sklearn\\linear_model\\_logistic.py:763: ConvergenceWarning: lbfgs failed to converge (status=1):\n",
      "STOP: TOTAL NO. of ITERATIONS REACHED LIMIT.\n",
      "\n",
      "Increase the number of iterations (max_iter) or scale the data as shown in:\n",
      "    https://scikit-learn.org/stable/modules/preprocessing.html\n",
      "Please also refer to the documentation for alternative solver options:\n",
      "    https://scikit-learn.org/stable/modules/linear_model.html#logistic-regression\n",
      "  n_iter_i = _check_optimize_result(\n",
      "D:\\anaconda\\lib\\site-packages\\sklearn\\linear_model\\_logistic.py:763: ConvergenceWarning: lbfgs failed to converge (status=1):\n",
      "STOP: TOTAL NO. of ITERATIONS REACHED LIMIT.\n",
      "\n",
      "Increase the number of iterations (max_iter) or scale the data as shown in:\n",
      "    https://scikit-learn.org/stable/modules/preprocessing.html\n",
      "Please also refer to the documentation for alternative solver options:\n",
      "    https://scikit-learn.org/stable/modules/linear_model.html#logistic-regression\n",
      "  n_iter_i = _check_optimize_result(\n",
      "D:\\anaconda\\lib\\site-packages\\sklearn\\linear_model\\_logistic.py:763: ConvergenceWarning: lbfgs failed to converge (status=1):\n",
      "STOP: TOTAL NO. of ITERATIONS REACHED LIMIT.\n",
      "\n",
      "Increase the number of iterations (max_iter) or scale the data as shown in:\n",
      "    https://scikit-learn.org/stable/modules/preprocessing.html\n",
      "Please also refer to the documentation for alternative solver options:\n",
      "    https://scikit-learn.org/stable/modules/linear_model.html#logistic-regression\n",
      "  n_iter_i = _check_optimize_result(\n",
      "D:\\anaconda\\lib\\site-packages\\sklearn\\linear_model\\_logistic.py:763: ConvergenceWarning: lbfgs failed to converge (status=1):\n",
      "STOP: TOTAL NO. of ITERATIONS REACHED LIMIT.\n",
      "\n",
      "Increase the number of iterations (max_iter) or scale the data as shown in:\n",
      "    https://scikit-learn.org/stable/modules/preprocessing.html\n",
      "Please also refer to the documentation for alternative solver options:\n",
      "    https://scikit-learn.org/stable/modules/linear_model.html#logistic-regression\n",
      "  n_iter_i = _check_optimize_result(\n",
      "D:\\anaconda\\lib\\site-packages\\sklearn\\linear_model\\_logistic.py:763: ConvergenceWarning: lbfgs failed to converge (status=1):\n",
      "STOP: TOTAL NO. of ITERATIONS REACHED LIMIT.\n",
      "\n",
      "Increase the number of iterations (max_iter) or scale the data as shown in:\n",
      "    https://scikit-learn.org/stable/modules/preprocessing.html\n",
      "Please also refer to the documentation for alternative solver options:\n",
      "    https://scikit-learn.org/stable/modules/linear_model.html#logistic-regression\n",
      "  n_iter_i = _check_optimize_result(\n",
      "D:\\anaconda\\lib\\site-packages\\sklearn\\linear_model\\_logistic.py:763: ConvergenceWarning: lbfgs failed to converge (status=1):\n",
      "STOP: TOTAL NO. of ITERATIONS REACHED LIMIT.\n",
      "\n",
      "Increase the number of iterations (max_iter) or scale the data as shown in:\n",
      "    https://scikit-learn.org/stable/modules/preprocessing.html\n",
      "Please also refer to the documentation for alternative solver options:\n",
      "    https://scikit-learn.org/stable/modules/linear_model.html#logistic-regression\n",
      "  n_iter_i = _check_optimize_result(\n"
     ]
    },
    {
     "name": "stdout",
     "output_type": "stream",
     "text": [
      "Train score: 0.988\n",
      "Test score: 0.972\n",
      "Confustion matrix:\n",
      "[[89  1]\n",
      " [ 3 50]]\n"
     ]
    },
    {
     "name": "stderr",
     "output_type": "stream",
     "text": [
      "D:\\anaconda\\lib\\site-packages\\sklearn\\linear_model\\_logistic.py:763: ConvergenceWarning: lbfgs failed to converge (status=1):\n",
      "STOP: TOTAL NO. of ITERATIONS REACHED LIMIT.\n",
      "\n",
      "Increase the number of iterations (max_iter) or scale the data as shown in:\n",
      "    https://scikit-learn.org/stable/modules/preprocessing.html\n",
      "Please also refer to the documentation for alternative solver options:\n",
      "    https://scikit-learn.org/stable/modules/linear_model.html#logistic-regression\n",
      "  n_iter_i = _check_optimize_result(\n",
      "D:\\anaconda\\lib\\site-packages\\sklearn\\linear_model\\_logistic.py:763: ConvergenceWarning: lbfgs failed to converge (status=1):\n",
      "STOP: TOTAL NO. of ITERATIONS REACHED LIMIT.\n",
      "\n",
      "Increase the number of iterations (max_iter) or scale the data as shown in:\n",
      "    https://scikit-learn.org/stable/modules/preprocessing.html\n",
      "Please also refer to the documentation for alternative solver options:\n",
      "    https://scikit-learn.org/stable/modules/linear_model.html#logistic-regression\n",
      "  n_iter_i = _check_optimize_result(\n",
      "D:\\anaconda\\lib\\site-packages\\sklearn\\linear_model\\_logistic.py:763: ConvergenceWarning: lbfgs failed to converge (status=1):\n",
      "STOP: TOTAL NO. of ITERATIONS REACHED LIMIT.\n",
      "\n",
      "Increase the number of iterations (max_iter) or scale the data as shown in:\n",
      "    https://scikit-learn.org/stable/modules/preprocessing.html\n",
      "Please also refer to the documentation for alternative solver options:\n",
      "    https://scikit-learn.org/stable/modules/linear_model.html#logistic-regression\n",
      "  n_iter_i = _check_optimize_result(\n"
     ]
    }
   ],
   "source": [
    "# 目的変数の抽出\n",
    "y = cancer_df.diagnosis.apply(lambda d: 1 if d == 'M' else 0)\n",
    "# 説明変数の抽出\n",
    "X = cancer_df.loc[:, 'radius_mean':]\n",
    "# 学習用とテスト用でデータを分離\n",
    "X_train, X_test, y_train, y_test = train_test_split(X, y, random_state=0)\n",
    "\n",
    "# 標準化\n",
    "scaler = StandardScaler()\n",
    "X_train_scaled = scaler.fit_transform(X_train)\n",
    "X_test_scaled = scaler.transform(X_test)\n",
    "\n",
    "# ロジスティック回帰で学習\n",
    "logistic = LogisticRegressionCV(cv=10, random_state=0)\n",
    "logistic.fit(X_train_scaled, y_train)\n",
    "\n",
    "# 検証\n",
    "print('Train score: {:.3f}'.format(logistic.score(X_train_scaled, y_train)))\n",
    "print('Test score: {:.3f}'.format(logistic.score(X_test_scaled, y_test)))\n",
    "print('Confustion matrix:\\n{}'.format(confusion_matrix(y_true=y_test, y_pred=logistic.predict(X_test_scaled))))"
   ]
  },
  {
   "cell_type": "code",
   "execution_count": 8,
   "id": "e32f7893",
   "metadata": {},
   "outputs": [
    {
     "data": {
      "text/plain": [
       "<BarContainer object of 30 artists>"
      ]
     },
     "execution_count": 8,
     "metadata": {},
     "output_type": "execute_result"
    },
    {
     "data": {
      "image/png": "[encoded data removed]",
      "text/plain": [
       "<Figure size 432x288 with 1 Axes>"
      ]
     },
     "metadata": {
      "needs_background": "light"
     },
     "output_type": "display_data"
    }
   ],
   "source": [
    "## ・検証スコア97%で分類できることを確認\n",
    "pca = PCA(n_components=30)\n",
    "pca.fit(X_train_scaled)\n",
    "plt.bar([n for n in range(1, len(pca.explained_variance_ratio_)+1)], pca.explained_variance_ratio_)"
   ]
  },
  {
   "cell_type": "code",
   "execution_count": 133,
   "id": "64365608",
   "metadata": {},
   "outputs": [
    {
     "name": "stdout",
     "output_type": "stream",
     "text": [
      "X_train_pca shape: (426, 2)\n",
      "explained variance ratio: [0.43315126 0.19586506]\n"
     ]
    },
    {
     "data": {
      "text/plain": [
       "Text(0, 0.5, 'PC 2')"
      ]
     },
     "execution_count": 133,
     "metadata": {},
     "output_type": "execute_result"
    },
    {
     "data": {
      "image/png": "[encoded data removed]",
      "text/plain": [
       "<Figure size 432x288 with 1 Axes>"
      ]
     },
     "metadata": {},
     "output_type": "display_data"
    }
   ],
   "source": [
    "# PCA\n",
    "# 次元数2まで圧縮\n",
    "pca = PCA(n_components=2)\n",
    "X_train_pca = pca.fit_transform(X_train_scaled)\n",
    "print('X_train_pca shape: {}'.format(X_train_pca.shape))\n",
    "# X_train_pca shape: (426, 2)\n",
    "\n",
    "# 寄与率\n",
    "print('explained variance ratio: {}'.format(pca.explained_variance_ratio_))\n",
    "# explained variance ratio: [ 0.43315126  0.19586506]\n",
    "\n",
    "# 散布図にプロット\n",
    "temp = pd.DataFrame(X_train_pca)\n",
    "temp['Outcome'] = y_train.values\n",
    "b = temp[temp['Outcome'] == 0]\n",
    "m = temp[temp['Outcome'] == 1]\n",
    "plt.scatter(x=b[0], y=b[1], marker='o') # 良性は○でマーク\n",
    "plt.scatter(x=m[0], y=m[1], marker='^') # 悪性は△でマーク\n",
    "plt.xlabel('PC 1') # 第1主成分をx軸\n",
    "plt.ylabel('PC 2') # 第2主成分をy軸"
   ]
  },
  {
   "cell_type": "markdown",
   "id": "a20fd9d9",
   "metadata": {},
   "source": [
    "## 5.K近傍法/K-means\n",
    "### &emsp;&emsp; 5.1 K近傍法\n",
    "#### &emsp;&emsp;&emsp; 5.1 K近傍法Report \n",
    "#### &emsp;&emsp;&emsp; 5.1.1 K近傍法とは\n",
    "#### &emsp;&emsp;&emsp;&emsp;&emsp; 教師あり学習のひとつで分類問題を近くにあるサンプルの数で多数決を取る。\n",
    "#### &emsp;&emsp;&emsp;&emsp;&emsp; 多数決の個数は値で決める。K=1が再近傍法と呼ばれる。\n",
    "#### &emsp;&emsp;&emsp;&emsp;&emsp;  最も決定境界が入り組んでいる。（Kを大きくすることで決定境界は滑らかになる。）\n",
    "#### &emsp;&emsp;&emsp;&emsp;&emsp;距離計算は、主にユークリッド距離計算が使われる。（本ハンズオンも）\n",
    "#### &emsp;&emsp;&emsp;&emsp;&emsp;　"
   ]
  },
  {
   "cell_type": "markdown",
   "id": "52ccb19f",
   "metadata": {},
   "source": [
    "### 5.1.2K近傍法ハンズオン"
   ]
  },
  {
   "cell_type": "code",
   "execution_count": 20,
   "id": "34e7c323",
   "metadata": {},
   "outputs": [],
   "source": [
    "%matplotlib inline\n",
    "import numpy as np\n",
    "import matplotlib.pyplot as plt\n",
    "from scipy import stats"
   ]
  },
  {
   "cell_type": "code",
   "execution_count": 21,
   "id": "5ebc8c4b",
   "metadata": {},
   "outputs": [],
   "source": [
    "##### 訓練データ生成\n",
    "\n",
    "def gen_data():\n",
    "    x0 = np.random.normal(size=50).reshape(-1, 2) - 1\n",
    "    x1 = np.random.normal(size=50).reshape(-1, 2) + 1.\n",
    "    x_train = np.concatenate([x0, x1])\n",
    "    y_train = np.concatenate([np.zeros(25), np.ones(25)]).astype(np.int)\n",
    "    return x_train, y_train"
   ]
  },
  {
   "cell_type": "code",
   "execution_count": 22,
   "id": "361ad8dd",
   "metadata": {},
   "outputs": [
    {
     "data": {
      "text/plain": [
       "<matplotlib.collections.PathCollection at 0x27fe08bdf0>"
      ]
     },
     "execution_count": 22,
     "metadata": {},
     "output_type": "execute_result"
    },
    {
     "data": {
      "image/png": "[encoded data removed]",
      "text/plain": [
       "<Figure size 432x288 with 1 Axes>"
      ]
     },
     "metadata": {
      "needs_background": "light"
     },
     "output_type": "display_data"
    }
   ],
   "source": [
    "X_train, ys_train = gen_data()\n",
    "plt.scatter(X_train[:, 0], X_train[:, 1], c=ys_train)"
   ]
  },
  {
   "cell_type": "markdown",
   "id": "3f979fc7",
   "metadata": {},
   "source": [
    "#### 学習　（特になし）"
   ]
  },
  {
   "cell_type": "code",
   "execution_count": null,
   "id": "3e70ae39",
   "metadata": {},
   "outputs": [],
   "source": [
    "#### 予測\n",
    "#### 予測するデータ点との、距離が最も近い k 個の、訓練データのラベルの最頻値を割り当てる"
   ]
  },
  {
   "cell_type": "code",
   "execution_count": 23,
   "id": "5624b2bc",
   "metadata": {},
   "outputs": [],
   "source": [
    "def distance(x1, x2):\n",
    "    return np.sum((x1 - x2)**2, axis=1)\n",
    "\n",
    "def knc_predict(n_neighbors, x_train, y_train, X_test):\n",
    "    y_pred = np.empty(len(X_test), dtype=y_train.dtype)\n",
    "    for i, x in enumerate(X_test):\n",
    "        distances = distance(x, X_train)\n",
    "        nearest_index = distances.argsort()[:n_neighbors]\n",
    "        mode, _ = stats.mode(y_train[nearest_index])\n",
    "        y_pred[i] = mode\n",
    "    return y_pred\n",
    "\n",
    "def plt_resut(x_train, y_train, y_pred):\n",
    "    xx0, xx1 = np.meshgrid(np.linspace(-5, 5, 100), np.linspace(-5, 5, 100))\n",
    "    xx = np.array([xx0, xx1]).reshape(2, -1).T\n",
    "    plt.scatter(x_train[:, 0], x_train[:, 1], c=y_train)\n",
    "    plt.contourf(xx0, xx1, y_pred.reshape(100, 100).astype(dtype=np.float), alpha=0.2, levels=np.linspace(0, 1, 3))"
   ]
  },
  {
   "cell_type": "code",
   "execution_count": 24,
   "id": "a4404675",
   "metadata": {
    "scrolled": false
   },
   "outputs": [
    {
     "data": {
      "image/png": "[encoded data removed]",
      "text/plain": [
       "<Figure size 432x288 with 1 Axes>"
      ]
     },
     "metadata": {
      "needs_background": "light"
     },
     "output_type": "display_data"
    }
   ],
   "source": [
    "n_neighbors = 3\n",
    "\n",
    "xx0, xx1 = np.meshgrid(np.linspace(-5, 5, 100), np.linspace(-5, 5, 100))\n",
    "X_test = np.array([xx0, xx1]).reshape(2, -1).T\n",
    "\n",
    "y_pred = knc_predict(n_neighbors, X_train, ys_train, X_test)\n",
    "plt_resut(X_train, ys_train, y_pred)"
   ]
  },
  {
   "cell_type": "code",
   "execution_count": 28,
   "id": "e6598b47",
   "metadata": {},
   "outputs": [
    {
     "data": {
      "image/png": "[encoded data removed]",
      "text/plain": [
       "<Figure size 432x288 with 1 Axes>"
      ]
     },
     "metadata": {
      "needs_background": "light"
     },
     "output_type": "display_data"
    }
   ],
   "source": [
    "###### K=1でも実施\n",
    "n_neighbors = 1\n",
    "\n",
    "xx0, xx1 = np.meshgrid(np.linspace(-5, 5, 100), np.linspace(-5, 5, 100))\n",
    "X_test = np.array([xx0, xx1]).reshape(2, -1).T\n",
    "\n",
    "y_pred = knc_predict(n_neighbors, X_train, ys_train, X_test)\n",
    "plt_resut(X_train, ys_train, y_pred)"
   ]
  },
  {
   "cell_type": "code",
   "execution_count": 29,
   "id": "9a7ec694",
   "metadata": {},
   "outputs": [
    {
     "data": {
      "image/png": "[encoded data removed]",
      "text/plain": [
       "<Figure size 432x288 with 1 Axes>"
      ]
     },
     "metadata": {
      "needs_background": "light"
     },
     "output_type": "display_data"
    }
   ],
   "source": [
    "###### K=10でも実施\n",
    "n_neighbors = 10\n",
    "\n",
    "xx0, xx1 = np.meshgrid(np.linspace(-5, 5, 100), np.linspace(-5, 5, 100))\n",
    "X_test = np.array([xx0, xx1]).reshape(2, -1).T\n",
    "\n",
    "y_pred = knc_predict(n_neighbors, X_train, ys_train, X_test)\n",
    "plt_resut(X_train, ys_train, y_pred)"
   ]
  },
  {
   "cell_type": "code",
   "execution_count": 25,
   "id": "5acec6a1",
   "metadata": {},
   "outputs": [
    {
     "data": {
      "image/png": "[encoded data removed]",
      "text/plain": [
       "<Figure size 432x288 with 1 Axes>"
      ]
     },
     "metadata": {
      "needs_background": "light"
     },
     "output_type": "display_data"
    }
   ],
   "source": [
    "#### numpy実装\n",
    "xx0, xx1 = np.meshgrid(np.linspace(-5, 5, 100), np.linspace(-5, 5, 100))\n",
    "xx = np.array([xx0, xx1]).reshape(2, -1).T\n",
    "from sklearn.neighbors import KNeighborsClassifier\n",
    "knc = KNeighborsClassifier(n_neighbors=n_neighbors).fit(X_train, ys_train)\n",
    "plt_resut(X_train, ys_train, knc.predict(xx))"
   ]
  },
  {
   "cell_type": "markdown",
   "id": "1e52d717",
   "metadata": {},
   "source": [
    "###  5.2 k平均クラスタリング(k-means)\n",
    "### &emsp;&emsp; 5.2.1 K平均クラスタリング(k-means) Report\n",
    "### &emsp;&emsp;&emsp; 5.2.1 平均クラスタリングとは\n",
    "#### &emsp;&emsp;&emsp; 平均クラスタリング(k-means)は教師なし学習(正解ラベルがついていない）で非階層型クラスタリングを行う手法。\n",
    "#### &emsp; 5.2.2 k-meansアルゴリズム：\n",
    "\n",
    "#####  &emsp;&emsp;&emsp;  1) 各クラスタ中心の初期値を設定する\n",
    "#####  &emsp;&emsp;&emsp;   2) 各データ点に対して、各クラスタ中心との距離を計算し、\n",
    "#####  &emsp;&emsp;&emsp;&emsp;&emsp;  最も距離が近いクラスタを割り当てる\n",
    "#####  &emsp;&emsp;&emsp;   3) 各クラスタの平均ベクトル（中心）を計算する\n",
    "#####  &emsp;&emsp;&emsp;  4) 収束するまで2, 3の処理を繰り返す\n",
    "\n",
    "#### 5.2.3 k-meansで注意すべきこと\n",
    "#####  &emsp;&emsp;&emsp; 初期値の取り方が重要。初期値が近いと収束しない場合が有る。\n",
    "#####   &emsp;&emsp;&emsp; 改善アルゴリズム　K-means ++\n",
    "#####   &emsp;&emsp;&emsp; 最初の中心点を距離が遠いほど確率的に選ばれやすくするアルゴリズム\n"
   ]
  },
  {
   "cell_type": "markdown",
   "id": "04f6f28f",
   "metadata": {},
   "source": [
    "####  5.2.2 k平均クラスタリング(k-means)ハンズオン"
   ]
  },
  {
   "cell_type": "code",
   "execution_count": 9,
   "id": "207f5bc6",
   "metadata": {},
   "outputs": [
    {
     "data": {
      "text/plain": [
       "<matplotlib.collections.PathCollection at 0x27fde11cd0>"
      ]
     },
     "execution_count": 9,
     "metadata": {},
     "output_type": "execute_result"
    },
    {
     "data": {
      "image/png": "[encoded data removed]",
      "text/plain": [
       "<Figure size 432x288 with 1 Axes>"
      ]
     },
     "metadata": {
      "needs_background": "light"
     },
     "output_type": "display_data"
    }
   ],
   "source": [
    "%matplotlib inline\n",
    "import numpy as np\n",
    "import matplotlib.pyplot as plt\n",
    "###### データ生成\n",
    "def gen_data():\n",
    "    x1 = np.random.normal(size=(100, 2)) + np.array([-5, -5])\n",
    "    x2 = np.random.normal(size=(100, 2)) + np.array([5, -5])\n",
    "    x3 = np.random.normal(size=(100, 2)) + np.array([0, 5])\n",
    "    return np.vstack((x1, x2, x3))\n",
    "#データ作成\n",
    "X_train = gen_data()\n",
    "#データ描画\n",
    "plt.scatter(X_train[:, 0], X_train[:, 1])"
   ]
  },
  {
   "cell_type": "code",
   "execution_count": 10,
   "id": "09839e63",
   "metadata": {},
   "outputs": [],
   "source": [
    "####### k-meansアルゴリズムは以下のとおりである\n",
    "\n",
    "####### 1) 各クラスタ中心の初期値を設定する\n",
    "\n",
    "####### 2) 各データ点に対して、各クラスタ中心との距離を計算し、最も距離が近いクラスタを割り当てる\n",
    "\n",
    "####### 3) 各クラスタの平均ベクトル（中心）を計算する\n",
    "\n",
    "####### 4) 収束するまで2, 3の処理を繰り返す\n"
   ]
  },
  {
   "cell_type": "code",
   "execution_count": 11,
   "id": "ba5669e7",
   "metadata": {},
   "outputs": [],
   "source": [
    "def distance(x1, x2):\n",
    "    return np.sum((x1 - x2)**2, axis=1)\n",
    "\n",
    "n_clusters = 3\n",
    "iter_max = 100\n",
    "\n",
    "# 各クラスタ中心をランダムに初期化\n",
    "centers = X_train[np.random.choice(len(X_train), n_clusters, replace=False)]\n",
    "\n",
    "for _ in range(iter_max):\n",
    "    prev_centers = np.copy(centers)\n",
    "    D = np.zeros((len(X_train), n_clusters))\n",
    "    # 各データ点に対して、各クラスタ中心との距離を計算\n",
    "    for i, x in enumerate(X_train):\n",
    "        D[i] = distance(x, centers)\n",
    "    # 各データ点に、最も距離が近いクラスタを割り当\n",
    "    cluster_index = np.argmin(D, axis=1)\n",
    "    # 各クラスタの中心を計算\n",
    "    for k in range(n_clusters):\n",
    "        index_k = cluster_index == k\n",
    "        centers[k] = np.mean(X_train[index_k], axis=0)\n",
    "    # 収束判定\n",
    "    if np.allclose(prev_centers, centers):\n",
    "        break"
   ]
  },
  {
   "cell_type": "markdown",
   "id": "f47a2e5b",
   "metadata": {},
   "source": [
    "####   クラスタリング結果"
   ]
  },
  {
   "cell_type": "code",
   "execution_count": 13,
   "id": "6d07cf08",
   "metadata": {},
   "outputs": [
    {
     "data": {
      "image/png": "[encoded data removed]",
      "text/plain": [
       "<Figure size 432x288 with 1 Axes>"
      ]
     },
     "metadata": {
      "needs_background": "light"
     },
     "output_type": "display_data"
    }
   ],
   "source": [
    "def plt_result(X_train, centers, xx):\n",
    "    #　データを可視化\n",
    "    plt.scatter(X_train[:, 0], X_train[:, 1], c=y_pred, cmap='spring')\n",
    "    # 中心を可視化\n",
    "    plt.scatter(centers[:, 0], centers[:, 1], s=200, marker='X', lw=2, c='black', edgecolor=\"white\")\n",
    "    # 領域の可視化\n",
    "    pred = np.empty(len(xx), dtype=int)\n",
    "    for i, x in enumerate(xx):\n",
    "        d = distance(x, centers)\n",
    "        pred[i] = np.argmin(d)\n",
    "    plt.contourf(xx0, xx1, pred.reshape(100, 100), alpha=0.2, cmap='spring')\n",
    "y_pred = np.empty(len(X_train), dtype=int)\n",
    "for i, x in enumerate(X_train):\n",
    "    d = distance(x, centers)\n",
    "    y_pred[i] = np.argmin(d)\n",
    "xx0, xx1 = np.meshgrid(np.linspace(-10, 10, 100), np.linspace(-10, 10, 100))\n",
    "xx = np.array([xx0, xx1]).reshape(2, -1).T\n",
    "\n",
    "plt_result(X_train, centers, xx)"
   ]
  },
  {
   "cell_type": "code",
   "execution_count": 32,
   "id": "946cb7a9",
   "metadata": {},
   "outputs": [
    {
     "data": {
      "image/png": "[encoded data removed]",
      "text/plain": [
       "<Figure size 432x288 with 1 Axes>"
      ]
     },
     "metadata": {
      "needs_background": "light"
     },
     "output_type": "display_data"
    }
   ],
   "source": [
    "### k=5でも実施してみた。\n",
    "%matplotlib inline\n",
    "import numpy as np\n",
    "import matplotlib.pyplot as plt\n",
    "###### データ生成\n",
    "def gen_data():\n",
    "    x1 = np.random.normal(size=(100, 2)) + np.array([-5, -5])\n",
    "    x2 = np.random.normal(size=(100, 2)) + np.array([5, -5])\n",
    "    x3 = np.random.normal(size=(100, 2)) + np.array([0, 5])\n",
    "    return np.vstack((x1, x2, x3))\n",
    "#データ作成\n",
    "X_train = gen_data()\n",
    "#データ描画\n",
    "plt.scatter(X_train[:, 0], X_train[:, 1])\n",
    "def distance(x1, x2):\n",
    "    return np.sum((x1 - x2)**2, axis=1)\n",
    "\n",
    "n_clusters = 5\n",
    "iter_max = 100\n",
    "\n",
    "# 各クラスタ中心をランダムに初期化\n",
    "centers = X_train[np.random.choice(len(X_train), n_clusters, replace=False)]\n",
    "\n",
    "for _ in range(iter_max):\n",
    "    prev_centers = np.copy(centers)\n",
    "    D = np.zeros((len(X_train), n_clusters))\n",
    "    # 各データ点に対して、各クラスタ中心との距離を計算\n",
    "    for i, x in enumerate(X_train):\n",
    "        D[i] = distance(x, centers)\n",
    "    # 各データ点に、最も距離が近いクラスタを割り当\n",
    "    cluster_index = np.argmin(D, axis=1)\n",
    "    # 各クラスタの中心を計算\n",
    "    for k in range(n_clusters):\n",
    "        index_k = cluster_index == k\n",
    "        centers[k] = np.mean(X_train[index_k], axis=0)\n",
    "    # 収束判定\n",
    "    if np.allclose(prev_centers, centers):\n",
    "        break\n",
    "\n",
    "def plt_result(X_train, centers, xx):\n",
    "    #　データを可視化\n",
    "    plt.scatter(X_train[:, 0], X_train[:, 1], c=y_pred, cmap='spring')\n",
    "    # 中心を可視化\n",
    "    plt.scatter(centers[:, 0], centers[:, 1], s=200, marker='X', lw=2, c='black', edgecolor=\"white\")\n",
    "    # 領域の可視化\n",
    "    pred = np.empty(len(xx), dtype=int)\n",
    "    for i, x in enumerate(xx):\n",
    "        d = distance(x, centers)\n",
    "        pred[i] = np.argmin(d)\n",
    "    plt.contourf(xx0, xx1, pred.reshape(100, 100), alpha=0.2, cmap='spring')\n",
    "y_pred = np.empty(len(X_train), dtype=int)\n",
    "for i, x in enumerate(X_train):\n",
    "    d = distance(x, centers)\n",
    "    y_pred[i] = np.argmin(d)\n",
    "xx0, xx1 = np.meshgrid(np.linspace(-10, 10, 100), np.linspace(-10, 10, 100))\n",
    "xx = np.array([xx0, xx1]).reshape(2, -1).T\n",
    "\n",
    "plt_result(X_train, centers, xx)"
   ]
  },
  {
   "cell_type": "markdown",
   "id": "6bcf1a50",
   "metadata": {},
   "source": [
    "### numpy実装"
   ]
  },
  {
   "cell_type": "code",
   "execution_count": 17,
   "id": "211d167c",
   "metadata": {},
   "outputs": [],
   "source": [
    "from sklearn.cluster import KMeans\n",
    "kmeans = KMeans(n_clusters=3, random_state=0).fit(X_train)"
   ]
  },
  {
   "cell_type": "code",
   "execution_count": 18,
   "id": "bced7c36",
   "metadata": {},
   "outputs": [
    {
     "name": "stdout",
     "output_type": "stream",
     "text": [
      "labels: [1 1 1 1 1 1 1 1 1 1 1 1 1 1 1 1 1 1 1 1 1 1 1 1 1 0 0 0 0 0 2 0 0 0 2 0 0\n",
      " 0 0 0 2 0 0 0 0 2 0 0 2 0]\n",
      "cluster_centers: [[ 2.51721443  1.63127735]\n",
      " [-2.00814554 -2.13953361]\n",
      " [ 1.16055948  3.52488509]]\n"
     ]
    },
    {
     "data": {
      "text/plain": [
       "array([[ 2.51721443,  1.63127735],\n",
       "       [-2.00814554, -2.13953361],\n",
       "       [ 1.16055948,  3.52488509]])"
      ]
     },
     "execution_count": 18,
     "metadata": {},
     "output_type": "execute_result"
    }
   ],
   "source": [
    "print(\"labels: {}\".format(kmeans.labels_))\n",
    "print(\"cluster_centers: {}\".format(kmeans.cluster_centers_))\n",
    "kmeans.cluster_centers_"
   ]
  },
  {
   "cell_type": "code",
   "execution_count": 19,
   "id": "29be1cdf",
   "metadata": {
    "scrolled": true
   },
   "outputs": [
    {
     "ename": "ValueError",
     "evalue": "'c' argument has 300 elements, which is inconsistent with 'x' and 'y' with size 50.",
     "output_type": "error",
     "traceback": [
      "\u001b[1;31m---------------------------------------------------------------------------\u001b[0m",
      "\u001b[1;31mValueError\u001b[0m                                Traceback (most recent call last)",
      "\u001b[1;32mD:\\anaconda\\lib\\site-packages\\matplotlib\\axes\\_axes.py\u001b[0m in \u001b[0;36m_parse_scatter_color_args\u001b[1;34m(c, edgecolors, kwargs, xsize, get_next_color_func)\u001b[0m\n\u001b[0;32m   4290\u001b[0m             \u001b[1;32mtry\u001b[0m\u001b[1;33m:\u001b[0m  \u001b[1;31m# Is 'c' acceptable as PathCollection facecolors?\u001b[0m\u001b[1;33m\u001b[0m\u001b[1;33m\u001b[0m\u001b[0m\n\u001b[1;32m-> 4291\u001b[1;33m                 \u001b[0mcolors\u001b[0m \u001b[1;33m=\u001b[0m \u001b[0mmcolors\u001b[0m\u001b[1;33m.\u001b[0m\u001b[0mto_rgba_array\u001b[0m\u001b[1;33m(\u001b[0m\u001b[0mc\u001b[0m\u001b[1;33m)\u001b[0m\u001b[1;33m\u001b[0m\u001b[1;33m\u001b[0m\u001b[0m\n\u001b[0m\u001b[0;32m   4292\u001b[0m             \u001b[1;32mexcept\u001b[0m \u001b[1;33m(\u001b[0m\u001b[0mTypeError\u001b[0m\u001b[1;33m,\u001b[0m \u001b[0mValueError\u001b[0m\u001b[1;33m)\u001b[0m \u001b[1;32mas\u001b[0m \u001b[0merr\u001b[0m\u001b[1;33m:\u001b[0m\u001b[1;33m\u001b[0m\u001b[1;33m\u001b[0m\u001b[0m\n",
      "\u001b[1;32mD:\\anaconda\\lib\\site-packages\\matplotlib\\colors.py\u001b[0m in \u001b[0;36mto_rgba_array\u001b[1;34m(c, alpha)\u001b[0m\n\u001b[0;32m    340\u001b[0m     \u001b[1;32melse\u001b[0m\u001b[1;33m:\u001b[0m\u001b[1;33m\u001b[0m\u001b[1;33m\u001b[0m\u001b[0m\n\u001b[1;32m--> 341\u001b[1;33m         \u001b[1;32mreturn\u001b[0m \u001b[0mnp\u001b[0m\u001b[1;33m.\u001b[0m\u001b[0marray\u001b[0m\u001b[1;33m(\u001b[0m\u001b[1;33m[\u001b[0m\u001b[0mto_rgba\u001b[0m\u001b[1;33m(\u001b[0m\u001b[0mcc\u001b[0m\u001b[1;33m,\u001b[0m \u001b[0malpha\u001b[0m\u001b[1;33m)\u001b[0m \u001b[1;32mfor\u001b[0m \u001b[0mcc\u001b[0m \u001b[1;32min\u001b[0m \u001b[0mc\u001b[0m\u001b[1;33m]\u001b[0m\u001b[1;33m)\u001b[0m\u001b[1;33m\u001b[0m\u001b[1;33m\u001b[0m\u001b[0m\n\u001b[0m\u001b[0;32m    342\u001b[0m \u001b[1;33m\u001b[0m\u001b[0m\n",
      "\u001b[1;32mD:\\anaconda\\lib\\site-packages\\matplotlib\\colors.py\u001b[0m in \u001b[0;36m<listcomp>\u001b[1;34m(.0)\u001b[0m\n\u001b[0;32m    340\u001b[0m     \u001b[1;32melse\u001b[0m\u001b[1;33m:\u001b[0m\u001b[1;33m\u001b[0m\u001b[1;33m\u001b[0m\u001b[0m\n\u001b[1;32m--> 341\u001b[1;33m         \u001b[1;32mreturn\u001b[0m \u001b[0mnp\u001b[0m\u001b[1;33m.\u001b[0m\u001b[0marray\u001b[0m\u001b[1;33m(\u001b[0m\u001b[1;33m[\u001b[0m\u001b[0mto_rgba\u001b[0m\u001b[1;33m(\u001b[0m\u001b[0mcc\u001b[0m\u001b[1;33m,\u001b[0m \u001b[0malpha\u001b[0m\u001b[1;33m)\u001b[0m \u001b[1;32mfor\u001b[0m \u001b[0mcc\u001b[0m \u001b[1;32min\u001b[0m \u001b[0mc\u001b[0m\u001b[1;33m]\u001b[0m\u001b[1;33m)\u001b[0m\u001b[1;33m\u001b[0m\u001b[1;33m\u001b[0m\u001b[0m\n\u001b[0m\u001b[0;32m    342\u001b[0m \u001b[1;33m\u001b[0m\u001b[0m\n",
      "\u001b[1;32mD:\\anaconda\\lib\\site-packages\\matplotlib\\colors.py\u001b[0m in \u001b[0;36mto_rgba\u001b[1;34m(c, alpha)\u001b[0m\n\u001b[0;32m    188\u001b[0m     \u001b[1;32mif\u001b[0m \u001b[0mrgba\u001b[0m \u001b[1;32mis\u001b[0m \u001b[1;32mNone\u001b[0m\u001b[1;33m:\u001b[0m  \u001b[1;31m# Suppress exception chaining of cache lookup failure.\u001b[0m\u001b[1;33m\u001b[0m\u001b[1;33m\u001b[0m\u001b[0m\n\u001b[1;32m--> 189\u001b[1;33m         \u001b[0mrgba\u001b[0m \u001b[1;33m=\u001b[0m \u001b[0m_to_rgba_no_colorcycle\u001b[0m\u001b[1;33m(\u001b[0m\u001b[0mc\u001b[0m\u001b[1;33m,\u001b[0m \u001b[0malpha\u001b[0m\u001b[1;33m)\u001b[0m\u001b[1;33m\u001b[0m\u001b[1;33m\u001b[0m\u001b[0m\n\u001b[0m\u001b[0;32m    190\u001b[0m         \u001b[1;32mtry\u001b[0m\u001b[1;33m:\u001b[0m\u001b[1;33m\u001b[0m\u001b[1;33m\u001b[0m\u001b[0m\n",
      "\u001b[1;32mD:\\anaconda\\lib\\site-packages\\matplotlib\\colors.py\u001b[0m in \u001b[0;36m_to_rgba_no_colorcycle\u001b[1;34m(c, alpha)\u001b[0m\n\u001b[0;32m    262\u001b[0m     \u001b[1;32mif\u001b[0m \u001b[1;32mnot\u001b[0m \u001b[0mnp\u001b[0m\u001b[1;33m.\u001b[0m\u001b[0miterable\u001b[0m\u001b[1;33m(\u001b[0m\u001b[0mc\u001b[0m\u001b[1;33m)\u001b[0m\u001b[1;33m:\u001b[0m\u001b[1;33m\u001b[0m\u001b[1;33m\u001b[0m\u001b[0m\n\u001b[1;32m--> 263\u001b[1;33m         \u001b[1;32mraise\u001b[0m \u001b[0mValueError\u001b[0m\u001b[1;33m(\u001b[0m\u001b[1;34mf\"Invalid RGBA argument: {orig_c!r}\"\u001b[0m\u001b[1;33m)\u001b[0m\u001b[1;33m\u001b[0m\u001b[1;33m\u001b[0m\u001b[0m\n\u001b[0m\u001b[0;32m    264\u001b[0m     \u001b[1;32mif\u001b[0m \u001b[0mlen\u001b[0m\u001b[1;33m(\u001b[0m\u001b[0mc\u001b[0m\u001b[1;33m)\u001b[0m \u001b[1;32mnot\u001b[0m \u001b[1;32min\u001b[0m \u001b[1;33m[\u001b[0m\u001b[1;36m3\u001b[0m\u001b[1;33m,\u001b[0m \u001b[1;36m4\u001b[0m\u001b[1;33m]\u001b[0m\u001b[1;33m:\u001b[0m\u001b[1;33m\u001b[0m\u001b[1;33m\u001b[0m\u001b[0m\n",
      "\u001b[1;31mValueError\u001b[0m: Invalid RGBA argument: 0.0",
      "\nThe above exception was the direct cause of the following exception:\n",
      "\u001b[1;31mValueError\u001b[0m                                Traceback (most recent call last)",
      "\u001b[1;32m<ipython-input-19-c79656e3e7d0>\u001b[0m in \u001b[0;36m<module>\u001b[1;34m\u001b[0m\n\u001b[1;32m----> 1\u001b[1;33m \u001b[0mplt_result\u001b[0m\u001b[1;33m(\u001b[0m\u001b[0mX_train\u001b[0m\u001b[1;33m,\u001b[0m \u001b[0mkmeans\u001b[0m\u001b[1;33m.\u001b[0m\u001b[0mcluster_centers_\u001b[0m\u001b[1;33m,\u001b[0m \u001b[0mxx\u001b[0m\u001b[1;33m)\u001b[0m\u001b[1;33m\u001b[0m\u001b[1;33m\u001b[0m\u001b[0m\n\u001b[0m",
      "\u001b[1;32m<ipython-input-13-15aafec9a77a>\u001b[0m in \u001b[0;36mplt_result\u001b[1;34m(X_train, centers, xx)\u001b[0m\n\u001b[0;32m      1\u001b[0m \u001b[1;32mdef\u001b[0m \u001b[0mplt_result\u001b[0m\u001b[1;33m(\u001b[0m\u001b[0mX_train\u001b[0m\u001b[1;33m,\u001b[0m \u001b[0mcenters\u001b[0m\u001b[1;33m,\u001b[0m \u001b[0mxx\u001b[0m\u001b[1;33m)\u001b[0m\u001b[1;33m:\u001b[0m\u001b[1;33m\u001b[0m\u001b[1;33m\u001b[0m\u001b[0m\n\u001b[0;32m      2\u001b[0m     \u001b[1;31m#　データを可視化\u001b[0m\u001b[1;33m\u001b[0m\u001b[1;33m\u001b[0m\u001b[1;33m\u001b[0m\u001b[0m\n\u001b[1;32m----> 3\u001b[1;33m     \u001b[0mplt\u001b[0m\u001b[1;33m.\u001b[0m\u001b[0mscatter\u001b[0m\u001b[1;33m(\u001b[0m\u001b[0mX_train\u001b[0m\u001b[1;33m[\u001b[0m\u001b[1;33m:\u001b[0m\u001b[1;33m,\u001b[0m \u001b[1;36m0\u001b[0m\u001b[1;33m]\u001b[0m\u001b[1;33m,\u001b[0m \u001b[0mX_train\u001b[0m\u001b[1;33m[\u001b[0m\u001b[1;33m:\u001b[0m\u001b[1;33m,\u001b[0m \u001b[1;36m1\u001b[0m\u001b[1;33m]\u001b[0m\u001b[1;33m,\u001b[0m \u001b[0mc\u001b[0m\u001b[1;33m=\u001b[0m\u001b[0my_pred\u001b[0m\u001b[1;33m,\u001b[0m \u001b[0mcmap\u001b[0m\u001b[1;33m=\u001b[0m\u001b[1;34m'spring'\u001b[0m\u001b[1;33m)\u001b[0m\u001b[1;33m\u001b[0m\u001b[1;33m\u001b[0m\u001b[0m\n\u001b[0m\u001b[0;32m      4\u001b[0m     \u001b[1;31m# 中心を可視化\u001b[0m\u001b[1;33m\u001b[0m\u001b[1;33m\u001b[0m\u001b[1;33m\u001b[0m\u001b[0m\n\u001b[0;32m      5\u001b[0m     \u001b[0mplt\u001b[0m\u001b[1;33m.\u001b[0m\u001b[0mscatter\u001b[0m\u001b[1;33m(\u001b[0m\u001b[0mcenters\u001b[0m\u001b[1;33m[\u001b[0m\u001b[1;33m:\u001b[0m\u001b[1;33m,\u001b[0m \u001b[1;36m0\u001b[0m\u001b[1;33m]\u001b[0m\u001b[1;33m,\u001b[0m \u001b[0mcenters\u001b[0m\u001b[1;33m[\u001b[0m\u001b[1;33m:\u001b[0m\u001b[1;33m,\u001b[0m \u001b[1;36m1\u001b[0m\u001b[1;33m]\u001b[0m\u001b[1;33m,\u001b[0m \u001b[0ms\u001b[0m\u001b[1;33m=\u001b[0m\u001b[1;36m200\u001b[0m\u001b[1;33m,\u001b[0m \u001b[0mmarker\u001b[0m\u001b[1;33m=\u001b[0m\u001b[1;34m'X'\u001b[0m\u001b[1;33m,\u001b[0m \u001b[0mlw\u001b[0m\u001b[1;33m=\u001b[0m\u001b[1;36m2\u001b[0m\u001b[1;33m,\u001b[0m \u001b[0mc\u001b[0m\u001b[1;33m=\u001b[0m\u001b[1;34m'black'\u001b[0m\u001b[1;33m,\u001b[0m \u001b[0medgecolor\u001b[0m\u001b[1;33m=\u001b[0m\u001b[1;34m\"white\"\u001b[0m\u001b[1;33m)\u001b[0m\u001b[1;33m\u001b[0m\u001b[1;33m\u001b[0m\u001b[0m\n",
      "\u001b[1;32mD:\\anaconda\\lib\\site-packages\\matplotlib\\pyplot.py\u001b[0m in \u001b[0;36mscatter\u001b[1;34m(x, y, s, c, marker, cmap, norm, vmin, vmax, alpha, linewidths, verts, edgecolors, plotnonfinite, data, **kwargs)\u001b[0m\n\u001b[0;32m   2888\u001b[0m         \u001b[0mverts\u001b[0m\u001b[1;33m=\u001b[0m\u001b[0mcbook\u001b[0m\u001b[1;33m.\u001b[0m\u001b[0mdeprecation\u001b[0m\u001b[1;33m.\u001b[0m\u001b[0m_deprecated_parameter\u001b[0m\u001b[1;33m,\u001b[0m\u001b[1;33m\u001b[0m\u001b[1;33m\u001b[0m\u001b[0m\n\u001b[0;32m   2889\u001b[0m         edgecolors=None, *, plotnonfinite=False, data=None, **kwargs):\n\u001b[1;32m-> 2890\u001b[1;33m     __ret = gca().scatter(\n\u001b[0m\u001b[0;32m   2891\u001b[0m         \u001b[0mx\u001b[0m\u001b[1;33m,\u001b[0m \u001b[0my\u001b[0m\u001b[1;33m,\u001b[0m \u001b[0ms\u001b[0m\u001b[1;33m=\u001b[0m\u001b[0ms\u001b[0m\u001b[1;33m,\u001b[0m \u001b[0mc\u001b[0m\u001b[1;33m=\u001b[0m\u001b[0mc\u001b[0m\u001b[1;33m,\u001b[0m \u001b[0mmarker\u001b[0m\u001b[1;33m=\u001b[0m\u001b[0mmarker\u001b[0m\u001b[1;33m,\u001b[0m \u001b[0mcmap\u001b[0m\u001b[1;33m=\u001b[0m\u001b[0mcmap\u001b[0m\u001b[1;33m,\u001b[0m \u001b[0mnorm\u001b[0m\u001b[1;33m=\u001b[0m\u001b[0mnorm\u001b[0m\u001b[1;33m,\u001b[0m\u001b[1;33m\u001b[0m\u001b[1;33m\u001b[0m\u001b[0m\n\u001b[0;32m   2892\u001b[0m         \u001b[0mvmin\u001b[0m\u001b[1;33m=\u001b[0m\u001b[0mvmin\u001b[0m\u001b[1;33m,\u001b[0m \u001b[0mvmax\u001b[0m\u001b[1;33m=\u001b[0m\u001b[0mvmax\u001b[0m\u001b[1;33m,\u001b[0m \u001b[0malpha\u001b[0m\u001b[1;33m=\u001b[0m\u001b[0malpha\u001b[0m\u001b[1;33m,\u001b[0m \u001b[0mlinewidths\u001b[0m\u001b[1;33m=\u001b[0m\u001b[0mlinewidths\u001b[0m\u001b[1;33m,\u001b[0m\u001b[1;33m\u001b[0m\u001b[1;33m\u001b[0m\u001b[0m\n",
      "\u001b[1;32mD:\\anaconda\\lib\\site-packages\\matplotlib\\__init__.py\u001b[0m in \u001b[0;36minner\u001b[1;34m(ax, data, *args, **kwargs)\u001b[0m\n\u001b[0;32m   1445\u001b[0m     \u001b[1;32mdef\u001b[0m \u001b[0minner\u001b[0m\u001b[1;33m(\u001b[0m\u001b[0max\u001b[0m\u001b[1;33m,\u001b[0m \u001b[1;33m*\u001b[0m\u001b[0margs\u001b[0m\u001b[1;33m,\u001b[0m \u001b[0mdata\u001b[0m\u001b[1;33m=\u001b[0m\u001b[1;32mNone\u001b[0m\u001b[1;33m,\u001b[0m \u001b[1;33m**\u001b[0m\u001b[0mkwargs\u001b[0m\u001b[1;33m)\u001b[0m\u001b[1;33m:\u001b[0m\u001b[1;33m\u001b[0m\u001b[1;33m\u001b[0m\u001b[0m\n\u001b[0;32m   1446\u001b[0m         \u001b[1;32mif\u001b[0m \u001b[0mdata\u001b[0m \u001b[1;32mis\u001b[0m \u001b[1;32mNone\u001b[0m\u001b[1;33m:\u001b[0m\u001b[1;33m\u001b[0m\u001b[1;33m\u001b[0m\u001b[0m\n\u001b[1;32m-> 1447\u001b[1;33m             \u001b[1;32mreturn\u001b[0m \u001b[0mfunc\u001b[0m\u001b[1;33m(\u001b[0m\u001b[0max\u001b[0m\u001b[1;33m,\u001b[0m \u001b[1;33m*\u001b[0m\u001b[0mmap\u001b[0m\u001b[1;33m(\u001b[0m\u001b[0msanitize_sequence\u001b[0m\u001b[1;33m,\u001b[0m \u001b[0margs\u001b[0m\u001b[1;33m)\u001b[0m\u001b[1;33m,\u001b[0m \u001b[1;33m**\u001b[0m\u001b[0mkwargs\u001b[0m\u001b[1;33m)\u001b[0m\u001b[1;33m\u001b[0m\u001b[1;33m\u001b[0m\u001b[0m\n\u001b[0m\u001b[0;32m   1448\u001b[0m \u001b[1;33m\u001b[0m\u001b[0m\n\u001b[0;32m   1449\u001b[0m         \u001b[0mbound\u001b[0m \u001b[1;33m=\u001b[0m \u001b[0mnew_sig\u001b[0m\u001b[1;33m.\u001b[0m\u001b[0mbind\u001b[0m\u001b[1;33m(\u001b[0m\u001b[0max\u001b[0m\u001b[1;33m,\u001b[0m \u001b[1;33m*\u001b[0m\u001b[0margs\u001b[0m\u001b[1;33m,\u001b[0m \u001b[1;33m**\u001b[0m\u001b[0mkwargs\u001b[0m\u001b[1;33m)\u001b[0m\u001b[1;33m\u001b[0m\u001b[1;33m\u001b[0m\u001b[0m\n",
      "\u001b[1;32mD:\\anaconda\\lib\\site-packages\\matplotlib\\cbook\\deprecation.py\u001b[0m in \u001b[0;36mwrapper\u001b[1;34m(*inner_args, **inner_kwargs)\u001b[0m\n\u001b[0;32m    409\u001b[0m                          \u001b[1;32melse\u001b[0m \u001b[0mdeprecation_addendum\u001b[0m\u001b[1;33m,\u001b[0m\u001b[1;33m\u001b[0m\u001b[1;33m\u001b[0m\u001b[0m\n\u001b[0;32m    410\u001b[0m                 **kwargs)\n\u001b[1;32m--> 411\u001b[1;33m         \u001b[1;32mreturn\u001b[0m \u001b[0mfunc\u001b[0m\u001b[1;33m(\u001b[0m\u001b[1;33m*\u001b[0m\u001b[0minner_args\u001b[0m\u001b[1;33m,\u001b[0m \u001b[1;33m**\u001b[0m\u001b[0minner_kwargs\u001b[0m\u001b[1;33m)\u001b[0m\u001b[1;33m\u001b[0m\u001b[1;33m\u001b[0m\u001b[0m\n\u001b[0m\u001b[0;32m    412\u001b[0m \u001b[1;33m\u001b[0m\u001b[0m\n\u001b[0;32m    413\u001b[0m     \u001b[1;32mreturn\u001b[0m \u001b[0mwrapper\u001b[0m\u001b[1;33m\u001b[0m\u001b[1;33m\u001b[0m\u001b[0m\n",
      "\u001b[1;32mD:\\anaconda\\lib\\site-packages\\matplotlib\\axes\\_axes.py\u001b[0m in \u001b[0;36mscatter\u001b[1;34m(self, x, y, s, c, marker, cmap, norm, vmin, vmax, alpha, linewidths, verts, edgecolors, plotnonfinite, **kwargs)\u001b[0m\n\u001b[0;32m   4449\u001b[0m \u001b[1;33m\u001b[0m\u001b[0m\n\u001b[0;32m   4450\u001b[0m         \u001b[0mc\u001b[0m\u001b[1;33m,\u001b[0m \u001b[0mcolors\u001b[0m\u001b[1;33m,\u001b[0m \u001b[0medgecolors\u001b[0m \u001b[1;33m=\u001b[0m\u001b[0;31m \u001b[0m\u001b[0;31m\\\u001b[0m\u001b[1;33m\u001b[0m\u001b[1;33m\u001b[0m\u001b[0m\n\u001b[1;32m-> 4451\u001b[1;33m             self._parse_scatter_color_args(\n\u001b[0m\u001b[0;32m   4452\u001b[0m                 \u001b[0mc\u001b[0m\u001b[1;33m,\u001b[0m \u001b[0medgecolors\u001b[0m\u001b[1;33m,\u001b[0m \u001b[0mkwargs\u001b[0m\u001b[1;33m,\u001b[0m \u001b[0mx\u001b[0m\u001b[1;33m.\u001b[0m\u001b[0msize\u001b[0m\u001b[1;33m,\u001b[0m\u001b[1;33m\u001b[0m\u001b[1;33m\u001b[0m\u001b[0m\n\u001b[0;32m   4453\u001b[0m                 get_next_color_func=self._get_patches_for_fill.get_next_color)\n",
      "\u001b[1;32mD:\\anaconda\\lib\\site-packages\\matplotlib\\axes\\_axes.py\u001b[0m in \u001b[0;36m_parse_scatter_color_args\u001b[1;34m(c, edgecolors, kwargs, xsize, get_next_color_func)\u001b[0m\n\u001b[0;32m   4295\u001b[0m                 \u001b[1;32melse\u001b[0m\u001b[1;33m:\u001b[0m\u001b[1;33m\u001b[0m\u001b[1;33m\u001b[0m\u001b[0m\n\u001b[0;32m   4296\u001b[0m                     \u001b[1;32mif\u001b[0m \u001b[1;32mnot\u001b[0m \u001b[0mvalid_shape\u001b[0m\u001b[1;33m:\u001b[0m\u001b[1;33m\u001b[0m\u001b[1;33m\u001b[0m\u001b[0m\n\u001b[1;32m-> 4297\u001b[1;33m                         \u001b[1;32mraise\u001b[0m \u001b[0minvalid_shape_exception\u001b[0m\u001b[1;33m(\u001b[0m\u001b[0mc\u001b[0m\u001b[1;33m.\u001b[0m\u001b[0msize\u001b[0m\u001b[1;33m,\u001b[0m \u001b[0mxsize\u001b[0m\u001b[1;33m)\u001b[0m \u001b[1;32mfrom\u001b[0m \u001b[0merr\u001b[0m\u001b[1;33m\u001b[0m\u001b[1;33m\u001b[0m\u001b[0m\n\u001b[0m\u001b[0;32m   4298\u001b[0m                     \u001b[1;31m# Both the mapping *and* the RGBA conversion failed: pretty\u001b[0m\u001b[1;33m\u001b[0m\u001b[1;33m\u001b[0m\u001b[1;33m\u001b[0m\u001b[0m\n\u001b[0;32m   4299\u001b[0m                     \u001b[1;31m# severe failure => one may appreciate a verbose feedback.\u001b[0m\u001b[1;33m\u001b[0m\u001b[1;33m\u001b[0m\u001b[1;33m\u001b[0m\u001b[0m\n",
      "\u001b[1;31mValueError\u001b[0m: 'c' argument has 300 elements, which is inconsistent with 'x' and 'y' with size 50."
     ]
    },
    {
     "data": {
      "image/png": "[encoded data removed]",
      "text/plain": [
       "<Figure size 432x288 with 1 Axes>"
      ]
     },
     "metadata": {
      "needs_background": "light"
     },
     "output_type": "display_data"
    }
   ],
   "source": [
    "##### Google colabでは、動作を確認済！！！\n",
    "\n",
    "plt_result(X_train, kmeans.cluster_centers_, xx)\n",
    "\n"
   ]
  },
  {
   "cell_type": "markdown",
   "id": "c78ffc2b",
   "metadata": {},
   "source": [
    "## 6.サポートベクターマシーン\n",
    "### 6.1 サポートベクターマシン　Report\n",
    "### 6.1.1 サポートベクターマシンとは。\n",
    "#### &emsp;&emsp;&emsp; SVMは教師あり学習の一種で分類問題を処理するための手法です。\n",
    "#### &emsp;&emsp;&emsp; 境界線に近い点をサポートベクトルと呼び、サポートベクトルを最大化するように、境界線を引くようにする。\n",
    "####  \n",
    "####  &emsp;&emsp;&emsp; 6.1.2 カーネル関数の種類\n",
    "####   &emsp;&emsp;&emsp;　線形分離出来ない場合、特徴空間上で線形分離することを考える。この場合カーネル関数（カーネルトリック）を使って対応する。\n",
    "\n",
    "##### &emsp;&emsp;&emsp; 6.1.2.1 カーネル関数の種類：\n",
    "#####  &emsp;&emsp;&emsp; カーネル関数には以下の種類が有ります。\n",
    "#####  &emsp;&emsp;&emsp; 線形カーネル\n",
    "##### &emsp;&emsp;&emsp;  多項式カーネル\n",
    "#####  &emsp;&emsp;&emsp; RBFカーネル(Radial basis function kernel)\n",
    "#####  &emsp;&emsp;&emsp; シグモイドカーネル　\n",
    "\n",
    "#### 決定境界引く際に\n",
    "#### &emsp;&emsp;&emsp; 誤判別を許容することを想定：ソフトマージン\n",
    "#### &emsp;&emsp;&emsp; はっきり分類出来る状態　　  ：ハードマージン\n",
    "#### という。\n",
    "####  ソフトマージンの決定境界の決め方\n",
    "##### 　- 境界線とデータはなるべく離れる\n",
    "##### 　- 誤判定はなるべく少なく\n",
    "##### ただし、パラメータ$C$はマージンの大きさと誤差の許容度のトレードオフを決めるパラメータである。この最適化問題をラグランジュ乗数法などを用いると、結局最大化する目的関数はハードマージンSVMと同じとなる。\n",
    "\n",
    "#### $\\tilde{L}(\\boldsymbol{a}) = \\sum_{i=1}^{n} a_{i} - \\frac{1}{2} \\sum_{i=1}^{n} \\sum_{j=1}^{n} a_{i} a_{j} t_{i} t_{j} \\phi(\\boldsymbol{x}_{i})^{\\mathrm{T}} \\phi(\\boldsymbol{x}_{j})$\n",
    "\n",
    "##### ただし、制約条件が$a_{i} \\ge 0$の代わりに$0 \\le a_{i} \\le C (i = 1, 2, ..., n)$となる。（ハードマージンSVMと同じ$\\sum_{i=1}^{n} a_{i} t_{i} = 0$も制約条件）\n"
   ]
  },
  {
   "cell_type": "markdown",
   "id": "318d13c9",
   "metadata": {},
   "source": [
    "### 6.2 サポートベクターマシーン　ハンドオフ"
   ]
  },
  {
   "cell_type": "code",
   "execution_count": 36,
   "id": "521d85c8",
   "metadata": {},
   "outputs": [],
   "source": [
    "%matplotlib inline\n",
    "import numpy as np\n",
    "import matplotlib.pyplot as plt"
   ]
  },
  {
   "cell_type": "code",
   "execution_count": 37,
   "id": "2c7e86ca",
   "metadata": {},
   "outputs": [],
   "source": [
    "### 訓練データ生成① （線形分離可能）"
   ]
  },
  {
   "cell_type": "code",
   "execution_count": 38,
   "id": "fa34d4ff",
   "metadata": {},
   "outputs": [
    {
     "data": {
      "text/plain": [
       "<matplotlib.collections.PathCollection at 0x27ff45f850>"
      ]
     },
     "execution_count": 38,
     "metadata": {},
     "output_type": "execute_result"
    },
    {
     "data": {
      "image/png": "[encoded data removed]",
      "text/plain": [
       "<Figure size 432x288 with 1 Axes>"
      ]
     },
     "metadata": {
      "needs_background": "light"
     },
     "output_type": "display_data"
    }
   ],
   "source": [
    "def gen_data():\n",
    "    x0 = np.random.normal(size=50).reshape(-1, 2) - 2.\n",
    "    x1 = np.random.normal(size=50).reshape(-1, 2) + 2.\n",
    "    X_train = np.concatenate([x0, x1])\n",
    "    ys_train = np.concatenate([np.zeros(25), np.ones(25)]).astype(np.int)\n",
    "    return X_train, ys_train\n",
    "X_train, ys_train = gen_data()\n",
    "plt.scatter(X_train[:, 0], X_train[:, 1], c=ys_train)"
   ]
  },
  {
   "cell_type": "code",
   "execution_count": 39,
   "id": "99c05559",
   "metadata": {},
   "outputs": [],
   "source": [
    "### 学習\n",
    "t = np.where(ys_train == 1.0, 1.0, -1.0)\n",
    "\n",
    "n_samples = len(X_train)\n",
    "# 線形カーネル\n",
    "K = X_train.dot(X_train.T)\n",
    "\n",
    "eta1 = 0.01\n",
    "eta2 = 0.001\n",
    "n_iter = 500\n",
    "\n",
    "H = np.outer(t, t) * K\n",
    "\n",
    "a = np.ones(n_samples)\n",
    "for _ in range(n_iter):\n",
    "    grad = 1 - H.dot(a)\n",
    "    a += eta1 * grad\n",
    "    a -= eta2 * a.dot(t) * t\n",
    "    a = np.where(a > 0, a, 0)"
   ]
  },
  {
   "cell_type": "code",
   "execution_count": 40,
   "id": "8318a749",
   "metadata": {},
   "outputs": [],
   "source": [
    "### 予測\n",
    "index = a > 1e-6\n",
    "support_vectors = X_train[index]\n",
    "support_vector_t = t[index]\n",
    "support_vector_a = a[index]\n",
    "\n",
    "term2 = K[index][:, index].dot(support_vector_a * support_vector_t)\n",
    "b = (support_vector_t - term2).mean()"
   ]
  },
  {
   "cell_type": "code",
   "execution_count": 41,
   "id": "7660b501",
   "metadata": {},
   "outputs": [],
   "source": [
    "xx0, xx1 = np.meshgrid(np.linspace(-5, 5, 100), np.linspace(-5, 5, 100))\n",
    "xx = np.array([xx0, xx1]).reshape(2, -1).T\n",
    "\n",
    "X_test = xx\n",
    "y_project = np.ones(len(X_test)) * b\n",
    "for i in range(len(X_test)):\n",
    "    for a, sv_t, sv in zip(support_vector_a, support_vector_t, support_vectors):\n",
    "        y_project[i] += a * sv_t * sv.dot(X_test[i])\n",
    "y_pred = np.sign(y_project)"
   ]
  },
  {
   "cell_type": "code",
   "execution_count": 42,
   "id": "aa861b2c",
   "metadata": {},
   "outputs": [
    {
     "data": {
      "text/plain": [
       "<matplotlib.quiver.Quiver at 0x27ff42f1c0>"
      ]
     },
     "execution_count": 42,
     "metadata": {},
     "output_type": "execute_result"
    },
    {
     "data": {
      "image/png": "[encoded data removed]",
      "text/plain": [
       "<Figure size 432x288 with 1 Axes>"
      ]
     },
     "metadata": {
      "needs_background": "light"
     },
     "output_type": "display_data"
    }
   ],
   "source": [
    "# 訓練データを可視化\n",
    "plt.scatter(X_train[:, 0], X_train[:, 1], c=ys_train)\n",
    "# サポートベクトルを可視化\n",
    "plt.scatter(support_vectors[:, 0], support_vectors[:, 1],\n",
    "                    s=100, facecolors='none', edgecolors='k')\n",
    "# 領域を可視化\n",
    "#plt.contourf(xx0, xx1, y_pred.reshape(100, 100), alpha=0.2, levels=np.linspace(0, 1, 3))\n",
    "# マージンと決定境界を可視化\n",
    "plt.contour(xx0, xx1, y_project.reshape(100, 100), colors='k',\n",
    "                     levels=[-1, 0, 1], alpha=0.5, linestyles=['--', '-', '--'])\n",
    "\n",
    "\n",
    "# マージンと決定境界を可視化\n",
    "plt.quiver(0, 0, 0.1, 0.35, width=0.01, scale=1, color='pink')"
   ]
  },
  {
   "cell_type": "code",
   "execution_count": 43,
   "id": "aa6f8f6f",
   "metadata": {},
   "outputs": [],
   "source": [
    "#### 訓練データ生成② （線形分離不可能）\n",
    "factor = .2\n",
    "n_samples = 50\n",
    "linspace = np.linspace(0, 2 * np.pi, n_samples // 2 + 1)[:-1]\n",
    "outer_circ_x = np.cos(linspace)\n",
    "outer_circ_y = np.sin(linspace)\n",
    "inner_circ_x = outer_circ_x * factor\n",
    "inner_circ_y = outer_circ_y * factor\n",
    "\n",
    "X = np.vstack((np.append(outer_circ_x, inner_circ_x),\n",
    "               np.append(outer_circ_y, inner_circ_y))).T\n",
    "y = np.hstack([np.zeros(n_samples // 2, dtype=np.intp),\n",
    "               np.ones(n_samples // 2, dtype=np.intp)])\n",
    "X += np.random.normal(scale=0.15, size=X.shape)\n",
    "x_train = X\n",
    "y_train = y\n"
   ]
  },
  {
   "cell_type": "code",
   "execution_count": 44,
   "id": "179efddf",
   "metadata": {},
   "outputs": [
    {
     "data": {
      "text/plain": [
       "<matplotlib.collections.PathCollection at 0x27ff3750d0>"
      ]
     },
     "execution_count": 44,
     "metadata": {},
     "output_type": "execute_result"
    },
    {
     "data": {
      "image/png": "[encoded data removed]",
      "text/plain": [
       "<Figure size 432x288 with 1 Axes>"
      ]
     },
     "metadata": {
      "needs_background": "light"
     },
     "output_type": "display_data"
    }
   ],
   "source": [
    "plt.scatter(x_train[:,0], x_train[:,1], c=y_train)"
   ]
  },
  {
   "cell_type": "code",
   "execution_count": 45,
   "id": "d7fcdd36",
   "metadata": {},
   "outputs": [],
   "source": [
    "#### 学習\n",
    "##### 元のデータ空間では線形分離は出来ないが、特徴空間上で線形分離することを考える。\n",
    "##### 今回はカーネルとしてRBFカーネル（ガウシアンカーネル）を利用する。\n",
    "def rbf(u, v):\n",
    "        sigma = 0.8\n",
    "        return np.exp(-0.5 * ((u - v)**2).sum() / sigma**2)\n",
    "    \n",
    "X_train = x_train\n",
    "t = np.where(y_train == 1.0, 1.0, -1.0)\n",
    "\n",
    "n_samples = len(X_train)\n",
    "# RBFカーネル\n",
    "K = np.zeros((n_samples, n_samples))\n",
    "for i in range(n_samples):\n",
    "    for j in range(n_samples):\n",
    "        K[i, j] = rbf(X_train[i], X_train[j])\n",
    "\n",
    "eta1 = 0.01\n",
    "eta2 = 0.001\n",
    "n_iter = 5000\n",
    "\n",
    "H = np.outer(t, t) * K\n",
    "\n",
    "a = np.ones(n_samples)\n",
    "for _ in range(n_iter):\n",
    "    grad = 1 - H.dot(a)\n",
    "    a += eta1 * grad\n",
    "    a -= eta2 * a.dot(t) * t\n",
    "    a = np.where(a > 0, a, 0)\n",
    "    "
   ]
  },
  {
   "cell_type": "code",
   "execution_count": 46,
   "id": "8ea0e0bc",
   "metadata": {},
   "outputs": [
    {
     "data": {
      "text/plain": [
       "<matplotlib.contour.QuadContourSet at 0x27fe2c03d0>"
      ]
     },
     "execution_count": 46,
     "metadata": {},
     "output_type": "execute_result"
    },
    {
     "data": {
      "image/png": "[encoded data removed]",
      "text/plain": [
       "<Figure size 432x288 with 1 Axes>"
      ]
     },
     "metadata": {
      "needs_background": "light"
     },
     "output_type": "display_data"
    }
   ],
   "source": [
    "#### 予測\n",
    "index = a > 1e-6\n",
    "support_vectors = X_train[index]\n",
    "support_vector_t = t[index]\n",
    "support_vector_a = a[index]\n",
    "\n",
    "term2 = K[index][:, index].dot(support_vector_a * support_vector_t)\n",
    "b = (support_vector_t - term2).mean()\n",
    "\n",
    "xx0, xx1 = np.meshgrid(np.linspace(-1.5, 1.5, 100), np.linspace(-1.5, 1.5, 100))\n",
    "xx = np.array([xx0, xx1]).reshape(2, -1).T\n",
    "\n",
    "X_test = xx\n",
    "y_project = np.ones(len(X_test)) * b\n",
    "for i in range(len(X_test)):\n",
    "    for a, sv_t, sv in zip(support_vector_a, support_vector_t, support_vectors):\n",
    "        y_project[i] += a * sv_t * rbf(X_test[i], sv)\n",
    "y_pred = np.sign(y_project)\n",
    "\n",
    "\n",
    "# 訓練データを可視化\n",
    "plt.scatter(x_train[:, 0], x_train[:, 1], c=y_train)\n",
    "# サポートベクトルを可視化\n",
    "plt.scatter(support_vectors[:, 0], support_vectors[:, 1],\n",
    "                    s=100, facecolors='none', edgecolors='k')\n",
    "# 領域を可視化\n",
    "plt.contourf(xx0, xx1, y_pred.reshape(100, 100), alpha=0.2, levels=np.linspace(0, 1, 3))\n",
    "# マージンと決定境界を可視化\n",
    "plt.contour(xx0, xx1, y_project.reshape(100, 100), colors='k',\n",
    "                     levels=[-1, 0, 1], alpha=0.5, linestyles=['--', '-', '--'])\n",
    "\n"
   ]
  },
  {
   "cell_type": "code",
   "execution_count": 47,
   "id": "c0d9818a",
   "metadata": {},
   "outputs": [
    {
     "data": {
      "text/plain": [
       "<matplotlib.collections.PathCollection at 0x27fe0c0220>"
      ]
     },
     "execution_count": 47,
     "metadata": {},
     "output_type": "execute_result"
    },
    {
     "data": {
      "image/png": "[encoded data removed]",
      "text/plain": [
       "<Figure size 432x288 with 1 Axes>"
      ]
     },
     "metadata": {
      "needs_background": "light"
     },
     "output_type": "display_data"
    }
   ],
   "source": [
    "##### ソフトマージンSVM\n",
    "##### 訓練データ生成③（重なりあり）\n",
    "x0 = np.random.normal(size=50).reshape(-1, 2) - 1.\n",
    "x1 = np.random.normal(size=50).reshape(-1, 2) + 1.\n",
    "x_train = np.concatenate([x0, x1])\n",
    "y_train = np.concatenate([np.zeros(25), np.ones(25)]).astype(np.int)\n",
    "plt.scatter(x_train[:, 0], x_train[:, 1], c=y_train)"
   ]
  },
  {
   "cell_type": "code",
   "execution_count": 48,
   "id": "2f4fbce2",
   "metadata": {},
   "outputs": [],
   "source": [
    "#### 学習\n",
    "X_train = x_train\n",
    "t = np.where(y_train == 1.0, 1.0, -1.0)\n",
    "\n",
    "n_samples = len(X_train)\n",
    "# 線形カーネル\n",
    "K = X_train.dot(X_train.T)\n",
    "\n",
    "C = 1\n",
    "eta1 = 0.01\n",
    "eta2 = 0.001\n",
    "n_iter = 1000\n",
    "\n",
    "H = np.outer(t, t) * K\n",
    "\n",
    "a = np.ones(n_samples)\n",
    "for _ in range(n_iter):\n",
    "    grad = 1 - H.dot(a)\n",
    "    a += eta1 * grad\n",
    "    a -= eta2 * a.dot(t) * t\n",
    "    a = np.clip(a, 0, C)\n",
    "    "
   ]
  },
  {
   "cell_type": "code",
   "execution_count": 49,
   "id": "d9db4f15",
   "metadata": {},
   "outputs": [
    {
     "data": {
      "text/plain": [
       "<matplotlib.contour.QuadContourSet at 0x27ff3842e0>"
      ]
     },
     "execution_count": 49,
     "metadata": {},
     "output_type": "execute_result"
    },
    {
     "data": {
      "image/png": "[encoded data removed]",
      "text/plain": [
       "<Figure size 432x288 with 1 Axes>"
      ]
     },
     "metadata": {
      "needs_background": "light"
     },
     "output_type": "display_data"
    }
   ],
   "source": [
    "#### 予測\n",
    "index = a > 1e-8\n",
    "support_vectors = X_train[index]\n",
    "support_vector_t = t[index]\n",
    "support_vector_a = a[index]\n",
    "\n",
    "term2 = K[index][:, index].dot(support_vector_a * support_vector_t)\n",
    "b = (support_vector_t - term2).mean()\n",
    "\n",
    "\n",
    "xx0, xx1 = np.meshgrid(np.linspace(-4, 4, 100), np.linspace(-4, 4, 100))\n",
    "xx = np.array([xx0, xx1]).reshape(2, -1).T\n",
    "\n",
    "X_test = xx\n",
    "y_project = np.ones(len(X_test)) * b\n",
    "for i in range(len(X_test)):\n",
    "    for a, sv_t, sv in zip(support_vector_a, support_vector_t, support_vectors):\n",
    "        y_project[i] += a * sv_t * sv.dot(X_test[i])\n",
    "y_pred = np.sign(y_project)\n",
    "\n",
    "# 訓練データを可視化\n",
    "plt.scatter(x_train[:, 0], x_train[:, 1], c=y_train)\n",
    "# サポートベクトルを可視化\n",
    "plt.scatter(support_vectors[:, 0], support_vectors[:, 1],\n",
    "                    s=100, facecolors='none', edgecolors='k')\n",
    "# 領域を可視化\n",
    "plt.contourf(xx0, xx1, y_pred.reshape(100, 100), alpha=0.2, levels=np.linspace(0, 1, 3))\n",
    "# マージンと決定境界を可視化\n",
    "plt.contour(xx0, xx1, y_project.reshape(100, 100), colors='k',\n",
    "                     levels=[-1, 0, 1], alpha=0.5, linestyles=['--', '-', '--'])\n",
    "\n"
   ]
  }
 ],
 "metadata": {
  "kernelspec": {
   "display_name": "Python 3",
   "language": "python",
   "name": "python3"
  },
  "language_info": {
   "codemirror_mode": {
    "name": "ipython",
    "version": 3
   },
   "file_extension": ".py",
   "mimetype": "text/x-python",
   "name": "python",
   "nbconvert_exporter": "python",
   "pygments_lexer": "ipython3",
   "version": "3.8.8"
  }
 },
 "nbformat": 4,
 "nbformat_minor": 5
}
