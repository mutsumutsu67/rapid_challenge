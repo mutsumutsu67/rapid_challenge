{
 "cells": [
  {
   "cell_type": "markdown",
   "id": "1bb5069b",
   "metadata": {},
   "source": [
    "# Stage4 深層学習day4\n",
    "\n",
    "## 深層学習day4"
   ]
  },
  {
   "cell_type": "markdown",
   "id": "2d47b695",
   "metadata": {},
   "source": [
    "##  １、Section１：強化学習\n",
    "###  &emsp;&emsp; 1.1　要点まとめ"
   ]
  },
  {
   "cell_type": "code",
   "execution_count": 4,
   "id": "76d2aebf",
   "metadata": {},
   "outputs": [
    {
     "data": {
      "text/html": [
       "<img src=\"https://raw.githubusercontent.com/mutsumutsu67/rapid_challenge/main/stage4_day4_sec1_1.jpg\"/>"
      ],
      "text/plain": [
       "<IPython.core.display.Image object>"
      ]
     },
     "execution_count": 4,
     "metadata": {},
     "output_type": "execute_result"
    }
   ],
   "source": [
    "from IPython.display import Image\n",
    "Image(url= 'https://raw.githubusercontent.com/mutsumutsu67/rapid_challenge/main/stage4_day4_sec1_1.jpg')"
   ]
  },
  {
   "cell_type": "code",
   "execution_count": 3,
   "id": "9843a66c",
   "metadata": {},
   "outputs": [
    {
     "data": {
      "text/html": [
       "<img src=\"https://raw.githubusercontent.com/mutsumutsu67/rapid_challenge/main/stage4_day4_sec1_2.jpg\"/>"
      ],
      "text/plain": [
       "<IPython.core.display.Image object>"
      ]
     },
     "execution_count": 3,
     "metadata": {},
     "output_type": "execute_result"
    }
   ],
   "source": [
    "from IPython.display import Image\n",
    "Image(url= 'https://raw.githubusercontent.com/mutsumutsu67/rapid_challenge/main/stage4_day4_sec1_2.jpg')"
   ]
  },
  {
   "cell_type": "markdown",
   "id": "d071b30b",
   "metadata": {},
   "source": [
    "### ２、Section２：AlphaGo\n",
    "####  &emsp;&emsp; 2.1　要点まとめ\n"
   ]
  },
  {
   "cell_type": "code",
   "execution_count": 5,
   "id": "f0eea02a",
   "metadata": {},
   "outputs": [
    {
     "data": {
      "text/html": [
       "<img src=\"https://raw.githubusercontent.com/mutsumutsu67/rapid_challenge/main/stage4_day4_sec2_1.jpg\"/>"
      ],
      "text/plain": [
       "<IPython.core.display.Image object>"
      ]
     },
     "execution_count": 5,
     "metadata": {},
     "output_type": "execute_result"
    }
   ],
   "source": [
    "from IPython.display import Image\n",
    "Image(url= 'https://raw.githubusercontent.com/mutsumutsu67/rapid_challenge/main/stage4_day4_sec2_1.jpg')"
   ]
  },
  {
   "cell_type": "code",
   "execution_count": 6,
   "id": "7896f389",
   "metadata": {},
   "outputs": [
    {
     "data": {
      "text/html": [
       "<img src=\"https://raw.githubusercontent.com/mutsumutsu67/rapid_challenge/main/stage4_day4_sec2_2.jpg\"/>"
      ],
      "text/plain": [
       "<IPython.core.display.Image object>"
      ]
     },
     "execution_count": 6,
     "metadata": {},
     "output_type": "execute_result"
    }
   ],
   "source": [
    "from IPython.display import Image\n",
    "Image(url= 'https://raw.githubusercontent.com/mutsumutsu67/rapid_challenge/main/stage4_day4_sec2_2.jpg')"
   ]
  },
  {
   "cell_type": "code",
   "execution_count": 10,
   "id": "a47eddc0",
   "metadata": {},
   "outputs": [
    {
     "data": {
      "text/html": [
       "<img src=\"https://raw.githubusercontent.com/mutsumutsu67/rapid_challenge/main/stage4_day4_sec2_3.jpg\"/>"
      ],
      "text/plain": [
       "<IPython.core.display.Image object>"
      ]
     },
     "execution_count": 10,
     "metadata": {},
     "output_type": "execute_result"
    }
   ],
   "source": [
    "from IPython.display import Image\n",
    "Image(url= 'https://raw.githubusercontent.com/mutsumutsu67/rapid_challenge/main/stage4_day4_sec2_3.jpg')"
   ]
  },
  {
   "cell_type": "code",
   "execution_count": 11,
   "id": "fc4f91c3",
   "metadata": {},
   "outputs": [
    {
     "data": {
      "text/html": [
       "<img src=\"https://raw.githubusercontent.com/mutsumutsu67/rapid_challenge/main/stage4_day4_sec2_4.jpg\"/>"
      ],
      "text/plain": [
       "<IPython.core.display.Image object>"
      ]
     },
     "execution_count": 11,
     "metadata": {},
     "output_type": "execute_result"
    }
   ],
   "source": [
    "from IPython.display import Image\n",
    "Image(url= 'https://raw.githubusercontent.com/mutsumutsu67/rapid_challenge/main/stage4_day4_sec2_4.jpg')"
   ]
  },
  {
   "cell_type": "code",
   "execution_count": 12,
   "id": "52dad51b",
   "metadata": {},
   "outputs": [
    {
     "data": {
      "text/html": [
       "<img src=\"https://raw.githubusercontent.com/mutsumutsu67/rapid_challenge/main/stage4_day4_sec2_5.jpg\"/>"
      ],
      "text/plain": [
       "<IPython.core.display.Image object>"
      ]
     },
     "execution_count": 12,
     "metadata": {},
     "output_type": "execute_result"
    }
   ],
   "source": [
    "from IPython.display import Image\n",
    "Image(url= 'https://raw.githubusercontent.com/mutsumutsu67/rapid_challenge/main/stage4_day4_sec2_5.jpg')"
   ]
  },
  {
   "cell_type": "code",
   "execution_count": 8,
   "id": "d22c07ac",
   "metadata": {},
   "outputs": [
    {
     "data": {
      "text/html": [
       "<img src=\"https://raw.githubusercontent.com/mutsumutsu67/rapid_challenge/main/stage4_day4_sec2_6.jpg\"/>"
      ],
      "text/plain": [
       "<IPython.core.display.Image object>"
      ]
     },
     "execution_count": 8,
     "metadata": {},
     "output_type": "execute_result"
    }
   ],
   "source": [
    "from IPython.display import Image\n",
    "Image(url= 'https://raw.githubusercontent.com/mutsumutsu67/rapid_challenge/main/stage4_day4_sec2_6.jpg')"
   ]
  },
  {
   "cell_type": "markdown",
   "id": "2dde5517",
   "metadata": {},
   "source": [
    "###  Section３：軽量化・高速化技術\n",
    "####  &emsp;&emsp; 3.1　高速化技術"
   ]
  },
  {
   "cell_type": "code",
   "execution_count": 10,
   "id": "1459a1b1",
   "metadata": {},
   "outputs": [
    {
     "data": {
      "text/html": [
       "<img src=\"https://raw.githubusercontent.com/mutsumutsu67/rapid_challenge/main/Stage4_day4_sec3_1.jpg\"/>"
      ],
      "text/plain": [
       "<IPython.core.display.Image object>"
      ]
     },
     "execution_count": 10,
     "metadata": {},
     "output_type": "execute_result"
    }
   ],
   "source": [
    "from IPython.display import Image\n",
    "Image(url= 'https://raw.githubusercontent.com/mutsumutsu67/rapid_challenge/main/Stage4_day4_sec3_1.jpg')"
   ]
  },
  {
   "cell_type": "code",
   "execution_count": 11,
   "id": "2d63d5c9",
   "metadata": {},
   "outputs": [
    {
     "data": {
      "text/html": [
       "<img src=\"https://raw.githubusercontent.com/mutsumutsu67/rapid_challenge/main/Stage4_day4_sec3_2.jpg\"/>"
      ],
      "text/plain": [
       "<IPython.core.display.Image object>"
      ]
     },
     "execution_count": 11,
     "metadata": {},
     "output_type": "execute_result"
    }
   ],
   "source": [
    "from IPython.display import Image\n",
    "Image(url= 'https://raw.githubusercontent.com/mutsumutsu67/rapid_challenge/main/Stage4_day4_sec3_2.jpg')"
   ]
  },
  {
   "cell_type": "code",
   "execution_count": 12,
   "id": "1b5f94ae",
   "metadata": {},
   "outputs": [
    {
     "data": {
      "text/html": [
       "<img src=\"https://raw.githubusercontent.com/mutsumutsu67/rapid_challenge/main/Stage4_day4_sec3_4.jpg\"/>"
      ],
      "text/plain": [
       "<IPython.core.display.Image object>"
      ]
     },
     "execution_count": 12,
     "metadata": {},
     "output_type": "execute_result"
    }
   ],
   "source": [
    "from IPython.display import Image\n",
    "Image(url= 'https://raw.githubusercontent.com/mutsumutsu67/rapid_challenge/main/Stage4_day4_sec3_4.jpg')"
   ]
  },
  {
   "cell_type": "code",
   "execution_count": 13,
   "id": "3808b49c",
   "metadata": {
    "scrolled": true
   },
   "outputs": [
    {
     "data": {
      "text/html": [
       "<img src=\"https://raw.githubusercontent.com/mutsumutsu67/rapid_challenge/main/Stage4_day4_sec3_5.jpg\"/>"
      ],
      "text/plain": [
       "<IPython.core.display.Image object>"
      ]
     },
     "execution_count": 13,
     "metadata": {},
     "output_type": "execute_result"
    }
   ],
   "source": [
    "from IPython.display import Image\n",
    "Image(url= 'https://raw.githubusercontent.com/mutsumutsu67/rapid_challenge/main/Stage4_day4_sec3_5.jpg')"
   ]
  },
  {
   "cell_type": "markdown",
   "id": "5f3e036a",
   "metadata": {},
   "source": [
    "####  &emsp;&emsp; 3.2　軽量化の手法"
   ]
  },
  {
   "cell_type": "code",
   "execution_count": 14,
   "id": "bb7bd5be",
   "metadata": {},
   "outputs": [
    {
     "data": {
      "text/html": [
       "<img src=\"https://raw.githubusercontent.com/mutsumutsu67/rapid_challenge/main/Stage4_day4_sec3_6.jpg\"/>"
      ],
      "text/plain": [
       "<IPython.core.display.Image object>"
      ]
     },
     "execution_count": 14,
     "metadata": {},
     "output_type": "execute_result"
    }
   ],
   "source": [
    "from IPython.display import Image\n",
    "Image(url= 'https://raw.githubusercontent.com/mutsumutsu67/rapid_challenge/main/Stage4_day4_sec3_6.jpg')"
   ]
  },
  {
   "cell_type": "code",
   "execution_count": 15,
   "id": "b9bef6b6",
   "metadata": {
    "scrolled": true
   },
   "outputs": [
    {
     "data": {
      "text/html": [
       "<img src=\"https://raw.githubusercontent.com/mutsumutsu67/rapid_challenge/main/Stage4_day4_sec3_7.jpg\"/>"
      ],
      "text/plain": [
       "<IPython.core.display.Image object>"
      ]
     },
     "execution_count": 15,
     "metadata": {},
     "output_type": "execute_result"
    }
   ],
   "source": [
    "from IPython.display import Image\n",
    "Image(url= 'https://raw.githubusercontent.com/mutsumutsu67/rapid_challenge/main/Stage4_day4_sec3_7.jpg')"
   ]
  },
  {
   "cell_type": "code",
   "execution_count": 16,
   "id": "b35f7e72",
   "metadata": {},
   "outputs": [
    {
     "data": {
      "text/html": [
       "<img src=\"https://raw.githubusercontent.com/mutsumutsu67/rapid_challenge/main/Stage4_day4_sec3_8.jpg\"/>"
      ],
      "text/plain": [
       "<IPython.core.display.Image object>"
      ]
     },
     "execution_count": 16,
     "metadata": {},
     "output_type": "execute_result"
    }
   ],
   "source": [
    "from IPython.display import Image\n",
    "Image(url= 'https://raw.githubusercontent.com/mutsumutsu67/rapid_challenge/main/Stage4_day4_sec3_8.jpg')"
   ]
  },
  {
   "cell_type": "markdown",
   "id": "ba5c40ea",
   "metadata": {},
   "source": [
    "###  ４、Section４：応用モデル\n",
    "####  &emsp;&emsp; 4.1　Mobile Net"
   ]
  },
  {
   "cell_type": "code",
   "execution_count": 1,
   "id": "ea17427d",
   "metadata": {},
   "outputs": [
    {
     "data": {
      "text/html": [
       "<img src=\"https://raw.githubusercontent.com/mutsumutsu67/rapid_challenge/main/Stage4_day4_sec4_1.jpg\"/>"
      ],
      "text/plain": [
       "<IPython.core.display.Image object>"
      ]
     },
     "execution_count": 1,
     "metadata": {},
     "output_type": "execute_result"
    }
   ],
   "source": [
    "from IPython.display import Image\n",
    "Image(url= 'https://raw.githubusercontent.com/mutsumutsu67/rapid_challenge/main/Stage4_day4_sec4_1.jpg')"
   ]
  },
  {
   "cell_type": "code",
   "execution_count": 2,
   "id": "345fcdf2",
   "metadata": {},
   "outputs": [
    {
     "data": {
      "text/html": [
       "<img src=\"https://raw.githubusercontent.com/mutsumutsu67/rapid_challenge/main/Stage4_day4_sec4_2.jpg\"/>"
      ],
      "text/plain": [
       "<IPython.core.display.Image object>"
      ]
     },
     "execution_count": 2,
     "metadata": {},
     "output_type": "execute_result"
    }
   ],
   "source": [
    "from IPython.display import Image\n",
    "Image(url= 'https://raw.githubusercontent.com/mutsumutsu67/rapid_challenge/main/Stage4_day4_sec4_2.jpg')"
   ]
  },
  {
   "cell_type": "markdown",
   "id": "ec58de93",
   "metadata": {},
   "source": [
    "####  &emsp;&emsp; 4.2　DenseNet"
   ]
  },
  {
   "cell_type": "code",
   "execution_count": 3,
   "id": "16ab82f2",
   "metadata": {},
   "outputs": [
    {
     "data": {
      "text/html": [
       "<img src=\"https://raw.githubusercontent.com/mutsumutsu67/rapid_challenge/main/Stage4_day4_sec4_3.jpg\"/>"
      ],
      "text/plain": [
       "<IPython.core.display.Image object>"
      ]
     },
     "execution_count": 3,
     "metadata": {},
     "output_type": "execute_result"
    }
   ],
   "source": [
    "from IPython.display import Image\n",
    "Image(url= 'https://raw.githubusercontent.com/mutsumutsu67/rapid_challenge/main/Stage4_day4_sec4_3.jpg')"
   ]
  },
  {
   "cell_type": "code",
   "execution_count": 4,
   "id": "5b986d58",
   "metadata": {},
   "outputs": [
    {
     "data": {
      "text/html": [
       "<img src=\"https://raw.githubusercontent.com/mutsumutsu67/rapid_challenge/main/Stage4_day4_sec4_4.jpg\"/>"
      ],
      "text/plain": [
       "<IPython.core.display.Image object>"
      ]
     },
     "execution_count": 4,
     "metadata": {},
     "output_type": "execute_result"
    }
   ],
   "source": [
    "from IPython.display import Image\n",
    "Image(url= 'https://raw.githubusercontent.com/mutsumutsu67/rapid_challenge/main/Stage4_day4_sec4_4.jpg')"
   ]
  },
  {
   "cell_type": "code",
   "execution_count": 10,
   "id": "0e18fa02",
   "metadata": {},
   "outputs": [
    {
     "data": {
      "text/html": [
       "<img src=\"https://raw.githubusercontent.com/mutsumutsu67/rapid_challenge/main/Stage4_day4_sec4_5.jpg\"/>"
      ],
      "text/plain": [
       "<IPython.core.display.Image object>"
      ]
     },
     "execution_count": 10,
     "metadata": {},
     "output_type": "execute_result"
    }
   ],
   "source": [
    "Image(url= 'https://raw.githubusercontent.com/mutsumutsu67/rapid_challenge/main/Stage4_day4_sec4_5.jpg')"
   ]
  },
  {
   "cell_type": "code",
   "execution_count": 9,
   "id": "49f5b9da",
   "metadata": {},
   "outputs": [
    {
     "data": {
      "text/html": [
       "<img src=\"https://raw.githubusercontent.com/mutsumutsu67/rapid_challenge/main/Stage4_day4_sec4_6.jpg\"/>"
      ],
      "text/plain": [
       "<IPython.core.display.Image object>"
      ]
     },
     "execution_count": 9,
     "metadata": {},
     "output_type": "execute_result"
    }
   ],
   "source": [
    "Image(url= 'https://raw.githubusercontent.com/mutsumutsu67/rapid_challenge/main/Stage4_day4_sec4_6.jpg')"
   ]
  },
  {
   "cell_type": "markdown",
   "id": "7536b33a",
   "metadata": {},
   "source": [
    "###  ５、Section5：Section５：Traformer\n",
    "####  &emsp;&emsp; 5.1　要点まとめ\n",
    "####  &emsp;&emsp; 5.1.1　seq2seq"
   ]
  },
  {
   "cell_type": "code",
   "execution_count": 11,
   "id": "070f822d",
   "metadata": {},
   "outputs": [
    {
     "data": {
      "text/html": [
       "<img src=\"https://raw.githubusercontent.com/mutsumutsu67/rapid_challenge/main/Stage4_day4_sec5_1.jpg\"/>"
      ],
      "text/plain": [
       "<IPython.core.display.Image object>"
      ]
     },
     "execution_count": 11,
     "metadata": {},
     "output_type": "execute_result"
    }
   ],
   "source": [
    "Image(url= 'https://raw.githubusercontent.com/mutsumutsu67/rapid_challenge/main/Stage4_day4_sec5_1.jpg')"
   ]
  },
  {
   "cell_type": "code",
   "execution_count": 12,
   "id": "3b5ab3de",
   "metadata": {},
   "outputs": [
    {
     "data": {
      "text/html": [
       "<img src=\"https://raw.githubusercontent.com/mutsumutsu67/rapid_challenge/main/Stage4_day4_sec5_2.jpg\"/>"
      ],
      "text/plain": [
       "<IPython.core.display.Image object>"
      ]
     },
     "execution_count": 12,
     "metadata": {},
     "output_type": "execute_result"
    }
   ],
   "source": [
    "Image(url= 'https://raw.githubusercontent.com/mutsumutsu67/rapid_challenge/main/Stage4_day4_sec5_2.jpg')"
   ]
  },
  {
   "cell_type": "markdown",
   "id": "eb0ed398",
   "metadata": {},
   "source": [
    "####  &emsp;&emsp; 5.1.2 Transfomer"
   ]
  },
  {
   "cell_type": "code",
   "execution_count": 29,
   "id": "6aa54219",
   "metadata": {},
   "outputs": [
    {
     "data": {
      "text/html": [
       "<img src=\"https://raw.githubusercontent.com/mutsumutsu67/rapid_challenge/main/Stage4_day4_sec5_3.jpg\"/>"
      ],
      "text/plain": [
       "<IPython.core.display.Image object>"
      ]
     },
     "execution_count": 29,
     "metadata": {},
     "output_type": "execute_result"
    }
   ],
   "source": [
    "Image(url= 'https://raw.githubusercontent.com/mutsumutsu67/rapid_challenge/main/Stage4_day4_sec5_3.jpg')"
   ]
  },
  {
   "cell_type": "code",
   "execution_count": 30,
   "id": "7e71e13f",
   "metadata": {},
   "outputs": [
    {
     "data": {
      "text/html": [
       "<img src=\"https://raw.githubusercontent.com/mutsumutsu67/rapid_challenge/main/Stage4_day4_sec5_4.jpg\"/>"
      ],
      "text/plain": [
       "<IPython.core.display.Image object>"
      ]
     },
     "execution_count": 30,
     "metadata": {},
     "output_type": "execute_result"
    }
   ],
   "source": [
    "Image(url= 'https://raw.githubusercontent.com/mutsumutsu67/rapid_challenge/main/Stage4_day4_sec5_4.jpg')"
   ]
  },
  {
   "cell_type": "code",
   "execution_count": 31,
   "id": "485b7b65",
   "metadata": {},
   "outputs": [
    {
     "data": {
      "text/html": [
       "<img src=\"https://raw.githubusercontent.com/mutsumutsu67/rapid_challenge/main/Stage4_day4_sec5_5.jpg\"/>"
      ],
      "text/plain": [
       "<IPython.core.display.Image object>"
      ]
     },
     "execution_count": 31,
     "metadata": {},
     "output_type": "execute_result"
    }
   ],
   "source": [
    "Image(url= 'https://raw.githubusercontent.com/mutsumutsu67/rapid_challenge/main/Stage4_day4_sec5_5.jpg')"
   ]
  },
  {
   "cell_type": "code",
   "execution_count": 32,
   "id": "5967f97b",
   "metadata": {},
   "outputs": [
    {
     "data": {
      "text/html": [
       "<img src=\"https://raw.githubusercontent.com/mutsumutsu67/rapid_challenge/main/Stage4_day4_sec5_6.jpg\"/>"
      ],
      "text/plain": [
       "<IPython.core.display.Image object>"
      ]
     },
     "execution_count": 32,
     "metadata": {},
     "output_type": "execute_result"
    }
   ],
   "source": [
    "Image(url= 'https://raw.githubusercontent.com/mutsumutsu67/rapid_challenge/main/Stage4_day4_sec5_6.jpg')"
   ]
  },
  {
   "cell_type": "code",
   "execution_count": 33,
   "id": "6eef0217",
   "metadata": {},
   "outputs": [
    {
     "data": {
      "text/html": [
       "<img src=\"https://raw.githubusercontent.com/mutsumutsu67/rapid_challenge/main/Stage4_day4_sec5_7.jpg\"/>"
      ],
      "text/plain": [
       "<IPython.core.display.Image object>"
      ]
     },
     "execution_count": 33,
     "metadata": {},
     "output_type": "execute_result"
    }
   ],
   "source": [
    "Image(url= 'https://raw.githubusercontent.com/mutsumutsu67/rapid_challenge/main/Stage4_day4_sec5_7.jpg')"
   ]
  },
  {
   "cell_type": "code",
   "execution_count": 34,
   "id": "3a1c9b95",
   "metadata": {},
   "outputs": [
    {
     "data": {
      "text/html": [
       "<img src=\"https://raw.githubusercontent.com/mutsumutsu67/rapid_challenge/main/Stage4_day4_sec5_8.jpg\"/>"
      ],
      "text/plain": [
       "<IPython.core.display.Image object>"
      ]
     },
     "execution_count": 34,
     "metadata": {},
     "output_type": "execute_result"
    }
   ],
   "source": [
    "Image(url= 'https://raw.githubusercontent.com/mutsumutsu67/rapid_challenge/main/Stage4_day4_sec5_8.jpg')"
   ]
  },
  {
   "cell_type": "markdown",
   "id": "b5d9ce16",
   "metadata": {},
   "source": [
    "####  &emsp;&emsp; 5.2　実装演習"
   ]
  },
  {
   "cell_type": "code",
   "execution_count": 7,
   "id": "f6c40d8c",
   "metadata": {},
   "outputs": [],
   "source": [
    "### lecture_chap1_exercise_public.ipynb\n",
    "\n",
    "#### インストールがうまくいかなくて、以下のように修正して実行\n",
    "#### !pip3 install torch==1.8.0+cpu torchvision==0.9.0+cpu torchaudio==0.8.0 -f https://download.pytorch.org/whl/torch_stable.html"
   ]
  },
  {
   "cell_type": "markdown",
   "id": "e42c1ebe",
   "metadata": {},
   "source": [
    "### 演習結果を抜粋して貼り付けします。"
   ]
  },
  {
   "cell_type": "code",
   "execution_count": null,
   "id": "95001f4b",
   "metadata": {},
   "outputs": [],
   "source": [
    "''''''\n",
    "! ls data\n",
    "dev.en\t  dev.ja    test.en    test.ja\t  train.en    train.ja\n",
    "dev.en.1  dev.ja.1  test.en.1  test.ja.1  train.en.1  train.ja.1\n",
    "dev.en.2  dev.ja.2  test.en.2  test.ja.2  train.en.2  train.ja.2\n",
    "''''''"
   ]
  },
  {
   "cell_type": "code",
   "execution_count": null,
   "id": "284f7aa4",
   "metadata": {},
   "outputs": [],
   "source": [
    "''''''\n",
    "! head -10 data/train.en\n",
    "\n",
    "i can 't tell who will arrive first .\n",
    "many animals have been destroyed by men .\n",
    "i 'm in the tennis club .\n",
    "emi looks happy .\n",
    "please bear this fact in mind .\n",
    "she takes care of my children .\n",
    "we want to be international .\n",
    "you ought not to break your promise .\n",
    "when you cross the street , watch out for cars .\n",
    "i have nothing to live for .\n",
    "\n",
    "! head -10 ./data/train.ja\n",
    "誰 が 一番 に 着 く か 私 に は 分か り ま せ ん 。\n",
    "多く の 動物 が 人間 に よ っ て 滅ぼ さ れ た 。\n",
    "私 は テニス 部員 で す 。\n",
    "エミ は 幸せ そう に 見え ま す 。\n",
    "この 事実 を 心 に 留め て お い て 下さ い 。\n",
    "彼女 は 私 たち の 世話 を し て くれ る 。\n",
    "私 達 は 国際 人 に な り た い と 思 い ま す 。\n",
    "約束 を 破 る べ き で は あ り ま せ ん 。\n",
    "道路 を 横切 る とき は 車 に 注意 し なさ い 。\n",
    "私 に は 生き 甲斐 が な い 。\n",
    "\n",
    "\n",
    "''''''"
   ]
  },
  {
   "cell_type": "code",
   "execution_count": null,
   "id": "314e47a2",
   "metadata": {},
   "outputs": [],
   "source": [
    "''''''\n",
    "vocab_size_X = len(vocab_X.id2word)\n",
    "vocab_size_Y = len(vocab_Y.id2word)\n",
    "print('入力言語の語彙数：', vocab_size_X)\n",
    "print('出力言語の語彙数：', vocab_size_Y)\n",
    "\n",
    "\n",
    "入力言語の語彙数： 3725\n",
    "出力言語の語彙数： 4405\n",
    "\n",
    "''''''"
   ]
  },
  {
   "cell_type": "code",
   "execution_count": null,
   "id": "f840bab8",
   "metadata": {},
   "outputs": [],
   "source": [
    "''''''\n",
    "# 系列長がそれぞれ4,3,2の3つのサンプルからなるバッチを作成\n",
    "batch = [[1,2,3,4], [5,6,7], [8,9]]\n",
    "lengths = [len(sample) for sample in batch]\n",
    "print('各サンプルの系列長:', lengths)\n",
    "print()\n",
    "\n",
    "# 最大系列長に合うように各サンプルをpadding\n",
    "_max_length = max(lengths)\n",
    "padded = torch.tensor([pad_seq(sample, _max_length) for sample in batch])\n",
    "print('paddingされたテンソル:\\n', padded)\n",
    "padded = padded.transpose(0,1) # (max_length, batch_size)に転置\n",
    "print('padding & 転置されたテンソル:\\n', padded)\n",
    "print('padding & 転置されたテンソルのサイズ:\\n', padded.size())\n",
    "print()\n",
    "\n",
    "各サンプルの系列長: [4, 3, 2]\n",
    "\n",
    "paddingされたテンソル:\n",
    " tensor([[1, 2, 3, 4],\n",
    "        [5, 6, 7, 0],\n",
    "        [8, 9, 0, 0]])\n",
    "padding & 転置されたテンソル:\n",
    " tensor([[1, 5, 8],\n",
    "        [2, 6, 9],\n",
    "        [3, 7, 0],\n",
    "        [4, 0, 0]])\n",
    "padding & 転置されたテンソルのサイズ:\n",
    " torch.Size([4, 3])\n",
    "\n",
    "\n",
    "''''''"
   ]
  },
  {
   "cell_type": "code",
   "execution_count": null,
   "id": "23762c28",
   "metadata": {},
   "outputs": [],
   "source": [
    "''''''\n",
    "# 訓練\n",
    "best_valid_bleu = 0.\n",
    "\n",
    "for epoch in range(1, num_epochs+1):\n",
    "    train_loss = 0.\n",
    "    train_refs = []\n",
    "    train_hyps = []\n",
    "    valid_loss = 0.\n",
    "    valid_refs = []\n",
    "    valid_hyps = []\n",
    "    # train\n",
    "    for batch in train_dataloader:\n",
    "        batch_X, batch_Y, lengths_X = batch\n",
    "        loss, gold, pred = compute_loss(\n",
    "            batch_X, batch_Y, lengths_X, model, optimizer, \n",
    "            is_train=True\n",
    "            )\n",
    "        train_loss += loss\n",
    "        train_refs += gold\n",
    "        train_hyps += pred\n",
    "    # valid\n",
    "    for batch in valid_dataloader:\n",
    "        batch_X, batch_Y, lengths_X = batch\n",
    "        loss, gold, pred = compute_loss(\n",
    "            batch_X, batch_Y, lengths_X, model, \n",
    "            is_train=False\n",
    "            )\n",
    "        valid_loss += loss\n",
    "        valid_refs += gold\n",
    "        valid_hyps += pred\n",
    "    # 損失をサンプル数で割って正規化\n",
    "    train_loss = np.sum(train_loss) / len(train_dataloader.data)\n",
    "    valid_loss = np.sum(valid_loss) / len(valid_dataloader.data)\n",
    "    # BLEUを計算\n",
    "    train_bleu = calc_bleu(train_refs, train_hyps)\n",
    "    valid_bleu = calc_bleu(valid_refs, valid_hyps)\n",
    "\n",
    "    # validationデータでBLEUが改善した場合にはモデルを保存\n",
    "    if valid_bleu > best_valid_bleu:\n",
    "        ckpt = model.state_dict()\n",
    "        torch.save(ckpt, ckpt_path)\n",
    "        best_valid_bleu = valid_bleu\n",
    "\n",
    "    print('Epoch {}: train_loss: {:5.2f}  train_bleu: {:2.2f}  valid_loss: {:5.2f}  valid_bleu: {:2.2f}'.format(\n",
    "            epoch, train_loss, train_bleu, valid_loss, valid_bleu))\n",
    "        \n",
    "    print('-'*80)\n",
    "    \n",
    "    \n",
    "Epoch 1: train_loss: 52.52  train_bleu: 3.22  valid_loss: 48.76  valid_bleu: 4.90\n",
    "--------------------------------------------------------------------------------\n",
    "Epoch 2: train_loss: 44.02  train_bleu: 8.10  valid_loss: 45.08  valid_bleu: 9.80\n",
    "--------------------------------------------------------------------------------\n",
    "    \n",
    "\n",
    "''''''"
   ]
  },
  {
   "cell_type": "code",
   "execution_count": null,
   "id": "c1291426",
   "metadata": {},
   "outputs": [],
   "source": [
    "''''''\n",
    "# BLEUの計算\n",
    "test_dataloader = DataLoader(test_X, test_Y, batch_size=1, shuffle=False)\n",
    "refs_list = []\n",
    "hyp_list = []\n",
    "\n",
    "for batch in test_dataloader:\n",
    "    batch_X, batch_Y, lengths_X = batch\n",
    "    pred_Y = model(batch_X, lengths_X, max_length=20)\n",
    "    pred = pred_Y.max(dim=-1)[1].view(-1).data.cpu().tolist()\n",
    "    refs = batch_Y.view(-1).data.cpu().tolist()\n",
    "    refs_list.append(refs)\n",
    "    hyp_list.append(pred)\n",
    "bleu = calc_bleu(refs_list, hyp_list)\n",
    "print(bleu)\n",
    "\n",
    "14.245135890627886\n",
    "\n",
    "''''''"
   ]
  },
  {
   "cell_type": "markdown",
   "id": "988862f1",
   "metadata": {},
   "source": [
    "### lecture_chap2_exercise_public.ipynb"
   ]
  },
  {
   "cell_type": "markdown",
   "id": "06749c69",
   "metadata": {},
   "source": [
    "####   Position Encodingを可視化結果\n",
    "    "
   ]
  },
  {
   "cell_type": "code",
   "execution_count": 28,
   "id": "311877d4",
   "metadata": {},
   "outputs": [
    {
     "data": {
      "text/html": [
       "<img src=\"https://raw.githubusercontent.com/mutsumutsu67/rapid_challenge/main/lecture_chap2_exercise_public_position_encoding.jpg\"/>"
      ],
      "text/plain": [
       "<IPython.core.display.Image object>"
      ]
     },
     "execution_count": 28,
     "metadata": {},
     "output_type": "execute_result"
    }
   ],
   "source": [
    "Image(url= 'https://raw.githubusercontent.com/mutsumutsu67/rapid_challenge/main/lecture_chap2_exercise_public_position_encoding.jpg')"
   ]
  },
  {
   "cell_type": "code",
   "execution_count": null,
   "id": "4c792bfb",
   "metadata": {},
   "outputs": [],
   "source": [
    "''''''\n",
    "# 訓練\n",
    "best_valid_bleu = 0.\n",
    "\n",
    "for epoch in range(1, num_epochs+1):\n",
    "    start = time.time()\n",
    "    train_loss = 0.\n",
    "    train_refs = []\n",
    "    train_hyps = []\n",
    "    valid_loss = 0.\n",
    "    valid_refs = []\n",
    "    valid_hyps = []\n",
    "    # train\n",
    "    for batch in train_dataloader:\n",
    "        batch_X, batch_Y = batch\n",
    "        loss, gold, pred = compute_loss(\n",
    "            batch_X, batch_Y, model, criterion, optimizer, is_train=True\n",
    "            )\n",
    "        train_loss += loss\n",
    "        train_refs += gold\n",
    "        train_hyps += pred\n",
    "    # valid\n",
    "    for batch in valid_dataloader:\n",
    "        batch_X, batch_Y = batch\n",
    "        loss, gold, pred = compute_loss(\n",
    "            batch_X, batch_Y, model, criterion, is_train=False\n",
    "            )\n",
    "        valid_loss += loss\n",
    "        valid_refs += gold\n",
    "        valid_hyps += pred\n",
    "    # 損失をサンプル数で割って正規化\n",
    "    train_loss /= len(train_dataloader.data) \n",
    "    valid_loss /= len(valid_dataloader.data) \n",
    "    # BLEUを計算\n",
    "    train_bleu = calc_bleu(train_refs, train_hyps)\n",
    "    valid_bleu = calc_bleu(valid_refs, valid_hyps)\n",
    "\n",
    "    # validationデータでBLEUが改善した場合にはモデルを保存\n",
    "    if valid_bleu > best_valid_bleu:\n",
    "        ckpt = model.state_dict()\n",
    "        torch.save(ckpt, ckpt_path)\n",
    "        best_valid_bleu = valid_bleu\n",
    "\n",
    "    elapsed_time = (time.time()-start) / 60\n",
    "    print('Epoch {} [{:.1f}min]: train_loss: {:5.2f}  train_bleu: {:2.2f}  valid_loss: {:5.2f}  valid_bleu: {:2.2f}'.format(\n",
    "            epoch, elapsed_time, train_loss, train_bleu, valid_loss, valid_bleu))\n",
    "    print('-'*80)\n",
    "    \n",
    "Epoch 1 [0.9min]: train_loss: 77.22  train_bleu: 4.79  valid_loss: 41.31  valid_bleu: 10.99\n",
    "--------------------------------------------------------------------------------\n",
    "Epoch 2 [0.9min]: train_loss: 39.21  train_bleu: 12.41  valid_loss: 32.15  valid_bleu: 17.49\n",
    "--------------------------------------------------------------------------------\n",
    "Epoch 3 [0.9min]: train_loss: 31.80  train_bleu: 18.08  valid_loss: 27.95  valid_bleu: 22.01\n",
    "--------------------------------------------------------------------------------\n",
    "Epoch 4 [0.9min]: train_loss: 28.09  train_bleu: 21.79  valid_loss: 25.69  valid_bleu: 24.94\n",
    "--------------------------------------------------------------------------------\n",
    "Epoch 5 [0.9min]: train_loss: 25.67  train_bleu: 24.69  valid_loss: 24.16  valid_bleu: 27.37\n",
    "--------------------------------------------------------------------------------\n",
    "Epoch 6 [0.9min]: train_loss: 23.85  train_bleu: 26.95  valid_loss: 22.89  valid_bleu: 29.03\n",
    "--------------------------------------------------------------------------------\n",
    "Epoch 7 [0.9min]: train_loss: 22.45  train_bleu: 28.55  valid_loss: 22.03  valid_bleu: 30.59\n",
    "--------------------------------------------------------------------------------\n",
    "Epoch 8 [0.9min]: train_loss: 21.26  train_bleu: 30.21  valid_loss: 21.51  valid_bleu: 31.03\n",
    "--------------------------------------------------------------------------------\n",
    "Epoch 9 [0.9min]: train_loss: 20.25  train_bleu: 31.59  valid_loss: 20.83  valid_bleu: 32.29\n",
    "--------------------------------------------------------------------------------\n",
    "Epoch 10 [0.9min]: train_loss: 19.35  train_bleu: 32.85  valid_loss: 20.35  valid_bleu: 33.18\n",
    "--------------------------------------------------------------------------------\n",
    "Epoch 11 [0.9min]: train_loss: 18.57  train_bleu: 34.04  valid_loss: 19.90  valid_bleu: 33.78\n",
    "--------------------------------------------------------------------------------\n",
    "Epoch 12 [0.9min]: train_loss: 17.86  train_bleu: 35.15  valid_loss: 19.65  valid_bleu: 34.08\n",
    "--------------------------------------------------------------------------------\n",
    "Epoch 13 [0.9min]: train_loss: 17.25  train_bleu: 36.19  valid_loss: 19.30  valid_bleu: 34.96\n",
    "--------------------------------------------------------------------------------\n",
    "Epoch 14 [0.9min]: train_loss: 16.64  train_bleu: 36.97  valid_loss: 19.13  valid_bleu: 35.30\n",
    "--------------------------------------------------------------------------------\n",
    "Epoch 15 [0.9min]: train_loss: 16.13  train_bleu: 37.91  valid_loss: 19.09  valid_bleu: 35.84\n",
    "    \n",
    "    \n",
    "\n",
    "\n",
    "''''''\n"
   ]
  },
  {
   "cell_type": "code",
   "execution_count": null,
   "id": "dde9c5aa",
   "metadata": {},
   "outputs": [],
   "source": [
    "''''''\n",
    "# BLEUの評価\n",
    "test_dataloader = DataLoader(\n",
    "    test_X, test_Y, 128,\n",
    "    shuffle=False\n",
    "    )\n",
    "refs_list = []\n",
    "hyp_list = []\n",
    "\n",
    "for batch in test_dataloader:\n",
    "    batch_X, batch_Y = batch\n",
    "    preds, *_ = test(model, batch_X)\n",
    "    preds = preds.data.cpu().numpy().tolist()\n",
    "    refs = batch_Y[0].data.cpu().numpy()[:, 1:].tolist()\n",
    "    refs_list += refs\n",
    "    hyp_list += preds\n",
    "bleu = calc_bleu(refs_list, hyp_list)\n",
    "print(bleu)\n",
    "\n",
    "\n",
    "26.24829561354781\n",
    "\n",
    "''''''"
   ]
  },
  {
   "cell_type": "markdown",
   "id": "dbc39dff",
   "metadata": {},
   "source": [
    "###  ６、Section6：物体検知・セグメンテーション"
   ]
  },
  {
   "cell_type": "code",
   "execution_count": 3,
   "id": "763292f4",
   "metadata": {},
   "outputs": [
    {
     "data": {
      "text/html": [
       "<img src=\"https://raw.githubusercontent.com/mutsumutsu67/rapid_challenge/main/Stage4_day4_sec6_1.jpg\"/>"
      ],
      "text/plain": [
       "<IPython.core.display.Image object>"
      ]
     },
     "execution_count": 3,
     "metadata": {},
     "output_type": "execute_result"
    }
   ],
   "source": [
    "from IPython.display import Image\n",
    "Image(url= 'https://raw.githubusercontent.com/mutsumutsu67/rapid_challenge/main/Stage4_day4_sec6_1.jpg')"
   ]
  },
  {
   "cell_type": "code",
   "execution_count": 4,
   "id": "3483d6c8",
   "metadata": {},
   "outputs": [
    {
     "data": {
      "text/html": [
       "<img src=\"https://raw.githubusercontent.com/mutsumutsu67/rapid_challenge/main/Stage4_day4_sec6_2.jpg\"/>"
      ],
      "text/plain": [
       "<IPython.core.display.Image object>"
      ]
     },
     "execution_count": 4,
     "metadata": {},
     "output_type": "execute_result"
    }
   ],
   "source": [
    "Image(url= 'https://raw.githubusercontent.com/mutsumutsu67/rapid_challenge/main/Stage4_day4_sec6_2.jpg')"
   ]
  },
  {
   "cell_type": "code",
   "execution_count": 5,
   "id": "0da2e899",
   "metadata": {},
   "outputs": [
    {
     "data": {
      "text/html": [
       "<img src=\"https://raw.githubusercontent.com/mutsumutsu67/rapid_challenge/main/Stage4_day4_sec6_3.jpg\"/>"
      ],
      "text/plain": [
       "<IPython.core.display.Image object>"
      ]
     },
     "execution_count": 5,
     "metadata": {},
     "output_type": "execute_result"
    }
   ],
   "source": [
    "Image(url= 'https://raw.githubusercontent.com/mutsumutsu67/rapid_challenge/main/Stage4_day4_sec6_3.jpg')"
   ]
  },
  {
   "cell_type": "code",
   "execution_count": 6,
   "id": "8f3607c7",
   "metadata": {},
   "outputs": [
    {
     "data": {
      "text/html": [
       "<img src=\"https://raw.githubusercontent.com/mutsumutsu67/rapid_challenge/main/Stage4_day4_sec6_4.jpg\"/>"
      ],
      "text/plain": [
       "<IPython.core.display.Image object>"
      ]
     },
     "execution_count": 6,
     "metadata": {},
     "output_type": "execute_result"
    }
   ],
   "source": [
    "Image(url= 'https://raw.githubusercontent.com/mutsumutsu67/rapid_challenge/main/Stage4_day4_sec6_4.jpg')"
   ]
  },
  {
   "cell_type": "code",
   "execution_count": 7,
   "id": "73f06573",
   "metadata": {},
   "outputs": [
    {
     "data": {
      "text/html": [
       "<img src=\"https://raw.githubusercontent.com/mutsumutsu67/rapid_challenge/main/Stage4_day4_sec6_5.jpg\"/>"
      ],
      "text/plain": [
       "<IPython.core.display.Image object>"
      ]
     },
     "execution_count": 7,
     "metadata": {},
     "output_type": "execute_result"
    }
   ],
   "source": [
    "Image(url= 'https://raw.githubusercontent.com/mutsumutsu67/rapid_challenge/main/Stage4_day4_sec6_5.jpg')"
   ]
  },
  {
   "cell_type": "code",
   "execution_count": 8,
   "id": "cd0a25db",
   "metadata": {},
   "outputs": [
    {
     "data": {
      "text/html": [
       "<img src=\"https://raw.githubusercontent.com/mutsumutsu67/rapid_challenge/main/Stage4_day4_sec6_6.jpg\"/>"
      ],
      "text/plain": [
       "<IPython.core.display.Image object>"
      ]
     },
     "execution_count": 8,
     "metadata": {},
     "output_type": "execute_result"
    }
   ],
   "source": [
    "Image(url= 'https://raw.githubusercontent.com/mutsumutsu67/rapid_challenge/main/Stage4_day4_sec6_6.jpg')"
   ]
  },
  {
   "cell_type": "code",
   "execution_count": 9,
   "id": "bef7b257",
   "metadata": {},
   "outputs": [
    {
     "data": {
      "text/html": [
       "<img src=\"https://raw.githubusercontent.com/mutsumutsu67/rapid_challenge/main/Stage4_day4_sec6_7.jpg\"/>"
      ],
      "text/plain": [
       "<IPython.core.display.Image object>"
      ]
     },
     "execution_count": 9,
     "metadata": {},
     "output_type": "execute_result"
    }
   ],
   "source": [
    "Image(url= 'https://raw.githubusercontent.com/mutsumutsu67/rapid_challenge/main/Stage4_day4_sec6_7.jpg')"
   ]
  },
  {
   "cell_type": "code",
   "execution_count": 10,
   "id": "13f2b326",
   "metadata": {},
   "outputs": [
    {
     "data": {
      "text/html": [
       "<img src=\"https://raw.githubusercontent.com/mutsumutsu67/rapid_challenge/main/Stage4_day4_sec6_8.jpg\"/>"
      ],
      "text/plain": [
       "<IPython.core.display.Image object>"
      ]
     },
     "execution_count": 10,
     "metadata": {},
     "output_type": "execute_result"
    }
   ],
   "source": [
    "Image(url= 'https://raw.githubusercontent.com/mutsumutsu67/rapid_challenge/main/Stage4_day4_sec6_8.jpg')"
   ]
  },
  {
   "cell_type": "code",
   "execution_count": 11,
   "id": "8cc3d75d",
   "metadata": {},
   "outputs": [
    {
     "data": {
      "text/html": [
       "<img src=\"https://raw.githubusercontent.com/mutsumutsu67/rapid_challenge/main/Stage4_day4_sec6_9.jpg\"/>"
      ],
      "text/plain": [
       "<IPython.core.display.Image object>"
      ]
     },
     "execution_count": 11,
     "metadata": {},
     "output_type": "execute_result"
    }
   ],
   "source": [
    "Image(url= 'https://raw.githubusercontent.com/mutsumutsu67/rapid_challenge/main/Stage4_day4_sec6_9.jpg')"
   ]
  },
  {
   "cell_type": "code",
   "execution_count": 12,
   "id": "58392fed",
   "metadata": {},
   "outputs": [
    {
     "data": {
      "text/html": [
       "<img src=\"https://raw.githubusercontent.com/mutsumutsu67/rapid_challenge/main/Stage4_day4_sec6_10.jpg\"/>"
      ],
      "text/plain": [
       "<IPython.core.display.Image object>"
      ]
     },
     "execution_count": 12,
     "metadata": {},
     "output_type": "execute_result"
    }
   ],
   "source": [
    "Image(url= 'https://raw.githubusercontent.com/mutsumutsu67/rapid_challenge/main/Stage4_day4_sec6_10.jpg')"
   ]
  },
  {
   "cell_type": "code",
   "execution_count": null,
   "id": "03e5adff",
   "metadata": {},
   "outputs": [],
   "source": []
  }
 ],
 "metadata": {
  "kernelspec": {
   "display_name": "Python 3",
   "language": "python",
   "name": "python3"
  },
  "language_info": {
   "codemirror_mode": {
    "name": "ipython",
    "version": 3
   },
   "file_extension": ".py",
   "mimetype": "text/x-python",
   "name": "python",
   "nbconvert_exporter": "python",
   "pygments_lexer": "ipython3",
   "version": "3.8.8"
  }
 },
 "nbformat": 4,
 "nbformat_minor": 5
}
