{
 "cells": [
  {
   "cell_type": "markdown",
   "id": "2a82508e",
   "metadata": {},
   "source": [
    "# Stage2 機械学習Report \n",
    "##### (線形回帰モデル/非線形回帰モデル/ロジスティック回帰モデル/主成分分析/アルゴリズム/サポートベクターマシーン)\n",
    "\n",
    "## 回帰問題\n",
    "### 入力（離散または連続値）から出力を予測する問題\n",
    "#### 　線形で予測　------> 　線形回帰モデル\n",
    "#### 非線形で予測　------> 非線形回帰モデル\n",
    "#### \n",
    "#### 回帰で扱うデータ\n",
    "##### 入力(説明変数または特徴量）"
   ]
  },
  {
   "cell_type": "markdown",
   "id": "9db9ca0a",
   "metadata": {},
   "source": [
    "#### &emsp;&emsp; $ x= (x_1 , x_2 , \\cdots ,x_m )^ \\mathrm{T} \\in  \\mathbb{R}^m  $ "
   ]
  },
  {
   "cell_type": "markdown",
   "id": "aa86553b",
   "metadata": {},
   "source": [
    "#### 出力(目的値）"
   ]
  },
  {
   "cell_type": "markdown",
   "id": "e8799cef",
   "metadata": {},
   "source": [
    "#### &emsp;&emsp; $ y \\in \\mathbb{R}^1  $ "
   ]
  },
  {
   "cell_type": "markdown",
   "id": "2f7c5dfc",
   "metadata": {},
   "source": [
    "## 1.線形回帰モデル"
   ]
  },
  {
   "cell_type": "markdown",
   "id": "f97d7aad",
   "metadata": {},
   "source": [
    "#### 教師あり学習\n",
    "#### 入力とm次元パラメータの線形結合を出力するモデル"
   ]
  },
  {
   "cell_type": "markdown",
   "id": "5dd305ae",
   "metadata": {},
   "source": [
    "##### パラメータ　$ \\boldsymbol{w} = (w_1,w_2, \\cdots , w_m )^ \\mathrm{T} )\\in  \\mathbb{R}^m $"
   ]
  },
  {
   "cell_type": "markdown",
   "id": "c890aeae",
   "metadata": {},
   "source": [
    "##### 線形結合　$ \\hat{y} = w^ \\mathrm{T} x + w_0 =\\sum _{j=1} ^{m} {w_jx_j} + w_0 $"
   ]
  },
  {
   "cell_type": "markdown",
   "id": "8ba8ff74",
   "metadata": {},
   "source": [
    "#### 線形結合とは、入力とパラメータの内積である。\n",
    "###### $w $ パラメータ--->　重み(weight ), 切片(バイアス)を加えたもの。\n",
    "###### 重みは正の値をつけると、特徴量を増加させる。負の値をつけると現象させる。\n",
    "###### 大きい値だと影響力を増すことになる。\n",
    "###### 入力ベクトルが多次元でも出力は一次元（スカラ）になる。"
   ]
  },
  {
   "cell_type": "markdown",
   "id": "ffe19596",
   "metadata": {},
   "source": [
    "## 線形回帰モデル　ハンズオン"
   ]
  },
  {
   "cell_type": "code",
   "execution_count": 23,
   "id": "5885a1c6",
   "metadata": {},
   "outputs": [
    {
     "name": "stdout",
     "output_type": "stream",
     "text": [
      "{'data': array([[6.3200e-03, 1.8000e+01, 2.3100e+00, ..., 1.5300e+01, 3.9690e+02,\n",
      "        4.9800e+00],\n",
      "       [2.7310e-02, 0.0000e+00, 7.0700e+00, ..., 1.7800e+01, 3.9690e+02,\n",
      "        9.1400e+00],\n",
      "       [2.7290e-02, 0.0000e+00, 7.0700e+00, ..., 1.7800e+01, 3.9283e+02,\n",
      "        4.0300e+00],\n",
      "       ...,\n",
      "       [6.0760e-02, 0.0000e+00, 1.1930e+01, ..., 2.1000e+01, 3.9690e+02,\n",
      "        5.6400e+00],\n",
      "       [1.0959e-01, 0.0000e+00, 1.1930e+01, ..., 2.1000e+01, 3.9345e+02,\n",
      "        6.4800e+00],\n",
      "       [4.7410e-02, 0.0000e+00, 1.1930e+01, ..., 2.1000e+01, 3.9690e+02,\n",
      "        7.8800e+00]]), 'target': array([24. , 21.6, 34.7, 33.4, 36.2, 28.7, 22.9, 27.1, 16.5, 18.9, 15. ,\n",
      "       18.9, 21.7, 20.4, 18.2, 19.9, 23.1, 17.5, 20.2, 18.2, 13.6, 19.6,\n",
      "       15.2, 14.5, 15.6, 13.9, 16.6, 14.8, 18.4, 21. , 12.7, 14.5, 13.2,\n",
      "       13.1, 13.5, 18.9, 20. , 21. , 24.7, 30.8, 34.9, 26.6, 25.3, 24.7,\n",
      "       21.2, 19.3, 20. , 16.6, 14.4, 19.4, 19.7, 20.5, 25. , 23.4, 18.9,\n",
      "       35.4, 24.7, 31.6, 23.3, 19.6, 18.7, 16. , 22.2, 25. , 33. , 23.5,\n",
      "       19.4, 22. , 17.4, 20.9, 24.2, 21.7, 22.8, 23.4, 24.1, 21.4, 20. ,\n",
      "       20.8, 21.2, 20.3, 28. , 23.9, 24.8, 22.9, 23.9, 26.6, 22.5, 22.2,\n",
      "       23.6, 28.7, 22.6, 22. , 22.9, 25. , 20.6, 28.4, 21.4, 38.7, 43.8,\n",
      "       33.2, 27.5, 26.5, 18.6, 19.3, 20.1, 19.5, 19.5, 20.4, 19.8, 19.4,\n",
      "       21.7, 22.8, 18.8, 18.7, 18.5, 18.3, 21.2, 19.2, 20.4, 19.3, 22. ,\n",
      "       20.3, 20.5, 17.3, 18.8, 21.4, 15.7, 16.2, 18. , 14.3, 19.2, 19.6,\n",
      "       23. , 18.4, 15.6, 18.1, 17.4, 17.1, 13.3, 17.8, 14. , 14.4, 13.4,\n",
      "       15.6, 11.8, 13.8, 15.6, 14.6, 17.8, 15.4, 21.5, 19.6, 15.3, 19.4,\n",
      "       17. , 15.6, 13.1, 41.3, 24.3, 23.3, 27. , 50. , 50. , 50. , 22.7,\n",
      "       25. , 50. , 23.8, 23.8, 22.3, 17.4, 19.1, 23.1, 23.6, 22.6, 29.4,\n",
      "       23.2, 24.6, 29.9, 37.2, 39.8, 36.2, 37.9, 32.5, 26.4, 29.6, 50. ,\n",
      "       32. , 29.8, 34.9, 37. , 30.5, 36.4, 31.1, 29.1, 50. , 33.3, 30.3,\n",
      "       34.6, 34.9, 32.9, 24.1, 42.3, 48.5, 50. , 22.6, 24.4, 22.5, 24.4,\n",
      "       20. , 21.7, 19.3, 22.4, 28.1, 23.7, 25. , 23.3, 28.7, 21.5, 23. ,\n",
      "       26.7, 21.7, 27.5, 30.1, 44.8, 50. , 37.6, 31.6, 46.7, 31.5, 24.3,\n",
      "       31.7, 41.7, 48.3, 29. , 24. , 25.1, 31.5, 23.7, 23.3, 22. , 20.1,\n",
      "       22.2, 23.7, 17.6, 18.5, 24.3, 20.5, 24.5, 26.2, 24.4, 24.8, 29.6,\n",
      "       42.8, 21.9, 20.9, 44. , 50. , 36. , 30.1, 33.8, 43.1, 48.8, 31. ,\n",
      "       36.5, 22.8, 30.7, 50. , 43.5, 20.7, 21.1, 25.2, 24.4, 35.2, 32.4,\n",
      "       32. , 33.2, 33.1, 29.1, 35.1, 45.4, 35.4, 46. , 50. , 32.2, 22. ,\n",
      "       20.1, 23.2, 22.3, 24.8, 28.5, 37.3, 27.9, 23.9, 21.7, 28.6, 27.1,\n",
      "       20.3, 22.5, 29. , 24.8, 22. , 26.4, 33.1, 36.1, 28.4, 33.4, 28.2,\n",
      "       22.8, 20.3, 16.1, 22.1, 19.4, 21.6, 23.8, 16.2, 17.8, 19.8, 23.1,\n",
      "       21. , 23.8, 23.1, 20.4, 18.5, 25. , 24.6, 23. , 22.2, 19.3, 22.6,\n",
      "       19.8, 17.1, 19.4, 22.2, 20.7, 21.1, 19.5, 18.5, 20.6, 19. , 18.7,\n",
      "       32.7, 16.5, 23.9, 31.2, 17.5, 17.2, 23.1, 24.5, 26.6, 22.9, 24.1,\n",
      "       18.6, 30.1, 18.2, 20.6, 17.8, 21.7, 22.7, 22.6, 25. , 19.9, 20.8,\n",
      "       16.8, 21.9, 27.5, 21.9, 23.1, 50. , 50. , 50. , 50. , 50. , 13.8,\n",
      "       13.8, 15. , 13.9, 13.3, 13.1, 10.2, 10.4, 10.9, 11.3, 12.3,  8.8,\n",
      "        7.2, 10.5,  7.4, 10.2, 11.5, 15.1, 23.2,  9.7, 13.8, 12.7, 13.1,\n",
      "       12.5,  8.5,  5. ,  6.3,  5.6,  7.2, 12.1,  8.3,  8.5,  5. , 11.9,\n",
      "       27.9, 17.2, 27.5, 15. , 17.2, 17.9, 16.3,  7. ,  7.2,  7.5, 10.4,\n",
      "        8.8,  8.4, 16.7, 14.2, 20.8, 13.4, 11.7,  8.3, 10.2, 10.9, 11. ,\n",
      "        9.5, 14.5, 14.1, 16.1, 14.3, 11.7, 13.4,  9.6,  8.7,  8.4, 12.8,\n",
      "       10.5, 17.1, 18.4, 15.4, 10.8, 11.8, 14.9, 12.6, 14.1, 13. , 13.4,\n",
      "       15.2, 16.1, 17.8, 14.9, 14.1, 12.7, 13.5, 14.9, 20. , 16.4, 17.7,\n",
      "       19.5, 20.2, 21.4, 19.9, 19. , 19.1, 19.1, 20.1, 19.9, 19.6, 23.2,\n",
      "       29.8, 13.8, 13.3, 16.7, 12. , 14.6, 21.4, 23. , 23.7, 25. , 21.8,\n",
      "       20.6, 21.2, 19.1, 20.6, 15.2,  7. ,  8.1, 13.6, 20.1, 21.8, 24.5,\n",
      "       23.1, 19.7, 18.3, 21.2, 17.5, 16.8, 22.4, 20.6, 23.9, 22. , 11.9]), 'feature_names': array(['CRIM', 'ZN', 'INDUS', 'CHAS', 'NOX', 'RM', 'AGE', 'DIS', 'RAD',\n",
      "       'TAX', 'PTRATIO', 'B', 'LSTAT'], dtype='<U7'), 'DESCR': \".. _boston_dataset:\\n\\nBoston house prices dataset\\n---------------------------\\n\\n**Data Set Characteristics:**  \\n\\n    :Number of Instances: 506 \\n\\n    :Number of Attributes: 13 numeric/categorical predictive. Median Value (attribute 14) is usually the target.\\n\\n    :Attribute Information (in order):\\n        - CRIM     per capita crime rate by town\\n        - ZN       proportion of residential land zoned for lots over 25,000 sq.ft.\\n        - INDUS    proportion of non-retail business acres per town\\n        - CHAS     Charles River dummy variable (= 1 if tract bounds river; 0 otherwise)\\n        - NOX      nitric oxides concentration (parts per 10 million)\\n        - RM       average number of rooms per dwelling\\n        - AGE      proportion of owner-occupied units built prior to 1940\\n        - DIS      weighted distances to five Boston employment centres\\n        - RAD      index of accessibility to radial highways\\n        - TAX      full-value property-tax rate per $10,000\\n        - PTRATIO  pupil-teacher ratio by town\\n        - B        1000(Bk - 0.63)^2 where Bk is the proportion of blacks by town\\n        - LSTAT    % lower status of the population\\n        - MEDV     Median value of owner-occupied homes in $1000's\\n\\n    :Missing Attribute Values: None\\n\\n    :Creator: Harrison, D. and Rubinfeld, D.L.\\n\\nThis is a copy of UCI ML housing dataset.\\nhttps://archive.ics.uci.edu/ml/machine-learning-databases/housing/\\n\\n\\nThis dataset was taken from the StatLib library which is maintained at Carnegie Mellon University.\\n\\nThe Boston house-price data of Harrison, D. and Rubinfeld, D.L. 'Hedonic\\nprices and the demand for clean air', J. Environ. Economics & Management,\\nvol.5, 81-102, 1978.   Used in Belsley, Kuh & Welsch, 'Regression diagnostics\\n...', Wiley, 1980.   N.B. Various transformations are used in the table on\\npages 244-261 of the latter.\\n\\nThe Boston house-price data has been used in many machine learning papers that address regression\\nproblems.   \\n     \\n.. topic:: References\\n\\n   - Belsley, Kuh & Welsch, 'Regression diagnostics: Identifying Influential Data and Sources of Collinearity', Wiley, 1980. 244-261.\\n   - Quinlan,R. (1993). Combining Instance-Based and Model-Based Learning. In Proceedings on the Tenth International Conference of Machine Learning, 236-243, University of Massachusetts, Amherst. Morgan Kaufmann.\\n\", 'filename': 'D:\\\\anaconda\\\\lib\\\\site-packages\\\\sklearn\\\\datasets\\\\data\\\\boston_house_prices.csv'}\n"
     ]
    }
   ],
   "source": [
    "#from モジュール名 import クラス名（もしくは関数名や変数名）\n",
    "from sklearn.datasets import load_boston\n",
    "from pandas import DataFrame\n",
    "import numpy as np\n",
    "# ボストンデータを\"boston\"というインスタンスにインポート\n",
    "boston = load_boston()\n",
    "#インポートしたデータを確認(data / target / feature_names / DESCR)\n",
    "print(boston)"
   ]
  },
  {
   "cell_type": "code",
   "execution_count": 3,
   "id": "a0ebfddb",
   "metadata": {},
   "outputs": [
    {
     "name": "stdout",
     "output_type": "stream",
     "text": [
      ".. _boston_dataset:\n",
      "\n",
      "Boston house prices dataset\n",
      "---------------------------\n",
      "\n",
      "**Data Set Characteristics:**  \n",
      "\n",
      "    :Number of Instances: 506 \n",
      "\n",
      "    :Number of Attributes: 13 numeric/categorical predictive. Median Value (attribute 14) is usually the target.\n",
      "\n",
      "    :Attribute Information (in order):\n",
      "        - CRIM     per capita crime rate by town\n",
      "        - ZN       proportion of residential land zoned for lots over 25,000 sq.ft.\n",
      "        - INDUS    proportion of non-retail business acres per town\n",
      "        - CHAS     Charles River dummy variable (= 1 if tract bounds river; 0 otherwise)\n",
      "        - NOX      nitric oxides concentration (parts per 10 million)\n",
      "        - RM       average number of rooms per dwelling\n",
      "        - AGE      proportion of owner-occupied units built prior to 1940\n",
      "        - DIS      weighted distances to five Boston employment centres\n",
      "        - RAD      index of accessibility to radial highways\n",
      "        - TAX      full-value property-tax rate per $10,000\n",
      "        - PTRATIO  pupil-teacher ratio by town\n",
      "        - B        1000(Bk - 0.63)^2 where Bk is the proportion of blacks by town\n",
      "        - LSTAT    % lower status of the population\n",
      "        - MEDV     Median value of owner-occupied homes in $1000's\n",
      "\n",
      "    :Missing Attribute Values: None\n",
      "\n",
      "    :Creator: Harrison, D. and Rubinfeld, D.L.\n",
      "\n",
      "This is a copy of UCI ML housing dataset.\n",
      "https://archive.ics.uci.edu/ml/machine-learning-databases/housing/\n",
      "\n",
      "\n",
      "This dataset was taken from the StatLib library which is maintained at Carnegie Mellon University.\n",
      "\n",
      "The Boston house-price data of Harrison, D. and Rubinfeld, D.L. 'Hedonic\n",
      "prices and the demand for clean air', J. Environ. Economics & Management,\n",
      "vol.5, 81-102, 1978.   Used in Belsley, Kuh & Welsch, 'Regression diagnostics\n",
      "...', Wiley, 1980.   N.B. Various transformations are used in the table on\n",
      "pages 244-261 of the latter.\n",
      "\n",
      "The Boston house-price data has been used in many machine learning papers that address regression\n",
      "problems.   \n",
      "     \n",
      ".. topic:: References\n",
      "\n",
      "   - Belsley, Kuh & Welsch, 'Regression diagnostics: Identifying Influential Data and Sources of Collinearity', Wiley, 1980. 244-261.\n",
      "   - Quinlan,R. (1993). Combining Instance-Based and Model-Based Learning. In Proceedings on the Tenth International Conference of Machine Learning, 236-243, University of Massachusetts, Amherst. Morgan Kaufmann.\n",
      "\n"
     ]
    }
   ],
   "source": [
    "#DESCR変数の中身を確認\n",
    "print(boston['DESCR'])"
   ]
  },
  {
   "cell_type": "code",
   "execution_count": 7,
   "id": "b6699afa",
   "metadata": {},
   "outputs": [
    {
     "name": "stdout",
     "output_type": "stream",
     "text": [
      "['CRIM' 'ZN' 'INDUS' 'CHAS' 'NOX' 'RM' 'AGE' 'DIS' 'RAD' 'TAX' 'PTRATIO'\n",
      " 'B' 'LSTAT']\n"
     ]
    }
   ],
   "source": [
    "#feature_names変数の中身を確認\n",
    "#カラム名\n",
    "print(boston['feature_names'])"
   ]
  },
  {
   "cell_type": "code",
   "execution_count": 8,
   "id": "6d611a2a",
   "metadata": {},
   "outputs": [
    {
     "name": "stdout",
     "output_type": "stream",
     "text": [
      "[[6.3200e-03 1.8000e+01 2.3100e+00 ... 1.5300e+01 3.9690e+02 4.9800e+00]\n",
      " [2.7310e-02 0.0000e+00 7.0700e+00 ... 1.7800e+01 3.9690e+02 9.1400e+00]\n",
      " [2.7290e-02 0.0000e+00 7.0700e+00 ... 1.7800e+01 3.9283e+02 4.0300e+00]\n",
      " ...\n",
      " [6.0760e-02 0.0000e+00 1.1930e+01 ... 2.1000e+01 3.9690e+02 5.6400e+00]\n",
      " [1.0959e-01 0.0000e+00 1.1930e+01 ... 2.1000e+01 3.9345e+02 6.4800e+00]\n",
      " [4.7410e-02 0.0000e+00 1.1930e+01 ... 2.1000e+01 3.9690e+02 7.8800e+00]]\n"
     ]
    }
   ],
   "source": [
    "#data変数(説明変数)の中身を確認\n",
    "print(boston['data'])"
   ]
  },
  {
   "cell_type": "code",
   "execution_count": 9,
   "id": "d1a60d76",
   "metadata": {},
   "outputs": [
    {
     "name": "stdout",
     "output_type": "stream",
     "text": [
      "[24.  21.6 34.7 33.4 36.2 28.7 22.9 27.1 16.5 18.9 15.  18.9 21.7 20.4\n",
      " 18.2 19.9 23.1 17.5 20.2 18.2 13.6 19.6 15.2 14.5 15.6 13.9 16.6 14.8\n",
      " 18.4 21.  12.7 14.5 13.2 13.1 13.5 18.9 20.  21.  24.7 30.8 34.9 26.6\n",
      " 25.3 24.7 21.2 19.3 20.  16.6 14.4 19.4 19.7 20.5 25.  23.4 18.9 35.4\n",
      " 24.7 31.6 23.3 19.6 18.7 16.  22.2 25.  33.  23.5 19.4 22.  17.4 20.9\n",
      " 24.2 21.7 22.8 23.4 24.1 21.4 20.  20.8 21.2 20.3 28.  23.9 24.8 22.9\n",
      " 23.9 26.6 22.5 22.2 23.6 28.7 22.6 22.  22.9 25.  20.6 28.4 21.4 38.7\n",
      " 43.8 33.2 27.5 26.5 18.6 19.3 20.1 19.5 19.5 20.4 19.8 19.4 21.7 22.8\n",
      " 18.8 18.7 18.5 18.3 21.2 19.2 20.4 19.3 22.  20.3 20.5 17.3 18.8 21.4\n",
      " 15.7 16.2 18.  14.3 19.2 19.6 23.  18.4 15.6 18.1 17.4 17.1 13.3 17.8\n",
      " 14.  14.4 13.4 15.6 11.8 13.8 15.6 14.6 17.8 15.4 21.5 19.6 15.3 19.4\n",
      " 17.  15.6 13.1 41.3 24.3 23.3 27.  50.  50.  50.  22.7 25.  50.  23.8\n",
      " 23.8 22.3 17.4 19.1 23.1 23.6 22.6 29.4 23.2 24.6 29.9 37.2 39.8 36.2\n",
      " 37.9 32.5 26.4 29.6 50.  32.  29.8 34.9 37.  30.5 36.4 31.1 29.1 50.\n",
      " 33.3 30.3 34.6 34.9 32.9 24.1 42.3 48.5 50.  22.6 24.4 22.5 24.4 20.\n",
      " 21.7 19.3 22.4 28.1 23.7 25.  23.3 28.7 21.5 23.  26.7 21.7 27.5 30.1\n",
      " 44.8 50.  37.6 31.6 46.7 31.5 24.3 31.7 41.7 48.3 29.  24.  25.1 31.5\n",
      " 23.7 23.3 22.  20.1 22.2 23.7 17.6 18.5 24.3 20.5 24.5 26.2 24.4 24.8\n",
      " 29.6 42.8 21.9 20.9 44.  50.  36.  30.1 33.8 43.1 48.8 31.  36.5 22.8\n",
      " 30.7 50.  43.5 20.7 21.1 25.2 24.4 35.2 32.4 32.  33.2 33.1 29.1 35.1\n",
      " 45.4 35.4 46.  50.  32.2 22.  20.1 23.2 22.3 24.8 28.5 37.3 27.9 23.9\n",
      " 21.7 28.6 27.1 20.3 22.5 29.  24.8 22.  26.4 33.1 36.1 28.4 33.4 28.2\n",
      " 22.8 20.3 16.1 22.1 19.4 21.6 23.8 16.2 17.8 19.8 23.1 21.  23.8 23.1\n",
      " 20.4 18.5 25.  24.6 23.  22.2 19.3 22.6 19.8 17.1 19.4 22.2 20.7 21.1\n",
      " 19.5 18.5 20.6 19.  18.7 32.7 16.5 23.9 31.2 17.5 17.2 23.1 24.5 26.6\n",
      " 22.9 24.1 18.6 30.1 18.2 20.6 17.8 21.7 22.7 22.6 25.  19.9 20.8 16.8\n",
      " 21.9 27.5 21.9 23.1 50.  50.  50.  50.  50.  13.8 13.8 15.  13.9 13.3\n",
      " 13.1 10.2 10.4 10.9 11.3 12.3  8.8  7.2 10.5  7.4 10.2 11.5 15.1 23.2\n",
      "  9.7 13.8 12.7 13.1 12.5  8.5  5.   6.3  5.6  7.2 12.1  8.3  8.5  5.\n",
      " 11.9 27.9 17.2 27.5 15.  17.2 17.9 16.3  7.   7.2  7.5 10.4  8.8  8.4\n",
      " 16.7 14.2 20.8 13.4 11.7  8.3 10.2 10.9 11.   9.5 14.5 14.1 16.1 14.3\n",
      " 11.7 13.4  9.6  8.7  8.4 12.8 10.5 17.1 18.4 15.4 10.8 11.8 14.9 12.6\n",
      " 14.1 13.  13.4 15.2 16.1 17.8 14.9 14.1 12.7 13.5 14.9 20.  16.4 17.7\n",
      " 19.5 20.2 21.4 19.9 19.  19.1 19.1 20.1 19.9 19.6 23.2 29.8 13.8 13.3\n",
      " 16.7 12.  14.6 21.4 23.  23.7 25.  21.8 20.6 21.2 19.1 20.6 15.2  7.\n",
      "  8.1 13.6 20.1 21.8 24.5 23.1 19.7 18.3 21.2 17.5 16.8 22.4 20.6 23.9\n",
      " 22.  11.9]\n"
     ]
    }
   ],
   "source": [
    "#target変数(目的変数)の中身を確認\n",
    "print(boston['target'])"
   ]
  },
  {
   "cell_type": "markdown",
   "id": "33fbec1d",
   "metadata": {},
   "source": [
    "### 2. データフレームの作成"
   ]
  },
  {
   "cell_type": "code",
   "execution_count": 13,
   "id": "2251a2fa",
   "metadata": {},
   "outputs": [
    {
     "data": {
      "text/html": [
       "<div>\n",
       "<style scoped>\n",
       "    .dataframe tbody tr th:only-of-type {\n",
       "        vertical-align: middle;\n",
       "    }\n",
       "\n",
       "    .dataframe tbody tr th {\n",
       "        vertical-align: top;\n",
       "    }\n",
       "\n",
       "    .dataframe thead th {\n",
       "        text-align: right;\n",
       "    }\n",
       "</style>\n",
       "<table border=\"1\" class=\"dataframe\">\n",
       "  <thead>\n",
       "    <tr style=\"text-align: right;\">\n",
       "      <th></th>\n",
       "      <th>CRIM</th>\n",
       "      <th>ZN</th>\n",
       "      <th>INDUS</th>\n",
       "      <th>CHAS</th>\n",
       "      <th>NOX</th>\n",
       "      <th>RM</th>\n",
       "      <th>AGE</th>\n",
       "      <th>DIS</th>\n",
       "      <th>RAD</th>\n",
       "      <th>TAX</th>\n",
       "      <th>PTRATIO</th>\n",
       "      <th>B</th>\n",
       "      <th>LSTAT</th>\n",
       "      <th>PRICE</th>\n",
       "    </tr>\n",
       "  </thead>\n",
       "  <tbody>\n",
       "    <tr>\n",
       "      <th>0</th>\n",
       "      <td>0.00632</td>\n",
       "      <td>18.0</td>\n",
       "      <td>2.31</td>\n",
       "      <td>0.0</td>\n",
       "      <td>0.538</td>\n",
       "      <td>6.575</td>\n",
       "      <td>65.2</td>\n",
       "      <td>4.0900</td>\n",
       "      <td>1.0</td>\n",
       "      <td>296.0</td>\n",
       "      <td>15.3</td>\n",
       "      <td>396.90</td>\n",
       "      <td>4.98</td>\n",
       "      <td>24.0</td>\n",
       "    </tr>\n",
       "    <tr>\n",
       "      <th>1</th>\n",
       "      <td>0.02731</td>\n",
       "      <td>0.0</td>\n",
       "      <td>7.07</td>\n",
       "      <td>0.0</td>\n",
       "      <td>0.469</td>\n",
       "      <td>6.421</td>\n",
       "      <td>78.9</td>\n",
       "      <td>4.9671</td>\n",
       "      <td>2.0</td>\n",
       "      <td>242.0</td>\n",
       "      <td>17.8</td>\n",
       "      <td>396.90</td>\n",
       "      <td>9.14</td>\n",
       "      <td>21.6</td>\n",
       "    </tr>\n",
       "    <tr>\n",
       "      <th>2</th>\n",
       "      <td>0.02729</td>\n",
       "      <td>0.0</td>\n",
       "      <td>7.07</td>\n",
       "      <td>0.0</td>\n",
       "      <td>0.469</td>\n",
       "      <td>7.185</td>\n",
       "      <td>61.1</td>\n",
       "      <td>4.9671</td>\n",
       "      <td>2.0</td>\n",
       "      <td>242.0</td>\n",
       "      <td>17.8</td>\n",
       "      <td>392.83</td>\n",
       "      <td>4.03</td>\n",
       "      <td>34.7</td>\n",
       "    </tr>\n",
       "    <tr>\n",
       "      <th>3</th>\n",
       "      <td>0.03237</td>\n",
       "      <td>0.0</td>\n",
       "      <td>2.18</td>\n",
       "      <td>0.0</td>\n",
       "      <td>0.458</td>\n",
       "      <td>6.998</td>\n",
       "      <td>45.8</td>\n",
       "      <td>6.0622</td>\n",
       "      <td>3.0</td>\n",
       "      <td>222.0</td>\n",
       "      <td>18.7</td>\n",
       "      <td>394.63</td>\n",
       "      <td>2.94</td>\n",
       "      <td>33.4</td>\n",
       "    </tr>\n",
       "    <tr>\n",
       "      <th>4</th>\n",
       "      <td>0.06905</td>\n",
       "      <td>0.0</td>\n",
       "      <td>2.18</td>\n",
       "      <td>0.0</td>\n",
       "      <td>0.458</td>\n",
       "      <td>7.147</td>\n",
       "      <td>54.2</td>\n",
       "      <td>6.0622</td>\n",
       "      <td>3.0</td>\n",
       "      <td>222.0</td>\n",
       "      <td>18.7</td>\n",
       "      <td>396.90</td>\n",
       "      <td>5.33</td>\n",
       "      <td>36.2</td>\n",
       "    </tr>\n",
       "  </tbody>\n",
       "</table>\n",
       "</div>"
      ],
      "text/plain": [
       "      CRIM    ZN  INDUS  CHAS    NOX     RM   AGE     DIS  RAD    TAX  \\\n",
       "0  0.00632  18.0   2.31   0.0  0.538  6.575  65.2  4.0900  1.0  296.0   \n",
       "1  0.02731   0.0   7.07   0.0  0.469  6.421  78.9  4.9671  2.0  242.0   \n",
       "2  0.02729   0.0   7.07   0.0  0.469  7.185  61.1  4.9671  2.0  242.0   \n",
       "3  0.03237   0.0   2.18   0.0  0.458  6.998  45.8  6.0622  3.0  222.0   \n",
       "4  0.06905   0.0   2.18   0.0  0.458  7.147  54.2  6.0622  3.0  222.0   \n",
       "\n",
       "   PTRATIO       B  LSTAT  PRICE  \n",
       "0     15.3  396.90   4.98   24.0  \n",
       "1     17.8  396.90   9.14   21.6  \n",
       "2     17.8  392.83   4.03   34.7  \n",
       "3     18.7  394.63   2.94   33.4  \n",
       "4     18.7  396.90   5.33   36.2  "
      ]
     },
     "execution_count": 13,
     "metadata": {},
     "output_type": "execute_result"
    }
   ],
   "source": [
    "#　説明変数らをDataFrameへ変換\n",
    "df = DataFrame(data=boston.data, columns = boston.feature_names)\n",
    "# 目的変数をDataFrameへ追加\n",
    "df['PRICE'] = np.array(boston.target)\n",
    "# 最初の5行を表示\n",
    "df.head(5)"
   ]
  },
  {
   "cell_type": "markdown",
   "id": "63df9f2d",
   "metadata": {},
   "source": [
    "### 線形単回帰分析"
   ]
  },
  {
   "cell_type": "code",
   "execution_count": 15,
   "id": "2c76e771",
   "metadata": {},
   "outputs": [
    {
     "data": {
      "text/plain": [
       "array([[6.575],\n",
       "       [6.421],\n",
       "       [7.185],\n",
       "       [6.998],\n",
       "       [7.147]])"
      ]
     },
     "execution_count": 15,
     "metadata": {},
     "output_type": "execute_result"
    }
   ],
   "source": [
    "#カラムを指定してデータを表示\n",
    "df[['RM']].head()\n",
    "# 説明変数\n",
    "data = df.loc[:, ['RM']].values\n",
    "#dataリストの表示(1-5)\n",
    "data[0:5]"
   ]
  },
  {
   "cell_type": "code",
   "execution_count": 16,
   "id": "1e884b2d",
   "metadata": {},
   "outputs": [
    {
     "data": {
      "text/plain": [
       "array([24. , 21.6, 34.7, 33.4, 36.2])"
      ]
     },
     "execution_count": 16,
     "metadata": {},
     "output_type": "execute_result"
    }
   ],
   "source": [
    "# 目的変数\n",
    "target = df.loc[:, 'PRICE'].values\n",
    "target[0:5]"
   ]
  },
  {
   "cell_type": "code",
   "execution_count": 21,
   "id": "72fc4174",
   "metadata": {},
   "outputs": [
    {
     "data": {
      "text/plain": [
       "LinearRegression()"
      ]
     },
     "execution_count": 21,
     "metadata": {},
     "output_type": "execute_result"
    }
   ],
   "source": [
    "## sklearnモジュールからLinearRegressionをインポート\n",
    "from sklearn.linear_model import LinearRegression\n",
    "# オブジェクト生成\n",
    "model = LinearRegression()\n",
    "#model.get_params()\n",
    "#model = LinearRegression(fit_intercept = True, normalize = False, copy_X = True,  n_jobs = 1)\n",
    "# fit関数でパラメータ推定\n",
    "model.fit(data, target)"
   ]
  },
  {
   "cell_type": "code",
   "execution_count": 22,
   "id": "925c607a",
   "metadata": {},
   "outputs": [
    {
     "data": {
      "text/plain": [
       "array([-25.5685118])"
      ]
     },
     "execution_count": 22,
     "metadata": {},
     "output_type": "execute_result"
    }
   ],
   "source": [
    "#予測\n",
    "model.predict([[1]])"
   ]
  },
  {
   "cell_type": "markdown",
   "id": "4a8f6489",
   "metadata": {},
   "source": [
    "### 重回帰分析(2変数)"
   ]
  },
  {
   "cell_type": "code",
   "execution_count": 24,
   "id": "77f19417",
   "metadata": {},
   "outputs": [
    {
     "data": {
      "text/html": [
       "<div>\n",
       "<style scoped>\n",
       "    .dataframe tbody tr th:only-of-type {\n",
       "        vertical-align: middle;\n",
       "    }\n",
       "\n",
       "    .dataframe tbody tr th {\n",
       "        vertical-align: top;\n",
       "    }\n",
       "\n",
       "    .dataframe thead th {\n",
       "        text-align: right;\n",
       "    }\n",
       "</style>\n",
       "<table border=\"1\" class=\"dataframe\">\n",
       "  <thead>\n",
       "    <tr style=\"text-align: right;\">\n",
       "      <th></th>\n",
       "      <th>CRIM</th>\n",
       "      <th>RM</th>\n",
       "    </tr>\n",
       "  </thead>\n",
       "  <tbody>\n",
       "    <tr>\n",
       "      <th>0</th>\n",
       "      <td>0.00632</td>\n",
       "      <td>6.575</td>\n",
       "    </tr>\n",
       "    <tr>\n",
       "      <th>1</th>\n",
       "      <td>0.02731</td>\n",
       "      <td>6.421</td>\n",
       "    </tr>\n",
       "    <tr>\n",
       "      <th>2</th>\n",
       "      <td>0.02729</td>\n",
       "      <td>7.185</td>\n",
       "    </tr>\n",
       "    <tr>\n",
       "      <th>3</th>\n",
       "      <td>0.03237</td>\n",
       "      <td>6.998</td>\n",
       "    </tr>\n",
       "    <tr>\n",
       "      <th>4</th>\n",
       "      <td>0.06905</td>\n",
       "      <td>7.147</td>\n",
       "    </tr>\n",
       "  </tbody>\n",
       "</table>\n",
       "</div>"
      ],
      "text/plain": [
       "      CRIM     RM\n",
       "0  0.00632  6.575\n",
       "1  0.02731  6.421\n",
       "2  0.02729  7.185\n",
       "3  0.03237  6.998\n",
       "4  0.06905  7.147"
      ]
     },
     "execution_count": 24,
     "metadata": {},
     "output_type": "execute_result"
    }
   ],
   "source": [
    "#カラムを指定してデータを表示\n",
    "df[['CRIM', 'RM']].head()"
   ]
  },
  {
   "cell_type": "code",
   "execution_count": 28,
   "id": "b3c0f19d",
   "metadata": {},
   "outputs": [
    {
     "data": {
      "text/plain": [
       "array([29.43977562])"
      ]
     },
     "execution_count": 28,
     "metadata": {},
     "output_type": "execute_result"
    }
   ],
   "source": [
    "# 説明変数\n",
    "data2 = df.loc[:, ['CRIM', 'RM']].values\n",
    "# 目的変数\n",
    "target2 = df.loc[:, 'PRICE'].values\n",
    "#オブジェクト生成\n",
    "model2 = LinearRegression()\n",
    "# fit関数でパラメータ推定\n",
    "model2.fit(data2, target2)\n",
    "model2.predict([[0.2, 7]])"
   ]
  },
  {
   "cell_type": "markdown",
   "id": "699b4a58",
   "metadata": {},
   "source": [
    "### 回帰係数と切片の値を確認"
   ]
  },
  {
   "cell_type": "code",
   "execution_count": 29,
   "id": "907789e1",
   "metadata": {},
   "outputs": [
    {
     "name": "stdout",
     "output_type": "stream",
     "text": [
      "推定された回帰係数: 9.102, 推定された切片 : -34.671\n"
     ]
    }
   ],
   "source": [
    "# 単回帰の回帰係数と切片を出力\n",
    "print('推定された回帰係数: %.3f, 推定された切片 : %.3f' % (model.coef_, model.intercept_))"
   ]
  },
  {
   "cell_type": "code",
   "execution_count": 30,
   "id": "d15b87ad",
   "metadata": {},
   "outputs": [
    {
     "name": "stdout",
     "output_type": "stream",
     "text": [
      "[9.10210898]\n",
      "-34.67062077643857\n"
     ]
    }
   ],
   "source": [
    "# 重回帰の回帰係数と切片を出力\n",
    "print(model.coef_)\n",
    "print(model.intercept_)"
   ]
  },
  {
   "cell_type": "markdown",
   "id": "4168560c",
   "metadata": {},
   "source": [
    "### モデルの検証\n",
    "#### 1. 決定係数\n",
    "#### 決定係数\n",
    "#### print('単回帰決定係数: %.3f, 重回帰決定係数 : %.3f' % (model.score(data,target), model2.score(data2,target2)))"
   ]
  },
  {
   "cell_type": "code",
   "execution_count": 31,
   "id": "e24591ec",
   "metadata": {},
   "outputs": [
    {
     "name": "stdout",
     "output_type": "stream",
     "text": [
      "単回帰決定係数: 0.484, 重回帰決定係数 : 0.542\n"
     ]
    }
   ],
   "source": [
    "#### 決定係数\n",
    "print('単回帰決定係数: %.3f, 重回帰決定係数 : %.3f' % (model.score(data,target), model2.score(data2,target2)))"
   ]
  },
  {
   "cell_type": "code",
   "execution_count": 32,
   "id": "335f5ec8",
   "metadata": {},
   "outputs": [],
   "source": [
    "# train_test_splitをインポート\n",
    "from sklearn.model_selection import train_test_split"
   ]
  },
  {
   "cell_type": "code",
   "execution_count": 33,
   "id": "bff5f7b5",
   "metadata": {},
   "outputs": [],
   "source": [
    "# 70%を学習用、30%を検証用データにするよう分割\n",
    "X_train, X_test, y_train, y_test = train_test_split(data, target, \n",
    "test_size = 0.3, random_state = 666)\n",
    "# 学習用データでパラメータ推定\n",
    "model.fit(X_train, y_train)\n",
    "# 作成したモデルから予測（学習用、検証用モデル使用）\n",
    "y_train_pred = model.predict(X_train)\n",
    "y_test_pred = model.predict(X_test)"
   ]
  },
  {
   "cell_type": "code",
   "execution_count": 34,
   "id": "fee40b34",
   "metadata": {
    "scrolled": true
   },
   "outputs": [
    {
     "data": {
      "image/png": "[encoded data removed]",
      "text/plain": [
       "<Figure size 432x288 with 1 Axes>"
      ]
     },
     "metadata": {
      "needs_background": "light"
     },
     "output_type": "display_data"
    }
   ],
   "source": [
    "# matplotlibをインポート\n",
    "import matplotlib.pyplot as plt\n",
    "# Jupyterを利用していたら、以下のおまじないを書くとnotebook上に図が表示\n",
    "%matplotlib inline\n",
    "# 学習用、検証用それぞれで残差をプロット\n",
    "plt.scatter(y_train_pred, y_train_pred - y_train, c = 'blue', marker = 'o', label = 'Train Data')\n",
    "plt.scatter(y_test_pred, y_test_pred - y_test, c = 'lightgreen', marker = 's', label = 'Test Data')\n",
    "plt.xlabel('Predicted Values')\n",
    "plt.ylabel('Residuals')\n",
    "# 凡例を左上に表示\n",
    "plt.legend(loc = 'upper left')\n",
    "# y = 0に直線を引く\n",
    "plt.hlines(y = 0, xmin = -10, xmax = 50, lw = 2, color = 'red')\n",
    "plt.xlim([10, 50])\n",
    "plt.show()"
   ]
  },
  {
   "cell_type": "markdown",
   "id": "08bd5fef",
   "metadata": {},
   "source": [
    "## 2,非線形回帰モデル\n",
    "## 3.ロジスティック回帰モデル\n",
    "## 4.主成分分析\n",
    "## 5.アルゴリズム\n",
    "## 6.サポートベクターマシーン\n",
    "### 1.1.1行列とは？\n",
    "#### &emsp;&emsp;スカラ―を表にしたもの。\n",
    "#### &emsp;&emsp;ベクトルを並べたもの\n",
    "#### &emsp;&emsp;&emsp;&emsp;→何に使うのか？\n",
    "#### &emsp;&emsp;&emsp;&emsp;&emsp;1.ベクトルの変換\n",
    "#### &emsp;&emsp;&emsp;&emsp;&emsp;2.連立方程式を解く\n",
    "##### &emsp;&emsp; 以下の連立方程式"
   ]
  },
  {
   "cell_type": "code",
   "execution_count": null,
   "id": "cf684582",
   "metadata": {},
   "outputs": [],
   "source": []
  },
  {
   "cell_type": "markdown",
   "id": "0c8da0cb",
   "metadata": {},
   "source": [
    "$$\n",
    "        \\begin{cases}\n",
    "             &x_1  &+ &2x_2 &= 3 　\\\\\n",
    "             &2x_1 &+ &5x_2 &= 5 　\\\\ \n",
    "        \\end{cases}\n",
    "$$"
   ]
  },
  {
   "cell_type": "markdown",
   "id": "9560843a",
   "metadata": {},
   "source": [
    "##### &emsp;&emsp; 行列式で表すと以下の式になる。"
   ]
  },
  {
   "cell_type": "markdown",
   "id": "6d6d0d7e",
   "metadata": {},
   "source": [
    "$$\n",
    "A\\vec{x} = \\vec{b}\n",
    "$$\n",
    "$$\n",
    "\\left(\n",
    "    \\begin{matrix} \n",
    "1 & 2 \\\\ 2 & 5 \n",
    "\\end{matrix} \n",
    "\\right)\n",
    "\\left(\n",
    "    \\begin{matrix} \n",
    "x_1 \\\\ x_2 \n",
    "\\end{matrix} \n",
    "    \\right)  \n",
    "=\n",
    "    \\left(\n",
    "    \\begin{matrix} \n",
    "3 \\\\ 5 \n",
    "\\end{matrix} \n",
    "    \\right)  \n",
    "$$"
   ]
  },
  {
   "cell_type": "markdown",
   "id": "d4ce14a1",
   "metadata": {},
   "source": [
    "##### 1.1.2 行列とベクトルの積"
   ]
  },
  {
   "cell_type": "markdown",
   "id": "aa879d59",
   "metadata": {},
   "source": [
    "$$\n",
    "\\left(\n",
    "    \\begin{matrix} \n",
    "6& 4\\\\ 3& 5 \n",
    "\\end{matrix} \n",
    "\\right)\n",
    "\\left(\n",
    "    \\begin{matrix} \n",
    "1 \\\\ 2 \n",
    "\\end{matrix} \n",
    "    \\right)  \n",
    "=\n",
    "    \\left(\n",
    "    \\begin{matrix} \n",
    "6*1+4*2 \\\\ 3*1+5*2 \n",
    "\\end{matrix} \n",
    "    \\right)  \n",
    "=\n",
    "    \\left(\n",
    "    \\begin{matrix} \n",
    "14 \\\\ 13 \n",
    "\\end{matrix} \n",
    "    \\right)  \n",
    "$$"
   ]
  },
  {
   "cell_type": "markdown",
   "id": "ab82f1d9",
   "metadata": {},
   "source": [
    "行列の積は、先の行列の\"行\"と後の行列の\"列”の積を和したものになる。"
   ]
  },
  {
   "cell_type": "markdown",
   "id": "4aa00edf",
   "metadata": {},
   "source": [
    "例："
   ]
  },
  {
   "cell_type": "markdown",
   "id": "0f350395",
   "metadata": {},
   "source": [
    "$$\n",
    "\\begin{matrix}\n",
    "\\left[\n",
    "\\begin{array}{ccc}\n",
    "a_{11} & a_{12} & a_{13} \\\\\n",
    "a_{21} & a_{22} & a_{23} \\\\\n",
    "a_{31} & a_{32} & a_{33} \\\\\n",
    "\\end{array}\n",
    "\\right]\n",
    "\\end{matrix}\n",
    "\\begin{matrix}\n",
    "\\left[\n",
    "\\begin{array}{ccc}\n",
    "b_{11} & b_{12} & b_{13} \\\\\n",
    "b_{21} & b_{22} & b_{23} \\\\\n",
    "b_{31} & b_{32} & b_{33} \\\\\n",
    "\\end{array}\n",
    "\\right]\n",
    "\\end{matrix}\n",
    "=\n",
    "\\begin{matrix}\n",
    "\\left[\n",
    "\\begin{array}{ccc}\n",
    "a_{11}*b_{11}+a_{12}*b_{21}+ a_{13}*b_{31}& \\cdots &  \\cdots \\\\\n",
    " \\cdots & a_{21}*b_{12}+a_{22}*b_{22}+ a_{23}*b_{32} & \\cdots \\\\\n",
    " \\cdots & \\cdots &a_{31}*b_{13}+a_{32}*b_{23}+ a_{33}*b_{33} \\\\\n",
    "\\end{array}\n",
    "\\right]\n",
    "\\end{matrix}\n",
    "$$"
   ]
  },
  {
   "cell_type": "markdown",
   "id": "e5aabeff",
   "metadata": {},
   "source": [
    "##### 1.1.3 行基本変換\n",
    "　　行列式で連立方程式を解く場合、**行列基本変形**を行い左辺の行列を単位行列に変換する。その場合右辺が方程式の解となる。"
   ]
  },
  {
   "cell_type": "markdown",
   "id": "d293aae8",
   "metadata": {},
   "source": [
    "###### &nbsp;&nbsp;&nbsp;&nbsp;**行基本変形の方法：**\n",
    "&nbsp;&nbsp;&nbsp;&nbsp;①.K列をC倍  \n",
    "&nbsp;&nbsp;&nbsp;&nbsp;②.S行目にt行目のC倍を加える  \n",
    "&nbsp;&nbsp;&nbsp;&nbsp;③.P行目とq行目を入れ替え  "
   ]
  },
  {
   "cell_type": "markdown",
   "id": "2a8b17dd",
   "metadata": {},
   "source": [
    "&nbsp;&nbsp;&nbsp;&nbsp;&nbsp;&nbsp;&nbsp;&nbsp;行基本変形の例：  "
   ]
  },
  {
   "cell_type": "markdown",
   "id": "a3d5ad4a",
   "metadata": {},
   "source": [
    "$$\n",
    "\\left(\n",
    "    \\begin{matrix} \n",
    "1 & 4 \\\\ 2 & 6 \n",
    "\\end{matrix} \n",
    "\\right)\n",
    "\\left(\n",
    "    \\begin{matrix} \n",
    "x_1 \\\\ x_2 \n",
    "\\end{matrix} \n",
    "    \\right)  \n",
    "=\n",
    "    \\left(\n",
    "    \\begin{matrix} \n",
    "7 \\\\ 10 \n",
    "\\end{matrix} \n",
    "    \\right)  \n",
    "$$\n",
    "$$\n",
    "\\downarrow\n",
    "$$\n",
    "$$\n",
    "\\left(\n",
    "    \\begin{matrix} \n",
    "1 & 4 \\\\ 1 & 3 \n",
    "\\end{matrix} \n",
    "\\right)\n",
    "\\left(\n",
    "    \\begin{matrix} \n",
    "x_1 \\\\ x_2 \n",
    "\\end{matrix} \n",
    "    \\right)  \n",
    "=\n",
    "    \\left(\n",
    "    \\begin{matrix} \n",
    "7 \\\\ 5 \n",
    "\\end{matrix} \n",
    "    \\right)  \n",
    "$$\n",
    "$$\n",
    "\\downarrow\n",
    "$$\n",
    "$$\n",
    "\\left(\n",
    "    \\begin{matrix} \n",
    "0 & 1 \\\\ 1 & 3 \n",
    "\\end{matrix} \n",
    "\\right)\n",
    "\\left(\n",
    "    \\begin{matrix} \n",
    "x_1 \\\\ x_2 \n",
    "\\end{matrix} \n",
    "    \\right)  \n",
    "=\n",
    "    \\left(\n",
    "    \\begin{matrix} \n",
    "2 \\\\ 5 \n",
    "\\end{matrix} \n",
    "    \\right)  \n",
    "$$\n",
    "$$\n",
    "\\downarrow\n",
    "$$\n",
    "$$\n",
    "\\left(\n",
    "    \\begin{matrix} \n",
    "0 & 1 \\\\ 1 & 0 \n",
    "\\end{matrix} \n",
    "\\right)\n",
    "\\left(\n",
    "    \\begin{matrix} \n",
    "x_1 \\\\ x_2 \n",
    "\\end{matrix} \n",
    "    \\right)  \n",
    "=\n",
    "    \\left(\n",
    "    \\begin{matrix} \n",
    "2 \\\\ -1 \n",
    "\\end{matrix} \n",
    "    \\right)  \n",
    "$$\n",
    "$$\n",
    "\\downarrow\n",
    "$$\n",
    "$$\n",
    "\\left(\n",
    "    \\begin{matrix} \n",
    "1 & 0 \\\\ 0 & 1 \n",
    "\\end{matrix} \n",
    "\\right)\n",
    "\\left(\n",
    "    \\begin{matrix} \n",
    "x_1 \\\\ x_2 \n",
    "\\end{matrix} \n",
    "    \\right)  \n",
    "=\n",
    "    \\left(\n",
    "    \\begin{matrix} \n",
    "-1 \\\\ 2 \n",
    "\\end{matrix} \n",
    "    \\right)  \n",
    "$$"
   ]
  },
  {
   "cell_type": "markdown",
   "id": "1e2ea403",
   "metadata": {},
   "source": [
    "###### 左辺の行列が**単位行列**になると完了。"
   ]
  },
  {
   "cell_type": "markdown",
   "id": "baaa2b17",
   "metadata": {},
   "source": [
    "##### 1.1.4 行列の逆数"
   ]
  },
  {
   "cell_type": "markdown",
   "id": "1c9366ab",
   "metadata": {},
   "source": [
    "$$\n",
    "\\left(\n",
    "    \\begin{matrix} \n",
    "1 & 4 \\\\ 2 & 6 \n",
    "\\end{matrix} \n",
    "\\right)\n",
    "\\left(\n",
    "    \\begin{matrix} \n",
    "x_1 \\\\ x_2 \n",
    "\\end{matrix} \n",
    "    \\right)  \n",
    "=\n",
    "    \\left(\n",
    "    \\begin{matrix} \n",
    "7 \\\\ 10 \n",
    "\\end{matrix} \n",
    "    \\right)  \n",
    "$$"
   ]
  },
  {
   "cell_type": "markdown",
   "id": "1cf4daf3",
   "metadata": {},
   "source": [
    "行列の変換を一つの列で表すと"
   ]
  },
  {
   "cell_type": "markdown",
   "id": "4965f5d7",
   "metadata": {},
   "source": [
    "$$\n",
    "\\left(\n",
    "    \\begin{matrix} \n",
    "1 & 0 \\\\ 0 & 1 \n",
    "\\end{matrix} \n",
    "\\right)\n",
    "\\left(\n",
    "    \\begin{matrix} \n",
    "1 & 0 \\\\ -3 & 1 \n",
    "\\end{matrix} \n",
    "\\right)\n",
    "\\left(\n",
    "    \\begin{matrix} \n",
    "1 & -1 \\\\ 0 & 1 \n",
    "\\end{matrix} \n",
    "\\right)\n",
    "\\left(\n",
    "    \\begin{matrix} \n",
    "1 & 0 \\\\ 0 & 1/2 \n",
    "\\end{matrix} \n",
    "\\right)\n",
    "\\left(\n",
    "    \\begin{matrix} \n",
    "1 & 4 \\\\ 2 & 6 \n",
    "\\end{matrix} \n",
    "\\right)\n",
    "\\left(\n",
    "    \\begin{matrix} \n",
    "x_1 \\\\ x_2 \n",
    "\\end{matrix} \n",
    "    \\right)  \n",
    "=\n",
    "\\left(\n",
    "    \\begin{matrix} \n",
    "0 & 1 \\\\ 1 & 0 \n",
    "\\end{matrix} \n",
    "\\right)\n",
    "\\left(\n",
    "    \\begin{matrix} \n",
    "1 & 0 \\\\ -3 & 1 \n",
    "\\end{matrix} \n",
    "\\right)\n",
    "\\left(\n",
    "    \\begin{matrix} \n",
    "1 & -1 \\\\ 0 & 1 \n",
    "\\end{matrix} \n",
    "\\right)\n",
    "\\left(\n",
    "    \\begin{matrix} \n",
    "1 & 0 \\\\ 0 & \\frac{1}{2} \n",
    "\\end{matrix} \n",
    "\\right)\n",
    "    \\left(\n",
    "    \\begin{matrix} \n",
    "7 \\\\ 10 \n",
    "\\end{matrix} \n",
    "    \\right)  \n",
    "$$\n",
    "$$\n",
    "\\left(\n",
    "    \\begin{matrix} \n",
    "-3 & 2 \\\\ 1 & -1/2  \n",
    "\\end{matrix} \n",
    "\\right)\n",
    "\\left(\n",
    "    \\begin{matrix} \n",
    "1 & 4 \\\\ 2 & 6 \n",
    "\\end{matrix} \n",
    "\\right)\n",
    "\\left(\n",
    "    \\begin{matrix} \n",
    "x_1 \\\\ x_2 \n",
    "\\end{matrix} \n",
    "    \\right)  \n",
    "=\n",
    "\\left(\n",
    "    \\begin{matrix} \n",
    "-3 & 2 \\\\ 1 & - \\frac{1}{2} \n",
    "\\end{matrix} \n",
    "\\right)\n",
    "\\left(\n",
    "    \\begin{matrix} \n",
    "7 \\\\ 10 \n",
    "\\end{matrix} \n",
    "    \\right)  \n",
    "$$"
   ]
  },
  {
   "cell_type": "markdown",
   "id": "c4d63f46",
   "metadata": {},
   "source": [
    "#### 1.1.5 単位行列"
   ]
  },
  {
   "cell_type": "markdown",
   "id": "ede049ba",
   "metadata": {},
   "source": [
    "###### &emsp;&emsp;&emsp;行列式と掛けても(積しても）行列式の値が変化しない行列"
   ]
  },
  {
   "cell_type": "markdown",
   "id": "089e84d0",
   "metadata": {},
   "source": [
    "$$\n",
    "\\left(\n",
    "    \\begin{matrix} \n",
    "1 & 0 \\\\ 0 & 1 \n",
    "\\end{matrix} \n",
    "\\right)\n",
    "\\left(\n",
    "    \\begin{matrix}  \n",
    "2 & 3 \\\\ 1 & 9 \n",
    "\\end{matrix} \n",
    "\\right)\n",
    "=\n",
    "\\left(\n",
    "    \\begin{matrix}  \n",
    "2 & 3 \\\\ 1 & 9 \n",
    "\\end{matrix} \n",
    "\\right)\n",
    ",\n",
    "\\left(\n",
    "    \\begin{matrix} \n",
    "2 & 3 \\\\ 1 & 9 \n",
    "\\end{matrix} \n",
    "\\right)\n",
    "\\left(\n",
    "    \\begin{matrix}  \n",
    "1 & 0 \\\\ 0 & 1 \n",
    "\\end{matrix} \n",
    "\\right)\n",
    "=\n",
    "\\left(\n",
    "    \\begin{matrix}  \n",
    "2 & 3 \\\\ 1 & 9 \n",
    "\\end{matrix} \n",
    "\\right)\n",
    "$$"
   ]
  },
  {
   "cell_type": "markdown",
   "id": "1860c6de",
   "metadata": {},
   "source": [
    "$$  \n",
    "　A・A^{-1}　= A^{-1}・A = I\n",
    "$$  "
   ]
  },
  {
   "cell_type": "markdown",
   "id": "51483d1b",
   "metadata": {},
   "source": [
    "#### 1.1.6　逆行列の作り方"
   ]
  },
  {
   "cell_type": "markdown",
   "id": "43969ced",
   "metadata": {},
   "source": [
    "###### &emsp;&emsp;&emsp;　以下の行列をガウスの掃き出し法（行基本変形)使って逆行列を求める。"
   ]
  },
  {
   "cell_type": "markdown",
   "id": "896f6564",
   "metadata": {},
   "source": [
    "$$\n",
    "\\left(\n",
    "    \\begin{matrix} \n",
    "1 & 4 \\\\ 2 & 6 \n",
    "\\end{matrix} \n",
    "\\right)\n",
    "\\left(\n",
    "    \\begin{matrix} \n",
    "x_1 \\\\ x_2 \n",
    "\\end{matrix} \n",
    "    \\right)  \n",
    "=\n",
    "    \\left(\n",
    "    \\begin{matrix} \n",
    "7 \\\\ 10 \n",
    "\\end{matrix} \n",
    "    \\right)  \n",
    "$$\n",
    "$$\n",
    "\\left(\n",
    "    \\begin{matrix} \n",
    "1 & 4 \\\\ 2 & 6 \n",
    "\\end{matrix} \n",
    "\\right)\n",
    "\\left(\n",
    "    \\begin{matrix} \n",
    "x_1 \\\\ x_2 \n",
    "\\end{matrix} \n",
    "    \\right)  \n",
    "=\n",
    "\\left(\n",
    "    \\begin{matrix} \n",
    "1 & 0 \\\\ 0 & 1 \n",
    "\\end{matrix} \n",
    "\\right)\n",
    "    \\left(\n",
    "    \\begin{matrix} \n",
    "7 \\\\ 10 \n",
    "\\end{matrix} \n",
    "    \\right)  \n",
    "$$"
   ]
  },
  {
   "cell_type": "markdown",
   "id": "25f4a5e7",
   "metadata": {},
   "source": [
    "###### &emsp;&emsp;&emsp;&emsp;手順："
   ]
  },
  {
   "cell_type": "markdown",
   "id": "06b1fb6c",
   "metadata": {},
   "source": [
    "$$\n",
    "\\left(\n",
    "    \\begin{array}{cc|cc} \n",
    "1 & 4 & 1& 0 \\\\ 2 & 6 & 0 & 1 \n",
    "\\end{array} \n",
    "\\right)\n",
    "$$\n",
    "$$\n",
    "\\downarrow\n",
    "$$\n",
    "$$\n",
    "\\left(\n",
    "    \\begin{array}{cc|cc} \n",
    "1 & 4 & 1& 0 \\\\ 1 & 3 & 0 & \\frac{1}{2} \n",
    "\\end{array} \n",
    "\\right)\n",
    "$$\n",
    "$$\n",
    "\\downarrow\n",
    "$$\n",
    "$$\n",
    "\\left(\n",
    "    \\begin{array}{cc|cc} \n",
    "0 & 1 & 1 & -\\frac{1}{2}  \\\\ 1 & 3 & 0 & \\frac{1}{2} \n",
    "\\end{array} \n",
    "\\right)\n",
    "$$\n",
    "$$\n",
    "\\downarrow\n",
    "$$\n",
    "$$\n",
    "\\left(\n",
    "    \\begin{array}{cc|cc} \n",
    "0 & 1 & 1 & -\\frac{1}{2}  \\\\ 1 & 0 & -3 & 2 \n",
    "\\end{array} \n",
    "\\right)\n",
    "$$\n",
    "$$\n",
    "\\downarrow\n",
    "$$\n",
    "$$\n",
    "\\left(\n",
    "    \\begin{array}{cc|cc} \n",
    "1 & 0 & -3 & 2 \\\\ 0 & 1 & 1 & -\\frac{1}{2} \n",
    "\\end{array} \n",
    "\\right)\n",
    "$$"
   ]
  },
  {
   "cell_type": "markdown",
   "id": "f34f4b29",
   "metadata": {},
   "source": [
    "#### 1.1.7　逆行列が存在しないケース"
   ]
  },
  {
   "cell_type": "markdown",
   "id": "fb5b4393",
   "metadata": {},
   "source": [
    "&emsp;&emsp;&emsp;&emsp; 平行になって交わらない"
   ]
  },
  {
   "cell_type": "markdown",
   "id": "574019ea",
   "metadata": {},
   "source": [
    "  "
   ]
  },
  {
   "cell_type": "markdown",
   "id": "491e35a4",
   "metadata": {},
   "source": [
    "$$  \n",
    "x_1 + 4x_2 = 7 \\\\\n",
    "x_1 + 4x_2 = 7\n",
    "$$  "
   ]
  },
  {
   "cell_type": "markdown",
   "id": "ef44b20b",
   "metadata": {},
   "source": [
    "&emsp;&emsp;&emsp;&emsp;解が定まらない"
   ]
  },
  {
   "cell_type": "markdown",
   "id": "2fabc3ad",
   "metadata": {},
   "source": [
    "$$  \n",
    "x_1 + 4x_2 = 7 \\\\\n",
    "2x_1 + 8x_2 = 14\n",
    "$$ "
   ]
  },
  {
   "cell_type": "markdown",
   "id": "c0d4d8e7",
   "metadata": {},
   "source": [
    "&emsp;&emsp;&emsp;&emsp;形式的には、"
   ]
  },
  {
   "cell_type": "markdown",
   "id": "ac83e952",
   "metadata": {},
   "source": [
    "$$\n",
    "\\left(\n",
    "    \\begin{matrix} \n",
    "a & b \\\\ c & d \n",
    "\\end{matrix} \n",
    "\\right)\n",
    "$$\n",
    "$  a:b \\neq c:d $ 逆行列の解を持つ $\\\\  $  $  a:b = c:d $ 逆行列の解を持たない"
   ]
  },
  {
   "cell_type": "markdown",
   "id": "4d980d99",
   "metadata": {},
   "source": [
    "#### 1.1.8　逆行列の判別"
   ]
  },
  {
   "cell_type": "markdown",
   "id": "f433930b",
   "metadata": {},
   "source": [
    "\n",
    "$$\n",
    "\\left(\n",
    "    \\begin{matrix} \n",
    "a & b \\\\ c & d \n",
    "\\end{matrix} \n",
    "\\right)\n",
    " =\n",
    "\\left(\n",
    "    \\begin{matrix} \n",
    "    \\vec{v_1} \\\\ \\vec{v_2} \n",
    "\\end{matrix} \n",
    "\\right)\n",
    "$$"
   ]
  },
  {
   "cell_type": "markdown",
   "id": "1dbfa0bd",
   "metadata": {},
   "source": [
    "##### rule1 .同じものを含むと0になる"
   ]
  },
  {
   "cell_type": "markdown",
   "id": "fc99fd34",
   "metadata": {},
   "source": [
    "$$ \n",
    "\\begin{vmatrix}\n",
    "\\vec{v_1} \\\\ \\vec{v_2} \\\\ \\vec{v_3}\n",
    "\\end{vmatrix}\n",
    " = 0\n",
    "$$"
   ]
  },
  {
   "cell_type": "markdown",
   "id": "92394c0e",
   "metadata": {},
   "source": [
    "##### rule 2 .１つのベクトルがλ倍されると行列式はλ倍される"
   ]
  },
  {
   "cell_type": "markdown",
   "id": "793a4e88",
   "metadata": {},
   "source": [
    "$$ \n",
    "\\begin{vmatrix}\n",
    "\\vec{v_1} \\\\ \\vec{v_2} \\\\ \\vec{v_3}\n",
    "\\end{vmatrix}\n",
    " = \n",
    "\\lambda\n",
    "\\begin{vmatrix}\n",
    "\\vec{v_1} \\\\ \\vec{v_2} \\\\ \\vec{v_3}\n",
    "\\end{vmatrix}\n",
    "$$"
   ]
  },
  {
   "cell_type": "markdown",
   "id": "8db5e11c",
   "metadata": {},
   "source": [
    "##### rule 3.１つのベクトルがλ倍されると行列式はλ倍される"
   ]
  },
  {
   "cell_type": "markdown",
   "id": "ad070da4",
   "metadata": {},
   "source": [
    "$$ \n",
    "\\begin{vmatrix}\n",
    "\\vec{v_1} \\\\ \\vec{v_2} + \\vec{w}  \\\\ \\vec{v_3}\n",
    "\\end{vmatrix}\n",
    " = \n",
    "\\begin{vmatrix}\n",
    "\\vec{v_1} \\\\ \\vec{v_2} \\\\ \\vec{v_3}\n",
    "\\end{vmatrix}\n",
    "+ \n",
    "\\begin{vmatrix}\n",
    "\\vec{v_1} \\\\ \\vec{w} \\\\ \\vec{v_3}\n",
    "\\end{vmatrix}\n",
    "$$"
   ]
  },
  {
   "cell_type": "markdown",
   "id": "d4b4b8e1",
   "metadata": {},
   "source": [
    "##### rule 4.行を入れ替えると符号が変わる"
   ]
  },
  {
   "cell_type": "markdown",
   "id": "671e0cfd",
   "metadata": {},
   "source": [
    "$$ \n",
    "\\begin{vmatrix}\n",
    "\\vec{v_1} \\\\ \\vec{v_2} \\\\  \\vec{v_3}  \\\\ \\vec{v_4}\n",
    "\\end{vmatrix}\n",
    " = -\n",
    "\\begin{vmatrix}\n",
    "\\vec{v_1} \\\\ \\vec{v_3} \\\\ \\vec{v_2} \\\\ \\vec{v_4}\n",
    "\\end{vmatrix}\n",
    "$$"
   ]
  },
  {
   "cell_type": "markdown",
   "id": "c93656e4",
   "metadata": {},
   "source": [
    "##### rule 5. 3x3の行列式の和を2x2の行列式の和に変換"
   ]
  },
  {
   "cell_type": "markdown",
   "id": "0c1160b8",
   "metadata": {},
   "source": [
    "$$ \n",
    "\\begin{vmatrix}\n",
    "\\vec{v_1} \\\\ \\vec{v_2} \\\\  \\vec{v_3} \n",
    "\\end{vmatrix}\n",
    "= \n",
    "\\begin{vmatrix}\n",
    "a & b & c \\\\ d & e & f \\\\ g & h & i\n",
    "\\end{vmatrix}\n",
    "$$"
   ]
  },
  {
   "cell_type": "markdown",
   "id": "95721b8d",
   "metadata": {},
   "source": [
    "$$\n",
    "=\n",
    "\\begin{vmatrix}\n",
    "a & b & c \\\\ 0 & e & f \\\\ 0 & h & i\n",
    "\\end{vmatrix}\n",
    "+\n",
    "\\begin{vmatrix}\n",
    "0 & b & c \\\\ d & e & f \\\\ 0 & h & i\n",
    "\\end{vmatrix}\n",
    "+\n",
    "\\begin{vmatrix}\n",
    "0 & b & c \\\\ 0 & e & f \\\\ g & h & i\n",
    "\\end{vmatrix}\n",
    "$$"
   ]
  },
  {
   "cell_type": "markdown",
   "id": "8ab3a60a",
   "metadata": {},
   "source": [
    "$$\n",
    "=\n",
    "a\n",
    "\\begin{vmatrix}\n",
    " e & f \\\\  h & i\n",
    "\\end{vmatrix}\n",
    "- d \n",
    "\\begin{vmatrix}\n",
    "b & c \\\\ h & i\n",
    "\\end{vmatrix}\n",
    "+ g \n",
    "\\begin{vmatrix}\n",
    "b & c \\\\ e & f \n",
    "\\end{vmatrix}\n",
    "$$"
   ]
  },
  {
   "cell_type": "markdown",
   "id": "a74f0516",
   "metadata": {},
   "source": [
    "#### 1.1.9 固有値と固有ベクトル"
   ]
  },
  {
   "cell_type": "markdown",
   "id": "ade79ab5",
   "metadata": {},
   "source": [
    "##### A $\\vec{x} $ = λ$\\vec{x} $ \n",
    "\n",
    "##### 行列Aとその特殊なベクトル $\\vec{x} $の積はただのスカラ―の数λとその特殊なベクトルと同じ値になる。\n",
    "##### この場合、を固有ベクトルと呼び、$ \\lambda $ を固有値という。"
   ]
  },
  {
   "cell_type": "markdown",
   "id": "97f5bbed",
   "metadata": {},
   "source": [
    "$$\n",
    "\\left(\n",
    "    \\begin{matrix} \n",
    "1 & 2 \\\\ 3 & 4\n",
    "\\end{matrix} \n",
    "\\right)\n",
    "\\left(\n",
    "    \\begin{matrix} \n",
    "1 \\\\ 1 \n",
    "\\end{matrix} \n",
    "\\right)\n",
    " =\n",
    "\\left(\n",
    "    \\begin{matrix} \n",
    "    5 \\\\ 5 \n",
    "\\end{matrix} \n",
    "\\right)\n",
    "$$"
   ]
  },
  {
   "cell_type": "markdown",
   "id": "1d318036",
   "metadata": {},
   "source": [
    "##### 固有値 $\\lambda$ = 5 , 固有ベクトル\n",
    "$$\n",
    "\\vec{x}= \n",
    "\\left(\n",
    "    \\begin{matrix} \n",
    "    1 \\\\ 1 \n",
    "\\end{matrix} \n",
    "\\right)\n",
    "$$"
   ]
  },
  {
   "cell_type": "markdown",
   "id": "4cc6b4fc",
   "metadata": {},
   "source": [
    "##### 固有値と固有ベクトルの求め方"
   ]
  },
  {
   "cell_type": "markdown",
   "id": "2f0551eb",
   "metadata": {},
   "source": [
    " $  A \\vec{x} = \\lambda \\vec{x} $"
   ]
  },
  {
   "cell_type": "markdown",
   "id": "e8da9304",
   "metadata": {},
   "source": [
    "$ ( A - \\lambda　I)   \\vec{x} =\\vec{0} $"
   ]
  },
  {
   "cell_type": "markdown",
   "id": "7c656265",
   "metadata": {},
   "source": [
    "#####  I:単位行列 "
   ]
  },
  {
   "cell_type": "markdown",
   "id": "42ace652",
   "metadata": {},
   "source": [
    "##### 固有値と固有ベクトルの求め方$ \\\\  $  A $\\vec{x}  = \\lambda \\vec{x} $"
   ]
  },
  {
   "cell_type": "markdown",
   "id": "f6e5f449",
   "metadata": {},
   "source": [
    "$( A - \\lambda I)  \\vec{x}  = \\vec{0} $ "
   ]
  },
  {
   "cell_type": "markdown",
   "id": "42b74fb0",
   "metadata": {},
   "source": [
    "$$ \n",
    "\\begin{vmatrix}\n",
    "A - \\lambda I\n",
    "\\end{vmatrix}\n",
    " = 0\n",
    "$$"
   ]
  },
  {
   "cell_type": "markdown",
   "id": "86b84503",
   "metadata": {},
   "source": [
    "$$ \n",
    "\\begin{vmatrix}\n",
    "1 - \\lambda I & 4 \\\\ 2 & 3- \\lambda\n",
    "\\end{vmatrix}\n",
    " = 0\n",
    "$$"
   ]
  },
  {
   "cell_type": "markdown",
   "id": "37b2bf2a",
   "metadata": {},
   "source": [
    "$$\n",
    "\\left(\n",
    "    \\begin{matrix} \n",
    "1 & 4 \\\\ 2 & 3\n",
    "\\end{matrix} \n",
    "\\right)\n",
    "\\left(\n",
    "    \\begin{matrix} \n",
    "x_1 \\\\ x_2  \n",
    "\\end{matrix} \n",
    "\\right)\n",
    " = 5 \n",
    "\\left(\n",
    "    \\begin{matrix} \n",
    "   x_1 \\\\ x_2\n",
    "\\end{matrix} \n",
    "\\right)\n",
    "$$\n",
    "$$\n",
    "\\downarrow\n",
    "$$\n",
    "$$\n",
    "\\left(\n",
    "    \\begin{matrix} \n",
    " x_1 + 4 x_2 \\\\ 2x1 + 3x_2\n",
    "\\end{matrix} \n",
    "\\right)\n",
    " = 5 \n",
    "\\left(\n",
    "    \\begin{matrix} \n",
    "   x_1 \\\\ x_2\n",
    "\\end{matrix} \n",
    "\\right)\n",
    "$$\n",
    "$$\n",
    "\\downarrow\n",
    "$$\n",
    "$$\n",
    "\\left(\n",
    "    \\begin{matrix} \n",
    " x_1 + 4 x_2 \\\\ 2x1 + 3x_2\n",
    "\\end{matrix} \n",
    "\\right)\n",
    " = 5 \n",
    "\\left(\n",
    "    \\begin{matrix} \n",
    "   x_1 \\\\ x_2\n",
    "\\end{matrix} \n",
    "\\right)\n",
    "$$\n",
    "$$\n",
    "\\downarrow\n",
    "$$\n",
    "$$\n",
    "\\left(\n",
    "    \\begin{matrix} \n",
    " 1 & 4 \\\\ 2 & 3\n",
    "\\end{matrix} \n",
    "\\right) \n",
    "\\left(\n",
    "    \\begin{matrix} \n",
    "   x_1 \\\\ x_2\n",
    "\\end{matrix} \n",
    "\\right)\n",
    "= -1 \n",
    "\\left(\n",
    "    \\begin{matrix} \n",
    "   x_1 \\\\ x_2\n",
    "\\end{matrix} \n",
    "\\right)\n",
    "$$"
   ]
  },
  {
   "cell_type": "markdown",
   "id": "a8ec293d",
   "metadata": {},
   "source": [
    "比率までしか、わからない。"
   ]
  },
  {
   "cell_type": "markdown",
   "id": "57ce708b",
   "metadata": {},
   "source": [
    "固有値が先に求まる。"
   ]
  },
  {
   "cell_type": "markdown",
   "id": "b198ed9d",
   "metadata": {},
   "source": [
    "3 x 3の行列式の固有値、固有ベクトルの求め方\n",
    "$$\n",
    "\\left(\n",
    "    \\begin{matrix} \n",
    "3 & 2 & 0 \\\\ 0 & 2 & 0 \\\\ 0 & 0 & 1\n",
    "\\end{matrix} \n",
    "\\right)\n",
    "$$"
   ]
  },
  {
   "cell_type": "markdown",
   "id": "29f6245f",
   "metadata": {},
   "source": [
    "$$\n",
    "\\begin{vmatrix}\n",
    "3 - \\lambda & 2 & 0 \\\\ 0 & 2 - \\lambda & 0 \\\\ 0 & 0 & 1 - \\lambda \n",
    "\\end{vmatrix}\n",
    "= 0\n",
    "$$"
   ]
  },
  {
   "cell_type": "markdown",
   "id": "ba425dc4",
   "metadata": {},
   "source": [
    "(3 - λ) (2  - λ)(1 - λ) = 0"
   ]
  },
  {
   "cell_type": "markdown",
   "id": "f02b3c2d",
   "metadata": {},
   "source": [
    "固有値(λ）は　３，２，１"
   ]
  },
  {
   "cell_type": "markdown",
   "id": "f6c4381e",
   "metadata": {},
   "source": [
    "$$\n",
    "\\left(\n",
    "    \\begin{matrix} \n",
    "3 & 2 & 0 \\\\ 0 & 2 & 0 \\\\ 0 & 0 & 1\n",
    "\\end{matrix} \n",
    "\\right)\n",
    "\\left(\n",
    "    \\begin{matrix} \n",
    "x_1 \\\\ x_2 \\\\ x_3\n",
    "\\end{matrix} \n",
    "\\right)\n",
    " = \n",
    "3\n",
    "\\left(\n",
    "    \\begin{matrix} \n",
    "x_1 \\\\ x_2 \\\\ x_3\n",
    "\\end{matrix} \n",
    "\\right)\n",
    "  \\begin{align}\n",
    "    &\\begin{split} \n",
    "  3x_1 + 2x_2 = 3x_1 \\\\ 2x_2 = 3x_2  \\\\x_3 = 3x_3\n",
    "\\end{split}\n",
    "\\end{align}\n",
    "$$"
   ]
  },
  {
   "cell_type": "markdown",
   "id": "ec4bfe66",
   "metadata": {},
   "source": [
    "##### λ =3 &emsp;&emsp;&emsp;&emsp;"
   ]
  },
  {
   "cell_type": "markdown",
   "id": "0c5ac2cc",
   "metadata": {},
   "source": [
    "$\\vec{x} =\n",
    "\\left(    \n",
    "\\begin{matrix} \n",
    "1 \\\\ 0\n",
    "\\end{matrix} \n",
    "\\right)\n",
    "$"
   ]
  },
  {
   "cell_type": "markdown",
   "id": "ad382fa8",
   "metadata": {},
   "source": [
    "##### λ =2 &emsp;&emsp;&emsp;&emsp; "
   ]
  },
  {
   "cell_type": "markdown",
   "id": "1962b79b",
   "metadata": {},
   "source": [
    "$\\vec{x} =\n",
    "\\left(    \n",
    "\\begin{matrix} \n",
    "2 \\\\ 0\n",
    "\\end{matrix} \n",
    "\\right)\n",
    "$"
   ]
  },
  {
   "cell_type": "markdown",
   "id": "3fa9b082",
   "metadata": {},
   "source": [
    "##### λ =1 &emsp;&emsp;&emsp;&emsp;"
   ]
  },
  {
   "cell_type": "markdown",
   "id": "84afd45a",
   "metadata": {},
   "source": [
    "$\n",
    "\\vec{x} =\n",
    "\\left(    \n",
    "\\begin{matrix} \n",
    "0 \\\\ 1\n",
    "\\end{matrix} \n",
    "\\right)\n",
    "$"
   ]
  },
  {
   "cell_type": "markdown",
   "id": "15bd8817",
   "metadata": {},
   "source": [
    "##### 上記ベクトルの定数倍となる。"
   ]
  },
  {
   "cell_type": "markdown",
   "id": "4a740db6",
   "metadata": {},
   "source": [
    "#### 1.1.10 固有値分解"
   ]
  },
  {
   "cell_type": "markdown",
   "id": "5a440e05",
   "metadata": {},
   "source": [
    "$$\n",
    "A=\\begin{pmatrix}\n",
    "\\lambda_{1} & 0      & \\cdots & \\cdots & \\cdots\\\\\n",
    "0      & \\lambda_{2} & 0      & \\cdots & \\cdots\\\\\n",
    "0 & \\cdots & \\lambda_{3} & 0      & \\cdots\\\\\n",
    "0 & \\cdots & \\cdots  & \\lambda_{4} & 0    \\\\\n",
    "0 & \\cdots & \\cdots  & \\cdots & \\lambda_{5} \\\\\n",
    "\\end{pmatrix}\n",
    ", V=\n",
    "\\left(\n",
    "    \\begin{matrix} \n",
    "   \\vec{v_1} &  \\vec{v_1} & \\cdots \\\\ \n",
    "\\end{matrix} \n",
    "\\right)\n",
    "$$\n"
   ]
  },
  {
   "cell_type": "markdown",
   "id": "6e93d25f",
   "metadata": {},
   "source": [
    "##### 分解することで、似ているものを探す"
   ]
  },
  {
   "cell_type": "markdown",
   "id": "4fc7d3e2",
   "metadata": {},
   "source": [
    "$ AV = VA $\n",
    "$ A = VAV^{-1} $"
   ]
  },
  {
   "cell_type": "markdown",
   "id": "207b2768",
   "metadata": {},
   "source": [
    "##### *1 ： $ V^{-1}$は逆行列"
   ]
  },
  {
   "cell_type": "markdown",
   "id": "61a56a2b",
   "metadata": {},
   "source": [
    "固有値分解の具体例"
   ]
  },
  {
   "cell_type": "markdown",
   "id": "f5591125",
   "metadata": {},
   "source": [
    "$$\n",
    "\\left(\n",
    "    \\begin{matrix} \n",
    "1 & 2 \\\\ 3 & 4\n",
    "\\end{matrix} \n",
    "\\right)\n",
    "=\n",
    "\\left(\n",
    "    \\begin{matrix} \n",
    "1 & 1 \\\\ 1 &  - \\frac{1}{2}\n",
    "\\end{matrix} \n",
    "\\right)\n",
    "\\left(\n",
    "    \\begin{matrix} \n",
    "5 & 0 \\\\ 0 & -1\n",
    "\\end{matrix} \n",
    "\\right)\n",
    "\\left(\n",
    "    \\begin{matrix} \n",
    "\\frac{1}{3} & \\frac{2}{3}  \\\\ \\frac{2}{3}  & -\\frac{2}{3} \n",
    "\\end{matrix} \n",
    "\\right)\n",
    "$$"
   ]
  },
  {
   "cell_type": "markdown",
   "id": "6deba863",
   "metadata": {},
   "source": [
    "#### 1.1.11 特異値分解"
   ]
  },
  {
   "cell_type": "markdown",
   "id": "5a92aca7",
   "metadata": {},
   "source": [
    "&emsp;&emsp;$M \\vec{\\upsilon} = \\sigma  \\vec{\\upsilon} $"
   ]
  },
  {
   "cell_type": "markdown",
   "id": "a07b0a6d",
   "metadata": {},
   "source": [
    "&emsp;&emsp;$M^\\top \\vec{\\upsilon} = \\sigma  \\vec{\\upsilon} $"
   ]
  },
  {
   "cell_type": "markdown",
   "id": "9ec77d8b",
   "metadata": {},
   "source": [
    "$M^\\top:$ Mの転置（行と列をひっくり返す)固有値が先に求まる。"
   ]
  },
  {
   "cell_type": "markdown",
   "id": "742dd1d2",
   "metadata": {},
   "source": [
    "&emsp;&emsp;$M= \\vec{\\upsilon} S \\vec{\\upsilon}^\\top $"
   ]
  },
  {
   "cell_type": "markdown",
   "id": "dbe680ab",
   "metadata": {},
   "source": [
    "特殊な単位ベクトルが有れば特異値分解出来る"
   ]
  },
  {
   "cell_type": "markdown",
   "id": "fce4a3d7",
   "metadata": {},
   "source": [
    "#### 1.1.12 特異値の求め方"
   ]
  },
  {
   "cell_type": "markdown",
   "id": "17ff2a6a",
   "metadata": {},
   "source": [
    "$ M M^\\top$を固有値分解すれば、その左特異ベクトルと特異値の項が求められる "
   ]
  },
  {
   "cell_type": "markdown",
   "id": "a23fca59",
   "metadata": {},
   "source": [
    "具体例："
   ]
  },
  {
   "cell_type": "markdown",
   "id": "58852b68",
   "metadata": {},
   "source": [
    "$$\n",
    "M = \n",
    "\\left(\n",
    "    \\begin{matrix} \n",
    "1 & 2 & 3  \\\\ 3 & 2 & 1\n",
    "\\end{matrix} \n",
    "\\right)\n",
    ", M M^\\top =\n",
    "\\left(\n",
    "    \\begin{matrix} \n",
    "1 & 2 & 3  \\\\ 3 & 2 & 1\n",
    "\\end{matrix} \n",
    "\\right)\n",
    "\\left(\n",
    "    \\begin{matrix} \n",
    "1 & 3  \\\\ 2& 2 \\\\ 3 & 1\n",
    "\\end{matrix} \n",
    "\\right)\n",
    "=\n",
    "\\left(\n",
    "    \\begin{matrix} \n",
    "14 & 10 \\\\ 10 & 14\n",
    "\\end{matrix} \n",
    "\\right)\n",
    "$$"
   ]
  },
  {
   "cell_type": "markdown",
   "id": "761c0348",
   "metadata": {},
   "source": [
    "$$\n",
    "\\left(\n",
    "    \\begin{matrix} \n",
    "14 & 10\\\\ 10 & 14\n",
    "\\end{matrix} \n",
    "\\right)\n",
    " =\n",
    "\\left(\n",
    "    \\begin{matrix} \n",
    "\\frac{1}{\\sqrt{2}}  & - \\frac{1}{\\sqrt{2}}    \\\\ \\frac{1}{\\sqrt{2}}  & \\frac{1}{\\sqrt{2}} \n",
    "\\end{matrix} \n",
    "\\right)\n",
    "\\left(\n",
    "    \\begin{matrix} \n",
    "24 & 0  \\\\ 0 & 24\n",
    "\\end{matrix} \n",
    "\\right)\n",
    "\\left(\n",
    "    \\begin{matrix} \n",
    "\\frac{1}{\\sqrt{2}}  & - \\frac{1}{\\sqrt{2}}    \\\\ \\frac{1}{\\sqrt{2}}  & \\frac{1}{\\sqrt{2}} \n",
    "\\end{matrix} \n",
    "\\right)\n",
    "$$"
   ]
  },
  {
   "cell_type": "markdown",
   "id": "05d601ae",
   "metadata": {},
   "source": [
    "$$\n",
    "\\left(\n",
    "    \\begin{matrix} \n",
    "14 & 10\\\\ 10 & 14\n",
    "\\end{matrix} \n",
    "\\right)\n",
    "\\rightarrow\n",
    "\\begin{vmatrix}\n",
    "14 - \\lambda & 10 \\\\ 10 & 14 - \\lambda\n",
    "\\end{vmatrix}\n",
    " = 0\n",
    "$$"
   ]
  },
  {
   "cell_type": "markdown",
   "id": "05156783",
   "metadata": {},
   "source": [
    "# 2.確率・統計"
   ]
  },
  {
   "cell_type": "markdown",
   "id": "f9fb2806",
   "metadata": {},
   "source": [
    "## 2.1 統計学\n",
    "### 学習目標：統計学を読めるように\n",
    "#### 2.1.1 集合\n",
    "#### &emsp;&emsp;「集合」とはものの集まり。\n",
    "###### &emsp;&emsp;　集合：　$S=\\{a,b,c,d,e,f,g \\} $"
   ]
  },
  {
   "cell_type": "markdown",
   "id": "9aefda15",
   "metadata": {},
   "source": [
    "集合」の「要素」同士は、明確に区別出来る"
   ]
  },
  {
   "cell_type": "markdown",
   "id": "0799adfe",
   "metadata": {},
   "source": [
    " &emsp;&emsp;&emsp;&emsp; $ a \\in S $ "
   ]
  },
  {
   "cell_type": "markdown",
   "id": "a98bddf6",
   "metadata": {},
   "source": [
    " &emsp;&emsp;&emsp;&emsp; $ b \\in S $"
   ]
  },
  {
   "cell_type": "markdown",
   "id": "edee1409",
   "metadata": {},
   "source": [
    " &emsp;&emsp;&emsp;&emsp;&emsp; $ \\uparrow　$"
   ]
  },
  {
   "cell_type": "markdown",
   "id": "9864b204",
   "metadata": {},
   "source": [
    " Sの要素の一つ"
   ]
  },
  {
   "cell_type": "markdown",
   "id": "2f478b3e",
   "metadata": {},
   "source": [
    "##### 2.1.2 和集合と共通部分"
   ]
  },
  {
   "cell_type": "markdown",
   "id": "8d1cfaed",
   "metadata": {},
   "source": [
    "和集合\n",
    "$ A \\cup B $"
   ]
  },
  {
   "cell_type": "code",
   "execution_count": 15,
   "id": "bf6ce92f",
   "metadata": {},
   "outputs": [
    {
     "name": "stdout",
     "output_type": "stream",
     "text": [
      "Requirement already satisfied: matplotlib-venn in d:\\anaconda\\lib\\site-packages (0.11.6)\n",
      "Requirement already satisfied: scipy in d:\\anaconda\\lib\\site-packages (from matplotlib-venn) (1.6.2)\n",
      "Requirement already satisfied: matplotlib in d:\\anaconda\\lib\\site-packages (from matplotlib-venn) (3.3.4)\n",
      "Requirement already satisfied: numpy in d:\\anaconda\\lib\\site-packages (from matplotlib-venn) (1.20.1)\n",
      "Requirement already satisfied: python-dateutil>=2.1 in d:\\anaconda\\lib\\site-packages (from matplotlib->matplotlib-venn) (2.8.1)\n",
      "Requirement already satisfied: kiwisolver>=1.0.1 in d:\\anaconda\\lib\\site-packages (from matplotlib->matplotlib-venn) (1.3.1)\n",
      "Requirement already satisfied: pillow>=6.2.0 in d:\\anaconda\\lib\\site-packages (from matplotlib->matplotlib-venn) (8.2.0)\n",
      "Requirement already satisfied: cycler>=0.10 in d:\\anaconda\\lib\\site-packages (from matplotlib->matplotlib-venn) (0.10.0)\n",
      "Requirement already satisfied: pyparsing!=2.0.4,!=2.1.2,!=2.1.6,>=2.0.3 in d:\\anaconda\\lib\\site-packages (from matplotlib->matplotlib-venn) (2.4.7)\n",
      "Requirement already satisfied: six in d:\\anaconda\\lib\\site-packages (from cycler>=0.10->matplotlib->matplotlib-venn) (1.15.0)\n"
     ]
    },
    {
     "data": {
      "image/png": "[encoded data removed]",
      "text/plain": [
       "<Figure size 432x288 with 1 Axes>"
      ]
     },
     "metadata": {},
     "output_type": "display_data"
    }
   ],
   "source": [
    "!pip3 install matplotlib-venn\n",
    "from matplotlib_venn import venn2\n",
    "from matplotlib import pyplot\n",
    "v = venn2(subsets=(3, 3, 3))\n",
    "# ベン図の色を変更する   \n",
    "v.get_patch_by_id('10').set_color('skyblue')\n",
    "v.get_patch_by_id('10').set_edgecolor('black')\n",
    "v.get_patch_by_id('11').set_color('skyblue')\n",
    "v.get_patch_by_id('11').set_edgecolor('black')\n",
    "v.get_patch_by_id('01').set_color('skyblue')\n",
    "v.get_patch_by_id('01').set_edgecolor('black')\n",
    "\n",
    "\n",
    "# 背景色を変更する\n",
    "pyplot.gca().set_axis_on()\n",
    "pyplot.gca().set_facecolor('white')\n",
    "pyplot.show()"
   ]
  },
  {
   "cell_type": "markdown",
   "id": "fab37f68",
   "metadata": {},
   "source": [
    "共通部分\n",
    "$ A \\cap B $"
   ]
  },
  {
   "cell_type": "code",
   "execution_count": 19,
   "id": "b386cbed",
   "metadata": {},
   "outputs": [
    {
     "name": "stdout",
     "output_type": "stream",
     "text": [
      "Requirement already satisfied: matplotlib-venn in d:\\anaconda\\lib\\site-packages (0.11.6)\n",
      "Requirement already satisfied: numpy in d:\\anaconda\\lib\\site-packages (from matplotlib-venn) (1.20.1)\n",
      "Requirement already satisfied: matplotlib in d:\\anaconda\\lib\\site-packages (from matplotlib-venn) (3.3.4)\n",
      "Requirement already satisfied: scipy in d:\\anaconda\\lib\\site-packages (from matplotlib-venn) (1.6.2)\n",
      "Requirement already satisfied: pyparsing!=2.0.4,!=2.1.2,!=2.1.6,>=2.0.3 in d:\\anaconda\\lib\\site-packages (from matplotlib->matplotlib-venn) (2.4.7)\n",
      "Requirement already satisfied: python-dateutil>=2.1 in d:\\anaconda\\lib\\site-packages (from matplotlib->matplotlib-venn) (2.8.1)\n",
      "Requirement already satisfied: cycler>=0.10 in d:\\anaconda\\lib\\site-packages (from matplotlib->matplotlib-venn) (0.10.0)\n",
      "Requirement already satisfied: pillow>=6.2.0 in d:\\anaconda\\lib\\site-packages (from matplotlib->matplotlib-venn) (8.2.0)\n",
      "Requirement already satisfied: kiwisolver>=1.0.1 in d:\\anaconda\\lib\\site-packages (from matplotlib->matplotlib-venn) (1.3.1)\n",
      "Requirement already satisfied: six in d:\\anaconda\\lib\\site-packages (from cycler>=0.10->matplotlib->matplotlib-venn) (1.15.0)\n"
     ]
    },
    {
     "data": {
      "image/png": "[encoded data removed]",
      "text/plain": [
       "<Figure size 432x288 with 1 Axes>"
      ]
     },
     "metadata": {},
     "output_type": "display_data"
    }
   ],
   "source": [
    "!pip3 install matplotlib-venn\n",
    "from matplotlib_venn import venn2\n",
    "from matplotlib import pyplot\n",
    "v = venn2(subsets=(2, 2, 1))\n",
    "# ベン図の色を変更する   \n",
    "v.get_patch_by_id('10').set_color('white')\n",
    "v.get_patch_by_id('10').set_edgecolor('black')\n",
    "v.get_patch_by_id('11').set_color('skyblue')\n",
    "v.get_patch_by_id('11').set_edgecolor('black')\n",
    "v.get_patch_by_id('01').set_color('white')\n",
    "v.get_patch_by_id('01').set_edgecolor('black')\n",
    "\n",
    "\n",
    "# 背景色を変更する\n",
    "pyplot.gca().set_axis_on()\n",
    "pyplot.gca().set_facecolor('white')\n",
    "pyplot.show()"
   ]
  },
  {
   "cell_type": "markdown",
   "id": "7b749903",
   "metadata": {},
   "source": [
    "絶対補　　：\n",
    "$ U \\setminus A  = \\bar{A}  $"
   ]
  },
  {
   "cell_type": "markdown",
   "id": "9327076b",
   "metadata": {},
   "source": [
    "\"補\" =それ以外 "
   ]
  },
  {
   "cell_type": "code",
   "execution_count": 27,
   "id": "c00118f0",
   "metadata": {},
   "outputs": [
    {
     "name": "stdout",
     "output_type": "stream",
     "text": [
      "Requirement already satisfied: matplotlib-venn in d:\\anaconda\\lib\\site-packages (0.11.6)\n",
      "Requirement already satisfied: scipy in d:\\anaconda\\lib\\site-packages (from matplotlib-venn) (1.6.2)\n",
      "Requirement already satisfied: matplotlib in d:\\anaconda\\lib\\site-packages (from matplotlib-venn) (3.3.4)\n",
      "Requirement already satisfied: numpy in d:\\anaconda\\lib\\site-packages (from matplotlib-venn) (1.20.1)\n",
      "Requirement already satisfied: kiwisolver>=1.0.1 in d:\\anaconda\\lib\\site-packages (from matplotlib->matplotlib-venn) (1.3.1)\n",
      "Requirement already satisfied: pyparsing!=2.0.4,!=2.1.2,!=2.1.6,>=2.0.3 in d:\\anaconda\\lib\\site-packages (from matplotlib->matplotlib-venn) (2.4.7)\n",
      "Requirement already satisfied: pillow>=6.2.0 in d:\\anaconda\\lib\\site-packages (from matplotlib->matplotlib-venn) (8.2.0)\n",
      "Requirement already satisfied: python-dateutil>=2.1 in d:\\anaconda\\lib\\site-packages (from matplotlib->matplotlib-venn) (2.8.1)\n",
      "Requirement already satisfied: cycler>=0.10 in d:\\anaconda\\lib\\site-packages (from matplotlib->matplotlib-venn) (0.10.0)\n",
      "Requirement already satisfied: six in d:\\anaconda\\lib\\site-packages (from cycler>=0.10->matplotlib->matplotlib-venn) (1.15.0)\n"
     ]
    },
    {
     "data": {
      "image/png": "[encoded data removed]",
      "text/plain": [
       "<Figure size 432x288 with 1 Axes>"
      ]
     },
     "metadata": {},
     "output_type": "display_data"
    }
   ],
   "source": [
    "!pip3 install matplotlib-venn\n",
    "from matplotlib_venn import venn2\n",
    "from matplotlib import pyplot\n",
    "v = venn2(subsets=(2, 2, 2))\n",
    "# ベン図の色を変更する   \n",
    "v.get_patch_by_id('01').set_color('skyblue')\n",
    "v.get_patch_by_id('01').set_edgecolor('black')\n",
    "v.get_patch_by_id('10').set_color('white')\n",
    "v.get_patch_by_id('10').set_edgecolor('black')\n",
    "v.get_patch_by_id('11').set_color('white')\n",
    "v.get_patch_by_id('11').set_edgecolor('black')\n",
    "\n",
    "\n",
    "\n",
    "# 背景色を変更する\n",
    "pyplot.gca().set_axis_on()\n",
    "pyplot.gca().set_facecolor('skyblue')\n",
    "pyplot.show()"
   ]
  },
  {
   "cell_type": "markdown",
   "id": "fe010d5b",
   "metadata": {},
   "source": [
    "相対補　　：\n",
    "$ B \\setminus A    $"
   ]
  },
  {
   "cell_type": "code",
   "execution_count": 29,
   "id": "b941d518",
   "metadata": {},
   "outputs": [
    {
     "name": "stdout",
     "output_type": "stream",
     "text": [
      "Requirement already satisfied: matplotlib-venn in d:\\anaconda\\lib\\site-packages (0.11.6)\n",
      "Requirement already satisfied: matplotlib in d:\\anaconda\\lib\\site-packages (from matplotlib-venn) (3.3.4)\n",
      "Requirement already satisfied: scipy in d:\\anaconda\\lib\\site-packages (from matplotlib-venn) (1.6.2)\n",
      "Requirement already satisfied: numpy in d:\\anaconda\\lib\\site-packages (from matplotlib-venn) (1.20.1)\n",
      "Requirement already satisfied: kiwisolver>=1.0.1 in d:\\anaconda\\lib\\site-packages (from matplotlib->matplotlib-venn) (1.3.1)\n",
      "Requirement already satisfied: pyparsing!=2.0.4,!=2.1.2,!=2.1.6,>=2.0.3 in d:\\anaconda\\lib\\site-packages (from matplotlib->matplotlib-venn) (2.4.7)\n",
      "Requirement already satisfied: python-dateutil>=2.1 in d:\\anaconda\\lib\\site-packages (from matplotlib->matplotlib-venn) (2.8.1)\n",
      "Requirement already satisfied: cycler>=0.10 in d:\\anaconda\\lib\\site-packages (from matplotlib->matplotlib-venn) (0.10.0)\n",
      "Requirement already satisfied: pillow>=6.2.0 in d:\\anaconda\\lib\\site-packages (from matplotlib->matplotlib-venn) (8.2.0)\n",
      "Requirement already satisfied: six in d:\\anaconda\\lib\\site-packages (from cycler>=0.10->matplotlib->matplotlib-venn) (1.15.0)\n"
     ]
    },
    {
     "data": {
      "image/png": "[encoded data removed]",
      "text/plain": [
       "<Figure size 432x288 with 1 Axes>"
      ]
     },
     "metadata": {},
     "output_type": "display_data"
    }
   ],
   "source": [
    "!pip3 install matplotlib-venn\n",
    "from matplotlib_venn import venn2\n",
    "from matplotlib import pyplot\n",
    "v = venn2(subsets=(2, 2, 2))\n",
    "# ベン図の色を変更する   \n",
    "v.get_patch_by_id('01').set_color('skyblue')\n",
    "v.get_patch_by_id('01').set_edgecolor('black')\n",
    "v.get_patch_by_id('10').set_color('white')\n",
    "v.get_patch_by_id('10').set_edgecolor('black')\n",
    "v.get_patch_by_id('11').set_color('white')\n",
    "v.get_patch_by_id('11').set_edgecolor('black')\n",
    "\n",
    "\n",
    "\n",
    "# 背景色を変更する\n",
    "pyplot.gca().set_axis_on()\n",
    "pyplot.gca().set_facecolor('white')\n",
    "pyplot.show()"
   ]
  },
  {
   "cell_type": "markdown",
   "id": "05dcf900",
   "metadata": {},
   "source": [
    "$ \\overline{A\\cup B}$"
   ]
  },
  {
   "cell_type": "code",
   "execution_count": 31,
   "id": "27845e5c",
   "metadata": {},
   "outputs": [
    {
     "name": "stdout",
     "output_type": "stream",
     "text": [
      "Requirement already satisfied: matplotlib-venn in d:\\anaconda\\lib\\site-packages (0.11.6)\n",
      "Requirement already satisfied: scipy in d:\\anaconda\\lib\\site-packages (from matplotlib-venn) (1.6.2)\n",
      "Requirement already satisfied: numpy in d:\\anaconda\\lib\\site-packages (from matplotlib-venn) (1.20.1)\n",
      "Requirement already satisfied: matplotlib in d:\\anaconda\\lib\\site-packages (from matplotlib-venn) (3.3.4)\n",
      "Requirement already satisfied: pyparsing!=2.0.4,!=2.1.2,!=2.1.6,>=2.0.3 in d:\\anaconda\\lib\\site-packages (from matplotlib->matplotlib-venn) (2.4.7)\n",
      "Requirement already satisfied: cycler>=0.10 in d:\\anaconda\\lib\\site-packages (from matplotlib->matplotlib-venn) (0.10.0)\n",
      "Requirement already satisfied: python-dateutil>=2.1 in d:\\anaconda\\lib\\site-packages (from matplotlib->matplotlib-venn) (2.8.1)\n",
      "Requirement already satisfied: kiwisolver>=1.0.1 in d:\\anaconda\\lib\\site-packages (from matplotlib->matplotlib-venn) (1.3.1)\n",
      "Requirement already satisfied: pillow>=6.2.0 in d:\\anaconda\\lib\\site-packages (from matplotlib->matplotlib-venn) (8.2.0)\n",
      "Requirement already satisfied: six in d:\\anaconda\\lib\\site-packages (from cycler>=0.10->matplotlib->matplotlib-venn) (1.15.0)\n"
     ]
    },
    {
     "data": {
      "image/png": "[encoded data removed]",
      "text/plain": [
       "<Figure size 432x288 with 1 Axes>"
      ]
     },
     "metadata": {},
     "output_type": "display_data"
    }
   ],
   "source": [
    "!pip3 install matplotlib-venn\n",
    "from matplotlib_venn import venn2\n",
    "from matplotlib import pyplot\n",
    "v = venn2(subsets=(2, 2, 2))\n",
    "# ベン図の色を変更する   \n",
    "v.get_patch_by_id('01').set_color('white')\n",
    "v.get_patch_by_id('01').set_edgecolor('black')\n",
    "v.get_patch_by_id('10').set_color('white')\n",
    "v.get_patch_by_id('10').set_edgecolor('black')\n",
    "v.get_patch_by_id('11').set_color('white')\n",
    "v.get_patch_by_id('11').set_edgecolor('black')\n",
    "\n",
    "\n",
    "\n",
    "# 背景色を変更する\n",
    "pyplot.gca().set_axis_on()\n",
    "pyplot.gca().set_facecolor('skyblue')\n",
    "pyplot.show()"
   ]
  },
  {
   "cell_type": "markdown",
   "id": "18613a3c",
   "metadata": {},
   "source": [
    "#### 2.2 確率"
   ]
  },
  {
   "cell_type": "markdown",
   "id": "e76fe7b6",
   "metadata": {},
   "source": [
    "#### &emsp;&emsp; 確率には以下の２種類がある。\n",
    "#### &emsp;&emsp;&emsp;&emsp;頻度確率(客観確率)\n",
    "#### &emsp;&emsp;&emsp;&emsp;&emsp; ・発生する頻度\n",
    "##### &emsp;&emsp;&emsp;&emsp;&emsp; &emsp; cf. くじ引き\n",
    "#### &emsp;&emsp;&emsp;&emsp;ベイズ確率(主観確率)\n",
    "#### &emsp;&emsp;&emsp;&emsp;&emsp; ・信念の度合い\n",
    "##### &emsp;&emsp;&emsp;&emsp;&emsp;&emsp;  cf. インフルエンザの可能性\n"
   ]
  },
  {
   "cell_type": "markdown",
   "id": "d387aa62",
   "metadata": {},
   "source": [
    "#### 2.2.1 確率の定義"
   ]
  },
  {
   "cell_type": "markdown",
   "id": "1d91aea8",
   "metadata": {},
   "source": [
    "$ P(A) =\\frac{n(A)}{n(U)} $"
   ]
  },
  {
   "cell_type": "markdown",
   "id": "69e1c57c",
   "metadata": {},
   "source": [
    "##### &emsp;&emsp;&emsp;=  事象Aの起きる確率 / 全ての事象の数 "
   ]
  },
  {
   "cell_type": "markdown",
   "id": "782190f5",
   "metadata": {},
   "source": [
    "##### $ P( \\bar{A})$ をP(A)を使って表現すると"
   ]
  },
  {
   "cell_type": "markdown",
   "id": "89dc4013",
   "metadata": {},
   "source": [
    "$ P( \\bar{A}) = 1 - P(A) $"
   ]
  },
  {
   "cell_type": "markdown",
   "id": "4910a884",
   "metadata": {},
   "source": [
    "##### P(A)&= 事象Aが起こらない数 / 全ての事象数"
   ]
  },
  {
   "cell_type": "markdown",
   "id": "bf8afc14",
   "metadata": {},
   "source": [
    "##### = 事象Aの起きる確率 / 全ての事象の数"
   ]
  },
  {
   "cell_type": "markdown",
   "id": "4d5f6c72",
   "metadata": {},
   "source": [
    "##### = (全ての事象の数 - Aの起こる数) / 全ての事象の数"
   ]
  },
  {
   "cell_type": "markdown",
   "id": "a0b2be24",
   "metadata": {},
   "source": [
    "$ =\\frac{ (n(U) - n(A)}{n(U)} $"
   ]
  },
  {
   "cell_type": "markdown",
   "id": "24a89acc",
   "metadata": {},
   "source": [
    "$ =1 - \\frac{n(A)}{n(U)} $"
   ]
  },
  {
   "cell_type": "markdown",
   "id": "b3c6bfea",
   "metadata": {},
   "source": [
    "#### 2.2.2 条件付き確率"
   ]
  },
  {
   "cell_type": "markdown",
   "id": "aac3d26e",
   "metadata": {},
   "source": [
    "\\begin{align}\n",
    "P(A \\mid B )&=\\frac{P(A\\cap B)}{P(B)} \\\\\n",
    "&=\\frac{n(A \\cap B)}{ n(B)}\\\\\n",
    "\\end{align}\n"
   ]
  },
  {
   "cell_type": "code",
   "execution_count": 5,
   "id": "76cb3031",
   "metadata": {},
   "outputs": [
    {
     "name": "stdout",
     "output_type": "stream",
     "text": [
      "Requirement already satisfied: matplotlib-venn in d:\\anaconda\\lib\\site-packages (0.11.6)\n",
      "Requirement already satisfied: numpy in d:\\anaconda\\lib\\site-packages (from matplotlib-venn) (1.20.1)\n",
      "Requirement already satisfied: scipy in d:\\anaconda\\lib\\site-packages (from matplotlib-venn) (1.6.2)\n",
      "Requirement already satisfied: matplotlib in d:\\anaconda\\lib\\site-packages (from matplotlib-venn) (3.3.4)\n",
      "Requirement already satisfied: python-dateutil>=2.1 in d:\\anaconda\\lib\\site-packages (from matplotlib->matplotlib-venn) (2.8.1)\n",
      "Requirement already satisfied: pyparsing!=2.0.4,!=2.1.2,!=2.1.6,>=2.0.3 in d:\\anaconda\\lib\\site-packages (from matplotlib->matplotlib-venn) (2.4.7)\n",
      "Requirement already satisfied: pillow>=6.2.0 in d:\\anaconda\\lib\\site-packages (from matplotlib->matplotlib-venn) (8.2.0)\n",
      "Requirement already satisfied: kiwisolver>=1.0.1 in d:\\anaconda\\lib\\site-packages (from matplotlib->matplotlib-venn) (1.3.1)\n",
      "Requirement already satisfied: cycler>=0.10 in d:\\anaconda\\lib\\site-packages (from matplotlib->matplotlib-venn) (0.10.0)\n",
      "Requirement already satisfied: six in d:\\anaconda\\lib\\site-packages (from cycler>=0.10->matplotlib->matplotlib-venn) (1.15.0)\n"
     ]
    },
    {
     "data": {
      "image/png": "[encoded data removed]",
      "text/plain": [
       "<Figure size 432x288 with 1 Axes>"
      ]
     },
     "metadata": {},
     "output_type": "display_data"
    }
   ],
   "source": [
    "!pip3 install matplotlib-venn\n",
    "from matplotlib_venn import venn2\n",
    "from matplotlib import pyplot\n",
    "v = venn2(subsets=(2, 2, 2))\n",
    "# ベン図の色を変更する   \n",
    "v.get_patch_by_id('01').set_color('skyblue')\n",
    "v.get_patch_by_id('01').set_edgecolor('Green')\n",
    "v.get_patch_by_id('10').set_color('skyblue')\n",
    "v.get_patch_by_id('10').set_edgecolor('black')\n",
    "v.get_patch_by_id('11').set_color('skyblue')\n",
    "v.get_patch_by_id('11').set_edgecolor('Green')\n",
    "\n",
    "\n",
    "\n",
    "# 背景色を変更する\n",
    "pyplot.gca().set_axis_on()\n",
    "pyplot.gca().set_facecolor('white')\n",
    "pyplot.show()"
   ]
  },
  {
   "cell_type": "markdown",
   "id": "e83a7617",
   "metadata": {},
   "source": [
    "#### 2.2.3 独立事象の同時確率"
   ]
  },
  {
   "cell_type": "markdown",
   "id": "f0d572d6",
   "metadata": {},
   "source": [
    "$ P( a\\cap B) = P(A) P(B\\mid A) $"
   ]
  },
  {
   "cell_type": "markdown",
   "id": "a3592a7c",
   "metadata": {},
   "source": [
    "$ P( a\\cup B) = P(A) + P(B) -  P(a \\cap B) $"
   ]
  },
  {
   "cell_type": "markdown",
   "id": "75e618b7",
   "metadata": {},
   "source": [
    "#### 2.3 分散と標準偏差\n",
    "##### 　分散は２乗してしまうと元の単位とは違う。そのため２乗することの逆演算をすることで元の単位に戻す。"
   ]
  },
  {
   "cell_type": "markdown",
   "id": "114a7746",
   "metadata": {},
   "source": [
    "\\begin{align}\n",
    "\\sigma &= \\sqrt{Var(f)} \\\\\n",
    "&=\\sqrt{E((f(X-x)-E(f))^2)}\\\\\n",
    "\\end{align}"
   ]
  },
  {
   "cell_type": "markdown",
   "id": "f59113a8",
   "metadata": {},
   "source": [
    "#### 2.3.1 確率分布\n",
    "##### ベルヌーイ分布\n",
    "#####   ・コイントスのイメージ\n",
    "#####   ・表と裏で出る割合が等しい\n",
    "&emsp;&emsp;&emsp;&emsp;$P(x \\mid \\mu ）= \\mu^x (1- \\mu) ^{1-x} $\n",
    "##### マルチヌーイ(カテゴリ or カテゴリカル）分布\n",
    "#####   ・さいころを転がすのイメージ\n",
    "#####   ・各面の出る割合が等しくなくとも扱える\n",
    "######  &emsp;&emsp;&emsp;&emsp;場合分けので数式が書けなくてもOK\n",
    "#### 二項分布\n",
    "#####   ・ベルヌーイ分布の多試行版\n",
    "&emsp;&emsp;&emsp;&emsp;$P(x \\mid \\mu,n ）= \\frac{n!}{x!(n-x)!}\\mu^x \t\\lambda(1 - \\lambda)^{n-x} $\n",
    "#### ガウス分布\n",
    "#####   ・釣鐘型の連続分布"
   ]
  },
  {
   "cell_type": "markdown",
   "id": "dedad627",
   "metadata": {},
   "source": [
    "#### 2.3.2 推定と推定値と推定量\n",
    "##### 推定：母集団と特徴つける母数（パラメータ：平均など）を統計学的に推測する。\n",
    "###### &emsp; &emsp;&emsp;点推定：平均値などを一つの値に推定すること。\n",
    "###### &emsp; &emsp;&emsp;区間推定：平均値などが存在する範囲(区間）を推定すること。\n",
    "##### 推定量(estimator)：パラメータを推定するために利用する数値の計算方法\n",
    "##### 推定値(estimate) ：実際に試行を行った結果から計算した値\n",
    "\n",
    "##### 　&emsp;&emsp;&emsp; 真の値を 　$ \\varTheta$ とすると　・・・ \t$\\hat{\\varTheta}$ のように表す。"
   ]
  },
  {
   "cell_type": "markdown",
   "id": "ef3fd967",
   "metadata": {},
   "source": [
    "#### 2.3.3 標本平均と標本分散\n",
    "##### 標本平均：母集団から取り出した標本の平均値\n",
    "###### &emsp; サンプル数が大きくなれば母集団の値に近づく　→　一致性\n",
    "###### &emsp; サンプル数がいくらであっても、その期待値は母集団の値と同様　→　不偏性（偏りのなさ）\n",
    "###### &emsp;&emsp; $ E(\\hat{\\varTheta}) = \\varTheta $\n",
    "##### 標本分散：\n",
    "###### &emsp;&emsp; $ (\\hat{\\varTheta})^2 = \\frac{1}{n} \\sum _{i=1} ^{n} {(x_i- \\bar{x})^2}  $\n",
    "###### &emsp; 一致性は満たすが\n",
    "###### &emsp; 不偏性は満たさない"
   ]
  },
  {
   "cell_type": "markdown",
   "id": "ebbf0362",
   "metadata": {},
   "source": [
    "# 3.情報理論"
   ]
  },
  {
   "cell_type": "markdown",
   "id": "c1b7fc82",
   "metadata": {},
   "source": [
    "### 3.1 情報科学\n"
   ]
  },
  {
   "cell_type": "markdown",
   "id": "eb2dbea7",
   "metadata": {},
   "source": [
    "#### 3.1.1 自己情報量\n",
    "&emsp;&emsp;  $ l(x) = - \\log {(P(x)} = \\log{(w(x)) } $"
   ]
  },
  {
   "cell_type": "markdown",
   "id": "81326c37",
   "metadata": {},
   "source": [
    "&emsp; &emsp; P(x)は確率   "
   ]
  },
  {
   "cell_type": "markdown",
   "id": "4bb1f417",
   "metadata": {},
   "source": [
    "&emsp;&emsp; W(x)はイベントの多さを表しているが、通常使うのは確率を使うことが多いのでP(x)で表す。"
   ]
  },
  {
   "cell_type": "markdown",
   "id": "b3bc6c00",
   "metadata": {},
   "source": [
    "#### 3.1.2 シャノンエントロピー\n",
    "###### &emsp; &emsp; ・微分エントロピー(でも微分はしない)\n",
    "###### &emsp; &emsp; ・自己情報量の期待値　（入手出来る情報量の多さを表している。）\n",
    "\\begin{align}\n",
    " H(x) &= E(I(x))\\\\\n",
    "&= - E(\\log (P(x))\\\\\n",
    "&= - \\sum _{} ^{} {P(x) \\log(p(x))}\n",
    "\\end{align}"
   ]
  },
  {
   "cell_type": "markdown",
   "id": "e89927f2",
   "metadata": {},
   "source": [
    "#### 3.1.3 カルバック・ライブラー　ダイバージェンス\n",
    "###### &emsp; &emsp; ・同じ事象・確率変数における異なる確率分布 P,Qの違いを表す。\n",
    "###### &emsp;&emsp;&emsp;&emsp;  $ E(f(x))  = - \\sum _{x} ^{} {P(x) f(x) } $\n",
    "###### &emsp; &emsp; $ D_kL( P \\parallel Q )　= \\sum _{x} ^{} {P(x)(- \\log(Q(x))-(-log(P(x)))}　 $\n"
   ]
  },
  {
   "cell_type": "markdown",
   "id": "833ef84d",
   "metadata": {},
   "source": [
    "#### 3.1.4 交差エントロピー\n",
    "###### &emsp; &emsp; ・KLダイバージェンスの一部分を取り出したもの。\n",
    "###### &emsp; &emsp; ・Qについての自己情報量をPの分布で平均している。\n",
    "###### &emsp; &emsp; $ D_kL( P \\parallel Q )　= \\sum _{x} ^{} {P(x)(- \\log(Q(x))-(-log(P(x)))}　 $\n",
    "###### &emsp; &emsp; &emsp; &emsp; &emsp; &emsp;  H(P,Q) = H(P) + D_KL(P \\parallel Q)"
   ]
  }
 ],
 "metadata": {
  "kernelspec": {
   "display_name": "Python 3",
   "language": "python",
   "name": "python3"
  },
  "language_info": {
   "codemirror_mode": {
    "name": "ipython",
    "version": 3
   },
   "file_extension": ".py",
   "mimetype": "text/x-python",
   "name": "python",
   "nbconvert_exporter": "python",
   "pygments_lexer": "ipython3",
   "version": "3.8.8"
  }
 },
 "nbformat": 4,
 "nbformat_minor": 5
}
