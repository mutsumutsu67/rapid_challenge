{
 "cells": [
  {
   "cell_type": "markdown",
   "id": "528cfa0c",
   "metadata": {},
   "source": [
    "# Stage 1 応用数学Report (線形代数/確率・統計/情報理論)\n",
    "# 1.線形代数\n",
    "## 1.１.行列\n",
    "### 1.1.1行列とは？\n",
    "#### &emsp;&emsp;スカラ―を表にしたもの。\n",
    "#### &emsp;&emsp;ベクトルを並べたもの\n",
    "#### &emsp;&emsp;&emsp;&emsp;→何に使うのか？\n",
    "#### &emsp;&emsp;&emsp;&emsp;&emsp;1.ベクトルの変換\n",
    "#### &emsp;&emsp;&emsp;&emsp;&emsp;2.連立方程式を解く\n",
    "##### &emsp;&emsp; 以下の連立方程式を"
   ]
  },
  {
   "cell_type": "markdown",
   "id": "0c8da0cb",
   "metadata": {},
   "source": [
    "$$\n",
    "        \\begin{cases}\n",
    "             &x_1  &+ &2x_2 &= 3 　\\\\\n",
    "             &2x_1 &+ &5x_2 &= 5 　\\\\ \n",
    "        \\end{cases}\n",
    "$$"
   ]
  },
  {
   "cell_type": "markdown",
   "id": "9560843a",
   "metadata": {},
   "source": [
    "##### &emsp;&emsp; 行列式で表すと以下の式になる。"
   ]
  },
  {
   "cell_type": "markdown",
   "id": "6d6d0d7e",
   "metadata": {},
   "source": [
    "$$\n",
    "A\\vec{x} = \\vec{b}\n",
    "$$\n",
    "$$\n",
    "\\left(\n",
    "    \\begin{matrix} \n",
    "1 & 2 \\\\ 2 & 5 \n",
    "\\end{matrix} \n",
    "\\right)\n",
    "\\left(\n",
    "    \\begin{matrix} \n",
    "x_1 \\\\ x_2 \n",
    "\\end{matrix} \n",
    "    \\right)  \n",
    "=\n",
    "    \\left(\n",
    "    \\begin{matrix} \n",
    "3 \\\\ 5 \n",
    "\\end{matrix} \n",
    "    \\right)  \n",
    "$$"
   ]
  },
  {
   "cell_type": "markdown",
   "id": "d4ce14a1",
   "metadata": {},
   "source": [
    "##### 1.1.2 行列とベクトルの積"
   ]
  },
  {
   "cell_type": "markdown",
   "id": "aa879d59",
   "metadata": {},
   "source": [
    "$$\n",
    "\\left(\n",
    "    \\begin{matrix} \n",
    "6& 4\\\\ 3& 5 \n",
    "\\end{matrix} \n",
    "\\right)\n",
    "\\left(\n",
    "    \\begin{matrix} \n",
    "1 \\\\ 2 \n",
    "\\end{matrix} \n",
    "    \\right)  \n",
    "=\n",
    "    \\left(\n",
    "    \\begin{matrix} \n",
    "6*1+4*2 \\\\ 3*1+5*2 \n",
    "\\end{matrix} \n",
    "    \\right)  \n",
    "=\n",
    "    \\left(\n",
    "    \\begin{matrix} \n",
    "14 \\\\ 13 \n",
    "\\end{matrix} \n",
    "    \\right)  \n",
    "$$"
   ]
  },
  {
   "cell_type": "markdown",
   "id": "ab82f1d9",
   "metadata": {},
   "source": [
    "行列の積は、先の行列の\"行\"と後の行列の\"列”の積を和したものになる。"
   ]
  },
  {
   "cell_type": "markdown",
   "id": "4aa00edf",
   "metadata": {},
   "source": [
    "例："
   ]
  },
  {
   "cell_type": "markdown",
   "id": "0f350395",
   "metadata": {},
   "source": [
    "$$\n",
    "\\begin{matrix}\n",
    "\\left[\n",
    "\\begin{array}{ccc}\n",
    "a_{11} & a_{12} & a_{13} \\\\\n",
    "a_{21} & a_{22} & a_{23} \\\\\n",
    "a_{31} & a_{32} & a_{33} \\\\\n",
    "\\end{array}\n",
    "\\right]\n",
    "\\end{matrix}\n",
    "\\begin{matrix}\n",
    "\\left[\n",
    "\\begin{array}{ccc}\n",
    "b_{11} & b_{12} & b_{13} \\\\\n",
    "b_{21} & b_{22} & b_{23} \\\\\n",
    "b_{31} & b_{32} & b_{33} \\\\\n",
    "\\end{array}\n",
    "\\right]\n",
    "\\end{matrix}\n",
    "=\n",
    "\\begin{matrix}\n",
    "\\left[\n",
    "\\begin{array}{ccc}\n",
    "a_{11}*b_{11}+a_{12}*b_{21}+ a_{13}*b_{31}& \\cdots &  \\cdots \\\\\n",
    " \\cdots & a_{21}*b_{12}+a_{22}*b_{22}+ a_{23}*b_{32} & \\cdots \\\\\n",
    " \\cdots & \\cdots &a_{31}*b_{13}+a_{32}*b_{23}+ a_{33}*b_{33} \\\\\n",
    "\\end{array}\n",
    "\\right]\n",
    "\\end{matrix}\n",
    "$$"
   ]
  },
  {
   "cell_type": "markdown",
   "id": "e5aabeff",
   "metadata": {},
   "source": [
    "##### 1.1.3 行基本変換\n",
    "　　行列式で連立方程式を解く場合、**行列基本変形**を行い左辺の行列を単位行列に変換する。その場合右辺が方程式の解となる。"
   ]
  },
  {
   "cell_type": "markdown",
   "id": "d293aae8",
   "metadata": {},
   "source": [
    "###### &nbsp;&nbsp;&nbsp;&nbsp;**行基本変形の方法：**\n",
    "&nbsp;&nbsp;&nbsp;&nbsp;①.K列をC倍  \n",
    "&nbsp;&nbsp;&nbsp;&nbsp;②.S行目にt行目のC倍を加える  \n",
    "&nbsp;&nbsp;&nbsp;&nbsp;③.P行目とq行目を入れ替え  "
   ]
  },
  {
   "cell_type": "markdown",
   "id": "2a8b17dd",
   "metadata": {},
   "source": [
    "&nbsp;&nbsp;&nbsp;&nbsp;&nbsp;&nbsp;&nbsp;&nbsp;行基本変形の例：  "
   ]
  },
  {
   "cell_type": "markdown",
   "id": "a3d5ad4a",
   "metadata": {},
   "source": [
    "$$\n",
    "\\left(\n",
    "    \\begin{matrix} \n",
    "1 & 4 \\\\ 2 & 6 \n",
    "\\end{matrix} \n",
    "\\right)\n",
    "\\left(\n",
    "    \\begin{matrix} \n",
    "x_1 \\\\ x_2 \n",
    "\\end{matrix} \n",
    "    \\right)  \n",
    "=\n",
    "    \\left(\n",
    "    \\begin{matrix} \n",
    "7 \\\\ 10 \n",
    "\\end{matrix} \n",
    "    \\right)  \n",
    "$$\n",
    "$$\n",
    "\\downarrow\n",
    "$$\n",
    "$$\n",
    "\\left(\n",
    "    \\begin{matrix} \n",
    "1 & 4 \\\\ 1 & 3 \n",
    "\\end{matrix} \n",
    "\\right)\n",
    "\\left(\n",
    "    \\begin{matrix} \n",
    "x_1 \\\\ x_2 \n",
    "\\end{matrix} \n",
    "    \\right)  \n",
    "=\n",
    "    \\left(\n",
    "    \\begin{matrix} \n",
    "7 \\\\ 5 \n",
    "\\end{matrix} \n",
    "    \\right)  \n",
    "$$\n",
    "$$\n",
    "\\downarrow\n",
    "$$\n",
    "$$\n",
    "\\left(\n",
    "    \\begin{matrix} \n",
    "0 & 1 \\\\ 1 & 3 \n",
    "\\end{matrix} \n",
    "\\right)\n",
    "\\left(\n",
    "    \\begin{matrix} \n",
    "x_1 \\\\ x_2 \n",
    "\\end{matrix} \n",
    "    \\right)  \n",
    "=\n",
    "    \\left(\n",
    "    \\begin{matrix} \n",
    "2 \\\\ 5 \n",
    "\\end{matrix} \n",
    "    \\right)  \n",
    "$$\n",
    "$$\n",
    "\\downarrow\n",
    "$$\n",
    "$$\n",
    "\\left(\n",
    "    \\begin{matrix} \n",
    "0 & 1 \\\\ 1 & 0 \n",
    "\\end{matrix} \n",
    "\\right)\n",
    "\\left(\n",
    "    \\begin{matrix} \n",
    "x_1 \\\\ x_2 \n",
    "\\end{matrix} \n",
    "    \\right)  \n",
    "=\n",
    "    \\left(\n",
    "    \\begin{matrix} \n",
    "2 \\\\ -1 \n",
    "\\end{matrix} \n",
    "    \\right)  \n",
    "$$\n",
    "$$\n",
    "\\downarrow\n",
    "$$\n",
    "$$\n",
    "\\left(\n",
    "    \\begin{matrix} \n",
    "1 & 0 \\\\ 0 & 1 \n",
    "\\end{matrix} \n",
    "\\right)\n",
    "\\left(\n",
    "    \\begin{matrix} \n",
    "x_1 \\\\ x_2 \n",
    "\\end{matrix} \n",
    "    \\right)  \n",
    "=\n",
    "    \\left(\n",
    "    \\begin{matrix} \n",
    "-1 \\\\ 2 \n",
    "\\end{matrix} \n",
    "    \\right)  \n",
    "$$"
   ]
  },
  {
   "cell_type": "markdown",
   "id": "1e2ea403",
   "metadata": {},
   "source": [
    "###### 左辺の行列が**単位行列**になると完了。"
   ]
  },
  {
   "cell_type": "markdown",
   "id": "baaa2b17",
   "metadata": {},
   "source": [
    "##### 1.1.4 行列の逆数"
   ]
  },
  {
   "cell_type": "markdown",
   "id": "1c9366ab",
   "metadata": {},
   "source": [
    "$$\n",
    "\\left(\n",
    "    \\begin{matrix} \n",
    "1 & 4 \\\\ 2 & 6 \n",
    "\\end{matrix} \n",
    "\\right)\n",
    "\\left(\n",
    "    \\begin{matrix} \n",
    "x_1 \\\\ x_2 \n",
    "\\end{matrix} \n",
    "    \\right)  \n",
    "=\n",
    "    \\left(\n",
    "    \\begin{matrix} \n",
    "7 \\\\ 10 \n",
    "\\end{matrix} \n",
    "    \\right)  \n",
    "$$"
   ]
  },
  {
   "cell_type": "markdown",
   "id": "1cf4daf3",
   "metadata": {},
   "source": [
    "行列の変換を一つの列で表すと"
   ]
  },
  {
   "cell_type": "markdown",
   "id": "4965f5d7",
   "metadata": {},
   "source": [
    "$$\n",
    "\\left(\n",
    "    \\begin{matrix} \n",
    "1 & 0 \\\\ 0 & 1 \n",
    "\\end{matrix} \n",
    "\\right)\n",
    "\\left(\n",
    "    \\begin{matrix} \n",
    "1 & 0 \\\\ -3 & 1 \n",
    "\\end{matrix} \n",
    "\\right)\n",
    "\\left(\n",
    "    \\begin{matrix} \n",
    "1 & -1 \\\\ 0 & 1 \n",
    "\\end{matrix} \n",
    "\\right)\n",
    "\\left(\n",
    "    \\begin{matrix} \n",
    "1 & 0 \\\\ 0 & 1/2 \n",
    "\\end{matrix} \n",
    "\\right)\n",
    "\\left(\n",
    "    \\begin{matrix} \n",
    "1 & 4 \\\\ 2 & 6 \n",
    "\\end{matrix} \n",
    "\\right)\n",
    "\\left(\n",
    "    \\begin{matrix} \n",
    "x_1 \\\\ x_2 \n",
    "\\end{matrix} \n",
    "    \\right)  \n",
    "=\n",
    "\\left(\n",
    "    \\begin{matrix} \n",
    "0 & 1 \\\\ 1 & 0 \n",
    "\\end{matrix} \n",
    "\\right)\n",
    "\\left(\n",
    "    \\begin{matrix} \n",
    "1 & 0 \\\\ -3 & 1 \n",
    "\\end{matrix} \n",
    "\\right)\n",
    "\\left(\n",
    "    \\begin{matrix} \n",
    "1 & -1 \\\\ 0 & 1 \n",
    "\\end{matrix} \n",
    "\\right)\n",
    "\\left(\n",
    "    \\begin{matrix} \n",
    "1 & 0 \\\\ 0 & \\frac{1}{2} \n",
    "\\end{matrix} \n",
    "\\right)\n",
    "    \\left(\n",
    "    \\begin{matrix} \n",
    "7 \\\\ 10 \n",
    "\\end{matrix} \n",
    "    \\right)  \n",
    "$$\n",
    "$$\n",
    "\\left(\n",
    "    \\begin{matrix} \n",
    "-3 & 2 \\\\ 1 & -1/2  \n",
    "\\end{matrix} \n",
    "\\right)\n",
    "\\left(\n",
    "    \\begin{matrix} \n",
    "1 & 4 \\\\ 2 & 6 \n",
    "\\end{matrix} \n",
    "\\right)\n",
    "\\left(\n",
    "    \\begin{matrix} \n",
    "x_1 \\\\ x_2 \n",
    "\\end{matrix} \n",
    "    \\right)  \n",
    "=\n",
    "\\left(\n",
    "    \\begin{matrix} \n",
    "-3 & 2 \\\\ 1 & - \\frac{1}{2} \n",
    "\\end{matrix} \n",
    "\\right)\n",
    "\\left(\n",
    "    \\begin{matrix} \n",
    "7 \\\\ 10 \n",
    "\\end{matrix} \n",
    "    \\right)  \n",
    "$$"
   ]
  },
  {
   "cell_type": "markdown",
   "id": "c4d63f46",
   "metadata": {},
   "source": [
    "#### 1.1.5 単位行列"
   ]
  },
  {
   "cell_type": "markdown",
   "id": "ede049ba",
   "metadata": {},
   "source": [
    "###### &emsp;&emsp;&emsp;行列式と掛けても(積しても）行列式の値が変化しない行列"
   ]
  },
  {
   "cell_type": "markdown",
   "id": "089e84d0",
   "metadata": {},
   "source": [
    "$$\n",
    "\\left(\n",
    "    \\begin{matrix} \n",
    "1 & 0 \\\\ 0 & 1 \n",
    "\\end{matrix} \n",
    "\\right)\n",
    "\\left(\n",
    "    \\begin{matrix}  \n",
    "2 & 3 \\\\ 1 & 9 \n",
    "\\end{matrix} \n",
    "\\right)\n",
    "=\n",
    "\\left(\n",
    "    \\begin{matrix}  \n",
    "2 & 3 \\\\ 1 & 9 \n",
    "\\end{matrix} \n",
    "\\right)\n",
    ",\n",
    "\\left(\n",
    "    \\begin{matrix} \n",
    "2 & 3 \\\\ 1 & 9 \n",
    "\\end{matrix} \n",
    "\\right)\n",
    "\\left(\n",
    "    \\begin{matrix}  \n",
    "1 & 0 \\\\ 0 & 1 \n",
    "\\end{matrix} \n",
    "\\right)\n",
    "=\n",
    "\\left(\n",
    "    \\begin{matrix}  \n",
    "2 & 3 \\\\ 1 & 9 \n",
    "\\end{matrix} \n",
    "\\right)\n",
    "$$"
   ]
  },
  {
   "cell_type": "markdown",
   "id": "5c64d874",
   "metadata": {},
   "source": [
    "$$  \n",
    "　A・A^{-1}　= A^{-1}・A = I\n",
    "$$  "
   ]
  },
  {
   "cell_type": "markdown",
   "id": "51483d1b",
   "metadata": {},
   "source": [
    "#### 1.1.6　逆行列の作り方"
   ]
  },
  {
   "cell_type": "markdown",
   "id": "43969ced",
   "metadata": {},
   "source": [
    "###### &emsp;&emsp;&emsp;　以下の行列をガウスの掃き出し法（行基本変形)使って逆行列を求める。"
   ]
  },
  {
   "cell_type": "markdown",
   "id": "896f6564",
   "metadata": {},
   "source": [
    "$$\n",
    "\\left(\n",
    "    \\begin{matrix} \n",
    "1 & 4 \\\\ 2 & 6 \n",
    "\\end{matrix} \n",
    "\\right)\n",
    "\\left(\n",
    "    \\begin{matrix} \n",
    "x_1 \\\\ x_2 \n",
    "\\end{matrix} \n",
    "    \\right)  \n",
    "=\n",
    "    \\left(\n",
    "    \\begin{matrix} \n",
    "7 \\\\ 10 \n",
    "\\end{matrix} \n",
    "    \\right)  \n",
    "$$\n",
    "$$\n",
    "\\left(\n",
    "    \\begin{matrix} \n",
    "1 & 4 \\\\ 2 & 6 \n",
    "\\end{matrix} \n",
    "\\right)\n",
    "\\left(\n",
    "    \\begin{matrix} \n",
    "x_1 \\\\ x_2 \n",
    "\\end{matrix} \n",
    "    \\right)  \n",
    "=\n",
    "\\left(\n",
    "    \\begin{matrix} \n",
    "1 & 0 \\\\ 0 & 1 \n",
    "\\end{matrix} \n",
    "\\right)\n",
    "    \\left(\n",
    "    \\begin{matrix} \n",
    "7 \\\\ 10 \n",
    "\\end{matrix} \n",
    "    \\right)  \n",
    "$$"
   ]
  },
  {
   "cell_type": "markdown",
   "id": "25f4a5e7",
   "metadata": {},
   "source": [
    "###### &emsp;&emsp;&emsp;&emsp;手順："
   ]
  },
  {
   "cell_type": "markdown",
   "id": "06b1fb6c",
   "metadata": {},
   "source": [
    "$$\n",
    "\\left(\n",
    "    \\begin{array}{cc|cc} \n",
    "1 & 4 & 1& 0 \\\\ 2 & 6 & 0 & 1 \n",
    "\\end{array} \n",
    "\\right)\n",
    "$$\n",
    "$$\n",
    "\\downarrow\n",
    "$$\n",
    "$$\n",
    "\\left(\n",
    "    \\begin{array}{cc|cc} \n",
    "1 & 4 & 1& 0 \\\\ 1 & 3 & 0 & \\frac{1}{2} \n",
    "\\end{array} \n",
    "\\right)\n",
    "$$\n",
    "$$\n",
    "\\downarrow\n",
    "$$\n",
    "$$\n",
    "\\left(\n",
    "    \\begin{array}{cc|cc} \n",
    "0 & 1 & 1 & -\\frac{1}{2}  \\\\ 1 & 3 & 0 & \\frac{1}{2} \n",
    "\\end{array} \n",
    "\\right)\n",
    "$$\n",
    "$$\n",
    "\\downarrow\n",
    "$$\n",
    "$$\n",
    "\\left(\n",
    "    \\begin{array}{cc|cc} \n",
    "0 & 1 & 1 & -\\frac{1}{2}  \\\\ 1 & 0 & -3 & 2 \n",
    "\\end{array} \n",
    "\\right)\n",
    "$$\n",
    "$$\n",
    "\\downarrow\n",
    "$$\n",
    "$$\n",
    "\\left(\n",
    "    \\begin{array}{cc|cc} \n",
    "1 & 0 & -3 & 2 \\\\ 0 & 1 & 1 & -\\frac{1}{2} \n",
    "\\end{array} \n",
    "\\right)\n",
    "$$"
   ]
  },
  {
   "cell_type": "markdown",
   "id": "f34f4b29",
   "metadata": {},
   "source": [
    "#### 1.1.7　逆行列が存在しないケース"
   ]
  },
  {
   "cell_type": "markdown",
   "id": "fb5b4393",
   "metadata": {},
   "source": [
    "&emsp;&emsp;&emsp;&emsp; 平行になって交わらない"
   ]
  },
  {
   "cell_type": "markdown",
   "id": "574019ea",
   "metadata": {},
   "source": [
    "  "
   ]
  },
  {
   "cell_type": "markdown",
   "id": "491e35a4",
   "metadata": {},
   "source": [
    "$$  \n",
    "x_1 + 4x_2 = 7 \\\\\n",
    "x_1 + 4x_2 = 7\n",
    "$$  "
   ]
  },
  {
   "cell_type": "markdown",
   "id": "ef44b20b",
   "metadata": {},
   "source": [
    "&emsp;&emsp;&emsp;&emsp;解が定まらない"
   ]
  },
  {
   "cell_type": "markdown",
   "id": "2fabc3ad",
   "metadata": {},
   "source": [
    "$$  \n",
    "x_1 + 4x_2 = 7 \\\\\n",
    "2x_1 + 8x_2 = 14\n",
    "$$ "
   ]
  },
  {
   "cell_type": "markdown",
   "id": "c0d4d8e7",
   "metadata": {},
   "source": [
    "&emsp;&emsp;&emsp;&emsp;形式的には、"
   ]
  },
  {
   "cell_type": "markdown",
   "id": "ac83e952",
   "metadata": {},
   "source": [
    "$$\n",
    "\\left(\n",
    "    \\begin{matrix} \n",
    "a & b \\\\ c & d \n",
    "\\end{matrix} \n",
    "\\right)\n",
    "$$\n",
    "$  a:b \\neq c:d $ 逆行列の解を持つ $\\\\  $  $  a:b = c:d $ 逆行列の解を持たない"
   ]
  },
  {
   "cell_type": "markdown",
   "id": "4d980d99",
   "metadata": {},
   "source": [
    "#### 1.1.8　逆行列の判別"
   ]
  },
  {
   "cell_type": "markdown",
   "id": "f433930b",
   "metadata": {},
   "source": [
    "\n",
    "$$\n",
    "\\left(\n",
    "    \\begin{matrix} \n",
    "a & b \\\\ c & d \n",
    "\\end{matrix} \n",
    "\\right)\n",
    " =\n",
    "\\left(\n",
    "    \\begin{matrix} \n",
    "    \\vec{v_1} \\\\ \\vec{v_2} \n",
    "\\end{matrix} \n",
    "\\right)\n",
    "$$"
   ]
  },
  {
   "cell_type": "markdown",
   "id": "1dbfa0bd",
   "metadata": {},
   "source": [
    "<font color=\"Skybule\">rule1 .同じものを含むと0になる</font>"
   ]
  },
  {
   "cell_type": "markdown",
   "id": "ce3694ec",
   "metadata": {},
   "source": [
    "$$ \n",
    "\\begin{vmatrix}\n",
    "\\vec{v_1} \\\\ \\vec{v_2} \\\\ \\vec{v_3}\n",
    "\\end{vmatrix}\n",
    " = 0\n",
    "$$"
   ]
  },
  {
   "cell_type": "markdown",
   "id": "92394c0e",
   "metadata": {},
   "source": [
    "<font color=\"Skybule\">rule 2 .１つのベクトルがλ倍されると行列式はλ倍される</font>"
   ]
  },
  {
   "cell_type": "markdown",
   "id": "41b9bdae",
   "metadata": {},
   "source": [
    "$$ \n",
    "\\begin{vmatrix}\n",
    "\\vec{v_1} \\\\ \\vec{v_2} \\\\ \\vec{v_3}\n",
    "\\end{vmatrix}\n",
    " = \n",
    "λ\n",
    "\\begin{vmatrix}\n",
    "\\vec{v_1} \\\\ \\vec{v_2} \\\\ \\vec{v_3}\n",
    "\\end{vmatrix}\n",
    "$$"
   ]
  },
  {
   "cell_type": "markdown",
   "id": "8db5e11c",
   "metadata": {},
   "source": [
    "<font color=\"Skybule\">rule 3.１つのベクトルがλ倍されると行列式はλ倍される</font>"
   ]
  },
  {
   "cell_type": "markdown",
   "id": "a67581f7",
   "metadata": {},
   "source": [
    "$$ \n",
    "\\begin{vmatrix}\n",
    "\\vec{v_1} \\\\ \\vec{v_2} + \\vec{w}  \\\\ \\vec{v_3}\n",
    "\\end{vmatrix}\n",
    " = \n",
    "\\begin{vmatrix}\n",
    "\\vec{v_1} \\\\ \\vec{v_2} \\\\ \\vec{v_3}\n",
    "\\end{vmatrix}\n",
    "+ \n",
    "\\begin{vmatrix}\n",
    "\\vec{v_1} \\\\ \\vec{w} \\\\ \\vec{v_3}\n",
    "\\end{vmatrix}\n",
    "$$"
   ]
  },
  {
   "cell_type": "markdown",
   "id": "d4b4b8e1",
   "metadata": {},
   "source": [
    "<font color=\"Skybule\">rule 4.行を入れ替えると符号が変わる</font>"
   ]
  },
  {
   "cell_type": "markdown",
   "id": "b7efa7cd",
   "metadata": {},
   "source": [
    "$$ \n",
    "\\begin{vmatrix}\n",
    "\\vec{v_1} \\\\ \\vec{v_2} \\\\  \\vec{v_3}  \\\\ \\vec{v_4}\n",
    "\\end{vmatrix}\n",
    " = -\n",
    "\\begin{vmatrix}\n",
    "\\vec{v_1} \\\\ \\vec{v_3} \\\\ \\vec{v_2} \\\\ \\vec{v_4}\n",
    "\\end{vmatrix}\n",
    "$$"
   ]
  },
  {
   "cell_type": "markdown",
   "id": "c93656e4",
   "metadata": {},
   "source": [
    "<font color=\"Skybule\">rule 5. 3x3の行列式の和を2x2の行列式の和に変換</font>"
   ]
  },
  {
   "cell_type": "markdown",
   "id": "3da7c770",
   "metadata": {},
   "source": [
    "$$ \n",
    "\\begin{vmatrix}\n",
    "\\vec{v_1} \\\\ \\vec{v_2} \\\\  \\vec{v_3} \n",
    "\\end{vmatrix}\n",
    "= \n",
    "\\begin{vmatrix}\n",
    "a & b & c \\\\ d & e & f \\\\ g & h & i\n",
    "\\end{vmatrix}\n",
    "=\n",
    "\\begin{vmatrix}\n",
    "a & b & c \\\\ 0 & e & f \\\\ 0 & h & i\n",
    "\\end{vmatrix}\n",
    "+\n",
    "\\begin{vmatrix}\n",
    "0 & b & c \\\\ d & e & f \\\\ 0 & h & i\n",
    "\\end{vmatrix}\n",
    "+\n",
    "\\begin{vmatrix}\n",
    "0 & b & c \\\\ 0 & e & f \\\\ g & h & i\n",
    "\\end{vmatrix}\n",
    "\\\\  \n",
    "=\n",
    "a \n",
    "\\begin{vmatrix}\n",
    " e & f \\\\  h & i\n",
    "\\end{vmatrix}\n",
    "- d \n",
    "\\begin{vmatrix}\n",
    "b & c \\\\ h & i\n",
    "\\end{vmatrix}\n",
    "+ g \n",
    "\\begin{vmatrix}\n",
    "b & c \\\\ e & f \n",
    "\\end{vmatrix}\n",
    "$$"
   ]
  },
  {
   "cell_type": "markdown",
   "id": "a74f0516",
   "metadata": {},
   "source": [
    "#### 1.1.9 固有値と固有ベクトル"
   ]
  },
  {
   "cell_type": "markdown",
   "id": "ade79ab5",
   "metadata": {},
   "source": [
    "A $\\vec{x} $ = λ$\\vec{x} $ \n",
    "\n",
    "行列Aとその特殊なベクトル $\\vec{x} $の積はただのスカラ―の数λとその特殊なベクトルと同じ値になる。$\\\\  $   \n",
    "この場合、を固有ベクトルと呼び、λを固有値という。"
   ]
  },
  {
   "cell_type": "markdown",
   "id": "388ae51f",
   "metadata": {},
   "source": [
    "$$\n",
    "\\left(\n",
    "    \\begin{matrix} \n",
    "1 & 2 \\\\ 3 & 4\n",
    "\\end{matrix} \n",
    "\\right)\n",
    "\\left(\n",
    "    \\begin{matrix} \n",
    "1 \\\\ 1 \n",
    "\\end{matrix} \n",
    "\\right)\n",
    " =\n",
    "\\left(\n",
    "    \\begin{matrix} \n",
    "    5 \\\\ 5 \n",
    "\\end{matrix} \n",
    "\\right)\n",
    "$$\n",
    "$$\n",
    "固有値λ = 5 , 固有ベクトル\\vec{x}= \n",
    "\\left(\n",
    "    \\begin{matrix} \n",
    "    1 \\\\ 1 \n",
    "\\end{matrix} \n",
    "\\right)\n",
    "$$"
   ]
  },
  {
   "cell_type": "markdown",
   "id": "05c99796",
   "metadata": {},
   "source": [
    "固有値と固有ベクトルの求め方$ \\\\  "
   ]
  },
  {
   "cell_type": "markdown",
   "id": "38eca03a",
   "metadata": {},
   "source": [
    " $  A \\vec{x} = λ\\vec{x} $"
   ]
  },
  {
   "cell_type": "markdown",
   "id": "d3affef9",
   "metadata": {},
   "source": [
    "$ ( A - λ　I)   \\vec{x} =\\vec{0} $"
   ]
  },
  {
   "cell_type": "markdown",
   "id": "41e30704",
   "metadata": {},
   "source": [
    "$ I:単位行列 $"
   ]
  },
  {
   "cell_type": "markdown",
   "id": "b19693f3",
   "metadata": {},
   "source": [
    "固有値と固有ベクトルの求め方$ \\\\  $  A $\\vec{x} $ = λ$\\vec{x} $\n",
    "( A - λI) $  \\vec{x} $ = $\\vec{0} $ "
   ]
  },
  {
   "cell_type": "markdown",
   "id": "42b74fb0",
   "metadata": {},
   "source": [
    "$$ \n",
    "\\begin{vmatrix}\n",
    "A - λI\n",
    "\\end{vmatrix}\n",
    " = 0\n",
    "$$"
   ]
  },
  {
   "cell_type": "markdown",
   "id": "86b84503",
   "metadata": {},
   "source": [
    "$$ \n",
    "\\begin{vmatrix}\n",
    "1 - λI & 4 \\\\ 2 & 3-λ\n",
    "\\end{vmatrix}\n",
    " = 0\n",
    "$$"
   ]
  },
  {
   "cell_type": "markdown",
   "id": "37b2bf2a",
   "metadata": {},
   "source": [
    "$$\n",
    "\\left(\n",
    "    \\begin{matrix} \n",
    "1 & 4 \\\\ 2 & 3\n",
    "\\end{matrix} \n",
    "\\right)\n",
    "\\left(\n",
    "    \\begin{matrix} \n",
    "x_1 \\\\ x_2  \n",
    "\\end{matrix} \n",
    "\\right)\n",
    " = 5 \n",
    "\\left(\n",
    "    \\begin{matrix} \n",
    "   x_1 \\\\ x_2\n",
    "\\end{matrix} \n",
    "\\right)\n",
    "$$\n",
    "$$\n",
    "\\downarrow\n",
    "$$\n",
    "$$\n",
    "\\left(\n",
    "    \\begin{matrix} \n",
    " x_1 + 4 x_2 \\\\ 2x1 + 3x_2\n",
    "\\end{matrix} \n",
    "\\right)\n",
    " = 5 \n",
    "\\left(\n",
    "    \\begin{matrix} \n",
    "   x_1 \\\\ x_2\n",
    "\\end{matrix} \n",
    "\\right)\n",
    "$$\n",
    "$$\n",
    "\\downarrow\n",
    "$$\n",
    "$$\n",
    "\\left(\n",
    "    \\begin{matrix} \n",
    " x_1 + 4 x_2 \\\\ 2x1 + 3x_2\n",
    "\\end{matrix} \n",
    "\\right)\n",
    " = 5 \n",
    "\\left(\n",
    "    \\begin{matrix} \n",
    "   x_1 \\\\ x_2\n",
    "\\end{matrix} \n",
    "\\right)\n",
    "$$\n",
    "$$\n",
    "\\downarrow\n",
    "$$\n",
    "$$\n",
    "\\left(\n",
    "    \\begin{matrix} \n",
    " 1 & 4 \\\\ 2 & 3\n",
    "\\end{matrix} \n",
    "\\right) \n",
    "\\left(\n",
    "    \\begin{matrix} \n",
    "   x_1 \\\\ x_2\n",
    "\\end{matrix} \n",
    "\\right)\n",
    "= -1 \n",
    "\\left(\n",
    "    \\begin{matrix} \n",
    "   x_1 \\\\ x_2\n",
    "\\end{matrix} \n",
    "\\right)\n",
    "$$"
   ]
  },
  {
   "cell_type": "markdown",
   "id": "a8ec293d",
   "metadata": {},
   "source": [
    "比率までしか、わからない。"
   ]
  },
  {
   "cell_type": "markdown",
   "id": "57ce708b",
   "metadata": {},
   "source": [
    "固有値が先に求まる。"
   ]
  },
  {
   "cell_type": "markdown",
   "id": "b198ed9d",
   "metadata": {},
   "source": [
    "3 x 3の行列式の固有値、固有ベクトルの求め方\n",
    "$$\n",
    "\\left(\n",
    "    \\begin{matrix} \n",
    "3 & 2 & 0 \\\\ 0 & 2 & 0 \\\\ 0 & 0 & 1\n",
    "\\end{matrix} \n",
    "\\right)\n",
    "$$"
   ]
  },
  {
   "cell_type": "markdown",
   "id": "29f6245f",
   "metadata": {},
   "source": [
    "$$\n",
    "\\begin{vmatrix}\n",
    "3 - λ & 2 & 0 \\\\ 0 & 2 - λ & 0 \\\\ 0 & 0 & 1 - λ \n",
    "\\end{vmatrix}\n",
    "= 0\n",
    "$$"
   ]
  },
  {
   "cell_type": "markdown",
   "id": "ba425dc4",
   "metadata": {},
   "source": [
    "(3 - λ) (2  - λ)(1 - λ) = 0"
   ]
  },
  {
   "cell_type": "markdown",
   "id": "03b9389d",
   "metadata": {},
   "source": [
    "固有値(λ）は　３，２，１"
   ]
  },
  {
   "cell_type": "markdown",
   "id": "f6c4381e",
   "metadata": {},
   "source": [
    "$$\n",
    "\\left(\n",
    "    \\begin{matrix} \n",
    "3 & 2 & 0 \\\\ 0 & 2 & 0 \\\\ 0 & 0 & 1\n",
    "\\end{matrix} \n",
    "\\right)\n",
    "\\left(\n",
    "    \\begin{matrix} \n",
    "x_1 \\\\ x_2 \\\\ x_3\n",
    "\\end{matrix} \n",
    "\\right)\n",
    " = \n",
    "3\n",
    "\\left(\n",
    "    \\begin{matrix} \n",
    "x_1 \\\\ x_2 \\\\ x_3\n",
    "\\end{matrix} \n",
    "\\right)\n",
    "  \\begin{align}\n",
    "    &\\begin{split} \n",
    "  3x_1 + 2x_2 = 3x_1 \\\\ 2x_2 = 3x_2  \\\\x_3 = 3x_3\n",
    "\\end{split}\n",
    "\\end{align}\n",
    "$$"
   ]
  },
  {
   "cell_type": "markdown",
   "id": "ec4bfe66",
   "metadata": {},
   "source": [
    "λ =3 &emsp;&emsp;&emsp;&emsp;$\\vec{x} =\n",
    "\\left(    \n",
    "\\begin{matrix} \n",
    "1 \\\\ 0\n",
    "\\end{matrix} \n",
    "\\right)\n",
    "  \\begin{align}\n",
    "    &\\begin{split} \n",
    "      　の定数倍\n",
    "\\end{split}\n",
    "\\end{align}\n",
    "$"
   ]
  },
  {
   "cell_type": "markdown",
   "id": "ad382fa8",
   "metadata": {},
   "source": [
    "λ =2 &emsp;&emsp;&emsp;&emsp; $\\vec{x} =\n",
    "\\left(    \n",
    "\\begin{matrix} \n",
    "2 \\\\ 0\n",
    "\\end{matrix} \n",
    "\\right)\n",
    "  \\begin{align}\n",
    "    &\\begin{split} \n",
    "      　の定数倍\n",
    "\\end{split}\n",
    "\\end{align}\n",
    "$"
   ]
  },
  {
   "cell_type": "markdown",
   "id": "3fa9b082",
   "metadata": {},
   "source": [
    "λ =1 &emsp;&emsp;&emsp;&emsp; $\\vec{x} =\n",
    "\\left(    \n",
    "\\begin{matrix} \n",
    "0 \\\\ 1\n",
    "\\end{matrix} \n",
    "\\right)\n",
    "  \\begin{align}\n",
    "    &\\begin{split} \n",
    "      　の定数倍\n",
    "\\end{split}\n",
    "\\end{align}\n",
    "$"
   ]
  },
  {
   "cell_type": "markdown",
   "id": "4a740db6",
   "metadata": {},
   "source": [
    "#### 1.1.10 固有値分解"
   ]
  },
  {
   "cell_type": "markdown",
   "id": "5a440e05",
   "metadata": {},
   "source": [
    "$$\n",
    "A=\\begin{pmatrix}\n",
    "\\lambda_{1} & 0      & \\cdots & \\cdots & \\cdots\\\\\n",
    "0      & \\lambda_{2} & 0      & \\cdots & \\cdots\\\\\n",
    "0 & \\cdots & \\lambda_{3} & 0      & \\cdots\\\\\n",
    "0 & \\cdots & \\cdots  & \\lambda_{4} & 0    \\\\\n",
    "0 & \\cdots & \\cdots  & \\cdots & \\lambda_{5} \\\\\n",
    "\\end{pmatrix}\n",
    ", V=\n",
    "\\left(\n",
    "    \\begin{matrix} \n",
    "   \\vec{v_1} &  \\vec{v_1} & \\cdots \\\\ \n",
    "\\end{matrix} \n",
    "\\right)\n",
    "$$\n"
   ]
  },
  {
   "cell_type": "markdown",
   "id": "6e93d25f",
   "metadata": {},
   "source": [
    "分解することで、似ているものを探す"
   ]
  },
  {
   "cell_type": "markdown",
   "id": "4fc7d3e2",
   "metadata": {},
   "source": [
    "$ AV = VA $\n",
    "$ A = VAV^{-1} $"
   ]
  },
  {
   "cell_type": "markdown",
   "id": "207b2768",
   "metadata": {},
   "source": [
    "*1 ： $ V^{-1}は逆行列$"
   ]
  },
  {
   "cell_type": "markdown",
   "id": "61a56a2b",
   "metadata": {},
   "source": [
    "固有値分解の具体例"
   ]
  },
  {
   "cell_type": "markdown",
   "id": "f5591125",
   "metadata": {},
   "source": [
    "$$\n",
    "\\left(\n",
    "    \\begin{matrix} \n",
    "1 & 2 \\\\ 3 & 4\n",
    "\\end{matrix} \n",
    "\\right)\n",
    "=\n",
    "\\left(\n",
    "    \\begin{matrix} \n",
    "1 & 1 \\\\ 1 &  - \\frac{1}{2}\n",
    "\\end{matrix} \n",
    "\\right)\n",
    "\\left(\n",
    "    \\begin{matrix} \n",
    "5 & 0 \\\\ 0 & -1\n",
    "\\end{matrix} \n",
    "\\right)\n",
    "\\left(\n",
    "    \\begin{matrix} \n",
    "\\frac{1}{3} & \\frac{2}{3}  \\\\ \\frac{2}{3}  & -\\frac{2}{3} \n",
    "\\end{matrix} \n",
    "\\right)\n",
    "$$"
   ]
  },
  {
   "cell_type": "markdown",
   "id": "6deba863",
   "metadata": {},
   "source": [
    "#### 1.1.11 特異値分解"
   ]
  },
  {
   "cell_type": "markdown",
   "id": "5a92aca7",
   "metadata": {},
   "source": [
    "&emsp;&emsp;$M \\vec{\\upsilon} = \\sigma  \\vec{\\upsilon} $"
   ]
  },
  {
   "cell_type": "markdown",
   "id": "a07b0a6d",
   "metadata": {},
   "source": [
    "&emsp;&emsp;$M^\\top \\vec{\\upsilon} = \\sigma  \\vec{\\upsilon} $"
   ]
  },
  {
   "cell_type": "markdown",
   "id": "9ec77d8b",
   "metadata": {},
   "source": [
    "$M^\\top:$ Mの転置（行と列をひっくり返す)固有値が先に求まる。"
   ]
  },
  {
   "cell_type": "markdown",
   "id": "742dd1d2",
   "metadata": {},
   "source": [
    "&emsp;&emsp;$M= \\vec{\\upsilon} S \\vec{\\upsilon}^\\top $"
   ]
  },
  {
   "cell_type": "markdown",
   "id": "dbe680ab",
   "metadata": {},
   "source": [
    "特殊な単位ベクトルが有れば特異値分解出来る"
   ]
  },
  {
   "cell_type": "markdown",
   "id": "fce4a3d7",
   "metadata": {},
   "source": [
    "#### 1.1.12 特異値の求め方"
   ]
  },
  {
   "cell_type": "markdown",
   "id": "17ff2a6a",
   "metadata": {},
   "source": [
    "$ M M^\\top$を固有値分解すれば、その左特異ベクトルと特異値の項が求められる "
   ]
  },
  {
   "cell_type": "markdown",
   "id": "a23fca59",
   "metadata": {},
   "source": [
    "具体例："
   ]
  },
  {
   "cell_type": "markdown",
   "id": "58852b68",
   "metadata": {},
   "source": [
    "$$\n",
    "M = \n",
    "\\left(\n",
    "    \\begin{matrix} \n",
    "1 & 2 & 3  \\\\ 3 & 2 & 1\n",
    "\\end{matrix} \n",
    "\\right)\n",
    ", M M^\\top =\n",
    "\\left(\n",
    "    \\begin{matrix} \n",
    "1 & 2 & 3  \\\\ 3 & 2 & 1\n",
    "\\end{matrix} \n",
    "\\right)\n",
    "\\left(\n",
    "    \\begin{matrix} \n",
    "1 & 3  \\\\ 2& 2 \\\\ 3 & 1\n",
    "\\end{matrix} \n",
    "\\right)\n",
    "=\n",
    "\\left(\n",
    "    \\begin{matrix} \n",
    "14 & 10 \\\\ 10 & 14\n",
    "\\end{matrix} \n",
    "\\right)\n",
    "$$"
   ]
  },
  {
   "cell_type": "markdown",
   "id": "761c0348",
   "metadata": {},
   "source": [
    "$$\n",
    "\\left(\n",
    "    \\begin{matrix} \n",
    "14 & 10\\\\ 10 & 14\n",
    "\\end{matrix} \n",
    "\\right)\n",
    " =\n",
    "\\left(\n",
    "    \\begin{matrix} \n",
    "\\frac{1}{\\sqrt{2}}  & - \\frac{1}{\\sqrt{2}}    \\\\ \\frac{1}{\\sqrt{2}}  & \\frac{1}{\\sqrt{2}} \n",
    "\\end{matrix} \n",
    "\\right)\n",
    "\\left(\n",
    "    \\begin{matrix} \n",
    "24 & 0  \\\\ 0 & 24\n",
    "\\end{matrix} \n",
    "\\right)\n",
    "\\left(\n",
    "    \\begin{matrix} \n",
    "\\frac{1}{\\sqrt{2}}  & - \\frac{1}{\\sqrt{2}}    \\\\ \\frac{1}{\\sqrt{2}}  & \\frac{1}{\\sqrt{2}} \n",
    "\\end{matrix} \n",
    "\\right)\n",
    "$$"
   ]
  },
  {
   "cell_type": "markdown",
   "id": "05d601ae",
   "metadata": {},
   "source": [
    "$$\n",
    "\\left(\n",
    "    \\begin{matrix} \n",
    "14 & 10\\\\ 10 & 14\n",
    "\\end{matrix} \n",
    "\\right)\n",
    "\\rightarrow\n",
    "\\begin{vmatrix}\n",
    "14 - \\lambda & 10 \\\\ 10 & 14 - \\lambda\n",
    "\\end{vmatrix}\n",
    " = 0\n",
    "$$"
   ]
  },
  {
   "cell_type": "markdown",
   "id": "05156783",
   "metadata": {},
   "source": [
    "# 2.確率・統計"
   ]
  },
  {
   "cell_type": "markdown",
   "id": "f9fb2806",
   "metadata": {},
   "source": [
    "## 2.1 統計学\n",
    "### 学習目標：統計学を読めるように\n",
    "#### 2.1.1 集合\n",
    "#### &emsp;&emsp;「集合」とはものの集まり。\n",
    " &emsp;&emsp;　$集合：　S=\\{a,b,c,d,e,f,g \\} $"
   ]
  },
  {
   "cell_type": "markdown",
   "id": "9aefda15",
   "metadata": {},
   "source": [
    "集合」の「要素」同士は、明確に区別出来る"
   ]
  },
  {
   "cell_type": "markdown",
   "id": "0799adfe",
   "metadata": {},
   "source": [
    " &emsp;&emsp;&emsp;&emsp; $ a \\in S $ "
   ]
  },
  {
   "cell_type": "markdown",
   "id": "a98bddf6",
   "metadata": {},
   "source": [
    " &emsp;&emsp;&emsp;&emsp; $ b \\in S $"
   ]
  },
  {
   "cell_type": "markdown",
   "id": "edee1409",
   "metadata": {},
   "source": [
    " &emsp;&emsp;&emsp;&emsp;&emsp; $ \\uparrow　$"
   ]
  },
  {
   "cell_type": "markdown",
   "id": "9864b204",
   "metadata": {},
   "source": [
    " Sの要素の一つ"
   ]
  },
  {
   "cell_type": "markdown",
   "id": "2f478b3e",
   "metadata": {},
   "source": [
    "##### 2.1.2 和集合と共通部分"
   ]
  },
  {
   "cell_type": "markdown",
   "id": "8d1cfaed",
   "metadata": {},
   "source": [
    "和集合\n",
    "$ A \\cup B $"
   ]
  },
  {
   "cell_type": "code",
   "execution_count": 15,
   "id": "bf6ce92f",
   "metadata": {},
   "outputs": [
    {
     "name": "stdout",
     "output_type": "stream",
     "text": [
      "Requirement already satisfied: matplotlib-venn in d:\\anaconda\\lib\\site-packages (0.11.6)\n",
      "Requirement already satisfied: scipy in d:\\anaconda\\lib\\site-packages (from matplotlib-venn) (1.6.2)\n",
      "Requirement already satisfied: matplotlib in d:\\anaconda\\lib\\site-packages (from matplotlib-venn) (3.3.4)\n",
      "Requirement already satisfied: numpy in d:\\anaconda\\lib\\site-packages (from matplotlib-venn) (1.20.1)\n",
      "Requirement already satisfied: python-dateutil>=2.1 in d:\\anaconda\\lib\\site-packages (from matplotlib->matplotlib-venn) (2.8.1)\n",
      "Requirement already satisfied: kiwisolver>=1.0.1 in d:\\anaconda\\lib\\site-packages (from matplotlib->matplotlib-venn) (1.3.1)\n",
      "Requirement already satisfied: pillow>=6.2.0 in d:\\anaconda\\lib\\site-packages (from matplotlib->matplotlib-venn) (8.2.0)\n",
      "Requirement already satisfied: cycler>=0.10 in d:\\anaconda\\lib\\site-packages (from matplotlib->matplotlib-venn) (0.10.0)\n",
      "Requirement already satisfied: pyparsing!=2.0.4,!=2.1.2,!=2.1.6,>=2.0.3 in d:\\anaconda\\lib\\site-packages (from matplotlib->matplotlib-venn) (2.4.7)\n",
      "Requirement already satisfied: six in d:\\anaconda\\lib\\site-packages (from cycler>=0.10->matplotlib->matplotlib-venn) (1.15.0)\n"
     ]
    },
    {
     "data": {
      "image/png": "[encoded data removed]",
      "text/plain": [
       "<Figure size 432x288 with 1 Axes>"
      ]
     },
     "metadata": {},
     "output_type": "display_data"
    }
   ],
   "source": [
    "!pip3 install matplotlib-venn\n",
    "from matplotlib_venn import venn2\n",
    "from matplotlib import pyplot\n",
    "v = venn2(subsets=(3, 3, 3))\n",
    "# ベン図の色を変更する   \n",
    "v.get_patch_by_id('10').set_color('skyblue')\n",
    "v.get_patch_by_id('10').set_edgecolor('black')\n",
    "v.get_patch_by_id('11').set_color('skyblue')\n",
    "v.get_patch_by_id('11').set_edgecolor('black')\n",
    "v.get_patch_by_id('01').set_color('skyblue')\n",
    "v.get_patch_by_id('01').set_edgecolor('black')\n",
    "\n",
    "\n",
    "# 背景色を変更する\n",
    "pyplot.gca().set_axis_on()\n",
    "pyplot.gca().set_facecolor('white')\n",
    "pyplot.show()"
   ]
  },
  {
   "cell_type": "markdown",
   "id": "fab37f68",
   "metadata": {},
   "source": [
    "共通部分\n",
    "$ A \\cap B $"
   ]
  },
  {
   "cell_type": "code",
   "execution_count": 19,
   "id": "b386cbed",
   "metadata": {},
   "outputs": [
    {
     "name": "stdout",
     "output_type": "stream",
     "text": [
      "Requirement already satisfied: matplotlib-venn in d:\\anaconda\\lib\\site-packages (0.11.6)\n",
      "Requirement already satisfied: numpy in d:\\anaconda\\lib\\site-packages (from matplotlib-venn) (1.20.1)\n",
      "Requirement already satisfied: matplotlib in d:\\anaconda\\lib\\site-packages (from matplotlib-venn) (3.3.4)\n",
      "Requirement already satisfied: scipy in d:\\anaconda\\lib\\site-packages (from matplotlib-venn) (1.6.2)\n",
      "Requirement already satisfied: pyparsing!=2.0.4,!=2.1.2,!=2.1.6,>=2.0.3 in d:\\anaconda\\lib\\site-packages (from matplotlib->matplotlib-venn) (2.4.7)\n",
      "Requirement already satisfied: python-dateutil>=2.1 in d:\\anaconda\\lib\\site-packages (from matplotlib->matplotlib-venn) (2.8.1)\n",
      "Requirement already satisfied: cycler>=0.10 in d:\\anaconda\\lib\\site-packages (from matplotlib->matplotlib-venn) (0.10.0)\n",
      "Requirement already satisfied: pillow>=6.2.0 in d:\\anaconda\\lib\\site-packages (from matplotlib->matplotlib-venn) (8.2.0)\n",
      "Requirement already satisfied: kiwisolver>=1.0.1 in d:\\anaconda\\lib\\site-packages (from matplotlib->matplotlib-venn) (1.3.1)\n",
      "Requirement already satisfied: six in d:\\anaconda\\lib\\site-packages (from cycler>=0.10->matplotlib->matplotlib-venn) (1.15.0)\n"
     ]
    },
    {
     "data": {
      "image/png": "[encoded data removed]",
      "text/plain": [
       "<Figure size 432x288 with 1 Axes>"
      ]
     },
     "metadata": {},
     "output_type": "display_data"
    }
   ],
   "source": [
    "!pip3 install matplotlib-venn\n",
    "from matplotlib_venn import venn2\n",
    "from matplotlib import pyplot\n",
    "v = venn2(subsets=(2, 2, 1))\n",
    "# ベン図の色を変更する   \n",
    "v.get_patch_by_id('10').set_color('white')\n",
    "v.get_patch_by_id('10').set_edgecolor('black')\n",
    "v.get_patch_by_id('11').set_color('skyblue')\n",
    "v.get_patch_by_id('11').set_edgecolor('black')\n",
    "v.get_patch_by_id('01').set_color('white')\n",
    "v.get_patch_by_id('01').set_edgecolor('black')\n",
    "\n",
    "\n",
    "# 背景色を変更する\n",
    "pyplot.gca().set_axis_on()\n",
    "pyplot.gca().set_facecolor('white')\n",
    "pyplot.show()"
   ]
  },
  {
   "cell_type": "markdown",
   "id": "7b749903",
   "metadata": {},
   "source": [
    "絶対補　　：\n",
    "$ U \\setminus A  = \\bar{A}  $"
   ]
  },
  {
   "cell_type": "markdown",
   "id": "9327076b",
   "metadata": {},
   "source": [
    "\"補\" =それ以外 "
   ]
  },
  {
   "cell_type": "code",
   "execution_count": 27,
   "id": "c00118f0",
   "metadata": {},
   "outputs": [
    {
     "name": "stdout",
     "output_type": "stream",
     "text": [
      "Requirement already satisfied: matplotlib-venn in d:\\anaconda\\lib\\site-packages (0.11.6)\n",
      "Requirement already satisfied: scipy in d:\\anaconda\\lib\\site-packages (from matplotlib-venn) (1.6.2)\n",
      "Requirement already satisfied: matplotlib in d:\\anaconda\\lib\\site-packages (from matplotlib-venn) (3.3.4)\n",
      "Requirement already satisfied: numpy in d:\\anaconda\\lib\\site-packages (from matplotlib-venn) (1.20.1)\n",
      "Requirement already satisfied: kiwisolver>=1.0.1 in d:\\anaconda\\lib\\site-packages (from matplotlib->matplotlib-venn) (1.3.1)\n",
      "Requirement already satisfied: pyparsing!=2.0.4,!=2.1.2,!=2.1.6,>=2.0.3 in d:\\anaconda\\lib\\site-packages (from matplotlib->matplotlib-venn) (2.4.7)\n",
      "Requirement already satisfied: pillow>=6.2.0 in d:\\anaconda\\lib\\site-packages (from matplotlib->matplotlib-venn) (8.2.0)\n",
      "Requirement already satisfied: python-dateutil>=2.1 in d:\\anaconda\\lib\\site-packages (from matplotlib->matplotlib-venn) (2.8.1)\n",
      "Requirement already satisfied: cycler>=0.10 in d:\\anaconda\\lib\\site-packages (from matplotlib->matplotlib-venn) (0.10.0)\n",
      "Requirement already satisfied: six in d:\\anaconda\\lib\\site-packages (from cycler>=0.10->matplotlib->matplotlib-venn) (1.15.0)\n"
     ]
    },
    {
     "data": {
      "image/png": "[encoded data removed]",
      "text/plain": [
       "<Figure size 432x288 with 1 Axes>"
      ]
     },
     "metadata": {},
     "output_type": "display_data"
    }
   ],
   "source": [
    "!pip3 install matplotlib-venn\n",
    "from matplotlib_venn import venn2\n",
    "from matplotlib import pyplot\n",
    "v = venn2(subsets=(2, 2, 2))\n",
    "# ベン図の色を変更する   \n",
    "v.get_patch_by_id('01').set_color('skyblue')\n",
    "v.get_patch_by_id('01').set_edgecolor('black')\n",
    "v.get_patch_by_id('10').set_color('white')\n",
    "v.get_patch_by_id('10').set_edgecolor('black')\n",
    "v.get_patch_by_id('11').set_color('white')\n",
    "v.get_patch_by_id('11').set_edgecolor('black')\n",
    "\n",
    "\n",
    "\n",
    "# 背景色を変更する\n",
    "pyplot.gca().set_axis_on()\n",
    "pyplot.gca().set_facecolor('skyblue')\n",
    "pyplot.show()"
   ]
  },
  {
   "cell_type": "markdown",
   "id": "fe010d5b",
   "metadata": {},
   "source": [
    "相対補　　：\n",
    "$ B \\setminus A    $"
   ]
  },
  {
   "cell_type": "code",
   "execution_count": 29,
   "id": "b941d518",
   "metadata": {},
   "outputs": [
    {
     "name": "stdout",
     "output_type": "stream",
     "text": [
      "Requirement already satisfied: matplotlib-venn in d:\\anaconda\\lib\\site-packages (0.11.6)\n",
      "Requirement already satisfied: matplotlib in d:\\anaconda\\lib\\site-packages (from matplotlib-venn) (3.3.4)\n",
      "Requirement already satisfied: scipy in d:\\anaconda\\lib\\site-packages (from matplotlib-venn) (1.6.2)\n",
      "Requirement already satisfied: numpy in d:\\anaconda\\lib\\site-packages (from matplotlib-venn) (1.20.1)\n",
      "Requirement already satisfied: kiwisolver>=1.0.1 in d:\\anaconda\\lib\\site-packages (from matplotlib->matplotlib-venn) (1.3.1)\n",
      "Requirement already satisfied: pyparsing!=2.0.4,!=2.1.2,!=2.1.6,>=2.0.3 in d:\\anaconda\\lib\\site-packages (from matplotlib->matplotlib-venn) (2.4.7)\n",
      "Requirement already satisfied: python-dateutil>=2.1 in d:\\anaconda\\lib\\site-packages (from matplotlib->matplotlib-venn) (2.8.1)\n",
      "Requirement already satisfied: cycler>=0.10 in d:\\anaconda\\lib\\site-packages (from matplotlib->matplotlib-venn) (0.10.0)\n",
      "Requirement already satisfied: pillow>=6.2.0 in d:\\anaconda\\lib\\site-packages (from matplotlib->matplotlib-venn) (8.2.0)\n",
      "Requirement already satisfied: six in d:\\anaconda\\lib\\site-packages (from cycler>=0.10->matplotlib->matplotlib-venn) (1.15.0)\n"
     ]
    },
    {
     "data": {
      "image/png": "[encoded data removed]",
      "text/plain": [
       "<Figure size 432x288 with 1 Axes>"
      ]
     },
     "metadata": {},
     "output_type": "display_data"
    }
   ],
   "source": [
    "!pip3 install matplotlib-venn\n",
    "from matplotlib_venn import venn2\n",
    "from matplotlib import pyplot\n",
    "v = venn2(subsets=(2, 2, 2))\n",
    "# ベン図の色を変更する   \n",
    "v.get_patch_by_id('01').set_color('skyblue')\n",
    "v.get_patch_by_id('01').set_edgecolor('black')\n",
    "v.get_patch_by_id('10').set_color('white')\n",
    "v.get_patch_by_id('10').set_edgecolor('black')\n",
    "v.get_patch_by_id('11').set_color('white')\n",
    "v.get_patch_by_id('11').set_edgecolor('black')\n",
    "\n",
    "\n",
    "\n",
    "# 背景色を変更する\n",
    "pyplot.gca().set_axis_on()\n",
    "pyplot.gca().set_facecolor('white')\n",
    "pyplot.show()"
   ]
  },
  {
   "cell_type": "markdown",
   "id": "05dcf900",
   "metadata": {},
   "source": [
    "$ \\overline{A\\cup B}$"
   ]
  },
  {
   "cell_type": "code",
   "execution_count": 31,
   "id": "27845e5c",
   "metadata": {},
   "outputs": [
    {
     "name": "stdout",
     "output_type": "stream",
     "text": [
      "Requirement already satisfied: matplotlib-venn in d:\\anaconda\\lib\\site-packages (0.11.6)\n",
      "Requirement already satisfied: scipy in d:\\anaconda\\lib\\site-packages (from matplotlib-venn) (1.6.2)\n",
      "Requirement already satisfied: numpy in d:\\anaconda\\lib\\site-packages (from matplotlib-venn) (1.20.1)\n",
      "Requirement already satisfied: matplotlib in d:\\anaconda\\lib\\site-packages (from matplotlib-venn) (3.3.4)\n",
      "Requirement already satisfied: pyparsing!=2.0.4,!=2.1.2,!=2.1.6,>=2.0.3 in d:\\anaconda\\lib\\site-packages (from matplotlib->matplotlib-venn) (2.4.7)\n",
      "Requirement already satisfied: cycler>=0.10 in d:\\anaconda\\lib\\site-packages (from matplotlib->matplotlib-venn) (0.10.0)\n",
      "Requirement already satisfied: python-dateutil>=2.1 in d:\\anaconda\\lib\\site-packages (from matplotlib->matplotlib-venn) (2.8.1)\n",
      "Requirement already satisfied: kiwisolver>=1.0.1 in d:\\anaconda\\lib\\site-packages (from matplotlib->matplotlib-venn) (1.3.1)\n",
      "Requirement already satisfied: pillow>=6.2.0 in d:\\anaconda\\lib\\site-packages (from matplotlib->matplotlib-venn) (8.2.0)\n",
      "Requirement already satisfied: six in d:\\anaconda\\lib\\site-packages (from cycler>=0.10->matplotlib->matplotlib-venn) (1.15.0)\n"
     ]
    },
    {
     "data": {
      "image/png": "[encoded data removed]",
      "text/plain": [
       "<Figure size 432x288 with 1 Axes>"
      ]
     },
     "metadata": {},
     "output_type": "display_data"
    }
   ],
   "source": [
    "!pip3 install matplotlib-venn\n",
    "from matplotlib_venn import venn2\n",
    "from matplotlib import pyplot\n",
    "v = venn2(subsets=(2, 2, 2))\n",
    "# ベン図の色を変更する   \n",
    "v.get_patch_by_id('01').set_color('white')\n",
    "v.get_patch_by_id('01').set_edgecolor('black')\n",
    "v.get_patch_by_id('10').set_color('white')\n",
    "v.get_patch_by_id('10').set_edgecolor('black')\n",
    "v.get_patch_by_id('11').set_color('white')\n",
    "v.get_patch_by_id('11').set_edgecolor('black')\n",
    "\n",
    "\n",
    "\n",
    "# 背景色を変更する\n",
    "pyplot.gca().set_axis_on()\n",
    "pyplot.gca().set_facecolor('skyblue')\n",
    "pyplot.show()"
   ]
  },
  {
   "cell_type": "markdown",
   "id": "18613a3c",
   "metadata": {},
   "source": [
    "#### 2.2 確率"
   ]
  },
  {
   "cell_type": "markdown",
   "id": "e76fe7b6",
   "metadata": {},
   "source": [
    "#### &emsp;&emsp; 確率には以下の２種類がある。\n",
    "#### &emsp;&emsp;&emsp;&emsp;頻度確率(客観確率)\n",
    "#### &emsp;&emsp;&emsp;&emsp;&emsp; ・発生する頻度\n",
    "##### &emsp;&emsp;&emsp;&emsp;&emsp; &emsp; cf. くじ引き\n",
    "#### &emsp;&emsp;&emsp;&emsp;ベイズ確率(主観確率)\n",
    "#### &emsp;&emsp;&emsp;&emsp;&emsp; ・信念の度合い\n",
    "##### &emsp;&emsp;&emsp;&emsp;&emsp;&emsp;  cf. インフルエンザの可能性\n"
   ]
  },
  {
   "cell_type": "markdown",
   "id": "d387aa62",
   "metadata": {},
   "source": [
    "#### 2.2.1 確率の定義"
   ]
  },
  {
   "cell_type": "markdown",
   "id": "3af40c48",
   "metadata": {},
   "source": [
    "\\begin{align}\n",
    "P(A)&=\\frac{n(A)}{n(U)} \\\\\n",
    "&=\\frac{事象Aの起きる確率}{全ての事象の数}\n",
    "\\end{align}"
   ]
  },
  {
   "cell_type": "markdown",
   "id": "782190f5",
   "metadata": {},
   "source": [
    "$ P( \\bar{A}) をP(A)を使って表現すると$\n",
    "$ P( \\bar{A}) = 1 - P(A) $"
   ]
  },
  {
   "cell_type": "markdown",
   "id": "2fae5fb9",
   "metadata": {},
   "source": [
    "\\begin{align}\n",
    "P(A)&=\\frac{事象Aが起こらない数}{全ての事象数} \\\\\n",
    "&=\\frac{事象Aの起きる確率}{全ての事象の数}\\\\\n",
    "&=\\frac{全ての事象の数 - Aの起こる数}{全ての事象の数}\\\\\n",
    "&=\\frac{全ての事象の数 - Aの起こる数}{全ての事象の数}\\\\\n",
    "&=\\frac{n(U) - n(A)}{n(U)}\\\\\n",
    "&=1 - \\frac{n(A)}{n(U)}\\\\ \n",
    "\\end{align}"
   ]
  },
  {
   "cell_type": "markdown",
   "id": "73354ce8",
   "metadata": {},
   "source": [
    "#### 2.2.2 条件付き確率"
   ]
  },
  {
   "cell_type": "markdown",
   "id": "2d2885b1",
   "metadata": {},
   "source": [
    "\\begin{align}\n",
    "P(A \\mid B )&=\\frac{P(A\\cap B)}{P(B)} \\\\\n",
    "&=\\frac{n(A \\cap B)}{ n(B)}\\\\\n",
    "\\end{align}\n"
   ]
  },
  {
   "cell_type": "code",
   "execution_count": 5,
   "id": "e85c8e1f",
   "metadata": {},
   "outputs": [
    {
     "name": "stdout",
     "output_type": "stream",
     "text": [
      "Requirement already satisfied: matplotlib-venn in d:\\anaconda\\lib\\site-packages (0.11.6)\n",
      "Requirement already satisfied: numpy in d:\\anaconda\\lib\\site-packages (from matplotlib-venn) (1.20.1)\n",
      "Requirement already satisfied: scipy in d:\\anaconda\\lib\\site-packages (from matplotlib-venn) (1.6.2)\n",
      "Requirement already satisfied: matplotlib in d:\\anaconda\\lib\\site-packages (from matplotlib-venn) (3.3.4)\n",
      "Requirement already satisfied: python-dateutil>=2.1 in d:\\anaconda\\lib\\site-packages (from matplotlib->matplotlib-venn) (2.8.1)\n",
      "Requirement already satisfied: pyparsing!=2.0.4,!=2.1.2,!=2.1.6,>=2.0.3 in d:\\anaconda\\lib\\site-packages (from matplotlib->matplotlib-venn) (2.4.7)\n",
      "Requirement already satisfied: pillow>=6.2.0 in d:\\anaconda\\lib\\site-packages (from matplotlib->matplotlib-venn) (8.2.0)\n",
      "Requirement already satisfied: kiwisolver>=1.0.1 in d:\\anaconda\\lib\\site-packages (from matplotlib->matplotlib-venn) (1.3.1)\n",
      "Requirement already satisfied: cycler>=0.10 in d:\\anaconda\\lib\\site-packages (from matplotlib->matplotlib-venn) (0.10.0)\n",
      "Requirement already satisfied: six in d:\\anaconda\\lib\\site-packages (from cycler>=0.10->matplotlib->matplotlib-venn) (1.15.0)\n"
     ]
    },
    {
     "data": {
      "image/png": "[encoded data removed]",
      "text/plain": [
       "<Figure size 432x288 with 1 Axes>"
      ]
     },
     "metadata": {},
     "output_type": "display_data"
    }
   ],
   "source": [
    "!pip3 install matplotlib-venn\n",
    "from matplotlib_venn import venn2\n",
    "from matplotlib import pyplot\n",
    "v = venn2(subsets=(2, 2, 2))\n",
    "# ベン図の色を変更する   \n",
    "v.get_patch_by_id('01').set_color('skyblue')\n",
    "v.get_patch_by_id('01').set_edgecolor('Green')\n",
    "v.get_patch_by_id('10').set_color('skyblue')\n",
    "v.get_patch_by_id('10').set_edgecolor('black')\n",
    "v.get_patch_by_id('11').set_color('skyblue')\n",
    "v.get_patch_by_id('11').set_edgecolor('Green')\n",
    "\n",
    "\n",
    "\n",
    "# 背景色を変更する\n",
    "pyplot.gca().set_axis_on()\n",
    "pyplot.gca().set_facecolor('white')\n",
    "pyplot.show()"
   ]
  },
  {
   "cell_type": "markdown",
   "id": "e37d6ac3",
   "metadata": {},
   "source": [
    "#### 2.2.3 独立事象の同時確率"
   ]
  },
  {
   "cell_type": "markdown",
   "id": "c98af43d",
   "metadata": {},
   "source": [
    "$ P( a\\cap B) = P(A) P(B\\mid A) $"
   ]
  },
  {
   "cell_type": "markdown",
   "id": "09ab4908",
   "metadata": {},
   "source": [
    "$ P( a\\cup B) = P(A) + P(B) -  P(a \\cap B) $"
   ]
  },
  {
   "cell_type": "markdown",
   "id": "af5bea75",
   "metadata": {},
   "source": [
    "#### 2.3 分散と標準偏差\n",
    "##### 　分散は２乗してしまうと元の単位とは違う。そのため２乗することの逆演算をすることで元の単位に戻す。"
   ]
  },
  {
   "cell_type": "markdown",
   "id": "ba309bf0",
   "metadata": {},
   "source": [
    "\\begin{align}\n",
    "\\sigma &= \\sqrt{Var(f)} \\\\\n",
    "&=\\sqrt{E((f(X-x)-E(f))^2)}\\\\\n",
    "\\end{align}"
   ]
  },
  {
   "cell_type": "markdown",
   "id": "4f5c087f",
   "metadata": {},
   "source": [
    "#### 2.3.1 確率分布\n",
    "##### ベルヌーイ分布\n",
    "#####   ・コイントスのイメージ\n",
    "#####   ・表と裏で出る割合が等しい\n",
    "&emsp;&emsp;&emsp;&emsp;$P(x \\mid \\mu ）= \\mu^x (1- \\mu) ^{1-x} $\n",
    "##### マルチヌーイ(カテゴリ or カテゴリカル）分布\n",
    "#####   ・さいころを転がすのイメージ\n",
    "#####   ・各面の出る割合が等しくなくとも扱える\n",
    "######  &emsp;&emsp;&emsp;&emsp;場合分けので数式が書けなくてもOK\n",
    "#### 二項分布\n",
    "#####   ・ベルヌーイ分布の多試行版\n",
    "&emsp;&emsp;&emsp;&emsp;$P(x \\mid \\mu,n ）= \\frac{n!}{x!(n-x)!}\\mu^x \t\\lambda(1 - \\lambda)^{n-x} $\n",
    "#### ガウス分布\n",
    "#####   ・釣鐘型の連続分布"
   ]
  },
  {
   "cell_type": "markdown",
   "id": "0bcb5480",
   "metadata": {},
   "source": [
    "#### 2.3.2 推定と推定値と推定量\n",
    "##### 推定：母集団と特徴つける母数（パラメータ：平均など）を統計学的に推測する。\n",
    "###### &emsp; &emsp;&emsp;点推定：平均値などを一つの値に推定すること。\n",
    "###### &emsp; &emsp;&emsp;区間推定：平均値などが存在する範囲(区間）を推定すること。\n",
    "##### 推定量(estimator)：パラメータを推定するために利用する数値の計算方法\n",
    "##### 推定値(estimate) ：実際に試行を行った結果から計算した値\n",
    "\n",
    "##### 　&emsp;&emsp;&emsp; 真の値を 　$ \\varTheta$ とすると　・・・ \t$\\hat{\\varTheta}$ のように表す。"
   ]
  },
  {
   "cell_type": "markdown",
   "id": "33376e4a",
   "metadata": {},
   "source": [
    "#### 2.3.3 標本平均と標本分散\n",
    "##### 標本平均：母集団から取り出した標本の平均値\n",
    "###### &emsp; サンプル数が大きくなれば母集団の値に近づく　→　一致性\n",
    "###### &emsp; サンプル数がいくらであっても、その期待値は母集団の値と同様　→　不偏性（偏りのなさ）\n",
    "###### &emsp;&emsp; $ E(\\hat{\\varTheta}) = \\varTheta $\n",
    "##### 標本分散：\n",
    "###### &emsp;&emsp; $ (\\hat{\\varTheta})^2 = \\frac{1}{n} \\sum _{i=1} ^{n} {(x_i- \\bar{x})^2}  $\n",
    "###### &emsp; 一致性は満たすが\n",
    "###### &emsp; 不偏性は満たさない"
   ]
  },
  {
   "cell_type": "markdown",
   "id": "6322aaa5",
   "metadata": {},
   "source": [
    "# 3.情報理論"
   ]
  },
  {
   "cell_type": "markdown",
   "id": "a66206fd",
   "metadata": {},
   "source": [
    "### 3.1 情報科学\n"
   ]
  },
  {
   "cell_type": "markdown",
   "id": "c71c8310",
   "metadata": {},
   "source": [
    "#### 3.1.1 自己情報量\n",
    "&emsp;&emsp;  $ l(x) = - \\log {(P(x)} = \\log{(w(x)) } $"
   ]
  },
  {
   "cell_type": "markdown",
   "id": "d8e08ca0",
   "metadata": {},
   "source": [
    "&emsp; &emsp; P(x)は確率   "
   ]
  },
  {
   "cell_type": "markdown",
   "id": "78d01d7b",
   "metadata": {},
   "source": [
    "&emsp;&emsp; W(x)はイベントの多さを表しているが、通常使うのは確率を使うことが多いのでP(x)で表す。"
   ]
  },
  {
   "cell_type": "markdown",
   "id": "e6dfde85",
   "metadata": {},
   "source": [
    "#### 3.1.2 シャノンエントロピー\n",
    "###### &emsp; &emsp; ・微分エントロピー(でも微分はしない)\n",
    "###### &emsp; &emsp; ・自己情報量の期待値　（入手出来る情報量の多さを表している。）\n",
    "\\begin{align}\n",
    " H(x) &= E(I(x))\\\\\n",
    "&= - E(\\log (P(x))\\\\\n",
    "&= - \\sum _{} ^{} {P(x) \\log(p(x))}\n",
    "\\end{align}"
   ]
  },
  {
   "cell_type": "markdown",
   "id": "80c3e874",
   "metadata": {},
   "source": [
    "#### 3.1.3 カルバック・ライブラー　ダイバージェンス\n",
    "###### &emsp; &emsp; ・同じ事象・確率変数における異なる確率分布 P,Qの違いを表す。\n",
    "###### &emsp;&emsp;&emsp;&emsp;  $ E(f(x))  = - \\sum _{x} ^{} {P(x) f(x) } $\n",
    "###### &emsp; &emsp; $ D_kL( P \\parallel Q )　= \\sum _{x} ^{} {P(x)(- \\log(Q(x))-(-log(P(x)))}　 $\n"
   ]
  },
  {
   "cell_type": "markdown",
   "id": "c311fa21",
   "metadata": {},
   "source": [
    "#### 3.1.4 交差エントロピー\n",
    "###### &emsp; &emsp; ・KLダイバージェンスの一部分を取り出したもの。\n",
    "###### &emsp; &emsp; ・Qについての自己情報量をPの分布で平均している。\n",
    "###### &emsp; &emsp; $ D_kL( P \\parallel Q )　= \\sum _{x} ^{} {P(x)(- \\log(Q(x))-(-log(P(x)))}　 $\n",
    "###### &emsp; &emsp; &emsp; &emsp; &emsp; &emsp;  H(P,Q) = H(P) + D_KL(P \\parallel Q)"
   ]
  }
 ],
 "metadata": {
  "kernelspec": {
   "display_name": "Python 3",
   "language": "python",
   "name": "python3"
  },
  "language_info": {
   "codemirror_mode": {
    "name": "ipython",
    "version": 3
   },
   "file_extension": ".py",
   "mimetype": "text/x-python",
   "name": "python",
   "nbconvert_exporter": "python",
   "pygments_lexer": "ipython3",
   "version": "3.8.8"
  }
 },
 "nbformat": 4,
 "nbformat_minor": 5
}
