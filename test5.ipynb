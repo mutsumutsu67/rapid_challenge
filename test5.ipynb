{
 "cells": [
  {
   "cell_type": "markdown",
   "id": "ed50656d",
   "metadata": {},
   "source": [
    "# Stage 1 応用数学Report (線形代数/確率・統計/情報理論)\n",
    "# 線形代数\n",
    "## １.行列\n",
    "### 行列とは？\n",
    "#### スカラ―を表にしたもの。\n",
    "#### ベクトルを並べたもの\n",
    "#### &emsp;&emsp;→何に使うのか？\n",
    "#### &emsp;&emsp;&emsp;1.ベクトルの変換\n",
    "#### &emsp;&emsp;&emsp;2.連立方程式を解く\n",
    "      "
   ]
  },
  {
   "cell_type": "markdown",
   "id": "34df986d",
   "metadata": {},
   "source": [
    "##### &emsp;&emsp; 以下の連立方程式を"
   ]
  },
  {
   "cell_type": "markdown",
   "id": "abf802bc",
   "metadata": {},
   "source": [
    "$$\n",
    "        \\begin{cases}\n",
    "             &x_1  &+ &2x_2 &= 3 　\\\\\n",
    "             &2x_1 &+ &5x_2 &= 5 　\\\\ \n",
    "        \\end{cases}\n",
    "$$"
   ]
  },
  {
   "cell_type": "markdown",
   "id": "ede5da85",
   "metadata": {},
   "source": [
    "##### &emsp;&emsp; 行列式で表すと以下の式になる。"
   ]
  },
  {
   "cell_type": "markdown",
   "id": "70505e3a",
   "metadata": {},
   "source": [
    "$$\n",
    "A\\vec{x} = \\vec{b}\n",
    "$$"
   ]
  },
  {
   "cell_type": "markdown",
   "id": "3cebafdb",
   "metadata": {},
   "source": [
    "$$\n",
    "\\left(\n",
    "    \\begin{matrix} \n",
    "1 & 2 \\\\ 2 & 5 \n",
    "\\end{matrix} \n",
    "\\right)\n",
    "\\left(\n",
    "    \\begin{matrix} \n",
    "x_1 \\\\ x_2 \n",
    "\\end{matrix} \n",
    "    \\right)  \n",
    "=\n",
    "    \\left(\n",
    "    \\begin{matrix} \n",
    "3 \\\\ 5 \n",
    "\\end{matrix} \n",
    "    \\right)  \n",
    "$$"
   ]
  },
  {
   "cell_type": "markdown",
   "id": "897651e6",
   "metadata": {},
   "source": [
    "##### 行列とベクトルの積"
   ]
  },
  {
   "cell_type": "markdown",
   "id": "68685dc9",
   "metadata": {},
   "source": [
    "$$\n",
    "\\left(\n",
    "    \\begin{matrix} \n",
    "6& 4\\\\ 3& 5 \n",
    "\\end{matrix} \n",
    "\\right)\n",
    "\\left(\n",
    "    \\begin{matrix} \n",
    "1 \\\\ 2 \n",
    "\\end{matrix} \n",
    "    \\right)  \n",
    "=\n",
    "    \\left(\n",
    "    \\begin{matrix} \n",
    "6*1+4*2 \\\\ 3*1+5*2 \n",
    "\\end{matrix} \n",
    "    \\right)  \n",
    "=\n",
    "    \\left(\n",
    "    \\begin{matrix} \n",
    "14 \\\\ 13 \n",
    "\\end{matrix} \n",
    "    \\right)  \n",
    "$$"
   ]
  },
  {
   "cell_type": "markdown",
   "id": "c999ee26",
   "metadata": {},
   "source": [
    "行列の積は、先の行列の\"行\"と後の行列の\"列”の積を和したものになる。"
   ]
  },
  {
   "cell_type": "markdown",
   "id": "2f2d5326",
   "metadata": {},
   "source": [
    "例："
   ]
  },
  {
   "cell_type": "markdown",
   "id": "bf877838",
   "metadata": {},
   "source": [
    "$$\n",
    "\\begin{matrix}\n",
    "\\left[\n",
    "\\begin{array}{ccc}\n",
    "a_{11} & a_{12} & a_{13} \\\\\n",
    "a_{21} & a_{22} & a_{23} \\\\\n",
    "a_{31} & a_{32} & a_{33} \\\\\n",
    "\\end{array}\n",
    "\\right]\n",
    "\\end{matrix}\n",
    "\\begin{matrix}\n",
    "\\left[\n",
    "\\begin{array}{ccc}\n",
    "b_{11} & b_{12} & b_{13} \\\\\n",
    "b_{21} & b_{22} & b_{23} \\\\\n",
    "b_{31} & b_{32} & b_{33} \\\\\n",
    "\\end{array}\n",
    "\\right]\n",
    "\\end{matrix}\n",
    "=\n",
    "\\begin{matrix}\n",
    "\\left[\n",
    "\\begin{array}{ccc}\n",
    "a_{11}*b_{11}+a_{12}*b_{21}+ a_{13}*b_{31}& \\cdots &  \\cdots \\\\\n",
    " \\cdots & a_{21}*b_{12}+a_{22}*b_{22}+ a_{23}*b_{32} & \\cdots \\\\\n",
    " \\cdots & \\cdots &a_{31}*b_{13}+a_{32}*b_{23}+ a_{33}*b_{33} \\\\\n",
    "\\end{array}\n",
    "\\right]\n",
    "\\end{matrix}\n",
    "$$"
   ]
  },
  {
   "cell_type": "markdown",
   "id": "6966ab36",
   "metadata": {},
   "source": [
    "##### 行基本変換\n",
    "　　行列式で連立方程式を解く場合、**行列基本変形**を行い左辺の行列を単位行列に変換する。その場合右辺が方程式の解となる。"
   ]
  },
  {
   "cell_type": "markdown",
   "id": "0982a40d",
   "metadata": {},
   "source": [
    "###### &nbsp;&nbsp;&nbsp;&nbsp;**行基本変形の方法：**\n",
    "&nbsp;&nbsp;&nbsp;&nbsp;①.K列をC倍  \n",
    "&nbsp;&nbsp;&nbsp;&nbsp;②.S行目にt行目のC倍を加える  \n",
    "&nbsp;&nbsp;&nbsp;&nbsp;③.P行目とq行目を入れ替え  "
   ]
  },
  {
   "cell_type": "markdown",
   "id": "6963d19f",
   "metadata": {},
   "source": [
    "&nbsp;&nbsp;&nbsp;&nbsp;&nbsp;&nbsp;&nbsp;&nbsp;行基本変形の例：  "
   ]
  },
  {
   "cell_type": "markdown",
   "id": "f336127a",
   "metadata": {},
   "source": [
    "$$\n",
    "\\left(\n",
    "    \\begin{matrix} \n",
    "1 & 4 \\\\ 2 & 6 \n",
    "\\end{matrix} \n",
    "\\right)\n",
    "\\left(\n",
    "    \\begin{matrix} \n",
    "x_1 \\\\ x_2 \n",
    "\\end{matrix} \n",
    "    \\right)  \n",
    "=\n",
    "    \\left(\n",
    "    \\begin{matrix} \n",
    "7 \\\\ 10 \n",
    "\\end{matrix} \n",
    "    \\right)  \n",
    "$$"
   ]
  },
  {
   "cell_type": "markdown",
   "id": "a56110a9",
   "metadata": {},
   "source": [
    "$$\n",
    "↓　①　2行目にx0.5倍\n",
    "$$"
   ]
  },
  {
   "cell_type": "markdown",
   "id": "f41766c7",
   "metadata": {},
   "source": [
    "$$\n",
    "\\left(\n",
    "    \\begin{matrix} \n",
    "1 & 4 \\\\ 1 & 3 \n",
    "\\end{matrix} \n",
    "\\right)\n",
    "\\left(\n",
    "    \\begin{matrix} \n",
    "x_1 \\\\ x_2 \n",
    "\\end{matrix} \n",
    "    \\right)  \n",
    "=\n",
    "    \\left(\n",
    "    \\begin{matrix} \n",
    "7 \\\\ 5 \n",
    "\\end{matrix} \n",
    "    \\right)  \n",
    "$$"
   ]
  },
  {
   "cell_type": "markdown",
   "id": "5db51f4a",
   "metadata": {},
   "source": [
    "$$\n",
    "    \\begin{align}\n",
    "        % 各種演算子の書き方\n",
    "        y &= ax     & y &> ax  & y \\geqq ax \\\\\n",
    "        y &\\neq ax  & y &< ax  & y \\leqq ax \\\\\n",
    "    \\end{align}\n",
    "$$"
   ]
  },
  {
   "cell_type": "markdown",
   "id": "37130924",
   "metadata": {},
   "source": [
    "$$\n",
    "    \\frac{d}{d x} x^2 = 2x \\\\\n",
    "    \\frac{\\partial}{\\partial x} x^2 + a = 2x\n",
    "$$"
   ]
  }
 ],
 "metadata": {
  "kernelspec": {
   "display_name": "Python 3",
   "language": "python",
   "name": "python3"
  },
  "language_info": {
   "codemirror_mode": {
    "name": "ipython",
    "version": 3
   },
   "file_extension": ".py",
   "mimetype": "text/x-python",
   "name": "python",
   "nbconvert_exporter": "python",
   "pygments_lexer": "ipython3",
   "version": "3.8.8"
  }
 },
 "nbformat": 4,
 "nbformat_minor": 5
}
