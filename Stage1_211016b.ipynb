{
 "cells": [
  {
   "cell_type": "markdown",
   "id": "528cfa0c",
   "metadata": {},
   "source": [
    "# Stage 1 応用数学Report (線形代数/確率・統計/情報理論)\n",
    "# 線形代数\n",
    "## １.行列\n",
    "### 1.1行列とは？\n",
    "#### &emsp;&emsp;スカラ―を表にしたもの。\n",
    "#### &emsp;&emsp;ベクトルを並べたもの\n",
    "#### &emsp;&emsp;&emsp;&emsp;→何に使うのか？\n",
    "#### &emsp;&emsp;&emsp;&emsp;&emsp;1.ベクトルの変換\n",
    "#### &emsp;&emsp;&emsp;&emsp;&emsp;2.連立方程式を解く\n",
    "      "
   ]
  },
  {
   "cell_type": "markdown",
   "id": "34df986d",
   "metadata": {},
   "source": [
    "##### &emsp;&emsp; 以下の連立方程式を"
   ]
  },
  {
   "cell_type": "markdown",
   "id": "0c8da0cb",
   "metadata": {},
   "source": [
    "$$\n",
    "        \\begin{cases}\n",
    "             &x_1  &+ &2x_2 &= 3 　\\\\\n",
    "             &2x_1 &+ &5x_2 &= 5 　\\\\ \n",
    "        \\end{cases}\n",
    "$$"
   ]
  },
  {
   "cell_type": "markdown",
   "id": "9560843a",
   "metadata": {},
   "source": [
    "##### &emsp;&emsp; 行列式で表すと以下の式になる。"
   ]
  },
  {
   "cell_type": "markdown",
   "id": "6d6d0d7e",
   "metadata": {},
   "source": [
    "$$\n",
    "A\\vec{x} = \\vec{b}\n",
    "$$\n",
    "$$\n",
    "\\left(\n",
    "    \\begin{matrix} \n",
    "1 & 2 \\\\ 2 & 5 \n",
    "\\end{matrix} \n",
    "\\right)\n",
    "\\left(\n",
    "    \\begin{matrix} \n",
    "x_1 \\\\ x_2 \n",
    "\\end{matrix} \n",
    "    \\right)  \n",
    "=\n",
    "    \\left(\n",
    "    \\begin{matrix} \n",
    "3 \\\\ 5 \n",
    "\\end{matrix} \n",
    "    \\right)  \n",
    "$$"
   ]
  },
  {
   "cell_type": "markdown",
   "id": "d4ce14a1",
   "metadata": {},
   "source": [
    "##### 1.2 行列とベクトルの積"
   ]
  },
  {
   "cell_type": "markdown",
   "id": "aa879d59",
   "metadata": {},
   "source": [
    "$$\n",
    "\\left(\n",
    "    \\begin{matrix} \n",
    "6& 4\\\\ 3& 5 \n",
    "\\end{matrix} \n",
    "\\right)\n",
    "\\left(\n",
    "    \\begin{matrix} \n",
    "1 \\\\ 2 \n",
    "\\end{matrix} \n",
    "    \\right)  \n",
    "=\n",
    "    \\left(\n",
    "    \\begin{matrix} \n",
    "6*1+4*2 \\\\ 3*1+5*2 \n",
    "\\end{matrix} \n",
    "    \\right)  \n",
    "=\n",
    "    \\left(\n",
    "    \\begin{matrix} \n",
    "14 \\\\ 13 \n",
    "\\end{matrix} \n",
    "    \\right)  \n",
    "$$"
   ]
  },
  {
   "cell_type": "markdown",
   "id": "ab82f1d9",
   "metadata": {},
   "source": [
    "行列の積は、先の行列の\"行\"と後の行列の\"列”の積を和したものになる。"
   ]
  },
  {
   "cell_type": "markdown",
   "id": "4aa00edf",
   "metadata": {},
   "source": [
    "例："
   ]
  },
  {
   "cell_type": "markdown",
   "id": "0f350395",
   "metadata": {},
   "source": [
    "$$\n",
    "\\begin{matrix}\n",
    "\\left[\n",
    "\\begin{array}{ccc}\n",
    "a_{11} & a_{12} & a_{13} \\\\\n",
    "a_{21} & a_{22} & a_{23} \\\\\n",
    "a_{31} & a_{32} & a_{33} \\\\\n",
    "\\end{array}\n",
    "\\right]\n",
    "\\end{matrix}\n",
    "\\begin{matrix}\n",
    "\\left[\n",
    "\\begin{array}{ccc}\n",
    "b_{11} & b_{12} & b_{13} \\\\\n",
    "b_{21} & b_{22} & b_{23} \\\\\n",
    "b_{31} & b_{32} & b_{33} \\\\\n",
    "\\end{array}\n",
    "\\right]\n",
    "\\end{matrix}\n",
    "=\n",
    "\\begin{matrix}\n",
    "\\left[\n",
    "\\begin{array}{ccc}\n",
    "a_{11}*b_{11}+a_{12}*b_{21}+ a_{13}*b_{31}& \\cdots &  \\cdots \\\\\n",
    " \\cdots & a_{21}*b_{12}+a_{22}*b_{22}+ a_{23}*b_{32} & \\cdots \\\\\n",
    " \\cdots & \\cdots &a_{31}*b_{13}+a_{32}*b_{23}+ a_{33}*b_{33} \\\\\n",
    "\\end{array}\n",
    "\\right]\n",
    "\\end{matrix}\n",
    "$$"
   ]
  },
  {
   "cell_type": "markdown",
   "id": "e5aabeff",
   "metadata": {},
   "source": [
    "##### 1.3 行基本変換\n",
    "　　行列式で連立方程式を解く場合、**行列基本変形**を行い左辺の行列を単位行列に変換する。その場合右辺が方程式の解となる。"
   ]
  },
  {
   "cell_type": "markdown",
   "id": "d293aae8",
   "metadata": {},
   "source": [
    "###### &nbsp;&nbsp;&nbsp;&nbsp;**行基本変形の方法：**\n",
    "&nbsp;&nbsp;&nbsp;&nbsp;①.K列をC倍  \n",
    "&nbsp;&nbsp;&nbsp;&nbsp;②.S行目にt行目のC倍を加える  \n",
    "&nbsp;&nbsp;&nbsp;&nbsp;③.P行目とq行目を入れ替え  "
   ]
  },
  {
   "cell_type": "markdown",
   "id": "2a8b17dd",
   "metadata": {},
   "source": [
    "&nbsp;&nbsp;&nbsp;&nbsp;&nbsp;&nbsp;&nbsp;&nbsp;行基本変形の例：  "
   ]
  },
  {
   "cell_type": "markdown",
   "id": "a3d5ad4a",
   "metadata": {},
   "source": [
    "$$\n",
    "\\left(\n",
    "    \\begin{matrix} \n",
    "1 & 4 \\\\ 2 & 6 \n",
    "\\end{matrix} \n",
    "\\right)\n",
    "\\left(\n",
    "    \\begin{matrix} \n",
    "x_1 \\\\ x_2 \n",
    "\\end{matrix} \n",
    "    \\right)  \n",
    "=\n",
    "    \\left(\n",
    "    \\begin{matrix} \n",
    "7 \\\\ 10 \n",
    "\\end{matrix} \n",
    "    \\right)  \n",
    "$$\n",
    "$$\n",
    "\\downarrow\n",
    "$$\n",
    "$$\n",
    "\\left(\n",
    "    \\begin{matrix} \n",
    "1 & 4 \\\\ 1 & 3 \n",
    "\\end{matrix} \n",
    "\\right)\n",
    "\\left(\n",
    "    \\begin{matrix} \n",
    "x_1 \\\\ x_2 \n",
    "\\end{matrix} \n",
    "    \\right)  \n",
    "=\n",
    "    \\left(\n",
    "    \\begin{matrix} \n",
    "7 \\\\ 5 \n",
    "\\end{matrix} \n",
    "    \\right)  \n",
    "$$\n",
    "$$\n",
    "\\downarrow\n",
    "$$\n",
    "$$\n",
    "\\left(\n",
    "    \\begin{matrix} \n",
    "0 & 1 \\\\ 1 & 3 \n",
    "\\end{matrix} \n",
    "\\right)\n",
    "\\left(\n",
    "    \\begin{matrix} \n",
    "x_1 \\\\ x_2 \n",
    "\\end{matrix} \n",
    "    \\right)  \n",
    "=\n",
    "    \\left(\n",
    "    \\begin{matrix} \n",
    "2 \\\\ 5 \n",
    "\\end{matrix} \n",
    "    \\right)  \n",
    "$$\n",
    "$$\n",
    "\\downarrow\n",
    "$$\n",
    "$$\n",
    "\\left(\n",
    "    \\begin{matrix} \n",
    "0 & 1 \\\\ 1 & 0 \n",
    "\\end{matrix} \n",
    "\\right)\n",
    "\\left(\n",
    "    \\begin{matrix} \n",
    "x_1 \\\\ x_2 \n",
    "\\end{matrix} \n",
    "    \\right)  \n",
    "=\n",
    "    \\left(\n",
    "    \\begin{matrix} \n",
    "2 \\\\ -1 \n",
    "\\end{matrix} \n",
    "    \\right)  \n",
    "$$\n",
    "$$\n",
    "\\downarrow\n",
    "$$\n",
    "$$\n",
    "\\left(\n",
    "    \\begin{matrix} \n",
    "1 & 0 \\\\ 0 & 1 \n",
    "\\end{matrix} \n",
    "\\right)\n",
    "\\left(\n",
    "    \\begin{matrix} \n",
    "x_1 \\\\ x_2 \n",
    "\\end{matrix} \n",
    "    \\right)  \n",
    "=\n",
    "    \\left(\n",
    "    \\begin{matrix} \n",
    "-1 \\\\ 2 \n",
    "\\end{matrix} \n",
    "    \\right)  \n",
    "$$"
   ]
  },
  {
   "cell_type": "markdown",
   "id": "1e2ea403",
   "metadata": {},
   "source": [
    "###### 左辺の行列が**単位行列**になると完了。"
   ]
  },
  {
   "cell_type": "markdown",
   "id": "baaa2b17",
   "metadata": {},
   "source": [
    "##### 1.4 行列の逆数"
   ]
  },
  {
   "cell_type": "markdown",
   "id": "1c9366ab",
   "metadata": {},
   "source": [
    "$$\n",
    "\\left(\n",
    "    \\begin{matrix} \n",
    "1 & 4 \\\\ 2 & 6 \n",
    "\\end{matrix} \n",
    "\\right)\n",
    "\\left(\n",
    "    \\begin{matrix} \n",
    "x_1 \\\\ x_2 \n",
    "\\end{matrix} \n",
    "    \\right)  \n",
    "=\n",
    "    \\left(\n",
    "    \\begin{matrix} \n",
    "7 \\\\ 10 \n",
    "\\end{matrix} \n",
    "    \\right)  \n",
    "$$"
   ]
  },
  {
   "cell_type": "markdown",
   "id": "1cf4daf3",
   "metadata": {},
   "source": [
    "行列の変換を一つの列で表すと"
   ]
  },
  {
   "cell_type": "markdown",
   "id": "4965f5d7",
   "metadata": {},
   "source": [
    "$$\n",
    "\\left(\n",
    "    \\begin{matrix} \n",
    "1 & 0 \\\\ 0 & 1 \n",
    "\\end{matrix} \n",
    "\\right)\n",
    "\\left(\n",
    "    \\begin{matrix} \n",
    "1 & 0 \\\\ -3 & 1 \n",
    "\\end{matrix} \n",
    "\\right)\n",
    "\\left(\n",
    "    \\begin{matrix} \n",
    "1 & -1 \\\\ 0 & 1 \n",
    "\\end{matrix} \n",
    "\\right)\n",
    "\\left(\n",
    "    \\begin{matrix} \n",
    "1 & 0 \\\\ 0 & 1/2 \n",
    "\\end{matrix} \n",
    "\\right)\n",
    "\\left(\n",
    "    \\begin{matrix} \n",
    "1 & 4 \\\\ 2 & 6 \n",
    "\\end{matrix} \n",
    "\\right)\n",
    "\\left(\n",
    "    \\begin{matrix} \n",
    "x_1 \\\\ x_2 \n",
    "\\end{matrix} \n",
    "    \\right)  \n",
    "=\n",
    "\\left(\n",
    "    \\begin{matrix} \n",
    "0 & 1 \\\\ 1 & 0 \n",
    "\\end{matrix} \n",
    "\\right)\n",
    "\\left(\n",
    "    \\begin{matrix} \n",
    "1 & 0 \\\\ -3 & 1 \n",
    "\\end{matrix} \n",
    "\\right)\n",
    "\\left(\n",
    "    \\begin{matrix} \n",
    "1 & -1 \\\\ 0 & 1 \n",
    "\\end{matrix} \n",
    "\\right)\n",
    "\\left(\n",
    "    \\begin{matrix} \n",
    "1 & 0 \\\\ 0 & \\frac{1}{2} \n",
    "\\end{matrix} \n",
    "\\right)\n",
    "    \\left(\n",
    "    \\begin{matrix} \n",
    "7 \\\\ 10 \n",
    "\\end{matrix} \n",
    "    \\right)  \n",
    "$$\n",
    "$$\n",
    "\\left(\n",
    "    \\begin{matrix} \n",
    "-3 & 2 \\\\ 1 & -1/2  \n",
    "\\end{matrix} \n",
    "\\right)\n",
    "\\left(\n",
    "    \\begin{matrix} \n",
    "1 & 4 \\\\ 2 & 6 \n",
    "\\end{matrix} \n",
    "\\right)\n",
    "\\left(\n",
    "    \\begin{matrix} \n",
    "x_1 \\\\ x_2 \n",
    "\\end{matrix} \n",
    "    \\right)  \n",
    "=\n",
    "\\left(\n",
    "    \\begin{matrix} \n",
    "-3 & 2 \\\\ 1 & - \\frac{1}{2} \n",
    "\\end{matrix} \n",
    "\\right)\n",
    "\\left(\n",
    "    \\begin{matrix} \n",
    "7 \\\\ 10 \n",
    "\\end{matrix} \n",
    "    \\right)  \n",
    "$$"
   ]
  },
  {
   "cell_type": "markdown",
   "id": "c4d63f46",
   "metadata": {},
   "source": [
    "#### 1.5 単位行列"
   ]
  },
  {
   "cell_type": "markdown",
   "id": "ede049ba",
   "metadata": {},
   "source": [
    "###### &emsp;&emsp;&emsp;行列式と掛けても(積しても）行列式の値が変化しない行列"
   ]
  },
  {
   "cell_type": "markdown",
   "id": "089e84d0",
   "metadata": {},
   "source": [
    "$$\n",
    "\\left(\n",
    "    \\begin{matrix} \n",
    "1 & 0 \\\\ 0 & 1 \n",
    "\\end{matrix} \n",
    "\\right)\n",
    "\\left(\n",
    "    \\begin{matrix}  \n",
    "2 & 3 \\\\ 1 & 9 \n",
    "\\end{matrix} \n",
    "\\right)\n",
    "=\n",
    "\\left(\n",
    "    \\begin{matrix}  \n",
    "2 & 3 \\\\ 1 & 9 \n",
    "\\end{matrix} \n",
    "\\right)\n",
    ",\n",
    "\\left(\n",
    "    \\begin{matrix} \n",
    "2 & 3 \\\\ 1 & 9 \n",
    "\\end{matrix} \n",
    "\\right)\n",
    "\\left(\n",
    "    \\begin{matrix}  \n",
    "1 & 0 \\\\ 0 & 1 \n",
    "\\end{matrix} \n",
    "\\right)\n",
    "=\n",
    "\\left(\n",
    "    \\begin{matrix}  \n",
    "2 & 3 \\\\ 1 & 9 \n",
    "\\end{matrix} \n",
    "\\right)\n",
    "$$\n",
    "$$  \n",
    "　A・A^{-1}　= A^{-1}・A = I\n",
    "$$  "
   ]
  },
  {
   "cell_type": "markdown",
   "id": "51483d1b",
   "metadata": {},
   "source": [
    "#### 1.6　逆行列の作り方"
   ]
  },
  {
   "cell_type": "markdown",
   "id": "43969ced",
   "metadata": {},
   "source": [
    "###### &emsp;&emsp;&emsp;　以下の行列をガウスの掃き出し法（行基本変形)使って逆行列を求める。"
   ]
  },
  {
   "cell_type": "markdown",
   "id": "896f6564",
   "metadata": {},
   "source": [
    "$$\n",
    "\\left(\n",
    "    \\begin{matrix} \n",
    "1 & 4 \\\\ 2 & 6 \n",
    "\\end{matrix} \n",
    "\\right)\n",
    "\\left(\n",
    "    \\begin{matrix} \n",
    "x_1 \\\\ x_2 \n",
    "\\end{matrix} \n",
    "    \\right)  \n",
    "=\n",
    "    \\left(\n",
    "    \\begin{matrix} \n",
    "7 \\\\ 10 \n",
    "\\end{matrix} \n",
    "    \\right)  \n",
    "$$\n",
    "$$\n",
    "\\left(\n",
    "    \\begin{matrix} \n",
    "1 & 4 \\\\ 2 & 6 \n",
    "\\end{matrix} \n",
    "\\right)\n",
    "\\left(\n",
    "    \\begin{matrix} \n",
    "x_1 \\\\ x_2 \n",
    "\\end{matrix} \n",
    "    \\right)  \n",
    "=\n",
    "\\left(\n",
    "    \\begin{matrix} \n",
    "1 & 0 \\\\ 0 & 1 \n",
    "\\end{matrix} \n",
    "\\right)\n",
    "    \\left(\n",
    "    \\begin{matrix} \n",
    "7 \\\\ 10 \n",
    "\\end{matrix} \n",
    "    \\right)  \n",
    "$$"
   ]
  },
  {
   "cell_type": "markdown",
   "id": "25f4a5e7",
   "metadata": {},
   "source": [
    "###### &emsp;&emsp;&emsp;&emsp;手順："
   ]
  },
  {
   "cell_type": "markdown",
   "id": "06b1fb6c",
   "metadata": {},
   "source": [
    "$$\n",
    "\\left(\n",
    "    \\begin{array}{cc|cc} \n",
    "1 & 4 & 1& 0 \\\\ 2 & 6 & 0 & 1 \n",
    "\\end{array} \n",
    "\\right)\n",
    "$$\n",
    "$$\n",
    "\\downarrow\n",
    "$$\n",
    "$$\n",
    "\\left(\n",
    "    \\begin{array}{cc|cc} \n",
    "1 & 4 & 1& 0 \\\\ 1 & 3 & 0 & \\frac{1}{2} \n",
    "\\end{array} \n",
    "\\right)\n",
    "$$\n",
    "$$\n",
    "\\downarrow\n",
    "$$\n",
    "$$\n",
    "\\left(\n",
    "    \\begin{array}{cc|cc} \n",
    "0 & 1 & 1 & -\\frac{1}{2}  \\\\ 1 & 3 & 0 & \\frac{1}{2} \n",
    "\\end{array} \n",
    "\\right)\n",
    "$$\n",
    "$$\n",
    "\\downarrow\n",
    "$$\n",
    "$$\n",
    "\\left(\n",
    "    \\begin{array}{cc|cc} \n",
    "0 & 1 & 1 & -\\frac{1}{2}  \\\\ 1 & 0 & -3 & 2 \n",
    "\\end{array} \n",
    "\\right)\n",
    "$$\n",
    "$$\n",
    "\\downarrow\n",
    "$$\n",
    "$$\n",
    "\\left(\n",
    "    \\begin{array}{cc|cc} \n",
    "1 & 0 & -3 & 2 \\\\ 0 & 1 & 1 & -\\frac{1}{2} \n",
    "\\end{array} \n",
    "\\right)\n",
    "$$"
   ]
  },
  {
   "cell_type": "markdown",
   "id": "f34f4b29",
   "metadata": {},
   "source": [
    "#### 1.7　逆行列が存在しないケース"
   ]
  },
  {
   "cell_type": "markdown",
   "id": "fb5b4393",
   "metadata": {},
   "source": [
    "&emsp;&emsp;&emsp;&emsp; 平行になって交わらない"
   ]
  },
  {
   "cell_type": "markdown",
   "id": "574019ea",
   "metadata": {},
   "source": [
    "  "
   ]
  },
  {
   "cell_type": "markdown",
   "id": "491e35a4",
   "metadata": {},
   "source": [
    "$$  \n",
    "x_1 + 4x_2 = 7 \\\\\n",
    "x_1 + 4x_2 = 7\n",
    "$$  "
   ]
  },
  {
   "cell_type": "markdown",
   "id": "ef44b20b",
   "metadata": {},
   "source": [
    "&emsp;&emsp;&emsp;&emsp;解が定まらない"
   ]
  },
  {
   "cell_type": "markdown",
   "id": "2fabc3ad",
   "metadata": {},
   "source": [
    "$$  \n",
    "x_1 + 4x_2 = 7 \\\\\n",
    "2x_1 + 8x_2 = 14\n",
    "$$ "
   ]
  },
  {
   "cell_type": "markdown",
   "id": "c0d4d8e7",
   "metadata": {},
   "source": [
    "&emsp;&emsp;&emsp;&emsp;形式的には、"
   ]
  },
  {
   "cell_type": "markdown",
   "id": "ac83e952",
   "metadata": {},
   "source": [
    "$$\n",
    "\\left(\n",
    "    \\begin{matrix} \n",
    "a & b \\\\ c & d \n",
    "\\end{matrix} \n",
    "\\right)\n",
    "$$\n",
    "$  a:b \\neq c:d $ 逆行列の解を持つ $\\\\  $  $  a:b = c:d $ 逆行列の解を持たない"
   ]
  },
  {
   "cell_type": "markdown",
   "id": "4d980d99",
   "metadata": {},
   "source": [
    "#### 1.8　逆行列の判別"
   ]
  },
  {
   "cell_type": "markdown",
   "id": "f433930b",
   "metadata": {},
   "source": [
    "\n",
    "$$\n",
    "\\left(\n",
    "    \\begin{matrix} \n",
    "a & b \\\\ c & d \n",
    "\\end{matrix} \n",
    "\\right)\n",
    " =\n",
    "\\left(\n",
    "    \\begin{matrix} \n",
    "    \\vec{v_1} \\\\ \\vec{v_2} \n",
    "\\end{matrix} \n",
    "\\right)\n",
    "$$"
   ]
  },
  {
   "cell_type": "markdown",
   "id": "1dbfa0bd",
   "metadata": {},
   "source": [
    "<font color=\"Skybule\">rule1 .同じものを含むと0になる</font>\n",
    "$$ \n",
    "\\begin{vmatrix}\n",
    "\\vec{v_1} \\\\ \\vec{v_2} \\\\ \\vec{v_3}\n",
    "\\end{vmatrix}\n",
    " = 0\n",
    "$$"
   ]
  },
  {
   "cell_type": "markdown",
   "id": "92394c0e",
   "metadata": {},
   "source": [
    "<font color=\"Skybule\">rule 2 .１つのベクトルがλ倍されると行列式はλ倍される</font>\n",
    "$$ \n",
    "\\begin{vmatrix}\n",
    "\\vec{v_1} \\\\ \\vec{v_2} \\\\ \\vec{v_3}\n",
    "\\end{vmatrix}\n",
    " = \n",
    "λ\n",
    "\\begin{vmatrix}\n",
    "\\vec{v_1} \\\\ \\vec{v_2} \\\\ \\vec{v_3}\n",
    "\\end{vmatrix}\n",
    "$$"
   ]
  },
  {
   "cell_type": "markdown",
   "id": "8db5e11c",
   "metadata": {},
   "source": [
    "<font color=\"Skybule\">rule 3.１つのベクトルがλ倍されると行列式はλ倍される</font>\n",
    "$$ \n",
    "\\begin{vmatrix}\n",
    "\\vec{v_1} \\\\ \\vec{v_2} + \\vec{w}  \\\\ \\vec{v_3}\n",
    "\\end{vmatrix}\n",
    " = \n",
    "\\begin{vmatrix}\n",
    "\\vec{v_1} \\\\ \\vec{v_2} \\\\ \\vec{v_3}\n",
    "\\end{vmatrix}\n",
    "+ \n",
    "\\begin{vmatrix}\n",
    "\\vec{v_1} \\\\ \\vec{w} \\\\ \\vec{v_3}\n",
    "\\end{vmatrix}\n",
    "$$"
   ]
  },
  {
   "cell_type": "markdown",
   "id": "d4b4b8e1",
   "metadata": {},
   "source": [
    "<font color=\"Skybule\">rule 4.行を入れ替えると符号が変わる</font>\n",
    "$$ \n",
    "\\begin{vmatrix}\n",
    "\\vec{v_1} \\\\ \\vec{v_2} \\\\  \\vec{v_3}  \\\\ \\vec{v_4}\n",
    "\\end{vmatrix}\n",
    " = -\n",
    "\\begin{vmatrix}\n",
    "\\vec{v_1} \\\\ \\vec{v_3} \\\\ \\vec{v_2} \\\\ \\vec{v_4}\n",
    "\\end{vmatrix}\n",
    "$$"
   ]
  },
  {
   "cell_type": "markdown",
   "id": "c93656e4",
   "metadata": {},
   "source": [
    "<font color=\"Skybule\">rule 5. 3x3の行列式の和を2x2の行列式の和に変換</font>\n",
    "$$ \n",
    "\\begin{vmatrix}\n",
    "\\vec{v_1} \\\\ \\vec{v_2} \\\\  \\vec{v_3} \n",
    "\\end{vmatrix}\n",
    "= \n",
    "\\begin{vmatrix}\n",
    "a & b & c \\\\ d & e & f \\\\ g & h & i\n",
    "\\end{vmatrix}\n",
    "=\n",
    "\\begin{vmatrix}\n",
    "a & b & c \\\\ 0 & e & f \\\\ 0 & h & i\n",
    "\\end{vmatrix}\n",
    "+\n",
    "\\begin{vmatrix}\n",
    "0 & b & c \\\\ d & e & f \\\\ 0 & h & i\n",
    "\\end{vmatrix}\n",
    "+\n",
    "\\begin{vmatrix}\n",
    "0 & b & c \\\\ 0 & e & f \\\\ g & h & i\n",
    "\\end{vmatrix}\n",
    "\\\\  \n",
    "=\n",
    "a \n",
    "\\begin{vmatrix}\n",
    " e & f \\\\  h & i\n",
    "\\end{vmatrix}\n",
    "- d \n",
    "\\begin{vmatrix}\n",
    "b & c \\\\ h & i\n",
    "\\end{vmatrix}\n",
    "+ g \n",
    "\\begin{vmatrix}\n",
    "b & c \\\\ e & f \n",
    "\\end{vmatrix}\n",
    "$$"
   ]
  },
  {
   "cell_type": "markdown",
   "id": "b116e824",
   "metadata": {},
   "source": [
    "#### 1.9 固有値と固有ベクトル"
   ]
  },
  {
   "cell_type": "markdown",
   "id": "ade79ab5",
   "metadata": {},
   "source": [
    "A $\\vec{x} $ = λ$\\vec{x} $ \n",
    "\n",
    "行列Aとその特殊なベクトル $\\vec{x} $の積はただのスカラ―の数λとその特殊なベクトルと同じ値になる。$\\\\  $   \n",
    "この場合、\n",
    "<font color=\"Red\">ベクトル $\\vec{x} $を固有ベクトルと呼び、λを固有値</font>\n",
    "という。\n",
    "$$\n",
    "\\left(\n",
    "    \\begin{matrix} \n",
    "1 & 2 \\\\ 3 & 4\n",
    "\\end{matrix} \n",
    "\\right)\n",
    "\\left(\n",
    "    \\begin{matrix} \n",
    "1 \\\\ 1 \n",
    "\\end{matrix} \n",
    "\\right)\n",
    " =\n",
    "\\left(\n",
    "    \\begin{matrix} \n",
    "    5 \\\\ 5 \n",
    "\\end{matrix} \n",
    "\\right)\n",
    "$$\n",
    "$$\n",
    "固有値λ = 5 , 固有ベクトル\\vec{x}= \n",
    "\\left(\n",
    "    \\begin{matrix} \n",
    "    1 \\\\ 1 \n",
    "\\end{matrix} \n",
    "\\right)\n",
    "$$"
   ]
  },
  {
   "cell_type": "markdown",
   "id": "c51db9eb",
   "metadata": {},
   "source": [
    "固有値と固有ベクトルの求め方$ \\\\  $  A $\\vec{x} $ = λ$\\vec{x} $  $ \\\\  $\n",
    "( A - λ　I) $  \\vec{x} $ = $\\vec{0}     $ $      $\n",
    "$ I:単位行列 $"
   ]
  },
  {
   "cell_type": "markdown",
   "id": "b19693f3",
   "metadata": {},
   "source": [
    "固有値と固有ベクトルの求め方$ \\\\  $  A $\\vec{x} $ = λ$\\vec{x} $\n",
    "( A - λI) $  \\vec{x} $ = $\\vec{0} $ "
   ]
  },
  {
   "cell_type": "markdown",
   "id": "42b74fb0",
   "metadata": {},
   "source": [
    "$$ \n",
    "\\begin{vmatrix}\n",
    "A - λI\n",
    "\\end{vmatrix}\n",
    " = 0\n",
    "$$"
   ]
  },
  {
   "cell_type": "markdown",
   "id": "86b84503",
   "metadata": {},
   "source": [
    "$$ \n",
    "\\begin{vmatrix}\n",
    "1 - λI & 4 \\\\ 2 & 3-λ\n",
    "\\end{vmatrix}\n",
    " = 0\n",
    "$$"
   ]
  },
  {
   "cell_type": "markdown",
   "id": "37b2bf2a",
   "metadata": {},
   "source": [
    "$$\n",
    "\\left(\n",
    "    \\begin{matrix} \n",
    "1 & 4 \\\\ 2 & 3\n",
    "\\end{matrix} \n",
    "\\right)\n",
    "\\left(\n",
    "    \\begin{matrix} \n",
    "x_1 \\\\ x_2  \n",
    "\\end{matrix} \n",
    "\\right)\n",
    " = 5 \n",
    "\\left(\n",
    "    \\begin{matrix} \n",
    "   x_1 \\\\ x_2\n",
    "\\end{matrix} \n",
    "\\right)\n",
    "$$\n",
    "$$\n",
    "\\downarrow\n",
    "$$\n",
    "$$\n",
    "\\left(\n",
    "    \\begin{matrix} \n",
    " x_1 + 4 x_2 \\\\ 2x1 + 3x_2\n",
    "\\end{matrix} \n",
    "\\right)\n",
    " = 5 \n",
    "\\left(\n",
    "    \\begin{matrix} \n",
    "   x_1 \\\\ x_2\n",
    "\\end{matrix} \n",
    "\\right)\n",
    "$$\n",
    "$$\n",
    "\\downarrow\n",
    "$$\n",
    "$$\n",
    "\\left(\n",
    "    \\begin{matrix} \n",
    " x_1 + 4 x_2 \\\\ 2x1 + 3x_2\n",
    "\\end{matrix} \n",
    "\\right)\n",
    " = 5 \n",
    "\\left(\n",
    "    \\begin{matrix} \n",
    "   x_1 \\\\ x_2\n",
    "\\end{matrix} \n",
    "\\right)\n",
    "$$\n",
    "$$\n",
    "\\downarrow\n",
    "$$\n",
    "$$\n",
    "\\left(\n",
    "    \\begin{matrix} \n",
    " 1 & 4 \\\\ 2 & 3\n",
    "\\end{matrix} \n",
    "\\right) \n",
    "\\left(\n",
    "    \\begin{matrix} \n",
    "   x_1 \\\\ x_2\n",
    "\\end{matrix} \n",
    "\\right)\n",
    "= -1 \n",
    "\\left(\n",
    "    \\begin{matrix} \n",
    "   x_1 \\\\ x_2\n",
    "\\end{matrix} \n",
    "\\right)\n",
    "$$"
   ]
  },
  {
   "cell_type": "markdown",
   "id": "a8ec293d",
   "metadata": {},
   "source": [
    "<font color=\"Red\">比率までしか、わからない。</font>"
   ]
  },
  {
   "cell_type": "markdown",
   "id": "57ce708b",
   "metadata": {},
   "source": [
    "<font color=\"Red\">固有値が先に求まる。</font>"
   ]
  },
  {
   "cell_type": "markdown",
   "id": "b198ed9d",
   "metadata": {},
   "source": [
    "3 x 3の行列式の固有値、固有ベクトルの求め方\n",
    "$$\n",
    "\\left(\n",
    "    \\begin{matrix} \n",
    "3 & 2 & 0 \\\\ 0 & 2 & 0 \\\\ 0 & 0 & 1\n",
    "\\end{matrix} \n",
    "\\right)\n",
    "$$"
   ]
  },
  {
   "cell_type": "markdown",
   "id": "29f6245f",
   "metadata": {},
   "source": [
    "$$\n",
    "\\begin{vmatrix}\n",
    "3 - λ & 2 & 0 \\\\ 0 & 2 - λ & 0 \\\\ 0 & 0 & 1 - λ \n",
    "\\end{vmatrix}\n",
    "= 0\n",
    "$$"
   ]
  },
  {
   "cell_type": "markdown",
   "id": "ba425dc4",
   "metadata": {},
   "source": [
    "<font color=\"Green\">  &emsp;&emsp;&emsp; &emsp;&emsp;&emsp; &emsp;&emsp;&emsp;&emsp;&emsp;&emsp; &emsp;&emsp;&emsp; &emsp;&emsp;&emsp;(3 - λ) (2  - λ)(1 - λ) = 0</font>\n",
    "固有値(λ）は　３，２，１"
   ]
  },
  {
   "cell_type": "markdown",
   "id": "f6c4381e",
   "metadata": {},
   "source": [
    "$$\n",
    "\\left(\n",
    "    \\begin{matrix} \n",
    "3 & 2 & 0 \\\\ 0 & 2 & 0 \\\\ 0 & 0 & 1\n",
    "\\end{matrix} \n",
    "\\right)\n",
    "\\left(\n",
    "    \\begin{matrix} \n",
    "x_1 \\\\ x_2 \\\\ x_3\n",
    "\\end{matrix} \n",
    "\\right)\n",
    " = \n",
    "3\n",
    "\\left(\n",
    "    \\begin{matrix} \n",
    "x_1 \\\\ x_2 \\\\ x_3\n",
    "\\end{matrix} \n",
    "\\right)\n",
    "  \\begin{align}\n",
    "    &\\begin{split} \n",
    "  3x_1 + 2x_2 = 3x_1 \\\\ 2x_2 = 3x_2  \\\\x_3 = 3x_3\n",
    "\\end{split}\n",
    "\\end{align}\n",
    "$$"
   ]
  },
  {
   "cell_type": "markdown",
   "id": "ec4bfe66",
   "metadata": {},
   "source": [
    "λ =3 &emsp;&emsp;&emsp;&emsp;$\\vec{x} =\n",
    "\\left(    \n",
    "\\begin{matrix} \n",
    "1 \\\\ 0\n",
    "\\end{matrix} \n",
    "\\right)\n",
    "  \\begin{align}\n",
    "    &\\begin{split} \n",
    "      　の定数倍\n",
    "\\end{split}\n",
    "\\end{align}\n",
    "$"
   ]
  },
  {
   "cell_type": "code",
   "execution_count": null,
   "id": "c0c890ab",
   "metadata": {},
   "outputs": [],
   "source": []
  },
  {
   "cell_type": "code",
   "execution_count": null,
   "id": "49926597",
   "metadata": {},
   "outputs": [],
   "source": []
  }
 ],
 "metadata": {
  "kernelspec": {
   "display_name": "Python 3",
   "language": "python",
   "name": "python3"
  },
  "language_info": {
   "codemirror_mode": {
    "name": "ipython",
    "version": 3
   },
   "file_extension": ".py",
   "mimetype": "text/x-python",
   "name": "python",
   "nbconvert_exporter": "python",
   "pygments_lexer": "ipython3",
   "version": "3.8.8"
  }
 },
 "nbformat": 4,
 "nbformat_minor": 5
}
