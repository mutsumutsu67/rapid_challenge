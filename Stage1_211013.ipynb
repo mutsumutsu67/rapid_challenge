{
 "cells": [
  {
   "cell_type": "markdown",
   "id": "528cfa0c",
   "metadata": {},
   "source": [
    "# Stage 1 応用数学Report (線形代数/確率・統計/情報理論)\n",
    "# 線形代数\n",
    "## １.行列\n",
    "### 1.1行列とは？\n",
    "#### &emsp;&emsp;スカラ―を表にしたもの。\n",
    "#### &emsp;&emsp;ベクトルを並べたもの\n",
    "#### &emsp;&emsp;&emsp;&emsp;→何に使うのか？\n",
    "#### &emsp;&emsp;&emsp;&emsp;&emsp;1.ベクトルの変換\n",
    "#### &emsp;&emsp;&emsp;&emsp;&emsp;2.連立方程式を解く\n",
    "      "
   ]
  },
  {
   "cell_type": "markdown",
   "id": "34df986d",
   "metadata": {},
   "source": [
    "##### &emsp;&emsp; 以下の連立方程式を"
   ]
  },
  {
   "cell_type": "markdown",
   "id": "8602e262",
   "metadata": {},
   "source": [
    "$$\n",
    "        \\begin{cases}\n",
    "             &x_1  &+ &2x_2 &= 3 　\\\\\n",
    "             &2x_1 &+ &5x_2 &= 5 　\\\\ \n",
    "        \\end{cases}\n",
    "$$"
   ]
  },
  {
   "cell_type": "markdown",
   "id": "9560843a",
   "metadata": {},
   "source": [
    "##### &emsp;&emsp; 行列式で表すと以下の式になる。"
   ]
  },
  {
   "cell_type": "markdown",
   "id": "6d6d0d7e",
   "metadata": {},
   "source": [
    "$$\n",
    "A\\vec{x} = \\vec{b}\n",
    "$$"
   ]
  },
  {
   "cell_type": "markdown",
   "id": "1fdde079",
   "metadata": {},
   "source": [
    "$$\n",
    "\\left(\n",
    "    \\begin{matrix} \n",
    "1 & 2 \\\\ 2 & 5 \n",
    "\\end{matrix} \n",
    "\\right)\n",
    "\\left(\n",
    "    \\begin{matrix} \n",
    "x_1 \\\\ x_2 \n",
    "\\end{matrix} \n",
    "    \\right)  \n",
    "=\n",
    "    \\left(\n",
    "    \\begin{matrix} \n",
    "3 \\\\ 5 \n",
    "\\end{matrix} \n",
    "    \\right)  \n",
    "$$"
   ]
  },
  {
   "cell_type": "markdown",
   "id": "d4ce14a1",
   "metadata": {},
   "source": [
    "##### 1.2 行列とベクトルの積"
   ]
  },
  {
   "cell_type": "markdown",
   "id": "aa879d59",
   "metadata": {},
   "source": [
    "$$\n",
    "\\left(\n",
    "    \\begin{matrix} \n",
    "6& 4\\\\ 3& 5 \n",
    "\\end{matrix} \n",
    "\\right)\n",
    "\\left(\n",
    "    \\begin{matrix} \n",
    "1 \\\\ 2 \n",
    "\\end{matrix} \n",
    "    \\right)  \n",
    "=\n",
    "    \\left(\n",
    "    \\begin{matrix} \n",
    "6*1+4*2 \\\\ 3*1+5*2 \n",
    "\\end{matrix} \n",
    "    \\right)  \n",
    "=\n",
    "    \\left(\n",
    "    \\begin{matrix} \n",
    "14 \\\\ 13 \n",
    "\\end{matrix} \n",
    "    \\right)  \n",
    "$$"
   ]
  },
  {
   "cell_type": "markdown",
   "id": "ab82f1d9",
   "metadata": {},
   "source": [
    "行列の積は、先の行列の\"行\"と後の行列の\"列”の積を和したものになる。"
   ]
  },
  {
   "cell_type": "markdown",
   "id": "4aa00edf",
   "metadata": {},
   "source": [
    "例："
   ]
  },
  {
   "cell_type": "markdown",
   "id": "0f350395",
   "metadata": {},
   "source": [
    "$$\n",
    "\\begin{matrix}\n",
    "\\left[\n",
    "\\begin{array}{ccc}\n",
    "a_{11} & a_{12} & a_{13} \\\\\n",
    "a_{21} & a_{22} & a_{23} \\\\\n",
    "a_{31} & a_{32} & a_{33} \\\\\n",
    "\\end{array}\n",
    "\\right]\n",
    "\\end{matrix}\n",
    "\\begin{matrix}\n",
    "\\left[\n",
    "\\begin{array}{ccc}\n",
    "b_{11} & b_{12} & b_{13} \\\\\n",
    "b_{21} & b_{22} & b_{23} \\\\\n",
    "b_{31} & b_{32} & b_{33} \\\\\n",
    "\\end{array}\n",
    "\\right]\n",
    "\\end{matrix}\n",
    "=\n",
    "\\begin{matrix}\n",
    "\\left[\n",
    "\\begin{array}{ccc}\n",
    "a_{11}*b_{11}+a_{12}*b_{21}+ a_{13}*b_{31}& \\cdots &  \\cdots \\\\\n",
    " \\cdots & a_{21}*b_{12}+a_{22}*b_{22}+ a_{23}*b_{32} & \\cdots \\\\\n",
    " \\cdots & \\cdots &a_{31}*b_{13}+a_{32}*b_{23}+ a_{33}*b_{33} \\\\\n",
    "\\end{array}\n",
    "\\right]\n",
    "\\end{matrix}\n",
    "$$"
   ]
  },
  {
   "cell_type": "markdown",
   "id": "e5aabeff",
   "metadata": {},
   "source": [
    "##### 1.3 行基本変換\n",
    "　　行列式で連立方程式を解く場合、**行列基本変形**を行い左辺の行列を単位行列に変換する。その場合右辺が方程式の解となる。"
   ]
  },
  {
   "cell_type": "markdown",
   "id": "d293aae8",
   "metadata": {},
   "source": [
    "###### &nbsp;&nbsp;&nbsp;&nbsp;**行基本変形の方法：**\n",
    "&nbsp;&nbsp;&nbsp;&nbsp;①.K列をC倍  \n",
    "&nbsp;&nbsp;&nbsp;&nbsp;②.S行目にt行目のC倍を加える  \n",
    "&nbsp;&nbsp;&nbsp;&nbsp;③.P行目とq行目を入れ替え  "
   ]
  },
  {
   "cell_type": "markdown",
   "id": "2a8b17dd",
   "metadata": {},
   "source": [
    "&nbsp;&nbsp;&nbsp;&nbsp;&nbsp;&nbsp;&nbsp;&nbsp;行基本変形の例：  "
   ]
  },
  {
   "cell_type": "markdown",
   "id": "a3d5ad4a",
   "metadata": {},
   "source": [
    "$$\n",
    "\\left(\n",
    "    \\begin{matrix} \n",
    "1 & 4 \\\\ 2 & 6 \n",
    "\\end{matrix} \n",
    "\\right)\n",
    "\\left(\n",
    "    \\begin{matrix} \n",
    "x_1 \\\\ x_2 \n",
    "\\end{matrix} \n",
    "    \\right)  \n",
    "=\n",
    "    \\left(\n",
    "    \\begin{matrix} \n",
    "7 \\\\ 10 \n",
    "\\end{matrix} \n",
    "    \\right)  \n",
    "$$"
   ]
  },
  {
   "cell_type": "markdown",
   "id": "64ce3669",
   "metadata": {},
   "source": [
    "$$\n",
    "↓\n",
    "$$"
   ]
  },
  {
   "cell_type": "markdown",
   "id": "cda3e467",
   "metadata": {},
   "source": [
    "$$\n",
    "\\left(\n",
    "    \\begin{matrix} \n",
    "1 & 4 \\\\ 1 & 3 \n",
    "\\end{matrix} \n",
    "\\right)\n",
    "\\left(\n",
    "    \\begin{matrix} \n",
    "x_1 \\\\ x_2 \n",
    "\\end{matrix} \n",
    "    \\right)  \n",
    "=\n",
    "    \\left(\n",
    "    \\begin{matrix} \n",
    "7 \\\\ 5 \n",
    "\\end{matrix} \n",
    "    \\right)  \n",
    "$$"
   ]
  },
  {
   "cell_type": "markdown",
   "id": "83d21e12",
   "metadata": {},
   "source": [
    "$$\n",
    "↓\n",
    "$$"
   ]
  },
  {
   "cell_type": "markdown",
   "id": "5c6cd545",
   "metadata": {},
   "source": [
    "$$\n",
    "\\left(\n",
    "    \\begin{matrix} \n",
    "0 & 1 \\\\ 1 & 3 \n",
    "\\end{matrix} \n",
    "\\right)\n",
    "\\left(\n",
    "    \\begin{matrix} \n",
    "x_1 \\\\ x_2 \n",
    "\\end{matrix} \n",
    "    \\right)  \n",
    "=\n",
    "    \\left(\n",
    "    \\begin{matrix} \n",
    "2 \\\\ 5 \n",
    "\\end{matrix} \n",
    "    \\right)  \n",
    "$$"
   ]
  },
  {
   "cell_type": "markdown",
   "id": "bab439bf",
   "metadata": {},
   "source": [
    "$$\n",
    "↓\n",
    "$$"
   ]
  },
  {
   "cell_type": "markdown",
   "id": "eca27e22",
   "metadata": {},
   "source": [
    "$$\n",
    "\\left(\n",
    "    \\begin{matrix} \n",
    "0 & 1 \\\\ 1 & 0 \n",
    "\\end{matrix} \n",
    "\\right)\n",
    "\\left(\n",
    "    \\begin{matrix} \n",
    "x_1 \\\\ x_2 \n",
    "\\end{matrix} \n",
    "    \\right)  \n",
    "=\n",
    "    \\left(\n",
    "    \\begin{matrix} \n",
    "2 \\\\ -1 \n",
    "\\end{matrix} \n",
    "    \\right)  \n",
    "$$"
   ]
  },
  {
   "cell_type": "markdown",
   "id": "99937ff0",
   "metadata": {},
   "source": [
    "$$\n",
    "↓\n",
    "$$"
   ]
  },
  {
   "cell_type": "markdown",
   "id": "5bcc34f4",
   "metadata": {},
   "source": [
    "$$\n",
    "\\left(\n",
    "    \\begin{matrix} \n",
    "1 & 0 \\\\ 0 & 1 \n",
    "\\end{matrix} \n",
    "\\right)\n",
    "\\left(\n",
    "    \\begin{matrix} \n",
    "x_1 \\\\ x_2 \n",
    "\\end{matrix} \n",
    "    \\right)  \n",
    "=\n",
    "    \\left(\n",
    "    \\begin{matrix} \n",
    "-1 \\\\ 2 \n",
    "\\end{matrix} \n",
    "    \\right)  \n",
    "$$"
   ]
  },
  {
   "cell_type": "markdown",
   "id": "1e2ea403",
   "metadata": {},
   "source": [
    "###### 左辺の行列が**単位行列**になると完了。"
   ]
  },
  {
   "cell_type": "markdown",
   "id": "baaa2b17",
   "metadata": {},
   "source": [
    "##### 1.4 行列の逆数"
   ]
  },
  {
   "cell_type": "markdown",
   "id": "1c9366ab",
   "metadata": {},
   "source": [
    "$$\n",
    "\\left(\n",
    "    \\begin{matrix} \n",
    "1 & 4 \\\\ 2 & 6 \n",
    "\\end{matrix} \n",
    "\\right)\n",
    "\\left(\n",
    "    \\begin{matrix} \n",
    "x_1 \\\\ x_2 \n",
    "\\end{matrix} \n",
    "    \\right)  \n",
    "=\n",
    "    \\left(\n",
    "    \\begin{matrix} \n",
    "7 \\\\ 10 \n",
    "\\end{matrix} \n",
    "    \\right)  \n",
    "$$"
   ]
  },
  {
   "cell_type": "markdown",
   "id": "1cf4daf3",
   "metadata": {},
   "source": [
    "行列の変換を一つの列で表すと"
   ]
  },
  {
   "cell_type": "markdown",
   "id": "4965f5d7",
   "metadata": {},
   "source": [
    "$$\n",
    "\\left(\n",
    "    \\begin{matrix} \n",
    "1 & 0 \\\\ 0 & 1 \n",
    "\\end{matrix} \n",
    "\\right)\n",
    "\\left(\n",
    "    \\begin{matrix} \n",
    "1 & 0 \\\\ -3 & 1 \n",
    "\\end{matrix} \n",
    "\\right)\n",
    "\\left(\n",
    "    \\begin{matrix} \n",
    "1 & -1 \\\\ 0 & 1 \n",
    "\\end{matrix} \n",
    "\\right)\n",
    "\\left(\n",
    "    \\begin{matrix} \n",
    "1 & 0 \\\\ 0 & 1/2 \n",
    "\\end{matrix} \n",
    "\\right)\n",
    "\\left(\n",
    "    \\begin{matrix} \n",
    "1 & 4 \\\\ 2 & 6 \n",
    "\\end{matrix} \n",
    "\\right)\n",
    "\\left(\n",
    "    \\begin{matrix} \n",
    "x_1 \\\\ x_2 \n",
    "\\end{matrix} \n",
    "    \\right)  \n",
    "=\n",
    "\\left(\n",
    "    \\begin{matrix} \n",
    "0 & 1 \\\\ 1 & 0 \n",
    "\\end{matrix} \n",
    "\\right)\n",
    "\\left(\n",
    "    \\begin{matrix} \n",
    "1 & 0 \\\\ -3 & 1 \n",
    "\\end{matrix} \n",
    "\\right)\n",
    "\\left(\n",
    "    \\begin{matrix} \n",
    "1 & -1 \\\\ 0 & 1 \n",
    "\\end{matrix} \n",
    "\\right)\n",
    "\\left(\n",
    "    \\begin{matrix} \n",
    "1 & 0 \\\\ 0 & \\frac{1}{2} \n",
    "\\end{matrix} \n",
    "\\right)\n",
    "    \\left(\n",
    "    \\begin{matrix} \n",
    "7 \\\\ 10 \n",
    "\\end{matrix} \n",
    "    \\right)  \n",
    "$$"
   ]
  },
  {
   "cell_type": "markdown",
   "id": "8d2616e5",
   "metadata": {},
   "source": [
    "$$\n",
    "\\left(\n",
    "    \\begin{matrix} \n",
    "-3 & 2 \\\\ 1 & -1/2  \n",
    "\\end{matrix} \n",
    "\\right)\n",
    "\\left(\n",
    "    \\begin{matrix} \n",
    "1 & 4 \\\\ 2 & 6 \n",
    "\\end{matrix} \n",
    "\\right)\n",
    "\\left(\n",
    "    \\begin{matrix} \n",
    "x_1 \\\\ x_2 \n",
    "\\end{matrix} \n",
    "    \\right)  \n",
    "=\n",
    "\\left(\n",
    "    \\begin{matrix} \n",
    "-3 & 2 \\\\ 1 & - \\frac{1}{2} \n",
    "\\end{matrix} \n",
    "\\right)\n",
    "\\left(\n",
    "    \\begin{matrix} \n",
    "7 \\\\ 10 \n",
    "\\end{matrix} \n",
    "    \\right)  \n",
    "$$"
   ]
  },
  {
   "cell_type": "markdown",
   "id": "c4d63f46",
   "metadata": {},
   "source": [
    "#### 1.5 単位行列"
   ]
  },
  {
   "cell_type": "markdown",
   "id": "ede049ba",
   "metadata": {},
   "source": [
    "###### &emsp;&emsp;&emsp;行列式と掛けても(積しても）行列式の値が変化しない行列"
   ]
  },
  {
   "cell_type": "markdown",
   "id": "089e84d0",
   "metadata": {},
   "source": [
    "$$\n",
    "\\left(\n",
    "    \\begin{matrix} \n",
    "1 & 0 \\\\ 0 & 1 \n",
    "\\end{matrix} \n",
    "\\right)\n",
    "\\left(\n",
    "    \\begin{matrix}  \n",
    "2 & 3 \\\\ 1 & 9 \n",
    "\\end{matrix} \n",
    "\\right)\n",
    "=\n",
    "\\left(\n",
    "    \\begin{matrix}  \n",
    "2 & 3 \\\\ 1 & 9 \n",
    "\\end{matrix} \n",
    "\\right)\n",
    ",\n",
    "\\left(\n",
    "    \\begin{matrix} \n",
    "2 & 3 \\\\ 1 & 9 \n",
    "\\end{matrix} \n",
    "\\right)\n",
    "\\left(\n",
    "    \\begin{matrix}  \n",
    "1 & 0 \\\\ 0 & 1 \n",
    "\\end{matrix} \n",
    "\\right)\n",
    "=\n",
    "\\left(\n",
    "    \\begin{matrix}  \n",
    "2 & 3 \\\\ 1 & 9 \n",
    "\\end{matrix} \n",
    "\\right)\n",
    "$$"
   ]
  },
  {
   "cell_type": "markdown",
   "id": "53620d53",
   "metadata": {},
   "source": [
    "$$  \n",
    "　A・A^{-1}　= A^{-1}・A = I\n",
    "$$  "
   ]
  },
  {
   "cell_type": "markdown",
   "id": "51483d1b",
   "metadata": {},
   "source": [
    "#### 1.6　逆行列の作り方"
   ]
  },
  {
   "cell_type": "markdown",
   "id": "43969ced",
   "metadata": {},
   "source": [
    "###### &emsp;&emsp;&emsp;　以下の行列をガウスの掃き出し法（行基本変形)使って逆行列を求める。"
   ]
  },
  {
   "cell_type": "markdown",
   "id": "896f6564",
   "metadata": {},
   "source": [
    "$$\n",
    "\\left(\n",
    "    \\begin{matrix} \n",
    "1 & 4 \\\\ 2 & 6 \n",
    "\\end{matrix} \n",
    "\\right)\n",
    "\\left(\n",
    "    \\begin{matrix} \n",
    "x_1 \\\\ x_2 \n",
    "\\end{matrix} \n",
    "    \\right)  \n",
    "=\n",
    "    \\left(\n",
    "    \\begin{matrix} \n",
    "7 \\\\ 10 \n",
    "\\end{matrix} \n",
    "    \\right)  \n",
    "$$"
   ]
  },
  {
   "cell_type": "markdown",
   "id": "805441ac",
   "metadata": {},
   "source": [
    "$$\n",
    "\\left(\n",
    "    \\begin{matrix} \n",
    "1 & 4 \\\\ 2 & 6 \n",
    "\\end{matrix} \n",
    "\\right)\n",
    "\\left(\n",
    "    \\begin{matrix} \n",
    "x_1 \\\\ x_2 \n",
    "\\end{matrix} \n",
    "    \\right)  \n",
    "=\n",
    "\\left(\n",
    "    \\begin{matrix} \n",
    "1 & 0 \\\\ 0 & 1 \n",
    "\\end{matrix} \n",
    "\\right)\n",
    "    \\left(\n",
    "    \\begin{matrix} \n",
    "7 \\\\ 10 \n",
    "\\end{matrix} \n",
    "    \\right)  \n",
    "$$"
   ]
  },
  {
   "cell_type": "markdown",
   "id": "25f4a5e7",
   "metadata": {},
   "source": [
    "###### &emsp;&emsp;&emsp;&emsp;手順"
   ]
  },
  {
   "cell_type": "markdown",
   "id": "06b1fb6c",
   "metadata": {},
   "source": [
    "$$\n",
    "\\left(\n",
    "    \\begin{array}{cc|cc} \n",
    "1 & 4 & 1& 0 \\\\ 2 & 6 & 0 & 1 \n",
    "\\end{array} \n",
    "\\right)\n",
    "   一回目\n",
    "$$"
   ]
  },
  {
   "cell_type": "markdown",
   "id": "ca9863fa",
   "metadata": {},
   "source": [
    "$$\n",
    "\\left(\n",
    "    \\begin{array}{cc|cc} \n",
    "1 & 4 & 1& 0 \\\\ 1 & 3 & 0 & \\frac{1}{2} \n",
    "\\end{array} \n",
    "\\right)\n",
    "   ２回目\n",
    "$$"
   ]
  },
  {
   "cell_type": "markdown",
   "id": "d24ac9ca",
   "metadata": {},
   "source": [
    "$$\n",
    "\\left(\n",
    "    \\begin{array}{cc|cc} \n",
    "0 & 1 & 1 & -\\frac{1}{2}  \\\\ 1 & 3 & 0 & \\frac{1}{2} \n",
    "\\end{array} \n",
    "\\right)\n",
    "   ３回目\n",
    "$$"
   ]
  },
  {
   "cell_type": "markdown",
   "id": "7603fa4f",
   "metadata": {},
   "source": [
    "$$\n",
    "\\left(\n",
    "    \\begin{array}{cc|cc} \n",
    "0 & 1 & 1 & -\\frac{1}{2}  \\\\ 1 & 0 & -3 & 2 \n",
    "\\end{array} \n",
    "\\right)\n",
    "   ４回目\n",
    "$$"
   ]
  },
  {
   "cell_type": "markdown",
   "id": "a1294326",
   "metadata": {},
   "source": [
    "$$\n",
    "\\left(\n",
    "    \\begin{array}{cc|cc} \n",
    "1 & 0 & -3 & 2 \\\\ 0 & 1 & 1 & -\\frac{1}{2} \n",
    "\\end{array} \n",
    "\\right)\n",
    "   ５回目\n",
    "$$"
   ]
  },
  {
   "cell_type": "code",
   "execution_count": null,
   "id": "c4fe504c",
   "metadata": {},
   "outputs": [],
   "source": []
  }
 ],
 "metadata": {
  "kernelspec": {
   "display_name": "Python 3",
   "language": "python",
   "name": "python3"
  },
  "language_info": {
   "codemirror_mode": {
    "name": "ipython",
    "version": 3
   },
   "file_extension": ".py",
   "mimetype": "text/x-python",
   "name": "python",
   "nbconvert_exporter": "python",
   "pygments_lexer": "ipython3",
   "version": "3.8.8"
  }
 },
 "nbformat": 4,
 "nbformat_minor": 5
}
