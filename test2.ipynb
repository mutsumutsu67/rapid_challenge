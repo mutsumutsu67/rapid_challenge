{
 "cells": [
  {
   "cell_type": "markdown",
   "id": "ed50656d",
   "metadata": {},
   "source": [
    "# Stage 1 応用数学Report (線形代数/確率・統計/情報理論)\n",
    "# 線形代数\n",
    "## １.行列\n",
    "### 行列とは？\n",
    "#### スカラ―を表にしたもの。\n",
    "#### ベクトルを並べたもの\n",
    "#### &emsp;&emsp;→何に使うのか？\n",
    "#### &emsp;&emsp;&emsp;1.ベクトルの変換\n",
    "#### &emsp;&emsp;&emsp;2.連立方程式を解く\n",
    "      "
   ]
  },
  {
   "cell_type": "markdown",
   "id": "34df986d",
   "metadata": {},
   "source": [
    "##### &emsp;&emsp; 以下の連立方程式を"
   ]
  },
  {
   "cell_type": "markdown",
   "id": "0ff33044",
   "metadata": {},
   "source": [
    "$$\n",
    "        \\begin{cases}\n",
    "             x_1   + 2x_2 = 3 　　連立方程式をスムーズに解く\\\\ \n",
    "             2x_1 + 5x_2 = 5 　形式をシンプルにすること。\\\\ \n",
    "        \\end{cases}\n",
    "$$\n",
    "\n"
   ]
  },
  {
   "cell_type": "markdown",
   "id": "8e490633",
   "metadata": {},
   "source": [
    "##### &emsp;&emsp; 行列式で表すと以下の式になる。"
   ]
  },
  {
   "cell_type": "markdown",
   "id": "2419cf31",
   "metadata": {},
   "source": [
    "$$\n",
    "\\left(\n",
    "    \\begin{matrix} \n",
    "1 & 2 \\\\ 2 & 5 \n",
    "\\end{matrix} \n",
    "\\right)\n",
    "\\left(\n",
    "    \\begin{matrix} \n",
    "x_1 \\\\ x_2 \n",
    "\\end{matrix} \n",
    "    \\right)  \n",
    "=\n",
    "    \\left(\n",
    "    \\begin{matrix} \n",
    "3 \\\\ 5 \n",
    "\\end{matrix} \n",
    "    \\right)  \n",
    "$$"
   ]
  },
  {
   "cell_type": "markdown",
   "id": "9d3cb7a6",
   "metadata": {},
   "source": [
    "$$\n",
    "    \\begin{align}\n",
    "        % 各種演算子の書き方\n",
    "        y &= ax     & y &> ax  & y \\geqq ax \\\\\n",
    "        y &\\neq ax  & y &< ax  & y \\leqq ax \\\\\n",
    "    \\end{align}\n",
    "$$"
   ]
  },
  {
   "cell_type": "markdown",
   "id": "57161e17",
   "metadata": {},
   "source": [
    "$$\n",
    "    \\frac{d}{d x} x^2 = 2x \\\\\n",
    "    \\frac{\\partial}{\\partial x} x^2 + a = 2x\n",
    "$$"
   ]
  }
 ],
 "metadata": {
  "kernelspec": {
   "display_name": "Python 3",
   "language": "python",
   "name": "python3"
  },
  "language_info": {
   "codemirror_mode": {
    "name": "ipython",
    "version": 3
   },
   "file_extension": ".py",
   "mimetype": "text/x-python",
   "name": "python",
   "nbconvert_exporter": "python",
   "pygments_lexer": "ipython3",
   "version": "3.8.8"
  }
 },
 "nbformat": 4,
 "nbformat_minor": 5
}
