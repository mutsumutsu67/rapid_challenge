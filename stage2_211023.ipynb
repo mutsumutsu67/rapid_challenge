{
 "cells": [
  {
   "cell_type": "markdown",
   "id": "2a82508e",
   "metadata": {},
   "source": [
    "# Stage2 機械学習Report \n",
    "##### (線形回帰モデル/非線形回帰モデル/ロジスティック回帰モデル/主成分分析/アルゴリズム/サポートベクターマシーン)\n",
    "\n",
    "## 回帰問題\n",
    "### 入力（離散または連続値）から出力を予測する問題\n",
    "#### 　線形で予測　------> 　線形回帰モデル\n",
    "#### 非線形で予測　------> 非線形回帰モデル\n",
    "#### \n",
    "#### 回帰で扱うデータ\n",
    "##### 入力(説明変数または特徴量）"
   ]
  },
  {
   "cell_type": "markdown",
   "id": "9db9ca0a",
   "metadata": {},
   "source": [
    "#### &emsp;&emsp; $ x= (x_1 , x_2 , \\cdots ,x_m )^ \\mathrm{T} \\in  \\mathbb{R}^m  $ "
   ]
  },
  {
   "cell_type": "markdown",
   "id": "aa86553b",
   "metadata": {},
   "source": [
    "#### 出力(目的変数）"
   ]
  },
  {
   "cell_type": "markdown",
   "id": "e8799cef",
   "metadata": {},
   "source": [
    "#### &emsp;&emsp; $ y \\in \\mathbb{R}^1  $ "
   ]
  },
  {
   "cell_type": "markdown",
   "id": "2f7c5dfc",
   "metadata": {},
   "source": [
    "## 1.線形回帰モデル"
   ]
  },
  {
   "cell_type": "markdown",
   "id": "f97d7aad",
   "metadata": {},
   "source": [
    "#### 教師あり学習\n",
    "#### 入力とm次元パラメータの線形結合を出力するモデル"
   ]
  },
  {
   "cell_type": "markdown",
   "id": "5dd305ae",
   "metadata": {},
   "source": [
    "##### パラメータ　$ \\boldsymbol{w} = (w_1,w_2, \\cdots , w_m )^ \\mathrm{T} )\\in  \\mathbb{R}^m $"
   ]
  },
  {
   "cell_type": "markdown",
   "id": "c890aeae",
   "metadata": {},
   "source": [
    "##### 線形結合　$ \\hat{y} = w^ \\mathrm{T} x + w_0 =\\sum _{j=1} ^{m} {w_jx_j} + w_0 $"
   ]
  },
  {
   "cell_type": "markdown",
   "id": "75687692",
   "metadata": {},
   "source": [
    "#####  (モデルの出力値ベクトル)=(学習データの説明変数行列)×(回帰係数ベクトル)+(切片ベクトル)"
   ]
  },
  {
   "cell_type": "code",
   "execution_count": null,
   "id": "8ba0cfae",
   "metadata": {},
   "outputs": [],
   "source": [
    "パラメータの更新方法：最小二乗法によって算出。"
   ]
  },
  {
   "cell_type": "markdown",
   "id": "8ba8ff74",
   "metadata": {},
   "source": [
    "\n",
    "#### 線形結合とは、入力とパラメータの内積である。\n",
    "###### $w $ パラメータ--->　重み(weight ), 切片(バイアス)を加えたもの。\n",
    "###### 重みは正の値をつけると、特徴量を増加させる。負の値をつけると現象させる。\n",
    "###### 大きい値だと影響力を増すことになる。\n",
    "###### 入力ベクトルが多次元でも出力は一次元（スカラ）になる。"
   ]
  },
  {
   "cell_type": "code",
   "execution_count": null,
   "id": "84f73160",
   "metadata": {},
   "outputs": [],
   "source": [
    "###### パラメータの更新方法：最小二乗法によって算出。\n",
    "###### "
   ]
  },
  {
   "cell_type": "markdown",
   "id": "3a0ef88e",
   "metadata": {},
   "source": [
    "## 線形回帰モデル　ハンズオン"
   ]
  },
  {
   "cell_type": "code",
   "execution_count": 12,
   "id": "5885a1c6",
   "metadata": {},
   "outputs": [
    {
     "name": "stdout",
     "output_type": "stream",
     "text": [
      "{'data': array([[6.3200e-03, 1.8000e+01, 2.3100e+00, ..., 1.5300e+01, 3.9690e+02,\n",
      "        4.9800e+00],\n",
      "       [2.7310e-02, 0.0000e+00, 7.0700e+00, ..., 1.7800e+01, 3.9690e+02,\n",
      "        9.1400e+00],\n",
      "       [2.7290e-02, 0.0000e+00, 7.0700e+00, ..., 1.7800e+01, 3.9283e+02,\n",
      "        4.0300e+00],\n",
      "       ...,\n",
      "       [6.0760e-02, 0.0000e+00, 1.1930e+01, ..., 2.1000e+01, 3.9690e+02,\n",
      "        5.6400e+00],\n",
      "       [1.0959e-01, 0.0000e+00, 1.1930e+01, ..., 2.1000e+01, 3.9345e+02,\n",
      "        6.4800e+00],\n",
      "       [4.7410e-02, 0.0000e+00, 1.1930e+01, ..., 2.1000e+01, 3.9690e+02,\n",
      "        7.8800e+00]]), 'target': array([24. , 21.6, 34.7, 33.4, 36.2, 28.7, 22.9, 27.1, 16.5, 18.9, 15. ,\n",
      "       18.9, 21.7, 20.4, 18.2, 19.9, 23.1, 17.5, 20.2, 18.2, 13.6, 19.6,\n",
      "       15.2, 14.5, 15.6, 13.9, 16.6, 14.8, 18.4, 21. , 12.7, 14.5, 13.2,\n",
      "       13.1, 13.5, 18.9, 20. , 21. , 24.7, 30.8, 34.9, 26.6, 25.3, 24.7,\n",
      "       21.2, 19.3, 20. , 16.6, 14.4, 19.4, 19.7, 20.5, 25. , 23.4, 18.9,\n",
      "       35.4, 24.7, 31.6, 23.3, 19.6, 18.7, 16. , 22.2, 25. , 33. , 23.5,\n",
      "       19.4, 22. , 17.4, 20.9, 24.2, 21.7, 22.8, 23.4, 24.1, 21.4, 20. ,\n",
      "       20.8, 21.2, 20.3, 28. , 23.9, 24.8, 22.9, 23.9, 26.6, 22.5, 22.2,\n",
      "       23.6, 28.7, 22.6, 22. , 22.9, 25. , 20.6, 28.4, 21.4, 38.7, 43.8,\n",
      "       33.2, 27.5, 26.5, 18.6, 19.3, 20.1, 19.5, 19.5, 20.4, 19.8, 19.4,\n",
      "       21.7, 22.8, 18.8, 18.7, 18.5, 18.3, 21.2, 19.2, 20.4, 19.3, 22. ,\n",
      "       20.3, 20.5, 17.3, 18.8, 21.4, 15.7, 16.2, 18. , 14.3, 19.2, 19.6,\n",
      "       23. , 18.4, 15.6, 18.1, 17.4, 17.1, 13.3, 17.8, 14. , 14.4, 13.4,\n",
      "       15.6, 11.8, 13.8, 15.6, 14.6, 17.8, 15.4, 21.5, 19.6, 15.3, 19.4,\n",
      "       17. , 15.6, 13.1, 41.3, 24.3, 23.3, 27. , 50. , 50. , 50. , 22.7,\n",
      "       25. , 50. , 23.8, 23.8, 22.3, 17.4, 19.1, 23.1, 23.6, 22.6, 29.4,\n",
      "       23.2, 24.6, 29.9, 37.2, 39.8, 36.2, 37.9, 32.5, 26.4, 29.6, 50. ,\n",
      "       32. , 29.8, 34.9, 37. , 30.5, 36.4, 31.1, 29.1, 50. , 33.3, 30.3,\n",
      "       34.6, 34.9, 32.9, 24.1, 42.3, 48.5, 50. , 22.6, 24.4, 22.5, 24.4,\n",
      "       20. , 21.7, 19.3, 22.4, 28.1, 23.7, 25. , 23.3, 28.7, 21.5, 23. ,\n",
      "       26.7, 21.7, 27.5, 30.1, 44.8, 50. , 37.6, 31.6, 46.7, 31.5, 24.3,\n",
      "       31.7, 41.7, 48.3, 29. , 24. , 25.1, 31.5, 23.7, 23.3, 22. , 20.1,\n",
      "       22.2, 23.7, 17.6, 18.5, 24.3, 20.5, 24.5, 26.2, 24.4, 24.8, 29.6,\n",
      "       42.8, 21.9, 20.9, 44. , 50. , 36. , 30.1, 33.8, 43.1, 48.8, 31. ,\n",
      "       36.5, 22.8, 30.7, 50. , 43.5, 20.7, 21.1, 25.2, 24.4, 35.2, 32.4,\n",
      "       32. , 33.2, 33.1, 29.1, 35.1, 45.4, 35.4, 46. , 50. , 32.2, 22. ,\n",
      "       20.1, 23.2, 22.3, 24.8, 28.5, 37.3, 27.9, 23.9, 21.7, 28.6, 27.1,\n",
      "       20.3, 22.5, 29. , 24.8, 22. , 26.4, 33.1, 36.1, 28.4, 33.4, 28.2,\n",
      "       22.8, 20.3, 16.1, 22.1, 19.4, 21.6, 23.8, 16.2, 17.8, 19.8, 23.1,\n",
      "       21. , 23.8, 23.1, 20.4, 18.5, 25. , 24.6, 23. , 22.2, 19.3, 22.6,\n",
      "       19.8, 17.1, 19.4, 22.2, 20.7, 21.1, 19.5, 18.5, 20.6, 19. , 18.7,\n",
      "       32.7, 16.5, 23.9, 31.2, 17.5, 17.2, 23.1, 24.5, 26.6, 22.9, 24.1,\n",
      "       18.6, 30.1, 18.2, 20.6, 17.8, 21.7, 22.7, 22.6, 25. , 19.9, 20.8,\n",
      "       16.8, 21.9, 27.5, 21.9, 23.1, 50. , 50. , 50. , 50. , 50. , 13.8,\n",
      "       13.8, 15. , 13.9, 13.3, 13.1, 10.2, 10.4, 10.9, 11.3, 12.3,  8.8,\n",
      "        7.2, 10.5,  7.4, 10.2, 11.5, 15.1, 23.2,  9.7, 13.8, 12.7, 13.1,\n",
      "       12.5,  8.5,  5. ,  6.3,  5.6,  7.2, 12.1,  8.3,  8.5,  5. , 11.9,\n",
      "       27.9, 17.2, 27.5, 15. , 17.2, 17.9, 16.3,  7. ,  7.2,  7.5, 10.4,\n",
      "        8.8,  8.4, 16.7, 14.2, 20.8, 13.4, 11.7,  8.3, 10.2, 10.9, 11. ,\n",
      "        9.5, 14.5, 14.1, 16.1, 14.3, 11.7, 13.4,  9.6,  8.7,  8.4, 12.8,\n",
      "       10.5, 17.1, 18.4, 15.4, 10.8, 11.8, 14.9, 12.6, 14.1, 13. , 13.4,\n",
      "       15.2, 16.1, 17.8, 14.9, 14.1, 12.7, 13.5, 14.9, 20. , 16.4, 17.7,\n",
      "       19.5, 20.2, 21.4, 19.9, 19. , 19.1, 19.1, 20.1, 19.9, 19.6, 23.2,\n",
      "       29.8, 13.8, 13.3, 16.7, 12. , 14.6, 21.4, 23. , 23.7, 25. , 21.8,\n",
      "       20.6, 21.2, 19.1, 20.6, 15.2,  7. ,  8.1, 13.6, 20.1, 21.8, 24.5,\n",
      "       23.1, 19.7, 18.3, 21.2, 17.5, 16.8, 22.4, 20.6, 23.9, 22. , 11.9]), 'feature_names': array(['CRIM', 'ZN', 'INDUS', 'CHAS', 'NOX', 'RM', 'AGE', 'DIS', 'RAD',\n",
      "       'TAX', 'PTRATIO', 'B', 'LSTAT'], dtype='<U7'), 'DESCR': \".. _boston_dataset:\\n\\nBoston house prices dataset\\n---------------------------\\n\\n**Data Set Characteristics:**  \\n\\n    :Number of Instances: 506 \\n\\n    :Number of Attributes: 13 numeric/categorical predictive. Median Value (attribute 14) is usually the target.\\n\\n    :Attribute Information (in order):\\n        - CRIM     per capita crime rate by town\\n        - ZN       proportion of residential land zoned for lots over 25,000 sq.ft.\\n        - INDUS    proportion of non-retail business acres per town\\n        - CHAS     Charles River dummy variable (= 1 if tract bounds river; 0 otherwise)\\n        - NOX      nitric oxides concentration (parts per 10 million)\\n        - RM       average number of rooms per dwelling\\n        - AGE      proportion of owner-occupied units built prior to 1940\\n        - DIS      weighted distances to five Boston employment centres\\n        - RAD      index of accessibility to radial highways\\n        - TAX      full-value property-tax rate per $10,000\\n        - PTRATIO  pupil-teacher ratio by town\\n        - B        1000(Bk - 0.63)^2 where Bk is the proportion of blacks by town\\n        - LSTAT    % lower status of the population\\n        - MEDV     Median value of owner-occupied homes in $1000's\\n\\n    :Missing Attribute Values: None\\n\\n    :Creator: Harrison, D. and Rubinfeld, D.L.\\n\\nThis is a copy of UCI ML housing dataset.\\nhttps://archive.ics.uci.edu/ml/machine-learning-databases/housing/\\n\\n\\nThis dataset was taken from the StatLib library which is maintained at Carnegie Mellon University.\\n\\nThe Boston house-price data of Harrison, D. and Rubinfeld, D.L. 'Hedonic\\nprices and the demand for clean air', J. Environ. Economics & Management,\\nvol.5, 81-102, 1978.   Used in Belsley, Kuh & Welsch, 'Regression diagnostics\\n...', Wiley, 1980.   N.B. Various transformations are used in the table on\\npages 244-261 of the latter.\\n\\nThe Boston house-price data has been used in many machine learning papers that address regression\\nproblems.   \\n     \\n.. topic:: References\\n\\n   - Belsley, Kuh & Welsch, 'Regression diagnostics: Identifying Influential Data and Sources of Collinearity', Wiley, 1980. 244-261.\\n   - Quinlan,R. (1993). Combining Instance-Based and Model-Based Learning. In Proceedings on the Tenth International Conference of Machine Learning, 236-243, University of Massachusetts, Amherst. Morgan Kaufmann.\\n\", 'filename': 'D:\\\\anaconda\\\\lib\\\\site-packages\\\\sklearn\\\\datasets\\\\data\\\\boston_house_prices.csv'}\n"
     ]
    }
   ],
   "source": [
    "#from モジュール名 import クラス名（もしくは関数名や変数名）\n",
    "from sklearn.datasets import load_boston\n",
    "from pandas import DataFrame\n",
    "import numpy as np\n",
    "# ボストンデータを\"boston\"というインスタンスにインポート\n",
    "boston = load_boston()\n",
    "#インポートしたデータを確認(data / target / feature_names / DESCR)\n",
    "print(boston)"
   ]
  },
  {
   "cell_type": "code",
   "execution_count": 15,
   "id": "879571ab",
   "metadata": {},
   "outputs": [
    {
     "name": "stdout",
     "output_type": "stream",
     "text": [
      ".. _boston_dataset:\n",
      "\n",
      "Boston house prices dataset\n",
      "---------------------------\n",
      "\n",
      "**Data Set Characteristics:**  \n",
      "\n",
      "    :Number of Instances: 506 \n",
      "\n",
      "    :Number of Attributes: 13 numeric/categorical predictive. Median Value (attribute 14) is usually the target.\n",
      "\n",
      "    :Attribute Information (in order):\n",
      "        - CRIM     per capita crime rate by town\n",
      "        - ZN       proportion of residential land zoned for lots over 25,000 sq.ft.\n",
      "        - INDUS    proportion of non-retail business acres per town\n",
      "        - CHAS     Charles River dummy variable (= 1 if tract bounds river; 0 otherwise)\n",
      "        - NOX      nitric oxides concentration (parts per 10 million)\n",
      "        - RM       average number of rooms per dwelling\n",
      "        - AGE      proportion of owner-occupied units built prior to 1940\n",
      "        - DIS      weighted distances to five Boston employment centres\n",
      "        - RAD      index of accessibility to radial highways\n",
      "        - TAX      full-value property-tax rate per $10,000\n",
      "        - PTRATIO  pupil-teacher ratio by town\n",
      "        - B        1000(Bk - 0.63)^2 where Bk is the proportion of blacks by town\n",
      "        - LSTAT    % lower status of the population\n",
      "        - MEDV     Median value of owner-occupied homes in $1000's\n",
      "\n",
      "    :Missing Attribute Values: None\n",
      "\n",
      "    :Creator: Harrison, D. and Rubinfeld, D.L.\n",
      "\n",
      "This is a copy of UCI ML housing dataset.\n",
      "https://archive.ics.uci.edu/ml/machine-learning-databases/housing/\n",
      "\n",
      "\n",
      "This dataset was taken from the StatLib library which is maintained at Carnegie Mellon University.\n",
      "\n",
      "The Boston house-price data of Harrison, D. and Rubinfeld, D.L. 'Hedonic\n",
      "prices and the demand for clean air', J. Environ. Economics & Management,\n",
      "vol.5, 81-102, 1978.   Used in Belsley, Kuh & Welsch, 'Regression diagnostics\n",
      "...', Wiley, 1980.   N.B. Various transformations are used in the table on\n",
      "pages 244-261 of the latter.\n",
      "\n",
      "The Boston house-price data has been used in many machine learning papers that address regression\n",
      "problems.   \n",
      "     \n",
      ".. topic:: References\n",
      "\n",
      "   - Belsley, Kuh & Welsch, 'Regression diagnostics: Identifying Influential Data and Sources of Collinearity', Wiley, 1980. 244-261.\n",
      "   - Quinlan,R. (1993). Combining Instance-Based and Model-Based Learning. In Proceedings on the Tenth International Conference of Machine Learning, 236-243, University of Massachusetts, Amherst. Morgan Kaufmann.\n",
      "\n"
     ]
    }
   ],
   "source": [
    "#DESCR変数の中身を確認\n",
    "\n",
    "print(boston['DESCR'])"
   ]
  },
  {
   "cell_type": "code",
   "execution_count": 14,
   "id": "e37625df",
   "metadata": {},
   "outputs": [],
   "source": [
    "###### 補足\n",
    "# CRIM    : 町別の一人当たりの犯罪率 \n",
    "# ZN      : 25,000平方フィートを超える区画にゾーニングされた住宅用地の割合。 \n",
    "# INDUS   : 町ごとの非小売業のエーカーの割合 \n",
    "# CHAS    : チャールズ川ダミー変数 (= 1 路が川に接する場合 ; 0 それ以外)\n",
    "# NOX     : 一酸化窒素濃度 (ppm)\n",
    "# RM      : 住居あたりの平均部屋数\n",
    "# AGE     : 1940年より前に建てられた持ち家の割合\n",
    "# DIS     : 5つのボストン雇用センターまでの加重距離 \n",
    "# RAD     : 放射状高速道路へのアクセシビリティの指標 \n",
    "# TAX     : 10,000ドルあたりの全額固定資産税率 \n",
    "# PTRATIO : 町別の生徒と教師の比率 \n",
    "# B       : 1000（Bk-0.63）^ 2ここで、Bkは町ごとの黒人の割合です \n",
    "# LSTAT   : 人口の％低いステータス \n",
    "# MEDV    : 1000ドルの持ち家の中央値 "
   ]
  },
  {
   "cell_type": "code",
   "execution_count": 16,
   "id": "b6699afa",
   "metadata": {},
   "outputs": [
    {
     "name": "stdout",
     "output_type": "stream",
     "text": [
      "['CRIM' 'ZN' 'INDUS' 'CHAS' 'NOX' 'RM' 'AGE' 'DIS' 'RAD' 'TAX' 'PTRATIO'\n",
      " 'B' 'LSTAT']\n"
     ]
    }
   ],
   "source": [
    "#feature_names変数の中身を確認\n",
    "#カラム名\n",
    "print(boston['feature_names'])"
   ]
  },
  {
   "cell_type": "code",
   "execution_count": 17,
   "id": "dda9c9b2",
   "metadata": {},
   "outputs": [
    {
     "name": "stdout",
     "output_type": "stream",
     "text": [
      "[[6.3200e-03 1.8000e+01 2.3100e+00 ... 1.5300e+01 3.9690e+02 4.9800e+00]\n",
      " [2.7310e-02 0.0000e+00 7.0700e+00 ... 1.7800e+01 3.9690e+02 9.1400e+00]\n",
      " [2.7290e-02 0.0000e+00 7.0700e+00 ... 1.7800e+01 3.9283e+02 4.0300e+00]\n",
      " ...\n",
      " [6.0760e-02 0.0000e+00 1.1930e+01 ... 2.1000e+01 3.9690e+02 5.6400e+00]\n",
      " [1.0959e-01 0.0000e+00 1.1930e+01 ... 2.1000e+01 3.9345e+02 6.4800e+00]\n",
      " [4.7410e-02 0.0000e+00 1.1930e+01 ... 2.1000e+01 3.9690e+02 7.8800e+00]]\n"
     ]
    }
   ],
   "source": [
    "#data変数(説明変数)の中身を確認\n",
    "print(boston['data'])"
   ]
  },
  {
   "cell_type": "code",
   "execution_count": 9,
   "id": "0f4345f2",
   "metadata": {},
   "outputs": [
    {
     "name": "stdout",
     "output_type": "stream",
     "text": [
      "[24.  21.6 34.7 33.4 36.2 28.7 22.9 27.1 16.5 18.9 15.  18.9 21.7 20.4\n",
      " 18.2 19.9 23.1 17.5 20.2 18.2 13.6 19.6 15.2 14.5 15.6 13.9 16.6 14.8\n",
      " 18.4 21.  12.7 14.5 13.2 13.1 13.5 18.9 20.  21.  24.7 30.8 34.9 26.6\n",
      " 25.3 24.7 21.2 19.3 20.  16.6 14.4 19.4 19.7 20.5 25.  23.4 18.9 35.4\n",
      " 24.7 31.6 23.3 19.6 18.7 16.  22.2 25.  33.  23.5 19.4 22.  17.4 20.9\n",
      " 24.2 21.7 22.8 23.4 24.1 21.4 20.  20.8 21.2 20.3 28.  23.9 24.8 22.9\n",
      " 23.9 26.6 22.5 22.2 23.6 28.7 22.6 22.  22.9 25.  20.6 28.4 21.4 38.7\n",
      " 43.8 33.2 27.5 26.5 18.6 19.3 20.1 19.5 19.5 20.4 19.8 19.4 21.7 22.8\n",
      " 18.8 18.7 18.5 18.3 21.2 19.2 20.4 19.3 22.  20.3 20.5 17.3 18.8 21.4\n",
      " 15.7 16.2 18.  14.3 19.2 19.6 23.  18.4 15.6 18.1 17.4 17.1 13.3 17.8\n",
      " 14.  14.4 13.4 15.6 11.8 13.8 15.6 14.6 17.8 15.4 21.5 19.6 15.3 19.4\n",
      " 17.  15.6 13.1 41.3 24.3 23.3 27.  50.  50.  50.  22.7 25.  50.  23.8\n",
      " 23.8 22.3 17.4 19.1 23.1 23.6 22.6 29.4 23.2 24.6 29.9 37.2 39.8 36.2\n",
      " 37.9 32.5 26.4 29.6 50.  32.  29.8 34.9 37.  30.5 36.4 31.1 29.1 50.\n",
      " 33.3 30.3 34.6 34.9 32.9 24.1 42.3 48.5 50.  22.6 24.4 22.5 24.4 20.\n",
      " 21.7 19.3 22.4 28.1 23.7 25.  23.3 28.7 21.5 23.  26.7 21.7 27.5 30.1\n",
      " 44.8 50.  37.6 31.6 46.7 31.5 24.3 31.7 41.7 48.3 29.  24.  25.1 31.5\n",
      " 23.7 23.3 22.  20.1 22.2 23.7 17.6 18.5 24.3 20.5 24.5 26.2 24.4 24.8\n",
      " 29.6 42.8 21.9 20.9 44.  50.  36.  30.1 33.8 43.1 48.8 31.  36.5 22.8\n",
      " 30.7 50.  43.5 20.7 21.1 25.2 24.4 35.2 32.4 32.  33.2 33.1 29.1 35.1\n",
      " 45.4 35.4 46.  50.  32.2 22.  20.1 23.2 22.3 24.8 28.5 37.3 27.9 23.9\n",
      " 21.7 28.6 27.1 20.3 22.5 29.  24.8 22.  26.4 33.1 36.1 28.4 33.4 28.2\n",
      " 22.8 20.3 16.1 22.1 19.4 21.6 23.8 16.2 17.8 19.8 23.1 21.  23.8 23.1\n",
      " 20.4 18.5 25.  24.6 23.  22.2 19.3 22.6 19.8 17.1 19.4 22.2 20.7 21.1\n",
      " 19.5 18.5 20.6 19.  18.7 32.7 16.5 23.9 31.2 17.5 17.2 23.1 24.5 26.6\n",
      " 22.9 24.1 18.6 30.1 18.2 20.6 17.8 21.7 22.7 22.6 25.  19.9 20.8 16.8\n",
      " 21.9 27.5 21.9 23.1 50.  50.  50.  50.  50.  13.8 13.8 15.  13.9 13.3\n",
      " 13.1 10.2 10.4 10.9 11.3 12.3  8.8  7.2 10.5  7.4 10.2 11.5 15.1 23.2\n",
      "  9.7 13.8 12.7 13.1 12.5  8.5  5.   6.3  5.6  7.2 12.1  8.3  8.5  5.\n",
      " 11.9 27.9 17.2 27.5 15.  17.2 17.9 16.3  7.   7.2  7.5 10.4  8.8  8.4\n",
      " 16.7 14.2 20.8 13.4 11.7  8.3 10.2 10.9 11.   9.5 14.5 14.1 16.1 14.3\n",
      " 11.7 13.4  9.6  8.7  8.4 12.8 10.5 17.1 18.4 15.4 10.8 11.8 14.9 12.6\n",
      " 14.1 13.  13.4 15.2 16.1 17.8 14.9 14.1 12.7 13.5 14.9 20.  16.4 17.7\n",
      " 19.5 20.2 21.4 19.9 19.  19.1 19.1 20.1 19.9 19.6 23.2 29.8 13.8 13.3\n",
      " 16.7 12.  14.6 21.4 23.  23.7 25.  21.8 20.6 21.2 19.1 20.6 15.2  7.\n",
      "  8.1 13.6 20.1 21.8 24.5 23.1 19.7 18.3 21.2 17.5 16.8 22.4 20.6 23.9\n",
      " 22.  11.9]\n"
     ]
    }
   ],
   "source": [
    "#target変数(目的変数)の中身を確認\n",
    "print(boston['target'])"
   ]
  },
  {
   "cell_type": "markdown",
   "id": "20283d51",
   "metadata": {},
   "source": [
    "### 2. データフレームの作成"
   ]
  },
  {
   "cell_type": "code",
   "execution_count": 23,
   "id": "c60cbcd1",
   "metadata": {},
   "outputs": [
    {
     "data": {
      "text/html": [
       "<div>\n",
       "<style scoped>\n",
       "    .dataframe tbody tr th:only-of-type {\n",
       "        vertical-align: middle;\n",
       "    }\n",
       "\n",
       "    .dataframe tbody tr th {\n",
       "        vertical-align: top;\n",
       "    }\n",
       "\n",
       "    .dataframe thead th {\n",
       "        text-align: right;\n",
       "    }\n",
       "</style>\n",
       "<table border=\"1\" class=\"dataframe\">\n",
       "  <thead>\n",
       "    <tr style=\"text-align: right;\">\n",
       "      <th></th>\n",
       "      <th>CRIM</th>\n",
       "      <th>ZN</th>\n",
       "      <th>INDUS</th>\n",
       "      <th>CHAS</th>\n",
       "      <th>NOX</th>\n",
       "      <th>RM</th>\n",
       "      <th>AGE</th>\n",
       "      <th>DIS</th>\n",
       "      <th>RAD</th>\n",
       "      <th>TAX</th>\n",
       "      <th>PTRATIO</th>\n",
       "      <th>B</th>\n",
       "      <th>LSTAT</th>\n",
       "      <th>PRICE</th>\n",
       "    </tr>\n",
       "  </thead>\n",
       "  <tbody>\n",
       "    <tr>\n",
       "      <th>0</th>\n",
       "      <td>0.00632</td>\n",
       "      <td>18.0</td>\n",
       "      <td>2.31</td>\n",
       "      <td>0.0</td>\n",
       "      <td>0.538</td>\n",
       "      <td>6.575</td>\n",
       "      <td>65.2</td>\n",
       "      <td>4.0900</td>\n",
       "      <td>1.0</td>\n",
       "      <td>296.0</td>\n",
       "      <td>15.3</td>\n",
       "      <td>396.90</td>\n",
       "      <td>4.98</td>\n",
       "      <td>24.0</td>\n",
       "    </tr>\n",
       "    <tr>\n",
       "      <th>1</th>\n",
       "      <td>0.02731</td>\n",
       "      <td>0.0</td>\n",
       "      <td>7.07</td>\n",
       "      <td>0.0</td>\n",
       "      <td>0.469</td>\n",
       "      <td>6.421</td>\n",
       "      <td>78.9</td>\n",
       "      <td>4.9671</td>\n",
       "      <td>2.0</td>\n",
       "      <td>242.0</td>\n",
       "      <td>17.8</td>\n",
       "      <td>396.90</td>\n",
       "      <td>9.14</td>\n",
       "      <td>21.6</td>\n",
       "    </tr>\n",
       "    <tr>\n",
       "      <th>2</th>\n",
       "      <td>0.02729</td>\n",
       "      <td>0.0</td>\n",
       "      <td>7.07</td>\n",
       "      <td>0.0</td>\n",
       "      <td>0.469</td>\n",
       "      <td>7.185</td>\n",
       "      <td>61.1</td>\n",
       "      <td>4.9671</td>\n",
       "      <td>2.0</td>\n",
       "      <td>242.0</td>\n",
       "      <td>17.8</td>\n",
       "      <td>392.83</td>\n",
       "      <td>4.03</td>\n",
       "      <td>34.7</td>\n",
       "    </tr>\n",
       "    <tr>\n",
       "      <th>3</th>\n",
       "      <td>0.03237</td>\n",
       "      <td>0.0</td>\n",
       "      <td>2.18</td>\n",
       "      <td>0.0</td>\n",
       "      <td>0.458</td>\n",
       "      <td>6.998</td>\n",
       "      <td>45.8</td>\n",
       "      <td>6.0622</td>\n",
       "      <td>3.0</td>\n",
       "      <td>222.0</td>\n",
       "      <td>18.7</td>\n",
       "      <td>394.63</td>\n",
       "      <td>2.94</td>\n",
       "      <td>33.4</td>\n",
       "    </tr>\n",
       "    <tr>\n",
       "      <th>4</th>\n",
       "      <td>0.06905</td>\n",
       "      <td>0.0</td>\n",
       "      <td>2.18</td>\n",
       "      <td>0.0</td>\n",
       "      <td>0.458</td>\n",
       "      <td>7.147</td>\n",
       "      <td>54.2</td>\n",
       "      <td>6.0622</td>\n",
       "      <td>3.0</td>\n",
       "      <td>222.0</td>\n",
       "      <td>18.7</td>\n",
       "      <td>396.90</td>\n",
       "      <td>5.33</td>\n",
       "      <td>36.2</td>\n",
       "    </tr>\n",
       "  </tbody>\n",
       "</table>\n",
       "</div>"
      ],
      "text/plain": [
       "      CRIM    ZN  INDUS  CHAS    NOX     RM   AGE     DIS  RAD    TAX  \\\n",
       "0  0.00632  18.0   2.31   0.0  0.538  6.575  65.2  4.0900  1.0  296.0   \n",
       "1  0.02731   0.0   7.07   0.0  0.469  6.421  78.9  4.9671  2.0  242.0   \n",
       "2  0.02729   0.0   7.07   0.0  0.469  7.185  61.1  4.9671  2.0  242.0   \n",
       "3  0.03237   0.0   2.18   0.0  0.458  6.998  45.8  6.0622  3.0  222.0   \n",
       "4  0.06905   0.0   2.18   0.0  0.458  7.147  54.2  6.0622  3.0  222.0   \n",
       "\n",
       "   PTRATIO       B  LSTAT  PRICE  \n",
       "0     15.3  396.90   4.98   24.0  \n",
       "1     17.8  396.90   9.14   21.6  \n",
       "2     17.8  392.83   4.03   34.7  \n",
       "3     18.7  394.63   2.94   33.4  \n",
       "4     18.7  396.90   5.33   36.2  "
      ]
     },
     "execution_count": 23,
     "metadata": {},
     "output_type": "execute_result"
    }
   ],
   "source": [
    "#　説明変数らをDataFrameへ変換\n",
    "df = DataFrame(data=boston.data, columns = boston.feature_names)\n",
    "# 目的変数をDataFrameへ追加\n",
    "df['PRICE'] = np.array(boston.target)\n",
    "# 最初の5行を表示\n",
    "df.head(5)"
   ]
  },
  {
   "cell_type": "markdown",
   "id": "da39c2ba",
   "metadata": {},
   "source": [
    "### 線形単回帰分析"
   ]
  },
  {
   "cell_type": "code",
   "execution_count": 24,
   "id": "1313244d",
   "metadata": {},
   "outputs": [
    {
     "data": {
      "text/plain": [
       "array([[6.575],\n",
       "       [6.421],\n",
       "       [7.185],\n",
       "       [6.998],\n",
       "       [7.147]])"
      ]
     },
     "execution_count": 24,
     "metadata": {},
     "output_type": "execute_result"
    }
   ],
   "source": [
    "#カラムを指定してデータを表示\n",
    "df[['RM']].head()\n",
    "# 説明変数\n",
    "data = df.loc[:, ['RM']].values\n",
    "#dataリストの表示(1-5)\n",
    "data[0:5]"
   ]
  },
  {
   "cell_type": "code",
   "execution_count": 25,
   "id": "1f3fc4bf",
   "metadata": {},
   "outputs": [
    {
     "data": {
      "text/plain": [
       "array([24. , 21.6, 34.7, 33.4, 36.2])"
      ]
     },
     "execution_count": 25,
     "metadata": {},
     "output_type": "execute_result"
    }
   ],
   "source": [
    "# 目的変数\n",
    "target = df.loc[:, 'PRICE'].values\n",
    "target[0:5]"
   ]
  },
  {
   "cell_type": "code",
   "execution_count": 26,
   "id": "f9c8dbcd",
   "metadata": {},
   "outputs": [
    {
     "data": {
      "text/plain": [
       "LinearRegression()"
      ]
     },
     "execution_count": 26,
     "metadata": {},
     "output_type": "execute_result"
    }
   ],
   "source": [
    "## sklearnモジュールからLinearRegressionをインポート\n",
    "from sklearn.linear_model import LinearRegression\n",
    "# オブジェクト生成\n",
    "model = LinearRegression()\n",
    "#model.get_params()\n",
    "#model = LinearRegression(fit_intercept = True, normalize = False, copy_X = True,  n_jobs = 1)\n",
    "# fit関数でパラメータ推定\n",
    "model.fit(data, target)"
   ]
  },
  {
   "cell_type": "code",
   "execution_count": 27,
   "id": "9868110b",
   "metadata": {},
   "outputs": [
    {
     "data": {
      "text/plain": [
       "array([-25.5685118])"
      ]
     },
     "execution_count": 27,
     "metadata": {},
     "output_type": "execute_result"
    }
   ],
   "source": [
    "#予測\n",
    "model.predict([[1]])"
   ]
  },
  {
   "cell_type": "markdown",
   "id": "10ba7728",
   "metadata": {},
   "source": [
    "### 重回帰分析(2変数)"
   ]
  },
  {
   "cell_type": "code",
   "execution_count": 28,
   "id": "ca5f14c7",
   "metadata": {},
   "outputs": [
    {
     "data": {
      "text/html": [
       "<div>\n",
       "<style scoped>\n",
       "    .dataframe tbody tr th:only-of-type {\n",
       "        vertical-align: middle;\n",
       "    }\n",
       "\n",
       "    .dataframe tbody tr th {\n",
       "        vertical-align: top;\n",
       "    }\n",
       "\n",
       "    .dataframe thead th {\n",
       "        text-align: right;\n",
       "    }\n",
       "</style>\n",
       "<table border=\"1\" class=\"dataframe\">\n",
       "  <thead>\n",
       "    <tr style=\"text-align: right;\">\n",
       "      <th></th>\n",
       "      <th>CRIM</th>\n",
       "      <th>RM</th>\n",
       "    </tr>\n",
       "  </thead>\n",
       "  <tbody>\n",
       "    <tr>\n",
       "      <th>0</th>\n",
       "      <td>0.00632</td>\n",
       "      <td>6.575</td>\n",
       "    </tr>\n",
       "    <tr>\n",
       "      <th>1</th>\n",
       "      <td>0.02731</td>\n",
       "      <td>6.421</td>\n",
       "    </tr>\n",
       "    <tr>\n",
       "      <th>2</th>\n",
       "      <td>0.02729</td>\n",
       "      <td>7.185</td>\n",
       "    </tr>\n",
       "    <tr>\n",
       "      <th>3</th>\n",
       "      <td>0.03237</td>\n",
       "      <td>6.998</td>\n",
       "    </tr>\n",
       "    <tr>\n",
       "      <th>4</th>\n",
       "      <td>0.06905</td>\n",
       "      <td>7.147</td>\n",
       "    </tr>\n",
       "  </tbody>\n",
       "</table>\n",
       "</div>"
      ],
      "text/plain": [
       "      CRIM     RM\n",
       "0  0.00632  6.575\n",
       "1  0.02731  6.421\n",
       "2  0.02729  7.185\n",
       "3  0.03237  6.998\n",
       "4  0.06905  7.147"
      ]
     },
     "execution_count": 28,
     "metadata": {},
     "output_type": "execute_result"
    }
   ],
   "source": [
    "#カラムを指定してデータを表示\n",
    "df[['CRIM', 'RM']].head()"
   ]
  },
  {
   "cell_type": "code",
   "execution_count": 29,
   "id": "8c5ba2c8",
   "metadata": {},
   "outputs": [
    {
     "data": {
      "text/plain": [
       "array([29.43977562])"
      ]
     },
     "execution_count": 29,
     "metadata": {},
     "output_type": "execute_result"
    }
   ],
   "source": [
    "# 説明変数\n",
    "data2 = df.loc[:, ['CRIM', 'RM']].values\n",
    "# 目的変数\n",
    "target2 = df.loc[:, 'PRICE'].values\n",
    "#オブジェクト生成\n",
    "model2 = LinearRegression()\n",
    "# fit関数でパラメータ推定\n",
    "model2.fit(data2, target2)\n",
    "model2.predict([[0.2, 7]])"
   ]
  },
  {
   "cell_type": "markdown",
   "id": "2471f4b0",
   "metadata": {},
   "source": [
    "### 回帰係数と切片の値を確認"
   ]
  },
  {
   "cell_type": "code",
   "execution_count": 30,
   "id": "5d543bdc",
   "metadata": {},
   "outputs": [
    {
     "name": "stdout",
     "output_type": "stream",
     "text": [
      "推定された回帰係数: 9.102, 推定された切片 : -34.671\n"
     ]
    }
   ],
   "source": [
    "# 単回帰の回帰係数と切片を出力\n",
    "print('推定された回帰係数: %.3f, 推定された切片 : %.3f' % (model.coef_, model.intercept_))"
   ]
  },
  {
   "cell_type": "code",
   "execution_count": 31,
   "id": "14507130",
   "metadata": {},
   "outputs": [
    {
     "name": "stdout",
     "output_type": "stream",
     "text": [
      "[9.10210898]\n",
      "-34.67062077643857\n"
     ]
    }
   ],
   "source": [
    "# 重回帰の回帰係数と切片を出力\n",
    "print(model.coef_)\n",
    "print(model.intercept_)"
   ]
  },
  {
   "cell_type": "markdown",
   "id": "dbcf1c03",
   "metadata": {},
   "source": [
    "### モデルの検証\n",
    "#### 1. 決定係数"
   ]
  },
  {
   "cell_type": "code",
   "execution_count": 32,
   "id": "8551efab",
   "metadata": {},
   "outputs": [
    {
     "name": "stdout",
     "output_type": "stream",
     "text": [
      "単回帰決定係数: 0.484, 重回帰決定係数 : 0.542\n"
     ]
    }
   ],
   "source": [
    "#### 決定係数\n",
    "print('単回帰決定係数: %.3f, 重回帰決定係数 : %.3f' % (model.score(data,target), model2.score(data2,target2)))"
   ]
  },
  {
   "cell_type": "code",
   "execution_count": 33,
   "id": "b5ddc083",
   "metadata": {},
   "outputs": [],
   "source": [
    "# train_test_splitをインポート\n",
    "from sklearn.model_selection import train_test_split"
   ]
  },
  {
   "cell_type": "code",
   "execution_count": 34,
   "id": "f49d1197",
   "metadata": {},
   "outputs": [],
   "source": [
    "# 70%を学習用、30%を検証用データにするよう分割\n",
    "X_train, X_test, y_train, y_test = train_test_split(data, target, \n",
    "test_size = 0.3, random_state = 666)\n",
    "# 学習用データでパラメータ推定\n",
    "model.fit(X_train, y_train)\n",
    "# 作成したモデルから予測（学習用、検証用モデル使用）\n",
    "y_train_pred = model.predict(X_train)\n",
    "y_test_pred = model.predict(X_test)"
   ]
  },
  {
   "cell_type": "code",
   "execution_count": 46,
   "id": "5f92c997",
   "metadata": {
    "scrolled": true
   },
   "outputs": [
    {
     "data": {
      "image/png": "[encoded data removed]",
      "text/plain": [
       "<Figure size 432x288 with 1 Axes>"
      ]
     },
     "metadata": {
      "needs_background": "light"
     },
     "output_type": "display_data"
    }
   ],
   "source": [
    "# matplotlibをインポート\n",
    "import matplotlib.pyplot as plt\n",
    "# Jupyterを利用していたら、以下のおまじないを書くとnotebook上に図が表示\n",
    "%matplotlib inline\n",
    "# 学習用、検証用それぞれで残差をプロット\n",
    "plt.scatter(y_train_pred, y_train_pred - y_train, c = 'blue', marker = 'o', label = 'Train Data')\n",
    "plt.scatter(y_test_pred, y_test_pred - y_test, c = 'lightgreen', marker = 's', label = 'Test Data')\n",
    "plt.xlabel('Predicted Values')\n",
    "plt.ylabel('Residuals')\n",
    "# 凡例を左上に表示\n",
    "plt.legend(loc = 'upper left')\n",
    "# y = 0に直線を引く\n",
    "plt.hlines(y = 0, xmin = -10, xmax = 50, lw = 2, color = 'red')\n",
    "plt.xlim([10, 50])\n",
    "plt.show()"
   ]
  },
  {
   "cell_type": "markdown",
   "id": "08bd5fef",
   "metadata": {},
   "source": [
    "## 2,非線形回帰モデル"
   ]
  },
  {
   "cell_type": "markdown",
   "id": "404e5a31",
   "metadata": {},
   "source": [
    "### 線形回帰モデル　ハンズオン"
   ]
  },
  {
   "cell_type": "code",
   "execution_count": 47,
   "id": "2c1edb10",
   "metadata": {},
   "outputs": [],
   "source": [
    "import numpy as np\n",
    "import matplotlib.pyplot as plt\n",
    "import seaborn as sns\n",
    "\n",
    "%matplotlib inline"
   ]
  },
  {
   "cell_type": "code",
   "execution_count": 48,
   "id": "412ce345",
   "metadata": {},
   "outputs": [],
   "source": [
    "import numpy as np\n",
    "import matplotlib.pyplot as plt\n",
    "import seaborn as sns\n",
    "\n",
    "%matplotlib inline"
   ]
  },
  {
   "cell_type": "code",
   "execution_count": 49,
   "id": "8088a205",
   "metadata": {},
   "outputs": [],
   "source": [
    "n=100\n",
    "\n",
    "def true_func(x):\n",
    "    z = 1-48*x+218*x**2-315*x**3+145*x**4\n",
    "    return z \n",
    "\n",
    "def linear_func(x):\n",
    "    z = x\n",
    "    return z "
   ]
  },
  {
   "cell_type": "code",
   "execution_count": 50,
   "id": "532a64ed",
   "metadata": {},
   "outputs": [
    {
     "name": "stderr",
     "output_type": "stream",
     "text": [
      "No handles with labels found to put in legend.\n"
     ]
    },
    {
     "data": {
      "text/plain": [
       "<matplotlib.legend.Legend at 0xcc8b225400>"
      ]
     },
     "execution_count": 50,
     "metadata": {},
     "output_type": "execute_result"
    },
    {
     "data": {
      "image/png": "[encoded data removed]",
      "text/plain": [
       "<Figure size 432x288 with 1 Axes>"
      ]
     },
     "metadata": {
      "needs_background": "light"
     },
     "output_type": "display_data"
    }
   ],
   "source": [
    "# 真の関数からノイズを伴うデータを生成\n",
    "\n",
    "# 真の関数からデータ生成\n",
    "data = np.random.rand(n).astype(np.float32)\n",
    "data = np.sort(data)\n",
    "target = true_func(data)\n",
    "\n",
    "# 　ノイズを加える\n",
    "noise = 0.5 * np.random.randn(n) \n",
    "target = target  + noise\n",
    "\n",
    "# ノイズ付きデータを描画\n",
    "\n",
    "plt.scatter(data, target)\n",
    "\n",
    "plt.title('NonLinear Regression')\n",
    "plt.legend(loc=2)"
   ]
  },
  {
   "cell_type": "code",
   "execution_count": 51,
   "id": "c6d8cdea",
   "metadata": {},
   "outputs": [
    {
     "name": "stdout",
     "output_type": "stream",
     "text": [
      "0.2836335716086519\n"
     ]
    },
    {
     "data": {
      "image/png": "[encoded data removed]",
      "text/plain": [
       "<Figure size 432x288 with 1 Axes>"
      ]
     },
     "metadata": {
      "needs_background": "light"
     },
     "output_type": "display_data"
    }
   ],
   "source": [
    "##### 補足（線形回帰モデル）\n",
    "##### 補足 scikit-learnモデル\n",
    "##### https://scikit-learn.org/stable/modules/classes.html#module-sklearn.linear_model\n",
    "\n",
    "\n",
    "from sklearn.linear_model import LinearRegression\n",
    "\n",
    "clf = LinearRegression()\n",
    "data = data.reshape(-1,1)\n",
    "target = target.reshape(-1,1)\n",
    "clf.fit(data, target)\n",
    "\n",
    "p_lin = clf.predict(data)\n",
    "\n",
    "plt.scatter(data, target, label='data')\n",
    "plt.plot(data, p_lin, color='darkorange', marker='', linestyle='-', linewidth=1, markersize=6, label='linear regression')\n",
    "plt.legend()\n",
    "print(clf.score(data, target))"
   ]
  },
  {
   "cell_type": "code",
   "execution_count": 52,
   "id": "976d2d51",
   "metadata": {
    "scrolled": true
   },
   "outputs": [
    {
     "data": {
      "text/plain": [
       "<matplotlib.legend.Legend at 0xcc8b2e0730>"
      ]
     },
     "execution_count": 52,
     "metadata": {},
     "output_type": "execute_result"
    },
    {
     "data": {
      "image/png": "[encoded data removed]",
      "text/plain": [
       "<Figure size 432x288 with 1 Axes>"
      ]
     },
     "metadata": {
      "needs_background": "light"
     },
     "output_type": "display_data"
    }
   ],
   "source": [
    "##### 補足(非線形回帰モデル)\n",
    "####   https://scikit-learn.org/stable/modules/generated/sklearn.kernel_ridge.KernelRidge.html\n",
    "\n",
    "from sklearn.kernel_ridge import KernelRidge\n",
    "\n",
    "clf = KernelRidge(alpha=0.0002, kernel='rbf')\n",
    "clf.fit(data, target)\n",
    "\n",
    "p_kridge = clf.predict(data)\n",
    "\n",
    "plt.scatter(data, target, color='blue', label='data')\n",
    "\n",
    "plt.plot(data, p_kridge, color='orange', linestyle='-', linewidth=3, markersize=6, label='kernel ridge')\n",
    "plt.legend()\n",
    "#plt.plot(data, p, color='orange', marker='o', linestyle='-', linewidth=1, markersize=6)"
   ]
  },
  {
   "cell_type": "code",
   "execution_count": 54,
   "id": "3d66cd08",
   "metadata": {},
   "outputs": [
    {
     "name": "stdout",
     "output_type": "stream",
     "text": [
      "0.8453652708610857\n"
     ]
    },
    {
     "data": {
      "image/png": "[encoded data removed]",
      "text/plain": [
       "<Figure size 432x288 with 1 Axes>"
      ]
     },
     "metadata": {
      "needs_background": "light"
     },
     "output_type": "display_data"
    }
   ],
   "source": [
    "#Ridge\n",
    "\n",
    "from sklearn.metrics.pairwise import rbf_kernel\n",
    "from sklearn.linear_model import Ridge\n",
    "\n",
    "kx = rbf_kernel(X=data, Y=data, gamma=50)\n",
    "#KX = rbf_kernel(X, x)\n",
    "\n",
    "#clf = LinearRegression()\n",
    "clf = Ridge(alpha=30)\n",
    "clf.fit(kx, target)\n",
    "\n",
    "p_ridge = clf.predict(kx)\n",
    "\n",
    "plt.scatter(data, target,label='data')\n",
    "for i in range(len(kx)):\n",
    "    plt.plot(data, kx[i], color='black', linestyle='-', linewidth=1, markersize=3, label='rbf', alpha=0.2)\n",
    "\n",
    "#plt.plot(data, p, color='green', marker='o', linestyle='-', linewidth=0.1, markersize=3)\n",
    "plt.plot(data, p_ridge, color='green', linestyle='-', linewidth=1, markersize=3,label='ridge regression')\n",
    "#plt.legend()\n",
    "\n",
    "print(clf.score(kx, target))"
   ]
  },
  {
   "cell_type": "code",
   "execution_count": 55,
   "id": "69e0ff26",
   "metadata": {},
   "outputs": [],
   "source": [
    "from sklearn.preprocessing import PolynomialFeatures\n",
    "from sklearn.pipeline import Pipeline"
   ]
  },
  {
   "cell_type": "code",
   "execution_count": 56,
   "id": "71974db8",
   "metadata": {},
   "outputs": [
    {
     "data": {
      "image/png": "[encoded data removed]",
      "text/plain": [
       "<Figure size 432x288 with 1 Axes>"
      ]
     },
     "metadata": {
      "needs_background": "light"
     },
     "output_type": "display_data"
    }
   ],
   "source": [
    "#PolynomialFeatures(degree=1)\n",
    "\n",
    "deg = [1,2,3,4,5,6,7,8,9,10]\n",
    "for d in deg:\n",
    "    regr = Pipeline([\n",
    "        ('poly', PolynomialFeatures(degree=d)),\n",
    "        ('linear', LinearRegression())\n",
    "    ])\n",
    "    regr.fit(data, target)\n",
    "    # make predictions\n",
    "    p_poly = regr.predict(data)\n",
    "    # plot regression result\n",
    "    plt.scatter(data, target, label='data')\n",
    "    plt.plot(data, p_poly, label='polynomial of degree %d' % (d))"
   ]
  },
  {
   "cell_type": "code",
   "execution_count": 57,
   "id": "4cd6af63",
   "metadata": {},
   "outputs": [
    {
     "name": "stdout",
     "output_type": "stream",
     "text": [
      "-2.220446049250313e-16\n"
     ]
    },
    {
     "data": {
      "image/png": "[encoded data removed]",
      "text/plain": [
       "<Figure size 432x288 with 1 Axes>"
      ]
     },
     "metadata": {
      "needs_background": "light"
     },
     "output_type": "display_data"
    }
   ],
   "source": [
    "#Lasso\n",
    "\n",
    "from sklearn.metrics.pairwise import rbf_kernel\n",
    "from sklearn.linear_model import Lasso\n",
    "\n",
    "kx = rbf_kernel(X=data, Y=data, gamma=5)\n",
    "#KX = rbf_kernel(X, x)\n",
    "\n",
    "#lasso_clf = LinearRegression()\n",
    "lasso_clf = Lasso(alpha=10000, max_iter=1000)\n",
    "lasso_clf.fit(kx, target)\n",
    "\n",
    "p_lasso = lasso_clf.predict(kx)\n",
    "\n",
    "plt.scatter(data, target)\n",
    "\n",
    "#plt.plot(data, p, color='green', marker='o', linestyle='-', linewidth=0.1, markersize=3)\n",
    "plt.plot(data, p_lasso, color='green', linestyle='-', linewidth=3, markersize=3)\n",
    "\n",
    "print(lasso_clf.score(kx, target))"
   ]
  },
  {
   "cell_type": "code",
   "execution_count": 12,
   "id": "51d9a2fa",
   "metadata": {
    "scrolled": true
   },
   "outputs": [
    {
     "name": "stderr",
     "output_type": "stream",
     "text": [
      "D:\\anaconda\\lib\\site-packages\\sklearn\\utils\\validation.py:63: DataConversionWarning: A column-vector y was passed when a 1d array was expected. Please change the shape of y to (n_samples, ), for example using ravel().\n",
      "  return f(*args, **kwargs)\n",
      "D:\\anaconda\\lib\\site-packages\\sklearn\\utils\\validation.py:63: DataConversionWarning: A column-vector y was passed when a 1d array was expected. Please change the shape of y to (n_samples, ), for example using ravel().\n",
      "  return f(*args, **kwargs)\n"
     ]
    },
    {
     "data": {
      "image/png": "[encoded data removed]",
      "text/plain": [
       "<Figure size 432x288 with 1 Axes>"
      ]
     },
     "metadata": {
      "needs_background": "light"
     },
     "output_type": "display_data"
    }
   ],
   "source": [
    "from sklearn import model_selection, preprocessing, linear_model, svm\n",
    "\n",
    "# SVR-rbf\n",
    "clf_svr = svm.SVR(kernel='rbf', C=1e3, gamma=0.1, epsilon=0.1)\n",
    "clf_svr.fit(data, target)\n",
    "y_rbf = clf_svr.fit(data, target).predict(data)\n",
    " \n",
    "# plot\n",
    "\n",
    "plt.scatter(data, target, color='darkorange', label='data')\n",
    "plt.plot(data, y_rbf, color='red', label='Support Vector Regression (RBF)')\n",
    "plt.legend()\n",
    "plt.show()"
   ]
  },
  {
   "cell_type": "code",
   "execution_count": 58,
   "id": "ceba1edb",
   "metadata": {},
   "outputs": [],
   "source": [
    "from sklearn.model_selection import train_test_split\n",
    "x_train, x_test, y_train, y_test = train_test_split(data, target, test_size=0.1, random_state=0)"
   ]
  },
  {
   "cell_type": "code",
   "execution_count": 59,
   "id": "c3ea0529",
   "metadata": {},
   "outputs": [
    {
     "name": "stdout",
     "output_type": "stream",
     "text": [
      "Requirement already satisfied: tensorflow in d:\\anaconda\\lib\\site-packages (2.6.0)\n",
      "Requirement already satisfied: absl-py~=0.10 in d:\\anaconda\\lib\\site-packages (from tensorflow) (0.15.0)\n",
      "Requirement already satisfied: h5py~=3.1.0 in d:\\anaconda\\lib\\site-packages (from tensorflow) (3.1.0)\n",
      "Requirement already satisfied: wrapt~=1.12.1 in d:\\anaconda\\lib\\site-packages (from tensorflow) (1.12.1)\n",
      "Requirement already satisfied: grpcio<2.0,>=1.37.0 in d:\\anaconda\\lib\\site-packages (from tensorflow) (1.41.0)\n",
      "Requirement already satisfied: protobuf>=3.9.2 in d:\\anaconda\\lib\\site-packages (from tensorflow) (3.19.0)\n",
      "Requirement already satisfied: tensorboard~=2.6 in d:\\anaconda\\lib\\site-packages (from tensorflow) (2.7.0)\n",
      "Requirement already satisfied: keras-preprocessing~=1.1.2 in d:\\anaconda\\lib\\site-packages (from tensorflow) (1.1.2)\n",
      "Requirement already satisfied: wheel~=0.35 in d:\\anaconda\\lib\\site-packages (from tensorflow) (0.36.2)\n",
      "Requirement already satisfied: gast==0.4.0 in d:\\anaconda\\lib\\site-packages (from tensorflow) (0.4.0)\n",
      "Requirement already satisfied: typing-extensions~=3.7.4 in d:\\anaconda\\lib\\site-packages (from tensorflow) (3.7.4.3)\n",
      "Requirement already satisfied: keras~=2.6 in d:\\anaconda\\lib\\site-packages (from tensorflow) (2.6.0)\n",
      "Requirement already satisfied: clang~=5.0 in d:\\anaconda\\lib\\site-packages (from tensorflow) (5.0)\n",
      "Requirement already satisfied: termcolor~=1.1.0 in d:\\anaconda\\lib\\site-packages (from tensorflow) (1.1.0)\n",
      "Requirement already satisfied: tensorflow-estimator~=2.6 in d:\\anaconda\\lib\\site-packages (from tensorflow) (2.6.0)\n",
      "Requirement already satisfied: flatbuffers~=1.12.0 in d:\\anaconda\\lib\\site-packages (from tensorflow) (1.12)\n",
      "Requirement already satisfied: six~=1.15.0 in d:\\anaconda\\lib\\site-packages (from tensorflow) (1.15.0)\n",
      "Requirement already satisfied: google-pasta~=0.2 in d:\\anaconda\\lib\\site-packages (from tensorflow) (0.2.0)\n",
      "Requirement already satisfied: astunparse~=1.6.3 in d:\\anaconda\\lib\\site-packages (from tensorflow) (1.6.3)\n",
      "Requirement already satisfied: opt-einsum~=3.3.0 in d:\\anaconda\\lib\\site-packages (from tensorflow) (3.3.0)\n",
      "Requirement already satisfied: numpy~=1.19.2 in d:\\anaconda\\lib\\site-packages (from tensorflow) (1.19.5)\n",
      "Requirement already satisfied: markdown>=2.6.8 in d:\\anaconda\\lib\\site-packages (from tensorboard~=2.6->tensorflow) (3.3.4)\n",
      "Requirement already satisfied: setuptools>=41.0.0 in d:\\anaconda\\lib\\site-packages (from tensorboard~=2.6->tensorflow) (52.0.0.post20210125)\n",
      "Requirement already satisfied: google-auth<3,>=1.6.3 in d:\\anaconda\\lib\\site-packages (from tensorboard~=2.6->tensorflow) (2.3.0)\n",
      "Requirement already satisfied: tensorboard-plugin-wit>=1.6.0 in d:\\anaconda\\lib\\site-packages (from tensorboard~=2.6->tensorflow) (1.8.0)\n",
      "Requirement already satisfied: requests<3,>=2.21.0 in d:\\anaconda\\lib\\site-packages (from tensorboard~=2.6->tensorflow) (2.25.1)\n",
      "Requirement already satisfied: tensorboard-data-server<0.7.0,>=0.6.0 in d:\\anaconda\\lib\\site-packages (from tensorboard~=2.6->tensorflow) (0.6.1)\n",
      "Requirement already satisfied: werkzeug>=0.11.15 in d:\\anaconda\\lib\\site-packages (from tensorboard~=2.6->tensorflow) (1.0.1)\n",
      "Requirement already satisfied: google-auth-oauthlib<0.5,>=0.4.1 in d:\\anaconda\\lib\\site-packages (from tensorboard~=2.6->tensorflow) (0.4.6)\n",
      "Requirement already satisfied: pyasn1-modules>=0.2.1 in d:\\anaconda\\lib\\site-packages (from google-auth<3,>=1.6.3->tensorboard~=2.6->tensorflow) (0.2.8)\n",
      "Requirement already satisfied: rsa<5,>=3.1.4 in d:\\anaconda\\lib\\site-packages (from google-auth<3,>=1.6.3->tensorboard~=2.6->tensorflow) (4.7.2)\n",
      "Requirement already satisfied: cachetools<5.0,>=2.0.0 in d:\\anaconda\\lib\\site-packages (from google-auth<3,>=1.6.3->tensorboard~=2.6->tensorflow) (4.2.4)\n",
      "Requirement already satisfied: requests-oauthlib>=0.7.0 in d:\\anaconda\\lib\\site-packages (from google-auth-oauthlib<0.5,>=0.4.1->tensorboard~=2.6->tensorflow) (1.3.0)\n",
      "Requirement already satisfied: pyasn1<0.5.0,>=0.4.6 in d:\\anaconda\\lib\\site-packages (from pyasn1-modules>=0.2.1->google-auth<3,>=1.6.3->tensorboard~=2.6->tensorflow) (0.4.8)\n",
      "Requirement already satisfied: urllib3<1.27,>=1.21.1 in d:\\anaconda\\lib\\site-packages (from requests<3,>=2.21.0->tensorboard~=2.6->tensorflow) (1.26.4)\n",
      "Requirement already satisfied: certifi>=2017.4.17 in d:\\anaconda\\lib\\site-packages (from requests<3,>=2.21.0->tensorboard~=2.6->tensorflow) (2020.12.5)\n",
      "Requirement already satisfied: idna<3,>=2.5 in d:\\anaconda\\lib\\site-packages (from requests<3,>=2.21.0->tensorboard~=2.6->tensorflow) (2.10)\n",
      "Requirement already satisfied: chardet<5,>=3.0.2 in d:\\anaconda\\lib\\site-packages (from requests<3,>=2.21.0->tensorboard~=2.6->tensorflow) (4.0.0)\n",
      "Requirement already satisfied: oauthlib>=3.0.0 in d:\\anaconda\\lib\\site-packages (from requests-oauthlib>=0.7.0->google-auth-oauthlib<0.5,>=0.4.1->tensorboard~=2.6->tensorflow) (3.1.1)\n",
      "Requirement already satisfied: keras in d:\\anaconda\\lib\\site-packages (2.6.0)\n"
     ]
    }
   ],
   "source": [
    "!pip3 install tensorflow\n",
    "!pip3 install keras\n",
    "import keras\n",
    "from keras.callbacks import EarlyStopping, TensorBoard, ModelCheckpoint\n",
    "#### 補足　Dドライブ配下にdataを格納(オリジナルからPath変更)\n",
    "cb_cp = ModelCheckpoint('D:\\tage2_data\\study_ai_ml_google\\skl_ml\\out\\checkpoints\\weights.{epoch:02d}-{val_loss:.2f}.hdf5', verbose=1, save_weights_only=True)\n",
    "cb_tf  = TensorBoard(log_dir='D:\\stage2_data\\study_ai_ml_google\\skl_ml\\out\\TensorBoard', histogram_freq=0)"
   ]
  },
  {
   "cell_type": "code",
   "execution_count": 60,
   "id": "61ecc4a1",
   "metadata": {},
   "outputs": [],
   "source": [
    "def relu_reg_model():\n",
    "    model = Sequential()\n",
    "    model.add(Dense(10, input_dim=1, activation='relu'))\n",
    "    model.add(Dense(1000, activation='relu'))\n",
    "    model.add(Dense(1000, activation='relu'))\n",
    "    model.add(Dense(1000, activation='relu'))\n",
    "    model.add(Dense(1000, activation='relu'))\n",
    "    model.add(Dense(1000, activation='relu'))\n",
    "    model.add(Dense(1000, activation='relu'))\n",
    "    model.add(Dense(1000, activation='relu'))\n",
    "    model.add(Dense(1000, activation='linear'))\n",
    "#     model.add(Dense(100, activation='relu'))\n",
    "#     model.add(Dense(100, activation='relu'))\n",
    "#     model.add(Dense(100, activation='relu'))\n",
    "#     model.add(Dense(100, activation='relu'))\n",
    "    model.add(Dense(1))\n",
    "\n",
    "    model.compile(loss='mean_squared_error', optimizer='adam')\n",
    "    return model"
   ]
  },
  {
   "cell_type": "code",
   "execution_count": 5,
   "id": "94255cce",
   "metadata": {},
   "outputs": [
    {
     "ename": "NameError",
     "evalue": "name 'x_train' is not defined",
     "output_type": "error",
     "traceback": [
      "\u001b[1;31m---------------------------------------------------------------------------\u001b[0m",
      "\u001b[1;31mNameError\u001b[0m                                 Traceback (most recent call last)",
      "\u001b[1;32m<ipython-input-5-f45a2275ce93>\u001b[0m in \u001b[0;36m<module>\u001b[1;34m\u001b[0m\n\u001b[0;32m      5\u001b[0m \u001b[1;31m# use data split and fit to run the model\u001b[0m\u001b[1;33m\u001b[0m\u001b[1;33m\u001b[0m\u001b[1;33m\u001b[0m\u001b[0m\n\u001b[0;32m      6\u001b[0m \u001b[0mestimator\u001b[0m \u001b[1;33m=\u001b[0m \u001b[0mKerasRegressor\u001b[0m\u001b[1;33m(\u001b[0m\u001b[0mbuild_fn\u001b[0m\u001b[1;33m=\u001b[0m\u001b[0mrelu_reg_model\u001b[0m\u001b[1;33m,\u001b[0m \u001b[0mepochs\u001b[0m\u001b[1;33m=\u001b[0m\u001b[1;36m100\u001b[0m\u001b[1;33m,\u001b[0m \u001b[0mbatch_size\u001b[0m\u001b[1;33m=\u001b[0m\u001b[1;36m5\u001b[0m\u001b[1;33m,\u001b[0m \u001b[0mverbose\u001b[0m\u001b[1;33m=\u001b[0m\u001b[1;36m1\u001b[0m\u001b[1;33m)\u001b[0m\u001b[1;33m\u001b[0m\u001b[1;33m\u001b[0m\u001b[0m\n\u001b[1;32m----> 7\u001b[1;33m \u001b[0mhistory\u001b[0m \u001b[1;33m=\u001b[0m \u001b[0mestimator\u001b[0m\u001b[1;33m.\u001b[0m\u001b[0mfit\u001b[0m\u001b[1;33m(\u001b[0m\u001b[0mx_train\u001b[0m\u001b[1;33m,\u001b[0m \u001b[0my_train\u001b[0m\u001b[1;33m,\u001b[0m \u001b[0mcallbacks\u001b[0m\u001b[1;33m=\u001b[0m\u001b[1;33m[\u001b[0m\u001b[0mcb_cp\u001b[0m\u001b[1;33m,\u001b[0m \u001b[0mcb_tf\u001b[0m\u001b[1;33m]\u001b[0m\u001b[1;33m,\u001b[0m \u001b[0mvalidation_data\u001b[0m\u001b[1;33m=\u001b[0m\u001b[1;33m(\u001b[0m\u001b[0mx_test\u001b[0m\u001b[1;33m,\u001b[0m \u001b[0my_test\u001b[0m\u001b[1;33m)\u001b[0m\u001b[1;33m)\u001b[0m\u001b[1;33m\u001b[0m\u001b[1;33m\u001b[0m\u001b[0m\n\u001b[0m",
      "\u001b[1;31mNameError\u001b[0m: name 'x_train' is not defined"
     ]
    }
   ],
   "source": [
    "from keras.models import Sequential\n",
    "from keras.layers import Input, Dense, Dropout, BatchNormalization\n",
    "from keras.wrappers.scikit_learn import KerasRegressor\n",
    "\n",
    "# use data split and fit to run the model\n",
    "estimator = KerasRegressor(build_fn=relu_reg_model, epochs=100, batch_size=5, verbose=1)\n",
    "history = estimator.fit(x_train, y_train, callbacks=[cb_cp, cb_tf], validation_data=(x_test, y_test))"
   ]
  },
  {
   "cell_type": "code",
   "execution_count": null,
   "id": "2dadeb78",
   "metadata": {},
   "outputs": [],
   "source": [
    "y_pred = estimator.predict(x_train)"
   ]
  },
  {
   "cell_type": "code",
   "execution_count": null,
   "id": "2065a4c5",
   "metadata": {},
   "outputs": [],
   "source": [
    "plt.title('NonLiner Regressions via DL by ReLU')\n",
    "plt.plot(data, target, 'o')\n",
    "plt.plot(data, true_func(data), '.')\n",
    "plt.plot(x_train, y_pred, \"o\", label='predicted: deep learning')\n",
    "#plt.legend(loc=2)"
   ]
  },
  {
   "cell_type": "code",
   "execution_count": null,
   "id": "1b6ea196",
   "metadata": {},
   "outputs": [],
   "source": [
    "print(lasso_clf.coef_)"
   ]
  },
  {
   "cell_type": "markdown",
   "id": "a2906b5d",
   "metadata": {},
   "source": [
    "## 3.ロジスティック回帰モデル\n"
   ]
  },
  {
   "cell_type": "markdown",
   "id": "77b85b67",
   "metadata": {},
   "source": [
    "### ロジスティック回帰モデル　ハンズオン"
   ]
  },
  {
   "cell_type": "code",
   "execution_count": null,
   "id": "e36169f9",
   "metadata": {},
   "outputs": [],
   "source": [
    "## 0. データ表示"
   ]
  },
  {
   "cell_type": "code",
   "execution_count": 29,
   "id": "8e25404f",
   "metadata": {},
   "outputs": [],
   "source": [
    "#from モジュール名 import クラス名（もしくは関数名や変数名）\n",
    "import pandas as pd\n",
    "from pandas import DataFrame\n",
    "import numpy as np\n",
    "import matplotlib.pyplot as plt\n",
    "import seaborn as sns\n",
    "\n",
    "#matplotlibをinlineで表示するためのおまじない (plt.show()しなくていい)\n",
    "%matplotlib inline"
   ]
  },
  {
   "cell_type": "code",
   "execution_count": 31,
   "id": "bdc8ccec",
   "metadata": {},
   "outputs": [],
   "source": [
    "#### 補足　Dドライブ配下にdataを格納(オリジナルからPath変更)\n",
    "\n",
    "# titanic data csvファイルの読み込み\n",
    "titanic_df = pd.read_csv('D:\\stage2_data\\study_ai_ml_google\\data/titanic_train.csv')"
   ]
  },
  {
   "cell_type": "code",
   "execution_count": 32,
   "id": "bc2d935a",
   "metadata": {},
   "outputs": [
    {
     "data": {
      "text/html": [
       "<div>\n",
       "<style scoped>\n",
       "    .dataframe tbody tr th:only-of-type {\n",
       "        vertical-align: middle;\n",
       "    }\n",
       "\n",
       "    .dataframe tbody tr th {\n",
       "        vertical-align: top;\n",
       "    }\n",
       "\n",
       "    .dataframe thead th {\n",
       "        text-align: right;\n",
       "    }\n",
       "</style>\n",
       "<table border=\"1\" class=\"dataframe\">\n",
       "  <thead>\n",
       "    <tr style=\"text-align: right;\">\n",
       "      <th></th>\n",
       "      <th>PassengerId</th>\n",
       "      <th>Survived</th>\n",
       "      <th>Pclass</th>\n",
       "      <th>Name</th>\n",
       "      <th>Sex</th>\n",
       "      <th>Age</th>\n",
       "      <th>SibSp</th>\n",
       "      <th>Parch</th>\n",
       "      <th>Ticket</th>\n",
       "      <th>Fare</th>\n",
       "      <th>Cabin</th>\n",
       "      <th>Embarked</th>\n",
       "    </tr>\n",
       "  </thead>\n",
       "  <tbody>\n",
       "    <tr>\n",
       "      <th>0</th>\n",
       "      <td>1</td>\n",
       "      <td>0</td>\n",
       "      <td>3</td>\n",
       "      <td>Braund, Mr. Owen Harris</td>\n",
       "      <td>male</td>\n",
       "      <td>22.0</td>\n",
       "      <td>1</td>\n",
       "      <td>0</td>\n",
       "      <td>A/5 21171</td>\n",
       "      <td>7.2500</td>\n",
       "      <td>NaN</td>\n",
       "      <td>S</td>\n",
       "    </tr>\n",
       "    <tr>\n",
       "      <th>1</th>\n",
       "      <td>2</td>\n",
       "      <td>1</td>\n",
       "      <td>1</td>\n",
       "      <td>Cumings, Mrs. John Bradley (Florence Briggs Th...</td>\n",
       "      <td>female</td>\n",
       "      <td>38.0</td>\n",
       "      <td>1</td>\n",
       "      <td>0</td>\n",
       "      <td>PC 17599</td>\n",
       "      <td>71.2833</td>\n",
       "      <td>C85</td>\n",
       "      <td>C</td>\n",
       "    </tr>\n",
       "    <tr>\n",
       "      <th>2</th>\n",
       "      <td>3</td>\n",
       "      <td>1</td>\n",
       "      <td>3</td>\n",
       "      <td>Heikkinen, Miss. Laina</td>\n",
       "      <td>female</td>\n",
       "      <td>26.0</td>\n",
       "      <td>0</td>\n",
       "      <td>0</td>\n",
       "      <td>STON/O2. 3101282</td>\n",
       "      <td>7.9250</td>\n",
       "      <td>NaN</td>\n",
       "      <td>S</td>\n",
       "    </tr>\n",
       "    <tr>\n",
       "      <th>3</th>\n",
       "      <td>4</td>\n",
       "      <td>1</td>\n",
       "      <td>1</td>\n",
       "      <td>Futrelle, Mrs. Jacques Heath (Lily May Peel)</td>\n",
       "      <td>female</td>\n",
       "      <td>35.0</td>\n",
       "      <td>1</td>\n",
       "      <td>0</td>\n",
       "      <td>113803</td>\n",
       "      <td>53.1000</td>\n",
       "      <td>C123</td>\n",
       "      <td>S</td>\n",
       "    </tr>\n",
       "    <tr>\n",
       "      <th>4</th>\n",
       "      <td>5</td>\n",
       "      <td>0</td>\n",
       "      <td>3</td>\n",
       "      <td>Allen, Mr. William Henry</td>\n",
       "      <td>male</td>\n",
       "      <td>35.0</td>\n",
       "      <td>0</td>\n",
       "      <td>0</td>\n",
       "      <td>373450</td>\n",
       "      <td>8.0500</td>\n",
       "      <td>NaN</td>\n",
       "      <td>S</td>\n",
       "    </tr>\n",
       "  </tbody>\n",
       "</table>\n",
       "</div>"
      ],
      "text/plain": [
       "   PassengerId  Survived  Pclass  \\\n",
       "0            1         0       3   \n",
       "1            2         1       1   \n",
       "2            3         1       3   \n",
       "3            4         1       1   \n",
       "4            5         0       3   \n",
       "\n",
       "                                                Name     Sex   Age  SibSp  \\\n",
       "0                            Braund, Mr. Owen Harris    male  22.0      1   \n",
       "1  Cumings, Mrs. John Bradley (Florence Briggs Th...  female  38.0      1   \n",
       "2                             Heikkinen, Miss. Laina  female  26.0      0   \n",
       "3       Futrelle, Mrs. Jacques Heath (Lily May Peel)  female  35.0      1   \n",
       "4                           Allen, Mr. William Henry    male  35.0      0   \n",
       "\n",
       "   Parch            Ticket     Fare Cabin Embarked  \n",
       "0      0         A/5 21171   7.2500   NaN        S  \n",
       "1      0          PC 17599  71.2833   C85        C  \n",
       "2      0  STON/O2. 3101282   7.9250   NaN        S  \n",
       "3      0            113803  53.1000  C123        S  \n",
       "4      0            373450   8.0500   NaN        S  "
      ]
     },
     "execution_count": 32,
     "metadata": {},
     "output_type": "execute_result"
    }
   ],
   "source": [
    "# ファイルの先頭部を表示し、データセットを確認する\n",
    "titanic_df.head(5)"
   ]
  },
  {
   "cell_type": "code",
   "execution_count": null,
   "id": "8cc9efb7",
   "metadata": {},
   "outputs": [],
   "source": [
    "## 1. ロジスティック回帰\n",
    "## 不要なデータの削除・欠損値の補完"
   ]
  },
  {
   "cell_type": "code",
   "execution_count": 33,
   "id": "c298a6ae",
   "metadata": {},
   "outputs": [
    {
     "data": {
      "text/html": [
       "<div>\n",
       "<style scoped>\n",
       "    .dataframe tbody tr th:only-of-type {\n",
       "        vertical-align: middle;\n",
       "    }\n",
       "\n",
       "    .dataframe tbody tr th {\n",
       "        vertical-align: top;\n",
       "    }\n",
       "\n",
       "    .dataframe thead th {\n",
       "        text-align: right;\n",
       "    }\n",
       "</style>\n",
       "<table border=\"1\" class=\"dataframe\">\n",
       "  <thead>\n",
       "    <tr style=\"text-align: right;\">\n",
       "      <th></th>\n",
       "      <th>Survived</th>\n",
       "      <th>Pclass</th>\n",
       "      <th>Sex</th>\n",
       "      <th>Age</th>\n",
       "      <th>SibSp</th>\n",
       "      <th>Parch</th>\n",
       "      <th>Fare</th>\n",
       "      <th>Embarked</th>\n",
       "    </tr>\n",
       "  </thead>\n",
       "  <tbody>\n",
       "    <tr>\n",
       "      <th>0</th>\n",
       "      <td>0</td>\n",
       "      <td>3</td>\n",
       "      <td>male</td>\n",
       "      <td>22.0</td>\n",
       "      <td>1</td>\n",
       "      <td>0</td>\n",
       "      <td>7.2500</td>\n",
       "      <td>S</td>\n",
       "    </tr>\n",
       "    <tr>\n",
       "      <th>1</th>\n",
       "      <td>1</td>\n",
       "      <td>1</td>\n",
       "      <td>female</td>\n",
       "      <td>38.0</td>\n",
       "      <td>1</td>\n",
       "      <td>0</td>\n",
       "      <td>71.2833</td>\n",
       "      <td>C</td>\n",
       "    </tr>\n",
       "    <tr>\n",
       "      <th>2</th>\n",
       "      <td>1</td>\n",
       "      <td>3</td>\n",
       "      <td>female</td>\n",
       "      <td>26.0</td>\n",
       "      <td>0</td>\n",
       "      <td>0</td>\n",
       "      <td>7.9250</td>\n",
       "      <td>S</td>\n",
       "    </tr>\n",
       "    <tr>\n",
       "      <th>3</th>\n",
       "      <td>1</td>\n",
       "      <td>1</td>\n",
       "      <td>female</td>\n",
       "      <td>35.0</td>\n",
       "      <td>1</td>\n",
       "      <td>0</td>\n",
       "      <td>53.1000</td>\n",
       "      <td>S</td>\n",
       "    </tr>\n",
       "    <tr>\n",
       "      <th>4</th>\n",
       "      <td>0</td>\n",
       "      <td>3</td>\n",
       "      <td>male</td>\n",
       "      <td>35.0</td>\n",
       "      <td>0</td>\n",
       "      <td>0</td>\n",
       "      <td>8.0500</td>\n",
       "      <td>S</td>\n",
       "    </tr>\n",
       "  </tbody>\n",
       "</table>\n",
       "</div>"
      ],
      "text/plain": [
       "   Survived  Pclass     Sex   Age  SibSp  Parch     Fare Embarked\n",
       "0         0       3    male  22.0      1      0   7.2500        S\n",
       "1         1       1  female  38.0      1      0  71.2833        C\n",
       "2         1       3  female  26.0      0      0   7.9250        S\n",
       "3         1       1  female  35.0      1      0  53.1000        S\n",
       "4         0       3    male  35.0      0      0   8.0500        S"
      ]
     },
     "execution_count": 33,
     "metadata": {},
     "output_type": "execute_result"
    }
   ],
   "source": [
    "#予測に不要と考えるからうをドロップ (本当はここの情報もしっかり使うべきだと思っています)\n",
    "titanic_df.drop(['PassengerId', 'Name', 'Ticket', 'Cabin'], axis=1, inplace=True)\n",
    "\n",
    "#一部カラムをドロップしたデータを表示\n",
    "titanic_df.head()"
   ]
  },
  {
   "cell_type": "code",
   "execution_count": 34,
   "id": "1f768c2f",
   "metadata": {},
   "outputs": [
    {
     "data": {
      "text/html": [
       "<div>\n",
       "<style scoped>\n",
       "    .dataframe tbody tr th:only-of-type {\n",
       "        vertical-align: middle;\n",
       "    }\n",
       "\n",
       "    .dataframe tbody tr th {\n",
       "        vertical-align: top;\n",
       "    }\n",
       "\n",
       "    .dataframe thead th {\n",
       "        text-align: right;\n",
       "    }\n",
       "</style>\n",
       "<table border=\"1\" class=\"dataframe\">\n",
       "  <thead>\n",
       "    <tr style=\"text-align: right;\">\n",
       "      <th></th>\n",
       "      <th>Survived</th>\n",
       "      <th>Pclass</th>\n",
       "      <th>Sex</th>\n",
       "      <th>Age</th>\n",
       "      <th>SibSp</th>\n",
       "      <th>Parch</th>\n",
       "      <th>Fare</th>\n",
       "      <th>Embarked</th>\n",
       "    </tr>\n",
       "  </thead>\n",
       "  <tbody>\n",
       "    <tr>\n",
       "      <th>5</th>\n",
       "      <td>0</td>\n",
       "      <td>3</td>\n",
       "      <td>male</td>\n",
       "      <td>NaN</td>\n",
       "      <td>0</td>\n",
       "      <td>0</td>\n",
       "      <td>8.4583</td>\n",
       "      <td>Q</td>\n",
       "    </tr>\n",
       "    <tr>\n",
       "      <th>17</th>\n",
       "      <td>1</td>\n",
       "      <td>2</td>\n",
       "      <td>male</td>\n",
       "      <td>NaN</td>\n",
       "      <td>0</td>\n",
       "      <td>0</td>\n",
       "      <td>13.0000</td>\n",
       "      <td>S</td>\n",
       "    </tr>\n",
       "    <tr>\n",
       "      <th>19</th>\n",
       "      <td>1</td>\n",
       "      <td>3</td>\n",
       "      <td>female</td>\n",
       "      <td>NaN</td>\n",
       "      <td>0</td>\n",
       "      <td>0</td>\n",
       "      <td>7.2250</td>\n",
       "      <td>C</td>\n",
       "    </tr>\n",
       "    <tr>\n",
       "      <th>26</th>\n",
       "      <td>0</td>\n",
       "      <td>3</td>\n",
       "      <td>male</td>\n",
       "      <td>NaN</td>\n",
       "      <td>0</td>\n",
       "      <td>0</td>\n",
       "      <td>7.2250</td>\n",
       "      <td>C</td>\n",
       "    </tr>\n",
       "    <tr>\n",
       "      <th>28</th>\n",
       "      <td>1</td>\n",
       "      <td>3</td>\n",
       "      <td>female</td>\n",
       "      <td>NaN</td>\n",
       "      <td>0</td>\n",
       "      <td>0</td>\n",
       "      <td>7.8792</td>\n",
       "      <td>Q</td>\n",
       "    </tr>\n",
       "    <tr>\n",
       "      <th>29</th>\n",
       "      <td>0</td>\n",
       "      <td>3</td>\n",
       "      <td>male</td>\n",
       "      <td>NaN</td>\n",
       "      <td>0</td>\n",
       "      <td>0</td>\n",
       "      <td>7.8958</td>\n",
       "      <td>S</td>\n",
       "    </tr>\n",
       "    <tr>\n",
       "      <th>31</th>\n",
       "      <td>1</td>\n",
       "      <td>1</td>\n",
       "      <td>female</td>\n",
       "      <td>NaN</td>\n",
       "      <td>1</td>\n",
       "      <td>0</td>\n",
       "      <td>146.5208</td>\n",
       "      <td>C</td>\n",
       "    </tr>\n",
       "    <tr>\n",
       "      <th>32</th>\n",
       "      <td>1</td>\n",
       "      <td>3</td>\n",
       "      <td>female</td>\n",
       "      <td>NaN</td>\n",
       "      <td>0</td>\n",
       "      <td>0</td>\n",
       "      <td>7.7500</td>\n",
       "      <td>Q</td>\n",
       "    </tr>\n",
       "    <tr>\n",
       "      <th>36</th>\n",
       "      <td>1</td>\n",
       "      <td>3</td>\n",
       "      <td>male</td>\n",
       "      <td>NaN</td>\n",
       "      <td>0</td>\n",
       "      <td>0</td>\n",
       "      <td>7.2292</td>\n",
       "      <td>C</td>\n",
       "    </tr>\n",
       "    <tr>\n",
       "      <th>42</th>\n",
       "      <td>0</td>\n",
       "      <td>3</td>\n",
       "      <td>male</td>\n",
       "      <td>NaN</td>\n",
       "      <td>0</td>\n",
       "      <td>0</td>\n",
       "      <td>7.8958</td>\n",
       "      <td>C</td>\n",
       "    </tr>\n",
       "  </tbody>\n",
       "</table>\n",
       "</div>"
      ],
      "text/plain": [
       "    Survived  Pclass     Sex  Age  SibSp  Parch      Fare Embarked\n",
       "5          0       3    male  NaN      0      0    8.4583        Q\n",
       "17         1       2    male  NaN      0      0   13.0000        S\n",
       "19         1       3  female  NaN      0      0    7.2250        C\n",
       "26         0       3    male  NaN      0      0    7.2250        C\n",
       "28         1       3  female  NaN      0      0    7.8792        Q\n",
       "29         0       3    male  NaN      0      0    7.8958        S\n",
       "31         1       1  female  NaN      1      0  146.5208        C\n",
       "32         1       3  female  NaN      0      0    7.7500        Q\n",
       "36         1       3    male  NaN      0      0    7.2292        C\n",
       "42         0       3    male  NaN      0      0    7.8958        C"
      ]
     },
     "execution_count": 34,
     "metadata": {},
     "output_type": "execute_result"
    }
   ],
   "source": [
    "#nullを含んでいる行を表示\n",
    "titanic_df[titanic_df.isnull().any(1)].head(10)"
   ]
  },
  {
   "cell_type": "code",
   "execution_count": 35,
   "id": "dd991ebe",
   "metadata": {},
   "outputs": [
    {
     "data": {
      "text/html": [
       "<div>\n",
       "<style scoped>\n",
       "    .dataframe tbody tr th:only-of-type {\n",
       "        vertical-align: middle;\n",
       "    }\n",
       "\n",
       "    .dataframe tbody tr th {\n",
       "        vertical-align: top;\n",
       "    }\n",
       "\n",
       "    .dataframe thead th {\n",
       "        text-align: right;\n",
       "    }\n",
       "</style>\n",
       "<table border=\"1\" class=\"dataframe\">\n",
       "  <thead>\n",
       "    <tr style=\"text-align: right;\">\n",
       "      <th></th>\n",
       "      <th>Survived</th>\n",
       "      <th>Pclass</th>\n",
       "      <th>Sex</th>\n",
       "      <th>Age</th>\n",
       "      <th>SibSp</th>\n",
       "      <th>Parch</th>\n",
       "      <th>Fare</th>\n",
       "      <th>Embarked</th>\n",
       "      <th>AgeFill</th>\n",
       "    </tr>\n",
       "  </thead>\n",
       "  <tbody>\n",
       "    <tr>\n",
       "      <th>5</th>\n",
       "      <td>0</td>\n",
       "      <td>3</td>\n",
       "      <td>male</td>\n",
       "      <td>NaN</td>\n",
       "      <td>0</td>\n",
       "      <td>0</td>\n",
       "      <td>8.4583</td>\n",
       "      <td>Q</td>\n",
       "      <td>29.699118</td>\n",
       "    </tr>\n",
       "    <tr>\n",
       "      <th>17</th>\n",
       "      <td>1</td>\n",
       "      <td>2</td>\n",
       "      <td>male</td>\n",
       "      <td>NaN</td>\n",
       "      <td>0</td>\n",
       "      <td>0</td>\n",
       "      <td>13.0000</td>\n",
       "      <td>S</td>\n",
       "      <td>29.699118</td>\n",
       "    </tr>\n",
       "    <tr>\n",
       "      <th>19</th>\n",
       "      <td>1</td>\n",
       "      <td>3</td>\n",
       "      <td>female</td>\n",
       "      <td>NaN</td>\n",
       "      <td>0</td>\n",
       "      <td>0</td>\n",
       "      <td>7.2250</td>\n",
       "      <td>C</td>\n",
       "      <td>29.699118</td>\n",
       "    </tr>\n",
       "    <tr>\n",
       "      <th>26</th>\n",
       "      <td>0</td>\n",
       "      <td>3</td>\n",
       "      <td>male</td>\n",
       "      <td>NaN</td>\n",
       "      <td>0</td>\n",
       "      <td>0</td>\n",
       "      <td>7.2250</td>\n",
       "      <td>C</td>\n",
       "      <td>29.699118</td>\n",
       "    </tr>\n",
       "    <tr>\n",
       "      <th>28</th>\n",
       "      <td>1</td>\n",
       "      <td>3</td>\n",
       "      <td>female</td>\n",
       "      <td>NaN</td>\n",
       "      <td>0</td>\n",
       "      <td>0</td>\n",
       "      <td>7.8792</td>\n",
       "      <td>Q</td>\n",
       "      <td>29.699118</td>\n",
       "    </tr>\n",
       "    <tr>\n",
       "      <th>...</th>\n",
       "      <td>...</td>\n",
       "      <td>...</td>\n",
       "      <td>...</td>\n",
       "      <td>...</td>\n",
       "      <td>...</td>\n",
       "      <td>...</td>\n",
       "      <td>...</td>\n",
       "      <td>...</td>\n",
       "      <td>...</td>\n",
       "    </tr>\n",
       "    <tr>\n",
       "      <th>859</th>\n",
       "      <td>0</td>\n",
       "      <td>3</td>\n",
       "      <td>male</td>\n",
       "      <td>NaN</td>\n",
       "      <td>0</td>\n",
       "      <td>0</td>\n",
       "      <td>7.2292</td>\n",
       "      <td>C</td>\n",
       "      <td>29.699118</td>\n",
       "    </tr>\n",
       "    <tr>\n",
       "      <th>863</th>\n",
       "      <td>0</td>\n",
       "      <td>3</td>\n",
       "      <td>female</td>\n",
       "      <td>NaN</td>\n",
       "      <td>8</td>\n",
       "      <td>2</td>\n",
       "      <td>69.5500</td>\n",
       "      <td>S</td>\n",
       "      <td>29.699118</td>\n",
       "    </tr>\n",
       "    <tr>\n",
       "      <th>868</th>\n",
       "      <td>0</td>\n",
       "      <td>3</td>\n",
       "      <td>male</td>\n",
       "      <td>NaN</td>\n",
       "      <td>0</td>\n",
       "      <td>0</td>\n",
       "      <td>9.5000</td>\n",
       "      <td>S</td>\n",
       "      <td>29.699118</td>\n",
       "    </tr>\n",
       "    <tr>\n",
       "      <th>878</th>\n",
       "      <td>0</td>\n",
       "      <td>3</td>\n",
       "      <td>male</td>\n",
       "      <td>NaN</td>\n",
       "      <td>0</td>\n",
       "      <td>0</td>\n",
       "      <td>7.8958</td>\n",
       "      <td>S</td>\n",
       "      <td>29.699118</td>\n",
       "    </tr>\n",
       "    <tr>\n",
       "      <th>888</th>\n",
       "      <td>0</td>\n",
       "      <td>3</td>\n",
       "      <td>female</td>\n",
       "      <td>NaN</td>\n",
       "      <td>1</td>\n",
       "      <td>2</td>\n",
       "      <td>23.4500</td>\n",
       "      <td>S</td>\n",
       "      <td>29.699118</td>\n",
       "    </tr>\n",
       "  </tbody>\n",
       "</table>\n",
       "<p>179 rows × 9 columns</p>\n",
       "</div>"
      ],
      "text/plain": [
       "     Survived  Pclass     Sex  Age  SibSp  Parch     Fare Embarked    AgeFill\n",
       "5           0       3    male  NaN      0      0   8.4583        Q  29.699118\n",
       "17          1       2    male  NaN      0      0  13.0000        S  29.699118\n",
       "19          1       3  female  NaN      0      0   7.2250        C  29.699118\n",
       "26          0       3    male  NaN      0      0   7.2250        C  29.699118\n",
       "28          1       3  female  NaN      0      0   7.8792        Q  29.699118\n",
       "..        ...     ...     ...  ...    ...    ...      ...      ...        ...\n",
       "859         0       3    male  NaN      0      0   7.2292        C  29.699118\n",
       "863         0       3  female  NaN      8      2  69.5500        S  29.699118\n",
       "868         0       3    male  NaN      0      0   9.5000        S  29.699118\n",
       "878         0       3    male  NaN      0      0   7.8958        S  29.699118\n",
       "888         0       3  female  NaN      1      2  23.4500        S  29.699118\n",
       "\n",
       "[179 rows x 9 columns]"
      ]
     },
     "execution_count": 35,
     "metadata": {},
     "output_type": "execute_result"
    }
   ],
   "source": [
    "#Ageカラムのnullを中央値で補完\n",
    "\n",
    "titanic_df['AgeFill'] = titanic_df['Age'].fillna(titanic_df['Age'].mean())\n",
    "\n",
    "#再度nullを含んでいる行を表示 (Ageのnullは補完されている)\n",
    "titanic_df[titanic_df.isnull().any(1)]\n",
    "\n",
    "#titanic_df.dtypes"
   ]
  },
  {
   "cell_type": "code",
   "execution_count": null,
   "id": "526a96f8",
   "metadata": {},
   "outputs": [],
   "source": [
    "## 1. ロジスティック回帰\n",
    "## 実装(チケット価格から生死を判別)"
   ]
  },
  {
   "cell_type": "code",
   "execution_count": 37,
   "id": "c0d8ef73",
   "metadata": {},
   "outputs": [],
   "source": [
    "#運賃だけのリストを作成\n",
    "data1 = titanic_df.loc[:, [\"Fare\"]].values\n",
    "#生死フラグのみのリストを作成\n",
    "label1 =  titanic_df.loc[:,[\"Survived\"]].values"
   ]
  },
  {
   "cell_type": "code",
   "execution_count": 40,
   "id": "0abb1297",
   "metadata": {},
   "outputs": [
    {
     "name": "stderr",
     "output_type": "stream",
     "text": [
      "D:\\anaconda\\lib\\site-packages\\sklearn\\utils\\validation.py:63: DataConversionWarning: A column-vector y was passed when a 1d array was expected. Please change the shape of y to (n_samples, ), for example using ravel().\n",
      "  return f(*args, **kwargs)\n"
     ]
    },
    {
     "data": {
      "text/plain": [
       "LogisticRegression()"
      ]
     },
     "execution_count": 40,
     "metadata": {},
     "output_type": "execute_result"
    }
   ],
   "source": [
    "from sklearn.linear_model import LogisticRegression\n",
    "model=LogisticRegression()\n",
    "model.fit(data1, label1)"
   ]
  },
  {
   "cell_type": "code",
   "execution_count": 41,
   "id": "b4114787",
   "metadata": {},
   "outputs": [
    {
     "data": {
      "text/plain": [
       "array([0], dtype=int64)"
      ]
     },
     "execution_count": 41,
     "metadata": {},
     "output_type": "execute_result"
    }
   ],
   "source": [
    "model.predict([[61]])"
   ]
  },
  {
   "cell_type": "code",
   "execution_count": 43,
   "id": "efceefa9",
   "metadata": {},
   "outputs": [
    {
     "data": {
      "text/plain": [
       "array([[0.49978123, 0.50021877]])"
      ]
     },
     "execution_count": 43,
     "metadata": {},
     "output_type": "execute_result"
    }
   ],
   "source": [
    "model.predict_proba([[62]])"
   ]
  },
  {
   "cell_type": "code",
   "execution_count": 44,
   "id": "47c7f6e7",
   "metadata": {},
   "outputs": [],
   "source": [
    "X_test_value = model.decision_function(data1) "
   ]
  },
  {
   "cell_type": "code",
   "execution_count": 45,
   "id": "d1591edb",
   "metadata": {},
   "outputs": [
    {
     "name": "stdout",
     "output_type": "stream",
     "text": [
      "[-0.94131796]\n",
      "[[0.01519666]]\n"
     ]
    }
   ],
   "source": [
    "# # 決定関数値（絶対値が大きいほど識別境界から離れている）\n",
    "# X_test_value = model.decision_function(X_test) \n",
    "# # 決定関数値をシグモイド関数で確率に変換\n",
    "# X_test_prob = normal_sigmoid(X_test_value) \n",
    "print (model.intercept_)\n",
    "print (model.coef_)"
   ]
  },
  {
   "cell_type": "code",
   "execution_count": 46,
   "id": "c123c3a7",
   "metadata": {},
   "outputs": [
    {
     "name": "stderr",
     "output_type": "stream",
     "text": [
      "No handles with labels found to put in legend.\n"
     ]
    },
    {
     "data": {
      "text/plain": [
       "[<matplotlib.lines.Line2D at 0xaa9dc30490>]"
      ]
     },
     "execution_count": 46,
     "metadata": {},
     "output_type": "execute_result"
    },
    {
     "data": {
      "image/png": "[encoded data removed]",
      "text/plain": [
       "<Figure size 648x360 with 1 Axes>"
      ]
     },
     "metadata": {
      "needs_background": "light"
     },
     "output_type": "display_data"
    }
   ],
   "source": [
    "w_0 = model.intercept_[0]\n",
    "w_1 = model.coef_[0,0]\n",
    "\n",
    "# def normal_sigmoid(x):\n",
    "#     return 1 / (1+np.exp(-x))\n",
    "\n",
    "def sigmoid(x):\n",
    "    return 1 / (1+np.exp(-(w_1*x+w_0)))\n",
    "\n",
    "x_range = np.linspace(-1, 500, 3000)\n",
    "\n",
    "plt.figure(figsize=(9,5))\n",
    "#plt.xkcd()\n",
    "plt.legend(loc=2)\n",
    "\n",
    "\n",
    "# plt.ylim(-0.1, 1.1)\n",
    "# plt.xlim(-10, 10)\n",
    "\n",
    "# plt.plot([-10,10],[0,0], \"k\", lw=1)\n",
    "# plt.plot([0,0],[-1,1.5], \"k\", lw=1)\n",
    "plt.plot(data1,np.zeros(len(data1)), 'o')\n",
    "plt.plot(data1, model.predict_proba(data1), 'o')\n",
    "plt.plot(x_range, sigmoid(x_range), '-')\n",
    "#plt.plot(x_range, normal_sigmoid(x_range), '-')\n",
    "#\n",
    "\n",
    "\n"
   ]
  },
  {
   "cell_type": "code",
   "execution_count": 48,
   "id": "305b7fd8",
   "metadata": {},
   "outputs": [
    {
     "data": {
      "text/html": [
       "<div>\n",
       "<style scoped>\n",
       "    .dataframe tbody tr th:only-of-type {\n",
       "        vertical-align: middle;\n",
       "    }\n",
       "\n",
       "    .dataframe tbody tr th {\n",
       "        vertical-align: top;\n",
       "    }\n",
       "\n",
       "    .dataframe thead th {\n",
       "        text-align: right;\n",
       "    }\n",
       "</style>\n",
       "<table border=\"1\" class=\"dataframe\">\n",
       "  <thead>\n",
       "    <tr style=\"text-align: right;\">\n",
       "      <th></th>\n",
       "      <th>Survived</th>\n",
       "      <th>Pclass</th>\n",
       "      <th>Sex</th>\n",
       "      <th>Age</th>\n",
       "      <th>SibSp</th>\n",
       "      <th>Parch</th>\n",
       "      <th>Fare</th>\n",
       "      <th>Embarked</th>\n",
       "      <th>AgeFill</th>\n",
       "      <th>Gender</th>\n",
       "    </tr>\n",
       "  </thead>\n",
       "  <tbody>\n",
       "    <tr>\n",
       "      <th>0</th>\n",
       "      <td>0</td>\n",
       "      <td>3</td>\n",
       "      <td>male</td>\n",
       "      <td>22.0</td>\n",
       "      <td>1</td>\n",
       "      <td>0</td>\n",
       "      <td>7.2500</td>\n",
       "      <td>S</td>\n",
       "      <td>22.0</td>\n",
       "      <td>1</td>\n",
       "    </tr>\n",
       "    <tr>\n",
       "      <th>1</th>\n",
       "      <td>1</td>\n",
       "      <td>1</td>\n",
       "      <td>female</td>\n",
       "      <td>38.0</td>\n",
       "      <td>1</td>\n",
       "      <td>0</td>\n",
       "      <td>71.2833</td>\n",
       "      <td>C</td>\n",
       "      <td>38.0</td>\n",
       "      <td>0</td>\n",
       "    </tr>\n",
       "    <tr>\n",
       "      <th>2</th>\n",
       "      <td>1</td>\n",
       "      <td>3</td>\n",
       "      <td>female</td>\n",
       "      <td>26.0</td>\n",
       "      <td>0</td>\n",
       "      <td>0</td>\n",
       "      <td>7.9250</td>\n",
       "      <td>S</td>\n",
       "      <td>26.0</td>\n",
       "      <td>0</td>\n",
       "    </tr>\n",
       "  </tbody>\n",
       "</table>\n",
       "</div>"
      ],
      "text/plain": [
       "   Survived  Pclass     Sex   Age  SibSp  Parch     Fare Embarked  AgeFill  \\\n",
       "0         0       3    male  22.0      1      0   7.2500        S     22.0   \n",
       "1         1       1  female  38.0      1      0  71.2833        C     38.0   \n",
       "2         1       3  female  26.0      0      0   7.9250        S     26.0   \n",
       "\n",
       "   Gender  \n",
       "0       1  \n",
       "1       0  \n",
       "2       0  "
      ]
     },
     "execution_count": 48,
     "metadata": {},
     "output_type": "execute_result"
    }
   ],
   "source": [
    "## 1. ロジスティック回帰\n",
    "## 実装(2変数から生死を判別)\n",
    "#AgeFillの欠損値を埋めたので\n",
    "#titanic_df = titanic_df.drop(['Age'], axis=1)\n",
    "titanic_df['Gender'] = titanic_df['Sex'].map({'female': 0, 'male': 1}).astype(int)\n",
    "titanic_df.head(3)"
   ]
  },
  {
   "cell_type": "code",
   "execution_count": 51,
   "id": "7f6dd11f",
   "metadata": {},
   "outputs": [
    {
     "data": {
      "text/html": [
       "<div>\n",
       "<style scoped>\n",
       "    .dataframe tbody tr th:only-of-type {\n",
       "        vertical-align: middle;\n",
       "    }\n",
       "\n",
       "    .dataframe tbody tr th {\n",
       "        vertical-align: top;\n",
       "    }\n",
       "\n",
       "    .dataframe thead th {\n",
       "        text-align: right;\n",
       "    }\n",
       "</style>\n",
       "<table border=\"1\" class=\"dataframe\">\n",
       "  <thead>\n",
       "    <tr style=\"text-align: right;\">\n",
       "      <th></th>\n",
       "      <th>Survived</th>\n",
       "      <th>Pclass</th>\n",
       "      <th>Sex</th>\n",
       "      <th>Age</th>\n",
       "      <th>SibSp</th>\n",
       "      <th>Parch</th>\n",
       "      <th>Fare</th>\n",
       "      <th>Embarked</th>\n",
       "      <th>AgeFill</th>\n",
       "      <th>Gender</th>\n",
       "      <th>Pclass_Gender</th>\n",
       "    </tr>\n",
       "  </thead>\n",
       "  <tbody>\n",
       "    <tr>\n",
       "      <th>0</th>\n",
       "      <td>0</td>\n",
       "      <td>3</td>\n",
       "      <td>male</td>\n",
       "      <td>22.0</td>\n",
       "      <td>1</td>\n",
       "      <td>0</td>\n",
       "      <td>7.2500</td>\n",
       "      <td>S</td>\n",
       "      <td>22.0</td>\n",
       "      <td>1</td>\n",
       "      <td>4</td>\n",
       "    </tr>\n",
       "    <tr>\n",
       "      <th>1</th>\n",
       "      <td>1</td>\n",
       "      <td>1</td>\n",
       "      <td>female</td>\n",
       "      <td>38.0</td>\n",
       "      <td>1</td>\n",
       "      <td>0</td>\n",
       "      <td>71.2833</td>\n",
       "      <td>C</td>\n",
       "      <td>38.0</td>\n",
       "      <td>0</td>\n",
       "      <td>1</td>\n",
       "    </tr>\n",
       "    <tr>\n",
       "      <th>2</th>\n",
       "      <td>1</td>\n",
       "      <td>3</td>\n",
       "      <td>female</td>\n",
       "      <td>26.0</td>\n",
       "      <td>0</td>\n",
       "      <td>0</td>\n",
       "      <td>7.9250</td>\n",
       "      <td>S</td>\n",
       "      <td>26.0</td>\n",
       "      <td>0</td>\n",
       "      <td>3</td>\n",
       "    </tr>\n",
       "    <tr>\n",
       "      <th>3</th>\n",
       "      <td>1</td>\n",
       "      <td>1</td>\n",
       "      <td>female</td>\n",
       "      <td>35.0</td>\n",
       "      <td>1</td>\n",
       "      <td>0</td>\n",
       "      <td>53.1000</td>\n",
       "      <td>S</td>\n",
       "      <td>35.0</td>\n",
       "      <td>0</td>\n",
       "      <td>1</td>\n",
       "    </tr>\n",
       "    <tr>\n",
       "      <th>4</th>\n",
       "      <td>0</td>\n",
       "      <td>3</td>\n",
       "      <td>male</td>\n",
       "      <td>35.0</td>\n",
       "      <td>0</td>\n",
       "      <td>0</td>\n",
       "      <td>8.0500</td>\n",
       "      <td>S</td>\n",
       "      <td>35.0</td>\n",
       "      <td>1</td>\n",
       "      <td>4</td>\n",
       "    </tr>\n",
       "  </tbody>\n",
       "</table>\n",
       "</div>"
      ],
      "text/plain": [
       "   Survived  Pclass     Sex   Age  SibSp  Parch     Fare Embarked  AgeFill  \\\n",
       "0         0       3    male  22.0      1      0   7.2500        S     22.0   \n",
       "1         1       1  female  38.0      1      0  71.2833        C     38.0   \n",
       "2         1       3  female  26.0      0      0   7.9250        S     26.0   \n",
       "3         1       1  female  35.0      1      0  53.1000        S     35.0   \n",
       "4         0       3    male  35.0      0      0   8.0500        S     35.0   \n",
       "\n",
       "   Gender  Pclass_Gender  \n",
       "0       1              4  \n",
       "1       0              1  \n",
       "2       0              3  \n",
       "3       0              1  \n",
       "4       1              4  "
      ]
     },
     "execution_count": 51,
     "metadata": {},
     "output_type": "execute_result"
    }
   ],
   "source": [
    "titanic_df['Pclass_Gender'] = titanic_df['Pclass'] + titanic_df['Gender']\n",
    "titanic_df.head()"
   ]
  },
  {
   "cell_type": "code",
   "execution_count": 57,
   "id": "ff4102fd",
   "metadata": {},
   "outputs": [
    {
     "ename": "KeyError",
     "evalue": "\"['Pclass' 'Sex' 'Gender' 'Age'] not found in axis\"",
     "output_type": "error",
     "traceback": [
      "\u001b[1;31m---------------------------------------------------------------------------\u001b[0m",
      "\u001b[1;31mKeyError\u001b[0m                                  Traceback (most recent call last)",
      "\u001b[1;32m<ipython-input-57-3661e83d3c42>\u001b[0m in \u001b[0;36m<module>\u001b[1;34m\u001b[0m\n\u001b[1;32m----> 1\u001b[1;33m \u001b[0mtitanic_df\u001b[0m \u001b[1;33m=\u001b[0m \u001b[0mtitanic_df\u001b[0m\u001b[1;33m.\u001b[0m\u001b[0mdrop\u001b[0m\u001b[1;33m(\u001b[0m\u001b[1;33m[\u001b[0m\u001b[1;34m'Pclass'\u001b[0m\u001b[1;33m,\u001b[0m \u001b[1;34m'Sex'\u001b[0m\u001b[1;33m,\u001b[0m \u001b[1;34m'Gender'\u001b[0m\u001b[1;33m,\u001b[0m\u001b[1;34m'Age'\u001b[0m\u001b[1;33m]\u001b[0m\u001b[1;33m,\u001b[0m\u001b[0maxis\u001b[0m\u001b[1;33m=\u001b[0m\u001b[1;36m1\u001b[0m\u001b[1;33m)\u001b[0m\u001b[1;33m\u001b[0m\u001b[1;33m\u001b[0m\u001b[0m\n\u001b[0m\u001b[0;32m      2\u001b[0m \u001b[0mtitanic_df\u001b[0m\u001b[1;33m.\u001b[0m\u001b[0mhead\u001b[0m\u001b[1;33m(\u001b[0m\u001b[1;33m)\u001b[0m\u001b[1;33m\u001b[0m\u001b[1;33m\u001b[0m\u001b[0m\n",
      "\u001b[1;32mD:\\anaconda\\lib\\site-packages\\pandas\\core\\frame.py\u001b[0m in \u001b[0;36mdrop\u001b[1;34m(self, labels, axis, index, columns, level, inplace, errors)\u001b[0m\n\u001b[0;32m   4306\u001b[0m                 \u001b[0mweight\u001b[0m  \u001b[1;36m1.0\u001b[0m     \u001b[1;36m0.8\u001b[0m\u001b[1;33m\u001b[0m\u001b[1;33m\u001b[0m\u001b[0m\n\u001b[0;32m   4307\u001b[0m         \"\"\"\n\u001b[1;32m-> 4308\u001b[1;33m         return super().drop(\n\u001b[0m\u001b[0;32m   4309\u001b[0m             \u001b[0mlabels\u001b[0m\u001b[1;33m=\u001b[0m\u001b[0mlabels\u001b[0m\u001b[1;33m,\u001b[0m\u001b[1;33m\u001b[0m\u001b[1;33m\u001b[0m\u001b[0m\n\u001b[0;32m   4310\u001b[0m             \u001b[0maxis\u001b[0m\u001b[1;33m=\u001b[0m\u001b[0maxis\u001b[0m\u001b[1;33m,\u001b[0m\u001b[1;33m\u001b[0m\u001b[1;33m\u001b[0m\u001b[0m\n",
      "\u001b[1;32mD:\\anaconda\\lib\\site-packages\\pandas\\core\\generic.py\u001b[0m in \u001b[0;36mdrop\u001b[1;34m(self, labels, axis, index, columns, level, inplace, errors)\u001b[0m\n\u001b[0;32m   4151\u001b[0m         \u001b[1;32mfor\u001b[0m \u001b[0maxis\u001b[0m\u001b[1;33m,\u001b[0m \u001b[0mlabels\u001b[0m \u001b[1;32min\u001b[0m \u001b[0maxes\u001b[0m\u001b[1;33m.\u001b[0m\u001b[0mitems\u001b[0m\u001b[1;33m(\u001b[0m\u001b[1;33m)\u001b[0m\u001b[1;33m:\u001b[0m\u001b[1;33m\u001b[0m\u001b[1;33m\u001b[0m\u001b[0m\n\u001b[0;32m   4152\u001b[0m             \u001b[1;32mif\u001b[0m \u001b[0mlabels\u001b[0m \u001b[1;32mis\u001b[0m \u001b[1;32mnot\u001b[0m \u001b[1;32mNone\u001b[0m\u001b[1;33m:\u001b[0m\u001b[1;33m\u001b[0m\u001b[1;33m\u001b[0m\u001b[0m\n\u001b[1;32m-> 4153\u001b[1;33m                 \u001b[0mobj\u001b[0m \u001b[1;33m=\u001b[0m \u001b[0mobj\u001b[0m\u001b[1;33m.\u001b[0m\u001b[0m_drop_axis\u001b[0m\u001b[1;33m(\u001b[0m\u001b[0mlabels\u001b[0m\u001b[1;33m,\u001b[0m \u001b[0maxis\u001b[0m\u001b[1;33m,\u001b[0m \u001b[0mlevel\u001b[0m\u001b[1;33m=\u001b[0m\u001b[0mlevel\u001b[0m\u001b[1;33m,\u001b[0m \u001b[0merrors\u001b[0m\u001b[1;33m=\u001b[0m\u001b[0merrors\u001b[0m\u001b[1;33m)\u001b[0m\u001b[1;33m\u001b[0m\u001b[1;33m\u001b[0m\u001b[0m\n\u001b[0m\u001b[0;32m   4154\u001b[0m \u001b[1;33m\u001b[0m\u001b[0m\n\u001b[0;32m   4155\u001b[0m         \u001b[1;32mif\u001b[0m \u001b[0minplace\u001b[0m\u001b[1;33m:\u001b[0m\u001b[1;33m\u001b[0m\u001b[1;33m\u001b[0m\u001b[0m\n",
      "\u001b[1;32mD:\\anaconda\\lib\\site-packages\\pandas\\core\\generic.py\u001b[0m in \u001b[0;36m_drop_axis\u001b[1;34m(self, labels, axis, level, errors)\u001b[0m\n\u001b[0;32m   4186\u001b[0m                 \u001b[0mnew_axis\u001b[0m \u001b[1;33m=\u001b[0m \u001b[0maxis\u001b[0m\u001b[1;33m.\u001b[0m\u001b[0mdrop\u001b[0m\u001b[1;33m(\u001b[0m\u001b[0mlabels\u001b[0m\u001b[1;33m,\u001b[0m \u001b[0mlevel\u001b[0m\u001b[1;33m=\u001b[0m\u001b[0mlevel\u001b[0m\u001b[1;33m,\u001b[0m \u001b[0merrors\u001b[0m\u001b[1;33m=\u001b[0m\u001b[0merrors\u001b[0m\u001b[1;33m)\u001b[0m\u001b[1;33m\u001b[0m\u001b[1;33m\u001b[0m\u001b[0m\n\u001b[0;32m   4187\u001b[0m             \u001b[1;32melse\u001b[0m\u001b[1;33m:\u001b[0m\u001b[1;33m\u001b[0m\u001b[1;33m\u001b[0m\u001b[0m\n\u001b[1;32m-> 4188\u001b[1;33m                 \u001b[0mnew_axis\u001b[0m \u001b[1;33m=\u001b[0m \u001b[0maxis\u001b[0m\u001b[1;33m.\u001b[0m\u001b[0mdrop\u001b[0m\u001b[1;33m(\u001b[0m\u001b[0mlabels\u001b[0m\u001b[1;33m,\u001b[0m \u001b[0merrors\u001b[0m\u001b[1;33m=\u001b[0m\u001b[0merrors\u001b[0m\u001b[1;33m)\u001b[0m\u001b[1;33m\u001b[0m\u001b[1;33m\u001b[0m\u001b[0m\n\u001b[0m\u001b[0;32m   4189\u001b[0m             \u001b[0mresult\u001b[0m \u001b[1;33m=\u001b[0m \u001b[0mself\u001b[0m\u001b[1;33m.\u001b[0m\u001b[0mreindex\u001b[0m\u001b[1;33m(\u001b[0m\u001b[1;33m**\u001b[0m\u001b[1;33m{\u001b[0m\u001b[0maxis_name\u001b[0m\u001b[1;33m:\u001b[0m \u001b[0mnew_axis\u001b[0m\u001b[1;33m}\u001b[0m\u001b[1;33m)\u001b[0m\u001b[1;33m\u001b[0m\u001b[1;33m\u001b[0m\u001b[0m\n\u001b[0;32m   4190\u001b[0m \u001b[1;33m\u001b[0m\u001b[0m\n",
      "\u001b[1;32mD:\\anaconda\\lib\\site-packages\\pandas\\core\\indexes\\base.py\u001b[0m in \u001b[0;36mdrop\u001b[1;34m(self, labels, errors)\u001b[0m\n\u001b[0;32m   5589\u001b[0m         \u001b[1;32mif\u001b[0m \u001b[0mmask\u001b[0m\u001b[1;33m.\u001b[0m\u001b[0many\u001b[0m\u001b[1;33m(\u001b[0m\u001b[1;33m)\u001b[0m\u001b[1;33m:\u001b[0m\u001b[1;33m\u001b[0m\u001b[1;33m\u001b[0m\u001b[0m\n\u001b[0;32m   5590\u001b[0m             \u001b[1;32mif\u001b[0m \u001b[0merrors\u001b[0m \u001b[1;33m!=\u001b[0m \u001b[1;34m\"ignore\"\u001b[0m\u001b[1;33m:\u001b[0m\u001b[1;33m\u001b[0m\u001b[1;33m\u001b[0m\u001b[0m\n\u001b[1;32m-> 5591\u001b[1;33m                 \u001b[1;32mraise\u001b[0m \u001b[0mKeyError\u001b[0m\u001b[1;33m(\u001b[0m\u001b[1;34mf\"{labels[mask]} not found in axis\"\u001b[0m\u001b[1;33m)\u001b[0m\u001b[1;33m\u001b[0m\u001b[1;33m\u001b[0m\u001b[0m\n\u001b[0m\u001b[0;32m   5592\u001b[0m             \u001b[0mindexer\u001b[0m \u001b[1;33m=\u001b[0m \u001b[0mindexer\u001b[0m\u001b[1;33m[\u001b[0m\u001b[1;33m~\u001b[0m\u001b[0mmask\u001b[0m\u001b[1;33m]\u001b[0m\u001b[1;33m\u001b[0m\u001b[1;33m\u001b[0m\u001b[0m\n\u001b[0;32m   5593\u001b[0m         \u001b[1;32mreturn\u001b[0m \u001b[0mself\u001b[0m\u001b[1;33m.\u001b[0m\u001b[0mdelete\u001b[0m\u001b[1;33m(\u001b[0m\u001b[0mindexer\u001b[0m\u001b[1;33m)\u001b[0m\u001b[1;33m\u001b[0m\u001b[1;33m\u001b[0m\u001b[0m\n",
      "\u001b[1;31mKeyError\u001b[0m: \"['Pclass' 'Sex' 'Gender' 'Age'] not found in axis\""
     ]
    }
   ],
   "source": [
    "titanic_df = titanic_df.drop(['Pclass', 'Sex', 'Gender','Age'],axis=1)\n",
    "titanic_df.head()"
   ]
  },
  {
   "cell_type": "code",
   "execution_count": 58,
   "id": "c67e1189",
   "metadata": {},
   "outputs": [
    {
     "data": {
      "text/html": [
       "<div>\n",
       "<style scoped>\n",
       "    .dataframe tbody tr th:only-of-type {\n",
       "        vertical-align: middle;\n",
       "    }\n",
       "\n",
       "    .dataframe tbody tr th {\n",
       "        vertical-align: top;\n",
       "    }\n",
       "\n",
       "    .dataframe thead th {\n",
       "        text-align: right;\n",
       "    }\n",
       "</style>\n",
       "<table border=\"1\" class=\"dataframe\">\n",
       "  <thead>\n",
       "    <tr style=\"text-align: right;\">\n",
       "      <th></th>\n",
       "      <th>Survived</th>\n",
       "      <th>SibSp</th>\n",
       "      <th>Parch</th>\n",
       "      <th>Fare</th>\n",
       "      <th>Embarked</th>\n",
       "      <th>AgeFill</th>\n",
       "      <th>Pclass_Gender</th>\n",
       "    </tr>\n",
       "  </thead>\n",
       "  <tbody>\n",
       "    <tr>\n",
       "      <th>0</th>\n",
       "      <td>0</td>\n",
       "      <td>1</td>\n",
       "      <td>0</td>\n",
       "      <td>7.2500</td>\n",
       "      <td>S</td>\n",
       "      <td>22.0</td>\n",
       "      <td>4</td>\n",
       "    </tr>\n",
       "    <tr>\n",
       "      <th>1</th>\n",
       "      <td>1</td>\n",
       "      <td>1</td>\n",
       "      <td>0</td>\n",
       "      <td>71.2833</td>\n",
       "      <td>C</td>\n",
       "      <td>38.0</td>\n",
       "      <td>1</td>\n",
       "    </tr>\n",
       "    <tr>\n",
       "      <th>2</th>\n",
       "      <td>1</td>\n",
       "      <td>0</td>\n",
       "      <td>0</td>\n",
       "      <td>7.9250</td>\n",
       "      <td>S</td>\n",
       "      <td>26.0</td>\n",
       "      <td>3</td>\n",
       "    </tr>\n",
       "    <tr>\n",
       "      <th>3</th>\n",
       "      <td>1</td>\n",
       "      <td>1</td>\n",
       "      <td>0</td>\n",
       "      <td>53.1000</td>\n",
       "      <td>S</td>\n",
       "      <td>35.0</td>\n",
       "      <td>1</td>\n",
       "    </tr>\n",
       "    <tr>\n",
       "      <th>4</th>\n",
       "      <td>0</td>\n",
       "      <td>0</td>\n",
       "      <td>0</td>\n",
       "      <td>8.0500</td>\n",
       "      <td>S</td>\n",
       "      <td>35.0</td>\n",
       "      <td>4</td>\n",
       "    </tr>\n",
       "  </tbody>\n",
       "</table>\n",
       "</div>"
      ],
      "text/plain": [
       "   Survived  SibSp  Parch     Fare Embarked  AgeFill  Pclass_Gender\n",
       "0         0      1      0   7.2500        S     22.0              4\n",
       "1         1      1      0  71.2833        C     38.0              1\n",
       "2         1      0      0   7.9250        S     26.0              3\n",
       "3         1      1      0  53.1000        S     35.0              1\n",
       "4         0      0      0   8.0500        S     35.0              4"
      ]
     },
     "execution_count": 58,
     "metadata": {},
     "output_type": "execute_result"
    }
   ],
   "source": [
    "titanic_df.head()"
   ]
  },
  {
   "cell_type": "code",
   "execution_count": null,
   "id": "c5a24ee0",
   "metadata": {},
   "outputs": [],
   "source": [
    "# 重要だよ！！！\n",
    "# 境界線の式\n",
    "#   w_1・x + w_2・y + w_0 = 0\n",
    "#   ⇒ y = (-w_1・x - w_0) / w_2\n",
    " \n",
    "# # 境界線 プロット\n",
    "# plt.plot([-2,2], map(lambda x: (-w_1 * x - w_0)/w_2, [-2,2]))\n",
    " \n",
    "# # データを重ねる\n",
    "# plt.scatter(X_train_std[y_train==0, 0], X_train_std[y_train==0, 1], c='red', marker='x', label='train 0')\n",
    "# plt.scatter(X_train_std[y_train==1, 0], X_train_std[y_train==1, 1], c='blue', marker='x', label='train 1')\n",
    "# plt.scatter(X_test_std[y_test==0, 0], X_test_std[y_test==0, 1], c='red', marker='o', s=60, label='test 0')\n",
    "# plt.scatter(X_test_std[y_test==1, 0], X_test_std[y_test==1, 1], c='blue', marker='o', s=60, label='test 1')"
   ]
  },
  {
   "cell_type": "code",
   "execution_count": 59,
   "id": "c8c5b284",
   "metadata": {},
   "outputs": [
    {
     "data": {
      "text/plain": [
       "<matplotlib.legend.Legend at 0xaa9ad4d790>"
      ]
     },
     "execution_count": 59,
     "metadata": {},
     "output_type": "execute_result"
    },
    {
     "data": {
      "image/png": "[encoded data removed]",
      "text/plain": [
       "<Figure size 432x288 with 1 Axes>"
      ]
     },
     "metadata": {
      "needs_background": "light"
     },
     "output_type": "display_data"
    }
   ],
   "source": [
    "np.random.seed = 0\n",
    "\n",
    "xmin, xmax = -5, 85\n",
    "ymin, ymax = 0.5, 4.5\n",
    "\n",
    "index_survived = titanic_df[titanic_df[\"Survived\"]==0].index\n",
    "index_notsurvived = titanic_df[titanic_df[\"Survived\"]==1].index\n",
    "\n",
    "from matplotlib.colors import ListedColormap\n",
    "fig, ax = plt.subplots()\n",
    "cm = plt.cm.RdBu\n",
    "cm_bright = ListedColormap(['#FF0000', '#0000FF'])\n",
    "sc = ax.scatter(titanic_df.loc[index_survived, 'AgeFill'],\n",
    "                titanic_df.loc[index_survived, 'Pclass_Gender']+(np.random.rand(len(index_survived))-0.5)*0.1,\n",
    "                color='r', label='Not Survived', alpha=0.3)\n",
    "sc = ax.scatter(titanic_df.loc[index_notsurvived, 'AgeFill'],\n",
    "                titanic_df.loc[index_notsurvived, 'Pclass_Gender']+(np.random.rand(len(index_notsurvived))-0.5)*0.1,\n",
    "                color='b', label='Survived', alpha=0.3)\n",
    "ax.set_xlabel('AgeFill')\n",
    "ax.set_ylabel('Pclass_Gender')\n",
    "ax.set_xlim(xmin, xmax)\n",
    "ax.set_ylim(ymin, ymax)\n",
    "ax.legend(bbox_to_anchor=(1.4, 1.03))"
   ]
  },
  {
   "cell_type": "code",
   "execution_count": 61,
   "id": "59ee3641",
   "metadata": {},
   "outputs": [
    {
     "data": {
      "text/plain": [
       "array([[22.        ,  4.        ],\n",
       "       [38.        ,  1.        ],\n",
       "       [26.        ,  3.        ],\n",
       "       ...,\n",
       "       [29.69911765,  3.        ],\n",
       "       [26.        ,  2.        ],\n",
       "       [32.        ,  4.        ]])"
      ]
     },
     "execution_count": 61,
     "metadata": {},
     "output_type": "execute_result"
    }
   ],
   "source": [
    "#運賃だけのリストを作成\n",
    "data2 = titanic_df.loc[:, [\"AgeFill\", \"Pclass_Gender\"]].values\n",
    "data2"
   ]
  },
  {
   "cell_type": "code",
   "execution_count": 62,
   "id": "41ec10b5",
   "metadata": {},
   "outputs": [
    {
     "name": "stderr",
     "output_type": "stream",
     "text": [
      "D:\\anaconda\\lib\\site-packages\\sklearn\\utils\\validation.py:63: DataConversionWarning: A column-vector y was passed when a 1d array was expected. Please change the shape of y to (n_samples, ), for example using ravel().\n",
      "  return f(*args, **kwargs)\n"
     ]
    },
    {
     "data": {
      "text/plain": [
       "LogisticRegression()"
      ]
     },
     "execution_count": 62,
     "metadata": {},
     "output_type": "execute_result"
    }
   ],
   "source": [
    "#生死フラグのみのリストを作成\n",
    "label2 =  titanic_df.loc[:,[\"Survived\"]].values\n",
    "model2 = LogisticRegression()\n",
    "model2.fit(data2, label2)"
   ]
  },
  {
   "cell_type": "code",
   "execution_count": 63,
   "id": "c58ea622",
   "metadata": {},
   "outputs": [
    {
     "data": {
      "text/plain": [
       "array([1], dtype=int64)"
      ]
     },
     "execution_count": 63,
     "metadata": {},
     "output_type": "execute_result"
    }
   ],
   "source": [
    "model2.predict([[10,1]])"
   ]
  },
  {
   "cell_type": "code",
   "execution_count": 64,
   "id": "1fc038d2",
   "metadata": {},
   "outputs": [
    {
     "data": {
      "text/plain": [
       "array([[0.03754749, 0.96245251]])"
      ]
     },
     "execution_count": 64,
     "metadata": {},
     "output_type": "execute_result"
    }
   ],
   "source": [
    "model2.predict_proba([[10,1]])"
   ]
  },
  {
   "cell_type": "code",
   "execution_count": 65,
   "id": "ebb0572d",
   "metadata": {},
   "outputs": [
    {
     "data": {
      "text/html": [
       "<div>\n",
       "<style scoped>\n",
       "    .dataframe tbody tr th:only-of-type {\n",
       "        vertical-align: middle;\n",
       "    }\n",
       "\n",
       "    .dataframe tbody tr th {\n",
       "        vertical-align: top;\n",
       "    }\n",
       "\n",
       "    .dataframe thead th {\n",
       "        text-align: right;\n",
       "    }\n",
       "</style>\n",
       "<table border=\"1\" class=\"dataframe\">\n",
       "  <thead>\n",
       "    <tr style=\"text-align: right;\">\n",
       "      <th></th>\n",
       "      <th>Survived</th>\n",
       "      <th>SibSp</th>\n",
       "      <th>Parch</th>\n",
       "      <th>Fare</th>\n",
       "      <th>Embarked</th>\n",
       "      <th>AgeFill</th>\n",
       "      <th>Pclass_Gender</th>\n",
       "    </tr>\n",
       "  </thead>\n",
       "  <tbody>\n",
       "    <tr>\n",
       "      <th>0</th>\n",
       "      <td>0</td>\n",
       "      <td>1</td>\n",
       "      <td>0</td>\n",
       "      <td>7.2500</td>\n",
       "      <td>S</td>\n",
       "      <td>22.0</td>\n",
       "      <td>4</td>\n",
       "    </tr>\n",
       "    <tr>\n",
       "      <th>1</th>\n",
       "      <td>1</td>\n",
       "      <td>1</td>\n",
       "      <td>0</td>\n",
       "      <td>71.2833</td>\n",
       "      <td>C</td>\n",
       "      <td>38.0</td>\n",
       "      <td>1</td>\n",
       "    </tr>\n",
       "    <tr>\n",
       "      <th>2</th>\n",
       "      <td>1</td>\n",
       "      <td>0</td>\n",
       "      <td>0</td>\n",
       "      <td>7.9250</td>\n",
       "      <td>S</td>\n",
       "      <td>26.0</td>\n",
       "      <td>3</td>\n",
       "    </tr>\n",
       "  </tbody>\n",
       "</table>\n",
       "</div>"
      ],
      "text/plain": [
       "   Survived  SibSp  Parch     Fare Embarked  AgeFill  Pclass_Gender\n",
       "0         0      1      0   7.2500        S     22.0              4\n",
       "1         1      1      0  71.2833        C     38.0              1\n",
       "2         1      0      0   7.9250        S     26.0              3"
      ]
     },
     "execution_count": 65,
     "metadata": {},
     "output_type": "execute_result"
    }
   ],
   "source": [
    "titanic_df.head(3)"
   ]
  },
  {
   "cell_type": "code",
   "execution_count": 66,
   "id": "754a8016",
   "metadata": {},
   "outputs": [
    {
     "data": {
      "text/plain": [
       "[<matplotlib.lines.Line2D at 0xaa9f96f820>]"
      ]
     },
     "execution_count": 66,
     "metadata": {},
     "output_type": "execute_result"
    },
    {
     "data": {
      "image/png": "[encoded data removed]",
      "text/plain": [
       "<Figure size 432x288 with 1 Axes>"
      ]
     },
     "metadata": {
      "needs_background": "light"
     },
     "output_type": "display_data"
    }
   ],
   "source": [
    "h = 0.02\n",
    "xmin, xmax = -5, 85\n",
    "ymin, ymax = 0.5, 4.5\n",
    "xx, yy = np.meshgrid(np.arange(xmin, xmax, h), np.arange(ymin, ymax, h))\n",
    "Z = model2.predict_proba(np.c_[xx.ravel(), yy.ravel()])[:, 1]\n",
    "Z = Z.reshape(xx.shape)\n",
    "\n",
    "fig, ax = plt.subplots()\n",
    "levels = np.linspace(0, 1.0)\n",
    "cm = plt.cm.RdBu\n",
    "cm_bright = ListedColormap(['#FF0000', '#0000FF'])\n",
    "#contour = ax.contourf(xx, yy, Z, cmap=cm, levels=levels, alpha=0.5)\n",
    "\n",
    "sc = ax.scatter(titanic_df.loc[index_survived, 'AgeFill'],\n",
    "                titanic_df.loc[index_survived, 'Pclass_Gender']+(np.random.rand(len(index_survived))-0.5)*0.1,\n",
    "                color='r', label='Not Survived', alpha=0.3)\n",
    "sc = ax.scatter(titanic_df.loc[index_notsurvived, 'AgeFill'],\n",
    "                titanic_df.loc[index_notsurvived, 'Pclass_Gender']+(np.random.rand(len(index_notsurvived))-0.5)*0.1,\n",
    "                color='b', label='Survived', alpha=0.3)\n",
    "\n",
    "ax.set_xlabel('AgeFill')\n",
    "ax.set_ylabel('Pclass_Gender')\n",
    "ax.set_xlim(xmin, xmax)\n",
    "ax.set_ylim(ymin, ymax)\n",
    "#fig.colorbar(contour)\n",
    "\n",
    "x1 = xmin\n",
    "x2 = xmax\n",
    "y1 = -1*(model2.intercept_[0]+model2.coef_[0][0]*xmin)/model2.coef_[0][1]\n",
    "y2 = -1*(model2.intercept_[0]+model2.coef_[0][0]*xmax)/model2.coef_[0][1]\n",
    "ax.plot([x1, x2] ,[y1, y2], 'k--')"
   ]
  },
  {
   "cell_type": "code",
   "execution_count": 109,
   "id": "78d1dd41",
   "metadata": {},
   "outputs": [],
   "source": [
    "## 2. モデル評価\n",
    "## 混同行列とクロスバリデーション"
   ]
  },
  {
   "cell_type": "code",
   "execution_count": 110,
   "id": "e19dda5d",
   "metadata": {},
   "outputs": [],
   "source": [
    "from sklearn.model_selection import train_test_split"
   ]
  },
  {
   "cell_type": "code",
   "execution_count": 111,
   "id": "100dde67",
   "metadata": {},
   "outputs": [
    {
     "data": {
      "text/plain": [
       "(712, 1)"
      ]
     },
     "execution_count": 111,
     "metadata": {},
     "output_type": "execute_result"
    }
   ],
   "source": [
    "traindata1, testdata1, trainlabel1, testlabel1 = train_test_split(data1, label1, test_size=0.2)\n",
    "traindata1.shape\n",
    "trainlabel1.shape"
   ]
  },
  {
   "cell_type": "code",
   "execution_count": 112,
   "id": "1764890f",
   "metadata": {},
   "outputs": [
    {
     "data": {
      "text/plain": [
       "(712, 1)"
      ]
     },
     "execution_count": 112,
     "metadata": {},
     "output_type": "execute_result"
    }
   ],
   "source": [
    "traindata2, testdata2, trainlabel2, testlabel2 = train_test_split(data2, label2, test_size=0.2)\n",
    "traindata2.shape\n",
    "trainlabel2.shape\n",
    "#本来は同じデータセットを分割しなければいけない。(簡易的に別々に分割している。)"
   ]
  },
  {
   "cell_type": "code",
   "execution_count": 113,
   "id": "2a2662cc",
   "metadata": {},
   "outputs": [
    {
     "data": {
      "text/plain": [
       "(712, 1)"
      ]
     },
     "execution_count": 113,
     "metadata": {},
     "output_type": "execute_result"
    }
   ],
   "source": [
    "data = titanic_df.loc[:, ].values\n",
    "label =  titanic_df.loc[:,[\"Survived\"]].values\n",
    "traindata, testdata, trainlabel, testlabel = train_test_split(data, label, test_size=0.2)\n",
    "traindata.shape\n",
    "trainlabel.shape"
   ]
  },
  {
   "cell_type": "code",
   "execution_count": 114,
   "id": "ed42fa49",
   "metadata": {},
   "outputs": [
    {
     "name": "stderr",
     "output_type": "stream",
     "text": [
      "D:\\anaconda\\lib\\site-packages\\sklearn\\utils\\validation.py:63: DataConversionWarning: A column-vector y was passed when a 1d array was expected. Please change the shape of y to (n_samples, ), for example using ravel().\n",
      "  return f(*args, **kwargs)\n",
      "D:\\anaconda\\lib\\site-packages\\sklearn\\utils\\validation.py:63: DataConversionWarning: A column-vector y was passed when a 1d array was expected. Please change the shape of y to (n_samples, ), for example using ravel().\n",
      "  return f(*args, **kwargs)\n"
     ]
    }
   ],
   "source": [
    "eval_model1=LogisticRegression()\n",
    "eval_model2=LogisticRegression()\n",
    "#eval_model=LogisticRegression()\n",
    "predictor_eval1=eval_model1.fit(traindata1, trainlabel1).predict(testdata1)\n",
    "predictor_eval2=eval_model2.fit(traindata2, trainlabel2).predict(testdata2)\n",
    "#predictor_eval=eval_model.fit(traindata, trainlabel).predict(testdata)"
   ]
  },
  {
   "cell_type": "code",
   "execution_count": 115,
   "id": "bdc5a3e3",
   "metadata": {},
   "outputs": [
    {
     "data": {
      "text/plain": [
       "0.6671348314606742"
      ]
     },
     "execution_count": 115,
     "metadata": {},
     "output_type": "execute_result"
    }
   ],
   "source": [
    "eval_model1.score(traindata1, trainlabel1)"
   ]
  },
  {
   "cell_type": "code",
   "execution_count": 116,
   "id": "f3d557af",
   "metadata": {},
   "outputs": [
    {
     "data": {
      "text/plain": [
       "0.6480446927374302"
      ]
     },
     "execution_count": 116,
     "metadata": {},
     "output_type": "execute_result"
    }
   ],
   "source": [
    "eval_model1.score(testdata1,testlabel1)"
   ]
  },
  {
   "cell_type": "code",
   "execution_count": 117,
   "id": "a9661289",
   "metadata": {},
   "outputs": [
    {
     "data": {
      "text/plain": [
       "0.7780898876404494"
      ]
     },
     "execution_count": 117,
     "metadata": {},
     "output_type": "execute_result"
    }
   ],
   "source": [
    "eval_model2.score(traindata2, trainlabel2)"
   ]
  },
  {
   "cell_type": "code",
   "execution_count": 118,
   "id": "12c0d2d8",
   "metadata": {},
   "outputs": [
    {
     "data": {
      "text/plain": [
       "0.7653631284916201"
      ]
     },
     "execution_count": 118,
     "metadata": {},
     "output_type": "execute_result"
    }
   ],
   "source": [
    "eval_model2.score(testdata2,testlabel2)"
   ]
  },
  {
   "cell_type": "code",
   "execution_count": 119,
   "id": "150e21fa",
   "metadata": {},
   "outputs": [
    {
     "name": "stdout",
     "output_type": "stream",
     "text": [
      "              precision    recall  f1-score   support\n",
      "\n",
      "           0       0.63      0.95      0.76       105\n",
      "           1       0.76      0.22      0.34        74\n",
      "\n",
      "    accuracy                           0.65       179\n",
      "   macro avg       0.70      0.58      0.55       179\n",
      "weighted avg       0.69      0.65      0.59       179\n",
      "\n",
      "              precision    recall  f1-score   support\n",
      "\n",
      "           0       0.80      0.85      0.82       116\n",
      "           1       0.69      0.60      0.64        63\n",
      "\n",
      "    accuracy                           0.77       179\n",
      "   macro avg       0.74      0.73      0.73       179\n",
      "weighted avg       0.76      0.77      0.76       179\n",
      "\n"
     ]
    }
   ],
   "source": [
    "from sklearn import metrics\n",
    "print(metrics.classification_report(testlabel1, predictor_eval1))\n",
    "print(metrics.classification_report(testlabel2, predictor_eval2))"
   ]
  },
  {
   "cell_type": "code",
   "execution_count": 120,
   "id": "a5e1780c",
   "metadata": {},
   "outputs": [
    {
     "data": {
      "text/plain": [
       "array([[100,   5],\n",
       "       [ 58,  16]], dtype=int64)"
      ]
     },
     "execution_count": 120,
     "metadata": {},
     "output_type": "execute_result"
    }
   ],
   "source": [
    "from sklearn.metrics import confusion_matrix\n",
    "confusion_matrix1=confusion_matrix(testlabel1, predictor_eval1)\n",
    "confusion_matrix2=confusion_matrix(testlabel2, predictor_eval2)\n",
    "confusion_matrix1"
   ]
  },
  {
   "cell_type": "code",
   "execution_count": 121,
   "id": "975fc856",
   "metadata": {},
   "outputs": [
    {
     "data": {
      "text/plain": [
       "array([[99, 17],\n",
       "       [25, 38]], dtype=int64)"
      ]
     },
     "execution_count": 121,
     "metadata": {},
     "output_type": "execute_result"
    }
   ],
   "source": [
    "confusion_matrix2"
   ]
  },
  {
   "cell_type": "code",
   "execution_count": 122,
   "id": "dc4d78b2",
   "metadata": {},
   "outputs": [
    {
     "data": {
      "text/plain": [
       "<AxesSubplot:>"
      ]
     },
     "execution_count": 122,
     "metadata": {},
     "output_type": "execute_result"
    },
    {
     "data": {
      "image/png": "[encoded data removed]",
      "text/plain": [
       "<Figure size 504x504 with 2 Axes>"
      ]
     },
     "metadata": {
      "needs_background": "light"
     },
     "output_type": "display_data"
    }
   ],
   "source": [
    "fig = plt.figure(figsize = (7,7))\n",
    "#plt.title(title)\n",
    "sns.heatmap(\n",
    "    confusion_matrix1,\n",
    "    vmin=None,\n",
    "    vmax=None,\n",
    "    cmap=\"Blues\",\n",
    "    center=None,\n",
    "    robust=False,\n",
    "    annot=True, fmt='.2g',\n",
    "    annot_kws=None,\n",
    "    linewidths=0,\n",
    "    linecolor='white',\n",
    "    cbar=True,\n",
    "    cbar_kws=None,\n",
    "    cbar_ax=None,\n",
    "    square=True, ax=None, \n",
    "    #xticklabels=columns,\n",
    "    #yticklabels=columns,\n",
    "    mask=None)"
   ]
  },
  {
   "cell_type": "code",
   "execution_count": 123,
   "id": "83f32d34",
   "metadata": {},
   "outputs": [
    {
     "data": {
      "text/plain": [
       "<AxesSubplot:>"
      ]
     },
     "execution_count": 123,
     "metadata": {},
     "output_type": "execute_result"
    },
    {
     "data": {
      "image/png": "[encoded data removed]",
      "text/plain": [
       "<Figure size 504x504 with 2 Axes>"
      ]
     },
     "metadata": {
      "needs_background": "light"
     },
     "output_type": "display_data"
    }
   ],
   "source": [
    "fig = plt.figure(figsize = (7,7))\n",
    "#plt.title(title)\n",
    "sns.heatmap(\n",
    "    confusion_matrix2,\n",
    "    vmin=None,\n",
    "    vmax=None,\n",
    "    cmap=\"Blues\",\n",
    "    center=None,\n",
    "    robust=False,\n",
    "    annot=True, fmt='.2g',\n",
    "    annot_kws=None,\n",
    "    linewidths=0,\n",
    "    linecolor='white',\n",
    "    cbar=True,\n",
    "    cbar_kws=None,\n",
    "    cbar_ax=None,\n",
    "    square=True, ax=None, \n",
    "    #xticklabels=columns,\n",
    "    #yticklabels=columns,\n",
    "    mask=None)"
   ]
  },
  {
   "cell_type": "code",
   "execution_count": 124,
   "id": "6e5effb6",
   "metadata": {},
   "outputs": [
    {
     "name": "stderr",
     "output_type": "stream",
     "text": [
      "D:\\anaconda\\lib\\site-packages\\seaborn\\axisgrid.py:1152: UserWarning: The `size` parameter has been renamed to `height`; please update your code.\n",
      "  warnings.warn(UserWarning(msg))\n"
     ]
    },
    {
     "data": {
      "image/png": "[encoded data removed]",
      "text/plain": [
       "<Figure size 720x360 with 4 Axes>"
      ]
     },
     "metadata": {},
     "output_type": "display_data"
    }
   ],
   "source": [
    "#Paired categorical plots\n",
    "\n",
    "import seaborn as sns\n",
    "sns.set(style=\"whitegrid\")\n",
    "\n",
    "# Load the example Titanic dataset\n",
    "titanic = sns.load_dataset(\"titanic\")\n",
    "\n",
    "# Set up a grid to plot survival probability against several variables\n",
    "g = sns.PairGrid(titanic, y_vars=\"survived\",\n",
    "                 x_vars=[\"class\", \"sex\", \"who\", \"alone\"],\n",
    "                 size=5, aspect=.5)\n",
    "\n",
    "# Draw a seaborn pointplot onto each Axes\n",
    "g.map(sns.pointplot, color=sns.xkcd_rgb[\"plum\"])\n",
    "g.set(ylim=(0, 1))\n",
    "sns.despine(fig=g.fig, left=True)\n",
    "\n",
    "plt.show()"
   ]
  },
  {
   "cell_type": "code",
   "execution_count": 125,
   "id": "a6cc5767",
   "metadata": {},
   "outputs": [
    {
     "data": {
      "image/png": "[encoded data removed]",
      "text/plain": [
       "<Figure size 720x360 with 2 Axes>"
      ]
     },
     "metadata": {},
     "output_type": "display_data"
    }
   ],
   "source": [
    "#Faceted logistic regression\n",
    "\n",
    "import seaborn as sns\n",
    "sns.set(style=\"darkgrid\")\n",
    "\n",
    "# Load the example titanic dataset\n",
    "df = sns.load_dataset(\"titanic\")\n",
    "\n",
    "# Make a custom palette with gendered colors\n",
    "pal = dict(male=\"#6495ED\", female=\"#F08080\")\n",
    "\n",
    "# Show the survival proability as a function of age and sex\n",
    "g = sns.lmplot(x=\"age\", y=\"survived\", col=\"sex\", hue=\"sex\", data=df,\n",
    "               palette=pal, y_jitter=.02, logistic=True)\n",
    "g.set(xlim=(0, 80), ylim=(-.05, 1.05))\n",
    "plt.show()"
   ]
  },
  {
   "cell_type": "markdown",
   "id": "be3a2b02",
   "metadata": {},
   "source": [
    "## 4.主成分分析"
   ]
  },
  {
   "cell_type": "markdown",
   "id": "d4551715",
   "metadata": {},
   "source": [
    "### 主成分分析　ハンズオン"
   ]
  },
  {
   "cell_type": "code",
   "execution_count": null,
   "id": "c61a5e71",
   "metadata": {},
   "outputs": [],
   "source": [
    "import pandas as pd\n",
    "from sklearn.model_selection import train_test_split\n",
    "from sklearn.preprocessing import StandardScaler\n",
    "from sklearn.linear_model import LogisticRegressionCV\n",
    "from sklearn.metrics import confusion_matrix\n",
    "from sklearn.decomposition import PCA\n",
    "import matplotlib.pyplot as plt\n",
    "%matplotlib inline"
   ]
  },
  {
   "cell_type": "code",
   "execution_count": 126,
   "id": "510b4a78",
   "metadata": {},
   "outputs": [],
   "source": [
    "#### 補足　Dドライブ配下にdataを格納(オリジナルからPath変更)\n",
    "cancer_df = pd.read_csv('D:\\stage2_data\\study_ai_ml_google\\data\\cancer.csv')"
   ]
  },
  {
   "cell_type": "code",
   "execution_count": 127,
   "id": "1ed0e640",
   "metadata": {},
   "outputs": [
    {
     "name": "stdout",
     "output_type": "stream",
     "text": [
      "cancer df shape: (569, 33)\n"
     ]
    }
   ],
   "source": [
    "print('cancer df shape: {}'.format(cancer_df.shape))"
   ]
  },
  {
   "cell_type": "code",
   "execution_count": 128,
   "id": "27137b81",
   "metadata": {},
   "outputs": [
    {
     "data": {
      "text/html": [
       "<div>\n",
       "<style scoped>\n",
       "    .dataframe tbody tr th:only-of-type {\n",
       "        vertical-align: middle;\n",
       "    }\n",
       "\n",
       "    .dataframe tbody tr th {\n",
       "        vertical-align: top;\n",
       "    }\n",
       "\n",
       "    .dataframe thead th {\n",
       "        text-align: right;\n",
       "    }\n",
       "</style>\n",
       "<table border=\"1\" class=\"dataframe\">\n",
       "  <thead>\n",
       "    <tr style=\"text-align: right;\">\n",
       "      <th></th>\n",
       "      <th>id</th>\n",
       "      <th>diagnosis</th>\n",
       "      <th>radius_mean</th>\n",
       "      <th>texture_mean</th>\n",
       "      <th>perimeter_mean</th>\n",
       "      <th>area_mean</th>\n",
       "      <th>smoothness_mean</th>\n",
       "      <th>compactness_mean</th>\n",
       "      <th>concavity_mean</th>\n",
       "      <th>concave points_mean</th>\n",
       "      <th>...</th>\n",
       "      <th>texture_worst</th>\n",
       "      <th>perimeter_worst</th>\n",
       "      <th>area_worst</th>\n",
       "      <th>smoothness_worst</th>\n",
       "      <th>compactness_worst</th>\n",
       "      <th>concavity_worst</th>\n",
       "      <th>concave points_worst</th>\n",
       "      <th>symmetry_worst</th>\n",
       "      <th>fractal_dimension_worst</th>\n",
       "      <th>Unnamed: 32</th>\n",
       "    </tr>\n",
       "  </thead>\n",
       "  <tbody>\n",
       "    <tr>\n",
       "      <th>0</th>\n",
       "      <td>842302</td>\n",
       "      <td>M</td>\n",
       "      <td>17.99</td>\n",
       "      <td>10.38</td>\n",
       "      <td>122.80</td>\n",
       "      <td>1001.0</td>\n",
       "      <td>0.11840</td>\n",
       "      <td>0.27760</td>\n",
       "      <td>0.30010</td>\n",
       "      <td>0.14710</td>\n",
       "      <td>...</td>\n",
       "      <td>17.33</td>\n",
       "      <td>184.60</td>\n",
       "      <td>2019.0</td>\n",
       "      <td>0.16220</td>\n",
       "      <td>0.66560</td>\n",
       "      <td>0.7119</td>\n",
       "      <td>0.2654</td>\n",
       "      <td>0.4601</td>\n",
       "      <td>0.11890</td>\n",
       "      <td>NaN</td>\n",
       "    </tr>\n",
       "    <tr>\n",
       "      <th>1</th>\n",
       "      <td>842517</td>\n",
       "      <td>M</td>\n",
       "      <td>20.57</td>\n",
       "      <td>17.77</td>\n",
       "      <td>132.90</td>\n",
       "      <td>1326.0</td>\n",
       "      <td>0.08474</td>\n",
       "      <td>0.07864</td>\n",
       "      <td>0.08690</td>\n",
       "      <td>0.07017</td>\n",
       "      <td>...</td>\n",
       "      <td>23.41</td>\n",
       "      <td>158.80</td>\n",
       "      <td>1956.0</td>\n",
       "      <td>0.12380</td>\n",
       "      <td>0.18660</td>\n",
       "      <td>0.2416</td>\n",
       "      <td>0.1860</td>\n",
       "      <td>0.2750</td>\n",
       "      <td>0.08902</td>\n",
       "      <td>NaN</td>\n",
       "    </tr>\n",
       "    <tr>\n",
       "      <th>2</th>\n",
       "      <td>84300903</td>\n",
       "      <td>M</td>\n",
       "      <td>19.69</td>\n",
       "      <td>21.25</td>\n",
       "      <td>130.00</td>\n",
       "      <td>1203.0</td>\n",
       "      <td>0.10960</td>\n",
       "      <td>0.15990</td>\n",
       "      <td>0.19740</td>\n",
       "      <td>0.12790</td>\n",
       "      <td>...</td>\n",
       "      <td>25.53</td>\n",
       "      <td>152.50</td>\n",
       "      <td>1709.0</td>\n",
       "      <td>0.14440</td>\n",
       "      <td>0.42450</td>\n",
       "      <td>0.4504</td>\n",
       "      <td>0.2430</td>\n",
       "      <td>0.3613</td>\n",
       "      <td>0.08758</td>\n",
       "      <td>NaN</td>\n",
       "    </tr>\n",
       "    <tr>\n",
       "      <th>3</th>\n",
       "      <td>84348301</td>\n",
       "      <td>M</td>\n",
       "      <td>11.42</td>\n",
       "      <td>20.38</td>\n",
       "      <td>77.58</td>\n",
       "      <td>386.1</td>\n",
       "      <td>0.14250</td>\n",
       "      <td>0.28390</td>\n",
       "      <td>0.24140</td>\n",
       "      <td>0.10520</td>\n",
       "      <td>...</td>\n",
       "      <td>26.50</td>\n",
       "      <td>98.87</td>\n",
       "      <td>567.7</td>\n",
       "      <td>0.20980</td>\n",
       "      <td>0.86630</td>\n",
       "      <td>0.6869</td>\n",
       "      <td>0.2575</td>\n",
       "      <td>0.6638</td>\n",
       "      <td>0.17300</td>\n",
       "      <td>NaN</td>\n",
       "    </tr>\n",
       "    <tr>\n",
       "      <th>4</th>\n",
       "      <td>84358402</td>\n",
       "      <td>M</td>\n",
       "      <td>20.29</td>\n",
       "      <td>14.34</td>\n",
       "      <td>135.10</td>\n",
       "      <td>1297.0</td>\n",
       "      <td>0.10030</td>\n",
       "      <td>0.13280</td>\n",
       "      <td>0.19800</td>\n",
       "      <td>0.10430</td>\n",
       "      <td>...</td>\n",
       "      <td>16.67</td>\n",
       "      <td>152.20</td>\n",
       "      <td>1575.0</td>\n",
       "      <td>0.13740</td>\n",
       "      <td>0.20500</td>\n",
       "      <td>0.4000</td>\n",
       "      <td>0.1625</td>\n",
       "      <td>0.2364</td>\n",
       "      <td>0.07678</td>\n",
       "      <td>NaN</td>\n",
       "    </tr>\n",
       "    <tr>\n",
       "      <th>...</th>\n",
       "      <td>...</td>\n",
       "      <td>...</td>\n",
       "      <td>...</td>\n",
       "      <td>...</td>\n",
       "      <td>...</td>\n",
       "      <td>...</td>\n",
       "      <td>...</td>\n",
       "      <td>...</td>\n",
       "      <td>...</td>\n",
       "      <td>...</td>\n",
       "      <td>...</td>\n",
       "      <td>...</td>\n",
       "      <td>...</td>\n",
       "      <td>...</td>\n",
       "      <td>...</td>\n",
       "      <td>...</td>\n",
       "      <td>...</td>\n",
       "      <td>...</td>\n",
       "      <td>...</td>\n",
       "      <td>...</td>\n",
       "      <td>...</td>\n",
       "    </tr>\n",
       "    <tr>\n",
       "      <th>564</th>\n",
       "      <td>926424</td>\n",
       "      <td>M</td>\n",
       "      <td>21.56</td>\n",
       "      <td>22.39</td>\n",
       "      <td>142.00</td>\n",
       "      <td>1479.0</td>\n",
       "      <td>0.11100</td>\n",
       "      <td>0.11590</td>\n",
       "      <td>0.24390</td>\n",
       "      <td>0.13890</td>\n",
       "      <td>...</td>\n",
       "      <td>26.40</td>\n",
       "      <td>166.10</td>\n",
       "      <td>2027.0</td>\n",
       "      <td>0.14100</td>\n",
       "      <td>0.21130</td>\n",
       "      <td>0.4107</td>\n",
       "      <td>0.2216</td>\n",
       "      <td>0.2060</td>\n",
       "      <td>0.07115</td>\n",
       "      <td>NaN</td>\n",
       "    </tr>\n",
       "    <tr>\n",
       "      <th>565</th>\n",
       "      <td>926682</td>\n",
       "      <td>M</td>\n",
       "      <td>20.13</td>\n",
       "      <td>28.25</td>\n",
       "      <td>131.20</td>\n",
       "      <td>1261.0</td>\n",
       "      <td>0.09780</td>\n",
       "      <td>0.10340</td>\n",
       "      <td>0.14400</td>\n",
       "      <td>0.09791</td>\n",
       "      <td>...</td>\n",
       "      <td>38.25</td>\n",
       "      <td>155.00</td>\n",
       "      <td>1731.0</td>\n",
       "      <td>0.11660</td>\n",
       "      <td>0.19220</td>\n",
       "      <td>0.3215</td>\n",
       "      <td>0.1628</td>\n",
       "      <td>0.2572</td>\n",
       "      <td>0.06637</td>\n",
       "      <td>NaN</td>\n",
       "    </tr>\n",
       "    <tr>\n",
       "      <th>566</th>\n",
       "      <td>926954</td>\n",
       "      <td>M</td>\n",
       "      <td>16.60</td>\n",
       "      <td>28.08</td>\n",
       "      <td>108.30</td>\n",
       "      <td>858.1</td>\n",
       "      <td>0.08455</td>\n",
       "      <td>0.10230</td>\n",
       "      <td>0.09251</td>\n",
       "      <td>0.05302</td>\n",
       "      <td>...</td>\n",
       "      <td>34.12</td>\n",
       "      <td>126.70</td>\n",
       "      <td>1124.0</td>\n",
       "      <td>0.11390</td>\n",
       "      <td>0.30940</td>\n",
       "      <td>0.3403</td>\n",
       "      <td>0.1418</td>\n",
       "      <td>0.2218</td>\n",
       "      <td>0.07820</td>\n",
       "      <td>NaN</td>\n",
       "    </tr>\n",
       "    <tr>\n",
       "      <th>567</th>\n",
       "      <td>927241</td>\n",
       "      <td>M</td>\n",
       "      <td>20.60</td>\n",
       "      <td>29.33</td>\n",
       "      <td>140.10</td>\n",
       "      <td>1265.0</td>\n",
       "      <td>0.11780</td>\n",
       "      <td>0.27700</td>\n",
       "      <td>0.35140</td>\n",
       "      <td>0.15200</td>\n",
       "      <td>...</td>\n",
       "      <td>39.42</td>\n",
       "      <td>184.60</td>\n",
       "      <td>1821.0</td>\n",
       "      <td>0.16500</td>\n",
       "      <td>0.86810</td>\n",
       "      <td>0.9387</td>\n",
       "      <td>0.2650</td>\n",
       "      <td>0.4087</td>\n",
       "      <td>0.12400</td>\n",
       "      <td>NaN</td>\n",
       "    </tr>\n",
       "    <tr>\n",
       "      <th>568</th>\n",
       "      <td>92751</td>\n",
       "      <td>B</td>\n",
       "      <td>7.76</td>\n",
       "      <td>24.54</td>\n",
       "      <td>47.92</td>\n",
       "      <td>181.0</td>\n",
       "      <td>0.05263</td>\n",
       "      <td>0.04362</td>\n",
       "      <td>0.00000</td>\n",
       "      <td>0.00000</td>\n",
       "      <td>...</td>\n",
       "      <td>30.37</td>\n",
       "      <td>59.16</td>\n",
       "      <td>268.6</td>\n",
       "      <td>0.08996</td>\n",
       "      <td>0.06444</td>\n",
       "      <td>0.0000</td>\n",
       "      <td>0.0000</td>\n",
       "      <td>0.2871</td>\n",
       "      <td>0.07039</td>\n",
       "      <td>NaN</td>\n",
       "    </tr>\n",
       "  </tbody>\n",
       "</table>\n",
       "<p>569 rows × 33 columns</p>\n",
       "</div>"
      ],
      "text/plain": [
       "           id diagnosis  radius_mean  texture_mean  perimeter_mean  area_mean  \\\n",
       "0      842302         M        17.99         10.38          122.80     1001.0   \n",
       "1      842517         M        20.57         17.77          132.90     1326.0   \n",
       "2    84300903         M        19.69         21.25          130.00     1203.0   \n",
       "3    84348301         M        11.42         20.38           77.58      386.1   \n",
       "4    84358402         M        20.29         14.34          135.10     1297.0   \n",
       "..        ...       ...          ...           ...             ...        ...   \n",
       "564    926424         M        21.56         22.39          142.00     1479.0   \n",
       "565    926682         M        20.13         28.25          131.20     1261.0   \n",
       "566    926954         M        16.60         28.08          108.30      858.1   \n",
       "567    927241         M        20.60         29.33          140.10     1265.0   \n",
       "568     92751         B         7.76         24.54           47.92      181.0   \n",
       "\n",
       "     smoothness_mean  compactness_mean  concavity_mean  concave points_mean  \\\n",
       "0            0.11840           0.27760         0.30010              0.14710   \n",
       "1            0.08474           0.07864         0.08690              0.07017   \n",
       "2            0.10960           0.15990         0.19740              0.12790   \n",
       "3            0.14250           0.28390         0.24140              0.10520   \n",
       "4            0.10030           0.13280         0.19800              0.10430   \n",
       "..               ...               ...             ...                  ...   \n",
       "564          0.11100           0.11590         0.24390              0.13890   \n",
       "565          0.09780           0.10340         0.14400              0.09791   \n",
       "566          0.08455           0.10230         0.09251              0.05302   \n",
       "567          0.11780           0.27700         0.35140              0.15200   \n",
       "568          0.05263           0.04362         0.00000              0.00000   \n",
       "\n",
       "     ...  texture_worst  perimeter_worst  area_worst  smoothness_worst  \\\n",
       "0    ...          17.33           184.60      2019.0           0.16220   \n",
       "1    ...          23.41           158.80      1956.0           0.12380   \n",
       "2    ...          25.53           152.50      1709.0           0.14440   \n",
       "3    ...          26.50            98.87       567.7           0.20980   \n",
       "4    ...          16.67           152.20      1575.0           0.13740   \n",
       "..   ...            ...              ...         ...               ...   \n",
       "564  ...          26.40           166.10      2027.0           0.14100   \n",
       "565  ...          38.25           155.00      1731.0           0.11660   \n",
       "566  ...          34.12           126.70      1124.0           0.11390   \n",
       "567  ...          39.42           184.60      1821.0           0.16500   \n",
       "568  ...          30.37            59.16       268.6           0.08996   \n",
       "\n",
       "     compactness_worst  concavity_worst  concave points_worst  symmetry_worst  \\\n",
       "0              0.66560           0.7119                0.2654          0.4601   \n",
       "1              0.18660           0.2416                0.1860          0.2750   \n",
       "2              0.42450           0.4504                0.2430          0.3613   \n",
       "3              0.86630           0.6869                0.2575          0.6638   \n",
       "4              0.20500           0.4000                0.1625          0.2364   \n",
       "..                 ...              ...                   ...             ...   \n",
       "564            0.21130           0.4107                0.2216          0.2060   \n",
       "565            0.19220           0.3215                0.1628          0.2572   \n",
       "566            0.30940           0.3403                0.1418          0.2218   \n",
       "567            0.86810           0.9387                0.2650          0.4087   \n",
       "568            0.06444           0.0000                0.0000          0.2871   \n",
       "\n",
       "     fractal_dimension_worst  Unnamed: 32  \n",
       "0                    0.11890          NaN  \n",
       "1                    0.08902          NaN  \n",
       "2                    0.08758          NaN  \n",
       "3                    0.17300          NaN  \n",
       "4                    0.07678          NaN  \n",
       "..                       ...          ...  \n",
       "564                  0.07115          NaN  \n",
       "565                  0.06637          NaN  \n",
       "566                  0.07820          NaN  \n",
       "567                  0.12400          NaN  \n",
       "568                  0.07039          NaN  \n",
       "\n",
       "[569 rows x 33 columns]"
      ]
     },
     "execution_count": 128,
     "metadata": {},
     "output_type": "execute_result"
    }
   ],
   "source": [
    "cancer_df"
   ]
  },
  {
   "cell_type": "code",
   "execution_count": 129,
   "id": "c2bf5226",
   "metadata": {},
   "outputs": [
    {
     "data": {
      "text/html": [
       "<div>\n",
       "<style scoped>\n",
       "    .dataframe tbody tr th:only-of-type {\n",
       "        vertical-align: middle;\n",
       "    }\n",
       "\n",
       "    .dataframe tbody tr th {\n",
       "        vertical-align: top;\n",
       "    }\n",
       "\n",
       "    .dataframe thead th {\n",
       "        text-align: right;\n",
       "    }\n",
       "</style>\n",
       "<table border=\"1\" class=\"dataframe\">\n",
       "  <thead>\n",
       "    <tr style=\"text-align: right;\">\n",
       "      <th></th>\n",
       "      <th>id</th>\n",
       "      <th>diagnosis</th>\n",
       "      <th>radius_mean</th>\n",
       "      <th>texture_mean</th>\n",
       "      <th>perimeter_mean</th>\n",
       "      <th>area_mean</th>\n",
       "      <th>smoothness_mean</th>\n",
       "      <th>compactness_mean</th>\n",
       "      <th>concavity_mean</th>\n",
       "      <th>concave points_mean</th>\n",
       "      <th>...</th>\n",
       "      <th>radius_worst</th>\n",
       "      <th>texture_worst</th>\n",
       "      <th>perimeter_worst</th>\n",
       "      <th>area_worst</th>\n",
       "      <th>smoothness_worst</th>\n",
       "      <th>compactness_worst</th>\n",
       "      <th>concavity_worst</th>\n",
       "      <th>concave points_worst</th>\n",
       "      <th>symmetry_worst</th>\n",
       "      <th>fractal_dimension_worst</th>\n",
       "    </tr>\n",
       "  </thead>\n",
       "  <tbody>\n",
       "    <tr>\n",
       "      <th>0</th>\n",
       "      <td>842302</td>\n",
       "      <td>M</td>\n",
       "      <td>17.99</td>\n",
       "      <td>10.38</td>\n",
       "      <td>122.80</td>\n",
       "      <td>1001.0</td>\n",
       "      <td>0.11840</td>\n",
       "      <td>0.27760</td>\n",
       "      <td>0.30010</td>\n",
       "      <td>0.14710</td>\n",
       "      <td>...</td>\n",
       "      <td>25.380</td>\n",
       "      <td>17.33</td>\n",
       "      <td>184.60</td>\n",
       "      <td>2019.0</td>\n",
       "      <td>0.16220</td>\n",
       "      <td>0.66560</td>\n",
       "      <td>0.7119</td>\n",
       "      <td>0.2654</td>\n",
       "      <td>0.4601</td>\n",
       "      <td>0.11890</td>\n",
       "    </tr>\n",
       "    <tr>\n",
       "      <th>1</th>\n",
       "      <td>842517</td>\n",
       "      <td>M</td>\n",
       "      <td>20.57</td>\n",
       "      <td>17.77</td>\n",
       "      <td>132.90</td>\n",
       "      <td>1326.0</td>\n",
       "      <td>0.08474</td>\n",
       "      <td>0.07864</td>\n",
       "      <td>0.08690</td>\n",
       "      <td>0.07017</td>\n",
       "      <td>...</td>\n",
       "      <td>24.990</td>\n",
       "      <td>23.41</td>\n",
       "      <td>158.80</td>\n",
       "      <td>1956.0</td>\n",
       "      <td>0.12380</td>\n",
       "      <td>0.18660</td>\n",
       "      <td>0.2416</td>\n",
       "      <td>0.1860</td>\n",
       "      <td>0.2750</td>\n",
       "      <td>0.08902</td>\n",
       "    </tr>\n",
       "    <tr>\n",
       "      <th>2</th>\n",
       "      <td>84300903</td>\n",
       "      <td>M</td>\n",
       "      <td>19.69</td>\n",
       "      <td>21.25</td>\n",
       "      <td>130.00</td>\n",
       "      <td>1203.0</td>\n",
       "      <td>0.10960</td>\n",
       "      <td>0.15990</td>\n",
       "      <td>0.19740</td>\n",
       "      <td>0.12790</td>\n",
       "      <td>...</td>\n",
       "      <td>23.570</td>\n",
       "      <td>25.53</td>\n",
       "      <td>152.50</td>\n",
       "      <td>1709.0</td>\n",
       "      <td>0.14440</td>\n",
       "      <td>0.42450</td>\n",
       "      <td>0.4504</td>\n",
       "      <td>0.2430</td>\n",
       "      <td>0.3613</td>\n",
       "      <td>0.08758</td>\n",
       "    </tr>\n",
       "    <tr>\n",
       "      <th>3</th>\n",
       "      <td>84348301</td>\n",
       "      <td>M</td>\n",
       "      <td>11.42</td>\n",
       "      <td>20.38</td>\n",
       "      <td>77.58</td>\n",
       "      <td>386.1</td>\n",
       "      <td>0.14250</td>\n",
       "      <td>0.28390</td>\n",
       "      <td>0.24140</td>\n",
       "      <td>0.10520</td>\n",
       "      <td>...</td>\n",
       "      <td>14.910</td>\n",
       "      <td>26.50</td>\n",
       "      <td>98.87</td>\n",
       "      <td>567.7</td>\n",
       "      <td>0.20980</td>\n",
       "      <td>0.86630</td>\n",
       "      <td>0.6869</td>\n",
       "      <td>0.2575</td>\n",
       "      <td>0.6638</td>\n",
       "      <td>0.17300</td>\n",
       "    </tr>\n",
       "    <tr>\n",
       "      <th>4</th>\n",
       "      <td>84358402</td>\n",
       "      <td>M</td>\n",
       "      <td>20.29</td>\n",
       "      <td>14.34</td>\n",
       "      <td>135.10</td>\n",
       "      <td>1297.0</td>\n",
       "      <td>0.10030</td>\n",
       "      <td>0.13280</td>\n",
       "      <td>0.19800</td>\n",
       "      <td>0.10430</td>\n",
       "      <td>...</td>\n",
       "      <td>22.540</td>\n",
       "      <td>16.67</td>\n",
       "      <td>152.20</td>\n",
       "      <td>1575.0</td>\n",
       "      <td>0.13740</td>\n",
       "      <td>0.20500</td>\n",
       "      <td>0.4000</td>\n",
       "      <td>0.1625</td>\n",
       "      <td>0.2364</td>\n",
       "      <td>0.07678</td>\n",
       "    </tr>\n",
       "    <tr>\n",
       "      <th>...</th>\n",
       "      <td>...</td>\n",
       "      <td>...</td>\n",
       "      <td>...</td>\n",
       "      <td>...</td>\n",
       "      <td>...</td>\n",
       "      <td>...</td>\n",
       "      <td>...</td>\n",
       "      <td>...</td>\n",
       "      <td>...</td>\n",
       "      <td>...</td>\n",
       "      <td>...</td>\n",
       "      <td>...</td>\n",
       "      <td>...</td>\n",
       "      <td>...</td>\n",
       "      <td>...</td>\n",
       "      <td>...</td>\n",
       "      <td>...</td>\n",
       "      <td>...</td>\n",
       "      <td>...</td>\n",
       "      <td>...</td>\n",
       "      <td>...</td>\n",
       "    </tr>\n",
       "    <tr>\n",
       "      <th>564</th>\n",
       "      <td>926424</td>\n",
       "      <td>M</td>\n",
       "      <td>21.56</td>\n",
       "      <td>22.39</td>\n",
       "      <td>142.00</td>\n",
       "      <td>1479.0</td>\n",
       "      <td>0.11100</td>\n",
       "      <td>0.11590</td>\n",
       "      <td>0.24390</td>\n",
       "      <td>0.13890</td>\n",
       "      <td>...</td>\n",
       "      <td>25.450</td>\n",
       "      <td>26.40</td>\n",
       "      <td>166.10</td>\n",
       "      <td>2027.0</td>\n",
       "      <td>0.14100</td>\n",
       "      <td>0.21130</td>\n",
       "      <td>0.4107</td>\n",
       "      <td>0.2216</td>\n",
       "      <td>0.2060</td>\n",
       "      <td>0.07115</td>\n",
       "    </tr>\n",
       "    <tr>\n",
       "      <th>565</th>\n",
       "      <td>926682</td>\n",
       "      <td>M</td>\n",
       "      <td>20.13</td>\n",
       "      <td>28.25</td>\n",
       "      <td>131.20</td>\n",
       "      <td>1261.0</td>\n",
       "      <td>0.09780</td>\n",
       "      <td>0.10340</td>\n",
       "      <td>0.14400</td>\n",
       "      <td>0.09791</td>\n",
       "      <td>...</td>\n",
       "      <td>23.690</td>\n",
       "      <td>38.25</td>\n",
       "      <td>155.00</td>\n",
       "      <td>1731.0</td>\n",
       "      <td>0.11660</td>\n",
       "      <td>0.19220</td>\n",
       "      <td>0.3215</td>\n",
       "      <td>0.1628</td>\n",
       "      <td>0.2572</td>\n",
       "      <td>0.06637</td>\n",
       "    </tr>\n",
       "    <tr>\n",
       "      <th>566</th>\n",
       "      <td>926954</td>\n",
       "      <td>M</td>\n",
       "      <td>16.60</td>\n",
       "      <td>28.08</td>\n",
       "      <td>108.30</td>\n",
       "      <td>858.1</td>\n",
       "      <td>0.08455</td>\n",
       "      <td>0.10230</td>\n",
       "      <td>0.09251</td>\n",
       "      <td>0.05302</td>\n",
       "      <td>...</td>\n",
       "      <td>18.980</td>\n",
       "      <td>34.12</td>\n",
       "      <td>126.70</td>\n",
       "      <td>1124.0</td>\n",
       "      <td>0.11390</td>\n",
       "      <td>0.30940</td>\n",
       "      <td>0.3403</td>\n",
       "      <td>0.1418</td>\n",
       "      <td>0.2218</td>\n",
       "      <td>0.07820</td>\n",
       "    </tr>\n",
       "    <tr>\n",
       "      <th>567</th>\n",
       "      <td>927241</td>\n",
       "      <td>M</td>\n",
       "      <td>20.60</td>\n",
       "      <td>29.33</td>\n",
       "      <td>140.10</td>\n",
       "      <td>1265.0</td>\n",
       "      <td>0.11780</td>\n",
       "      <td>0.27700</td>\n",
       "      <td>0.35140</td>\n",
       "      <td>0.15200</td>\n",
       "      <td>...</td>\n",
       "      <td>25.740</td>\n",
       "      <td>39.42</td>\n",
       "      <td>184.60</td>\n",
       "      <td>1821.0</td>\n",
       "      <td>0.16500</td>\n",
       "      <td>0.86810</td>\n",
       "      <td>0.9387</td>\n",
       "      <td>0.2650</td>\n",
       "      <td>0.4087</td>\n",
       "      <td>0.12400</td>\n",
       "    </tr>\n",
       "    <tr>\n",
       "      <th>568</th>\n",
       "      <td>92751</td>\n",
       "      <td>B</td>\n",
       "      <td>7.76</td>\n",
       "      <td>24.54</td>\n",
       "      <td>47.92</td>\n",
       "      <td>181.0</td>\n",
       "      <td>0.05263</td>\n",
       "      <td>0.04362</td>\n",
       "      <td>0.00000</td>\n",
       "      <td>0.00000</td>\n",
       "      <td>...</td>\n",
       "      <td>9.456</td>\n",
       "      <td>30.37</td>\n",
       "      <td>59.16</td>\n",
       "      <td>268.6</td>\n",
       "      <td>0.08996</td>\n",
       "      <td>0.06444</td>\n",
       "      <td>0.0000</td>\n",
       "      <td>0.0000</td>\n",
       "      <td>0.2871</td>\n",
       "      <td>0.07039</td>\n",
       "    </tr>\n",
       "  </tbody>\n",
       "</table>\n",
       "<p>569 rows × 32 columns</p>\n",
       "</div>"
      ],
      "text/plain": [
       "           id diagnosis  radius_mean  texture_mean  perimeter_mean  area_mean  \\\n",
       "0      842302         M        17.99         10.38          122.80     1001.0   \n",
       "1      842517         M        20.57         17.77          132.90     1326.0   \n",
       "2    84300903         M        19.69         21.25          130.00     1203.0   \n",
       "3    84348301         M        11.42         20.38           77.58      386.1   \n",
       "4    84358402         M        20.29         14.34          135.10     1297.0   \n",
       "..        ...       ...          ...           ...             ...        ...   \n",
       "564    926424         M        21.56         22.39          142.00     1479.0   \n",
       "565    926682         M        20.13         28.25          131.20     1261.0   \n",
       "566    926954         M        16.60         28.08          108.30      858.1   \n",
       "567    927241         M        20.60         29.33          140.10     1265.0   \n",
       "568     92751         B         7.76         24.54           47.92      181.0   \n",
       "\n",
       "     smoothness_mean  compactness_mean  concavity_mean  concave points_mean  \\\n",
       "0            0.11840           0.27760         0.30010              0.14710   \n",
       "1            0.08474           0.07864         0.08690              0.07017   \n",
       "2            0.10960           0.15990         0.19740              0.12790   \n",
       "3            0.14250           0.28390         0.24140              0.10520   \n",
       "4            0.10030           0.13280         0.19800              0.10430   \n",
       "..               ...               ...             ...                  ...   \n",
       "564          0.11100           0.11590         0.24390              0.13890   \n",
       "565          0.09780           0.10340         0.14400              0.09791   \n",
       "566          0.08455           0.10230         0.09251              0.05302   \n",
       "567          0.11780           0.27700         0.35140              0.15200   \n",
       "568          0.05263           0.04362         0.00000              0.00000   \n",
       "\n",
       "     ...  radius_worst  texture_worst  perimeter_worst  area_worst  \\\n",
       "0    ...        25.380          17.33           184.60      2019.0   \n",
       "1    ...        24.990          23.41           158.80      1956.0   \n",
       "2    ...        23.570          25.53           152.50      1709.0   \n",
       "3    ...        14.910          26.50            98.87       567.7   \n",
       "4    ...        22.540          16.67           152.20      1575.0   \n",
       "..   ...           ...            ...              ...         ...   \n",
       "564  ...        25.450          26.40           166.10      2027.0   \n",
       "565  ...        23.690          38.25           155.00      1731.0   \n",
       "566  ...        18.980          34.12           126.70      1124.0   \n",
       "567  ...        25.740          39.42           184.60      1821.0   \n",
       "568  ...         9.456          30.37            59.16       268.6   \n",
       "\n",
       "     smoothness_worst  compactness_worst  concavity_worst  \\\n",
       "0             0.16220            0.66560           0.7119   \n",
       "1             0.12380            0.18660           0.2416   \n",
       "2             0.14440            0.42450           0.4504   \n",
       "3             0.20980            0.86630           0.6869   \n",
       "4             0.13740            0.20500           0.4000   \n",
       "..                ...                ...              ...   \n",
       "564           0.14100            0.21130           0.4107   \n",
       "565           0.11660            0.19220           0.3215   \n",
       "566           0.11390            0.30940           0.3403   \n",
       "567           0.16500            0.86810           0.9387   \n",
       "568           0.08996            0.06444           0.0000   \n",
       "\n",
       "     concave points_worst  symmetry_worst  fractal_dimension_worst  \n",
       "0                  0.2654          0.4601                  0.11890  \n",
       "1                  0.1860          0.2750                  0.08902  \n",
       "2                  0.2430          0.3613                  0.08758  \n",
       "3                  0.2575          0.6638                  0.17300  \n",
       "4                  0.1625          0.2364                  0.07678  \n",
       "..                    ...             ...                      ...  \n",
       "564                0.2216          0.2060                  0.07115  \n",
       "565                0.1628          0.2572                  0.06637  \n",
       "566                0.1418          0.2218                  0.07820  \n",
       "567                0.2650          0.4087                  0.12400  \n",
       "568                0.0000          0.2871                  0.07039  \n",
       "\n",
       "[569 rows x 32 columns]"
      ]
     },
     "execution_count": 129,
     "metadata": {},
     "output_type": "execute_result"
    }
   ],
   "source": [
    "cancer_df.drop('Unnamed: 32', axis=1, inplace=True)\n",
    "cancer_df"
   ]
  },
  {
   "cell_type": "code",
   "execution_count": 130,
   "id": "bdf38b9b",
   "metadata": {},
   "outputs": [],
   "source": [
    "## ・diagnosis: 診断結果 (良性がB / 悪性がM) ・説明変数は3列以降、目的変数を2列目としロジスティック回帰で分類"
   ]
  },
  {
   "cell_type": "code",
   "execution_count": 131,
   "id": "ad8ae50d",
   "metadata": {
    "scrolled": false
   },
   "outputs": [
    {
     "name": "stderr",
     "output_type": "stream",
     "text": [
      "D:\\anaconda\\lib\\site-packages\\sklearn\\linear_model\\_logistic.py:763: ConvergenceWarning: lbfgs failed to converge (status=1):\n",
      "STOP: TOTAL NO. of ITERATIONS REACHED LIMIT.\n",
      "\n",
      "Increase the number of iterations (max_iter) or scale the data as shown in:\n",
      "    https://scikit-learn.org/stable/modules/preprocessing.html\n",
      "Please also refer to the documentation for alternative solver options:\n",
      "    https://scikit-learn.org/stable/modules/linear_model.html#logistic-regression\n",
      "  n_iter_i = _check_optimize_result(\n",
      "D:\\anaconda\\lib\\site-packages\\sklearn\\linear_model\\_logistic.py:763: ConvergenceWarning: lbfgs failed to converge (status=1):\n",
      "STOP: TOTAL NO. of ITERATIONS REACHED LIMIT.\n",
      "\n",
      "Increase the number of iterations (max_iter) or scale the data as shown in:\n",
      "    https://scikit-learn.org/stable/modules/preprocessing.html\n",
      "Please also refer to the documentation for alternative solver options:\n",
      "    https://scikit-learn.org/stable/modules/linear_model.html#logistic-regression\n",
      "  n_iter_i = _check_optimize_result(\n",
      "D:\\anaconda\\lib\\site-packages\\sklearn\\linear_model\\_logistic.py:763: ConvergenceWarning: lbfgs failed to converge (status=1):\n",
      "STOP: TOTAL NO. of ITERATIONS REACHED LIMIT.\n",
      "\n",
      "Increase the number of iterations (max_iter) or scale the data as shown in:\n",
      "    https://scikit-learn.org/stable/modules/preprocessing.html\n",
      "Please also refer to the documentation for alternative solver options:\n",
      "    https://scikit-learn.org/stable/modules/linear_model.html#logistic-regression\n",
      "  n_iter_i = _check_optimize_result(\n",
      "D:\\anaconda\\lib\\site-packages\\sklearn\\linear_model\\_logistic.py:763: ConvergenceWarning: lbfgs failed to converge (status=1):\n",
      "STOP: TOTAL NO. of ITERATIONS REACHED LIMIT.\n",
      "\n",
      "Increase the number of iterations (max_iter) or scale the data as shown in:\n",
      "    https://scikit-learn.org/stable/modules/preprocessing.html\n",
      "Please also refer to the documentation for alternative solver options:\n",
      "    https://scikit-learn.org/stable/modules/linear_model.html#logistic-regression\n",
      "  n_iter_i = _check_optimize_result(\n",
      "D:\\anaconda\\lib\\site-packages\\sklearn\\linear_model\\_logistic.py:763: ConvergenceWarning: lbfgs failed to converge (status=1):\n",
      "STOP: TOTAL NO. of ITERATIONS REACHED LIMIT.\n",
      "\n",
      "Increase the number of iterations (max_iter) or scale the data as shown in:\n",
      "    https://scikit-learn.org/stable/modules/preprocessing.html\n",
      "Please also refer to the documentation for alternative solver options:\n",
      "    https://scikit-learn.org/stable/modules/linear_model.html#logistic-regression\n",
      "  n_iter_i = _check_optimize_result(\n",
      "D:\\anaconda\\lib\\site-packages\\sklearn\\linear_model\\_logistic.py:763: ConvergenceWarning: lbfgs failed to converge (status=1):\n",
      "STOP: TOTAL NO. of ITERATIONS REACHED LIMIT.\n",
      "\n",
      "Increase the number of iterations (max_iter) or scale the data as shown in:\n",
      "    https://scikit-learn.org/stable/modules/preprocessing.html\n",
      "Please also refer to the documentation for alternative solver options:\n",
      "    https://scikit-learn.org/stable/modules/linear_model.html#logistic-regression\n",
      "  n_iter_i = _check_optimize_result(\n",
      "D:\\anaconda\\lib\\site-packages\\sklearn\\linear_model\\_logistic.py:763: ConvergenceWarning: lbfgs failed to converge (status=1):\n",
      "STOP: TOTAL NO. of ITERATIONS REACHED LIMIT.\n",
      "\n",
      "Increase the number of iterations (max_iter) or scale the data as shown in:\n",
      "    https://scikit-learn.org/stable/modules/preprocessing.html\n",
      "Please also refer to the documentation for alternative solver options:\n",
      "    https://scikit-learn.org/stable/modules/linear_model.html#logistic-regression\n",
      "  n_iter_i = _check_optimize_result(\n",
      "D:\\anaconda\\lib\\site-packages\\sklearn\\linear_model\\_logistic.py:763: ConvergenceWarning: lbfgs failed to converge (status=1):\n",
      "STOP: TOTAL NO. of ITERATIONS REACHED LIMIT.\n",
      "\n",
      "Increase the number of iterations (max_iter) or scale the data as shown in:\n",
      "    https://scikit-learn.org/stable/modules/preprocessing.html\n",
      "Please also refer to the documentation for alternative solver options:\n",
      "    https://scikit-learn.org/stable/modules/linear_model.html#logistic-regression\n",
      "  n_iter_i = _check_optimize_result(\n",
      "D:\\anaconda\\lib\\site-packages\\sklearn\\linear_model\\_logistic.py:763: ConvergenceWarning: lbfgs failed to converge (status=1):\n",
      "STOP: TOTAL NO. of ITERATIONS REACHED LIMIT.\n",
      "\n",
      "Increase the number of iterations (max_iter) or scale the data as shown in:\n",
      "    https://scikit-learn.org/stable/modules/preprocessing.html\n",
      "Please also refer to the documentation for alternative solver options:\n",
      "    https://scikit-learn.org/stable/modules/linear_model.html#logistic-regression\n",
      "  n_iter_i = _check_optimize_result(\n",
      "D:\\anaconda\\lib\\site-packages\\sklearn\\linear_model\\_logistic.py:763: ConvergenceWarning: lbfgs failed to converge (status=1):\n",
      "STOP: TOTAL NO. of ITERATIONS REACHED LIMIT.\n",
      "\n",
      "Increase the number of iterations (max_iter) or scale the data as shown in:\n",
      "    https://scikit-learn.org/stable/modules/preprocessing.html\n",
      "Please also refer to the documentation for alternative solver options:\n",
      "    https://scikit-learn.org/stable/modules/linear_model.html#logistic-regression\n",
      "  n_iter_i = _check_optimize_result(\n",
      "D:\\anaconda\\lib\\site-packages\\sklearn\\linear_model\\_logistic.py:763: ConvergenceWarning: lbfgs failed to converge (status=1):\n",
      "STOP: TOTAL NO. of ITERATIONS REACHED LIMIT.\n",
      "\n",
      "Increase the number of iterations (max_iter) or scale the data as shown in:\n",
      "    https://scikit-learn.org/stable/modules/preprocessing.html\n",
      "Please also refer to the documentation for alternative solver options:\n",
      "    https://scikit-learn.org/stable/modules/linear_model.html#logistic-regression\n",
      "  n_iter_i = _check_optimize_result(\n",
      "D:\\anaconda\\lib\\site-packages\\sklearn\\linear_model\\_logistic.py:763: ConvergenceWarning: lbfgs failed to converge (status=1):\n",
      "STOP: TOTAL NO. of ITERATIONS REACHED LIMIT.\n",
      "\n",
      "Increase the number of iterations (max_iter) or scale the data as shown in:\n",
      "    https://scikit-learn.org/stable/modules/preprocessing.html\n",
      "Please also refer to the documentation for alternative solver options:\n",
      "    https://scikit-learn.org/stable/modules/linear_model.html#logistic-regression\n",
      "  n_iter_i = _check_optimize_result(\n",
      "D:\\anaconda\\lib\\site-packages\\sklearn\\linear_model\\_logistic.py:763: ConvergenceWarning: lbfgs failed to converge (status=1):\n",
      "STOP: TOTAL NO. of ITERATIONS REACHED LIMIT.\n",
      "\n",
      "Increase the number of iterations (max_iter) or scale the data as shown in:\n",
      "    https://scikit-learn.org/stable/modules/preprocessing.html\n",
      "Please also refer to the documentation for alternative solver options:\n",
      "    https://scikit-learn.org/stable/modules/linear_model.html#logistic-regression\n",
      "  n_iter_i = _check_optimize_result(\n",
      "D:\\anaconda\\lib\\site-packages\\sklearn\\linear_model\\_logistic.py:763: ConvergenceWarning: lbfgs failed to converge (status=1):\n",
      "STOP: TOTAL NO. of ITERATIONS REACHED LIMIT.\n",
      "\n",
      "Increase the number of iterations (max_iter) or scale the data as shown in:\n",
      "    https://scikit-learn.org/stable/modules/preprocessing.html\n",
      "Please also refer to the documentation for alternative solver options:\n",
      "    https://scikit-learn.org/stable/modules/linear_model.html#logistic-regression\n",
      "  n_iter_i = _check_optimize_result(\n",
      "D:\\anaconda\\lib\\site-packages\\sklearn\\linear_model\\_logistic.py:763: ConvergenceWarning: lbfgs failed to converge (status=1):\n",
      "STOP: TOTAL NO. of ITERATIONS REACHED LIMIT.\n",
      "\n",
      "Increase the number of iterations (max_iter) or scale the data as shown in:\n",
      "    https://scikit-learn.org/stable/modules/preprocessing.html\n",
      "Please also refer to the documentation for alternative solver options:\n",
      "    https://scikit-learn.org/stable/modules/linear_model.html#logistic-regression\n",
      "  n_iter_i = _check_optimize_result(\n",
      "D:\\anaconda\\lib\\site-packages\\sklearn\\linear_model\\_logistic.py:763: ConvergenceWarning: lbfgs failed to converge (status=1):\n",
      "STOP: TOTAL NO. of ITERATIONS REACHED LIMIT.\n",
      "\n",
      "Increase the number of iterations (max_iter) or scale the data as shown in:\n",
      "    https://scikit-learn.org/stable/modules/preprocessing.html\n",
      "Please also refer to the documentation for alternative solver options:\n",
      "    https://scikit-learn.org/stable/modules/linear_model.html#logistic-regression\n",
      "  n_iter_i = _check_optimize_result(\n",
      "D:\\anaconda\\lib\\site-packages\\sklearn\\linear_model\\_logistic.py:763: ConvergenceWarning: lbfgs failed to converge (status=1):\n",
      "STOP: TOTAL NO. of ITERATIONS REACHED LIMIT.\n",
      "\n",
      "Increase the number of iterations (max_iter) or scale the data as shown in:\n",
      "    https://scikit-learn.org/stable/modules/preprocessing.html\n",
      "Please also refer to the documentation for alternative solver options:\n",
      "    https://scikit-learn.org/stable/modules/linear_model.html#logistic-regression\n",
      "  n_iter_i = _check_optimize_result(\n",
      "D:\\anaconda\\lib\\site-packages\\sklearn\\linear_model\\_logistic.py:763: ConvergenceWarning: lbfgs failed to converge (status=1):\n",
      "STOP: TOTAL NO. of ITERATIONS REACHED LIMIT.\n",
      "\n",
      "Increase the number of iterations (max_iter) or scale the data as shown in:\n",
      "    https://scikit-learn.org/stable/modules/preprocessing.html\n",
      "Please also refer to the documentation for alternative solver options:\n",
      "    https://scikit-learn.org/stable/modules/linear_model.html#logistic-regression\n",
      "  n_iter_i = _check_optimize_result(\n",
      "D:\\anaconda\\lib\\site-packages\\sklearn\\linear_model\\_logistic.py:763: ConvergenceWarning: lbfgs failed to converge (status=1):\n",
      "STOP: TOTAL NO. of ITERATIONS REACHED LIMIT.\n",
      "\n",
      "Increase the number of iterations (max_iter) or scale the data as shown in:\n",
      "    https://scikit-learn.org/stable/modules/preprocessing.html\n",
      "Please also refer to the documentation for alternative solver options:\n",
      "    https://scikit-learn.org/stable/modules/linear_model.html#logistic-regression\n",
      "  n_iter_i = _check_optimize_result(\n",
      "D:\\anaconda\\lib\\site-packages\\sklearn\\linear_model\\_logistic.py:763: ConvergenceWarning: lbfgs failed to converge (status=1):\n",
      "STOP: TOTAL NO. of ITERATIONS REACHED LIMIT.\n",
      "\n",
      "Increase the number of iterations (max_iter) or scale the data as shown in:\n",
      "    https://scikit-learn.org/stable/modules/preprocessing.html\n",
      "Please also refer to the documentation for alternative solver options:\n",
      "    https://scikit-learn.org/stable/modules/linear_model.html#logistic-regression\n",
      "  n_iter_i = _check_optimize_result(\n",
      "D:\\anaconda\\lib\\site-packages\\sklearn\\linear_model\\_logistic.py:763: ConvergenceWarning: lbfgs failed to converge (status=1):\n",
      "STOP: TOTAL NO. of ITERATIONS REACHED LIMIT.\n",
      "\n",
      "Increase the number of iterations (max_iter) or scale the data as shown in:\n",
      "    https://scikit-learn.org/stable/modules/preprocessing.html\n",
      "Please also refer to the documentation for alternative solver options:\n",
      "    https://scikit-learn.org/stable/modules/linear_model.html#logistic-regression\n",
      "  n_iter_i = _check_optimize_result(\n"
     ]
    },
    {
     "name": "stdout",
     "output_type": "stream",
     "text": [
      "Train score: 0.988\n",
      "Test score: 0.972\n",
      "Confustion matrix:\n",
      "[[89  1]\n",
      " [ 3 50]]\n"
     ]
    }
   ],
   "source": [
    "# 目的変数の抽出\n",
    "y = cancer_df.diagnosis.apply(lambda d: 1 if d == 'M' else 0)\n",
    "# 説明変数の抽出\n",
    "X = cancer_df.loc[:, 'radius_mean':]\n",
    "# 学習用とテスト用でデータを分離\n",
    "X_train, X_test, y_train, y_test = train_test_split(X, y, random_state=0)\n",
    "\n",
    "# 標準化\n",
    "scaler = StandardScaler()\n",
    "X_train_scaled = scaler.fit_transform(X_train)\n",
    "X_test_scaled = scaler.transform(X_test)\n",
    "\n",
    "# ロジスティック回帰で学習\n",
    "logistic = LogisticRegressionCV(cv=10, random_state=0)\n",
    "logistic.fit(X_train_scaled, y_train)\n",
    "\n",
    "# 検証\n",
    "print('Train score: {:.3f}'.format(logistic.score(X_train_scaled, y_train)))\n",
    "print('Test score: {:.3f}'.format(logistic.score(X_test_scaled, y_test)))\n",
    "print('Confustion matrix:\\n{}'.format(confusion_matrix(y_true=y_test, y_pred=logistic.predict(X_test_scaled))))"
   ]
  },
  {
   "cell_type": "code",
   "execution_count": 132,
   "id": "e32f7893",
   "metadata": {},
   "outputs": [
    {
     "data": {
      "text/plain": [
       "<BarContainer object of 30 artists>"
      ]
     },
     "execution_count": 132,
     "metadata": {},
     "output_type": "execute_result"
    },
    {
     "data": {
      "image/png": "[encoded data removed]",
      "text/plain": [
       "<Figure size 432x288 with 1 Axes>"
      ]
     },
     "metadata": {},
     "output_type": "display_data"
    }
   ],
   "source": [
    "## ・検証スコア97%で分類できることを確認\n",
    "pca = PCA(n_components=30)\n",
    "pca.fit(X_train_scaled)\n",
    "plt.bar([n for n in range(1, len(pca.explained_variance_ratio_)+1)], pca.explained_variance_ratio_)"
   ]
  },
  {
   "cell_type": "code",
   "execution_count": 133,
   "id": "64365608",
   "metadata": {},
   "outputs": [
    {
     "name": "stdout",
     "output_type": "stream",
     "text": [
      "X_train_pca shape: (426, 2)\n",
      "explained variance ratio: [0.43315126 0.19586506]\n"
     ]
    },
    {
     "data": {
      "text/plain": [
       "Text(0, 0.5, 'PC 2')"
      ]
     },
     "execution_count": 133,
     "metadata": {},
     "output_type": "execute_result"
    },
    {
     "data": {
      "image/png": "[encoded data removed]",
      "text/plain": [
       "<Figure size 432x288 with 1 Axes>"
      ]
     },
     "metadata": {},
     "output_type": "display_data"
    }
   ],
   "source": [
    "# PCA\n",
    "# 次元数2まで圧縮\n",
    "pca = PCA(n_components=2)\n",
    "X_train_pca = pca.fit_transform(X_train_scaled)\n",
    "print('X_train_pca shape: {}'.format(X_train_pca.shape))\n",
    "# X_train_pca shape: (426, 2)\n",
    "\n",
    "# 寄与率\n",
    "print('explained variance ratio: {}'.format(pca.explained_variance_ratio_))\n",
    "# explained variance ratio: [ 0.43315126  0.19586506]\n",
    "\n",
    "# 散布図にプロット\n",
    "temp = pd.DataFrame(X_train_pca)\n",
    "temp['Outcome'] = y_train.values\n",
    "b = temp[temp['Outcome'] == 0]\n",
    "m = temp[temp['Outcome'] == 1]\n",
    "plt.scatter(x=b[0], y=b[1], marker='o') # 良性は○でマーク\n",
    "plt.scatter(x=m[0], y=m[1], marker='^') # 悪性は△でマーク\n",
    "plt.xlabel('PC 1') # 第1主成分をx軸\n",
    "plt.ylabel('PC 2') # 第2主成分をy軸"
   ]
  },
  {
   "cell_type": "markdown",
   "id": "a20fd9d9",
   "metadata": {},
   "source": [
    "## 5.K近傍法"
   ]
  },
  {
   "cell_type": "markdown",
   "id": "52ccb19f",
   "metadata": {},
   "source": [
    "### K近傍法ハンズオン"
   ]
  },
  {
   "cell_type": "code",
   "execution_count": 144,
   "id": "34e7c323",
   "metadata": {},
   "outputs": [
    {
     "name": "stdout",
     "output_type": "stream",
     "text": [
      "Requirement already satisfied: pandas in d:\\anaconda\\lib\\site-packages (1.2.4)\n",
      "Requirement already satisfied: pytz>=2017.3 in d:\\anaconda\\lib\\site-packages (from pandas) (2021.1)\n",
      "Requirement already satisfied: numpy>=1.16.5 in d:\\anaconda\\lib\\site-packages (from pandas) (1.19.5)\n",
      "Requirement already satisfied: python-dateutil>=2.7.3 in d:\\anaconda\\lib\\site-packages (from pandas) (2.8.1)\n",
      "Requirement already satisfied: six>=1.5 in d:\\anaconda\\lib\\site-packages (from python-dateutil>=2.7.3->pandas) (1.15.0)\n"
     ]
    }
   ],
   "source": [
    "!pip3 install pandas\n",
    "import numpy as np\n",
    "import pandas as pd\n",
    "import matplotlib.pyplot as plt\n",
    "from sklearn import cluster, preprocessing, datasets\n",
    "\n",
    "from sklearn.cluster import KMeans"
   ]
  },
  {
   "cell_type": "code",
   "execution_count": 145,
   "id": "361ad8dd",
   "metadata": {},
   "outputs": [],
   "source": [
    "wine = datasets.load_wine()"
   ]
  },
  {
   "cell_type": "code",
   "execution_count": 146,
   "id": "972b3e12",
   "metadata": {},
   "outputs": [
    {
     "data": {
      "text/plain": [
       "(178, 13)"
      ]
     },
     "execution_count": 146,
     "metadata": {},
     "output_type": "execute_result"
    }
   ],
   "source": [
    "X = wine.data\n",
    "X.shape"
   ]
  },
  {
   "cell_type": "code",
   "execution_count": 159,
   "id": "5624b2bc",
   "metadata": {},
   "outputs": [
    {
     "data": {
      "text/plain": [
       "array(['class_0', 'class_1', 'class_2'], dtype='<U7')"
      ]
     },
     "execution_count": 159,
     "metadata": {},
     "output_type": "execute_result"
    }
   ],
   "source": [
    "wine.target_names"
   ]
  },
  {
   "cell_type": "code",
   "execution_count": 161,
   "id": "a4404675",
   "metadata": {
    "scrolled": true
   },
   "outputs": [
    {
     "ename": "TypeError",
     "evalue": "Set type is unordered",
     "output_type": "error",
     "traceback": [
      "\u001b[1;31m---------------------------------------------------------------------------\u001b[0m",
      "\u001b[1;31mTypeError\u001b[0m                                 Traceback (most recent call last)",
      "\u001b[1;32m<ipython-input-161-3c8b98caef2d>\u001b[0m in \u001b[0;36m<module>\u001b[1;34m\u001b[0m\n\u001b[1;32m----> 1\u001b[1;33m \u001b[0mdf\u001b[0m \u001b[1;33m=\u001b[0m \u001b[0mpd\u001b[0m\u001b[1;33m.\u001b[0m\u001b[0mDataFrame\u001b[0m\u001b[1;33m(\u001b[0m\u001b[1;33m{\u001b[0m\u001b[1;34m'labels'\u001b[0m\u001b[1;33m:\u001b[0m \u001b[0mlabels\u001b[0m\u001b[1;33m}\u001b[0m\u001b[1;33m)\u001b[0m\u001b[1;33m\u001b[0m\u001b[1;33m\u001b[0m\u001b[0m\n\u001b[0m\u001b[0;32m      2\u001b[0m \u001b[0mtype\u001b[0m\u001b[1;33m(\u001b[0m\u001b[0mdf\u001b[0m\u001b[1;33m)\u001b[0m\u001b[1;33m\u001b[0m\u001b[1;33m\u001b[0m\u001b[0m\n",
      "\u001b[1;32mD:\\anaconda\\lib\\site-packages\\pandas\\core\\frame.py\u001b[0m in \u001b[0;36m__init__\u001b[1;34m(self, data, index, columns, dtype, copy)\u001b[0m\n\u001b[0;32m    527\u001b[0m \u001b[1;33m\u001b[0m\u001b[0m\n\u001b[0;32m    528\u001b[0m         \u001b[1;32melif\u001b[0m \u001b[0misinstance\u001b[0m\u001b[1;33m(\u001b[0m\u001b[0mdata\u001b[0m\u001b[1;33m,\u001b[0m \u001b[0mdict\u001b[0m\u001b[1;33m)\u001b[0m\u001b[1;33m:\u001b[0m\u001b[1;33m\u001b[0m\u001b[1;33m\u001b[0m\u001b[0m\n\u001b[1;32m--> 529\u001b[1;33m             \u001b[0mmgr\u001b[0m \u001b[1;33m=\u001b[0m \u001b[0minit_dict\u001b[0m\u001b[1;33m(\u001b[0m\u001b[0mdata\u001b[0m\u001b[1;33m,\u001b[0m \u001b[0mindex\u001b[0m\u001b[1;33m,\u001b[0m \u001b[0mcolumns\u001b[0m\u001b[1;33m,\u001b[0m \u001b[0mdtype\u001b[0m\u001b[1;33m=\u001b[0m\u001b[0mdtype\u001b[0m\u001b[1;33m)\u001b[0m\u001b[1;33m\u001b[0m\u001b[1;33m\u001b[0m\u001b[0m\n\u001b[0m\u001b[0;32m    530\u001b[0m         \u001b[1;32melif\u001b[0m \u001b[0misinstance\u001b[0m\u001b[1;33m(\u001b[0m\u001b[0mdata\u001b[0m\u001b[1;33m,\u001b[0m \u001b[0mma\u001b[0m\u001b[1;33m.\u001b[0m\u001b[0mMaskedArray\u001b[0m\u001b[1;33m)\u001b[0m\u001b[1;33m:\u001b[0m\u001b[1;33m\u001b[0m\u001b[1;33m\u001b[0m\u001b[0m\n\u001b[0;32m    531\u001b[0m             \u001b[1;32mimport\u001b[0m \u001b[0mnumpy\u001b[0m\u001b[1;33m.\u001b[0m\u001b[0mma\u001b[0m\u001b[1;33m.\u001b[0m\u001b[0mmrecords\u001b[0m \u001b[1;32mas\u001b[0m \u001b[0mmrecords\u001b[0m\u001b[1;33m\u001b[0m\u001b[1;33m\u001b[0m\u001b[0m\n",
      "\u001b[1;32mD:\\anaconda\\lib\\site-packages\\pandas\\core\\internals\\construction.py\u001b[0m in \u001b[0;36minit_dict\u001b[1;34m(data, index, columns, dtype)\u001b[0m\n\u001b[0;32m    285\u001b[0m             \u001b[0marr\u001b[0m \u001b[1;32mif\u001b[0m \u001b[1;32mnot\u001b[0m \u001b[0mis_datetime64tz_dtype\u001b[0m\u001b[1;33m(\u001b[0m\u001b[0marr\u001b[0m\u001b[1;33m)\u001b[0m \u001b[1;32melse\u001b[0m \u001b[0marr\u001b[0m\u001b[1;33m.\u001b[0m\u001b[0mcopy\u001b[0m\u001b[1;33m(\u001b[0m\u001b[1;33m)\u001b[0m \u001b[1;32mfor\u001b[0m \u001b[0marr\u001b[0m \u001b[1;32min\u001b[0m \u001b[0marrays\u001b[0m\u001b[1;33m\u001b[0m\u001b[1;33m\u001b[0m\u001b[0m\n\u001b[0;32m    286\u001b[0m         ]\n\u001b[1;32m--> 287\u001b[1;33m     \u001b[1;32mreturn\u001b[0m \u001b[0marrays_to_mgr\u001b[0m\u001b[1;33m(\u001b[0m\u001b[0marrays\u001b[0m\u001b[1;33m,\u001b[0m \u001b[0mdata_names\u001b[0m\u001b[1;33m,\u001b[0m \u001b[0mindex\u001b[0m\u001b[1;33m,\u001b[0m \u001b[0mcolumns\u001b[0m\u001b[1;33m,\u001b[0m \u001b[0mdtype\u001b[0m\u001b[1;33m=\u001b[0m\u001b[0mdtype\u001b[0m\u001b[1;33m)\u001b[0m\u001b[1;33m\u001b[0m\u001b[1;33m\u001b[0m\u001b[0m\n\u001b[0m\u001b[0;32m    288\u001b[0m \u001b[1;33m\u001b[0m\u001b[0m\n\u001b[0;32m    289\u001b[0m \u001b[1;33m\u001b[0m\u001b[0m\n",
      "\u001b[1;32mD:\\anaconda\\lib\\site-packages\\pandas\\core\\internals\\construction.py\u001b[0m in \u001b[0;36marrays_to_mgr\u001b[1;34m(arrays, arr_names, index, columns, dtype, verify_integrity)\u001b[0m\n\u001b[0;32m     83\u001b[0m \u001b[1;33m\u001b[0m\u001b[0m\n\u001b[0;32m     84\u001b[0m         \u001b[1;31m# don't force copy because getting jammed in an ndarray anyway\u001b[0m\u001b[1;33m\u001b[0m\u001b[1;33m\u001b[0m\u001b[1;33m\u001b[0m\u001b[0m\n\u001b[1;32m---> 85\u001b[1;33m         \u001b[0marrays\u001b[0m \u001b[1;33m=\u001b[0m \u001b[0m_homogenize\u001b[0m\u001b[1;33m(\u001b[0m\u001b[0marrays\u001b[0m\u001b[1;33m,\u001b[0m \u001b[0mindex\u001b[0m\u001b[1;33m,\u001b[0m \u001b[0mdtype\u001b[0m\u001b[1;33m)\u001b[0m\u001b[1;33m\u001b[0m\u001b[1;33m\u001b[0m\u001b[0m\n\u001b[0m\u001b[0;32m     86\u001b[0m \u001b[1;33m\u001b[0m\u001b[0m\n\u001b[0;32m     87\u001b[0m         \u001b[0mcolumns\u001b[0m \u001b[1;33m=\u001b[0m \u001b[0mensure_index\u001b[0m\u001b[1;33m(\u001b[0m\u001b[0mcolumns\u001b[0m\u001b[1;33m)\u001b[0m\u001b[1;33m\u001b[0m\u001b[1;33m\u001b[0m\u001b[0m\n",
      "\u001b[1;32mD:\\anaconda\\lib\\site-packages\\pandas\\core\\internals\\construction.py\u001b[0m in \u001b[0;36m_homogenize\u001b[1;34m(data, index, dtype)\u001b[0m\n\u001b[0;32m    353\u001b[0m                     \u001b[0mval\u001b[0m \u001b[1;33m=\u001b[0m \u001b[0mdict\u001b[0m\u001b[1;33m(\u001b[0m\u001b[0mval\u001b[0m\u001b[1;33m)\u001b[0m\u001b[1;33m\u001b[0m\u001b[1;33m\u001b[0m\u001b[0m\n\u001b[0;32m    354\u001b[0m                 \u001b[0mval\u001b[0m \u001b[1;33m=\u001b[0m \u001b[0mlib\u001b[0m\u001b[1;33m.\u001b[0m\u001b[0mfast_multiget\u001b[0m\u001b[1;33m(\u001b[0m\u001b[0mval\u001b[0m\u001b[1;33m,\u001b[0m \u001b[0moindex\u001b[0m\u001b[1;33m.\u001b[0m\u001b[0m_values\u001b[0m\u001b[1;33m,\u001b[0m \u001b[0mdefault\u001b[0m\u001b[1;33m=\u001b[0m\u001b[0mnp\u001b[0m\u001b[1;33m.\u001b[0m\u001b[0mnan\u001b[0m\u001b[1;33m)\u001b[0m\u001b[1;33m\u001b[0m\u001b[1;33m\u001b[0m\u001b[0m\n\u001b[1;32m--> 355\u001b[1;33m             val = sanitize_array(\n\u001b[0m\u001b[0;32m    356\u001b[0m                 \u001b[0mval\u001b[0m\u001b[1;33m,\u001b[0m \u001b[0mindex\u001b[0m\u001b[1;33m,\u001b[0m \u001b[0mdtype\u001b[0m\u001b[1;33m=\u001b[0m\u001b[0mdtype\u001b[0m\u001b[1;33m,\u001b[0m \u001b[0mcopy\u001b[0m\u001b[1;33m=\u001b[0m\u001b[1;32mFalse\u001b[0m\u001b[1;33m,\u001b[0m \u001b[0mraise_cast_failure\u001b[0m\u001b[1;33m=\u001b[0m\u001b[1;32mFalse\u001b[0m\u001b[1;33m\u001b[0m\u001b[1;33m\u001b[0m\u001b[0m\n\u001b[0;32m    357\u001b[0m             )\n",
      "\u001b[1;32mD:\\anaconda\\lib\\site-packages\\pandas\\core\\construction.py\u001b[0m in \u001b[0;36msanitize_array\u001b[1;34m(data, index, dtype, copy, raise_cast_failure)\u001b[0m\n\u001b[0;32m    474\u001b[0m         \u001b[1;32mif\u001b[0m \u001b[0misinstance\u001b[0m\u001b[1;33m(\u001b[0m\u001b[0mdata\u001b[0m\u001b[1;33m,\u001b[0m \u001b[0mset\u001b[0m\u001b[1;33m)\u001b[0m\u001b[1;33m:\u001b[0m\u001b[1;33m\u001b[0m\u001b[1;33m\u001b[0m\u001b[0m\n\u001b[0;32m    475\u001b[0m             \u001b[1;31m# Raise only for unordered sets, e.g., not for dict_keys\u001b[0m\u001b[1;33m\u001b[0m\u001b[1;33m\u001b[0m\u001b[1;33m\u001b[0m\u001b[0m\n\u001b[1;32m--> 476\u001b[1;33m             \u001b[1;32mraise\u001b[0m \u001b[0mTypeError\u001b[0m\u001b[1;33m(\u001b[0m\u001b[1;34m\"Set type is unordered\"\u001b[0m\u001b[1;33m)\u001b[0m\u001b[1;33m\u001b[0m\u001b[1;33m\u001b[0m\u001b[0m\n\u001b[0m\u001b[0;32m    477\u001b[0m         \u001b[0mdata\u001b[0m \u001b[1;33m=\u001b[0m \u001b[0mlist\u001b[0m\u001b[1;33m(\u001b[0m\u001b[0mdata\u001b[0m\u001b[1;33m)\u001b[0m\u001b[1;33m\u001b[0m\u001b[1;33m\u001b[0m\u001b[0m\n\u001b[0;32m    478\u001b[0m \u001b[1;33m\u001b[0m\u001b[0m\n",
      "\u001b[1;31mTypeError\u001b[0m: Set type is unordered"
     ]
    }
   ],
   "source": [
    "df = pd.DataFrame({'labels': labels})\n",
    "type(df)"
   ]
  },
  {
   "cell_type": "code",
   "execution_count": 162,
   "id": "5acec6a1",
   "metadata": {},
   "outputs": [],
   "source": [
    "def species_label(theta):\n",
    "    if theta == 0:\n",
    "        return wine.target_names[0]\n",
    "    if theta == 1:\n",
    "        return wine.target_names[1]\n",
    "    if theta == 2:\n",
    "        return wine.target_names[2]"
   ]
  },
  {
   "cell_type": "code",
   "execution_count": 6,
   "id": "45d649fc",
   "metadata": {
    "scrolled": true
   },
   "outputs": [
    {
     "ename": "NameError",
     "evalue": "name 'wine' is not defined",
     "output_type": "error",
     "traceback": [
      "\u001b[1;31m---------------------------------------------------------------------------\u001b[0m",
      "\u001b[1;31mNameError\u001b[0m                                 Traceback (most recent call last)",
      "\u001b[1;32m<ipython-input-6-fa45bf512e2f>\u001b[0m in \u001b[0;36m<module>\u001b[1;34m\u001b[0m\n\u001b[1;32m----> 1\u001b[1;33m \u001b[0mdf\u001b[0m\u001b[1;33m[\u001b[0m\u001b[1;34m'species'\u001b[0m\u001b[1;33m]\u001b[0m \u001b[1;33m=\u001b[0m \u001b[1;33m[\u001b[0m\u001b[0mspecies_label\u001b[0m\u001b[1;33m(\u001b[0m\u001b[0mtheta\u001b[0m\u001b[1;33m)\u001b[0m \u001b[1;32mfor\u001b[0m \u001b[0mtheta\u001b[0m \u001b[1;32min\u001b[0m \u001b[0mwine\u001b[0m\u001b[1;33m.\u001b[0m\u001b[0mtarget\u001b[0m\u001b[1;33m]\u001b[0m\u001b[1;33m\u001b[0m\u001b[1;33m\u001b[0m\u001b[0m\n\u001b[0m",
      "\u001b[1;31mNameError\u001b[0m: name 'wine' is not defined"
     ]
    }
   ],
   "source": [
    "df['species'] = [species_label(theta) for theta in wine.target]"
   ]
  },
  {
   "cell_type": "code",
   "execution_count": 164,
   "id": "b392aaa9",
   "metadata": {},
   "outputs": [
    {
     "ename": "KeyError",
     "evalue": "'labels'",
     "output_type": "error",
     "traceback": [
      "\u001b[1;31m---------------------------------------------------------------------------\u001b[0m",
      "\u001b[1;31mKeyError\u001b[0m                                  Traceback (most recent call last)",
      "\u001b[1;32mD:\\anaconda\\lib\\site-packages\\pandas\\core\\indexes\\base.py\u001b[0m in \u001b[0;36mget_loc\u001b[1;34m(self, key, method, tolerance)\u001b[0m\n\u001b[0;32m   3079\u001b[0m             \u001b[1;32mtry\u001b[0m\u001b[1;33m:\u001b[0m\u001b[1;33m\u001b[0m\u001b[1;33m\u001b[0m\u001b[0m\n\u001b[1;32m-> 3080\u001b[1;33m                 \u001b[1;32mreturn\u001b[0m \u001b[0mself\u001b[0m\u001b[1;33m.\u001b[0m\u001b[0m_engine\u001b[0m\u001b[1;33m.\u001b[0m\u001b[0mget_loc\u001b[0m\u001b[1;33m(\u001b[0m\u001b[0mcasted_key\u001b[0m\u001b[1;33m)\u001b[0m\u001b[1;33m\u001b[0m\u001b[1;33m\u001b[0m\u001b[0m\n\u001b[0m\u001b[0;32m   3081\u001b[0m             \u001b[1;32mexcept\u001b[0m \u001b[0mKeyError\u001b[0m \u001b[1;32mas\u001b[0m \u001b[0merr\u001b[0m\u001b[1;33m:\u001b[0m\u001b[1;33m\u001b[0m\u001b[1;33m\u001b[0m\u001b[0m\n",
      "\u001b[1;32mpandas\\_libs\\index.pyx\u001b[0m in \u001b[0;36mpandas._libs.index.IndexEngine.get_loc\u001b[1;34m()\u001b[0m\n",
      "\u001b[1;32mpandas\\_libs\\index.pyx\u001b[0m in \u001b[0;36mpandas._libs.index.IndexEngine.get_loc\u001b[1;34m()\u001b[0m\n",
      "\u001b[1;32mpandas\\_libs\\hashtable_class_helper.pxi\u001b[0m in \u001b[0;36mpandas._libs.hashtable.PyObjectHashTable.get_item\u001b[1;34m()\u001b[0m\n",
      "\u001b[1;32mpandas\\_libs\\hashtable_class_helper.pxi\u001b[0m in \u001b[0;36mpandas._libs.hashtable.PyObjectHashTable.get_item\u001b[1;34m()\u001b[0m\n",
      "\u001b[1;31mKeyError\u001b[0m: 'labels'",
      "\nThe above exception was the direct cause of the following exception:\n",
      "\u001b[1;31mKeyError\u001b[0m                                  Traceback (most recent call last)",
      "\u001b[1;32m<ipython-input-164-6c62af3bbb87>\u001b[0m in \u001b[0;36m<module>\u001b[1;34m\u001b[0m\n\u001b[1;32m----> 1\u001b[1;33m \u001b[0mpd\u001b[0m\u001b[1;33m.\u001b[0m\u001b[0mcrosstab\u001b[0m\u001b[1;33m(\u001b[0m\u001b[0mdf\u001b[0m\u001b[1;33m[\u001b[0m\u001b[1;34m'labels'\u001b[0m\u001b[1;33m]\u001b[0m\u001b[1;33m,\u001b[0m \u001b[0mdf\u001b[0m\u001b[1;33m[\u001b[0m\u001b[1;34m'species'\u001b[0m\u001b[1;33m]\u001b[0m\u001b[1;33m)\u001b[0m\u001b[1;33m\u001b[0m\u001b[1;33m\u001b[0m\u001b[0m\n\u001b[0m",
      "\u001b[1;32mD:\\anaconda\\lib\\site-packages\\pandas\\core\\frame.py\u001b[0m in \u001b[0;36m__getitem__\u001b[1;34m(self, key)\u001b[0m\n\u001b[0;32m   3022\u001b[0m             \u001b[1;32mif\u001b[0m \u001b[0mself\u001b[0m\u001b[1;33m.\u001b[0m\u001b[0mcolumns\u001b[0m\u001b[1;33m.\u001b[0m\u001b[0mnlevels\u001b[0m \u001b[1;33m>\u001b[0m \u001b[1;36m1\u001b[0m\u001b[1;33m:\u001b[0m\u001b[1;33m\u001b[0m\u001b[1;33m\u001b[0m\u001b[0m\n\u001b[0;32m   3023\u001b[0m                 \u001b[1;32mreturn\u001b[0m \u001b[0mself\u001b[0m\u001b[1;33m.\u001b[0m\u001b[0m_getitem_multilevel\u001b[0m\u001b[1;33m(\u001b[0m\u001b[0mkey\u001b[0m\u001b[1;33m)\u001b[0m\u001b[1;33m\u001b[0m\u001b[1;33m\u001b[0m\u001b[0m\n\u001b[1;32m-> 3024\u001b[1;33m             \u001b[0mindexer\u001b[0m \u001b[1;33m=\u001b[0m \u001b[0mself\u001b[0m\u001b[1;33m.\u001b[0m\u001b[0mcolumns\u001b[0m\u001b[1;33m.\u001b[0m\u001b[0mget_loc\u001b[0m\u001b[1;33m(\u001b[0m\u001b[0mkey\u001b[0m\u001b[1;33m)\u001b[0m\u001b[1;33m\u001b[0m\u001b[1;33m\u001b[0m\u001b[0m\n\u001b[0m\u001b[0;32m   3025\u001b[0m             \u001b[1;32mif\u001b[0m \u001b[0mis_integer\u001b[0m\u001b[1;33m(\u001b[0m\u001b[0mindexer\u001b[0m\u001b[1;33m)\u001b[0m\u001b[1;33m:\u001b[0m\u001b[1;33m\u001b[0m\u001b[1;33m\u001b[0m\u001b[0m\n\u001b[0;32m   3026\u001b[0m                 \u001b[0mindexer\u001b[0m \u001b[1;33m=\u001b[0m \u001b[1;33m[\u001b[0m\u001b[0mindexer\u001b[0m\u001b[1;33m]\u001b[0m\u001b[1;33m\u001b[0m\u001b[1;33m\u001b[0m\u001b[0m\n",
      "\u001b[1;32mD:\\anaconda\\lib\\site-packages\\pandas\\core\\indexes\\base.py\u001b[0m in \u001b[0;36mget_loc\u001b[1;34m(self, key, method, tolerance)\u001b[0m\n\u001b[0;32m   3080\u001b[0m                 \u001b[1;32mreturn\u001b[0m \u001b[0mself\u001b[0m\u001b[1;33m.\u001b[0m\u001b[0m_engine\u001b[0m\u001b[1;33m.\u001b[0m\u001b[0mget_loc\u001b[0m\u001b[1;33m(\u001b[0m\u001b[0mcasted_key\u001b[0m\u001b[1;33m)\u001b[0m\u001b[1;33m\u001b[0m\u001b[1;33m\u001b[0m\u001b[0m\n\u001b[0;32m   3081\u001b[0m             \u001b[1;32mexcept\u001b[0m \u001b[0mKeyError\u001b[0m \u001b[1;32mas\u001b[0m \u001b[0merr\u001b[0m\u001b[1;33m:\u001b[0m\u001b[1;33m\u001b[0m\u001b[1;33m\u001b[0m\u001b[0m\n\u001b[1;32m-> 3082\u001b[1;33m                 \u001b[1;32mraise\u001b[0m \u001b[0mKeyError\u001b[0m\u001b[1;33m(\u001b[0m\u001b[0mkey\u001b[0m\u001b[1;33m)\u001b[0m \u001b[1;32mfrom\u001b[0m \u001b[0merr\u001b[0m\u001b[1;33m\u001b[0m\u001b[1;33m\u001b[0m\u001b[0m\n\u001b[0m\u001b[0;32m   3083\u001b[0m \u001b[1;33m\u001b[0m\u001b[0m\n\u001b[0;32m   3084\u001b[0m         \u001b[1;32mif\u001b[0m \u001b[0mtolerance\u001b[0m \u001b[1;32mis\u001b[0m \u001b[1;32mnot\u001b[0m \u001b[1;32mNone\u001b[0m\u001b[1;33m:\u001b[0m\u001b[1;33m\u001b[0m\u001b[1;33m\u001b[0m\u001b[0m\n",
      "\u001b[1;31mKeyError\u001b[0m: 'labels'"
     ]
    }
   ],
   "source": [
    "pd.crosstab(df['labels'], df['species'])"
   ]
  },
  {
   "cell_type": "markdown",
   "id": "c78ffc2b",
   "metadata": {},
   "source": [
    "## 6.サポートベクターマシーン"
   ]
  },
  {
   "cell_type": "markdown",
   "id": "318d13c9",
   "metadata": {},
   "source": [
    "### サポートベクターマシーン　ハンドオフ"
   ]
  },
  {
   "cell_type": "code",
   "execution_count": 134,
   "id": "521d85c8",
   "metadata": {},
   "outputs": [],
   "source": [
    "%matplotlib inline\n",
    "import numpy as np\n",
    "import matplotlib.pyplot as plt"
   ]
  },
  {
   "cell_type": "code",
   "execution_count": null,
   "id": "2c7e86ca",
   "metadata": {},
   "outputs": [],
   "source": [
    "### 訓練データ生成① （線形分離可能）"
   ]
  },
  {
   "cell_type": "code",
   "execution_count": 137,
   "id": "fa34d4ff",
   "metadata": {},
   "outputs": [
    {
     "name": "stderr",
     "output_type": "stream",
     "text": [
      "<ipython-input-137-82254cbe4058>:5: DeprecationWarning: `np.int` is a deprecated alias for the builtin `int`. To silence this warning, use `int` by itself. Doing this will not modify any behavior and is safe. When replacing `np.int`, you may wish to use e.g. `np.int64` or `np.int32` to specify the precision. If you wish to review your current use, check the release note link for additional information.\n",
      "Deprecated in NumPy 1.20; for more details and guidance: https://numpy.org/devdocs/release/1.20.0-notes.html#deprecations\n",
      "  ys_train = np.concatenate([np.zeros(25), np.ones(25)]).astype(np.int)\n"
     ]
    },
    {
     "data": {
      "text/plain": [
       "<matplotlib.collections.PathCollection at 0xaaac15bca0>"
      ]
     },
     "execution_count": 137,
     "metadata": {},
     "output_type": "execute_result"
    },
    {
     "data": {
      "image/png": "[encoded data removed]",
      "text/plain": [
       "<Figure size 432x288 with 1 Axes>"
      ]
     },
     "metadata": {
      "needs_background": "light"
     },
     "output_type": "display_data"
    }
   ],
   "source": [
    "def gen_data():\n",
    "    x0 = np.random.normal(size=50).reshape(-1, 2) - 2.\n",
    "    x1 = np.random.normal(size=50).reshape(-1, 2) + 2.\n",
    "    X_train = np.concatenate([x0, x1])\n",
    "    ys_train = np.concatenate([np.zeros(25), np.ones(25)]).astype(np.int)\n",
    "    return X_train, ys_train\n",
    "X_train, ys_train = gen_data()\n",
    "plt.scatter(X_train[:, 0], X_train[:, 1], c=ys_train)"
   ]
  },
  {
   "cell_type": "code",
   "execution_count": 136,
   "id": "f6e2a8d8",
   "metadata": {},
   "outputs": [
    {
     "name": "stderr",
     "output_type": "stream",
     "text": [
      "<ipython-input-135-91e32a9b3d43>:5: DeprecationWarning: `np.int` is a deprecated alias for the builtin `int`. To silence this warning, use `int` by itself. Doing this will not modify any behavior and is safe. When replacing `np.int`, you may wish to use e.g. `np.int64` or `np.int32` to specify the precision. If you wish to review your current use, check the release note link for additional information.\n",
      "Deprecated in NumPy 1.20; for more details and guidance: https://numpy.org/devdocs/release/1.20.0-notes.html#deprecations\n",
      "  ys_train = np.concatenate([np.zeros(25), np.ones(25)]).astype(np.int)\n"
     ]
    },
    {
     "data": {
      "text/plain": [
       "<matplotlib.collections.PathCollection at 0xaaac0f4220>"
      ]
     },
     "execution_count": 136,
     "metadata": {},
     "output_type": "execute_result"
    },
    {
     "data": {
      "image/png": "[encoded data removed]",
      "text/plain": [
       "<Figure size 432x288 with 1 Axes>"
      ]
     },
     "metadata": {
      "needs_background": "light"
     },
     "output_type": "display_data"
    }
   ],
   "source": []
  },
  {
   "cell_type": "code",
   "execution_count": null,
   "id": "bcf62151",
   "metadata": {},
   "outputs": [],
   "source": []
  },
  {
   "cell_type": "code",
   "execution_count": null,
   "id": "a659e8f3",
   "metadata": {},
   "outputs": [],
   "source": []
  },
  {
   "cell_type": "code",
   "execution_count": null,
   "id": "b514d55a",
   "metadata": {},
   "outputs": [],
   "source": [
    "\n",
    "\n",
    "### 1.1.1行列とは？\n",
    "#### &emsp;&emsp;スカラ―を表にしたもの。\n",
    "#### &emsp;&emsp;ベクトルを並べたもの\n",
    "#### &emsp;&emsp;&emsp;&emsp;→何に使うのか？\n",
    "#### &emsp;&emsp;&emsp;&emsp;&emsp;1.ベクトルの変換\n",
    "#### &emsp;&emsp;&emsp;&emsp;&emsp;2.連立方程式を解く\n",
    "##### &emsp;&emsp; 以下の連立方程式"
   ]
  },
  {
   "cell_type": "code",
   "execution_count": null,
   "id": "6807ba43",
   "metadata": {},
   "outputs": [],
   "source": []
  },
  {
   "cell_type": "code",
   "execution_count": null,
   "id": "8df8cab5",
   "metadata": {},
   "outputs": [],
   "source": []
  },
  {
   "cell_type": "markdown",
   "id": "0c8da0cb",
   "metadata": {},
   "source": [
    "$$\n",
    "        \\begin{cases}\n",
    "             &x_1  &+ &2x_2 &= 3 　\\\\\n",
    "             &2x_1 &+ &5x_2 &= 5 　\\\\ \n",
    "        \\end{cases}\n",
    "$$"
   ]
  },
  {
   "cell_type": "markdown",
   "id": "9560843a",
   "metadata": {},
   "source": [
    "##### &emsp;&emsp; 行列式で表すと以下の式になる。"
   ]
  },
  {
   "cell_type": "markdown",
   "id": "6d6d0d7e",
   "metadata": {},
   "source": [
    "$$\n",
    "A\\vec{x} = \\vec{b}\n",
    "$$\n",
    "$$\n",
    "\\left(\n",
    "    \\begin{matrix} \n",
    "1 & 2 \\\\ 2 & 5 \n",
    "\\end{matrix} \n",
    "\\right)\n",
    "\\left(\n",
    "    \\begin{matrix} \n",
    "x_1 \\\\ x_2 \n",
    "\\end{matrix} \n",
    "    \\right)  \n",
    "=\n",
    "    \\left(\n",
    "    \\begin{matrix} \n",
    "3 \\\\ 5 \n",
    "\\end{matrix} \n",
    "    \\right)  \n",
    "$$"
   ]
  },
  {
   "cell_type": "markdown",
   "id": "d4ce14a1",
   "metadata": {},
   "source": [
    "##### 1.1.2 行列とベクトルの積"
   ]
  },
  {
   "cell_type": "markdown",
   "id": "aa879d59",
   "metadata": {},
   "source": [
    "$$\n",
    "\\left(\n",
    "    \\begin{matrix} \n",
    "6& 4\\\\ 3& 5 \n",
    "\\end{matrix} \n",
    "\\right)\n",
    "\\left(\n",
    "    \\begin{matrix} \n",
    "1 \\\\ 2 \n",
    "\\end{matrix} \n",
    "    \\right)  \n",
    "=\n",
    "    \\left(\n",
    "    \\begin{matrix} \n",
    "6*1+4*2 \\\\ 3*1+5*2 \n",
    "\\end{matrix} \n",
    "    \\right)  \n",
    "=\n",
    "    \\left(\n",
    "    \\begin{matrix} \n",
    "14 \\\\ 13 \n",
    "\\end{matrix} \n",
    "    \\right)  \n",
    "$$"
   ]
  },
  {
   "cell_type": "markdown",
   "id": "ab82f1d9",
   "metadata": {},
   "source": [
    "行列の積は、先の行列の\"行\"と後の行列の\"列”の積を和したものになる。"
   ]
  },
  {
   "cell_type": "markdown",
   "id": "4aa00edf",
   "metadata": {},
   "source": [
    "例："
   ]
  },
  {
   "cell_type": "markdown",
   "id": "0f350395",
   "metadata": {},
   "source": [
    "$$\n",
    "\\begin{matrix}\n",
    "\\left[\n",
    "\\begin{array}{ccc}\n",
    "a_{11} & a_{12} & a_{13} \\\\\n",
    "a_{21} & a_{22} & a_{23} \\\\\n",
    "a_{31} & a_{32} & a_{33} \\\\\n",
    "\\end{array}\n",
    "\\right]\n",
    "\\end{matrix}\n",
    "\\begin{matrix}\n",
    "\\left[\n",
    "\\begin{array}{ccc}\n",
    "b_{11} & b_{12} & b_{13} \\\\\n",
    "b_{21} & b_{22} & b_{23} \\\\\n",
    "b_{31} & b_{32} & b_{33} \\\\\n",
    "\\end{array}\n",
    "\\right]\n",
    "\\end{matrix}\n",
    "=\n",
    "\\begin{matrix}\n",
    "\\left[\n",
    "\\begin{array}{ccc}\n",
    "a_{11}*b_{11}+a_{12}*b_{21}+ a_{13}*b_{31}& \\cdots &  \\cdots \\\\\n",
    " \\cdots & a_{21}*b_{12}+a_{22}*b_{22}+ a_{23}*b_{32} & \\cdots \\\\\n",
    " \\cdots & \\cdots &a_{31}*b_{13}+a_{32}*b_{23}+ a_{33}*b_{33} \\\\\n",
    "\\end{array}\n",
    "\\right]\n",
    "\\end{matrix}\n",
    "$$"
   ]
  },
  {
   "cell_type": "markdown",
   "id": "e5aabeff",
   "metadata": {},
   "source": [
    "##### 1.1.3 行基本変換\n",
    "　　行列式で連立方程式を解く場合、**行列基本変形**を行い左辺の行列を単位行列に変換する。その場合右辺が方程式の解となる。"
   ]
  },
  {
   "cell_type": "markdown",
   "id": "d293aae8",
   "metadata": {},
   "source": [
    "###### &nbsp;&nbsp;&nbsp;&nbsp;**行基本変形の方法：**\n",
    "&nbsp;&nbsp;&nbsp;&nbsp;①.K列をC倍  \n",
    "&nbsp;&nbsp;&nbsp;&nbsp;②.S行目にt行目のC倍を加える  \n",
    "&nbsp;&nbsp;&nbsp;&nbsp;③.P行目とq行目を入れ替え  "
   ]
  },
  {
   "cell_type": "markdown",
   "id": "2a8b17dd",
   "metadata": {},
   "source": [
    "&nbsp;&nbsp;&nbsp;&nbsp;&nbsp;&nbsp;&nbsp;&nbsp;行基本変形の例：  "
   ]
  },
  {
   "cell_type": "markdown",
   "id": "a3d5ad4a",
   "metadata": {},
   "source": [
    "$$\n",
    "\\left(\n",
    "    \\begin{matrix} \n",
    "1 & 4 \\\\ 2 & 6 \n",
    "\\end{matrix} \n",
    "\\right)\n",
    "\\left(\n",
    "    \\begin{matrix} \n",
    "x_1 \\\\ x_2 \n",
    "\\end{matrix} \n",
    "    \\right)  \n",
    "=\n",
    "    \\left(\n",
    "    \\begin{matrix} \n",
    "7 \\\\ 10 \n",
    "\\end{matrix} \n",
    "    \\right)  \n",
    "$$\n",
    "$$\n",
    "\\downarrow\n",
    "$$\n",
    "$$\n",
    "\\left(\n",
    "    \\begin{matrix} \n",
    "1 & 4 \\\\ 1 & 3 \n",
    "\\end{matrix} \n",
    "\\right)\n",
    "\\left(\n",
    "    \\begin{matrix} \n",
    "x_1 \\\\ x_2 \n",
    "\\end{matrix} \n",
    "    \\right)  \n",
    "=\n",
    "    \\left(\n",
    "    \\begin{matrix} \n",
    "7 \\\\ 5 \n",
    "\\end{matrix} \n",
    "    \\right)  \n",
    "$$\n",
    "$$\n",
    "\\downarrow\n",
    "$$\n",
    "$$\n",
    "\\left(\n",
    "    \\begin{matrix} \n",
    "0 & 1 \\\\ 1 & 3 \n",
    "\\end{matrix} \n",
    "\\right)\n",
    "\\left(\n",
    "    \\begin{matrix} \n",
    "x_1 \\\\ x_2 \n",
    "\\end{matrix} \n",
    "    \\right)  \n",
    "=\n",
    "    \\left(\n",
    "    \\begin{matrix} \n",
    "2 \\\\ 5 \n",
    "\\end{matrix} \n",
    "    \\right)  \n",
    "$$\n",
    "$$\n",
    "\\downarrow\n",
    "$$\n",
    "$$\n",
    "\\left(\n",
    "    \\begin{matrix} \n",
    "0 & 1 \\\\ 1 & 0 \n",
    "\\end{matrix} \n",
    "\\right)\n",
    "\\left(\n",
    "    \\begin{matrix} \n",
    "x_1 \\\\ x_2 \n",
    "\\end{matrix} \n",
    "    \\right)  \n",
    "=\n",
    "    \\left(\n",
    "    \\begin{matrix} \n",
    "2 \\\\ -1 \n",
    "\\end{matrix} \n",
    "    \\right)  \n",
    "$$\n",
    "$$\n",
    "\\downarrow\n",
    "$$\n",
    "$$\n",
    "\\left(\n",
    "    \\begin{matrix} \n",
    "1 & 0 \\\\ 0 & 1 \n",
    "\\end{matrix} \n",
    "\\right)\n",
    "\\left(\n",
    "    \\begin{matrix} \n",
    "x_1 \\\\ x_2 \n",
    "\\end{matrix} \n",
    "    \\right)  \n",
    "=\n",
    "    \\left(\n",
    "    \\begin{matrix} \n",
    "-1 \\\\ 2 \n",
    "\\end{matrix} \n",
    "    \\right)  \n",
    "$$"
   ]
  },
  {
   "cell_type": "markdown",
   "id": "1e2ea403",
   "metadata": {},
   "source": [
    "###### 左辺の行列が**単位行列**になると完了。"
   ]
  },
  {
   "cell_type": "markdown",
   "id": "baaa2b17",
   "metadata": {},
   "source": [
    "##### 1.1.4 行列の逆数"
   ]
  },
  {
   "cell_type": "markdown",
   "id": "1c9366ab",
   "metadata": {},
   "source": [
    "$$\n",
    "\\left(\n",
    "    \\begin{matrix} \n",
    "1 & 4 \\\\ 2 & 6 \n",
    "\\end{matrix} \n",
    "\\right)\n",
    "\\left(\n",
    "    \\begin{matrix} \n",
    "x_1 \\\\ x_2 \n",
    "\\end{matrix} \n",
    "    \\right)  \n",
    "=\n",
    "    \\left(\n",
    "    \\begin{matrix} \n",
    "7 \\\\ 10 \n",
    "\\end{matrix} \n",
    "    \\right)  \n",
    "$$"
   ]
  },
  {
   "cell_type": "markdown",
   "id": "1cf4daf3",
   "metadata": {},
   "source": [
    "行列の変換を一つの列で表すと"
   ]
  },
  {
   "cell_type": "markdown",
   "id": "4965f5d7",
   "metadata": {},
   "source": [
    "$$\n",
    "\\left(\n",
    "    \\begin{matrix} \n",
    "1 & 0 \\\\ 0 & 1 \n",
    "\\end{matrix} \n",
    "\\right)\n",
    "\\left(\n",
    "    \\begin{matrix} \n",
    "1 & 0 \\\\ -3 & 1 \n",
    "\\end{matrix} \n",
    "\\right)\n",
    "\\left(\n",
    "    \\begin{matrix} \n",
    "1 & -1 \\\\ 0 & 1 \n",
    "\\end{matrix} \n",
    "\\right)\n",
    "\\left(\n",
    "    \\begin{matrix} \n",
    "1 & 0 \\\\ 0 & 1/2 \n",
    "\\end{matrix} \n",
    "\\right)\n",
    "\\left(\n",
    "    \\begin{matrix} \n",
    "1 & 4 \\\\ 2 & 6 \n",
    "\\end{matrix} \n",
    "\\right)\n",
    "\\left(\n",
    "    \\begin{matrix} \n",
    "x_1 \\\\ x_2 \n",
    "\\end{matrix} \n",
    "    \\right)  \n",
    "=\n",
    "\\left(\n",
    "    \\begin{matrix} \n",
    "0 & 1 \\\\ 1 & 0 \n",
    "\\end{matrix} \n",
    "\\right)\n",
    "\\left(\n",
    "    \\begin{matrix} \n",
    "1 & 0 \\\\ -3 & 1 \n",
    "\\end{matrix} \n",
    "\\right)\n",
    "\\left(\n",
    "    \\begin{matrix} \n",
    "1 & -1 \\\\ 0 & 1 \n",
    "\\end{matrix} \n",
    "\\right)\n",
    "\\left(\n",
    "    \\begin{matrix} \n",
    "1 & 0 \\\\ 0 & \\frac{1}{2} \n",
    "\\end{matrix} \n",
    "\\right)\n",
    "    \\left(\n",
    "    \\begin{matrix} \n",
    "7 \\\\ 10 \n",
    "\\end{matrix} \n",
    "    \\right)  \n",
    "$$\n",
    "$$\n",
    "\\left(\n",
    "    \\begin{matrix} \n",
    "-3 & 2 \\\\ 1 & -1/2  \n",
    "\\end{matrix} \n",
    "\\right)\n",
    "\\left(\n",
    "    \\begin{matrix} \n",
    "1 & 4 \\\\ 2 & 6 \n",
    "\\end{matrix} \n",
    "\\right)\n",
    "\\left(\n",
    "    \\begin{matrix} \n",
    "x_1 \\\\ x_2 \n",
    "\\end{matrix} \n",
    "    \\right)  \n",
    "=\n",
    "\\left(\n",
    "    \\begin{matrix} \n",
    "-3 & 2 \\\\ 1 & - \\frac{1}{2} \n",
    "\\end{matrix} \n",
    "\\right)\n",
    "\\left(\n",
    "    \\begin{matrix} \n",
    "7 \\\\ 10 \n",
    "\\end{matrix} \n",
    "    \\right)  \n",
    "$$"
   ]
  },
  {
   "cell_type": "markdown",
   "id": "c4d63f46",
   "metadata": {},
   "source": [
    "#### 1.1.5 単位行列"
   ]
  },
  {
   "cell_type": "markdown",
   "id": "ede049ba",
   "metadata": {},
   "source": [
    "###### &emsp;&emsp;&emsp;行列式と掛けても(積しても）行列式の値が変化しない行列"
   ]
  },
  {
   "cell_type": "markdown",
   "id": "089e84d0",
   "metadata": {},
   "source": [
    "$$\n",
    "\\left(\n",
    "    \\begin{matrix} \n",
    "1 & 0 \\\\ 0 & 1 \n",
    "\\end{matrix} \n",
    "\\right)\n",
    "\\left(\n",
    "    \\begin{matrix}  \n",
    "2 & 3 \\\\ 1 & 9 \n",
    "\\end{matrix} \n",
    "\\right)\n",
    "=\n",
    "\\left(\n",
    "    \\begin{matrix}  \n",
    "2 & 3 \\\\ 1 & 9 \n",
    "\\end{matrix} \n",
    "\\right)\n",
    ",\n",
    "\\left(\n",
    "    \\begin{matrix} \n",
    "2 & 3 \\\\ 1 & 9 \n",
    "\\end{matrix} \n",
    "\\right)\n",
    "\\left(\n",
    "    \\begin{matrix}  \n",
    "1 & 0 \\\\ 0 & 1 \n",
    "\\end{matrix} \n",
    "\\right)\n",
    "=\n",
    "\\left(\n",
    "    \\begin{matrix}  \n",
    "2 & 3 \\\\ 1 & 9 \n",
    "\\end{matrix} \n",
    "\\right)\n",
    "$$"
   ]
  },
  {
   "cell_type": "markdown",
   "id": "1860c6de",
   "metadata": {},
   "source": [
    "$$  \n",
    "　A・A^{-1}　= A^{-1}・A = I\n",
    "$$  "
   ]
  },
  {
   "cell_type": "markdown",
   "id": "51483d1b",
   "metadata": {},
   "source": [
    "#### 1.1.6　逆行列の作り方"
   ]
  },
  {
   "cell_type": "markdown",
   "id": "43969ced",
   "metadata": {},
   "source": [
    "###### &emsp;&emsp;&emsp;　以下の行列をガウスの掃き出し法（行基本変形)使って逆行列を求める。"
   ]
  },
  {
   "cell_type": "markdown",
   "id": "896f6564",
   "metadata": {},
   "source": [
    "$$\n",
    "\\left(\n",
    "    \\begin{matrix} \n",
    "1 & 4 \\\\ 2 & 6 \n",
    "\\end{matrix} \n",
    "\\right)\n",
    "\\left(\n",
    "    \\begin{matrix} \n",
    "x_1 \\\\ x_2 \n",
    "\\end{matrix} \n",
    "    \\right)  \n",
    "=\n",
    "    \\left(\n",
    "    \\begin{matrix} \n",
    "7 \\\\ 10 \n",
    "\\end{matrix} \n",
    "    \\right)  \n",
    "$$\n",
    "$$\n",
    "\\left(\n",
    "    \\begin{matrix} \n",
    "1 & 4 \\\\ 2 & 6 \n",
    "\\end{matrix} \n",
    "\\right)\n",
    "\\left(\n",
    "    \\begin{matrix} \n",
    "x_1 \\\\ x_2 \n",
    "\\end{matrix} \n",
    "    \\right)  \n",
    "=\n",
    "\\left(\n",
    "    \\begin{matrix} \n",
    "1 & 0 \\\\ 0 & 1 \n",
    "\\end{matrix} \n",
    "\\right)\n",
    "    \\left(\n",
    "    \\begin{matrix} \n",
    "7 \\\\ 10 \n",
    "\\end{matrix} \n",
    "    \\right)  \n",
    "$$"
   ]
  },
  {
   "cell_type": "markdown",
   "id": "25f4a5e7",
   "metadata": {},
   "source": [
    "###### &emsp;&emsp;&emsp;&emsp;手順："
   ]
  },
  {
   "cell_type": "markdown",
   "id": "06b1fb6c",
   "metadata": {},
   "source": [
    "$$\n",
    "\\left(\n",
    "    \\begin{array}{cc|cc} \n",
    "1 & 4 & 1& 0 \\\\ 2 & 6 & 0 & 1 \n",
    "\\end{array} \n",
    "\\right)\n",
    "$$\n",
    "$$\n",
    "\\downarrow\n",
    "$$\n",
    "$$\n",
    "\\left(\n",
    "    \\begin{array}{cc|cc} \n",
    "1 & 4 & 1& 0 \\\\ 1 & 3 & 0 & \\frac{1}{2} \n",
    "\\end{array} \n",
    "\\right)\n",
    "$$\n",
    "$$\n",
    "\\downarrow\n",
    "$$\n",
    "$$\n",
    "\\left(\n",
    "    \\begin{array}{cc|cc} \n",
    "0 & 1 & 1 & -\\frac{1}{2}  \\\\ 1 & 3 & 0 & \\frac{1}{2} \n",
    "\\end{array} \n",
    "\\right)\n",
    "$$\n",
    "$$\n",
    "\\downarrow\n",
    "$$\n",
    "$$\n",
    "\\left(\n",
    "    \\begin{array}{cc|cc} \n",
    "0 & 1 & 1 & -\\frac{1}{2}  \\\\ 1 & 0 & -3 & 2 \n",
    "\\end{array} \n",
    "\\right)\n",
    "$$\n",
    "$$\n",
    "\\downarrow\n",
    "$$\n",
    "$$\n",
    "\\left(\n",
    "    \\begin{array}{cc|cc} \n",
    "1 & 0 & -3 & 2 \\\\ 0 & 1 & 1 & -\\frac{1}{2} \n",
    "\\end{array} \n",
    "\\right)\n",
    "$$"
   ]
  },
  {
   "cell_type": "markdown",
   "id": "f34f4b29",
   "metadata": {},
   "source": [
    "#### 1.1.7　逆行列が存在しないケース"
   ]
  },
  {
   "cell_type": "markdown",
   "id": "fb5b4393",
   "metadata": {},
   "source": [
    "&emsp;&emsp;&emsp;&emsp; 平行になって交わらない"
   ]
  },
  {
   "cell_type": "markdown",
   "id": "574019ea",
   "metadata": {},
   "source": [
    "  "
   ]
  },
  {
   "cell_type": "markdown",
   "id": "491e35a4",
   "metadata": {},
   "source": [
    "$$  \n",
    "x_1 + 4x_2 = 7 \\\\\n",
    "x_1 + 4x_2 = 7\n",
    "$$  "
   ]
  },
  {
   "cell_type": "markdown",
   "id": "ef44b20b",
   "metadata": {},
   "source": [
    "&emsp;&emsp;&emsp;&emsp;解が定まらない"
   ]
  },
  {
   "cell_type": "markdown",
   "id": "2fabc3ad",
   "metadata": {},
   "source": [
    "$$  \n",
    "x_1 + 4x_2 = 7 \\\\\n",
    "2x_1 + 8x_2 = 14\n",
    "$$ "
   ]
  },
  {
   "cell_type": "markdown",
   "id": "c0d4d8e7",
   "metadata": {},
   "source": [
    "&emsp;&emsp;&emsp;&emsp;形式的には、"
   ]
  },
  {
   "cell_type": "markdown",
   "id": "ac83e952",
   "metadata": {},
   "source": [
    "$$\n",
    "\\left(\n",
    "    \\begin{matrix} \n",
    "a & b \\\\ c & d \n",
    "\\end{matrix} \n",
    "\\right)\n",
    "$$\n",
    "$  a:b \\neq c:d $ 逆行列の解を持つ $\\\\  $  $  a:b = c:d $ 逆行列の解を持たない"
   ]
  },
  {
   "cell_type": "markdown",
   "id": "4d980d99",
   "metadata": {},
   "source": [
    "#### 1.1.8　逆行列の判別"
   ]
  },
  {
   "cell_type": "markdown",
   "id": "f433930b",
   "metadata": {},
   "source": [
    "\n",
    "$$\n",
    "\\left(\n",
    "    \\begin{matrix} \n",
    "a & b \\\\ c & d \n",
    "\\end{matrix} \n",
    "\\right)\n",
    " =\n",
    "\\left(\n",
    "    \\begin{matrix} \n",
    "    \\vec{v_1} \\\\ \\vec{v_2} \n",
    "\\end{matrix} \n",
    "\\right)\n",
    "$$"
   ]
  },
  {
   "cell_type": "markdown",
   "id": "1dbfa0bd",
   "metadata": {},
   "source": [
    "##### rule1 .同じものを含むと0になる"
   ]
  },
  {
   "cell_type": "markdown",
   "id": "fc99fd34",
   "metadata": {},
   "source": [
    "$$ \n",
    "\\begin{vmatrix}\n",
    "\\vec{v_1} \\\\ \\vec{v_2} \\\\ \\vec{v_3}\n",
    "\\end{vmatrix}\n",
    " = 0\n",
    "$$"
   ]
  },
  {
   "cell_type": "markdown",
   "id": "92394c0e",
   "metadata": {},
   "source": [
    "##### rule 2 .１つのベクトルがλ倍されると行列式はλ倍される"
   ]
  },
  {
   "cell_type": "markdown",
   "id": "793a4e88",
   "metadata": {},
   "source": [
    "$$ \n",
    "\\begin{vmatrix}\n",
    "\\vec{v_1} \\\\ \\vec{v_2} \\\\ \\vec{v_3}\n",
    "\\end{vmatrix}\n",
    " = \n",
    "\\lambda\n",
    "\\begin{vmatrix}\n",
    "\\vec{v_1} \\\\ \\vec{v_2} \\\\ \\vec{v_3}\n",
    "\\end{vmatrix}\n",
    "$$"
   ]
  },
  {
   "cell_type": "markdown",
   "id": "8db5e11c",
   "metadata": {},
   "source": [
    "##### rule 3.１つのベクトルがλ倍されると行列式はλ倍される"
   ]
  },
  {
   "cell_type": "markdown",
   "id": "ad070da4",
   "metadata": {},
   "source": [
    "$$ \n",
    "\\begin{vmatrix}\n",
    "\\vec{v_1} \\\\ \\vec{v_2} + \\vec{w}  \\\\ \\vec{v_3}\n",
    "\\end{vmatrix}\n",
    " = \n",
    "\\begin{vmatrix}\n",
    "\\vec{v_1} \\\\ \\vec{v_2} \\\\ \\vec{v_3}\n",
    "\\end{vmatrix}\n",
    "+ \n",
    "\\begin{vmatrix}\n",
    "\\vec{v_1} \\\\ \\vec{w} \\\\ \\vec{v_3}\n",
    "\\end{vmatrix}\n",
    "$$"
   ]
  },
  {
   "cell_type": "markdown",
   "id": "d4b4b8e1",
   "metadata": {},
   "source": [
    "##### rule 4.行を入れ替えると符号が変わる"
   ]
  },
  {
   "cell_type": "markdown",
   "id": "671e0cfd",
   "metadata": {},
   "source": [
    "$$ \n",
    "\\begin{vmatrix}\n",
    "\\vec{v_1} \\\\ \\vec{v_2} \\\\  \\vec{v_3}  \\\\ \\vec{v_4}\n",
    "\\end{vmatrix}\n",
    " = -\n",
    "\\begin{vmatrix}\n",
    "\\vec{v_1} \\\\ \\vec{v_3} \\\\ \\vec{v_2} \\\\ \\vec{v_4}\n",
    "\\end{vmatrix}\n",
    "$$"
   ]
  },
  {
   "cell_type": "markdown",
   "id": "c93656e4",
   "metadata": {},
   "source": [
    "##### rule 5. 3x3の行列式の和を2x2の行列式の和に変換"
   ]
  },
  {
   "cell_type": "markdown",
   "id": "0c1160b8",
   "metadata": {},
   "source": [
    "$$ \n",
    "\\begin{vmatrix}\n",
    "\\vec{v_1} \\\\ \\vec{v_2} \\\\  \\vec{v_3} \n",
    "\\end{vmatrix}\n",
    "= \n",
    "\\begin{vmatrix}\n",
    "a & b & c \\\\ d & e & f \\\\ g & h & i\n",
    "\\end{vmatrix}\n",
    "$$"
   ]
  },
  {
   "cell_type": "markdown",
   "id": "95721b8d",
   "metadata": {},
   "source": [
    "$$\n",
    "=\n",
    "\\begin{vmatrix}\n",
    "a & b & c \\\\ 0 & e & f \\\\ 0 & h & i\n",
    "\\end{vmatrix}\n",
    "+\n",
    "\\begin{vmatrix}\n",
    "0 & b & c \\\\ d & e & f \\\\ 0 & h & i\n",
    "\\end{vmatrix}\n",
    "+\n",
    "\\begin{vmatrix}\n",
    "0 & b & c \\\\ 0 & e & f \\\\ g & h & i\n",
    "\\end{vmatrix}\n",
    "$$"
   ]
  },
  {
   "cell_type": "markdown",
   "id": "8ab3a60a",
   "metadata": {},
   "source": [
    "$$\n",
    "=\n",
    "a\n",
    "\\begin{vmatrix}\n",
    " e & f \\\\  h & i\n",
    "\\end{vmatrix}\n",
    "- d \n",
    "\\begin{vmatrix}\n",
    "b & c \\\\ h & i\n",
    "\\end{vmatrix}\n",
    "+ g \n",
    "\\begin{vmatrix}\n",
    "b & c \\\\ e & f \n",
    "\\end{vmatrix}\n",
    "$$"
   ]
  },
  {
   "cell_type": "markdown",
   "id": "a74f0516",
   "metadata": {},
   "source": [
    "#### 1.1.9 固有値と固有ベクトル"
   ]
  },
  {
   "cell_type": "markdown",
   "id": "ade79ab5",
   "metadata": {},
   "source": [
    "##### A $\\vec{x} $ = λ$\\vec{x} $ \n",
    "\n",
    "##### 行列Aとその特殊なベクトル $\\vec{x} $の積はただのスカラ―の数λとその特殊なベクトルと同じ値になる。\n",
    "##### この場合、を固有ベクトルと呼び、$ \\lambda $ を固有値という。"
   ]
  },
  {
   "cell_type": "markdown",
   "id": "97f5bbed",
   "metadata": {},
   "source": [
    "$$\n",
    "\\left(\n",
    "    \\begin{matrix} \n",
    "1 & 2 \\\\ 3 & 4\n",
    "\\end{matrix} \n",
    "\\right)\n",
    "\\left(\n",
    "    \\begin{matrix} \n",
    "1 \\\\ 1 \n",
    "\\end{matrix} \n",
    "\\right)\n",
    " =\n",
    "\\left(\n",
    "    \\begin{matrix} \n",
    "    5 \\\\ 5 \n",
    "\\end{matrix} \n",
    "\\right)\n",
    "$$"
   ]
  },
  {
   "cell_type": "markdown",
   "id": "1d318036",
   "metadata": {},
   "source": [
    "##### 固有値 $\\lambda$ = 5 , 固有ベクトル\n",
    "$$\n",
    "\\vec{x}= \n",
    "\\left(\n",
    "    \\begin{matrix} \n",
    "    1 \\\\ 1 \n",
    "\\end{matrix} \n",
    "\\right)\n",
    "$$"
   ]
  },
  {
   "cell_type": "markdown",
   "id": "4cc6b4fc",
   "metadata": {},
   "source": [
    "##### 固有値と固有ベクトルの求め方"
   ]
  },
  {
   "cell_type": "markdown",
   "id": "2f0551eb",
   "metadata": {},
   "source": [
    " $  A \\vec{x} = \\lambda \\vec{x} $"
   ]
  },
  {
   "cell_type": "markdown",
   "id": "e8da9304",
   "metadata": {},
   "source": [
    "$ ( A - \\lambda　I)   \\vec{x} =\\vec{0} $"
   ]
  },
  {
   "cell_type": "markdown",
   "id": "7c656265",
   "metadata": {},
   "source": [
    "#####  I:単位行列 "
   ]
  },
  {
   "cell_type": "markdown",
   "id": "42ace652",
   "metadata": {},
   "source": [
    "##### 固有値と固有ベクトルの求め方$ \\\\  $  A $\\vec{x}  = \\lambda \\vec{x} $"
   ]
  },
  {
   "cell_type": "markdown",
   "id": "f6e5f449",
   "metadata": {},
   "source": [
    "$( A - \\lambda I)  \\vec{x}  = \\vec{0} $ "
   ]
  },
  {
   "cell_type": "markdown",
   "id": "42b74fb0",
   "metadata": {},
   "source": [
    "$$ \n",
    "\\begin{vmatrix}\n",
    "A - \\lambda I\n",
    "\\end{vmatrix}\n",
    " = 0\n",
    "$$"
   ]
  },
  {
   "cell_type": "markdown",
   "id": "86b84503",
   "metadata": {},
   "source": [
    "$$ \n",
    "\\begin{vmatrix}\n",
    "1 - \\lambda I & 4 \\\\ 2 & 3- \\lambda\n",
    "\\end{vmatrix}\n",
    " = 0\n",
    "$$"
   ]
  },
  {
   "cell_type": "markdown",
   "id": "37b2bf2a",
   "metadata": {},
   "source": [
    "$$\n",
    "\\left(\n",
    "    \\begin{matrix} \n",
    "1 & 4 \\\\ 2 & 3\n",
    "\\end{matrix} \n",
    "\\right)\n",
    "\\left(\n",
    "    \\begin{matrix} \n",
    "x_1 \\\\ x_2  \n",
    "\\end{matrix} \n",
    "\\right)\n",
    " = 5 \n",
    "\\left(\n",
    "    \\begin{matrix} \n",
    "   x_1 \\\\ x_2\n",
    "\\end{matrix} \n",
    "\\right)\n",
    "$$\n",
    "$$\n",
    "\\downarrow\n",
    "$$\n",
    "$$\n",
    "\\left(\n",
    "    \\begin{matrix} \n",
    " x_1 + 4 x_2 \\\\ 2x1 + 3x_2\n",
    "\\end{matrix} \n",
    "\\right)\n",
    " = 5 \n",
    "\\left(\n",
    "    \\begin{matrix} \n",
    "   x_1 \\\\ x_2\n",
    "\\end{matrix} \n",
    "\\right)\n",
    "$$\n",
    "$$\n",
    "\\downarrow\n",
    "$$\n",
    "$$\n",
    "\\left(\n",
    "    \\begin{matrix} \n",
    " x_1 + 4 x_2 \\\\ 2x1 + 3x_2\n",
    "\\end{matrix} \n",
    "\\right)\n",
    " = 5 \n",
    "\\left(\n",
    "    \\begin{matrix} \n",
    "   x_1 \\\\ x_2\n",
    "\\end{matrix} \n",
    "\\right)\n",
    "$$\n",
    "$$\n",
    "\\downarrow\n",
    "$$\n",
    "$$\n",
    "\\left(\n",
    "    \\begin{matrix} \n",
    " 1 & 4 \\\\ 2 & 3\n",
    "\\end{matrix} \n",
    "\\right) \n",
    "\\left(\n",
    "    \\begin{matrix} \n",
    "   x_1 \\\\ x_2\n",
    "\\end{matrix} \n",
    "\\right)\n",
    "= -1 \n",
    "\\left(\n",
    "    \\begin{matrix} \n",
    "   x_1 \\\\ x_2\n",
    "\\end{matrix} \n",
    "\\right)\n",
    "$$"
   ]
  },
  {
   "cell_type": "markdown",
   "id": "a8ec293d",
   "metadata": {},
   "source": [
    "比率までしか、わからない。"
   ]
  },
  {
   "cell_type": "markdown",
   "id": "57ce708b",
   "metadata": {},
   "source": [
    "固有値が先に求まる。"
   ]
  },
  {
   "cell_type": "markdown",
   "id": "b198ed9d",
   "metadata": {},
   "source": [
    "3 x 3の行列式の固有値、固有ベクトルの求め方\n",
    "$$\n",
    "\\left(\n",
    "    \\begin{matrix} \n",
    "3 & 2 & 0 \\\\ 0 & 2 & 0 \\\\ 0 & 0 & 1\n",
    "\\end{matrix} \n",
    "\\right)\n",
    "$$"
   ]
  },
  {
   "cell_type": "markdown",
   "id": "29f6245f",
   "metadata": {},
   "source": [
    "$$\n",
    "\\begin{vmatrix}\n",
    "3 - \\lambda & 2 & 0 \\\\ 0 & 2 - \\lambda & 0 \\\\ 0 & 0 & 1 - \\lambda \n",
    "\\end{vmatrix}\n",
    "= 0\n",
    "$$"
   ]
  },
  {
   "cell_type": "markdown",
   "id": "ba425dc4",
   "metadata": {},
   "source": [
    "(3 - λ) (2  - λ)(1 - λ) = 0"
   ]
  },
  {
   "cell_type": "markdown",
   "id": "f02b3c2d",
   "metadata": {},
   "source": [
    "固有値(λ）は　３，２，１"
   ]
  },
  {
   "cell_type": "markdown",
   "id": "f6c4381e",
   "metadata": {},
   "source": [
    "$$\n",
    "\\left(\n",
    "    \\begin{matrix} \n",
    "3 & 2 & 0 \\\\ 0 & 2 & 0 \\\\ 0 & 0 & 1\n",
    "\\end{matrix} \n",
    "\\right)\n",
    "\\left(\n",
    "    \\begin{matrix} \n",
    "x_1 \\\\ x_2 \\\\ x_3\n",
    "\\end{matrix} \n",
    "\\right)\n",
    " = \n",
    "3\n",
    "\\left(\n",
    "    \\begin{matrix} \n",
    "x_1 \\\\ x_2 \\\\ x_3\n",
    "\\end{matrix} \n",
    "\\right)\n",
    "  \\begin{align}\n",
    "    &\\begin{split} \n",
    "  3x_1 + 2x_2 = 3x_1 \\\\ 2x_2 = 3x_2  \\\\x_3 = 3x_3\n",
    "\\end{split}\n",
    "\\end{align}\n",
    "$$"
   ]
  },
  {
   "cell_type": "markdown",
   "id": "ec4bfe66",
   "metadata": {},
   "source": [
    "##### λ =3 &emsp;&emsp;&emsp;&emsp;"
   ]
  },
  {
   "cell_type": "markdown",
   "id": "0c5ac2cc",
   "metadata": {},
   "source": [
    "$\\vec{x} =\n",
    "\\left(    \n",
    "\\begin{matrix} \n",
    "1 \\\\ 0\n",
    "\\end{matrix} \n",
    "\\right)\n",
    "$"
   ]
  },
  {
   "cell_type": "markdown",
   "id": "ad382fa8",
   "metadata": {},
   "source": [
    "##### λ =2 &emsp;&emsp;&emsp;&emsp; "
   ]
  },
  {
   "cell_type": "markdown",
   "id": "1962b79b",
   "metadata": {},
   "source": [
    "$\\vec{x} =\n",
    "\\left(    \n",
    "\\begin{matrix} \n",
    "2 \\\\ 0\n",
    "\\end{matrix} \n",
    "\\right)\n",
    "$"
   ]
  },
  {
   "cell_type": "markdown",
   "id": "3fa9b082",
   "metadata": {},
   "source": [
    "##### λ =1 &emsp;&emsp;&emsp;&emsp;"
   ]
  },
  {
   "cell_type": "markdown",
   "id": "84afd45a",
   "metadata": {},
   "source": [
    "$\n",
    "\\vec{x} =\n",
    "\\left(    \n",
    "\\begin{matrix} \n",
    "0 \\\\ 1\n",
    "\\end{matrix} \n",
    "\\right)\n",
    "$"
   ]
  },
  {
   "cell_type": "markdown",
   "id": "15bd8817",
   "metadata": {},
   "source": [
    "##### 上記ベクトルの定数倍となる。"
   ]
  },
  {
   "cell_type": "markdown",
   "id": "4a740db6",
   "metadata": {},
   "source": [
    "#### 1.1.10 固有値分解"
   ]
  },
  {
   "cell_type": "markdown",
   "id": "5a440e05",
   "metadata": {},
   "source": [
    "$$\n",
    "A=\\begin{pmatrix}\n",
    "\\lambda_{1} & 0      & \\cdots & \\cdots & \\cdots\\\\\n",
    "0      & \\lambda_{2} & 0      & \\cdots & \\cdots\\\\\n",
    "0 & \\cdots & \\lambda_{3} & 0      & \\cdots\\\\\n",
    "0 & \\cdots & \\cdots  & \\lambda_{4} & 0    \\\\\n",
    "0 & \\cdots & \\cdots  & \\cdots & \\lambda_{5} \\\\\n",
    "\\end{pmatrix}\n",
    ", V=\n",
    "\\left(\n",
    "    \\begin{matrix} \n",
    "   \\vec{v_1} &  \\vec{v_1} & \\cdots \\\\ \n",
    "\\end{matrix} \n",
    "\\right)\n",
    "$$\n"
   ]
  },
  {
   "cell_type": "markdown",
   "id": "6e93d25f",
   "metadata": {},
   "source": [
    "##### 分解することで、似ているものを探す"
   ]
  },
  {
   "cell_type": "markdown",
   "id": "4fc7d3e2",
   "metadata": {},
   "source": [
    "$ AV = VA $\n",
    "$ A = VAV^{-1} $"
   ]
  },
  {
   "cell_type": "markdown",
   "id": "207b2768",
   "metadata": {},
   "source": [
    "##### *1 ： $ V^{-1}$は逆行列"
   ]
  },
  {
   "cell_type": "markdown",
   "id": "61a56a2b",
   "metadata": {},
   "source": [
    "固有値分解の具体例"
   ]
  },
  {
   "cell_type": "markdown",
   "id": "f5591125",
   "metadata": {},
   "source": [
    "$$\n",
    "\\left(\n",
    "    \\begin{matrix} \n",
    "1 & 2 \\\\ 3 & 4\n",
    "\\end{matrix} \n",
    "\\right)\n",
    "=\n",
    "\\left(\n",
    "    \\begin{matrix} \n",
    "1 & 1 \\\\ 1 &  - \\frac{1}{2}\n",
    "\\end{matrix} \n",
    "\\right)\n",
    "\\left(\n",
    "    \\begin{matrix} \n",
    "5 & 0 \\\\ 0 & -1\n",
    "\\end{matrix} \n",
    "\\right)\n",
    "\\left(\n",
    "    \\begin{matrix} \n",
    "\\frac{1}{3} & \\frac{2}{3}  \\\\ \\frac{2}{3}  & -\\frac{2}{3} \n",
    "\\end{matrix} \n",
    "\\right)\n",
    "$$"
   ]
  },
  {
   "cell_type": "markdown",
   "id": "6deba863",
   "metadata": {},
   "source": [
    "#### 1.1.11 特異値分解"
   ]
  },
  {
   "cell_type": "markdown",
   "id": "5a92aca7",
   "metadata": {},
   "source": [
    "&emsp;&emsp;$M \\vec{\\upsilon} = \\sigma  \\vec{\\upsilon} $"
   ]
  },
  {
   "cell_type": "markdown",
   "id": "a07b0a6d",
   "metadata": {},
   "source": [
    "&emsp;&emsp;$M^\\top \\vec{\\upsilon} = \\sigma  \\vec{\\upsilon} $"
   ]
  },
  {
   "cell_type": "markdown",
   "id": "9ec77d8b",
   "metadata": {},
   "source": [
    "$M^\\top:$ Mの転置（行と列をひっくり返す)固有値が先に求まる。"
   ]
  },
  {
   "cell_type": "markdown",
   "id": "742dd1d2",
   "metadata": {},
   "source": [
    "&emsp;&emsp;$M= \\vec{\\upsilon} S \\vec{\\upsilon}^\\top $"
   ]
  },
  {
   "cell_type": "markdown",
   "id": "dbe680ab",
   "metadata": {},
   "source": [
    "特殊な単位ベクトルが有れば特異値分解出来る"
   ]
  },
  {
   "cell_type": "markdown",
   "id": "fce4a3d7",
   "metadata": {},
   "source": [
    "#### 1.1.12 特異値の求め方"
   ]
  },
  {
   "cell_type": "markdown",
   "id": "17ff2a6a",
   "metadata": {},
   "source": [
    "$ M M^\\top$を固有値分解すれば、その左特異ベクトルと特異値の項が求められる "
   ]
  },
  {
   "cell_type": "markdown",
   "id": "a23fca59",
   "metadata": {},
   "source": [
    "具体例："
   ]
  },
  {
   "cell_type": "markdown",
   "id": "58852b68",
   "metadata": {},
   "source": [
    "$$\n",
    "M = \n",
    "\\left(\n",
    "    \\begin{matrix} \n",
    "1 & 2 & 3  \\\\ 3 & 2 & 1\n",
    "\\end{matrix} \n",
    "\\right)\n",
    ", M M^\\top =\n",
    "\\left(\n",
    "    \\begin{matrix} \n",
    "1 & 2 & 3  \\\\ 3 & 2 & 1\n",
    "\\end{matrix} \n",
    "\\right)\n",
    "\\left(\n",
    "    \\begin{matrix} \n",
    "1 & 3  \\\\ 2& 2 \\\\ 3 & 1\n",
    "\\end{matrix} \n",
    "\\right)\n",
    "=\n",
    "\\left(\n",
    "    \\begin{matrix} \n",
    "14 & 10 \\\\ 10 & 14\n",
    "\\end{matrix} \n",
    "\\right)\n",
    "$$"
   ]
  },
  {
   "cell_type": "markdown",
   "id": "761c0348",
   "metadata": {},
   "source": [
    "$$\n",
    "\\left(\n",
    "    \\begin{matrix} \n",
    "14 & 10\\\\ 10 & 14\n",
    "\\end{matrix} \n",
    "\\right)\n",
    " =\n",
    "\\left(\n",
    "    \\begin{matrix} \n",
    "\\frac{1}{\\sqrt{2}}  & - \\frac{1}{\\sqrt{2}}    \\\\ \\frac{1}{\\sqrt{2}}  & \\frac{1}{\\sqrt{2}} \n",
    "\\end{matrix} \n",
    "\\right)\n",
    "\\left(\n",
    "    \\begin{matrix} \n",
    "24 & 0  \\\\ 0 & 24\n",
    "\\end{matrix} \n",
    "\\right)\n",
    "\\left(\n",
    "    \\begin{matrix} \n",
    "\\frac{1}{\\sqrt{2}}  & - \\frac{1}{\\sqrt{2}}    \\\\ \\frac{1}{\\sqrt{2}}  & \\frac{1}{\\sqrt{2}} \n",
    "\\end{matrix} \n",
    "\\right)\n",
    "$$"
   ]
  },
  {
   "cell_type": "markdown",
   "id": "05d601ae",
   "metadata": {},
   "source": [
    "$$\n",
    "\\left(\n",
    "    \\begin{matrix} \n",
    "14 & 10\\\\ 10 & 14\n",
    "\\end{matrix} \n",
    "\\right)\n",
    "\\rightarrow\n",
    "\\begin{vmatrix}\n",
    "14 - \\lambda & 10 \\\\ 10 & 14 - \\lambda\n",
    "\\end{vmatrix}\n",
    " = 0\n",
    "$$"
   ]
  },
  {
   "cell_type": "markdown",
   "id": "05156783",
   "metadata": {},
   "source": [
    "# 2.確率・統計"
   ]
  },
  {
   "cell_type": "markdown",
   "id": "f9fb2806",
   "metadata": {},
   "source": [
    "## 2.1 統計学\n",
    "### 学習目標：統計学を読めるように\n",
    "#### 2.1.1 集合\n",
    "#### &emsp;&emsp;「集合」とはものの集まり。\n",
    "###### &emsp;&emsp;　集合：　$S=\\{a,b,c,d,e,f,g \\} $"
   ]
  },
  {
   "cell_type": "markdown",
   "id": "9aefda15",
   "metadata": {},
   "source": [
    "集合」の「要素」同士は、明確に区別出来る"
   ]
  },
  {
   "cell_type": "markdown",
   "id": "0799adfe",
   "metadata": {},
   "source": [
    " &emsp;&emsp;&emsp;&emsp; $ a \\in S $ "
   ]
  },
  {
   "cell_type": "markdown",
   "id": "a98bddf6",
   "metadata": {},
   "source": [
    " &emsp;&emsp;&emsp;&emsp; $ b \\in S $"
   ]
  },
  {
   "cell_type": "markdown",
   "id": "edee1409",
   "metadata": {},
   "source": [
    " &emsp;&emsp;&emsp;&emsp;&emsp; $ \\uparrow　$"
   ]
  },
  {
   "cell_type": "markdown",
   "id": "9864b204",
   "metadata": {},
   "source": [
    " Sの要素の一つ"
   ]
  },
  {
   "cell_type": "markdown",
   "id": "2f478b3e",
   "metadata": {},
   "source": [
    "##### 2.1.2 和集合と共通部分"
   ]
  },
  {
   "cell_type": "markdown",
   "id": "8d1cfaed",
   "metadata": {},
   "source": [
    "和集合\n",
    "$ A \\cup B $"
   ]
  },
  {
   "cell_type": "code",
   "execution_count": 15,
   "id": "bf6ce92f",
   "metadata": {},
   "outputs": [
    {
     "name": "stdout",
     "output_type": "stream",
     "text": [
      "Requirement already satisfied: matplotlib-venn in d:\\anaconda\\lib\\site-packages (0.11.6)\n",
      "Requirement already satisfied: scipy in d:\\anaconda\\lib\\site-packages (from matplotlib-venn) (1.6.2)\n",
      "Requirement already satisfied: matplotlib in d:\\anaconda\\lib\\site-packages (from matplotlib-venn) (3.3.4)\n",
      "Requirement already satisfied: numpy in d:\\anaconda\\lib\\site-packages (from matplotlib-venn) (1.20.1)\n",
      "Requirement already satisfied: python-dateutil>=2.1 in d:\\anaconda\\lib\\site-packages (from matplotlib->matplotlib-venn) (2.8.1)\n",
      "Requirement already satisfied: kiwisolver>=1.0.1 in d:\\anaconda\\lib\\site-packages (from matplotlib->matplotlib-venn) (1.3.1)\n",
      "Requirement already satisfied: pillow>=6.2.0 in d:\\anaconda\\lib\\site-packages (from matplotlib->matplotlib-venn) (8.2.0)\n",
      "Requirement already satisfied: cycler>=0.10 in d:\\anaconda\\lib\\site-packages (from matplotlib->matplotlib-venn) (0.10.0)\n",
      "Requirement already satisfied: pyparsing!=2.0.4,!=2.1.2,!=2.1.6,>=2.0.3 in d:\\anaconda\\lib\\site-packages (from matplotlib->matplotlib-venn) (2.4.7)\n",
      "Requirement already satisfied: six in d:\\anaconda\\lib\\site-packages (from cycler>=0.10->matplotlib->matplotlib-venn) (1.15.0)\n"
     ]
    },
    {
     "data": {
      "image/png": "[encoded data removed]",
      "text/plain": [
       "<Figure size 432x288 with 1 Axes>"
      ]
     },
     "metadata": {},
     "output_type": "display_data"
    }
   ],
   "source": [
    "!pip3 install matplotlib-venn\n",
    "from matplotlib_venn import venn2\n",
    "from matplotlib import pyplot\n",
    "v = venn2(subsets=(3, 3, 3))\n",
    "# ベン図の色を変更する   \n",
    "v.get_patch_by_id('10').set_color('skyblue')\n",
    "v.get_patch_by_id('10').set_edgecolor('black')\n",
    "v.get_patch_by_id('11').set_color('skyblue')\n",
    "v.get_patch_by_id('11').set_edgecolor('black')\n",
    "v.get_patch_by_id('01').set_color('skyblue')\n",
    "v.get_patch_by_id('01').set_edgecolor('black')\n",
    "\n",
    "\n",
    "# 背景色を変更する\n",
    "pyplot.gca().set_axis_on()\n",
    "pyplot.gca().set_facecolor('white')\n",
    "pyplot.show()"
   ]
  },
  {
   "cell_type": "markdown",
   "id": "fab37f68",
   "metadata": {},
   "source": [
    "共通部分\n",
    "$ A \\cap B $"
   ]
  },
  {
   "cell_type": "code",
   "execution_count": 19,
   "id": "b386cbed",
   "metadata": {},
   "outputs": [
    {
     "name": "stdout",
     "output_type": "stream",
     "text": [
      "Requirement already satisfied: matplotlib-venn in d:\\anaconda\\lib\\site-packages (0.11.6)\n",
      "Requirement already satisfied: numpy in d:\\anaconda\\lib\\site-packages (from matplotlib-venn) (1.20.1)\n",
      "Requirement already satisfied: matplotlib in d:\\anaconda\\lib\\site-packages (from matplotlib-venn) (3.3.4)\n",
      "Requirement already satisfied: scipy in d:\\anaconda\\lib\\site-packages (from matplotlib-venn) (1.6.2)\n",
      "Requirement already satisfied: pyparsing!=2.0.4,!=2.1.2,!=2.1.6,>=2.0.3 in d:\\anaconda\\lib\\site-packages (from matplotlib->matplotlib-venn) (2.4.7)\n",
      "Requirement already satisfied: python-dateutil>=2.1 in d:\\anaconda\\lib\\site-packages (from matplotlib->matplotlib-venn) (2.8.1)\n",
      "Requirement already satisfied: cycler>=0.10 in d:\\anaconda\\lib\\site-packages (from matplotlib->matplotlib-venn) (0.10.0)\n",
      "Requirement already satisfied: pillow>=6.2.0 in d:\\anaconda\\lib\\site-packages (from matplotlib->matplotlib-venn) (8.2.0)\n",
      "Requirement already satisfied: kiwisolver>=1.0.1 in d:\\anaconda\\lib\\site-packages (from matplotlib->matplotlib-venn) (1.3.1)\n",
      "Requirement already satisfied: six in d:\\anaconda\\lib\\site-packages (from cycler>=0.10->matplotlib->matplotlib-venn) (1.15.0)\n"
     ]
    },
    {
     "data": {
      "image/png": "[encoded data removed]",
      "text/plain": [
       "<Figure size 432x288 with 1 Axes>"
      ]
     },
     "metadata": {},
     "output_type": "display_data"
    }
   ],
   "source": [
    "!pip3 install matplotlib-venn\n",
    "from matplotlib_venn import venn2\n",
    "from matplotlib import pyplot\n",
    "v = venn2(subsets=(2, 2, 1))\n",
    "# ベン図の色を変更する   \n",
    "v.get_patch_by_id('10').set_color('white')\n",
    "v.get_patch_by_id('10').set_edgecolor('black')\n",
    "v.get_patch_by_id('11').set_color('skyblue')\n",
    "v.get_patch_by_id('11').set_edgecolor('black')\n",
    "v.get_patch_by_id('01').set_color('white')\n",
    "v.get_patch_by_id('01').set_edgecolor('black')\n",
    "\n",
    "\n",
    "# 背景色を変更する\n",
    "pyplot.gca().set_axis_on()\n",
    "pyplot.gca().set_facecolor('white')\n",
    "pyplot.show()"
   ]
  },
  {
   "cell_type": "markdown",
   "id": "7b749903",
   "metadata": {},
   "source": [
    "絶対補　　：\n",
    "$ U \\setminus A  = \\bar{A}  $"
   ]
  },
  {
   "cell_type": "markdown",
   "id": "9327076b",
   "metadata": {},
   "source": [
    "\"補\" =それ以外 "
   ]
  },
  {
   "cell_type": "code",
   "execution_count": 27,
   "id": "c00118f0",
   "metadata": {},
   "outputs": [
    {
     "name": "stdout",
     "output_type": "stream",
     "text": [
      "Requirement already satisfied: matplotlib-venn in d:\\anaconda\\lib\\site-packages (0.11.6)\n",
      "Requirement already satisfied: scipy in d:\\anaconda\\lib\\site-packages (from matplotlib-venn) (1.6.2)\n",
      "Requirement already satisfied: matplotlib in d:\\anaconda\\lib\\site-packages (from matplotlib-venn) (3.3.4)\n",
      "Requirement already satisfied: numpy in d:\\anaconda\\lib\\site-packages (from matplotlib-venn) (1.20.1)\n",
      "Requirement already satisfied: kiwisolver>=1.0.1 in d:\\anaconda\\lib\\site-packages (from matplotlib->matplotlib-venn) (1.3.1)\n",
      "Requirement already satisfied: pyparsing!=2.0.4,!=2.1.2,!=2.1.6,>=2.0.3 in d:\\anaconda\\lib\\site-packages (from matplotlib->matplotlib-venn) (2.4.7)\n",
      "Requirement already satisfied: pillow>=6.2.0 in d:\\anaconda\\lib\\site-packages (from matplotlib->matplotlib-venn) (8.2.0)\n",
      "Requirement already satisfied: python-dateutil>=2.1 in d:\\anaconda\\lib\\site-packages (from matplotlib->matplotlib-venn) (2.8.1)\n",
      "Requirement already satisfied: cycler>=0.10 in d:\\anaconda\\lib\\site-packages (from matplotlib->matplotlib-venn) (0.10.0)\n",
      "Requirement already satisfied: six in d:\\anaconda\\lib\\site-packages (from cycler>=0.10->matplotlib->matplotlib-venn) (1.15.0)\n"
     ]
    },
    {
     "data": {
      "image/png": "[encoded data removed]",
      "text/plain": [
       "<Figure size 432x288 with 1 Axes>"
      ]
     },
     "metadata": {},
     "output_type": "display_data"
    }
   ],
   "source": [
    "!pip3 install matplotlib-venn\n",
    "from matplotlib_venn import venn2\n",
    "from matplotlib import pyplot\n",
    "v = venn2(subsets=(2, 2, 2))\n",
    "# ベン図の色を変更する   \n",
    "v.get_patch_by_id('01').set_color('skyblue')\n",
    "v.get_patch_by_id('01').set_edgecolor('black')\n",
    "v.get_patch_by_id('10').set_color('white')\n",
    "v.get_patch_by_id('10').set_edgecolor('black')\n",
    "v.get_patch_by_id('11').set_color('white')\n",
    "v.get_patch_by_id('11').set_edgecolor('black')\n",
    "\n",
    "\n",
    "\n",
    "# 背景色を変更する\n",
    "pyplot.gca().set_axis_on()\n",
    "pyplot.gca().set_facecolor('skyblue')\n",
    "pyplot.show()"
   ]
  },
  {
   "cell_type": "markdown",
   "id": "fe010d5b",
   "metadata": {},
   "source": [
    "相対補　　：\n",
    "$ B \\setminus A    $"
   ]
  },
  {
   "cell_type": "code",
   "execution_count": 29,
   "id": "b941d518",
   "metadata": {},
   "outputs": [
    {
     "name": "stdout",
     "output_type": "stream",
     "text": [
      "Requirement already satisfied: matplotlib-venn in d:\\anaconda\\lib\\site-packages (0.11.6)\n",
      "Requirement already satisfied: matplotlib in d:\\anaconda\\lib\\site-packages (from matplotlib-venn) (3.3.4)\n",
      "Requirement already satisfied: scipy in d:\\anaconda\\lib\\site-packages (from matplotlib-venn) (1.6.2)\n",
      "Requirement already satisfied: numpy in d:\\anaconda\\lib\\site-packages (from matplotlib-venn) (1.20.1)\n",
      "Requirement already satisfied: kiwisolver>=1.0.1 in d:\\anaconda\\lib\\site-packages (from matplotlib->matplotlib-venn) (1.3.1)\n",
      "Requirement already satisfied: pyparsing!=2.0.4,!=2.1.2,!=2.1.6,>=2.0.3 in d:\\anaconda\\lib\\site-packages (from matplotlib->matplotlib-venn) (2.4.7)\n",
      "Requirement already satisfied: python-dateutil>=2.1 in d:\\anaconda\\lib\\site-packages (from matplotlib->matplotlib-venn) (2.8.1)\n",
      "Requirement already satisfied: cycler>=0.10 in d:\\anaconda\\lib\\site-packages (from matplotlib->matplotlib-venn) (0.10.0)\n",
      "Requirement already satisfied: pillow>=6.2.0 in d:\\anaconda\\lib\\site-packages (from matplotlib->matplotlib-venn) (8.2.0)\n",
      "Requirement already satisfied: six in d:\\anaconda\\lib\\site-packages (from cycler>=0.10->matplotlib->matplotlib-venn) (1.15.0)\n"
     ]
    },
    {
     "data": {
      "image/png": "[encoded data removed]",
      "text/plain": [
       "<Figure size 432x288 with 1 Axes>"
      ]
     },
     "metadata": {},
     "output_type": "display_data"
    }
   ],
   "source": [
    "!pip3 install matplotlib-venn\n",
    "from matplotlib_venn import venn2\n",
    "from matplotlib import pyplot\n",
    "v = venn2(subsets=(2, 2, 2))\n",
    "# ベン図の色を変更する   \n",
    "v.get_patch_by_id('01').set_color('skyblue')\n",
    "v.get_patch_by_id('01').set_edgecolor('black')\n",
    "v.get_patch_by_id('10').set_color('white')\n",
    "v.get_patch_by_id('10').set_edgecolor('black')\n",
    "v.get_patch_by_id('11').set_color('white')\n",
    "v.get_patch_by_id('11').set_edgecolor('black')\n",
    "\n",
    "\n",
    "\n",
    "# 背景色を変更する\n",
    "pyplot.gca().set_axis_on()\n",
    "pyplot.gca().set_facecolor('white')\n",
    "pyplot.show()"
   ]
  },
  {
   "cell_type": "markdown",
   "id": "05dcf900",
   "metadata": {},
   "source": [
    "$ \\overline{A\\cup B}$"
   ]
  },
  {
   "cell_type": "markdown",
   "id": "18613a3c",
   "metadata": {},
   "source": [
    "#### 2.2 確率"
   ]
  },
  {
   "cell_type": "markdown",
   "id": "e76fe7b6",
   "metadata": {},
   "source": [
    "#### &emsp;&emsp; 確率には以下の２種類がある。\n",
    "#### &emsp;&emsp;&emsp;&emsp;頻度確率(客観確率)\n",
    "#### &emsp;&emsp;&emsp;&emsp;&emsp; ・発生する頻度\n",
    "##### &emsp;&emsp;&emsp;&emsp;&emsp; &emsp; cf. くじ引き\n",
    "#### &emsp;&emsp;&emsp;&emsp;ベイズ確率(主観確率)\n",
    "#### &emsp;&emsp;&emsp;&emsp;&emsp; ・信念の度合い\n",
    "##### &emsp;&emsp;&emsp;&emsp;&emsp;&emsp;  cf. インフルエンザの可能性\n"
   ]
  },
  {
   "cell_type": "markdown",
   "id": "d387aa62",
   "metadata": {},
   "source": [
    "#### 2.2.1 確率の定義"
   ]
  }
 ],
 "metadata": {
  "kernelspec": {
   "display_name": "Python 3",
   "language": "python",
   "name": "python3"
  },
  "language_info": {
   "codemirror_mode": {
    "name": "ipython",
    "version": 3
   },
   "file_extension": ".py",
   "mimetype": "text/x-python",
   "name": "python",
   "nbconvert_exporter": "python",
   "pygments_lexer": "ipython3",
   "version": "3.8.8"
  }
 },
 "nbformat": 4,
 "nbformat_minor": 5
}
